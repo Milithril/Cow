{
 "cells": [
  {
   "cell_type": "markdown",
   "metadata": {
    "id": "bPV-6xysFeQ1"
   },
   "source": [
    "# Zastosowanie drzew decyzyjnych oraz lasów losowych przy, gdzie y reprezentowany jest przez dane typu ciągłego**\n"
   ]
  },
  {
   "cell_type": "markdown",
   "metadata": {},
   "source": [
    "## 1. Biblioteki"
   ]
  },
  {
   "cell_type": "code",
   "execution_count": 1,
   "metadata": {
    "id": "JJMNYhNp0ejg"
   },
   "outputs": [],
   "source": [
    "import pandas as pd\n",
    "import sklearn.tree\n",
    "import numpy as np\n",
    "\n",
    "from sklearn.metrics import mean_absolute_error, r2_score #funkcje do badania dopasowania modelu\n",
    "import dtreeviz.trees as dtv # importowanie dtreeviz\n",
    "\n",
    "from sklearn.metrics import mean_absolute_error\n",
    "\n",
    "from sklearn.model_selection import train_test_split\n",
    "from sklearn.model_selection import cross_val_score, KFold\n",
    "from sklearn.metrics import mean_absolute_error\n",
    "import matplotlib.pyplot as plt \n",
    "\n",
    "from sklearn.feature_selection import RFECV\n",
    "from sklearn.metrics import make_scorer\n",
    "from sklearn.linear_model import LinearRegression"
   ]
  },
  {
   "cell_type": "markdown",
   "metadata": {},
   "source": [
    "## 2. Wczytuje  i sprawdzam typ danych"
   ]
  },
  {
   "cell_type": "code",
   "execution_count": 2,
   "metadata": {},
   "outputs": [],
   "source": [
    "train_df=pd.read_csv('D:/STUDIA/ROK_II/Projekt/Dane_jalowka_i_krowa_train.csv')\n",
    "test_df=pd.read_csv('D:/STUDIA/ROK_II/Projekt/Dane_jalowka_i_krowa_test.csv')\n",
    "val_df=pd.read_csv('D:/STUDIA/ROK_II/Projekt/Dane_jalowka_i_krowa_val.csv')\n",
    "\n",
    "train_df.columns = ['id','Województwo', 'Data urodzenia', 'IE', 'Dokł. IE', 'PF', 'PI-PROD', 'PI-POKR', 'Prc', 'Psm', 'Pnr', 'Pw','PI-PLOD', 'CRj', 'CRk', 'PP', 'OMC', 'WH-KSOM', 'WH-DLUG', 'IP', 'kg ml', 'kg tł', '% tł', 'kg bi', '% bi', 'rc', 'sm', 'nr', 'w', 'og','kategoria']\n",
    "test_df.columns = ['id','Województwo', 'Data urodzenia', 'IE', 'Dokł. IE', 'PF', 'PI-PROD', 'PI-POKR', 'Prc', 'Psm', 'Pnr', 'Pw','PI-PLOD', 'CRj', 'CRk', 'PP', 'OMC', 'WH-KSOM', 'WH-DLUG', 'IP', 'kg ml', 'kg tł', '% tł', 'kg bi', '% bi', 'rc', 'sm', 'nr', 'w', 'og','kategoria']\n",
    "val_df.columns = ['id','Województwo', 'Data urodzenia', 'IE', 'Dokł. IE', 'PF', 'PI-PROD', 'PI-POKR', 'Prc', 'Psm', 'Pnr', 'Pw','PI-PLOD', 'CRj', 'CRk', 'PP', 'OMC', 'WH-KSOM', 'WH-DLUG', 'IP', 'kg ml', 'kg tł', '% tł', 'kg bi', '% bi', 'rc', 'sm', 'nr', 'w', 'og','kategoria']\n",
    "\n",
    "caly_df = pd.concat([train_df, test_df, val_df])\n",
    "caly_df['Województwo']=caly_df['Województwo'].astype('category')\n",
    "caly_df['Data urodzenia']=caly_df['Data urodzenia'].astype('category')\n",
    "\n",
    "del caly_df[\"id\"]\n",
    "del caly_df[\"IE\"]\n",
    "del caly_df[\"PF\"]\n",
    "del caly_df[\"Dokł. IE\"]\n",
    "del caly_df['kategoria']"
   ]
  },
  {
   "cell_type": "code",
   "execution_count": 3,
   "metadata": {},
   "outputs": [
    {
     "name": "stdout",
     "output_type": "stream",
     "text": [
      "<class 'pandas.core.frame.DataFrame'>\n",
      "Int64Index: 1881 entries, 0 to 188\n",
      "Data columns (total 26 columns):\n",
      " #   Column          Non-Null Count  Dtype   \n",
      "---  ------          --------------  -----   \n",
      " 0   Województwo     1881 non-null   category\n",
      " 1   Data urodzenia  1881 non-null   category\n",
      " 2   PI-PROD         1881 non-null   int64   \n",
      " 3   PI-POKR         1881 non-null   int64   \n",
      " 4   Prc             1881 non-null   int64   \n",
      " 5   Psm             1881 non-null   int64   \n",
      " 6   Pnr             1881 non-null   int64   \n",
      " 7   Pw              1881 non-null   int64   \n",
      " 8   PI-PLOD         1881 non-null   int64   \n",
      " 9   CRj             1881 non-null   int64   \n",
      " 10  CRk             1881 non-null   int64   \n",
      " 11  PP              1881 non-null   int64   \n",
      " 12  OMC             1881 non-null   int64   \n",
      " 13  WH-KSOM         1881 non-null   int64   \n",
      " 14  WH-DLUG         1881 non-null   int64   \n",
      " 15  IP              1881 non-null   int64   \n",
      " 16  kg ml           1881 non-null   int64   \n",
      " 17  kg tł           1881 non-null   int64   \n",
      " 18  % tł            1881 non-null   int64   \n",
      " 19  kg bi           1881 non-null   int64   \n",
      " 20  % bi            1881 non-null   int64   \n",
      " 21  rc              1881 non-null   float64 \n",
      " 22  sm              1881 non-null   float64 \n",
      " 23  nr              1881 non-null   float64 \n",
      " 24  w               1881 non-null   float64 \n",
      " 25  og              1881 non-null   float64 \n",
      "dtypes: category(2), float64(5), int64(19)\n",
      "memory usage: 372.1 KB\n"
     ]
    }
   ],
   "source": [
    "caly_df.info()"
   ]
  },
  {
   "cell_type": "markdown",
   "metadata": {},
   "source": [
    "### 3. Usuwam mniejszości zmiennych kategorycznych "
   ]
  },
  {
   "cell_type": "code",
   "execution_count": 4,
   "metadata": {},
   "outputs": [
    {
     "data": {
      "text/plain": [
       "WIELKOPOLSKIE          579\n",
       "KUJAWSKO-POMORSKIE     298\n",
       "OPOLSKIE               227\n",
       "ZACHODNIOPOMORSKIE     212\n",
       "PODLASKIE              175\n",
       "MAZOWIECKIE            106\n",
       "POMORSKIE               94\n",
       "LUBUSKIE                47\n",
       "ŁÓDZKIE                 41\n",
       "DOLNOŚLĄSKIE            32\n",
       "WARMIŃSKO-MAZURSKIE     23\n",
       "ŚLĄSKIE                 17\n",
       "ŚWIĘTOKRZYSKIE          13\n",
       "MAŁOPOLSKIE             12\n",
       "LUBELSKIE                4\n",
       "PODKARPACKIE             1\n",
       "Name: Województwo, dtype: int64"
      ]
     },
     "execution_count": 4,
     "metadata": {},
     "output_type": "execute_result"
    }
   ],
   "source": [
    "caly_df['Województwo'].value_counts()"
   ]
  },
  {
   "cell_type": "code",
   "execution_count": 5,
   "metadata": {},
   "outputs": [],
   "source": [
    "caly_df=caly_df[caly_df['Województwo']!='PODKARPACKIE']\n",
    "caly_df=caly_df[caly_df['Województwo']!='LUBELSKIE']"
   ]
  },
  {
   "cell_type": "code",
   "execution_count": 6,
   "metadata": {},
   "outputs": [
    {
     "data": {
      "text/plain": [
       "WIELKOPOLSKIE          579\n",
       "KUJAWSKO-POMORSKIE     298\n",
       "OPOLSKIE               227\n",
       "ZACHODNIOPOMORSKIE     212\n",
       "PODLASKIE              175\n",
       "MAZOWIECKIE            106\n",
       "POMORSKIE               94\n",
       "LUBUSKIE                47\n",
       "ŁÓDZKIE                 41\n",
       "DOLNOŚLĄSKIE            32\n",
       "WARMIŃSKO-MAZURSKIE     23\n",
       "ŚLĄSKIE                 17\n",
       "ŚWIĘTOKRZYSKIE          13\n",
       "MAŁOPOLSKIE             12\n",
       "LUBELSKIE                0\n",
       "PODKARPACKIE             0\n",
       "Name: Województwo, dtype: int64"
      ]
     },
     "execution_count": 6,
     "metadata": {},
     "output_type": "execute_result"
    }
   ],
   "source": [
    "caly_df['Województwo'].value_counts()"
   ]
  },
  {
   "cell_type": "code",
   "execution_count": 7,
   "metadata": {},
   "outputs": [
    {
     "data": {
      "text/plain": [
       "2020    1066\n",
       "2019     396\n",
       "2018     275\n",
       "2017      68\n",
       "2021      47\n",
       "2016      23\n",
       "2015       1\n",
       "Name: Data urodzenia, dtype: int64"
      ]
     },
     "execution_count": 7,
     "metadata": {},
     "output_type": "execute_result"
    }
   ],
   "source": [
    "caly_df['Data urodzenia'].value_counts()"
   ]
  },
  {
   "cell_type": "code",
   "execution_count": 8,
   "metadata": {},
   "outputs": [],
   "source": [
    "caly_df=caly_df[caly_df['Data urodzenia']!=2015]"
   ]
  },
  {
   "cell_type": "code",
   "execution_count": 9,
   "metadata": {},
   "outputs": [
    {
     "data": {
      "text/plain": [
       "2020    1066\n",
       "2019     396\n",
       "2018     275\n",
       "2017      68\n",
       "2021      47\n",
       "2016      23\n",
       "2015       0\n",
       "Name: Data urodzenia, dtype: int64"
      ]
     },
     "execution_count": 9,
     "metadata": {},
     "output_type": "execute_result"
    }
   ],
   "source": [
    "caly_df['Data urodzenia'].value_counts()"
   ]
  },
  {
   "cell_type": "code",
   "execution_count": 10,
   "metadata": {},
   "outputs": [],
   "source": [
    "caly_label=caly_df[\"OMC\"]\n",
    "del caly_df[\"OMC\"]"
   ]
  },
  {
   "cell_type": "markdown",
   "metadata": {},
   "source": [
    "### 4. Zakodowuje zmienne kategoryczne "
   ]
  },
  {
   "cell_type": "code",
   "execution_count": 11,
   "metadata": {},
   "outputs": [],
   "source": [
    "a=pd.get_dummies(caly_df['Województwo'])\n",
    "b=pd.get_dummies(caly_df['Data urodzenia'])\n",
    "caly_df= pd.concat([caly_df,a,b], axis=1)\n",
    "del caly_df['Województwo']\n",
    "del caly_df['Data urodzenia']"
   ]
  },
  {
   "cell_type": "code",
   "execution_count": 12,
   "metadata": {},
   "outputs": [
    {
     "data": {
      "text/html": [
       "<div>\n",
       "<style scoped>\n",
       "    .dataframe tbody tr th:only-of-type {\n",
       "        vertical-align: middle;\n",
       "    }\n",
       "\n",
       "    .dataframe tbody tr th {\n",
       "        vertical-align: top;\n",
       "    }\n",
       "\n",
       "    .dataframe thead th {\n",
       "        text-align: right;\n",
       "    }\n",
       "</style>\n",
       "<table border=\"1\" class=\"dataframe\">\n",
       "  <thead>\n",
       "    <tr style=\"text-align: right;\">\n",
       "      <th></th>\n",
       "      <th>PI-PROD</th>\n",
       "      <th>PI-POKR</th>\n",
       "      <th>Prc</th>\n",
       "      <th>Psm</th>\n",
       "      <th>Pnr</th>\n",
       "      <th>Pw</th>\n",
       "      <th>PI-PLOD</th>\n",
       "      <th>CRj</th>\n",
       "      <th>CRk</th>\n",
       "      <th>PP</th>\n",
       "      <th>...</th>\n",
       "      <th>ŁÓDZKIE</th>\n",
       "      <th>ŚLĄSKIE</th>\n",
       "      <th>ŚWIĘTOKRZYSKIE</th>\n",
       "      <th>2015</th>\n",
       "      <th>2016</th>\n",
       "      <th>2017</th>\n",
       "      <th>2018</th>\n",
       "      <th>2019</th>\n",
       "      <th>2020</th>\n",
       "      <th>2021</th>\n",
       "    </tr>\n",
       "  </thead>\n",
       "  <tbody>\n",
       "    <tr>\n",
       "      <th>0</th>\n",
       "      <td>137</td>\n",
       "      <td>127</td>\n",
       "      <td>121</td>\n",
       "      <td>113</td>\n",
       "      <td>106</td>\n",
       "      <td>128</td>\n",
       "      <td>109</td>\n",
       "      <td>107</td>\n",
       "      <td>110</td>\n",
       "      <td>101</td>\n",
       "      <td>...</td>\n",
       "      <td>0</td>\n",
       "      <td>0</td>\n",
       "      <td>0</td>\n",
       "      <td>0</td>\n",
       "      <td>0</td>\n",
       "      <td>0</td>\n",
       "      <td>0</td>\n",
       "      <td>0</td>\n",
       "      <td>1</td>\n",
       "      <td>0</td>\n",
       "    </tr>\n",
       "    <tr>\n",
       "      <th>1</th>\n",
       "      <td>126</td>\n",
       "      <td>123</td>\n",
       "      <td>109</td>\n",
       "      <td>113</td>\n",
       "      <td>103</td>\n",
       "      <td>128</td>\n",
       "      <td>114</td>\n",
       "      <td>114</td>\n",
       "      <td>113</td>\n",
       "      <td>94</td>\n",
       "      <td>...</td>\n",
       "      <td>0</td>\n",
       "      <td>0</td>\n",
       "      <td>0</td>\n",
       "      <td>0</td>\n",
       "      <td>0</td>\n",
       "      <td>0</td>\n",
       "      <td>1</td>\n",
       "      <td>0</td>\n",
       "      <td>0</td>\n",
       "      <td>0</td>\n",
       "    </tr>\n",
       "    <tr>\n",
       "      <th>2</th>\n",
       "      <td>126</td>\n",
       "      <td>120</td>\n",
       "      <td>110</td>\n",
       "      <td>107</td>\n",
       "      <td>102</td>\n",
       "      <td>124</td>\n",
       "      <td>113</td>\n",
       "      <td>112</td>\n",
       "      <td>117</td>\n",
       "      <td>94</td>\n",
       "      <td>...</td>\n",
       "      <td>0</td>\n",
       "      <td>0</td>\n",
       "      <td>0</td>\n",
       "      <td>0</td>\n",
       "      <td>0</td>\n",
       "      <td>0</td>\n",
       "      <td>0</td>\n",
       "      <td>0</td>\n",
       "      <td>1</td>\n",
       "      <td>0</td>\n",
       "    </tr>\n",
       "    <tr>\n",
       "      <th>3</th>\n",
       "      <td>133</td>\n",
       "      <td>111</td>\n",
       "      <td>104</td>\n",
       "      <td>110</td>\n",
       "      <td>99</td>\n",
       "      <td>114</td>\n",
       "      <td>114</td>\n",
       "      <td>113</td>\n",
       "      <td>126</td>\n",
       "      <td>89</td>\n",
       "      <td>...</td>\n",
       "      <td>0</td>\n",
       "      <td>0</td>\n",
       "      <td>0</td>\n",
       "      <td>0</td>\n",
       "      <td>0</td>\n",
       "      <td>0</td>\n",
       "      <td>0</td>\n",
       "      <td>0</td>\n",
       "      <td>1</td>\n",
       "      <td>0</td>\n",
       "    </tr>\n",
       "    <tr>\n",
       "      <th>4</th>\n",
       "      <td>125</td>\n",
       "      <td>115</td>\n",
       "      <td>91</td>\n",
       "      <td>95</td>\n",
       "      <td>101</td>\n",
       "      <td>124</td>\n",
       "      <td>134</td>\n",
       "      <td>129</td>\n",
       "      <td>133</td>\n",
       "      <td>102</td>\n",
       "      <td>...</td>\n",
       "      <td>0</td>\n",
       "      <td>0</td>\n",
       "      <td>0</td>\n",
       "      <td>0</td>\n",
       "      <td>0</td>\n",
       "      <td>0</td>\n",
       "      <td>0</td>\n",
       "      <td>0</td>\n",
       "      <td>1</td>\n",
       "      <td>0</td>\n",
       "    </tr>\n",
       "    <tr>\n",
       "      <th>...</th>\n",
       "      <td>...</td>\n",
       "      <td>...</td>\n",
       "      <td>...</td>\n",
       "      <td>...</td>\n",
       "      <td>...</td>\n",
       "      <td>...</td>\n",
       "      <td>...</td>\n",
       "      <td>...</td>\n",
       "      <td>...</td>\n",
       "      <td>...</td>\n",
       "      <td>...</td>\n",
       "      <td>...</td>\n",
       "      <td>...</td>\n",
       "      <td>...</td>\n",
       "      <td>...</td>\n",
       "      <td>...</td>\n",
       "      <td>...</td>\n",
       "      <td>...</td>\n",
       "      <td>...</td>\n",
       "      <td>...</td>\n",
       "      <td>...</td>\n",
       "    </tr>\n",
       "    <tr>\n",
       "      <th>184</th>\n",
       "      <td>134</td>\n",
       "      <td>119</td>\n",
       "      <td>112</td>\n",
       "      <td>115</td>\n",
       "      <td>106</td>\n",
       "      <td>118</td>\n",
       "      <td>102</td>\n",
       "      <td>103</td>\n",
       "      <td>108</td>\n",
       "      <td>92</td>\n",
       "      <td>...</td>\n",
       "      <td>0</td>\n",
       "      <td>0</td>\n",
       "      <td>0</td>\n",
       "      <td>0</td>\n",
       "      <td>0</td>\n",
       "      <td>0</td>\n",
       "      <td>0</td>\n",
       "      <td>0</td>\n",
       "      <td>1</td>\n",
       "      <td>0</td>\n",
       "    </tr>\n",
       "    <tr>\n",
       "      <th>185</th>\n",
       "      <td>132</td>\n",
       "      <td>117</td>\n",
       "      <td>103</td>\n",
       "      <td>103</td>\n",
       "      <td>107</td>\n",
       "      <td>119</td>\n",
       "      <td>93</td>\n",
       "      <td>94</td>\n",
       "      <td>102</td>\n",
       "      <td>96</td>\n",
       "      <td>...</td>\n",
       "      <td>0</td>\n",
       "      <td>0</td>\n",
       "      <td>0</td>\n",
       "      <td>0</td>\n",
       "      <td>0</td>\n",
       "      <td>0</td>\n",
       "      <td>1</td>\n",
       "      <td>0</td>\n",
       "      <td>0</td>\n",
       "      <td>0</td>\n",
       "    </tr>\n",
       "    <tr>\n",
       "      <th>186</th>\n",
       "      <td>120</td>\n",
       "      <td>109</td>\n",
       "      <td>106</td>\n",
       "      <td>97</td>\n",
       "      <td>96</td>\n",
       "      <td>115</td>\n",
       "      <td>120</td>\n",
       "      <td>114</td>\n",
       "      <td>134</td>\n",
       "      <td>100</td>\n",
       "      <td>...</td>\n",
       "      <td>0</td>\n",
       "      <td>0</td>\n",
       "      <td>0</td>\n",
       "      <td>0</td>\n",
       "      <td>0</td>\n",
       "      <td>0</td>\n",
       "      <td>0</td>\n",
       "      <td>1</td>\n",
       "      <td>0</td>\n",
       "      <td>0</td>\n",
       "    </tr>\n",
       "    <tr>\n",
       "      <th>187</th>\n",
       "      <td>113</td>\n",
       "      <td>114</td>\n",
       "      <td>97</td>\n",
       "      <td>94</td>\n",
       "      <td>103</td>\n",
       "      <td>120</td>\n",
       "      <td>114</td>\n",
       "      <td>104</td>\n",
       "      <td>115</td>\n",
       "      <td>132</td>\n",
       "      <td>...</td>\n",
       "      <td>1</td>\n",
       "      <td>0</td>\n",
       "      <td>0</td>\n",
       "      <td>0</td>\n",
       "      <td>0</td>\n",
       "      <td>0</td>\n",
       "      <td>1</td>\n",
       "      <td>0</td>\n",
       "      <td>0</td>\n",
       "      <td>0</td>\n",
       "    </tr>\n",
       "    <tr>\n",
       "      <th>188</th>\n",
       "      <td>126</td>\n",
       "      <td>117</td>\n",
       "      <td>107</td>\n",
       "      <td>100</td>\n",
       "      <td>104</td>\n",
       "      <td>121</td>\n",
       "      <td>110</td>\n",
       "      <td>107</td>\n",
       "      <td>119</td>\n",
       "      <td>101</td>\n",
       "      <td>...</td>\n",
       "      <td>0</td>\n",
       "      <td>0</td>\n",
       "      <td>0</td>\n",
       "      <td>0</td>\n",
       "      <td>0</td>\n",
       "      <td>0</td>\n",
       "      <td>0</td>\n",
       "      <td>0</td>\n",
       "      <td>1</td>\n",
       "      <td>0</td>\n",
       "    </tr>\n",
       "  </tbody>\n",
       "</table>\n",
       "<p>1875 rows × 46 columns</p>\n",
       "</div>"
      ],
      "text/plain": [
       "     PI-PROD  PI-POKR  Prc  Psm  Pnr   Pw  PI-PLOD  CRj  CRk   PP  ...  \\\n",
       "0        137      127  121  113  106  128      109  107  110  101  ...   \n",
       "1        126      123  109  113  103  128      114  114  113   94  ...   \n",
       "2        126      120  110  107  102  124      113  112  117   94  ...   \n",
       "3        133      111  104  110   99  114      114  113  126   89  ...   \n",
       "4        125      115   91   95  101  124      134  129  133  102  ...   \n",
       "..       ...      ...  ...  ...  ...  ...      ...  ...  ...  ...  ...   \n",
       "184      134      119  112  115  106  118      102  103  108   92  ...   \n",
       "185      132      117  103  103  107  119       93   94  102   96  ...   \n",
       "186      120      109  106   97   96  115      120  114  134  100  ...   \n",
       "187      113      114   97   94  103  120      114  104  115  132  ...   \n",
       "188      126      117  107  100  104  121      110  107  119  101  ...   \n",
       "\n",
       "     ŁÓDZKIE  ŚLĄSKIE  ŚWIĘTOKRZYSKIE  2015  2016  2017  2018  2019  2020  \\\n",
       "0          0        0               0     0     0     0     0     0     1   \n",
       "1          0        0               0     0     0     0     1     0     0   \n",
       "2          0        0               0     0     0     0     0     0     1   \n",
       "3          0        0               0     0     0     0     0     0     1   \n",
       "4          0        0               0     0     0     0     0     0     1   \n",
       "..       ...      ...             ...   ...   ...   ...   ...   ...   ...   \n",
       "184        0        0               0     0     0     0     0     0     1   \n",
       "185        0        0               0     0     0     0     1     0     0   \n",
       "186        0        0               0     0     0     0     0     1     0   \n",
       "187        1        0               0     0     0     0     1     0     0   \n",
       "188        0        0               0     0     0     0     0     0     1   \n",
       "\n",
       "     2021  \n",
       "0       0  \n",
       "1       0  \n",
       "2       0  \n",
       "3       0  \n",
       "4       0  \n",
       "..    ...  \n",
       "184     0  \n",
       "185     0  \n",
       "186     0  \n",
       "187     0  \n",
       "188     0  \n",
       "\n",
       "[1875 rows x 46 columns]"
      ]
     },
     "execution_count": 12,
     "metadata": {},
     "output_type": "execute_result"
    }
   ],
   "source": [
    "caly_df"
   ]
  },
  {
   "cell_type": "code",
   "execution_count": 13,
   "metadata": {},
   "outputs": [
    {
     "name": "stdout",
     "output_type": "stream",
     "text": [
      "<class 'pandas.core.frame.DataFrame'>\n",
      "Int64Index: 1875 entries, 0 to 188\n",
      "Data columns (total 46 columns):\n",
      " #   Column               Non-Null Count  Dtype  \n",
      "---  ------               --------------  -----  \n",
      " 0   PI-PROD              1875 non-null   int64  \n",
      " 1   PI-POKR              1875 non-null   int64  \n",
      " 2   Prc                  1875 non-null   int64  \n",
      " 3   Psm                  1875 non-null   int64  \n",
      " 4   Pnr                  1875 non-null   int64  \n",
      " 5   Pw                   1875 non-null   int64  \n",
      " 6   PI-PLOD              1875 non-null   int64  \n",
      " 7   CRj                  1875 non-null   int64  \n",
      " 8   CRk                  1875 non-null   int64  \n",
      " 9   PP                   1875 non-null   int64  \n",
      " 10  WH-KSOM              1875 non-null   int64  \n",
      " 11  WH-DLUG              1875 non-null   int64  \n",
      " 12  IP                   1875 non-null   int64  \n",
      " 13  kg ml                1875 non-null   int64  \n",
      " 14  kg tł                1875 non-null   int64  \n",
      " 15  % tł                 1875 non-null   int64  \n",
      " 16  kg bi                1875 non-null   int64  \n",
      " 17  % bi                 1875 non-null   int64  \n",
      " 18  rc                   1875 non-null   float64\n",
      " 19  sm                   1875 non-null   float64\n",
      " 20  nr                   1875 non-null   float64\n",
      " 21  w                    1875 non-null   float64\n",
      " 22  og                   1875 non-null   float64\n",
      " 23  DOLNOŚLĄSKIE         1875 non-null   uint8  \n",
      " 24  KUJAWSKO-POMORSKIE   1875 non-null   uint8  \n",
      " 25  LUBELSKIE            1875 non-null   uint8  \n",
      " 26  LUBUSKIE             1875 non-null   uint8  \n",
      " 27  MAZOWIECKIE          1875 non-null   uint8  \n",
      " 28  MAŁOPOLSKIE          1875 non-null   uint8  \n",
      " 29  OPOLSKIE             1875 non-null   uint8  \n",
      " 30  PODKARPACKIE         1875 non-null   uint8  \n",
      " 31  PODLASKIE            1875 non-null   uint8  \n",
      " 32  POMORSKIE            1875 non-null   uint8  \n",
      " 33  WARMIŃSKO-MAZURSKIE  1875 non-null   uint8  \n",
      " 34  WIELKOPOLSKIE        1875 non-null   uint8  \n",
      " 35  ZACHODNIOPOMORSKIE   1875 non-null   uint8  \n",
      " 36  ŁÓDZKIE              1875 non-null   uint8  \n",
      " 37  ŚLĄSKIE              1875 non-null   uint8  \n",
      " 38  ŚWIĘTOKRZYSKIE       1875 non-null   uint8  \n",
      " 39  2015                 1875 non-null   uint8  \n",
      " 40  2016                 1875 non-null   uint8  \n",
      " 41  2017                 1875 non-null   uint8  \n",
      " 42  2018                 1875 non-null   uint8  \n",
      " 43  2019                 1875 non-null   uint8  \n",
      " 44  2020                 1875 non-null   uint8  \n",
      " 45  2021                 1875 non-null   uint8  \n",
      "dtypes: float64(5), int64(18), uint8(23)\n",
      "memory usage: 393.7 KB\n"
     ]
    }
   ],
   "source": [
    "caly_df.info()"
   ]
  },
  {
   "cell_type": "markdown",
   "metadata": {},
   "source": [
    "### 5. Tworzę metrykę do oceny dobierania parametrów\n"
   ]
  },
  {
   "cell_type": "code",
   "execution_count": 14,
   "metadata": {},
   "outputs": [],
   "source": [
    "mae_scorer = make_scorer(mean_absolute_error)"
   ]
  },
  {
   "cell_type": "markdown",
   "metadata": {},
   "source": [
    "## 6 Modele"
   ]
  },
  {
   "cell_type": "markdown",
   "metadata": {},
   "source": [
    "Model liniowy nie wymaga standaryzacji"
   ]
  },
  {
   "cell_type": "code",
   "execution_count": 15,
   "metadata": {},
   "outputs": [],
   "source": [
    "caly_df_zapas=caly_df"
   ]
  },
  {
   "cell_type": "code",
   "execution_count": 16,
   "metadata": {},
   "outputs": [],
   "source": [
    "caly_df = np.array(caly_df)\n",
    "caly_label = np.array(caly_label)"
   ]
  },
  {
   "cell_type": "markdown",
   "metadata": {},
   "source": [
    "## 6.1 Model liniowy"
   ]
  },
  {
   "cell_type": "markdown",
   "metadata": {},
   "source": [
    "## 6.1.1 Model liniowy - dobieram zmienne"
   ]
  },
  {
   "cell_type": "code",
   "execution_count": 17,
   "metadata": {},
   "outputs": [],
   "source": [
    "estimator=LinearRegression()\n",
    "selector = RFECV(estimator, step=1, cv=2,scoring=mae_scorer)\n",
    "selector2 = selector.fit(caly_df, caly_label)                   "
   ]
  },
  {
   "cell_type": "code",
   "execution_count": 18,
   "metadata": {},
   "outputs": [],
   "source": [
    "kombinacje=[]\n",
    "nazwy_kolumn=caly_df_zapas.columns\n",
    "dictionary = dict(zip(nazwy_kolumn, selector2.ranking_))\n",
    "dictionary= dict(sorted(dictionary.items(), key=lambda item: item[1]))"
   ]
  },
  {
   "cell_type": "code",
   "execution_count": 19,
   "metadata": {},
   "outputs": [
    {
     "data": {
      "text/plain": [
       "{'CRj': 1,\n",
       " 'PI-PLOD': 2,\n",
       " 'ŁÓDZKIE': 3,\n",
       " 'WARMIŃSKO-MAZURSKIE': 4,\n",
       " 'ŚLĄSKIE': 5,\n",
       " 'LUBUSKIE': 6,\n",
       " 'MAŁOPOLSKIE': 7,\n",
       " 'kg bi': 8,\n",
       " 'IP': 9,\n",
       " 'kg tł': 10,\n",
       " 2021: 11,\n",
       " 'OPOLSKIE': 12,\n",
       " 'POMORSKIE': 13,\n",
       " 'PP': 14,\n",
       " 2017: 15,\n",
       " 2019: 16,\n",
       " 2020: 17,\n",
       " 2016: 18,\n",
       " 2018: 19,\n",
       " 'ŚWIĘTOKRZYSKIE': 20,\n",
       " 'w': 21,\n",
       " 'og': 22,\n",
       " 'Psm': 23,\n",
       " 'PI-PROD': 24,\n",
       " 'DOLNOŚLĄSKIE': 25,\n",
       " '% bi': 26,\n",
       " '% tł': 27,\n",
       " 'MAZOWIECKIE': 28,\n",
       " 'WIELKOPOLSKIE': 29,\n",
       " 'CRk': 30,\n",
       " 'Pw': 31,\n",
       " 'PI-POKR': 32,\n",
       " 'Pnr': 33,\n",
       " 'Prc': 34,\n",
       " 'KUJAWSKO-POMORSKIE': 35,\n",
       " 'ZACHODNIOPOMORSKIE': 36,\n",
       " 'nr': 37,\n",
       " 'sm': 38,\n",
       " 'WH-KSOM': 39,\n",
       " 'PODLASKIE': 40,\n",
       " 'rc': 41,\n",
       " 'WH-DLUG': 42,\n",
       " 'kg ml': 43,\n",
       " 'PODKARPACKIE': 44,\n",
       " 'LUBELSKIE': 45,\n",
       " 2015: 46}"
      ]
     },
     "execution_count": 19,
     "metadata": {},
     "output_type": "execute_result"
    }
   ],
   "source": [
    "dictionary"
   ]
  },
  {
   "cell_type": "code",
   "execution_count": 20,
   "metadata": {},
   "outputs": [],
   "source": [
    "nazwy_kolumn_2=[]\n",
    "for x in dictionary.keys():\n",
    "    nazwy_kolumn_2.append(x)"
   ]
  },
  {
   "cell_type": "code",
   "execution_count": 21,
   "metadata": {},
   "outputs": [
    {
     "name": "stdout",
     "output_type": "stream",
     "text": [
      "38 \n",
      " ['CRj', 'PI-PLOD', 'ŁÓDZKIE', 'WARMIŃSKO-MAZURSKIE', 'ŚLĄSKIE', 'LUBUSKIE', 'MAŁOPOLSKIE', 'kg bi', 'IP', 'kg tł', 2021, 'OPOLSKIE', 'POMORSKIE', 'PP', 2017, 2019, 2020, 2016, 2018, 'ŚWIĘTOKRZYSKIE', 'w', 'og', 'Psm', 'PI-PROD', 'DOLNOŚLĄSKIE', '% bi', '% tł', 'MAZOWIECKIE', 'WIELKOPOLSKIE', 'CRk', 'Pw', 'PI-POKR', 'Pnr', 'Prc', 'KUJAWSKO-POMORSKIE', 'ZACHODNIOPOMORSKIE', 'nr', 'sm', 'WH-KSOM']\n"
     ]
    }
   ],
   "source": [
    "dane_do_porownania=pd.DataFrame(columns=[\"Liczba zmiennych\",\n",
    "                                    \"Błąd\"]\n",
    "                                )\n",
    "glowne_wyniki=[]\n",
    "glowne_zmienne=[]\n",
    "for i in range(0,len(nazwy_kolumn_2)):\n",
    "    zmienne=[]\n",
    "    for q in range(0,i+1):\n",
    "        zmienne.append(nazwy_kolumn_2[q])\n",
    "    kombinacje.append(zmienne)\n",
    "    data_frame=caly_df_zapas[zmienne]\n",
    "    kfold = KFold(n_splits=5, shuffle=False)\n",
    "\n",
    "    data_frame = np.array(data_frame)\n",
    "    caly_label = np.array(caly_label)\n",
    "    \n",
    "    wyniki=[]\n",
    "    \n",
    "    for train, test in kfold.split(data_frame, caly_label):\n",
    "        reg = LinearRegression()\n",
    "        reg.fit(data_frame[train], caly_label[train])\n",
    "        predykcje=reg.predict(data_frame[test])\n",
    "        \n",
    "        dane_folda=pd.DataFrame({\"pred\": predykcje.ravel(),\n",
    "                                    \"obs\": caly_label[test]\n",
    "                                })\n",
    "        \n",
    "        dane_folda['blad']=abs(dane_folda['obs']-dane_folda['pred'])\n",
    "        mae=dane_folda['blad'].sum()/len(dane_folda['blad'])\n",
    "        wyniki.append(mae)\n",
    "        \n",
    "    wynik=sum(wyniki)/len(wyniki)\n",
    "    glowne_wyniki.append(wynik)\n",
    "    glowne_zmienne.append(i)\n",
    "    \n",
    "dane_do_porownania[\"Liczba zmiennych\"]=glowne_zmienne\n",
    "dane_do_porownania[\"Błąd\"]=glowne_wyniki\n",
    "\n",
    "index=list(dane_do_porownania[\"Błąd\"]).index(min(list(dane_do_porownania[\"Błąd\"])))\n",
    "\n",
    "print(index,\"\\n\",kombinacje[index])"
   ]
  },
  {
   "cell_type": "code",
   "execution_count": 22,
   "metadata": {},
   "outputs": [
    {
     "data": {
      "text/plain": [
       "39"
      ]
     },
     "execution_count": 22,
     "metadata": {},
     "output_type": "execute_result"
    }
   ],
   "source": [
    "len(kombinacje[index])"
   ]
  },
  {
   "cell_type": "code",
   "execution_count": 23,
   "metadata": {},
   "outputs": [
    {
     "data": {
      "image/png": "[encoded data removed]",
      "text/plain": [
       "<Figure size 432x288 with 1 Axes>"
      ]
     },
     "metadata": {
      "needs_background": "light"
     },
     "output_type": "display_data"
    }
   ],
   "source": [
    "plt.plot(list(dane_do_porownania[\"Błąd\"]))\n",
    "plt.axvline(x=list(dane_do_porownania[\"Błąd\"]).index(min(list(dane_do_porownania[\"Błąd\"]))), color='r', linestyle='-')\n",
    "plt.xlabel(\"Number of features\")\n",
    "plt.ylabel(\"MAE of OMC\")\n",
    "plt.title(\"Linear Regresion\")\n",
    "plt.show()"
   ]
  },
  {
   "cell_type": "code",
   "execution_count": 24,
   "metadata": {
    "scrolled": true
   },
   "outputs": [
    {
     "data": {
      "text/plain": [
       "0     5.348865\n",
       "1     1.393720\n",
       "2     1.391624\n",
       "3     1.389594\n",
       "4     1.390901\n",
       "5     1.391261\n",
       "6     1.390935\n",
       "7     1.369753\n",
       "8     1.370721\n",
       "9     1.370990\n",
       "10    1.370847\n",
       "11    1.369815\n",
       "12    1.370557\n",
       "13    1.142583\n",
       "14    1.142659\n",
       "15    1.143713\n",
       "16    1.143468\n",
       "17    1.143679\n",
       "18    1.143679\n",
       "19    1.143853\n",
       "20    1.132910\n",
       "21    1.134665\n",
       "22    1.129949\n",
       "23    1.130455\n",
       "24    1.132244\n",
       "25    1.121927\n",
       "26    1.121074\n",
       "27    1.121569\n",
       "28    1.123341\n",
       "29    1.123365\n",
       "30    1.122732\n",
       "31    1.122828\n",
       "32    1.121679\n",
       "33    1.117801\n",
       "34    1.118867\n",
       "35    1.120042\n",
       "36    1.119598\n",
       "37    1.118064\n",
       "38    1.117390\n",
       "39    1.117390\n",
       "40    1.119136\n",
       "41    1.119503\n",
       "42    1.119674\n",
       "43    1.119674\n",
       "44    1.119674\n",
       "45    1.119674\n",
       "Name: Błąd, dtype: float64"
      ]
     },
     "execution_count": 24,
     "metadata": {},
     "output_type": "execute_result"
    }
   ],
   "source": [
    "dane_do_porownania[\"Błąd\"]"
   ]
  },
  {
   "cell_type": "code",
   "execution_count": 25,
   "metadata": {
    "scrolled": false
   },
   "outputs": [
    {
     "data": {
      "text/plain": [
       "['CRj',\n",
       " 'PI-PLOD',\n",
       " 'ŁÓDZKIE',\n",
       " 'WARMIŃSKO-MAZURSKIE',\n",
       " 'ŚLĄSKIE',\n",
       " 'LUBUSKIE',\n",
       " 'MAŁOPOLSKIE',\n",
       " 'kg bi',\n",
       " 'IP',\n",
       " 'kg tł',\n",
       " 2021,\n",
       " 'OPOLSKIE',\n",
       " 'POMORSKIE',\n",
       " 'PP',\n",
       " 2017,\n",
       " 2019,\n",
       " 2020,\n",
       " 2016,\n",
       " 2018,\n",
       " 'ŚWIĘTOKRZYSKIE',\n",
       " 'w',\n",
       " 'og',\n",
       " 'Psm',\n",
       " 'PI-PROD',\n",
       " 'DOLNOŚLĄSKIE',\n",
       " '% bi',\n",
       " '% tł',\n",
       " 'MAZOWIECKIE',\n",
       " 'WIELKOPOLSKIE',\n",
       " 'CRk',\n",
       " 'Pw',\n",
       " 'PI-POKR',\n",
       " 'Pnr',\n",
       " 'Prc',\n",
       " 'KUJAWSKO-POMORSKIE',\n",
       " 'ZACHODNIOPOMORSKIE',\n",
       " 'nr',\n",
       " 'sm',\n",
       " 'WH-KSOM']"
      ]
     },
     "execution_count": 25,
     "metadata": {},
     "output_type": "execute_result"
    }
   ],
   "source": [
    "kombinacje[38]"
   ]
  },
  {
   "cell_type": "code",
   "execution_count": 26,
   "metadata": {},
   "outputs": [],
   "source": [
    "zestaw_caly=caly_df_zapas\n",
    "zestaw_38=caly_df_zapas[kombinacje[38]]\n",
    "\n",
    "zestaw_caly = np.array(zestaw_caly)\n",
    "zestaw_38 = np.array(zestaw_38)\n",
    "\n",
    "caly_label = np.array(caly_label)"
   ]
  },
  {
   "cell_type": "code",
   "execution_count": 27,
   "metadata": {},
   "outputs": [
    {
     "data": {
      "text/plain": [
       "array([105,  98, 100, ..., 114, 128, 112], dtype=int64)"
      ]
     },
     "execution_count": 27,
     "metadata": {},
     "output_type": "execute_result"
    }
   ],
   "source": [
    "caly_label"
   ]
  },
  {
   "cell_type": "code",
   "execution_count": 27,
   "metadata": {},
   "outputs": [],
   "source": [
    "dane_do_porownania.to_csv('Wyniki REFCV Regresja liniowa OMC.csv',index=False)"
   ]
  },
  {
   "cell_type": "code",
   "execution_count": 28,
   "metadata": {},
   "outputs": [
    {
     "data": {
      "text/plain": [
       "array([[137., 127., 121., ...,   0.,   1.,   0.],\n",
       "       [126., 123., 109., ...,   0.,   0.,   0.],\n",
       "       [126., 120., 110., ...,   0.,   1.,   0.],\n",
       "       ...,\n",
       "       [120., 109., 106., ...,   1.,   0.,   0.],\n",
       "       [113., 114.,  97., ...,   0.,   0.,   0.],\n",
       "       [126., 117., 107., ...,   0.,   1.,   0.]])"
      ]
     },
     "execution_count": 28,
     "metadata": {},
     "output_type": "execute_result"
    }
   ],
   "source": [
    "zestaw_caly"
   ]
  },
  {
   "cell_type": "code",
   "execution_count": 29,
   "metadata": {},
   "outputs": [
    {
     "data": {
      "text/plain": [
       "array([[107., 109.,   0., ..., 109., 114., 112.],\n",
       "       [114., 114.,   0., ..., 104., 113., 118.],\n",
       "       [112., 113.,   0., ..., 102., 103., 126.],\n",
       "       ...,\n",
       "       [114., 120.,   0., ...,  99., 101., 121.],\n",
       "       [104., 114.,   1., ..., 111.,  97., 119.],\n",
       "       [107., 110.,   0., ..., 117., 105., 118.]])"
      ]
     },
     "execution_count": 29,
     "metadata": {},
     "output_type": "execute_result"
    }
   ],
   "source": [
    "zestaw_38"
   ]
  },
  {
   "cell_type": "markdown",
   "metadata": {},
   "source": [
    "## 7 Cross validacja k=5"
   ]
  },
  {
   "cell_type": "markdown",
   "metadata": {},
   "source": [
    "### 7.1 Wszystkie"
   ]
  },
  {
   "cell_type": "code",
   "execution_count": 30,
   "metadata": {},
   "outputs": [],
   "source": [
    "kfold = KFold(n_splits=5, shuffle=False)\n",
    "dane_do_zapisu_1=pd.DataFrame()\n",
    "licznik=1\n",
    "wart_1=[]\n",
    "        \n",
    "for train, test in kfold.split(zestaw_caly, caly_label):\n",
    "    LR_1 = LinearRegression()\n",
    "    LR_1.fit(zestaw_caly[train], caly_label[train])\n",
    "    \n",
    "    predykcje=LR_1.predict(zestaw_caly[test])\n",
    "    dane_folda_1=pd.DataFrame({\"pred\": predykcje.ravel(),\n",
    "                                \"obs\": caly_label[test],\n",
    "                                \"Fold\":licznik})\n",
    "    dane_do_zapisu_1=pd.concat([dane_do_zapisu_1,dane_folda_1])\n",
    "    sredni_blad=mean_absolute_error(caly_label[test],predykcje)\n",
    "    wart_1.append(sredni_blad)\n",
    "    licznik+=1"
   ]
  },
  {
   "cell_type": "code",
   "execution_count": 31,
   "metadata": {},
   "outputs": [
    {
     "data": {
      "text/plain": [
       "[1.1180597241500896,\n",
       " 1.1341524517225197,\n",
       " 1.0803519316248906,\n",
       " 1.130801657247563,\n",
       " 1.1350060432577593]"
      ]
     },
     "execution_count": 31,
     "metadata": {},
     "output_type": "execute_result"
    }
   ],
   "source": [
    "wart_1"
   ]
  },
  {
   "cell_type": "code",
   "execution_count": 32,
   "metadata": {},
   "outputs": [
    {
     "data": {
      "text/plain": [
       "1.1196743616005644"
      ]
     },
     "execution_count": 32,
     "metadata": {},
     "output_type": "execute_result"
    }
   ],
   "source": [
    "sum(wart_1)/len(wart_1)"
   ]
  },
  {
   "cell_type": "markdown",
   "metadata": {},
   "source": [
    "### 8.4.2 zestaw 38"
   ]
  },
  {
   "cell_type": "code",
   "execution_count": 33,
   "metadata": {},
   "outputs": [],
   "source": [
    "kfold = KFold(n_splits=5, shuffle=False)\n",
    "dane_do_zapisu_2=pd.DataFrame()\n",
    "licznik=1\n",
    "wart_2=[]\n",
    "\n",
    "for train, test in kfold.split(zestaw_38, caly_label):\n",
    "    LR_2 = LinearRegression()\n",
    "    \n",
    "    LR_2.fit(zestaw_38[train], caly_label[train])\n",
    "    predykcje=LR_2.predict(zestaw_38[test])\n",
    "    dane_folda_2=pd.DataFrame({\"pred\": predykcje.ravel(),\n",
    "                                \"obs\": caly_label[test],\n",
    "                                \"Fold\":licznik})\n",
    "    dane_do_zapisu_2=pd.concat([dane_do_zapisu_2,dane_folda_2])\n",
    "    sredni_blad=mean_absolute_error(caly_label[test],predykcje)\n",
    "    wart_2.append(sredni_blad)\n",
    "    licznik+=1"
   ]
  },
  {
   "cell_type": "code",
   "execution_count": 34,
   "metadata": {},
   "outputs": [
    {
     "data": {
      "text/plain": [
       "[1.1168931626691387,\n",
       " 1.1301087671382402,\n",
       " 1.0750846671436445,\n",
       " 1.1304681640566805,\n",
       " 1.1343951476776724]"
      ]
     },
     "execution_count": 34,
     "metadata": {},
     "output_type": "execute_result"
    }
   ],
   "source": [
    "wart_2"
   ]
  },
  {
   "cell_type": "code",
   "execution_count": 35,
   "metadata": {},
   "outputs": [
    {
     "data": {
      "text/plain": [
       "1.1173899817370754"
      ]
     },
     "execution_count": 35,
     "metadata": {},
     "output_type": "execute_result"
    }
   ],
   "source": [
    "sum(wart_2)/len(wart_2)"
   ]
  },
  {
   "cell_type": "markdown",
   "metadata": {},
   "source": [
    "### 8.5 Zapisuje predykcje Zestaw 22"
   ]
  },
  {
   "cell_type": "code",
   "execution_count": 54,
   "metadata": {},
   "outputs": [],
   "source": [
    "#dane_do_zapisu_2.to_csv(\"D:/STUDIA/ROK_II/Projekt/Predykcje_i błędy/Zestaw 2000/IE_GradientBoostingRegresor_FS.csv\")"
   ]
  },
  {
   "cell_type": "code",
   "execution_count": null,
   "metadata": {},
   "outputs": [],
   "source": []
  }
 ],
 "metadata": {
  "colab": {
   "collapsed_sections": [],
   "name": "continues_variable_modelling_basic_regression.ipynb",
   "provenance": []
  },
  "kernelspec": {
   "display_name": "Python 3",
   "language": "python",
   "name": "python3"
  },
  "language_info": {
   "codemirror_mode": {
    "name": "ipython",
    "version": 3
   },
   "file_extension": ".py",
   "mimetype": "text/x-python",
   "name": "python",
   "nbconvert_exporter": "python",
   "pygments_lexer": "ipython3",
   "version": "3.7.10"
  }
 },
 "nbformat": 4,
 "nbformat_minor": 1
}
