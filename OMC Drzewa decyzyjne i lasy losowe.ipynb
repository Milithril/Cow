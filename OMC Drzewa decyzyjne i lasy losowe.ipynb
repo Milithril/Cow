{
 "cells": [
  {
   "cell_type": "markdown",
   "metadata": {
    "id": "bPV-6xysFeQ1"
   },
   "source": [
    "# Zastosowanie drzew decyzyjnych oraz lasów losowych przy, gdzie y reprezentowany jest przez dane typu ciągłego**\n"
   ]
  },
  {
   "cell_type": "markdown",
   "metadata": {},
   "source": [
    "## 1. Biblioteki"
   ]
  },
  {
   "cell_type": "code",
   "execution_count": 1,
   "metadata": {
    "id": "JJMNYhNp0ejg"
   },
   "outputs": [],
   "source": [
    "import pandas as pd\n",
    "import sklearn.tree\n",
    "import numpy as np\n",
    "from sklearn.tree import DecisionTreeRegressor  #ładowanie fukcji do tworzenia instacji drzew dla Y ciaglego\n",
    "from sklearn.metrics import mean_absolute_error, r2_score #funkcje do badania dopasowania modelu\n",
    "from sklearn.ensemble import RandomForestRegressor #ladowanie funkcji RandomForestRegressor do tworzenia instancji algorytmu\n",
    "from sklearn.ensemble import GradientBoostingRegressor \n",
    "import dtreeviz.trees as dtv # importowanie dtreeviz\n",
    "from sklearn.model_selection import GridSearchCV\n",
    "from sklearn.metrics import mean_absolute_error\n",
    "from dtreeviz.trees import *\n",
    "\n",
    "\n",
    "import xgboost as xgb\n",
    "from sklearn.model_selection import train_test_split\n",
    "from sklearn.model_selection import cross_val_score, KFold\n",
    "from sklearn.metrics import mean_absolute_error\n",
    "import matplotlib.pyplot as plt \n",
    "\n",
    "from sklearn.feature_selection import RFECV\n",
    "from sklearn.metrics import make_scorer\n",
    "\n",
    "import graphviz"
   ]
  },
  {
   "cell_type": "markdown",
   "metadata": {},
   "source": [
    "## 2. Wczytuje  i sprawdzam typ danych"
   ]
  },
  {
   "cell_type": "code",
   "execution_count": 2,
   "metadata": {},
   "outputs": [],
   "source": [
    "train_df=pd.read_csv('D:/STUDIA/ROK_II/Projekt/Dane_jalowka_i_krowa_train.csv')\n",
    "test_df=pd.read_csv('D:/STUDIA/ROK_II/Projekt/Dane_jalowka_i_krowa_test.csv')\n",
    "val_df=pd.read_csv('D:/STUDIA/ROK_II/Projekt/Dane_jalowka_i_krowa_val.csv')\n",
    "\n",
    "train_df.columns = ['id','Województwo', 'Data urodzenia', 'IE', 'Dokł. IE', 'PF', 'PI-PROD', 'PI-POKR', 'Prc', 'Psm', 'Pnr', 'Pw','PI-PLOD', 'CRj', 'CRk', 'PP', 'OMC', 'WH-KSOM', 'WH-DLUG', 'IP', 'kg ml', 'kg tł', '% tł', 'kg bi', '% bi', 'rc', 'sm', 'nr', 'w', 'og','kategoria']\n",
    "test_df.columns = ['id','Województwo', 'Data urodzenia', 'IE', 'Dokł. IE', 'PF', 'PI-PROD', 'PI-POKR', 'Prc', 'Psm', 'Pnr', 'Pw','PI-PLOD', 'CRj', 'CRk', 'PP', 'OMC', 'WH-KSOM', 'WH-DLUG', 'IP', 'kg ml', 'kg tł', '% tł', 'kg bi', '% bi', 'rc', 'sm', 'nr', 'w', 'og','kategoria']\n",
    "val_df.columns = ['id','Województwo', 'Data urodzenia', 'IE', 'Dokł. IE', 'PF', 'PI-PROD', 'PI-POKR', 'Prc', 'Psm', 'Pnr', 'Pw','PI-PLOD', 'CRj', 'CRk', 'PP', 'OMC', 'WH-KSOM', 'WH-DLUG', 'IP', 'kg ml', 'kg tł', '% tł', 'kg bi', '% bi', 'rc', 'sm', 'nr', 'w', 'og','kategoria']\n",
    "\n",
    "caly_df = pd.concat([train_df, test_df, val_df])\n",
    "caly_df['Województwo']=caly_df['Województwo'].astype('category')\n",
    "caly_df['Data urodzenia']=caly_df['Data urodzenia'].astype('category')\n",
    "\n",
    "del caly_df[\"id\"]\n",
    "del caly_df[\"PF\"]\n",
    "del caly_df[\"IE\"]\n",
    "del caly_df[\"Dokł. IE\"]\n",
    "del caly_df['kategoria']"
   ]
  },
  {
   "cell_type": "code",
   "execution_count": 3,
   "metadata": {},
   "outputs": [
    {
     "name": "stdout",
     "output_type": "stream",
     "text": [
      "<class 'pandas.core.frame.DataFrame'>\n",
      "Int64Index: 1881 entries, 0 to 188\n",
      "Data columns (total 26 columns):\n",
      " #   Column          Non-Null Count  Dtype   \n",
      "---  ------          --------------  -----   \n",
      " 0   Województwo     1881 non-null   category\n",
      " 1   Data urodzenia  1881 non-null   category\n",
      " 2   PI-PROD         1881 non-null   int64   \n",
      " 3   PI-POKR         1881 non-null   int64   \n",
      " 4   Prc             1881 non-null   int64   \n",
      " 5   Psm             1881 non-null   int64   \n",
      " 6   Pnr             1881 non-null   int64   \n",
      " 7   Pw              1881 non-null   int64   \n",
      " 8   PI-PLOD         1881 non-null   int64   \n",
      " 9   CRj             1881 non-null   int64   \n",
      " 10  CRk             1881 non-null   int64   \n",
      " 11  PP              1881 non-null   int64   \n",
      " 12  OMC             1881 non-null   int64   \n",
      " 13  WH-KSOM         1881 non-null   int64   \n",
      " 14  WH-DLUG         1881 non-null   int64   \n",
      " 15  IP              1881 non-null   int64   \n",
      " 16  kg ml           1881 non-null   int64   \n",
      " 17  kg tł           1881 non-null   int64   \n",
      " 18  % tł            1881 non-null   int64   \n",
      " 19  kg bi           1881 non-null   int64   \n",
      " 20  % bi            1881 non-null   int64   \n",
      " 21  rc              1881 non-null   float64 \n",
      " 22  sm              1881 non-null   float64 \n",
      " 23  nr              1881 non-null   float64 \n",
      " 24  w               1881 non-null   float64 \n",
      " 25  og              1881 non-null   float64 \n",
      "dtypes: category(2), float64(5), int64(19)\n",
      "memory usage: 372.1 KB\n"
     ]
    }
   ],
   "source": [
    "caly_df.info()"
   ]
  },
  {
   "cell_type": "markdown",
   "metadata": {},
   "source": [
    "### 3. Usuwam mniejszości zmiennych kategorycznych "
   ]
  },
  {
   "cell_type": "code",
   "execution_count": 4,
   "metadata": {},
   "outputs": [
    {
     "data": {
      "text/plain": [
       "WIELKOPOLSKIE          579\n",
       "KUJAWSKO-POMORSKIE     298\n",
       "OPOLSKIE               227\n",
       "ZACHODNIOPOMORSKIE     212\n",
       "PODLASKIE              175\n",
       "MAZOWIECKIE            106\n",
       "POMORSKIE               94\n",
       "LUBUSKIE                47\n",
       "ŁÓDZKIE                 41\n",
       "DOLNOŚLĄSKIE            32\n",
       "WARMIŃSKO-MAZURSKIE     23\n",
       "ŚLĄSKIE                 17\n",
       "ŚWIĘTOKRZYSKIE          13\n",
       "MAŁOPOLSKIE             12\n",
       "LUBELSKIE                4\n",
       "PODKARPACKIE             1\n",
       "Name: Województwo, dtype: int64"
      ]
     },
     "execution_count": 4,
     "metadata": {},
     "output_type": "execute_result"
    }
   ],
   "source": [
    "caly_df['Województwo'].value_counts()"
   ]
  },
  {
   "cell_type": "code",
   "execution_count": 5,
   "metadata": {},
   "outputs": [],
   "source": [
    "caly_df=caly_df[caly_df['Województwo']!='PODKARPACKIE']\n",
    "caly_df=caly_df[caly_df['Województwo']!='LUBELSKIE']"
   ]
  },
  {
   "cell_type": "code",
   "execution_count": 6,
   "metadata": {},
   "outputs": [
    {
     "data": {
      "text/plain": [
       "WIELKOPOLSKIE          579\n",
       "KUJAWSKO-POMORSKIE     298\n",
       "OPOLSKIE               227\n",
       "ZACHODNIOPOMORSKIE     212\n",
       "PODLASKIE              175\n",
       "MAZOWIECKIE            106\n",
       "POMORSKIE               94\n",
       "LUBUSKIE                47\n",
       "ŁÓDZKIE                 41\n",
       "DOLNOŚLĄSKIE            32\n",
       "WARMIŃSKO-MAZURSKIE     23\n",
       "ŚLĄSKIE                 17\n",
       "ŚWIĘTOKRZYSKIE          13\n",
       "MAŁOPOLSKIE             12\n",
       "LUBELSKIE                0\n",
       "PODKARPACKIE             0\n",
       "Name: Województwo, dtype: int64"
      ]
     },
     "execution_count": 6,
     "metadata": {},
     "output_type": "execute_result"
    }
   ],
   "source": [
    "caly_df['Województwo'].value_counts()"
   ]
  },
  {
   "cell_type": "code",
   "execution_count": 7,
   "metadata": {},
   "outputs": [
    {
     "data": {
      "text/plain": [
       "2020    1066\n",
       "2019     396\n",
       "2018     275\n",
       "2017      68\n",
       "2021      47\n",
       "2016      23\n",
       "2015       1\n",
       "Name: Data urodzenia, dtype: int64"
      ]
     },
     "execution_count": 7,
     "metadata": {},
     "output_type": "execute_result"
    }
   ],
   "source": [
    "caly_df['Data urodzenia'].value_counts()"
   ]
  },
  {
   "cell_type": "code",
   "execution_count": 8,
   "metadata": {},
   "outputs": [],
   "source": [
    "caly_df=caly_df[caly_df['Data urodzenia']!=2015]"
   ]
  },
  {
   "cell_type": "code",
   "execution_count": 9,
   "metadata": {},
   "outputs": [
    {
     "data": {
      "text/plain": [
       "2020    1066\n",
       "2019     396\n",
       "2018     275\n",
       "2017      68\n",
       "2021      47\n",
       "2016      23\n",
       "2015       0\n",
       "Name: Data urodzenia, dtype: int64"
      ]
     },
     "execution_count": 9,
     "metadata": {},
     "output_type": "execute_result"
    }
   ],
   "source": [
    "caly_df['Data urodzenia'].value_counts()"
   ]
  },
  {
   "cell_type": "code",
   "execution_count": 10,
   "metadata": {},
   "outputs": [],
   "source": [
    "caly_label=caly_df[\"OMC\"]\n",
    "del caly_df[\"OMC\"]"
   ]
  },
  {
   "cell_type": "markdown",
   "metadata": {},
   "source": [
    "### 4. Zakodowuje zmienne kategoryczne "
   ]
  },
  {
   "cell_type": "code",
   "execution_count": 11,
   "metadata": {},
   "outputs": [],
   "source": [
    "a=pd.get_dummies(caly_df['Województwo'])\n",
    "b=pd.get_dummies(caly_df['Data urodzenia'])\n",
    "caly_df= pd.concat([caly_df,a,b], axis=1)\n",
    "del caly_df['Województwo']\n",
    "del caly_df['Data urodzenia']"
   ]
  },
  {
   "cell_type": "code",
   "execution_count": 12,
   "metadata": {},
   "outputs": [
    {
     "data": {
      "text/html": [
       "<div>\n",
       "<style scoped>\n",
       "    .dataframe tbody tr th:only-of-type {\n",
       "        vertical-align: middle;\n",
       "    }\n",
       "\n",
       "    .dataframe tbody tr th {\n",
       "        vertical-align: top;\n",
       "    }\n",
       "\n",
       "    .dataframe thead th {\n",
       "        text-align: right;\n",
       "    }\n",
       "</style>\n",
       "<table border=\"1\" class=\"dataframe\">\n",
       "  <thead>\n",
       "    <tr style=\"text-align: right;\">\n",
       "      <th></th>\n",
       "      <th>PI-PROD</th>\n",
       "      <th>PI-POKR</th>\n",
       "      <th>Prc</th>\n",
       "      <th>Psm</th>\n",
       "      <th>Pnr</th>\n",
       "      <th>Pw</th>\n",
       "      <th>PI-PLOD</th>\n",
       "      <th>CRj</th>\n",
       "      <th>CRk</th>\n",
       "      <th>PP</th>\n",
       "      <th>...</th>\n",
       "      <th>ŁÓDZKIE</th>\n",
       "      <th>ŚLĄSKIE</th>\n",
       "      <th>ŚWIĘTOKRZYSKIE</th>\n",
       "      <th>2015</th>\n",
       "      <th>2016</th>\n",
       "      <th>2017</th>\n",
       "      <th>2018</th>\n",
       "      <th>2019</th>\n",
       "      <th>2020</th>\n",
       "      <th>2021</th>\n",
       "    </tr>\n",
       "  </thead>\n",
       "  <tbody>\n",
       "    <tr>\n",
       "      <th>0</th>\n",
       "      <td>137</td>\n",
       "      <td>127</td>\n",
       "      <td>121</td>\n",
       "      <td>113</td>\n",
       "      <td>106</td>\n",
       "      <td>128</td>\n",
       "      <td>109</td>\n",
       "      <td>107</td>\n",
       "      <td>110</td>\n",
       "      <td>101</td>\n",
       "      <td>...</td>\n",
       "      <td>0</td>\n",
       "      <td>0</td>\n",
       "      <td>0</td>\n",
       "      <td>0</td>\n",
       "      <td>0</td>\n",
       "      <td>0</td>\n",
       "      <td>0</td>\n",
       "      <td>0</td>\n",
       "      <td>1</td>\n",
       "      <td>0</td>\n",
       "    </tr>\n",
       "    <tr>\n",
       "      <th>1</th>\n",
       "      <td>126</td>\n",
       "      <td>123</td>\n",
       "      <td>109</td>\n",
       "      <td>113</td>\n",
       "      <td>103</td>\n",
       "      <td>128</td>\n",
       "      <td>114</td>\n",
       "      <td>114</td>\n",
       "      <td>113</td>\n",
       "      <td>94</td>\n",
       "      <td>...</td>\n",
       "      <td>0</td>\n",
       "      <td>0</td>\n",
       "      <td>0</td>\n",
       "      <td>0</td>\n",
       "      <td>0</td>\n",
       "      <td>0</td>\n",
       "      <td>1</td>\n",
       "      <td>0</td>\n",
       "      <td>0</td>\n",
       "      <td>0</td>\n",
       "    </tr>\n",
       "    <tr>\n",
       "      <th>2</th>\n",
       "      <td>126</td>\n",
       "      <td>120</td>\n",
       "      <td>110</td>\n",
       "      <td>107</td>\n",
       "      <td>102</td>\n",
       "      <td>124</td>\n",
       "      <td>113</td>\n",
       "      <td>112</td>\n",
       "      <td>117</td>\n",
       "      <td>94</td>\n",
       "      <td>...</td>\n",
       "      <td>0</td>\n",
       "      <td>0</td>\n",
       "      <td>0</td>\n",
       "      <td>0</td>\n",
       "      <td>0</td>\n",
       "      <td>0</td>\n",
       "      <td>0</td>\n",
       "      <td>0</td>\n",
       "      <td>1</td>\n",
       "      <td>0</td>\n",
       "    </tr>\n",
       "    <tr>\n",
       "      <th>3</th>\n",
       "      <td>133</td>\n",
       "      <td>111</td>\n",
       "      <td>104</td>\n",
       "      <td>110</td>\n",
       "      <td>99</td>\n",
       "      <td>114</td>\n",
       "      <td>114</td>\n",
       "      <td>113</td>\n",
       "      <td>126</td>\n",
       "      <td>89</td>\n",
       "      <td>...</td>\n",
       "      <td>0</td>\n",
       "      <td>0</td>\n",
       "      <td>0</td>\n",
       "      <td>0</td>\n",
       "      <td>0</td>\n",
       "      <td>0</td>\n",
       "      <td>0</td>\n",
       "      <td>0</td>\n",
       "      <td>1</td>\n",
       "      <td>0</td>\n",
       "    </tr>\n",
       "    <tr>\n",
       "      <th>4</th>\n",
       "      <td>125</td>\n",
       "      <td>115</td>\n",
       "      <td>91</td>\n",
       "      <td>95</td>\n",
       "      <td>101</td>\n",
       "      <td>124</td>\n",
       "      <td>134</td>\n",
       "      <td>129</td>\n",
       "      <td>133</td>\n",
       "      <td>102</td>\n",
       "      <td>...</td>\n",
       "      <td>0</td>\n",
       "      <td>0</td>\n",
       "      <td>0</td>\n",
       "      <td>0</td>\n",
       "      <td>0</td>\n",
       "      <td>0</td>\n",
       "      <td>0</td>\n",
       "      <td>0</td>\n",
       "      <td>1</td>\n",
       "      <td>0</td>\n",
       "    </tr>\n",
       "    <tr>\n",
       "      <th>...</th>\n",
       "      <td>...</td>\n",
       "      <td>...</td>\n",
       "      <td>...</td>\n",
       "      <td>...</td>\n",
       "      <td>...</td>\n",
       "      <td>...</td>\n",
       "      <td>...</td>\n",
       "      <td>...</td>\n",
       "      <td>...</td>\n",
       "      <td>...</td>\n",
       "      <td>...</td>\n",
       "      <td>...</td>\n",
       "      <td>...</td>\n",
       "      <td>...</td>\n",
       "      <td>...</td>\n",
       "      <td>...</td>\n",
       "      <td>...</td>\n",
       "      <td>...</td>\n",
       "      <td>...</td>\n",
       "      <td>...</td>\n",
       "      <td>...</td>\n",
       "    </tr>\n",
       "    <tr>\n",
       "      <th>184</th>\n",
       "      <td>134</td>\n",
       "      <td>119</td>\n",
       "      <td>112</td>\n",
       "      <td>115</td>\n",
       "      <td>106</td>\n",
       "      <td>118</td>\n",
       "      <td>102</td>\n",
       "      <td>103</td>\n",
       "      <td>108</td>\n",
       "      <td>92</td>\n",
       "      <td>...</td>\n",
       "      <td>0</td>\n",
       "      <td>0</td>\n",
       "      <td>0</td>\n",
       "      <td>0</td>\n",
       "      <td>0</td>\n",
       "      <td>0</td>\n",
       "      <td>0</td>\n",
       "      <td>0</td>\n",
       "      <td>1</td>\n",
       "      <td>0</td>\n",
       "    </tr>\n",
       "    <tr>\n",
       "      <th>185</th>\n",
       "      <td>132</td>\n",
       "      <td>117</td>\n",
       "      <td>103</td>\n",
       "      <td>103</td>\n",
       "      <td>107</td>\n",
       "      <td>119</td>\n",
       "      <td>93</td>\n",
       "      <td>94</td>\n",
       "      <td>102</td>\n",
       "      <td>96</td>\n",
       "      <td>...</td>\n",
       "      <td>0</td>\n",
       "      <td>0</td>\n",
       "      <td>0</td>\n",
       "      <td>0</td>\n",
       "      <td>0</td>\n",
       "      <td>0</td>\n",
       "      <td>1</td>\n",
       "      <td>0</td>\n",
       "      <td>0</td>\n",
       "      <td>0</td>\n",
       "    </tr>\n",
       "    <tr>\n",
       "      <th>186</th>\n",
       "      <td>120</td>\n",
       "      <td>109</td>\n",
       "      <td>106</td>\n",
       "      <td>97</td>\n",
       "      <td>96</td>\n",
       "      <td>115</td>\n",
       "      <td>120</td>\n",
       "      <td>114</td>\n",
       "      <td>134</td>\n",
       "      <td>100</td>\n",
       "      <td>...</td>\n",
       "      <td>0</td>\n",
       "      <td>0</td>\n",
       "      <td>0</td>\n",
       "      <td>0</td>\n",
       "      <td>0</td>\n",
       "      <td>0</td>\n",
       "      <td>0</td>\n",
       "      <td>1</td>\n",
       "      <td>0</td>\n",
       "      <td>0</td>\n",
       "    </tr>\n",
       "    <tr>\n",
       "      <th>187</th>\n",
       "      <td>113</td>\n",
       "      <td>114</td>\n",
       "      <td>97</td>\n",
       "      <td>94</td>\n",
       "      <td>103</td>\n",
       "      <td>120</td>\n",
       "      <td>114</td>\n",
       "      <td>104</td>\n",
       "      <td>115</td>\n",
       "      <td>132</td>\n",
       "      <td>...</td>\n",
       "      <td>1</td>\n",
       "      <td>0</td>\n",
       "      <td>0</td>\n",
       "      <td>0</td>\n",
       "      <td>0</td>\n",
       "      <td>0</td>\n",
       "      <td>1</td>\n",
       "      <td>0</td>\n",
       "      <td>0</td>\n",
       "      <td>0</td>\n",
       "    </tr>\n",
       "    <tr>\n",
       "      <th>188</th>\n",
       "      <td>126</td>\n",
       "      <td>117</td>\n",
       "      <td>107</td>\n",
       "      <td>100</td>\n",
       "      <td>104</td>\n",
       "      <td>121</td>\n",
       "      <td>110</td>\n",
       "      <td>107</td>\n",
       "      <td>119</td>\n",
       "      <td>101</td>\n",
       "      <td>...</td>\n",
       "      <td>0</td>\n",
       "      <td>0</td>\n",
       "      <td>0</td>\n",
       "      <td>0</td>\n",
       "      <td>0</td>\n",
       "      <td>0</td>\n",
       "      <td>0</td>\n",
       "      <td>0</td>\n",
       "      <td>1</td>\n",
       "      <td>0</td>\n",
       "    </tr>\n",
       "  </tbody>\n",
       "</table>\n",
       "<p>1875 rows × 46 columns</p>\n",
       "</div>"
      ],
      "text/plain": [
       "     PI-PROD  PI-POKR  Prc  Psm  Pnr   Pw  PI-PLOD  CRj  CRk   PP  ...  \\\n",
       "0        137      127  121  113  106  128      109  107  110  101  ...   \n",
       "1        126      123  109  113  103  128      114  114  113   94  ...   \n",
       "2        126      120  110  107  102  124      113  112  117   94  ...   \n",
       "3        133      111  104  110   99  114      114  113  126   89  ...   \n",
       "4        125      115   91   95  101  124      134  129  133  102  ...   \n",
       "..       ...      ...  ...  ...  ...  ...      ...  ...  ...  ...  ...   \n",
       "184      134      119  112  115  106  118      102  103  108   92  ...   \n",
       "185      132      117  103  103  107  119       93   94  102   96  ...   \n",
       "186      120      109  106   97   96  115      120  114  134  100  ...   \n",
       "187      113      114   97   94  103  120      114  104  115  132  ...   \n",
       "188      126      117  107  100  104  121      110  107  119  101  ...   \n",
       "\n",
       "     ŁÓDZKIE  ŚLĄSKIE  ŚWIĘTOKRZYSKIE  2015  2016  2017  2018  2019  2020  \\\n",
       "0          0        0               0     0     0     0     0     0     1   \n",
       "1          0        0               0     0     0     0     1     0     0   \n",
       "2          0        0               0     0     0     0     0     0     1   \n",
       "3          0        0               0     0     0     0     0     0     1   \n",
       "4          0        0               0     0     0     0     0     0     1   \n",
       "..       ...      ...             ...   ...   ...   ...   ...   ...   ...   \n",
       "184        0        0               0     0     0     0     0     0     1   \n",
       "185        0        0               0     0     0     0     1     0     0   \n",
       "186        0        0               0     0     0     0     0     1     0   \n",
       "187        1        0               0     0     0     0     1     0     0   \n",
       "188        0        0               0     0     0     0     0     0     1   \n",
       "\n",
       "     2021  \n",
       "0       0  \n",
       "1       0  \n",
       "2       0  \n",
       "3       0  \n",
       "4       0  \n",
       "..    ...  \n",
       "184     0  \n",
       "185     0  \n",
       "186     0  \n",
       "187     0  \n",
       "188     0  \n",
       "\n",
       "[1875 rows x 46 columns]"
      ]
     },
     "execution_count": 12,
     "metadata": {},
     "output_type": "execute_result"
    }
   ],
   "source": [
    "caly_df"
   ]
  },
  {
   "cell_type": "code",
   "execution_count": 13,
   "metadata": {
    "scrolled": true
   },
   "outputs": [
    {
     "name": "stdout",
     "output_type": "stream",
     "text": [
      "<class 'pandas.core.frame.DataFrame'>\n",
      "Int64Index: 1875 entries, 0 to 188\n",
      "Data columns (total 46 columns):\n",
      " #   Column               Non-Null Count  Dtype  \n",
      "---  ------               --------------  -----  \n",
      " 0   PI-PROD              1875 non-null   int64  \n",
      " 1   PI-POKR              1875 non-null   int64  \n",
      " 2   Prc                  1875 non-null   int64  \n",
      " 3   Psm                  1875 non-null   int64  \n",
      " 4   Pnr                  1875 non-null   int64  \n",
      " 5   Pw                   1875 non-null   int64  \n",
      " 6   PI-PLOD              1875 non-null   int64  \n",
      " 7   CRj                  1875 non-null   int64  \n",
      " 8   CRk                  1875 non-null   int64  \n",
      " 9   PP                   1875 non-null   int64  \n",
      " 10  WH-KSOM              1875 non-null   int64  \n",
      " 11  WH-DLUG              1875 non-null   int64  \n",
      " 12  IP                   1875 non-null   int64  \n",
      " 13  kg ml                1875 non-null   int64  \n",
      " 14  kg tł                1875 non-null   int64  \n",
      " 15  % tł                 1875 non-null   int64  \n",
      " 16  kg bi                1875 non-null   int64  \n",
      " 17  % bi                 1875 non-null   int64  \n",
      " 18  rc                   1875 non-null   float64\n",
      " 19  sm                   1875 non-null   float64\n",
      " 20  nr                   1875 non-null   float64\n",
      " 21  w                    1875 non-null   float64\n",
      " 22  og                   1875 non-null   float64\n",
      " 23  DOLNOŚLĄSKIE         1875 non-null   uint8  \n",
      " 24  KUJAWSKO-POMORSKIE   1875 non-null   uint8  \n",
      " 25  LUBELSKIE            1875 non-null   uint8  \n",
      " 26  LUBUSKIE             1875 non-null   uint8  \n",
      " 27  MAZOWIECKIE          1875 non-null   uint8  \n",
      " 28  MAŁOPOLSKIE          1875 non-null   uint8  \n",
      " 29  OPOLSKIE             1875 non-null   uint8  \n",
      " 30  PODKARPACKIE         1875 non-null   uint8  \n",
      " 31  PODLASKIE            1875 non-null   uint8  \n",
      " 32  POMORSKIE            1875 non-null   uint8  \n",
      " 33  WARMIŃSKO-MAZURSKIE  1875 non-null   uint8  \n",
      " 34  WIELKOPOLSKIE        1875 non-null   uint8  \n",
      " 35  ZACHODNIOPOMORSKIE   1875 non-null   uint8  \n",
      " 36  ŁÓDZKIE              1875 non-null   uint8  \n",
      " 37  ŚLĄSKIE              1875 non-null   uint8  \n",
      " 38  ŚWIĘTOKRZYSKIE       1875 non-null   uint8  \n",
      " 39  2015                 1875 non-null   uint8  \n",
      " 40  2016                 1875 non-null   uint8  \n",
      " 41  2017                 1875 non-null   uint8  \n",
      " 42  2018                 1875 non-null   uint8  \n",
      " 43  2019                 1875 non-null   uint8  \n",
      " 44  2020                 1875 non-null   uint8  \n",
      " 45  2021                 1875 non-null   uint8  \n",
      "dtypes: float64(5), int64(18), uint8(23)\n",
      "memory usage: 393.7 KB\n"
     ]
    }
   ],
   "source": [
    "caly_df.info()"
   ]
  },
  {
   "cell_type": "markdown",
   "metadata": {},
   "source": [
    "### 5. Tworzę metrykę do oceny dobierania parametrów\n"
   ]
  },
  {
   "cell_type": "code",
   "execution_count": 14,
   "metadata": {},
   "outputs": [],
   "source": [
    "mae_scorer = make_scorer(mean_absolute_error)"
   ]
  },
  {
   "cell_type": "markdown",
   "metadata": {},
   "source": [
    "## 6 Modele"
   ]
  },
  {
   "cell_type": "code",
   "execution_count": 15,
   "metadata": {},
   "outputs": [],
   "source": [
    "# Drzewa, lasy, gradient boosting i XGBR nie wymagają standaryzacji"
   ]
  },
  {
   "cell_type": "markdown",
   "metadata": {},
   "source": [
    "### 6.1 Drzewa decyzyjne"
   ]
  },
  {
   "cell_type": "markdown",
   "metadata": {},
   "source": [
    "#### 6.1.1 Dobieranie zmiennych"
   ]
  },
  {
   "cell_type": "code",
   "execution_count": 16,
   "metadata": {},
   "outputs": [],
   "source": [
    "estimator=DecisionTreeRegressor()\n",
    "selector = RFECV(estimator, step=1, cv=5,scoring=mae_scorer)\n",
    "selector2 = selector.fit(caly_df, caly_label)\n"
   ]
  },
  {
   "cell_type": "code",
   "execution_count": 17,
   "metadata": {},
   "outputs": [
    {
     "data": {
      "text/plain": [
       "array([22, 25,  7, 13, 16, 15,  3, 19,  2,  1, 14, 17,  4,  5,  8, 20,  9,\n",
       "       12, 18, 11, 10,  6, 21, 44, 27, 42, 33, 26, 35, 30, 37, 28, 40, 43,\n",
       "       23, 32, 34, 41, 39, 45, 36, 38, 31, 24, 29, 46])"
      ]
     },
     "execution_count": 17,
     "metadata": {},
     "output_type": "execute_result"
    }
   ],
   "source": [
    "selector2.ranking_"
   ]
  },
  {
   "cell_type": "code",
   "execution_count": 18,
   "metadata": {},
   "outputs": [],
   "source": [
    "nazwy_kolumn=caly_df.columns\n",
    "dictionary = dict(zip(nazwy_kolumn, selector2.ranking_))\n",
    "dictionary= dict(sorted(dictionary.items(), key=lambda item: item[1]))"
   ]
  },
  {
   "cell_type": "code",
   "execution_count": 19,
   "metadata": {
    "scrolled": true
   },
   "outputs": [
    {
     "data": {
      "text/plain": [
       "{'PP': 1,\n",
       " 'CRk': 2,\n",
       " 'PI-PLOD': 3,\n",
       " 'IP': 4,\n",
       " 'kg ml': 5,\n",
       " 'w': 6,\n",
       " 'Prc': 7,\n",
       " 'kg tł': 8,\n",
       " 'kg bi': 9,\n",
       " 'nr': 10,\n",
       " 'sm': 11,\n",
       " '% bi': 12,\n",
       " 'Psm': 13,\n",
       " 'WH-KSOM': 14,\n",
       " 'Pw': 15,\n",
       " 'Pnr': 16,\n",
       " 'WH-DLUG': 17,\n",
       " 'rc': 18,\n",
       " 'CRj': 19,\n",
       " '% tł': 20,\n",
       " 'og': 21,\n",
       " 'PI-PROD': 22,\n",
       " 'WIELKOPOLSKIE': 23,\n",
       " 2019: 24,\n",
       " 'PI-POKR': 25,\n",
       " 'MAZOWIECKIE': 26,\n",
       " 'KUJAWSKO-POMORSKIE': 27,\n",
       " 'PODLASKIE': 28,\n",
       " 2020: 29,\n",
       " 'OPOLSKIE': 30,\n",
       " 2018: 31,\n",
       " 'ZACHODNIOPOMORSKIE': 32,\n",
       " 'LUBUSKIE': 33,\n",
       " 'ŁÓDZKIE': 34,\n",
       " 'MAŁOPOLSKIE': 35,\n",
       " 2016: 36,\n",
       " 'PODKARPACKIE': 37,\n",
       " 2017: 38,\n",
       " 'ŚWIĘTOKRZYSKIE': 39,\n",
       " 'POMORSKIE': 40,\n",
       " 'ŚLĄSKIE': 41,\n",
       " 'LUBELSKIE': 42,\n",
       " 'WARMIŃSKO-MAZURSKIE': 43,\n",
       " 'DOLNOŚLĄSKIE': 44,\n",
       " 2015: 45,\n",
       " 2021: 46}"
      ]
     },
     "execution_count": 19,
     "metadata": {},
     "output_type": "execute_result"
    }
   ],
   "source": [
    "dictionary"
   ]
  },
  {
   "cell_type": "code",
   "execution_count": 20,
   "metadata": {},
   "outputs": [],
   "source": [
    "nazwy_kolumn_2=[]\n",
    "for x in dictionary.keys():\n",
    "    nazwy_kolumn_2.append(x)"
   ]
  },
  {
   "cell_type": "code",
   "execution_count": 21,
   "metadata": {},
   "outputs": [],
   "source": [
    "caly_df_zapas=caly_df"
   ]
  },
  {
   "cell_type": "code",
   "execution_count": 22,
   "metadata": {
    "scrolled": true
   },
   "outputs": [
    {
     "data": {
      "text/plain": [
       "['PP',\n",
       " 'CRk',\n",
       " 'PI-PLOD',\n",
       " 'IP',\n",
       " 'kg ml',\n",
       " 'w',\n",
       " 'Prc',\n",
       " 'kg tł',\n",
       " 'kg bi',\n",
       " 'nr',\n",
       " 'sm',\n",
       " '% bi',\n",
       " 'Psm',\n",
       " 'WH-KSOM',\n",
       " 'Pw',\n",
       " 'Pnr',\n",
       " 'WH-DLUG',\n",
       " 'rc',\n",
       " 'CRj',\n",
       " '% tł',\n",
       " 'og',\n",
       " 'PI-PROD',\n",
       " 'WIELKOPOLSKIE',\n",
       " 2019,\n",
       " 'PI-POKR',\n",
       " 'MAZOWIECKIE',\n",
       " 'KUJAWSKO-POMORSKIE',\n",
       " 'PODLASKIE',\n",
       " 2020,\n",
       " 'OPOLSKIE',\n",
       " 2018,\n",
       " 'ZACHODNIOPOMORSKIE',\n",
       " 'LUBUSKIE',\n",
       " 'ŁÓDZKIE',\n",
       " 'MAŁOPOLSKIE',\n",
       " 2016,\n",
       " 'PODKARPACKIE',\n",
       " 2017,\n",
       " 'ŚWIĘTOKRZYSKIE',\n",
       " 'POMORSKIE',\n",
       " 'ŚLĄSKIE',\n",
       " 'LUBELSKIE',\n",
       " 'WARMIŃSKO-MAZURSKIE',\n",
       " 'DOLNOŚLĄSKIE',\n",
       " 2015,\n",
       " 2021]"
      ]
     },
     "execution_count": 22,
     "metadata": {},
     "output_type": "execute_result"
    }
   ],
   "source": [
    "nazwy_kolumn_2"
   ]
  },
  {
   "cell_type": "code",
   "execution_count": 23,
   "metadata": {
    "scrolled": true
   },
   "outputs": [],
   "source": [
    "dane_do_porownania=pd.DataFrame(columns=[\"Liczba zmiennych\",\n",
    "                                    \"Błąd\"]\n",
    "                                )\n",
    "glowne_wyniki=[]\n",
    "glowne_zmienne=[]\n",
    "zm=[]\n",
    "for i in range(0,len(nazwy_kolumn_2)):\n",
    "    zmienne=[]\n",
    "    for q in range(0,i+1):\n",
    "        zmienne.append(nazwy_kolumn_2[q])\n",
    "    zm.append(zmienne)\n",
    "    data_frame=caly_df_zapas[zmienne]\n",
    "    kfold = KFold(n_splits=5, shuffle=False)\n",
    "\n",
    "    data_frame = np.array(data_frame)\n",
    "    caly_label = np.array(caly_label)\n",
    "    \n",
    "    wyniki=[]\n",
    "    \n",
    "    for train, test in kfold.split(data_frame, caly_label):\n",
    "        reg = DecisionTreeRegressor()\n",
    "        reg.fit(data_frame[train], caly_label[train])\n",
    "        predykcje=reg.predict(data_frame[test])\n",
    "        \n",
    "        dane_folda=pd.DataFrame({\"pred\": predykcje.ravel(),\n",
    "                                    \"obs\": caly_label[test]\n",
    "                                })\n",
    "        \n",
    "        dane_folda['blad']=abs(dane_folda['obs']-dane_folda['pred'])\n",
    "        mae=dane_folda['blad'].sum()/len(dane_folda['blad'])\n",
    "        wyniki.append(mae)\n",
    "        \n",
    "    wynik=sum(wyniki)/len(wyniki)\n",
    "    glowne_wyniki.append(wynik)\n",
    "    glowne_zmienne.append(i)\n",
    "\n",
    "                       "
   ]
  },
  {
   "cell_type": "code",
   "execution_count": 24,
   "metadata": {},
   "outputs": [],
   "source": [
    "dane_do_porownania[\"Liczba zmiennych\"]=glowne_zmienne\n",
    "dane_do_porownania[\"Błąd\"]=glowne_wyniki"
   ]
  },
  {
   "cell_type": "code",
   "execution_count": 25,
   "metadata": {},
   "outputs": [
    {
     "data": {
      "text/plain": [
       "5"
      ]
     },
     "execution_count": 25,
     "metadata": {},
     "output_type": "execute_result"
    }
   ],
   "source": [
    "list(dane_do_porownania[\"Błąd\"]).index(min(list(dane_do_porownania[\"Błąd\"])))"
   ]
  },
  {
   "cell_type": "code",
   "execution_count": 26,
   "metadata": {},
   "outputs": [],
   "source": [
    "zmienne_5=zm[list(dane_do_porownania[\"Błąd\"]).index(min(list(dane_do_porownania[\"Błąd\"])))]"
   ]
  },
  {
   "cell_type": "code",
   "execution_count": 27,
   "metadata": {},
   "outputs": [
    {
     "name": "stdout",
     "output_type": "stream",
     "text": [
      "['PP', 'CRk', 'PI-PLOD', 'IP', 'kg ml', 'w']\n"
     ]
    }
   ],
   "source": [
    "print(zmienne_5)"
   ]
  },
  {
   "cell_type": "code",
   "execution_count": 28,
   "metadata": {},
   "outputs": [],
   "source": [
    "dane_do_porownania.to_csv('Wyniki REFCV Drzewo losowe OMC.csv',index=False)"
   ]
  },
  {
   "cell_type": "code",
   "execution_count": 16,
   "metadata": {},
   "outputs": [],
   "source": [
    "zmienne_5=['PP', 'CRk', 'PI-PLOD', 'IP', 'kg ml', 'Pw']"
   ]
  },
  {
   "cell_type": "code",
   "execution_count": 75,
   "metadata": {},
   "outputs": [
    {
     "data": {
      "text/plain": [
       "46"
      ]
     },
     "execution_count": 75,
     "metadata": {},
     "output_type": "execute_result"
    }
   ],
   "source": [
    "len(dane_do_porownania[\"Błąd\"])"
   ]
  },
  {
   "cell_type": "code",
   "execution_count": 77,
   "metadata": {},
   "outputs": [
    {
     "data": {
      "image/png": "[encoded data removed]",
      "text/plain": [
       "<Figure size 432x288 with 1 Axes>"
      ]
     },
     "metadata": {
      "needs_background": "light"
     },
     "output_type": "display_data"
    }
   ],
   "source": [
    "plt.plot(list(dane_do_porownania[\"Błąd\"]))\n",
    "plt.axvline(x=list(dane_do_porownania[\"Błąd\"]).index(min(list(dane_do_porownania[\"Błąd\"]))), color='r', linestyle='-')\n",
    "plt.xlabel(\"Number of features\")\n",
    "plt.ylabel(\"MAE of OMC\")\n",
    "plt.title(\"Decision Tree\")\n",
    "plt.show()"
   ]
  },
  {
   "cell_type": "code",
   "execution_count": 19,
   "metadata": {},
   "outputs": [],
   "source": [
    "zestaw_caly=caly_df_zapas\n",
    "zestaw_5=caly_df_zapas[zmienne_5]\n"
   ]
  },
  {
   "cell_type": "code",
   "execution_count": 20,
   "metadata": {},
   "outputs": [],
   "source": [
    "zestaw_caly = np.array(zestaw_caly)\n",
    "zestaw_5 = np.array(zestaw_5)\n",
    "\n",
    "caly_label = np.array(caly_label)"
   ]
  },
  {
   "cell_type": "markdown",
   "metadata": {},
   "source": [
    "### 6.2 Hiperparametry drzewa losowego"
   ]
  },
  {
   "cell_type": "code",
   "execution_count": 31,
   "metadata": {},
   "outputs": [],
   "source": [
    "param_grid = {\n",
    "    'criterion':['mae'],\n",
    "    'splitter':['best', 'random'],\n",
    "    'min_samples_split':range(2,10,2),\n",
    "    'min_samples_leaf': range(1,10,2),    \n",
    "    'max_leaf_nodes':range(2,10,2),\n",
    "    'max_depth':list(range(2, 10,1))\n",
    "}"
   ]
  },
  {
   "cell_type": "markdown",
   "metadata": {},
   "source": [
    "### 6.2.1 Wszystkie dane"
   ]
  },
  {
   "cell_type": "markdown",
   "metadata": {},
   "source": [
    "#### 6.2.1.1 Wszystkie dane part 1"
   ]
  },
  {
   "cell_type": "code",
   "execution_count": 32,
   "metadata": {},
   "outputs": [
    {
     "name": "stdout",
     "output_type": "stream",
     "text": [
      "Fitting 2 folds for each of 1280 candidates, totalling 2560 fits\n"
     ]
    },
    {
     "data": {
      "text/plain": [
       "GridSearchCV(cv=2, estimator=DecisionTreeRegressor(), n_jobs=1,\n",
       "             param_grid={'criterion': ['mae'],\n",
       "                         'max_depth': [2, 3, 4, 5, 6, 7, 8, 9],\n",
       "                         'max_leaf_nodes': range(2, 10, 2),\n",
       "                         'min_samples_leaf': range(1, 10, 2),\n",
       "                         'min_samples_split': range(2, 10, 2),\n",
       "                         'splitter': ['best', 'random']},\n",
       "             scoring='neg_mean_absolute_error', verbose=1)"
      ]
     },
     "execution_count": 32,
     "metadata": {},
     "output_type": "execute_result"
    }
   ],
   "source": [
    "dt_1 = DecisionTreeRegressor()\n",
    "grid_search_1 = GridSearchCV(estimator = dt_1, param_grid = param_grid, \n",
    "                          cv = 2, n_jobs = 1, verbose = 1,scoring='neg_mean_absolute_error')\n",
    "grid_search_1.fit(zestaw_caly, np.ravel(caly_label))"
   ]
  },
  {
   "cell_type": "code",
   "execution_count": 33,
   "metadata": {},
   "outputs": [
    {
     "data": {
      "text/plain": [
       "{'criterion': 'mae',\n",
       " 'max_depth': 4,\n",
       " 'max_leaf_nodes': 8,\n",
       " 'min_samples_leaf': 1,\n",
       " 'min_samples_split': 2,\n",
       " 'splitter': 'best'}"
      ]
     },
     "execution_count": 33,
     "metadata": {},
     "output_type": "execute_result"
    }
   ],
   "source": [
    "grid_search_1.best_params_"
   ]
  },
  {
   "cell_type": "code",
   "execution_count": 34,
   "metadata": {},
   "outputs": [
    {
     "data": {
      "text/plain": [
       "DecisionTreeRegressor(criterion='mae', max_depth=4, max_leaf_nodes=8)"
      ]
     },
     "execution_count": 34,
     "metadata": {},
     "output_type": "execute_result"
    }
   ],
   "source": [
    "grid_search_1.best_estimator_"
   ]
  },
  {
   "cell_type": "code",
   "execution_count": 35,
   "metadata": {},
   "outputs": [
    {
     "data": {
      "text/plain": [
       "-2.667130500872676"
      ]
     },
     "execution_count": 35,
     "metadata": {},
     "output_type": "execute_result"
    }
   ],
   "source": [
    "grid_search_1.best_score_"
   ]
  },
  {
   "cell_type": "markdown",
   "metadata": {},
   "source": [
    "#### 6.2.1.2 Wszystkie dane part 2"
   ]
  },
  {
   "cell_type": "code",
   "execution_count": 40,
   "metadata": {},
   "outputs": [],
   "source": [
    "param_grid = {\n",
    "    'criterion':['mae'],\n",
    "    'splitter':['best'],\n",
    "    'min_samples_split':range(2,5,1),\n",
    "    'min_samples_leaf': range(1,5,1),    \n",
    "    'max_leaf_nodes':range(6,16,1),\n",
    "    'max_depth':list(range(2, 7,1))\n",
    "}"
   ]
  },
  {
   "cell_type": "code",
   "execution_count": 41,
   "metadata": {},
   "outputs": [
    {
     "name": "stdout",
     "output_type": "stream",
     "text": [
      "Fitting 2 folds for each of 600 candidates, totalling 1200 fits\n"
     ]
    },
    {
     "data": {
      "text/plain": [
       "GridSearchCV(cv=2, estimator=DecisionTreeRegressor(), n_jobs=1,\n",
       "             param_grid={'criterion': ['mae'], 'max_depth': [2, 3, 4, 5, 6],\n",
       "                         'max_leaf_nodes': range(6, 16),\n",
       "                         'min_samples_leaf': range(1, 5),\n",
       "                         'min_samples_split': range(2, 5),\n",
       "                         'splitter': ['best']},\n",
       "             scoring='neg_mean_absolute_error', verbose=1)"
      ]
     },
     "execution_count": 41,
     "metadata": {},
     "output_type": "execute_result"
    }
   ],
   "source": [
    "dt_1 = DecisionTreeRegressor()\n",
    "grid_search_1 = GridSearchCV(estimator = dt_1, param_grid = param_grid, \n",
    "                          cv = 2, n_jobs = 1, verbose = 1,scoring='neg_mean_absolute_error')\n",
    "grid_search_1.fit(zestaw_caly, np.ravel(caly_label))"
   ]
  },
  {
   "cell_type": "code",
   "execution_count": 42,
   "metadata": {},
   "outputs": [
    {
     "data": {
      "text/plain": [
       "{'criterion': 'mae',\n",
       " 'max_depth': 6,\n",
       " 'max_leaf_nodes': 15,\n",
       " 'min_samples_leaf': 1,\n",
       " 'min_samples_split': 2,\n",
       " 'splitter': 'best'}"
      ]
     },
     "execution_count": 42,
     "metadata": {},
     "output_type": "execute_result"
    }
   ],
   "source": [
    "grid_search_1.best_params_"
   ]
  },
  {
   "cell_type": "code",
   "execution_count": 43,
   "metadata": {},
   "outputs": [
    {
     "data": {
      "text/plain": [
       "DecisionTreeRegressor(criterion='mae', max_depth=6, max_leaf_nodes=15)"
      ]
     },
     "execution_count": 43,
     "metadata": {},
     "output_type": "execute_result"
    }
   ],
   "source": [
    "grid_search_1.best_estimator_"
   ]
  },
  {
   "cell_type": "code",
   "execution_count": 44,
   "metadata": {},
   "outputs": [
    {
     "data": {
      "text/plain": [
       "-2.187737368956407"
      ]
     },
     "execution_count": 44,
     "metadata": {},
     "output_type": "execute_result"
    }
   ],
   "source": [
    "grid_search_1.best_score_"
   ]
  },
  {
   "cell_type": "markdown",
   "metadata": {},
   "source": [
    "#### 6.2.1.2 Zestaw 5 part 1 "
   ]
  },
  {
   "cell_type": "code",
   "execution_count": 36,
   "metadata": {},
   "outputs": [
    {
     "name": "stdout",
     "output_type": "stream",
     "text": [
      "Fitting 2 folds for each of 1280 candidates, totalling 2560 fits\n"
     ]
    },
    {
     "data": {
      "text/plain": [
       "GridSearchCV(cv=2, estimator=DecisionTreeRegressor(), n_jobs=1,\n",
       "             param_grid={'criterion': ['mae'],\n",
       "                         'max_depth': [2, 3, 4, 5, 6, 7, 8, 9],\n",
       "                         'max_leaf_nodes': range(2, 10, 2),\n",
       "                         'min_samples_leaf': range(1, 10, 2),\n",
       "                         'min_samples_split': range(2, 10, 2),\n",
       "                         'splitter': ['best', 'random']},\n",
       "             scoring='neg_mean_absolute_error', verbose=1)"
      ]
     },
     "execution_count": 36,
     "metadata": {},
     "output_type": "execute_result"
    }
   ],
   "source": [
    "dt_2 = DecisionTreeRegressor()\n",
    "grid_search_2 = GridSearchCV(estimator = dt_2, param_grid = param_grid, \n",
    "                          cv = 2, n_jobs = 1, verbose = 1,scoring='neg_mean_absolute_error')\n",
    "grid_search_2.fit(zestaw_5, np.ravel(caly_label))"
   ]
  },
  {
   "cell_type": "code",
   "execution_count": 37,
   "metadata": {
    "scrolled": true
   },
   "outputs": [
    {
     "data": {
      "text/plain": [
       "{'criterion': 'mae',\n",
       " 'max_depth': 4,\n",
       " 'max_leaf_nodes': 8,\n",
       " 'min_samples_leaf': 1,\n",
       " 'min_samples_split': 2,\n",
       " 'splitter': 'best'}"
      ]
     },
     "execution_count": 37,
     "metadata": {},
     "output_type": "execute_result"
    }
   ],
   "source": [
    "grid_search_2.best_params_"
   ]
  },
  {
   "cell_type": "code",
   "execution_count": 38,
   "metadata": {},
   "outputs": [
    {
     "data": {
      "text/plain": [
       "DecisionTreeRegressor(criterion='mae', max_depth=4, max_leaf_nodes=8)"
      ]
     },
     "execution_count": 38,
     "metadata": {},
     "output_type": "execute_result"
    }
   ],
   "source": [
    "grid_search_2.best_estimator_"
   ]
  },
  {
   "cell_type": "code",
   "execution_count": 39,
   "metadata": {},
   "outputs": [
    {
     "data": {
      "text/plain": [
       "-2.667130500872676"
      ]
     },
     "execution_count": 39,
     "metadata": {},
     "output_type": "execute_result"
    }
   ],
   "source": [
    "grid_search_2.best_score_"
   ]
  },
  {
   "cell_type": "markdown",
   "metadata": {},
   "source": [
    "#### 6.2.1.3 Zestaw 5 part 2 "
   ]
  },
  {
   "cell_type": "code",
   "execution_count": 45,
   "metadata": {},
   "outputs": [],
   "source": [
    "param_grid = {\n",
    "    'criterion':['mae'],\n",
    "    'splitter':['best'],\n",
    "    'min_samples_split':range(2,5,1),\n",
    "    'min_samples_leaf': range(1,5,1),    \n",
    "    'max_leaf_nodes':range(6,16,1),\n",
    "    'max_depth':list(range(2, 7,1))\n",
    "}"
   ]
  },
  {
   "cell_type": "code",
   "execution_count": 46,
   "metadata": {},
   "outputs": [
    {
     "name": "stdout",
     "output_type": "stream",
     "text": [
      "Fitting 2 folds for each of 600 candidates, totalling 1200 fits\n"
     ]
    },
    {
     "data": {
      "text/plain": [
       "GridSearchCV(cv=2, estimator=DecisionTreeRegressor(), n_jobs=1,\n",
       "             param_grid={'criterion': ['mae'], 'max_depth': [2, 3, 4, 5, 6],\n",
       "                         'max_leaf_nodes': range(6, 16),\n",
       "                         'min_samples_leaf': range(1, 5),\n",
       "                         'min_samples_split': range(2, 5),\n",
       "                         'splitter': ['best']},\n",
       "             scoring='neg_mean_absolute_error', verbose=1)"
      ]
     },
     "execution_count": 46,
     "metadata": {},
     "output_type": "execute_result"
    }
   ],
   "source": [
    "dt_2 = DecisionTreeRegressor()\n",
    "grid_search_2 = GridSearchCV(estimator = dt_2, param_grid = param_grid, \n",
    "                          cv = 2, n_jobs = 1, verbose = 1,scoring='neg_mean_absolute_error')\n",
    "grid_search_2.fit(zestaw_5, np.ravel(caly_label))"
   ]
  },
  {
   "cell_type": "code",
   "execution_count": 47,
   "metadata": {},
   "outputs": [
    {
     "data": {
      "text/plain": [
       "{'criterion': 'mae',\n",
       " 'max_depth': 6,\n",
       " 'max_leaf_nodes': 15,\n",
       " 'min_samples_leaf': 1,\n",
       " 'min_samples_split': 2,\n",
       " 'splitter': 'best'}"
      ]
     },
     "execution_count": 47,
     "metadata": {},
     "output_type": "execute_result"
    }
   ],
   "source": [
    "grid_search_2.best_params_"
   ]
  },
  {
   "cell_type": "code",
   "execution_count": 48,
   "metadata": {},
   "outputs": [
    {
     "data": {
      "text/plain": [
       "DecisionTreeRegressor(criterion='mae', max_depth=6, max_leaf_nodes=15)"
      ]
     },
     "execution_count": 48,
     "metadata": {},
     "output_type": "execute_result"
    }
   ],
   "source": [
    "grid_search_2.best_estimator_"
   ]
  },
  {
   "cell_type": "code",
   "execution_count": 49,
   "metadata": {},
   "outputs": [
    {
     "data": {
      "text/plain": [
       "-2.187737368956407"
      ]
     },
     "execution_count": 49,
     "metadata": {},
     "output_type": "execute_result"
    }
   ],
   "source": [
    "grid_search_2.best_score_"
   ]
  },
  {
   "cell_type": "code",
   "execution_count": null,
   "metadata": {},
   "outputs": [],
   "source": []
  },
  {
   "cell_type": "markdown",
   "metadata": {},
   "source": [
    "### 6.3 Cros validacja dla drzewa decyzyjnego"
   ]
  },
  {
   "cell_type": "markdown",
   "metadata": {},
   "source": [
    "#### 6.3.1 Cros validacja dla drzewa decyzyjnego Zestaw 5"
   ]
  },
  {
   "cell_type": "code",
   "execution_count": 50,
   "metadata": {},
   "outputs": [],
   "source": [
    "kfold = KFold(n_splits=5, shuffle=False)\n",
    "dane_do_zapisu_1=pd.DataFrame()\n",
    "licznik=1\n",
    "wart_1=[]\n",
    "\n",
    "for train, test in kfold.split(zestaw_5, caly_label):\n",
    "    dt_1 =DecisionTreeRegressor(criterion='mae', max_depth=6, max_leaf_nodes=15)\n",
    "    \n",
    "    dt_1.fit(zestaw_5[train], caly_label[train])\n",
    "    predykcje=dt_1.predict(zestaw_5[test])\n",
    "    dane_folda_1=pd.DataFrame({\"pred\": predykcje.ravel(),\n",
    "                                \"obs\": caly_label[test],\n",
    "                                \"Fold\":licznik})\n",
    "    dane_do_zapisu_1=pd.concat([dane_do_zapisu_1,dane_folda_1])\n",
    "    sredni_blad=mean_absolute_error(caly_label[test],predykcje)\n",
    "    wart_1.append(sredni_blad)\n",
    "    licznik+=1"
   ]
  },
  {
   "cell_type": "code",
   "execution_count": 51,
   "metadata": {},
   "outputs": [
    {
     "data": {
      "text/plain": [
       "[2.3013333333333335, 2.168, 2.088, 2.1026666666666665, 2.1666666666666665]"
      ]
     },
     "execution_count": 51,
     "metadata": {},
     "output_type": "execute_result"
    }
   ],
   "source": [
    "wart_1"
   ]
  },
  {
   "cell_type": "code",
   "execution_count": 52,
   "metadata": {},
   "outputs": [
    {
     "data": {
      "text/plain": [
       "2.1653333333333333"
      ]
     },
     "execution_count": 52,
     "metadata": {},
     "output_type": "execute_result"
    }
   ],
   "source": [
    "sum(wart_1)/len(wart_1)"
   ]
  },
  {
   "cell_type": "markdown",
   "metadata": {},
   "source": [
    "#### 6.3.2 Cros validacja dla drzewa decyzyjnego Wszystkie dane"
   ]
  },
  {
   "cell_type": "code",
   "execution_count": 53,
   "metadata": {},
   "outputs": [],
   "source": [
    "kfold = KFold(n_splits=5, shuffle=False)\n",
    "dane_do_zapisu_2=pd.DataFrame()\n",
    "licznik=1\n",
    "wart_2=[]\n",
    "for train, test in kfold.split(zestaw_caly, caly_label):\n",
    "    dt_2 =DecisionTreeRegressor(criterion='mae', max_depth=6, max_leaf_nodes=15)\n",
    "    \n",
    "    dt_2.fit(zestaw_caly[train], caly_label[train])\n",
    "    predykcje=dt_2.predict(zestaw_caly[test])\n",
    "    dane_folda_2=pd.DataFrame({\"pred\": predykcje.ravel(),\n",
    "                                \"obs\": caly_label[test],\n",
    "                                \"Fold\":licznik})\n",
    "    dane_do_zapisu_2=pd.concat([dane_do_zapisu_2,dane_folda_2])\n",
    "    sredni_blad=mean_absolute_error(caly_label[test],predykcje) #y tre, y pred\n",
    "    wart_2.append(sredni_blad)\n",
    "    licznik+=1"
   ]
  },
  {
   "cell_type": "code",
   "execution_count": 54,
   "metadata": {},
   "outputs": [
    {
     "data": {
      "text/plain": [
       "[2.3013333333333335, 2.168, 2.088, 2.1026666666666665, 2.1666666666666665]"
      ]
     },
     "execution_count": 54,
     "metadata": {},
     "output_type": "execute_result"
    }
   ],
   "source": [
    "wart_2"
   ]
  },
  {
   "cell_type": "code",
   "execution_count": 55,
   "metadata": {},
   "outputs": [
    {
     "data": {
      "text/plain": [
       "2.1653333333333333"
      ]
     },
     "execution_count": 55,
     "metadata": {},
     "output_type": "execute_result"
    }
   ],
   "source": [
    "sum(wart_2)/len(wart_2)"
   ]
  },
  {
   "cell_type": "code",
   "execution_count": 56,
   "metadata": {},
   "outputs": [
    {
     "data": {
      "text/plain": [
       "DecisionTreeRegressor(criterion='mae', max_depth=6, max_leaf_nodes=15)"
      ]
     },
     "execution_count": 56,
     "metadata": {},
     "output_type": "execute_result"
    }
   ],
   "source": [
    "dt_2"
   ]
  },
  {
   "cell_type": "code",
   "execution_count": 133,
   "metadata": {},
   "outputs": [
    {
     "data": {
      "text/plain": [
       "['PP', 'CRk', 'PI-PLOD', 'IP', 'kg ml', 'Pw']"
      ]
     },
     "execution_count": 133,
     "metadata": {},
     "output_type": "execute_result"
    }
   ],
   "source": [
    "zm[list(dane_do_porownania[\"Błąd\"]).index(min(list(dane_do_porownania[\"Błąd\"])))]"
   ]
  },
  {
   "cell_type": "markdown",
   "metadata": {},
   "source": [
    "### 6.4 Tworzę graf dla drzewa decyzyjnego wszystkie dane"
   ]
  },
  {
   "cell_type": "code",
   "execution_count": 58,
   "metadata": {},
   "outputs": [],
   "source": [
    "dt_2=DecisionTreeRegressor(criterion='mae', max_depth=6, max_leaf_nodes=15)"
   ]
  },
  {
   "cell_type": "code",
   "execution_count": 59,
   "metadata": {},
   "outputs": [
    {
     "data": {
      "text/plain": [
       "DecisionTreeRegressor(criterion='mae', max_depth=6, max_leaf_nodes=15)"
      ]
     },
     "execution_count": 59,
     "metadata": {},
     "output_type": "execute_result"
    }
   ],
   "source": [
    "dt_2.fit(zestaw_caly, np.ravel(caly_label))"
   ]
  },
  {
   "cell_type": "code",
   "execution_count": 60,
   "metadata": {},
   "outputs": [
    {
     "data": {
      "image/svg+xml": [
       "<?xml version=\"1.0\" encoding=\"UTF-8\" standalone=\"no\"?>\r\n",
       "<!DOCTYPE svg PUBLIC \"-//W3C//DTD SVG 1.1//EN\"\r\n",
       " \"http://www.w3.org/Graphics/SVG/1.1/DTD/svg11.dtd\">\r\n",
       "<!-- Generated by graphviz version 2.38.0 (20140413.2041)\r\n",
       " -->\r\n",
       "<!-- Title: Tree Pages: 1 -->\r\n",
       "<svg width=\"1385pt\" height=\"581pt\"\r\n",
       " viewBox=\"0.00 0.00 1385.00 581.00\" xmlns=\"http://www.w3.org/2000/svg\" xmlns:xlink=\"http://www.w3.org/1999/xlink\">\r\n",
       "<g id=\"graph0\" class=\"graph\" transform=\"scale(1 1) rotate(0) translate(4 577)\">\r\n",
       "<title>Tree</title>\r\n",
       "<polygon fill=\"white\" stroke=\"none\" points=\"-4,4 -4,-577 1381,-577 1381,4 -4,4\"/>\r\n",
       "<!-- 0 -->\r\n",
       "<g id=\"node1\" class=\"node\"><title>0</title>\r\n",
       "<path fill=\"#f2be99\" stroke=\"black\" d=\"M894,-573C894,-573 799,-573 799,-573 793,-573 787,-567 787,-561 787,-561 787,-517 787,-517 787,-511 793,-505 799,-505 799,-505 894,-505 894,-505 900,-505 906,-511 906,-517 906,-517 906,-561 906,-561 906,-567 900,-573 894,-573\"/>\r\n",
       "<text text-anchor=\"middle\" x=\"846.5\" y=\"-557.8\" font-family=\"Helvetica,sans-Serif\" font-size=\"14.00\">PP &lt;= 105.5</text>\r\n",
       "<text text-anchor=\"middle\" x=\"846.5\" y=\"-542.8\" font-family=\"Helvetica,sans-Serif\" font-size=\"14.00\">mae = 5.83</text>\r\n",
       "<text text-anchor=\"middle\" x=\"846.5\" y=\"-527.8\" font-family=\"Helvetica,sans-Serif\" font-size=\"14.00\">samples = 1875</text>\r\n",
       "<text text-anchor=\"middle\" x=\"846.5\" y=\"-512.8\" font-family=\"Helvetica,sans-Serif\" font-size=\"14.00\">value = 107.0</text>\r\n",
       "</g>\r\n",
       "<!-- 1 -->\r\n",
       "<g id=\"node2\" class=\"node\"><title>1</title>\r\n",
       "<path fill=\"#f4cbad\" stroke=\"black\" d=\"M796,-469C796,-469 701,-469 701,-469 695,-469 689,-463 689,-457 689,-457 689,-413 689,-413 689,-407 695,-401 701,-401 701,-401 796,-401 796,-401 802,-401 808,-407 808,-413 808,-413 808,-457 808,-457 808,-463 802,-469 796,-469\"/>\r\n",
       "<text text-anchor=\"middle\" x=\"748.5\" y=\"-453.8\" font-family=\"Helvetica,sans-Serif\" font-size=\"14.00\">PP &lt;= 99.5</text>\r\n",
       "<text text-anchor=\"middle\" x=\"748.5\" y=\"-438.8\" font-family=\"Helvetica,sans-Serif\" font-size=\"14.00\">mae = 4.383</text>\r\n",
       "<text text-anchor=\"middle\" x=\"748.5\" y=\"-423.8\" font-family=\"Helvetica,sans-Serif\" font-size=\"14.00\">samples = 1193</text>\r\n",
       "<text text-anchor=\"middle\" x=\"748.5\" y=\"-408.8\" font-family=\"Helvetica,sans-Serif\" font-size=\"14.00\">value = 104.0</text>\r\n",
       "</g>\r\n",
       "<!-- 0&#45;&gt;1 -->\r\n",
       "<g id=\"edge1\" class=\"edge\"><title>0&#45;&gt;1</title>\r\n",
       "<path fill=\"none\" stroke=\"black\" d=\"M814.682,-504.884C806.039,-495.887 796.578,-486.041 787.583,-476.678\"/>\r\n",
       "<polygon fill=\"black\" stroke=\"black\" points=\"789.946,-474.086 780.494,-469.299 784.898,-478.935 789.946,-474.086\"/>\r\n",
       "<text text-anchor=\"middle\" x=\"779.994\" y=\"-490.594\" font-family=\"Helvetica,sans-Serif\" font-size=\"14.00\">True</text>\r\n",
       "</g>\r\n",
       "<!-- 2 -->\r\n",
       "<g id=\"node19\" class=\"node\"><title>2</title>\r\n",
       "<path fill=\"#eb9f69\" stroke=\"black\" d=\"M988,-469C988,-469 901,-469 901,-469 895,-469 889,-463 889,-457 889,-457 889,-413 889,-413 889,-407 895,-401 901,-401 901,-401 988,-401 988,-401 994,-401 1000,-407 1000,-413 1000,-413 1000,-457 1000,-457 1000,-463 994,-469 988,-469\"/>\r\n",
       "<text text-anchor=\"middle\" x=\"944.5\" y=\"-453.8\" font-family=\"Helvetica,sans-Serif\" font-size=\"14.00\">CRk &lt;= 114.5</text>\r\n",
       "<text text-anchor=\"middle\" x=\"944.5\" y=\"-438.8\" font-family=\"Helvetica,sans-Serif\" font-size=\"14.00\">mae = 4.154</text>\r\n",
       "<text text-anchor=\"middle\" x=\"944.5\" y=\"-423.8\" font-family=\"Helvetica,sans-Serif\" font-size=\"14.00\">samples = 682</text>\r\n",
       "<text text-anchor=\"middle\" x=\"944.5\" y=\"-408.8\" font-family=\"Helvetica,sans-Serif\" font-size=\"14.00\">value = 114.0</text>\r\n",
       "</g>\r\n",
       "<!-- 0&#45;&gt;2 -->\r\n",
       "<g id=\"edge18\" class=\"edge\"><title>0&#45;&gt;2</title>\r\n",
       "<path fill=\"none\" stroke=\"black\" d=\"M878.318,-504.884C886.961,-495.887 896.422,-486.041 905.417,-476.678\"/>\r\n",
       "<polygon fill=\"black\" stroke=\"black\" points=\"908.102,-478.935 912.506,-469.299 903.054,-474.086 908.102,-478.935\"/>\r\n",
       "<text text-anchor=\"middle\" x=\"913.006\" y=\"-490.594\" font-family=\"Helvetica,sans-Serif\" font-size=\"14.00\">False</text>\r\n",
       "</g>\r\n",
       "<!-- 3 -->\r\n",
       "<g id=\"node3\" class=\"node\"><title>3</title>\r\n",
       "<path fill=\"#f7d8c2\" stroke=\"black\" d=\"M410,-365C410,-365 323,-365 323,-365 317,-365 311,-359 311,-353 311,-353 311,-309 311,-309 311,-303 317,-297 323,-297 323,-297 410,-297 410,-297 416,-297 422,-303 422,-309 422,-309 422,-353 422,-353 422,-359 416,-365 410,-365\"/>\r\n",
       "<text text-anchor=\"middle\" x=\"366.5\" y=\"-349.8\" font-family=\"Helvetica,sans-Serif\" font-size=\"14.00\">CRk &lt;= 114.5</text>\r\n",
       "<text text-anchor=\"middle\" x=\"366.5\" y=\"-334.8\" font-family=\"Helvetica,sans-Serif\" font-size=\"14.00\">mae = 3.923</text>\r\n",
       "<text text-anchor=\"middle\" x=\"366.5\" y=\"-319.8\" font-family=\"Helvetica,sans-Serif\" font-size=\"14.00\">samples = 601</text>\r\n",
       "<text text-anchor=\"middle\" x=\"366.5\" y=\"-304.8\" font-family=\"Helvetica,sans-Serif\" font-size=\"14.00\">value = 101.0</text>\r\n",
       "</g>\r\n",
       "<!-- 1&#45;&gt;3 -->\r\n",
       "<g id=\"edge2\" class=\"edge\"><title>1&#45;&gt;3</title>\r\n",
       "<path fill=\"none\" stroke=\"black\" d=\"M688.813,-418.063C619.069,-399.44 504.051,-368.728 431.929,-349.471\"/>\r\n",
       "<polygon fill=\"black\" stroke=\"black\" points=\"432.611,-346.03 422.046,-346.832 430.805,-352.793 432.611,-346.03\"/>\r\n",
       "</g>\r\n",
       "<!-- 4 -->\r\n",
       "<g id=\"node12\" class=\"node\"><title>4</title>\r\n",
       "<path fill=\"#f2be99\" stroke=\"black\" d=\"M792,-365C792,-365 705,-365 705,-365 699,-365 693,-359 693,-353 693,-353 693,-309 693,-309 693,-303 699,-297 705,-297 705,-297 792,-297 792,-297 798,-297 804,-303 804,-309 804,-309 804,-353 804,-353 804,-359 798,-365 792,-365\"/>\r\n",
       "<text text-anchor=\"middle\" x=\"748.5\" y=\"-349.8\" font-family=\"Helvetica,sans-Serif\" font-size=\"14.00\">CRk &lt;= 116.5</text>\r\n",
       "<text text-anchor=\"middle\" x=\"748.5\" y=\"-334.8\" font-family=\"Helvetica,sans-Serif\" font-size=\"14.00\">mae = 2.993</text>\r\n",
       "<text text-anchor=\"middle\" x=\"748.5\" y=\"-319.8\" font-family=\"Helvetica,sans-Serif\" font-size=\"14.00\">samples = 592</text>\r\n",
       "<text text-anchor=\"middle\" x=\"748.5\" y=\"-304.8\" font-family=\"Helvetica,sans-Serif\" font-size=\"14.00\">value = 107.0</text>\r\n",
       "</g>\r\n",
       "<!-- 1&#45;&gt;4 -->\r\n",
       "<g id=\"edge11\" class=\"edge\"><title>1&#45;&gt;4</title>\r\n",
       "<path fill=\"none\" stroke=\"black\" d=\"M748.5,-400.884C748.5,-392.778 748.5,-383.982 748.5,-375.472\"/>\r\n",
       "<polygon fill=\"black\" stroke=\"black\" points=\"752,-375.299 748.5,-365.299 745,-375.299 752,-375.299\"/>\r\n",
       "</g>\r\n",
       "<!-- 7 -->\r\n",
       "<g id=\"node4\" class=\"node\"><title>7</title>\r\n",
       "<path fill=\"#fae5d6\" stroke=\"black\" d=\"M220,-261C220,-261 133,-261 133,-261 127,-261 121,-255 121,-249 121,-249 121,-205 121,-205 121,-199 127,-193 133,-193 133,-193 220,-193 220,-193 226,-193 232,-199 232,-205 232,-205 232,-249 232,-249 232,-255 226,-261 220,-261\"/>\r\n",
       "<text text-anchor=\"middle\" x=\"176.5\" y=\"-245.8\" font-family=\"Helvetica,sans-Serif\" font-size=\"14.00\">PP &lt;= 92.5</text>\r\n",
       "<text text-anchor=\"middle\" x=\"176.5\" y=\"-230.8\" font-family=\"Helvetica,sans-Serif\" font-size=\"14.00\">mae = 3.436</text>\r\n",
       "<text text-anchor=\"middle\" x=\"176.5\" y=\"-215.8\" font-family=\"Helvetica,sans-Serif\" font-size=\"14.00\">samples = 275</text>\r\n",
       "<text text-anchor=\"middle\" x=\"176.5\" y=\"-200.8\" font-family=\"Helvetica,sans-Serif\" font-size=\"14.00\">value = 98.0</text>\r\n",
       "</g>\r\n",
       "<!-- 3&#45;&gt;7 -->\r\n",
       "<g id=\"edge3\" class=\"edge\"><title>3&#45;&gt;7</title>\r\n",
       "<path fill=\"none\" stroke=\"black\" d=\"M310.778,-300.086C288.931,-288.358 263.72,-274.824 241.085,-262.672\"/>\r\n",
       "<polygon fill=\"black\" stroke=\"black\" points=\"242.688,-259.56 232.221,-257.914 239.377,-265.727 242.688,-259.56\"/>\r\n",
       "</g>\r\n",
       "<!-- 8 -->\r\n",
       "<g id=\"node7\" class=\"node\"><title>8</title>\r\n",
       "<path fill=\"#f4cbad\" stroke=\"black\" d=\"M410,-261C410,-261 323,-261 323,-261 317,-261 311,-255 311,-249 311,-249 311,-205 311,-205 311,-199 317,-193 323,-193 323,-193 410,-193 410,-193 416,-193 422,-199 422,-205 422,-205 422,-249 422,-249 422,-255 416,-261 410,-261\"/>\r\n",
       "<text text-anchor=\"middle\" x=\"366.5\" y=\"-245.8\" font-family=\"Helvetica,sans-Serif\" font-size=\"14.00\">PP &lt;= 92.5</text>\r\n",
       "<text text-anchor=\"middle\" x=\"366.5\" y=\"-230.8\" font-family=\"Helvetica,sans-Serif\" font-size=\"14.00\">mae = 2.73</text>\r\n",
       "<text text-anchor=\"middle\" x=\"366.5\" y=\"-215.8\" font-family=\"Helvetica,sans-Serif\" font-size=\"14.00\">samples = 326</text>\r\n",
       "<text text-anchor=\"middle\" x=\"366.5\" y=\"-200.8\" font-family=\"Helvetica,sans-Serif\" font-size=\"14.00\">value = 104.0</text>\r\n",
       "</g>\r\n",
       "<!-- 3&#45;&gt;8 -->\r\n",
       "<g id=\"edge6\" class=\"edge\"><title>3&#45;&gt;8</title>\r\n",
       "<path fill=\"none\" stroke=\"black\" d=\"M366.5,-296.884C366.5,-288.778 366.5,-279.982 366.5,-271.472\"/>\r\n",
       "<polygon fill=\"black\" stroke=\"black\" points=\"370,-271.299 366.5,-261.299 363,-271.299 370,-271.299\"/>\r\n",
       "</g>\r\n",
       "<!-- 13 -->\r\n",
       "<g id=\"node5\" class=\"node\"><title>13</title>\r\n",
       "<path fill=\"#ffffff\" stroke=\"black\" d=\"M91,-149.5C91,-149.5 12,-149.5 12,-149.5 6,-149.5 0,-143.5 0,-137.5 0,-137.5 0,-108.5 0,-108.5 0,-102.5 6,-96.5 12,-96.5 12,-96.5 91,-96.5 91,-96.5 97,-96.5 103,-102.5 103,-108.5 103,-108.5 103,-137.5 103,-137.5 103,-143.5 97,-149.5 91,-149.5\"/>\r\n",
       "<text text-anchor=\"middle\" x=\"51.5\" y=\"-134.3\" font-family=\"Helvetica,sans-Serif\" font-size=\"14.00\">mae = 3.071</text>\r\n",
       "<text text-anchor=\"middle\" x=\"51.5\" y=\"-119.3\" font-family=\"Helvetica,sans-Serif\" font-size=\"14.00\">samples = 85</text>\r\n",
       "<text text-anchor=\"middle\" x=\"51.5\" y=\"-104.3\" font-family=\"Helvetica,sans-Serif\" font-size=\"14.00\">value = 92.0</text>\r\n",
       "</g>\r\n",
       "<!-- 7&#45;&gt;13 -->\r\n",
       "<g id=\"edge4\" class=\"edge\"><title>7&#45;&gt;13</title>\r\n",
       "<path fill=\"none\" stroke=\"black\" d=\"M135.916,-192.884C121.36,-181.006 104.988,-167.646 90.5637,-155.876\"/>\r\n",
       "<polygon fill=\"black\" stroke=\"black\" points=\"92.7351,-153.13 82.7744,-149.52 88.3095,-158.554 92.7351,-153.13\"/>\r\n",
       "</g>\r\n",
       "<!-- 14 -->\r\n",
       "<g id=\"node6\" class=\"node\"><title>14</title>\r\n",
       "<path fill=\"#f9e1cf\" stroke=\"black\" d=\"M220,-149.5C220,-149.5 133,-149.5 133,-149.5 127,-149.5 121,-143.5 121,-137.5 121,-137.5 121,-108.5 121,-108.5 121,-102.5 127,-96.5 133,-96.5 133,-96.5 220,-96.5 220,-96.5 226,-96.5 232,-102.5 232,-108.5 232,-108.5 232,-137.5 232,-137.5 232,-143.5 226,-149.5 220,-149.5\"/>\r\n",
       "<text text-anchor=\"middle\" x=\"176.5\" y=\"-134.3\" font-family=\"Helvetica,sans-Serif\" font-size=\"14.00\">mae = 2.168</text>\r\n",
       "<text text-anchor=\"middle\" x=\"176.5\" y=\"-119.3\" font-family=\"Helvetica,sans-Serif\" font-size=\"14.00\">samples = 190</text>\r\n",
       "<text text-anchor=\"middle\" x=\"176.5\" y=\"-104.3\" font-family=\"Helvetica,sans-Serif\" font-size=\"14.00\">value = 99.0</text>\r\n",
       "</g>\r\n",
       "<!-- 7&#45;&gt;14 -->\r\n",
       "<g id=\"edge5\" class=\"edge\"><title>7&#45;&gt;14</title>\r\n",
       "<path fill=\"none\" stroke=\"black\" d=\"M176.5,-192.884C176.5,-182.326 176.5,-170.597 176.5,-159.854\"/>\r\n",
       "<polygon fill=\"black\" stroke=\"black\" points=\"180,-159.52 176.5,-149.52 173,-159.52 180,-159.52\"/>\r\n",
       "</g>\r\n",
       "<!-- 19 -->\r\n",
       "<g id=\"node8\" class=\"node\"><title>19</title>\r\n",
       "<path fill=\"#f9e1cf\" stroke=\"black\" d=\"M341,-149.5C341,-149.5 262,-149.5 262,-149.5 256,-149.5 250,-143.5 250,-137.5 250,-137.5 250,-108.5 250,-108.5 250,-102.5 256,-96.5 262,-96.5 262,-96.5 341,-96.5 341,-96.5 347,-96.5 353,-102.5 353,-108.5 353,-108.5 353,-137.5 353,-137.5 353,-143.5 347,-149.5 341,-149.5\"/>\r\n",
       "<text text-anchor=\"middle\" x=\"301.5\" y=\"-134.3\" font-family=\"Helvetica,sans-Serif\" font-size=\"14.00\">mae = 2.286</text>\r\n",
       "<text text-anchor=\"middle\" x=\"301.5\" y=\"-119.3\" font-family=\"Helvetica,sans-Serif\" font-size=\"14.00\">samples = 70</text>\r\n",
       "<text text-anchor=\"middle\" x=\"301.5\" y=\"-104.3\" font-family=\"Helvetica,sans-Serif\" font-size=\"14.00\">value = 99.0</text>\r\n",
       "</g>\r\n",
       "<!-- 8&#45;&gt;19 -->\r\n",
       "<g id=\"edge7\" class=\"edge\"><title>8&#45;&gt;19</title>\r\n",
       "<path fill=\"none\" stroke=\"black\" d=\"M345.396,-192.884C338.318,-181.776 330.413,-169.372 323.284,-158.184\"/>\r\n",
       "<polygon fill=\"black\" stroke=\"black\" points=\"326.088,-156.072 317.763,-149.52 320.185,-159.834 326.088,-156.072\"/>\r\n",
       "</g>\r\n",
       "<!-- 20 -->\r\n",
       "<g id=\"node9\" class=\"node\"><title>20</title>\r\n",
       "<path fill=\"#f4cbad\" stroke=\"black\" d=\"M470,-157C470,-157 383,-157 383,-157 377,-157 371,-151 371,-145 371,-145 371,-101 371,-101 371,-95 377,-89 383,-89 383,-89 470,-89 470,-89 476,-89 482,-95 482,-101 482,-101 482,-145 482,-145 482,-151 476,-157 470,-157\"/>\r\n",
       "<text text-anchor=\"middle\" x=\"426.5\" y=\"-141.8\" font-family=\"Helvetica,sans-Serif\" font-size=\"14.00\">CRk &lt;= 120.5</text>\r\n",
       "<text text-anchor=\"middle\" x=\"426.5\" y=\"-126.8\" font-family=\"Helvetica,sans-Serif\" font-size=\"14.00\">mae = 2.203</text>\r\n",
       "<text text-anchor=\"middle\" x=\"426.5\" y=\"-111.8\" font-family=\"Helvetica,sans-Serif\" font-size=\"14.00\">samples = 256</text>\r\n",
       "<text text-anchor=\"middle\" x=\"426.5\" y=\"-96.8\" font-family=\"Helvetica,sans-Serif\" font-size=\"14.00\">value = 104.0</text>\r\n",
       "</g>\r\n",
       "<!-- 8&#45;&gt;20 -->\r\n",
       "<g id=\"edge8\" class=\"edge\"><title>8&#45;&gt;20</title>\r\n",
       "<path fill=\"none\" stroke=\"black\" d=\"M385.98,-192.884C391.01,-184.332 396.492,-175.013 401.752,-166.072\"/>\r\n",
       "<polygon fill=\"black\" stroke=\"black\" points=\"404.859,-167.693 406.912,-157.299 398.825,-164.144 404.859,-167.693\"/>\r\n",
       "</g>\r\n",
       "<!-- 23 -->\r\n",
       "<g id=\"node10\" class=\"node\"><title>23</title>\r\n",
       "<path fill=\"#f5cfb4\" stroke=\"black\" d=\"M405,-53C405,-53 318,-53 318,-53 312,-53 306,-47 306,-41 306,-41 306,-12 306,-12 306,-6 312,-0 318,-0 318,-0 405,-0 405,-0 411,-0 417,-6 417,-12 417,-12 417,-41 417,-41 417,-47 411,-53 405,-53\"/>\r\n",
       "<text text-anchor=\"middle\" x=\"361.5\" y=\"-37.8\" font-family=\"Helvetica,sans-Serif\" font-size=\"14.00\">mae = 1.709</text>\r\n",
       "<text text-anchor=\"middle\" x=\"361.5\" y=\"-22.8\" font-family=\"Helvetica,sans-Serif\" font-size=\"14.00\">samples = 127</text>\r\n",
       "<text text-anchor=\"middle\" x=\"361.5\" y=\"-7.8\" font-family=\"Helvetica,sans-Serif\" font-size=\"14.00\">value = 103.0</text>\r\n",
       "</g>\r\n",
       "<!-- 20&#45;&gt;23 -->\r\n",
       "<g id=\"edge9\" class=\"edge\"><title>20&#45;&gt;23</title>\r\n",
       "<path fill=\"none\" stroke=\"black\" d=\"M403.766,-88.9485C397.663,-80.0749 391.053,-70.4648 384.913,-61.5388\"/>\r\n",
       "<polygon fill=\"black\" stroke=\"black\" points=\"387.753,-59.4924 379.202,-53.2367 381.986,-63.4594 387.753,-59.4924\"/>\r\n",
       "</g>\r\n",
       "<!-- 24 -->\r\n",
       "<g id=\"node11\" class=\"node\"><title>24</title>\r\n",
       "<path fill=\"#f2c29f\" stroke=\"black\" d=\"M534,-53C534,-53 447,-53 447,-53 441,-53 435,-47 435,-41 435,-41 435,-12 435,-12 435,-6 441,-0 447,-0 447,-0 534,-0 534,-0 540,-0 546,-6 546,-12 546,-12 546,-41 546,-41 546,-47 540,-53 534,-53\"/>\r\n",
       "<text text-anchor=\"middle\" x=\"490.5\" y=\"-37.8\" font-family=\"Helvetica,sans-Serif\" font-size=\"14.00\">mae = 1.891</text>\r\n",
       "<text text-anchor=\"middle\" x=\"490.5\" y=\"-22.8\" font-family=\"Helvetica,sans-Serif\" font-size=\"14.00\">samples = 129</text>\r\n",
       "<text text-anchor=\"middle\" x=\"490.5\" y=\"-7.8\" font-family=\"Helvetica,sans-Serif\" font-size=\"14.00\">value = 106.0</text>\r\n",
       "</g>\r\n",
       "<!-- 20&#45;&gt;24 -->\r\n",
       "<g id=\"edge10\" class=\"edge\"><title>20&#45;&gt;24</title>\r\n",
       "<path fill=\"none\" stroke=\"black\" d=\"M448.884,-88.9485C454.894,-80.0749 461.402,-70.4648 467.447,-61.5388\"/>\r\n",
       "<polygon fill=\"black\" stroke=\"black\" points=\"470.36,-63.4792 473.07,-53.2367 464.564,-59.5539 470.36,-63.4792\"/>\r\n",
       "</g>\r\n",
       "<!-- 9 -->\r\n",
       "<g id=\"node13\" class=\"node\"><title>9</title>\r\n",
       "<path fill=\"#f3c7a6\" stroke=\"black\" d=\"M728,-261C728,-261 641,-261 641,-261 635,-261 629,-255 629,-249 629,-249 629,-205 629,-205 629,-199 635,-193 641,-193 641,-193 728,-193 728,-193 734,-193 740,-199 740,-205 740,-205 740,-249 740,-249 740,-255 734,-261 728,-261\"/>\r\n",
       "<text text-anchor=\"middle\" x=\"684.5\" y=\"-245.8\" font-family=\"Helvetica,sans-Serif\" font-size=\"14.00\">CRk &lt;= 110.5</text>\r\n",
       "<text text-anchor=\"middle\" x=\"684.5\" y=\"-230.8\" font-family=\"Helvetica,sans-Serif\" font-size=\"14.00\">mae = 2.259</text>\r\n",
       "<text text-anchor=\"middle\" x=\"684.5\" y=\"-215.8\" font-family=\"Helvetica,sans-Serif\" font-size=\"14.00\">samples = 278</text>\r\n",
       "<text text-anchor=\"middle\" x=\"684.5\" y=\"-200.8\" font-family=\"Helvetica,sans-Serif\" font-size=\"14.00\">value = 105.0</text>\r\n",
       "</g>\r\n",
       "<!-- 4&#45;&gt;9 -->\r\n",
       "<g id=\"edge12\" class=\"edge\"><title>4&#45;&gt;9</title>\r\n",
       "<path fill=\"none\" stroke=\"black\" d=\"M727.721,-296.884C722.3,-288.243 716.387,-278.819 710.723,-269.793\"/>\r\n",
       "<polygon fill=\"black\" stroke=\"black\" points=\"713.673,-267.91 705.394,-261.299 707.744,-271.63 713.673,-267.91\"/>\r\n",
       "</g>\r\n",
       "<!-- 10 -->\r\n",
       "<g id=\"node16\" class=\"node\"><title>10</title>\r\n",
       "<path fill=\"#efb184\" stroke=\"black\" d=\"M857,-261C857,-261 770,-261 770,-261 764,-261 758,-255 758,-249 758,-249 758,-205 758,-205 758,-199 764,-193 770,-193 770,-193 857,-193 857,-193 863,-193 869,-199 869,-205 869,-205 869,-249 869,-249 869,-255 863,-261 857,-261\"/>\r\n",
       "<text text-anchor=\"middle\" x=\"813.5\" y=\"-245.8\" font-family=\"Helvetica,sans-Serif\" font-size=\"14.00\">CRk &lt;= 132.5</text>\r\n",
       "<text text-anchor=\"middle\" x=\"813.5\" y=\"-230.8\" font-family=\"Helvetica,sans-Serif\" font-size=\"14.00\">mae = 2.121</text>\r\n",
       "<text text-anchor=\"middle\" x=\"813.5\" y=\"-215.8\" font-family=\"Helvetica,sans-Serif\" font-size=\"14.00\">samples = 314</text>\r\n",
       "<text text-anchor=\"middle\" x=\"813.5\" y=\"-200.8\" font-family=\"Helvetica,sans-Serif\" font-size=\"14.00\">value = 110.0</text>\r\n",
       "</g>\r\n",
       "<!-- 4&#45;&gt;10 -->\r\n",
       "<g id=\"edge15\" class=\"edge\"><title>4&#45;&gt;10</title>\r\n",
       "<path fill=\"none\" stroke=\"black\" d=\"M769.604,-296.884C775.11,-288.243 781.115,-278.819 786.867,-269.793\"/>\r\n",
       "<polygon fill=\"black\" stroke=\"black\" points=\"789.857,-271.614 792.28,-261.299 783.954,-267.852 789.857,-271.614\"/>\r\n",
       "</g>\r\n",
       "<!-- 17 -->\r\n",
       "<g id=\"node14\" class=\"node\"><title>17</title>\r\n",
       "<path fill=\"#f5cfb4\" stroke=\"black\" d=\"M599,-149.5C599,-149.5 512,-149.5 512,-149.5 506,-149.5 500,-143.5 500,-137.5 500,-137.5 500,-108.5 500,-108.5 500,-102.5 506,-96.5 512,-96.5 512,-96.5 599,-96.5 599,-96.5 605,-96.5 611,-102.5 611,-108.5 611,-108.5 611,-137.5 611,-137.5 611,-143.5 605,-149.5 599,-149.5\"/>\r\n",
       "<text text-anchor=\"middle\" x=\"555.5\" y=\"-134.3\" font-family=\"Helvetica,sans-Serif\" font-size=\"14.00\">mae = 1.814</text>\r\n",
       "<text text-anchor=\"middle\" x=\"555.5\" y=\"-119.3\" font-family=\"Helvetica,sans-Serif\" font-size=\"14.00\">samples = 140</text>\r\n",
       "<text text-anchor=\"middle\" x=\"555.5\" y=\"-104.3\" font-family=\"Helvetica,sans-Serif\" font-size=\"14.00\">value = 103.0</text>\r\n",
       "</g>\r\n",
       "<!-- 9&#45;&gt;17 -->\r\n",
       "<g id=\"edge13\" class=\"edge\"><title>9&#45;&gt;17</title>\r\n",
       "<path fill=\"none\" stroke=\"black\" d=\"M642.617,-192.884C627.596,-181.006 610.7,-167.646 595.814,-155.876\"/>\r\n",
       "<polygon fill=\"black\" stroke=\"black\" points=\"597.79,-152.977 587.775,-149.52 593.449,-158.468 597.79,-152.977\"/>\r\n",
       "</g>\r\n",
       "<!-- 18 -->\r\n",
       "<g id=\"node15\" class=\"node\"><title>18</title>\r\n",
       "<path fill=\"#f2c29f\" stroke=\"black\" d=\"M728,-149.5C728,-149.5 641,-149.5 641,-149.5 635,-149.5 629,-143.5 629,-137.5 629,-137.5 629,-108.5 629,-108.5 629,-102.5 635,-96.5 641,-96.5 641,-96.5 728,-96.5 728,-96.5 734,-96.5 740,-102.5 740,-108.5 740,-108.5 740,-137.5 740,-137.5 740,-143.5 734,-149.5 728,-149.5\"/>\r\n",
       "<text text-anchor=\"middle\" x=\"684.5\" y=\"-134.3\" font-family=\"Helvetica,sans-Serif\" font-size=\"14.00\">mae = 1.493</text>\r\n",
       "<text text-anchor=\"middle\" x=\"684.5\" y=\"-119.3\" font-family=\"Helvetica,sans-Serif\" font-size=\"14.00\">samples = 138</text>\r\n",
       "<text text-anchor=\"middle\" x=\"684.5\" y=\"-104.3\" font-family=\"Helvetica,sans-Serif\" font-size=\"14.00\">value = 106.0</text>\r\n",
       "</g>\r\n",
       "<!-- 9&#45;&gt;18 -->\r\n",
       "<g id=\"edge14\" class=\"edge\"><title>9&#45;&gt;18</title>\r\n",
       "<path fill=\"none\" stroke=\"black\" d=\"M684.5,-192.884C684.5,-182.326 684.5,-170.597 684.5,-159.854\"/>\r\n",
       "<polygon fill=\"black\" stroke=\"black\" points=\"688,-159.52 684.5,-149.52 681,-159.52 688,-159.52\"/>\r\n",
       "</g>\r\n",
       "<!-- 27 -->\r\n",
       "<g id=\"node17\" class=\"node\"><title>27</title>\r\n",
       "<path fill=\"#f0b58b\" stroke=\"black\" d=\"M857,-149.5C857,-149.5 770,-149.5 770,-149.5 764,-149.5 758,-143.5 758,-137.5 758,-137.5 758,-108.5 758,-108.5 758,-102.5 764,-96.5 770,-96.5 770,-96.5 857,-96.5 857,-96.5 863,-96.5 869,-102.5 869,-108.5 869,-108.5 869,-137.5 869,-137.5 869,-143.5 863,-149.5 857,-149.5\"/>\r\n",
       "<text text-anchor=\"middle\" x=\"813.5\" y=\"-134.3\" font-family=\"Helvetica,sans-Serif\" font-size=\"14.00\">mae = 1.857</text>\r\n",
       "<text text-anchor=\"middle\" x=\"813.5\" y=\"-119.3\" font-family=\"Helvetica,sans-Serif\" font-size=\"14.00\">samples = 273</text>\r\n",
       "<text text-anchor=\"middle\" x=\"813.5\" y=\"-104.3\" font-family=\"Helvetica,sans-Serif\" font-size=\"14.00\">value = 109.0</text>\r\n",
       "</g>\r\n",
       "<!-- 10&#45;&gt;27 -->\r\n",
       "<g id=\"edge16\" class=\"edge\"><title>10&#45;&gt;27</title>\r\n",
       "<path fill=\"none\" stroke=\"black\" d=\"M813.5,-192.884C813.5,-182.326 813.5,-170.597 813.5,-159.854\"/>\r\n",
       "<polygon fill=\"black\" stroke=\"black\" points=\"817,-159.52 813.5,-149.52 810,-159.52 817,-159.52\"/>\r\n",
       "</g>\r\n",
       "<!-- 28 -->\r\n",
       "<g id=\"node18\" class=\"node\"><title>28</title>\r\n",
       "<path fill=\"#eb9f69\" stroke=\"black\" d=\"M978,-149.5C978,-149.5 899,-149.5 899,-149.5 893,-149.5 887,-143.5 887,-137.5 887,-137.5 887,-108.5 887,-108.5 887,-102.5 893,-96.5 899,-96.5 899,-96.5 978,-96.5 978,-96.5 984,-96.5 990,-102.5 990,-108.5 990,-108.5 990,-137.5 990,-137.5 990,-143.5 984,-149.5 978,-149.5\"/>\r\n",
       "<text text-anchor=\"middle\" x=\"938.5\" y=\"-134.3\" font-family=\"Helvetica,sans-Serif\" font-size=\"14.00\">mae = 1.61</text>\r\n",
       "<text text-anchor=\"middle\" x=\"938.5\" y=\"-119.3\" font-family=\"Helvetica,sans-Serif\" font-size=\"14.00\">samples = 41</text>\r\n",
       "<text text-anchor=\"middle\" x=\"938.5\" y=\"-104.3\" font-family=\"Helvetica,sans-Serif\" font-size=\"14.00\">value = 114.0</text>\r\n",
       "</g>\r\n",
       "<!-- 10&#45;&gt;28 -->\r\n",
       "<g id=\"edge17\" class=\"edge\"><title>10&#45;&gt;28</title>\r\n",
       "<path fill=\"none\" stroke=\"black\" d=\"M854.084,-192.884C868.64,-181.006 885.012,-167.646 899.436,-155.876\"/>\r\n",
       "<polygon fill=\"black\" stroke=\"black\" points=\"901.691,-158.554 907.226,-149.52 897.265,-153.13 901.691,-158.554\"/>\r\n",
       "</g>\r\n",
       "<!-- 5 -->\r\n",
       "<g id=\"node20\" class=\"node\"><title>5</title>\r\n",
       "<path fill=\"#f0b58b\" stroke=\"black\" d=\"M988,-365C988,-365 901,-365 901,-365 895,-365 889,-359 889,-353 889,-353 889,-309 889,-309 889,-303 895,-297 901,-297 901,-297 988,-297 988,-297 994,-297 1000,-303 1000,-309 1000,-309 1000,-353 1000,-353 1000,-359 994,-365 988,-365\"/>\r\n",
       "<text text-anchor=\"middle\" x=\"944.5\" y=\"-349.8\" font-family=\"Helvetica,sans-Serif\" font-size=\"14.00\">PP &lt;= 110.5</text>\r\n",
       "<text text-anchor=\"middle\" x=\"944.5\" y=\"-334.8\" font-family=\"Helvetica,sans-Serif\" font-size=\"14.00\">mae = 2.914</text>\r\n",
       "<text text-anchor=\"middle\" x=\"944.5\" y=\"-319.8\" font-family=\"Helvetica,sans-Serif\" font-size=\"14.00\">samples = 197</text>\r\n",
       "<text text-anchor=\"middle\" x=\"944.5\" y=\"-304.8\" font-family=\"Helvetica,sans-Serif\" font-size=\"14.00\">value = 109.0</text>\r\n",
       "</g>\r\n",
       "<!-- 2&#45;&gt;5 -->\r\n",
       "<g id=\"edge19\" class=\"edge\"><title>2&#45;&gt;5</title>\r\n",
       "<path fill=\"none\" stroke=\"black\" d=\"M944.5,-400.884C944.5,-392.778 944.5,-383.982 944.5,-375.472\"/>\r\n",
       "<polygon fill=\"black\" stroke=\"black\" points=\"948,-375.299 944.5,-365.299 941,-375.299 948,-375.299\"/>\r\n",
       "</g>\r\n",
       "<!-- 6 -->\r\n",
       "<g id=\"node23\" class=\"node\"><title>6</title>\r\n",
       "<path fill=\"#e9975b\" stroke=\"black\" d=\"M1236,-365C1236,-365 1149,-365 1149,-365 1143,-365 1137,-359 1137,-353 1137,-353 1137,-309 1137,-309 1137,-303 1143,-297 1149,-297 1149,-297 1236,-297 1236,-297 1242,-297 1248,-303 1248,-309 1248,-309 1248,-353 1248,-353 1248,-359 1242,-365 1236,-365\"/>\r\n",
       "<text text-anchor=\"middle\" x=\"1192.5\" y=\"-349.8\" font-family=\"Helvetica,sans-Serif\" font-size=\"14.00\">PP &lt;= 114.5</text>\r\n",
       "<text text-anchor=\"middle\" x=\"1192.5\" y=\"-334.8\" font-family=\"Helvetica,sans-Serif\" font-size=\"14.00\">mae = 3.518</text>\r\n",
       "<text text-anchor=\"middle\" x=\"1192.5\" y=\"-319.8\" font-family=\"Helvetica,sans-Serif\" font-size=\"14.00\">samples = 485</text>\r\n",
       "<text text-anchor=\"middle\" x=\"1192.5\" y=\"-304.8\" font-family=\"Helvetica,sans-Serif\" font-size=\"14.00\">value = 116.0</text>\r\n",
       "</g>\r\n",
       "<!-- 2&#45;&gt;6 -->\r\n",
       "<g id=\"edge22\" class=\"edge\"><title>2&#45;&gt;6</title>\r\n",
       "<path fill=\"none\" stroke=\"black\" d=\"M1000.16,-411.109C1037.84,-395.612 1087.76,-375.078 1127.3,-358.815\"/>\r\n",
       "<polygon fill=\"black\" stroke=\"black\" points=\"1128.68,-362.031 1136.6,-354.991 1126.02,-355.558 1128.68,-362.031\"/>\r\n",
       "</g>\r\n",
       "<!-- 21 -->\r\n",
       "<g id=\"node21\" class=\"node\"><title>21</title>\r\n",
       "<path fill=\"#f1b992\" stroke=\"black\" d=\"M986,-253.5C986,-253.5 899,-253.5 899,-253.5 893,-253.5 887,-247.5 887,-241.5 887,-241.5 887,-212.5 887,-212.5 887,-206.5 893,-200.5 899,-200.5 899,-200.5 986,-200.5 986,-200.5 992,-200.5 998,-206.5 998,-212.5 998,-212.5 998,-241.5 998,-241.5 998,-247.5 992,-253.5 986,-253.5\"/>\r\n",
       "<text text-anchor=\"middle\" x=\"942.5\" y=\"-238.3\" font-family=\"Helvetica,sans-Serif\" font-size=\"14.00\">mae = 1.838</text>\r\n",
       "<text text-anchor=\"middle\" x=\"942.5\" y=\"-223.3\" font-family=\"Helvetica,sans-Serif\" font-size=\"14.00\">samples = 130</text>\r\n",
       "<text text-anchor=\"middle\" x=\"942.5\" y=\"-208.3\" font-family=\"Helvetica,sans-Serif\" font-size=\"14.00\">value = 108.0</text>\r\n",
       "</g>\r\n",
       "<!-- 5&#45;&gt;21 -->\r\n",
       "<g id=\"edge20\" class=\"edge\"><title>5&#45;&gt;21</title>\r\n",
       "<path fill=\"none\" stroke=\"black\" d=\"M943.851,-296.884C943.641,-286.216 943.409,-274.352 943.196,-263.519\"/>\r\n",
       "<polygon fill=\"black\" stroke=\"black\" points=\"946.696,-263.449 943,-253.52 939.697,-263.587 946.696,-263.449\"/>\r\n",
       "</g>\r\n",
       "<!-- 22 -->\r\n",
       "<g id=\"node22\" class=\"node\"><title>22</title>\r\n",
       "<path fill=\"#eca470\" stroke=\"black\" d=\"M1107,-253.5C1107,-253.5 1028,-253.5 1028,-253.5 1022,-253.5 1016,-247.5 1016,-241.5 1016,-241.5 1016,-212.5 1016,-212.5 1016,-206.5 1022,-200.5 1028,-200.5 1028,-200.5 1107,-200.5 1107,-200.5 1113,-200.5 1119,-206.5 1119,-212.5 1119,-212.5 1119,-241.5 1119,-241.5 1119,-247.5 1113,-253.5 1107,-253.5\"/>\r\n",
       "<text text-anchor=\"middle\" x=\"1067.5\" y=\"-238.3\" font-family=\"Helvetica,sans-Serif\" font-size=\"14.00\">mae = 2.672</text>\r\n",
       "<text text-anchor=\"middle\" x=\"1067.5\" y=\"-223.3\" font-family=\"Helvetica,sans-Serif\" font-size=\"14.00\">samples = 67</text>\r\n",
       "<text text-anchor=\"middle\" x=\"1067.5\" y=\"-208.3\" font-family=\"Helvetica,sans-Serif\" font-size=\"14.00\">value = 113.0</text>\r\n",
       "</g>\r\n",
       "<!-- 5&#45;&gt;22 -->\r\n",
       "<g id=\"edge21\" class=\"edge\"><title>5&#45;&gt;22</title>\r\n",
       "<path fill=\"none\" stroke=\"black\" d=\"M984.435,-296.884C998.625,-285.116 1014.57,-271.894 1028.67,-260.203\"/>\r\n",
       "<polygon fill=\"black\" stroke=\"black\" points=\"1031.26,-262.597 1036.73,-253.52 1026.79,-257.209 1031.26,-262.597\"/>\r\n",
       "</g>\r\n",
       "<!-- 11 -->\r\n",
       "<g id=\"node24\" class=\"node\"><title>11</title>\r\n",
       "<path fill=\"#eb9f69\" stroke=\"black\" d=\"M1236,-261C1236,-261 1149,-261 1149,-261 1143,-261 1137,-255 1137,-249 1137,-249 1137,-205 1137,-205 1137,-199 1143,-193 1149,-193 1149,-193 1236,-193 1236,-193 1242,-193 1248,-199 1248,-205 1248,-205 1248,-249 1248,-249 1248,-255 1242,-261 1236,-261\"/>\r\n",
       "<text text-anchor=\"middle\" x=\"1192.5\" y=\"-245.8\" font-family=\"Helvetica,sans-Serif\" font-size=\"14.00\">CRk &lt;= 126.5</text>\r\n",
       "<text text-anchor=\"middle\" x=\"1192.5\" y=\"-230.8\" font-family=\"Helvetica,sans-Serif\" font-size=\"14.00\">mae = 2.674</text>\r\n",
       "<text text-anchor=\"middle\" x=\"1192.5\" y=\"-215.8\" font-family=\"Helvetica,sans-Serif\" font-size=\"14.00\">samples = 368</text>\r\n",
       "<text text-anchor=\"middle\" x=\"1192.5\" y=\"-200.8\" font-family=\"Helvetica,sans-Serif\" font-size=\"14.00\">value = 114.0</text>\r\n",
       "</g>\r\n",
       "<!-- 6&#45;&gt;11 -->\r\n",
       "<g id=\"edge23\" class=\"edge\"><title>6&#45;&gt;11</title>\r\n",
       "<path fill=\"none\" stroke=\"black\" d=\"M1192.5,-296.884C1192.5,-288.778 1192.5,-279.982 1192.5,-271.472\"/>\r\n",
       "<polygon fill=\"black\" stroke=\"black\" points=\"1196,-271.299 1192.5,-261.299 1189,-271.299 1196,-271.299\"/>\r\n",
       "</g>\r\n",
       "<!-- 12 -->\r\n",
       "<g id=\"node29\" class=\"node\"><title>12</title>\r\n",
       "<path fill=\"#e58139\" stroke=\"black\" d=\"M1365,-253.5C1365,-253.5 1278,-253.5 1278,-253.5 1272,-253.5 1266,-247.5 1266,-241.5 1266,-241.5 1266,-212.5 1266,-212.5 1266,-206.5 1272,-200.5 1278,-200.5 1278,-200.5 1365,-200.5 1365,-200.5 1371,-200.5 1377,-206.5 1377,-212.5 1377,-212.5 1377,-241.5 1377,-241.5 1377,-247.5 1371,-253.5 1365,-253.5\"/>\r\n",
       "<text text-anchor=\"middle\" x=\"1321.5\" y=\"-238.3\" font-family=\"Helvetica,sans-Serif\" font-size=\"14.00\">mae = 2.761</text>\r\n",
       "<text text-anchor=\"middle\" x=\"1321.5\" y=\"-223.3\" font-family=\"Helvetica,sans-Serif\" font-size=\"14.00\">samples = 117</text>\r\n",
       "<text text-anchor=\"middle\" x=\"1321.5\" y=\"-208.3\" font-family=\"Helvetica,sans-Serif\" font-size=\"14.00\">value = 121.0</text>\r\n",
       "</g>\r\n",
       "<!-- 6&#45;&gt;12 -->\r\n",
       "<g id=\"edge28\" class=\"edge\"><title>6&#45;&gt;12</title>\r\n",
       "<path fill=\"none\" stroke=\"black\" d=\"M1234.38,-296.884C1249.4,-285.006 1266.3,-271.646 1281.19,-259.876\"/>\r\n",
       "<polygon fill=\"black\" stroke=\"black\" points=\"1283.55,-262.468 1289.22,-253.52 1279.21,-256.977 1283.55,-262.468\"/>\r\n",
       "</g>\r\n",
       "<!-- 15 -->\r\n",
       "<g id=\"node25\" class=\"node\"><title>15</title>\r\n",
       "<path fill=\"#eca470\" stroke=\"black\" d=\"M1172,-157C1172,-157 1085,-157 1085,-157 1079,-157 1073,-151 1073,-145 1073,-145 1073,-101 1073,-101 1073,-95 1079,-89 1085,-89 1085,-89 1172,-89 1172,-89 1178,-89 1184,-95 1184,-101 1184,-101 1184,-145 1184,-145 1184,-151 1178,-157 1172,-157\"/>\r\n",
       "<text text-anchor=\"middle\" x=\"1128.5\" y=\"-141.8\" font-family=\"Helvetica,sans-Serif\" font-size=\"14.00\">PP &lt;= 110.5</text>\r\n",
       "<text text-anchor=\"middle\" x=\"1128.5\" y=\"-126.8\" font-family=\"Helvetica,sans-Serif\" font-size=\"14.00\">mae = 2.029</text>\r\n",
       "<text text-anchor=\"middle\" x=\"1128.5\" y=\"-111.8\" font-family=\"Helvetica,sans-Serif\" font-size=\"14.00\">samples = 239</text>\r\n",
       "<text text-anchor=\"middle\" x=\"1128.5\" y=\"-96.8\" font-family=\"Helvetica,sans-Serif\" font-size=\"14.00\">value = 113.0</text>\r\n",
       "</g>\r\n",
       "<!-- 11&#45;&gt;15 -->\r\n",
       "<g id=\"edge24\" class=\"edge\"><title>11&#45;&gt;15</title>\r\n",
       "<path fill=\"none\" stroke=\"black\" d=\"M1171.72,-192.884C1166.3,-184.243 1160.39,-174.819 1154.72,-165.793\"/>\r\n",
       "<polygon fill=\"black\" stroke=\"black\" points=\"1157.67,-163.91 1149.39,-157.299 1151.74,-167.63 1157.67,-163.91\"/>\r\n",
       "</g>\r\n",
       "<!-- 16 -->\r\n",
       "<g id=\"node28\" class=\"node\"><title>16</title>\r\n",
       "<path fill=\"#e99254\" stroke=\"black\" d=\"M1301,-149.5C1301,-149.5 1214,-149.5 1214,-149.5 1208,-149.5 1202,-143.5 1202,-137.5 1202,-137.5 1202,-108.5 1202,-108.5 1202,-102.5 1208,-96.5 1214,-96.5 1214,-96.5 1301,-96.5 1301,-96.5 1307,-96.5 1313,-102.5 1313,-108.5 1313,-108.5 1313,-137.5 1313,-137.5 1313,-143.5 1307,-149.5 1301,-149.5\"/>\r\n",
       "<text text-anchor=\"middle\" x=\"1257.5\" y=\"-134.3\" font-family=\"Helvetica,sans-Serif\" font-size=\"14.00\">mae = 2.178</text>\r\n",
       "<text text-anchor=\"middle\" x=\"1257.5\" y=\"-119.3\" font-family=\"Helvetica,sans-Serif\" font-size=\"14.00\">samples = 129</text>\r\n",
       "<text text-anchor=\"middle\" x=\"1257.5\" y=\"-104.3\" font-family=\"Helvetica,sans-Serif\" font-size=\"14.00\">value = 117.0</text>\r\n",
       "</g>\r\n",
       "<!-- 11&#45;&gt;16 -->\r\n",
       "<g id=\"edge27\" class=\"edge\"><title>11&#45;&gt;16</title>\r\n",
       "<path fill=\"none\" stroke=\"black\" d=\"M1213.6,-192.884C1220.68,-181.776 1228.59,-169.372 1235.72,-158.184\"/>\r\n",
       "<polygon fill=\"black\" stroke=\"black\" points=\"1238.81,-159.834 1241.24,-149.52 1232.91,-156.072 1238.81,-159.834\"/>\r\n",
       "</g>\r\n",
       "<!-- 25 -->\r\n",
       "<g id=\"node26\" class=\"node\"><title>25</title>\r\n",
       "<path fill=\"#eda876\" stroke=\"black\" d=\"M1109,-53C1109,-53 1022,-53 1022,-53 1016,-53 1010,-47 1010,-41 1010,-41 1010,-12 1010,-12 1010,-6 1016,-0 1022,-0 1022,-0 1109,-0 1109,-0 1115,-0 1121,-6 1121,-12 1121,-12 1121,-41 1121,-41 1121,-47 1115,-53 1109,-53\"/>\r\n",
       "<text text-anchor=\"middle\" x=\"1065.5\" y=\"-37.8\" font-family=\"Helvetica,sans-Serif\" font-size=\"14.00\">mae = 1.62</text>\r\n",
       "<text text-anchor=\"middle\" x=\"1065.5\" y=\"-22.8\" font-family=\"Helvetica,sans-Serif\" font-size=\"14.00\">samples = 158</text>\r\n",
       "<text text-anchor=\"middle\" x=\"1065.5\" y=\"-7.8\" font-family=\"Helvetica,sans-Serif\" font-size=\"14.00\">value = 112.0</text>\r\n",
       "</g>\r\n",
       "<!-- 15&#45;&gt;25 -->\r\n",
       "<g id=\"edge25\" class=\"edge\"><title>15&#45;&gt;25</title>\r\n",
       "<path fill=\"none\" stroke=\"black\" d=\"M1106.47,-88.9485C1100.61,-80.1664 1094.28,-70.6629 1088.38,-61.815\"/>\r\n",
       "<polygon fill=\"black\" stroke=\"black\" points=\"1091.12,-59.6158 1082.66,-53.2367 1085.29,-63.4987 1091.12,-59.6158\"/>\r\n",
       "</g>\r\n",
       "<!-- 26 -->\r\n",
       "<g id=\"node27\" class=\"node\"><title>26</title>\r\n",
       "<path fill=\"#ea9b62\" stroke=\"black\" d=\"M1230,-53C1230,-53 1151,-53 1151,-53 1145,-53 1139,-47 1139,-41 1139,-41 1139,-12 1139,-12 1139,-6 1145,-0 1151,-0 1151,-0 1230,-0 1230,-0 1236,-0 1242,-6 1242,-12 1242,-12 1242,-41 1242,-41 1242,-47 1236,-53 1230,-53\"/>\r\n",
       "<text text-anchor=\"middle\" x=\"1190.5\" y=\"-37.8\" font-family=\"Helvetica,sans-Serif\" font-size=\"14.00\">mae = 1.593</text>\r\n",
       "<text text-anchor=\"middle\" x=\"1190.5\" y=\"-22.8\" font-family=\"Helvetica,sans-Serif\" font-size=\"14.00\">samples = 81</text>\r\n",
       "<text text-anchor=\"middle\" x=\"1190.5\" y=\"-7.8\" font-family=\"Helvetica,sans-Serif\" font-size=\"14.00\">value = 115.0</text>\r\n",
       "</g>\r\n",
       "<!-- 15&#45;&gt;26 -->\r\n",
       "<g id=\"edge26\" class=\"edge\"><title>15&#45;&gt;26</title>\r\n",
       "<path fill=\"none\" stroke=\"black\" d=\"M1150.18,-88.9485C1155.95,-80.1664 1162.18,-70.6629 1167.99,-61.815\"/>\r\n",
       "<polygon fill=\"black\" stroke=\"black\" points=\"1171.06,-63.5178 1173.61,-53.2367 1165.2,-59.6779 1171.06,-63.5178\"/>\r\n",
       "</g>\r\n",
       "</g>\r\n",
       "</svg>\r\n"
      ],
      "text/plain": [
       "<graphviz.files.Source at 0x1b8fbdedd08>"
      ]
     },
     "execution_count": 60,
     "metadata": {},
     "output_type": "execute_result"
    }
   ],
   "source": [
    "dot_data = tree.export_graphviz(dt_2,  \n",
    "                                feature_names = list(caly_df_zapas)\n",
    ", \n",
    "               class_names=\"OMC\",\n",
    "               rounded=True, \n",
    "               filled = True,out_file=None)\n",
    "graph = graphviz.Source(dot_data, format=\"png\") \n",
    "graph"
   ]
  },
  {
   "cell_type": "code",
   "execution_count": 61,
   "metadata": {},
   "outputs": [
    {
     "data": {
      "text/plain": [
       "'decision_tree_graphivz.png'"
      ]
     },
     "execution_count": 61,
     "metadata": {},
     "output_type": "execute_result"
    }
   ],
   "source": [
    "graph.render(\"decision_tree_graphivz\")"
   ]
  },
  {
   "cell_type": "markdown",
   "metadata": {},
   "source": [
    "### 6.5 Zapisuje wyniki predykcji dla drzewa decyzyjnego wszystkie dane"
   ]
  },
  {
   "cell_type": "code",
   "execution_count": 62,
   "metadata": {},
   "outputs": [],
   "source": [
    "dane_do_zapisu_2.to_csv(\"D:/STUDIA/ROK_II/Projekt/Predykcje_i błędy/Okres Między Ciążowy/OMC_Drzewo_Decyzyjne_FS.csv\")"
   ]
  },
  {
   "cell_type": "markdown",
   "metadata": {},
   "source": [
    "## 7.1 Losowe lasy drzew decyzyjnych "
   ]
  },
  {
   "cell_type": "markdown",
   "metadata": {},
   "source": [
    "### 7.1.1 Dobieranie zmiennych"
   ]
  },
  {
   "cell_type": "code",
   "execution_count": 29,
   "metadata": {},
   "outputs": [],
   "source": [
    "estimator=RandomForestRegressor()\n",
    "selector = RFECV(estimator, step=1, cv=2,scoring=mae_scorer)\n",
    "selector2 = selector.fit(caly_df, caly_label)                   "
   ]
  },
  {
   "cell_type": "code",
   "execution_count": 30,
   "metadata": {},
   "outputs": [],
   "source": [
    "kombinacje=[]\n",
    "nazwy_kolumn=caly_df.columns\n",
    "dictionary = dict(zip(nazwy_kolumn, selector2.ranking_))\n",
    "dictionary= dict(sorted(dictionary.items(), key=lambda item: item[1]))"
   ]
  },
  {
   "cell_type": "code",
   "execution_count": 31,
   "metadata": {},
   "outputs": [],
   "source": [
    "nazwy_kolumn_2=[]\n",
    "for x in dictionary.keys():\n",
    "    nazwy_kolumn_2.append(x)"
   ]
  },
  {
   "cell_type": "code",
   "execution_count": 32,
   "metadata": {},
   "outputs": [
    {
     "name": "stdout",
     "output_type": "stream",
     "text": [
      "['PP', 'CRk', 'PI-PLOD', 'kg ml', 'kg tł', 'w', 'kg bi', 'Psm', '% bi', 'nr', 'IP', 'Prc', 'og', '% tł', 'WH-KSOM', 'Pw', 'WH-DLUG', 'Pnr', 'sm', 'CRj', 'rc', 'PI-POKR', 'PI-PROD', 'WIELKOPOLSKIE', 2019, 'KUJAWSKO-POMORSKIE', 2020, 2018, 'OPOLSKIE', 'MAZOWIECKIE', 'PODLASKIE', 'ZACHODNIOPOMORSKIE', 'ŁÓDZKIE']\n"
     ]
    }
   ],
   "source": [
    "\n",
    "dane_do_porownania=pd.DataFrame(columns=[\"Liczba zmiennych\",\n",
    "                                    \"Błąd\"]\n",
    "                                )\n",
    "glowne_wyniki=[]\n",
    "glowne_zmienne=[]\n",
    "for i in range(0,len(nazwy_kolumn_2)):\n",
    "    zmienne=[]\n",
    "    for q in range(0,i+1):\n",
    "        zmienne.append(nazwy_kolumn_2[q])\n",
    "    kombinacje.append(zmienne)\n",
    "    data_frame=caly_df_zapas[zmienne]\n",
    "    kfold = KFold(n_splits=5, shuffle=False)\n",
    "\n",
    "    data_frame = np.array(data_frame)\n",
    "    caly_label = np.array(caly_label)\n",
    "    \n",
    "    wyniki=[]\n",
    "    \n",
    "    for train, test in kfold.split(data_frame, caly_label):\n",
    "        reg = RandomForestRegressor()\n",
    "        reg.fit(data_frame[train], caly_label[train])\n",
    "        predykcje=reg.predict(data_frame[test])\n",
    "        \n",
    "        dane_folda=pd.DataFrame({\"pred\": predykcje.ravel(),\n",
    "                                    \"obs\": caly_label[test]\n",
    "                                })\n",
    "        \n",
    "        dane_folda['blad']=abs(dane_folda['obs']-dane_folda['pred'])\n",
    "        mae=dane_folda['blad'].sum()/len(dane_folda['blad'])\n",
    "        wyniki.append(mae)\n",
    "        \n",
    "    wynik=sum(wyniki)/len(wyniki)\n",
    "    glowne_wyniki.append(wynik)\n",
    "    glowne_zmienne.append(i)\n",
    "    \n",
    "dane_do_porownania[\"Liczba zmiennych\"]=glowne_zmienne\n",
    "dane_do_porownania[\"Błąd\"]=glowne_wyniki\n",
    "\n",
    "index=list(dane_do_porownania[\"Błąd\"]).index(min(list(dane_do_porownania[\"Błąd\"])))\n",
    "\n",
    "print(kombinacje[index])"
   ]
  },
  {
   "cell_type": "code",
   "execution_count": 33,
   "metadata": {},
   "outputs": [
    {
     "data": {
      "image/png": "[encoded data removed]",
      "text/plain": [
       "<Figure size 432x288 with 1 Axes>"
      ]
     },
     "metadata": {
      "needs_background": "light"
     },
     "output_type": "display_data"
    }
   ],
   "source": [
    "plt.plot(list(dane_do_porownania[\"Błąd\"]))\n",
    "plt.axvline(x=list(dane_do_porownania[\"Błąd\"]).index(min(list(dane_do_porownania[\"Błąd\"]))), color='r', linestyle='-')\n",
    "plt.xlabel(\"Number of features\")\n",
    "plt.ylabel(\"MAE of OMC\")\n",
    "plt.title(\"Random Forest\")\n",
    "plt.show()"
   ]
  },
  {
   "cell_type": "code",
   "execution_count": 34,
   "metadata": {},
   "outputs": [
    {
     "name": "stdout",
     "output_type": "stream",
     "text": [
      "32 \n",
      " ['PP', 'CRk', 'PI-PLOD', 'kg ml', 'kg tł', 'w', 'kg bi', 'Psm', '% bi', 'nr', 'IP', 'Prc', 'og', '% tł', 'WH-KSOM', 'Pw', 'WH-DLUG', 'Pnr', 'sm', 'CRj', 'rc', 'PI-POKR', 'PI-PROD', 'WIELKOPOLSKIE', 2019, 'KUJAWSKO-POMORSKIE', 2020, 2018, 'OPOLSKIE', 'MAZOWIECKIE', 'PODLASKIE', 'ZACHODNIOPOMORSKIE', 'ŁÓDZKIE']\n"
     ]
    }
   ],
   "source": [
    "print(index,\"\\n\",kombinacje[index])"
   ]
  },
  {
   "cell_type": "code",
   "execution_count": 35,
   "metadata": {},
   "outputs": [
    {
     "data": {
      "text/plain": [
       "['PP', 'CRk', 'PI-PLOD', 'kg ml', 'kg tł', 'w', 'kg bi']"
      ]
     },
     "execution_count": 35,
     "metadata": {},
     "output_type": "execute_result"
    }
   ],
   "source": [
    "kombinacje[6]"
   ]
  },
  {
   "cell_type": "code",
   "execution_count": 36,
   "metadata": {},
   "outputs": [],
   "source": [
    "dane_do_porownania.to_csv('Wyniki REFCV las losowy OMC.csv',index=False)"
   ]
  },
  {
   "cell_type": "code",
   "execution_count": 154,
   "metadata": {},
   "outputs": [],
   "source": [
    "zestaw_caly=caly_df_zapas\n",
    "zestaw_6=caly_df_zapas[['PP', 'CRk', 'PI-PLOD', 'kg ml', 'kg tł', 'w', 'kg bi']]\n",
    "zestaw_caly = np.array(zestaw_caly)\n",
    "zestaw_6 = np.array(zestaw_6)\n",
    "\n",
    "caly_label = np.array(caly_label)"
   ]
  },
  {
   "cell_type": "markdown",
   "metadata": {},
   "source": [
    "## 7.2 Losowe lasy drzew decyzyjnych hiperparametry"
   ]
  },
  {
   "cell_type": "markdown",
   "metadata": {},
   "source": [
    "## 7.2 Hiperparametry Zestaw 6"
   ]
  },
  {
   "cell_type": "markdown",
   "metadata": {},
   "source": [
    "### 7.2.1 Hiperparametry Zestaw 6 part1"
   ]
  },
  {
   "cell_type": "code",
   "execution_count": 155,
   "metadata": {},
   "outputs": [],
   "source": [
    "param_grid = {\n",
    "    'criterion':['mae'],#\n",
    "    'min_samples_split':range(2,10,3), #\n",
    "    'min_samples_leaf': range(2,10,3),     #\n",
    "    'max_leaf_nodes':range(5,15,5), #\n",
    "    'max_depth':list(range(5, 15,5)), #\n",
    "    'bootstrap': [True,False],\n",
    "    'n_estimators':[100] #\n",
    "}"
   ]
  },
  {
   "cell_type": "code",
   "execution_count": 156,
   "metadata": {},
   "outputs": [
    {
     "name": "stdout",
     "output_type": "stream",
     "text": [
      "Fitting 2 folds for each of 72 candidates, totalling 144 fits\n"
     ]
    },
    {
     "data": {
      "text/plain": [
       "GridSearchCV(cv=2, estimator=RandomForestRegressor(), n_jobs=1,\n",
       "             param_grid={'bootstrap': [True, False], 'criterion': ['mae'],\n",
       "                         'max_depth': [5, 10],\n",
       "                         'max_leaf_nodes': range(5, 15, 5),\n",
       "                         'min_samples_leaf': range(2, 10, 3),\n",
       "                         'min_samples_split': range(2, 10, 3),\n",
       "                         'n_estimators': [100]},\n",
       "             scoring='neg_mean_absolute_error', verbose=1)"
      ]
     },
     "execution_count": 156,
     "metadata": {},
     "output_type": "execute_result"
    }
   ],
   "source": [
    "rf_1 = RandomForestRegressor()\n",
    "grid_search_1 = GridSearchCV(estimator = rf_1, param_grid = param_grid, \n",
    "                          cv = 2, n_jobs = 1, verbose = 1,scoring='neg_mean_absolute_error')\n",
    "grid_search_1.fit(zestaw_6, np.ravel(caly_label))"
   ]
  },
  {
   "cell_type": "code",
   "execution_count": 157,
   "metadata": {},
   "outputs": [
    {
     "data": {
      "text/plain": [
       "RandomForestRegressor(criterion='mae', max_depth=5, max_leaf_nodes=10,\n",
       "                      min_samples_leaf=5)"
      ]
     },
     "execution_count": 157,
     "metadata": {},
     "output_type": "execute_result"
    }
   ],
   "source": [
    "grid_search_1.best_estimator_"
   ]
  },
  {
   "cell_type": "code",
   "execution_count": 158,
   "metadata": {},
   "outputs": [
    {
     "data": {
      "text/plain": [
       "-1.8694914842997998"
      ]
     },
     "execution_count": 158,
     "metadata": {},
     "output_type": "execute_result"
    }
   ],
   "source": [
    "grid_search_1.best_score_"
   ]
  },
  {
   "cell_type": "markdown",
   "metadata": {},
   "source": [
    "### 7.2.2 Hiperparametry Zestaw 8 part2"
   ]
  },
  {
   "cell_type": "code",
   "execution_count": 173,
   "metadata": {},
   "outputs": [],
   "source": [
    "param_grid2 = {\n",
    "    'criterion':['mae'],#\n",
    "    'min_samples_split':range(3,7,1), #5\n",
    "    'min_samples_leaf': range(3,7,1), #5\n",
    "    'max_leaf_nodes':range(8,12,1), #10\n",
    "    'max_depth':list(range(3, 7,1)), #5\n",
    "    'n_estimators':[100] #\n",
    "}"
   ]
  },
  {
   "cell_type": "code",
   "execution_count": 174,
   "metadata": {
    "scrolled": true
   },
   "outputs": [
    {
     "name": "stdout",
     "output_type": "stream",
     "text": [
      "Fitting 2 folds for each of 256 candidates, totalling 512 fits\n",
      "[CV] END criterion=mae, max_depth=3, max_leaf_nodes=8, min_samples_leaf=3, min_samples_split=3, n_estimators=100; total time=   0.9s\n",
      "[CV] END criterion=mae, max_depth=3, max_leaf_nodes=8, min_samples_leaf=3, min_samples_split=3, n_estimators=100; total time=   0.9s\n",
      "[CV] END criterion=mae, max_depth=3, max_leaf_nodes=8, min_samples_leaf=3, min_samples_split=4, n_estimators=100; total time=   0.9s\n",
      "[CV] END criterion=mae, max_depth=3, max_leaf_nodes=8, min_samples_leaf=3, min_samples_split=4, n_estimators=100; total time=   0.9s\n",
      "[CV] END criterion=mae, max_depth=3, max_leaf_nodes=8, min_samples_leaf=3, min_samples_split=5, n_estimators=100; total time=   0.9s\n",
      "[CV] END criterion=mae, max_depth=3, max_leaf_nodes=8, min_samples_leaf=3, min_samples_split=5, n_estimators=100; total time=   0.9s\n",
      "[CV] END criterion=mae, max_depth=3, max_leaf_nodes=8, min_samples_leaf=3, min_samples_split=6, n_estimators=100; total time=   0.8s\n",
      "[CV] END criterion=mae, max_depth=3, max_leaf_nodes=8, min_samples_leaf=3, min_samples_split=6, n_estimators=100; total time=   0.9s\n",
      "[CV] END criterion=mae, max_depth=3, max_leaf_nodes=8, min_samples_leaf=4, min_samples_split=3, n_estimators=100; total time=   0.9s\n",
      "[CV] END criterion=mae, max_depth=3, max_leaf_nodes=8, min_samples_leaf=4, min_samples_split=3, n_estimators=100; total time=   0.8s\n",
      "[CV] END criterion=mae, max_depth=3, max_leaf_nodes=8, min_samples_leaf=4, min_samples_split=4, n_estimators=100; total time=   0.9s\n",
      "[CV] END criterion=mae, max_depth=3, max_leaf_nodes=8, min_samples_leaf=4, min_samples_split=4, n_estimators=100; total time=   0.8s\n",
      "[CV] END criterion=mae, max_depth=3, max_leaf_nodes=8, min_samples_leaf=4, min_samples_split=5, n_estimators=100; total time=   0.9s\n",
      "[CV] END criterion=mae, max_depth=3, max_leaf_nodes=8, min_samples_leaf=4, min_samples_split=5, n_estimators=100; total time=   0.8s\n",
      "[CV] END criterion=mae, max_depth=3, max_leaf_nodes=8, min_samples_leaf=4, min_samples_split=6, n_estimators=100; total time=   0.8s\n",
      "[CV] END criterion=mae, max_depth=3, max_leaf_nodes=8, min_samples_leaf=4, min_samples_split=6, n_estimators=100; total time=   0.9s\n",
      "[CV] END criterion=mae, max_depth=3, max_leaf_nodes=8, min_samples_leaf=5, min_samples_split=3, n_estimators=100; total time=   0.9s\n",
      "[CV] END criterion=mae, max_depth=3, max_leaf_nodes=8, min_samples_leaf=5, min_samples_split=3, n_estimators=100; total time=   0.8s\n",
      "[CV] END criterion=mae, max_depth=3, max_leaf_nodes=8, min_samples_leaf=5, min_samples_split=4, n_estimators=100; total time=   0.9s\n",
      "[CV] END criterion=mae, max_depth=3, max_leaf_nodes=8, min_samples_leaf=5, min_samples_split=4, n_estimators=100; total time=   0.9s\n",
      "[CV] END criterion=mae, max_depth=3, max_leaf_nodes=8, min_samples_leaf=5, min_samples_split=5, n_estimators=100; total time=   0.9s\n",
      "[CV] END criterion=mae, max_depth=3, max_leaf_nodes=8, min_samples_leaf=5, min_samples_split=5, n_estimators=100; total time=   0.9s\n",
      "[CV] END criterion=mae, max_depth=3, max_leaf_nodes=8, min_samples_leaf=5, min_samples_split=6, n_estimators=100; total time=   0.9s\n",
      "[CV] END criterion=mae, max_depth=3, max_leaf_nodes=8, min_samples_leaf=5, min_samples_split=6, n_estimators=100; total time=   0.9s\n",
      "[CV] END criterion=mae, max_depth=3, max_leaf_nodes=8, min_samples_leaf=6, min_samples_split=3, n_estimators=100; total time=   0.9s\n",
      "[CV] END criterion=mae, max_depth=3, max_leaf_nodes=8, min_samples_leaf=6, min_samples_split=3, n_estimators=100; total time=   0.9s\n",
      "[CV] END criterion=mae, max_depth=3, max_leaf_nodes=8, min_samples_leaf=6, min_samples_split=4, n_estimators=100; total time=   0.8s\n",
      "[CV] END criterion=mae, max_depth=3, max_leaf_nodes=8, min_samples_leaf=6, min_samples_split=4, n_estimators=100; total time=   0.9s\n",
      "[CV] END criterion=mae, max_depth=3, max_leaf_nodes=8, min_samples_leaf=6, min_samples_split=5, n_estimators=100; total time=   0.8s\n",
      "[CV] END criterion=mae, max_depth=3, max_leaf_nodes=8, min_samples_leaf=6, min_samples_split=5, n_estimators=100; total time=   0.8s\n",
      "[CV] END criterion=mae, max_depth=3, max_leaf_nodes=8, min_samples_leaf=6, min_samples_split=6, n_estimators=100; total time=   0.8s\n",
      "[CV] END criterion=mae, max_depth=3, max_leaf_nodes=8, min_samples_leaf=6, min_samples_split=6, n_estimators=100; total time=   0.8s\n",
      "[CV] END criterion=mae, max_depth=3, max_leaf_nodes=9, min_samples_leaf=3, min_samples_split=3, n_estimators=100; total time=   0.9s\n",
      "[CV] END criterion=mae, max_depth=3, max_leaf_nodes=9, min_samples_leaf=3, min_samples_split=3, n_estimators=100; total time=   0.8s\n",
      "[CV] END criterion=mae, max_depth=3, max_leaf_nodes=9, min_samples_leaf=3, min_samples_split=4, n_estimators=100; total time=   0.8s\n",
      "[CV] END criterion=mae, max_depth=3, max_leaf_nodes=9, min_samples_leaf=3, min_samples_split=4, n_estimators=100; total time=   0.8s\n",
      "[CV] END criterion=mae, max_depth=3, max_leaf_nodes=9, min_samples_leaf=3, min_samples_split=5, n_estimators=100; total time=   0.8s\n",
      "[CV] END criterion=mae, max_depth=3, max_leaf_nodes=9, min_samples_leaf=3, min_samples_split=5, n_estimators=100; total time=   0.8s\n",
      "[CV] END criterion=mae, max_depth=3, max_leaf_nodes=9, min_samples_leaf=3, min_samples_split=6, n_estimators=100; total time=   0.8s\n",
      "[CV] END criterion=mae, max_depth=3, max_leaf_nodes=9, min_samples_leaf=3, min_samples_split=6, n_estimators=100; total time=   0.8s\n",
      "[CV] END criterion=mae, max_depth=3, max_leaf_nodes=9, min_samples_leaf=4, min_samples_split=3, n_estimators=100; total time=   0.9s\n",
      "[CV] END criterion=mae, max_depth=3, max_leaf_nodes=9, min_samples_leaf=4, min_samples_split=3, n_estimators=100; total time=   0.8s\n",
      "[CV] END criterion=mae, max_depth=3, max_leaf_nodes=9, min_samples_leaf=4, min_samples_split=4, n_estimators=100; total time=   0.8s\n",
      "[CV] END criterion=mae, max_depth=3, max_leaf_nodes=9, min_samples_leaf=4, min_samples_split=4, n_estimators=100; total time=   0.8s\n",
      "[CV] END criterion=mae, max_depth=3, max_leaf_nodes=9, min_samples_leaf=4, min_samples_split=5, n_estimators=100; total time=   0.8s\n",
      "[CV] END criterion=mae, max_depth=3, max_leaf_nodes=9, min_samples_leaf=4, min_samples_split=5, n_estimators=100; total time=   0.8s\n",
      "[CV] END criterion=mae, max_depth=3, max_leaf_nodes=9, min_samples_leaf=4, min_samples_split=6, n_estimators=100; total time=   0.8s\n",
      "[CV] END criterion=mae, max_depth=3, max_leaf_nodes=9, min_samples_leaf=4, min_samples_split=6, n_estimators=100; total time=   0.9s\n",
      "[CV] END criterion=mae, max_depth=3, max_leaf_nodes=9, min_samples_leaf=5, min_samples_split=3, n_estimators=100; total time=   0.8s\n",
      "[CV] END criterion=mae, max_depth=3, max_leaf_nodes=9, min_samples_leaf=5, min_samples_split=3, n_estimators=100; total time=   0.8s\n",
      "[CV] END criterion=mae, max_depth=3, max_leaf_nodes=9, min_samples_leaf=5, min_samples_split=4, n_estimators=100; total time=   0.8s\n",
      "[CV] END criterion=mae, max_depth=3, max_leaf_nodes=9, min_samples_leaf=5, min_samples_split=4, n_estimators=100; total time=   0.8s\n",
      "[CV] END criterion=mae, max_depth=3, max_leaf_nodes=9, min_samples_leaf=5, min_samples_split=5, n_estimators=100; total time=   0.8s\n",
      "[CV] END criterion=mae, max_depth=3, max_leaf_nodes=9, min_samples_leaf=5, min_samples_split=5, n_estimators=100; total time=   0.8s\n",
      "[CV] END criterion=mae, max_depth=3, max_leaf_nodes=9, min_samples_leaf=5, min_samples_split=6, n_estimators=100; total time=   0.8s\n",
      "[CV] END criterion=mae, max_depth=3, max_leaf_nodes=9, min_samples_leaf=5, min_samples_split=6, n_estimators=100; total time=   0.8s\n",
      "[CV] END criterion=mae, max_depth=3, max_leaf_nodes=9, min_samples_leaf=6, min_samples_split=3, n_estimators=100; total time=   0.8s\n",
      "[CV] END criterion=mae, max_depth=3, max_leaf_nodes=9, min_samples_leaf=6, min_samples_split=3, n_estimators=100; total time=   0.8s\n",
      "[CV] END criterion=mae, max_depth=3, max_leaf_nodes=9, min_samples_leaf=6, min_samples_split=4, n_estimators=100; total time=   0.9s\n",
      "[CV] END criterion=mae, max_depth=3, max_leaf_nodes=9, min_samples_leaf=6, min_samples_split=4, n_estimators=100; total time=   0.8s\n",
      "[CV] END criterion=mae, max_depth=3, max_leaf_nodes=9, min_samples_leaf=6, min_samples_split=5, n_estimators=100; total time=   0.8s\n",
      "[CV] END criterion=mae, max_depth=3, max_leaf_nodes=9, min_samples_leaf=6, min_samples_split=5, n_estimators=100; total time=   0.8s\n"
     ]
    },
    {
     "name": "stdout",
     "output_type": "stream",
     "text": [
      "[CV] END criterion=mae, max_depth=3, max_leaf_nodes=9, min_samples_leaf=6, min_samples_split=6, n_estimators=100; total time=   0.8s\n",
      "[CV] END criterion=mae, max_depth=3, max_leaf_nodes=9, min_samples_leaf=6, min_samples_split=6, n_estimators=100; total time=   0.8s\n",
      "[CV] END criterion=mae, max_depth=3, max_leaf_nodes=10, min_samples_leaf=3, min_samples_split=3, n_estimators=100; total time=   0.8s\n",
      "[CV] END criterion=mae, max_depth=3, max_leaf_nodes=10, min_samples_leaf=3, min_samples_split=3, n_estimators=100; total time=   0.8s\n",
      "[CV] END criterion=mae, max_depth=3, max_leaf_nodes=10, min_samples_leaf=3, min_samples_split=4, n_estimators=100; total time=   0.8s\n",
      "[CV] END criterion=mae, max_depth=3, max_leaf_nodes=10, min_samples_leaf=3, min_samples_split=4, n_estimators=100; total time=   0.8s\n",
      "[CV] END criterion=mae, max_depth=3, max_leaf_nodes=10, min_samples_leaf=3, min_samples_split=5, n_estimators=100; total time=   0.9s\n",
      "[CV] END criterion=mae, max_depth=3, max_leaf_nodes=10, min_samples_leaf=3, min_samples_split=5, n_estimators=100; total time=   0.9s\n",
      "[CV] END criterion=mae, max_depth=3, max_leaf_nodes=10, min_samples_leaf=3, min_samples_split=6, n_estimators=100; total time=   0.9s\n",
      "[CV] END criterion=mae, max_depth=3, max_leaf_nodes=10, min_samples_leaf=3, min_samples_split=6, n_estimators=100; total time=   0.9s\n",
      "[CV] END criterion=mae, max_depth=3, max_leaf_nodes=10, min_samples_leaf=4, min_samples_split=3, n_estimators=100; total time=   0.9s\n",
      "[CV] END criterion=mae, max_depth=3, max_leaf_nodes=10, min_samples_leaf=4, min_samples_split=3, n_estimators=100; total time=   0.8s\n",
      "[CV] END criterion=mae, max_depth=3, max_leaf_nodes=10, min_samples_leaf=4, min_samples_split=4, n_estimators=100; total time=   0.8s\n",
      "[CV] END criterion=mae, max_depth=3, max_leaf_nodes=10, min_samples_leaf=4, min_samples_split=4, n_estimators=100; total time=   0.9s\n",
      "[CV] END criterion=mae, max_depth=3, max_leaf_nodes=10, min_samples_leaf=4, min_samples_split=5, n_estimators=100; total time=   0.8s\n",
      "[CV] END criterion=mae, max_depth=3, max_leaf_nodes=10, min_samples_leaf=4, min_samples_split=5, n_estimators=100; total time=   0.8s\n",
      "[CV] END criterion=mae, max_depth=3, max_leaf_nodes=10, min_samples_leaf=4, min_samples_split=6, n_estimators=100; total time=   0.8s\n",
      "[CV] END criterion=mae, max_depth=3, max_leaf_nodes=10, min_samples_leaf=4, min_samples_split=6, n_estimators=100; total time=   0.8s\n",
      "[CV] END criterion=mae, max_depth=3, max_leaf_nodes=10, min_samples_leaf=5, min_samples_split=3, n_estimators=100; total time=   0.8s\n",
      "[CV] END criterion=mae, max_depth=3, max_leaf_nodes=10, min_samples_leaf=5, min_samples_split=3, n_estimators=100; total time=   0.8s\n",
      "[CV] END criterion=mae, max_depth=3, max_leaf_nodes=10, min_samples_leaf=5, min_samples_split=4, n_estimators=100; total time=   0.8s\n",
      "[CV] END criterion=mae, max_depth=3, max_leaf_nodes=10, min_samples_leaf=5, min_samples_split=4, n_estimators=100; total time=   0.8s\n",
      "[CV] END criterion=mae, max_depth=3, max_leaf_nodes=10, min_samples_leaf=5, min_samples_split=5, n_estimators=100; total time=   0.8s\n",
      "[CV] END criterion=mae, max_depth=3, max_leaf_nodes=10, min_samples_leaf=5, min_samples_split=5, n_estimators=100; total time=   0.8s\n",
      "[CV] END criterion=mae, max_depth=3, max_leaf_nodes=10, min_samples_leaf=5, min_samples_split=6, n_estimators=100; total time=   0.8s\n",
      "[CV] END criterion=mae, max_depth=3, max_leaf_nodes=10, min_samples_leaf=5, min_samples_split=6, n_estimators=100; total time=   0.8s\n",
      "[CV] END criterion=mae, max_depth=3, max_leaf_nodes=10, min_samples_leaf=6, min_samples_split=3, n_estimators=100; total time=   0.8s\n",
      "[CV] END criterion=mae, max_depth=3, max_leaf_nodes=10, min_samples_leaf=6, min_samples_split=3, n_estimators=100; total time=   0.8s\n",
      "[CV] END criterion=mae, max_depth=3, max_leaf_nodes=10, min_samples_leaf=6, min_samples_split=4, n_estimators=100; total time=   0.8s\n",
      "[CV] END criterion=mae, max_depth=3, max_leaf_nodes=10, min_samples_leaf=6, min_samples_split=4, n_estimators=100; total time=   0.8s\n",
      "[CV] END criterion=mae, max_depth=3, max_leaf_nodes=10, min_samples_leaf=6, min_samples_split=5, n_estimators=100; total time=   0.8s\n",
      "[CV] END criterion=mae, max_depth=3, max_leaf_nodes=10, min_samples_leaf=6, min_samples_split=5, n_estimators=100; total time=   0.8s\n",
      "[CV] END criterion=mae, max_depth=3, max_leaf_nodes=10, min_samples_leaf=6, min_samples_split=6, n_estimators=100; total time=   0.8s\n",
      "[CV] END criterion=mae, max_depth=3, max_leaf_nodes=10, min_samples_leaf=6, min_samples_split=6, n_estimators=100; total time=   0.8s\n",
      "[CV] END criterion=mae, max_depth=3, max_leaf_nodes=11, min_samples_leaf=3, min_samples_split=3, n_estimators=100; total time=   0.8s\n",
      "[CV] END criterion=mae, max_depth=3, max_leaf_nodes=11, min_samples_leaf=3, min_samples_split=3, n_estimators=100; total time=   0.9s\n",
      "[CV] END criterion=mae, max_depth=3, max_leaf_nodes=11, min_samples_leaf=3, min_samples_split=4, n_estimators=100; total time=   0.8s\n",
      "[CV] END criterion=mae, max_depth=3, max_leaf_nodes=11, min_samples_leaf=3, min_samples_split=4, n_estimators=100; total time=   0.8s\n",
      "[CV] END criterion=mae, max_depth=3, max_leaf_nodes=11, min_samples_leaf=3, min_samples_split=5, n_estimators=100; total time=   0.9s\n",
      "[CV] END criterion=mae, max_depth=3, max_leaf_nodes=11, min_samples_leaf=3, min_samples_split=5, n_estimators=100; total time=   0.9s\n",
      "[CV] END criterion=mae, max_depth=3, max_leaf_nodes=11, min_samples_leaf=3, min_samples_split=6, n_estimators=100; total time=   0.9s\n",
      "[CV] END criterion=mae, max_depth=3, max_leaf_nodes=11, min_samples_leaf=3, min_samples_split=6, n_estimators=100; total time=   0.9s\n",
      "[CV] END criterion=mae, max_depth=3, max_leaf_nodes=11, min_samples_leaf=4, min_samples_split=3, n_estimators=100; total time=   0.9s\n",
      "[CV] END criterion=mae, max_depth=3, max_leaf_nodes=11, min_samples_leaf=4, min_samples_split=3, n_estimators=100; total time=   0.8s\n",
      "[CV] END criterion=mae, max_depth=3, max_leaf_nodes=11, min_samples_leaf=4, min_samples_split=4, n_estimators=100; total time=   0.9s\n",
      "[CV] END criterion=mae, max_depth=3, max_leaf_nodes=11, min_samples_leaf=4, min_samples_split=4, n_estimators=100; total time=   0.9s\n",
      "[CV] END criterion=mae, max_depth=3, max_leaf_nodes=11, min_samples_leaf=4, min_samples_split=5, n_estimators=100; total time=   0.9s\n",
      "[CV] END criterion=mae, max_depth=3, max_leaf_nodes=11, min_samples_leaf=4, min_samples_split=5, n_estimators=100; total time=   0.9s\n",
      "[CV] END criterion=mae, max_depth=3, max_leaf_nodes=11, min_samples_leaf=4, min_samples_split=6, n_estimators=100; total time=   0.9s\n",
      "[CV] END criterion=mae, max_depth=3, max_leaf_nodes=11, min_samples_leaf=4, min_samples_split=6, n_estimators=100; total time=   0.8s\n",
      "[CV] END criterion=mae, max_depth=3, max_leaf_nodes=11, min_samples_leaf=5, min_samples_split=3, n_estimators=100; total time=   0.8s\n",
      "[CV] END criterion=mae, max_depth=3, max_leaf_nodes=11, min_samples_leaf=5, min_samples_split=3, n_estimators=100; total time=   0.9s\n",
      "[CV] END criterion=mae, max_depth=3, max_leaf_nodes=11, min_samples_leaf=5, min_samples_split=4, n_estimators=100; total time=   0.8s\n",
      "[CV] END criterion=mae, max_depth=3, max_leaf_nodes=11, min_samples_leaf=5, min_samples_split=4, n_estimators=100; total time=   0.8s\n",
      "[CV] END criterion=mae, max_depth=3, max_leaf_nodes=11, min_samples_leaf=5, min_samples_split=5, n_estimators=100; total time=   0.8s\n",
      "[CV] END criterion=mae, max_depth=3, max_leaf_nodes=11, min_samples_leaf=5, min_samples_split=5, n_estimators=100; total time=   0.9s\n",
      "[CV] END criterion=mae, max_depth=3, max_leaf_nodes=11, min_samples_leaf=5, min_samples_split=6, n_estimators=100; total time=   0.8s\n",
      "[CV] END criterion=mae, max_depth=3, max_leaf_nodes=11, min_samples_leaf=5, min_samples_split=6, n_estimators=100; total time=   0.9s\n",
      "[CV] END criterion=mae, max_depth=3, max_leaf_nodes=11, min_samples_leaf=6, min_samples_split=3, n_estimators=100; total time=   0.8s\n",
      "[CV] END criterion=mae, max_depth=3, max_leaf_nodes=11, min_samples_leaf=6, min_samples_split=3, n_estimators=100; total time=   0.9s\n",
      "[CV] END criterion=mae, max_depth=3, max_leaf_nodes=11, min_samples_leaf=6, min_samples_split=4, n_estimators=100; total time=   0.8s\n",
      "[CV] END criterion=mae, max_depth=3, max_leaf_nodes=11, min_samples_leaf=6, min_samples_split=4, n_estimators=100; total time=   0.8s\n"
     ]
    },
    {
     "name": "stdout",
     "output_type": "stream",
     "text": [
      "[CV] END criterion=mae, max_depth=3, max_leaf_nodes=11, min_samples_leaf=6, min_samples_split=5, n_estimators=100; total time=   0.9s\n",
      "[CV] END criterion=mae, max_depth=3, max_leaf_nodes=11, min_samples_leaf=6, min_samples_split=5, n_estimators=100; total time=   0.8s\n",
      "[CV] END criterion=mae, max_depth=3, max_leaf_nodes=11, min_samples_leaf=6, min_samples_split=6, n_estimators=100; total time=   0.8s\n",
      "[CV] END criterion=mae, max_depth=3, max_leaf_nodes=11, min_samples_leaf=6, min_samples_split=6, n_estimators=100; total time=   0.9s\n",
      "[CV] END criterion=mae, max_depth=4, max_leaf_nodes=8, min_samples_leaf=3, min_samples_split=3, n_estimators=100; total time=   1.0s\n",
      "[CV] END criterion=mae, max_depth=4, max_leaf_nodes=8, min_samples_leaf=3, min_samples_split=3, n_estimators=100; total time=   1.0s\n",
      "[CV] END criterion=mae, max_depth=4, max_leaf_nodes=8, min_samples_leaf=3, min_samples_split=4, n_estimators=100; total time=   1.0s\n",
      "[CV] END criterion=mae, max_depth=4, max_leaf_nodes=8, min_samples_leaf=3, min_samples_split=4, n_estimators=100; total time=   1.0s\n",
      "[CV] END criterion=mae, max_depth=4, max_leaf_nodes=8, min_samples_leaf=3, min_samples_split=5, n_estimators=100; total time=   1.0s\n",
      "[CV] END criterion=mae, max_depth=4, max_leaf_nodes=8, min_samples_leaf=3, min_samples_split=5, n_estimators=100; total time=   1.0s\n",
      "[CV] END criterion=mae, max_depth=4, max_leaf_nodes=8, min_samples_leaf=3, min_samples_split=6, n_estimators=100; total time=   1.0s\n",
      "[CV] END criterion=mae, max_depth=4, max_leaf_nodes=8, min_samples_leaf=3, min_samples_split=6, n_estimators=100; total time=   1.0s\n",
      "[CV] END criterion=mae, max_depth=4, max_leaf_nodes=8, min_samples_leaf=4, min_samples_split=3, n_estimators=100; total time=   1.0s\n",
      "[CV] END criterion=mae, max_depth=4, max_leaf_nodes=8, min_samples_leaf=4, min_samples_split=3, n_estimators=100; total time=   1.0s\n",
      "[CV] END criterion=mae, max_depth=4, max_leaf_nodes=8, min_samples_leaf=4, min_samples_split=4, n_estimators=100; total time=   1.0s\n",
      "[CV] END criterion=mae, max_depth=4, max_leaf_nodes=8, min_samples_leaf=4, min_samples_split=4, n_estimators=100; total time=   1.0s\n",
      "[CV] END criterion=mae, max_depth=4, max_leaf_nodes=8, min_samples_leaf=4, min_samples_split=5, n_estimators=100; total time=   1.0s\n",
      "[CV] END criterion=mae, max_depth=4, max_leaf_nodes=8, min_samples_leaf=4, min_samples_split=5, n_estimators=100; total time=   1.0s\n",
      "[CV] END criterion=mae, max_depth=4, max_leaf_nodes=8, min_samples_leaf=4, min_samples_split=6, n_estimators=100; total time=   1.0s\n",
      "[CV] END criterion=mae, max_depth=4, max_leaf_nodes=8, min_samples_leaf=4, min_samples_split=6, n_estimators=100; total time=   1.0s\n",
      "[CV] END criterion=mae, max_depth=4, max_leaf_nodes=8, min_samples_leaf=5, min_samples_split=3, n_estimators=100; total time=   1.0s\n",
      "[CV] END criterion=mae, max_depth=4, max_leaf_nodes=8, min_samples_leaf=5, min_samples_split=3, n_estimators=100; total time=   1.0s\n",
      "[CV] END criterion=mae, max_depth=4, max_leaf_nodes=8, min_samples_leaf=5, min_samples_split=4, n_estimators=100; total time=   1.0s\n",
      "[CV] END criterion=mae, max_depth=4, max_leaf_nodes=8, min_samples_leaf=5, min_samples_split=4, n_estimators=100; total time=   1.0s\n",
      "[CV] END criterion=mae, max_depth=4, max_leaf_nodes=8, min_samples_leaf=5, min_samples_split=5, n_estimators=100; total time=   1.0s\n",
      "[CV] END criterion=mae, max_depth=4, max_leaf_nodes=8, min_samples_leaf=5, min_samples_split=5, n_estimators=100; total time=   1.0s\n",
      "[CV] END criterion=mae, max_depth=4, max_leaf_nodes=8, min_samples_leaf=5, min_samples_split=6, n_estimators=100; total time=   1.0s\n",
      "[CV] END criterion=mae, max_depth=4, max_leaf_nodes=8, min_samples_leaf=5, min_samples_split=6, n_estimators=100; total time=   1.0s\n",
      "[CV] END criterion=mae, max_depth=4, max_leaf_nodes=8, min_samples_leaf=6, min_samples_split=3, n_estimators=100; total time=   1.0s\n",
      "[CV] END criterion=mae, max_depth=4, max_leaf_nodes=8, min_samples_leaf=6, min_samples_split=3, n_estimators=100; total time=   0.9s\n",
      "[CV] END criterion=mae, max_depth=4, max_leaf_nodes=8, min_samples_leaf=6, min_samples_split=4, n_estimators=100; total time=   1.0s\n",
      "[CV] END criterion=mae, max_depth=4, max_leaf_nodes=8, min_samples_leaf=6, min_samples_split=4, n_estimators=100; total time=   0.9s\n",
      "[CV] END criterion=mae, max_depth=4, max_leaf_nodes=8, min_samples_leaf=6, min_samples_split=5, n_estimators=100; total time=   0.9s\n",
      "[CV] END criterion=mae, max_depth=4, max_leaf_nodes=8, min_samples_leaf=6, min_samples_split=5, n_estimators=100; total time=   1.0s\n",
      "[CV] END criterion=mae, max_depth=4, max_leaf_nodes=8, min_samples_leaf=6, min_samples_split=6, n_estimators=100; total time=   0.9s\n",
      "[CV] END criterion=mae, max_depth=4, max_leaf_nodes=8, min_samples_leaf=6, min_samples_split=6, n_estimators=100; total time=   1.0s\n",
      "[CV] END criterion=mae, max_depth=4, max_leaf_nodes=9, min_samples_leaf=3, min_samples_split=3, n_estimators=100; total time=   1.0s\n",
      "[CV] END criterion=mae, max_depth=4, max_leaf_nodes=9, min_samples_leaf=3, min_samples_split=3, n_estimators=100; total time=   1.0s\n",
      "[CV] END criterion=mae, max_depth=4, max_leaf_nodes=9, min_samples_leaf=3, min_samples_split=4, n_estimators=100; total time=   1.0s\n",
      "[CV] END criterion=mae, max_depth=4, max_leaf_nodes=9, min_samples_leaf=3, min_samples_split=4, n_estimators=100; total time=   1.0s\n",
      "[CV] END criterion=mae, max_depth=4, max_leaf_nodes=9, min_samples_leaf=3, min_samples_split=5, n_estimators=100; total time=   1.0s\n",
      "[CV] END criterion=mae, max_depth=4, max_leaf_nodes=9, min_samples_leaf=3, min_samples_split=5, n_estimators=100; total time=   1.0s\n",
      "[CV] END criterion=mae, max_depth=4, max_leaf_nodes=9, min_samples_leaf=3, min_samples_split=6, n_estimators=100; total time=   1.0s\n",
      "[CV] END criterion=mae, max_depth=4, max_leaf_nodes=9, min_samples_leaf=3, min_samples_split=6, n_estimators=100; total time=   1.0s\n",
      "[CV] END criterion=mae, max_depth=4, max_leaf_nodes=9, min_samples_leaf=4, min_samples_split=3, n_estimators=100; total time=   1.0s\n",
      "[CV] END criterion=mae, max_depth=4, max_leaf_nodes=9, min_samples_leaf=4, min_samples_split=3, n_estimators=100; total time=   1.0s\n",
      "[CV] END criterion=mae, max_depth=4, max_leaf_nodes=9, min_samples_leaf=4, min_samples_split=4, n_estimators=100; total time=   1.0s\n",
      "[CV] END criterion=mae, max_depth=4, max_leaf_nodes=9, min_samples_leaf=4, min_samples_split=4, n_estimators=100; total time=   1.0s\n",
      "[CV] END criterion=mae, max_depth=4, max_leaf_nodes=9, min_samples_leaf=4, min_samples_split=5, n_estimators=100; total time=   1.0s\n",
      "[CV] END criterion=mae, max_depth=4, max_leaf_nodes=9, min_samples_leaf=4, min_samples_split=5, n_estimators=100; total time=   1.0s\n",
      "[CV] END criterion=mae, max_depth=4, max_leaf_nodes=9, min_samples_leaf=4, min_samples_split=6, n_estimators=100; total time=   1.0s\n",
      "[CV] END criterion=mae, max_depth=4, max_leaf_nodes=9, min_samples_leaf=4, min_samples_split=6, n_estimators=100; total time=   1.0s\n",
      "[CV] END criterion=mae, max_depth=4, max_leaf_nodes=9, min_samples_leaf=5, min_samples_split=3, n_estimators=100; total time=   1.0s\n",
      "[CV] END criterion=mae, max_depth=4, max_leaf_nodes=9, min_samples_leaf=5, min_samples_split=3, n_estimators=100; total time=   1.0s\n",
      "[CV] END criterion=mae, max_depth=4, max_leaf_nodes=9, min_samples_leaf=5, min_samples_split=4, n_estimators=100; total time=   1.0s\n",
      "[CV] END criterion=mae, max_depth=4, max_leaf_nodes=9, min_samples_leaf=5, min_samples_split=4, n_estimators=100; total time=   1.0s\n",
      "[CV] END criterion=mae, max_depth=4, max_leaf_nodes=9, min_samples_leaf=5, min_samples_split=5, n_estimators=100; total time=   1.0s\n",
      "[CV] END criterion=mae, max_depth=4, max_leaf_nodes=9, min_samples_leaf=5, min_samples_split=5, n_estimators=100; total time=   1.0s\n",
      "[CV] END criterion=mae, max_depth=4, max_leaf_nodes=9, min_samples_leaf=5, min_samples_split=6, n_estimators=100; total time=   1.0s\n",
      "[CV] END criterion=mae, max_depth=4, max_leaf_nodes=9, min_samples_leaf=5, min_samples_split=6, n_estimators=100; total time=   1.0s\n",
      "[CV] END criterion=mae, max_depth=4, max_leaf_nodes=9, min_samples_leaf=6, min_samples_split=3, n_estimators=100; total time=   1.0s\n",
      "[CV] END criterion=mae, max_depth=4, max_leaf_nodes=9, min_samples_leaf=6, min_samples_split=3, n_estimators=100; total time=   0.9s\n"
     ]
    },
    {
     "name": "stdout",
     "output_type": "stream",
     "text": [
      "[CV] END criterion=mae, max_depth=4, max_leaf_nodes=9, min_samples_leaf=6, min_samples_split=4, n_estimators=100; total time=   1.0s\n",
      "[CV] END criterion=mae, max_depth=4, max_leaf_nodes=9, min_samples_leaf=6, min_samples_split=4, n_estimators=100; total time=   1.0s\n",
      "[CV] END criterion=mae, max_depth=4, max_leaf_nodes=9, min_samples_leaf=6, min_samples_split=5, n_estimators=100; total time=   1.0s\n",
      "[CV] END criterion=mae, max_depth=4, max_leaf_nodes=9, min_samples_leaf=6, min_samples_split=5, n_estimators=100; total time=   1.0s\n",
      "[CV] END criterion=mae, max_depth=4, max_leaf_nodes=9, min_samples_leaf=6, min_samples_split=6, n_estimators=100; total time=   1.0s\n",
      "[CV] END criterion=mae, max_depth=4, max_leaf_nodes=9, min_samples_leaf=6, min_samples_split=6, n_estimators=100; total time=   1.0s\n",
      "[CV] END criterion=mae, max_depth=4, max_leaf_nodes=10, min_samples_leaf=3, min_samples_split=3, n_estimators=100; total time=   1.0s\n",
      "[CV] END criterion=mae, max_depth=4, max_leaf_nodes=10, min_samples_leaf=3, min_samples_split=3, n_estimators=100; total time=   1.0s\n",
      "[CV] END criterion=mae, max_depth=4, max_leaf_nodes=10, min_samples_leaf=3, min_samples_split=4, n_estimators=100; total time=   1.0s\n",
      "[CV] END criterion=mae, max_depth=4, max_leaf_nodes=10, min_samples_leaf=3, min_samples_split=4, n_estimators=100; total time=   1.0s\n",
      "[CV] END criterion=mae, max_depth=4, max_leaf_nodes=10, min_samples_leaf=3, min_samples_split=5, n_estimators=100; total time=   1.0s\n",
      "[CV] END criterion=mae, max_depth=4, max_leaf_nodes=10, min_samples_leaf=3, min_samples_split=5, n_estimators=100; total time=   1.0s\n",
      "[CV] END criterion=mae, max_depth=4, max_leaf_nodes=10, min_samples_leaf=3, min_samples_split=6, n_estimators=100; total time=   1.0s\n",
      "[CV] END criterion=mae, max_depth=4, max_leaf_nodes=10, min_samples_leaf=3, min_samples_split=6, n_estimators=100; total time=   1.0s\n",
      "[CV] END criterion=mae, max_depth=4, max_leaf_nodes=10, min_samples_leaf=4, min_samples_split=3, n_estimators=100; total time=   1.0s\n",
      "[CV] END criterion=mae, max_depth=4, max_leaf_nodes=10, min_samples_leaf=4, min_samples_split=3, n_estimators=100; total time=   1.0s\n",
      "[CV] END criterion=mae, max_depth=4, max_leaf_nodes=10, min_samples_leaf=4, min_samples_split=4, n_estimators=100; total time=   1.0s\n",
      "[CV] END criterion=mae, max_depth=4, max_leaf_nodes=10, min_samples_leaf=4, min_samples_split=4, n_estimators=100; total time=   1.0s\n",
      "[CV] END criterion=mae, max_depth=4, max_leaf_nodes=10, min_samples_leaf=4, min_samples_split=5, n_estimators=100; total time=   1.0s\n",
      "[CV] END criterion=mae, max_depth=4, max_leaf_nodes=10, min_samples_leaf=4, min_samples_split=5, n_estimators=100; total time=   1.0s\n",
      "[CV] END criterion=mae, max_depth=4, max_leaf_nodes=10, min_samples_leaf=4, min_samples_split=6, n_estimators=100; total time=   1.0s\n",
      "[CV] END criterion=mae, max_depth=4, max_leaf_nodes=10, min_samples_leaf=4, min_samples_split=6, n_estimators=100; total time=   1.0s\n",
      "[CV] END criterion=mae, max_depth=4, max_leaf_nodes=10, min_samples_leaf=5, min_samples_split=3, n_estimators=100; total time=   1.0s\n",
      "[CV] END criterion=mae, max_depth=4, max_leaf_nodes=10, min_samples_leaf=5, min_samples_split=3, n_estimators=100; total time=   1.0s\n",
      "[CV] END criterion=mae, max_depth=4, max_leaf_nodes=10, min_samples_leaf=5, min_samples_split=4, n_estimators=100; total time=   1.0s\n",
      "[CV] END criterion=mae, max_depth=4, max_leaf_nodes=10, min_samples_leaf=5, min_samples_split=4, n_estimators=100; total time=   1.0s\n",
      "[CV] END criterion=mae, max_depth=4, max_leaf_nodes=10, min_samples_leaf=5, min_samples_split=5, n_estimators=100; total time=   1.0s\n",
      "[CV] END criterion=mae, max_depth=4, max_leaf_nodes=10, min_samples_leaf=5, min_samples_split=5, n_estimators=100; total time=   1.0s\n",
      "[CV] END criterion=mae, max_depth=4, max_leaf_nodes=10, min_samples_leaf=5, min_samples_split=6, n_estimators=100; total time=   1.0s\n",
      "[CV] END criterion=mae, max_depth=4, max_leaf_nodes=10, min_samples_leaf=5, min_samples_split=6, n_estimators=100; total time=   1.0s\n",
      "[CV] END criterion=mae, max_depth=4, max_leaf_nodes=10, min_samples_leaf=6, min_samples_split=3, n_estimators=100; total time=   1.0s\n",
      "[CV] END criterion=mae, max_depth=4, max_leaf_nodes=10, min_samples_leaf=6, min_samples_split=3, n_estimators=100; total time=   1.0s\n",
      "[CV] END criterion=mae, max_depth=4, max_leaf_nodes=10, min_samples_leaf=6, min_samples_split=4, n_estimators=100; total time=   1.0s\n",
      "[CV] END criterion=mae, max_depth=4, max_leaf_nodes=10, min_samples_leaf=6, min_samples_split=4, n_estimators=100; total time=   1.0s\n",
      "[CV] END criterion=mae, max_depth=4, max_leaf_nodes=10, min_samples_leaf=6, min_samples_split=5, n_estimators=100; total time=   1.0s\n",
      "[CV] END criterion=mae, max_depth=4, max_leaf_nodes=10, min_samples_leaf=6, min_samples_split=5, n_estimators=100; total time=   0.9s\n",
      "[CV] END criterion=mae, max_depth=4, max_leaf_nodes=10, min_samples_leaf=6, min_samples_split=6, n_estimators=100; total time=   1.0s\n",
      "[CV] END criterion=mae, max_depth=4, max_leaf_nodes=10, min_samples_leaf=6, min_samples_split=6, n_estimators=100; total time=   1.0s\n",
      "[CV] END criterion=mae, max_depth=4, max_leaf_nodes=11, min_samples_leaf=3, min_samples_split=3, n_estimators=100; total time=   1.0s\n",
      "[CV] END criterion=mae, max_depth=4, max_leaf_nodes=11, min_samples_leaf=3, min_samples_split=3, n_estimators=100; total time=   1.0s\n",
      "[CV] END criterion=mae, max_depth=4, max_leaf_nodes=11, min_samples_leaf=3, min_samples_split=4, n_estimators=100; total time=   1.0s\n",
      "[CV] END criterion=mae, max_depth=4, max_leaf_nodes=11, min_samples_leaf=3, min_samples_split=4, n_estimators=100; total time=   1.0s\n",
      "[CV] END criterion=mae, max_depth=4, max_leaf_nodes=11, min_samples_leaf=3, min_samples_split=5, n_estimators=100; total time=   1.0s\n",
      "[CV] END criterion=mae, max_depth=4, max_leaf_nodes=11, min_samples_leaf=3, min_samples_split=5, n_estimators=100; total time=   1.0s\n",
      "[CV] END criterion=mae, max_depth=4, max_leaf_nodes=11, min_samples_leaf=3, min_samples_split=6, n_estimators=100; total time=   1.0s\n",
      "[CV] END criterion=mae, max_depth=4, max_leaf_nodes=11, min_samples_leaf=3, min_samples_split=6, n_estimators=100; total time=   1.0s\n",
      "[CV] END criterion=mae, max_depth=4, max_leaf_nodes=11, min_samples_leaf=4, min_samples_split=3, n_estimators=100; total time=   1.0s\n",
      "[CV] END criterion=mae, max_depth=4, max_leaf_nodes=11, min_samples_leaf=4, min_samples_split=3, n_estimators=100; total time=   1.0s\n",
      "[CV] END criterion=mae, max_depth=4, max_leaf_nodes=11, min_samples_leaf=4, min_samples_split=4, n_estimators=100; total time=   1.0s\n",
      "[CV] END criterion=mae, max_depth=4, max_leaf_nodes=11, min_samples_leaf=4, min_samples_split=4, n_estimators=100; total time=   1.0s\n",
      "[CV] END criterion=mae, max_depth=4, max_leaf_nodes=11, min_samples_leaf=4, min_samples_split=5, n_estimators=100; total time=   1.0s\n",
      "[CV] END criterion=mae, max_depth=4, max_leaf_nodes=11, min_samples_leaf=4, min_samples_split=5, n_estimators=100; total time=   1.0s\n",
      "[CV] END criterion=mae, max_depth=4, max_leaf_nodes=11, min_samples_leaf=4, min_samples_split=6, n_estimators=100; total time=   1.0s\n",
      "[CV] END criterion=mae, max_depth=4, max_leaf_nodes=11, min_samples_leaf=4, min_samples_split=6, n_estimators=100; total time=   1.0s\n",
      "[CV] END criterion=mae, max_depth=4, max_leaf_nodes=11, min_samples_leaf=5, min_samples_split=3, n_estimators=100; total time=   1.0s\n",
      "[CV] END criterion=mae, max_depth=4, max_leaf_nodes=11, min_samples_leaf=5, min_samples_split=3, n_estimators=100; total time=   1.0s\n",
      "[CV] END criterion=mae, max_depth=4, max_leaf_nodes=11, min_samples_leaf=5, min_samples_split=4, n_estimators=100; total time=   1.0s\n",
      "[CV] END criterion=mae, max_depth=4, max_leaf_nodes=11, min_samples_leaf=5, min_samples_split=4, n_estimators=100; total time=   1.0s\n",
      "[CV] END criterion=mae, max_depth=4, max_leaf_nodes=11, min_samples_leaf=5, min_samples_split=5, n_estimators=100; total time=   1.0s\n",
      "[CV] END criterion=mae, max_depth=4, max_leaf_nodes=11, min_samples_leaf=5, min_samples_split=5, n_estimators=100; total time=   1.0s\n",
      "[CV] END criterion=mae, max_depth=4, max_leaf_nodes=11, min_samples_leaf=5, min_samples_split=6, n_estimators=100; total time=   1.0s\n",
      "[CV] END criterion=mae, max_depth=4, max_leaf_nodes=11, min_samples_leaf=5, min_samples_split=6, n_estimators=100; total time=   1.0s\n"
     ]
    },
    {
     "name": "stdout",
     "output_type": "stream",
     "text": [
      "[CV] END criterion=mae, max_depth=4, max_leaf_nodes=11, min_samples_leaf=6, min_samples_split=3, n_estimators=100; total time=   1.0s\n",
      "[CV] END criterion=mae, max_depth=4, max_leaf_nodes=11, min_samples_leaf=6, min_samples_split=3, n_estimators=100; total time=   1.0s\n",
      "[CV] END criterion=mae, max_depth=4, max_leaf_nodes=11, min_samples_leaf=6, min_samples_split=4, n_estimators=100; total time=   1.0s\n",
      "[CV] END criterion=mae, max_depth=4, max_leaf_nodes=11, min_samples_leaf=6, min_samples_split=4, n_estimators=100; total time=   1.0s\n",
      "[CV] END criterion=mae, max_depth=4, max_leaf_nodes=11, min_samples_leaf=6, min_samples_split=5, n_estimators=100; total time=   1.0s\n",
      "[CV] END criterion=mae, max_depth=4, max_leaf_nodes=11, min_samples_leaf=6, min_samples_split=5, n_estimators=100; total time=   1.0s\n",
      "[CV] END criterion=mae, max_depth=4, max_leaf_nodes=11, min_samples_leaf=6, min_samples_split=6, n_estimators=100; total time=   1.0s\n",
      "[CV] END criterion=mae, max_depth=4, max_leaf_nodes=11, min_samples_leaf=6, min_samples_split=6, n_estimators=100; total time=   1.0s\n",
      "[CV] END criterion=mae, max_depth=5, max_leaf_nodes=8, min_samples_leaf=3, min_samples_split=3, n_estimators=100; total time=   1.0s\n",
      "[CV] END criterion=mae, max_depth=5, max_leaf_nodes=8, min_samples_leaf=3, min_samples_split=3, n_estimators=100; total time=   1.0s\n",
      "[CV] END criterion=mae, max_depth=5, max_leaf_nodes=8, min_samples_leaf=3, min_samples_split=4, n_estimators=100; total time=   1.0s\n",
      "[CV] END criterion=mae, max_depth=5, max_leaf_nodes=8, min_samples_leaf=3, min_samples_split=4, n_estimators=100; total time=   1.0s\n",
      "[CV] END criterion=mae, max_depth=5, max_leaf_nodes=8, min_samples_leaf=3, min_samples_split=5, n_estimators=100; total time=   1.0s\n",
      "[CV] END criterion=mae, max_depth=5, max_leaf_nodes=8, min_samples_leaf=3, min_samples_split=5, n_estimators=100; total time=   1.0s\n",
      "[CV] END criterion=mae, max_depth=5, max_leaf_nodes=8, min_samples_leaf=3, min_samples_split=6, n_estimators=100; total time=   1.0s\n",
      "[CV] END criterion=mae, max_depth=5, max_leaf_nodes=8, min_samples_leaf=3, min_samples_split=6, n_estimators=100; total time=   1.0s\n",
      "[CV] END criterion=mae, max_depth=5, max_leaf_nodes=8, min_samples_leaf=4, min_samples_split=3, n_estimators=100; total time=   1.0s\n",
      "[CV] END criterion=mae, max_depth=5, max_leaf_nodes=8, min_samples_leaf=4, min_samples_split=3, n_estimators=100; total time=   1.0s\n",
      "[CV] END criterion=mae, max_depth=5, max_leaf_nodes=8, min_samples_leaf=4, min_samples_split=4, n_estimators=100; total time=   1.0s\n",
      "[CV] END criterion=mae, max_depth=5, max_leaf_nodes=8, min_samples_leaf=4, min_samples_split=4, n_estimators=100; total time=   1.0s\n",
      "[CV] END criterion=mae, max_depth=5, max_leaf_nodes=8, min_samples_leaf=4, min_samples_split=5, n_estimators=100; total time=   1.0s\n",
      "[CV] END criterion=mae, max_depth=5, max_leaf_nodes=8, min_samples_leaf=4, min_samples_split=5, n_estimators=100; total time=   1.0s\n",
      "[CV] END criterion=mae, max_depth=5, max_leaf_nodes=8, min_samples_leaf=4, min_samples_split=6, n_estimators=100; total time=   1.0s\n",
      "[CV] END criterion=mae, max_depth=5, max_leaf_nodes=8, min_samples_leaf=4, min_samples_split=6, n_estimators=100; total time=   1.0s\n",
      "[CV] END criterion=mae, max_depth=5, max_leaf_nodes=8, min_samples_leaf=5, min_samples_split=3, n_estimators=100; total time=   1.0s\n",
      "[CV] END criterion=mae, max_depth=5, max_leaf_nodes=8, min_samples_leaf=5, min_samples_split=3, n_estimators=100; total time=   1.0s\n",
      "[CV] END criterion=mae, max_depth=5, max_leaf_nodes=8, min_samples_leaf=5, min_samples_split=4, n_estimators=100; total time=   1.0s\n",
      "[CV] END criterion=mae, max_depth=5, max_leaf_nodes=8, min_samples_leaf=5, min_samples_split=4, n_estimators=100; total time=   1.0s\n",
      "[CV] END criterion=mae, max_depth=5, max_leaf_nodes=8, min_samples_leaf=5, min_samples_split=5, n_estimators=100; total time=   1.0s\n",
      "[CV] END criterion=mae, max_depth=5, max_leaf_nodes=8, min_samples_leaf=5, min_samples_split=5, n_estimators=100; total time=   1.0s\n",
      "[CV] END criterion=mae, max_depth=5, max_leaf_nodes=8, min_samples_leaf=5, min_samples_split=6, n_estimators=100; total time=   1.0s\n",
      "[CV] END criterion=mae, max_depth=5, max_leaf_nodes=8, min_samples_leaf=5, min_samples_split=6, n_estimators=100; total time=   1.0s\n",
      "[CV] END criterion=mae, max_depth=5, max_leaf_nodes=8, min_samples_leaf=6, min_samples_split=3, n_estimators=100; total time=   1.0s\n",
      "[CV] END criterion=mae, max_depth=5, max_leaf_nodes=8, min_samples_leaf=6, min_samples_split=3, n_estimators=100; total time=   1.0s\n",
      "[CV] END criterion=mae, max_depth=5, max_leaf_nodes=8, min_samples_leaf=6, min_samples_split=4, n_estimators=100; total time=   1.0s\n",
      "[CV] END criterion=mae, max_depth=5, max_leaf_nodes=8, min_samples_leaf=6, min_samples_split=4, n_estimators=100; total time=   1.0s\n",
      "[CV] END criterion=mae, max_depth=5, max_leaf_nodes=8, min_samples_leaf=6, min_samples_split=5, n_estimators=100; total time=   1.0s\n",
      "[CV] END criterion=mae, max_depth=5, max_leaf_nodes=8, min_samples_leaf=6, min_samples_split=5, n_estimators=100; total time=   1.0s\n",
      "[CV] END criterion=mae, max_depth=5, max_leaf_nodes=8, min_samples_leaf=6, min_samples_split=6, n_estimators=100; total time=   1.0s\n",
      "[CV] END criterion=mae, max_depth=5, max_leaf_nodes=8, min_samples_leaf=6, min_samples_split=6, n_estimators=100; total time=   1.0s\n",
      "[CV] END criterion=mae, max_depth=5, max_leaf_nodes=9, min_samples_leaf=3, min_samples_split=3, n_estimators=100; total time=   1.0s\n",
      "[CV] END criterion=mae, max_depth=5, max_leaf_nodes=9, min_samples_leaf=3, min_samples_split=3, n_estimators=100; total time=   1.0s\n",
      "[CV] END criterion=mae, max_depth=5, max_leaf_nodes=9, min_samples_leaf=3, min_samples_split=4, n_estimators=100; total time=   1.0s\n",
      "[CV] END criterion=mae, max_depth=5, max_leaf_nodes=9, min_samples_leaf=3, min_samples_split=4, n_estimators=100; total time=   1.0s\n",
      "[CV] END criterion=mae, max_depth=5, max_leaf_nodes=9, min_samples_leaf=3, min_samples_split=5, n_estimators=100; total time=   1.0s\n",
      "[CV] END criterion=mae, max_depth=5, max_leaf_nodes=9, min_samples_leaf=3, min_samples_split=5, n_estimators=100; total time=   1.0s\n",
      "[CV] END criterion=mae, max_depth=5, max_leaf_nodes=9, min_samples_leaf=3, min_samples_split=6, n_estimators=100; total time=   1.0s\n",
      "[CV] END criterion=mae, max_depth=5, max_leaf_nodes=9, min_samples_leaf=3, min_samples_split=6, n_estimators=100; total time=   1.0s\n",
      "[CV] END criterion=mae, max_depth=5, max_leaf_nodes=9, min_samples_leaf=4, min_samples_split=3, n_estimators=100; total time=   1.0s\n",
      "[CV] END criterion=mae, max_depth=5, max_leaf_nodes=9, min_samples_leaf=4, min_samples_split=3, n_estimators=100; total time=   1.0s\n",
      "[CV] END criterion=mae, max_depth=5, max_leaf_nodes=9, min_samples_leaf=4, min_samples_split=4, n_estimators=100; total time=   1.0s\n",
      "[CV] END criterion=mae, max_depth=5, max_leaf_nodes=9, min_samples_leaf=4, min_samples_split=4, n_estimators=100; total time=   1.0s\n",
      "[CV] END criterion=mae, max_depth=5, max_leaf_nodes=9, min_samples_leaf=4, min_samples_split=5, n_estimators=100; total time=   1.0s\n",
      "[CV] END criterion=mae, max_depth=5, max_leaf_nodes=9, min_samples_leaf=4, min_samples_split=5, n_estimators=100; total time=   1.0s\n",
      "[CV] END criterion=mae, max_depth=5, max_leaf_nodes=9, min_samples_leaf=4, min_samples_split=6, n_estimators=100; total time=   1.0s\n",
      "[CV] END criterion=mae, max_depth=5, max_leaf_nodes=9, min_samples_leaf=4, min_samples_split=6, n_estimators=100; total time=   1.0s\n",
      "[CV] END criterion=mae, max_depth=5, max_leaf_nodes=9, min_samples_leaf=5, min_samples_split=3, n_estimators=100; total time=   1.0s\n",
      "[CV] END criterion=mae, max_depth=5, max_leaf_nodes=9, min_samples_leaf=5, min_samples_split=3, n_estimators=100; total time=   1.0s\n",
      "[CV] END criterion=mae, max_depth=5, max_leaf_nodes=9, min_samples_leaf=5, min_samples_split=4, n_estimators=100; total time=   1.0s\n",
      "[CV] END criterion=mae, max_depth=5, max_leaf_nodes=9, min_samples_leaf=5, min_samples_split=4, n_estimators=100; total time=   1.0s\n",
      "[CV] END criterion=mae, max_depth=5, max_leaf_nodes=9, min_samples_leaf=5, min_samples_split=5, n_estimators=100; total time=   1.0s\n",
      "[CV] END criterion=mae, max_depth=5, max_leaf_nodes=9, min_samples_leaf=5, min_samples_split=5, n_estimators=100; total time=   1.0s\n"
     ]
    },
    {
     "name": "stdout",
     "output_type": "stream",
     "text": [
      "[CV] END criterion=mae, max_depth=5, max_leaf_nodes=9, min_samples_leaf=5, min_samples_split=6, n_estimators=100; total time=   1.0s\n",
      "[CV] END criterion=mae, max_depth=5, max_leaf_nodes=9, min_samples_leaf=5, min_samples_split=6, n_estimators=100; total time=   1.0s\n",
      "[CV] END criterion=mae, max_depth=5, max_leaf_nodes=9, min_samples_leaf=6, min_samples_split=3, n_estimators=100; total time=   1.0s\n",
      "[CV] END criterion=mae, max_depth=5, max_leaf_nodes=9, min_samples_leaf=6, min_samples_split=3, n_estimators=100; total time=   1.0s\n",
      "[CV] END criterion=mae, max_depth=5, max_leaf_nodes=9, min_samples_leaf=6, min_samples_split=4, n_estimators=100; total time=   1.0s\n",
      "[CV] END criterion=mae, max_depth=5, max_leaf_nodes=9, min_samples_leaf=6, min_samples_split=4, n_estimators=100; total time=   1.0s\n",
      "[CV] END criterion=mae, max_depth=5, max_leaf_nodes=9, min_samples_leaf=6, min_samples_split=5, n_estimators=100; total time=   1.0s\n",
      "[CV] END criterion=mae, max_depth=5, max_leaf_nodes=9, min_samples_leaf=6, min_samples_split=5, n_estimators=100; total time=   1.0s\n",
      "[CV] END criterion=mae, max_depth=5, max_leaf_nodes=9, min_samples_leaf=6, min_samples_split=6, n_estimators=100; total time=   1.0s\n",
      "[CV] END criterion=mae, max_depth=5, max_leaf_nodes=9, min_samples_leaf=6, min_samples_split=6, n_estimators=100; total time=   1.0s\n",
      "[CV] END criterion=mae, max_depth=5, max_leaf_nodes=10, min_samples_leaf=3, min_samples_split=3, n_estimators=100; total time=   1.0s\n",
      "[CV] END criterion=mae, max_depth=5, max_leaf_nodes=10, min_samples_leaf=3, min_samples_split=3, n_estimators=100; total time=   1.0s\n",
      "[CV] END criterion=mae, max_depth=5, max_leaf_nodes=10, min_samples_leaf=3, min_samples_split=4, n_estimators=100; total time=   1.0s\n",
      "[CV] END criterion=mae, max_depth=5, max_leaf_nodes=10, min_samples_leaf=3, min_samples_split=4, n_estimators=100; total time=   1.0s\n",
      "[CV] END criterion=mae, max_depth=5, max_leaf_nodes=10, min_samples_leaf=3, min_samples_split=5, n_estimators=100; total time=   1.0s\n",
      "[CV] END criterion=mae, max_depth=5, max_leaf_nodes=10, min_samples_leaf=3, min_samples_split=5, n_estimators=100; total time=   1.0s\n",
      "[CV] END criterion=mae, max_depth=5, max_leaf_nodes=10, min_samples_leaf=3, min_samples_split=6, n_estimators=100; total time=   1.0s\n",
      "[CV] END criterion=mae, max_depth=5, max_leaf_nodes=10, min_samples_leaf=3, min_samples_split=6, n_estimators=100; total time=   1.0s\n",
      "[CV] END criterion=mae, max_depth=5, max_leaf_nodes=10, min_samples_leaf=4, min_samples_split=3, n_estimators=100; total time=   1.0s\n",
      "[CV] END criterion=mae, max_depth=5, max_leaf_nodes=10, min_samples_leaf=4, min_samples_split=3, n_estimators=100; total time=   1.1s\n",
      "[CV] END criterion=mae, max_depth=5, max_leaf_nodes=10, min_samples_leaf=4, min_samples_split=4, n_estimators=100; total time=   1.0s\n",
      "[CV] END criterion=mae, max_depth=5, max_leaf_nodes=10, min_samples_leaf=4, min_samples_split=4, n_estimators=100; total time=   1.1s\n",
      "[CV] END criterion=mae, max_depth=5, max_leaf_nodes=10, min_samples_leaf=4, min_samples_split=5, n_estimators=100; total time=   1.0s\n",
      "[CV] END criterion=mae, max_depth=5, max_leaf_nodes=10, min_samples_leaf=4, min_samples_split=5, n_estimators=100; total time=   1.0s\n",
      "[CV] END criterion=mae, max_depth=5, max_leaf_nodes=10, min_samples_leaf=4, min_samples_split=6, n_estimators=100; total time=   1.0s\n",
      "[CV] END criterion=mae, max_depth=5, max_leaf_nodes=10, min_samples_leaf=4, min_samples_split=6, n_estimators=100; total time=   1.0s\n",
      "[CV] END criterion=mae, max_depth=5, max_leaf_nodes=10, min_samples_leaf=5, min_samples_split=3, n_estimators=100; total time=   1.0s\n",
      "[CV] END criterion=mae, max_depth=5, max_leaf_nodes=10, min_samples_leaf=5, min_samples_split=3, n_estimators=100; total time=   1.0s\n",
      "[CV] END criterion=mae, max_depth=5, max_leaf_nodes=10, min_samples_leaf=5, min_samples_split=4, n_estimators=100; total time=   1.0s\n",
      "[CV] END criterion=mae, max_depth=5, max_leaf_nodes=10, min_samples_leaf=5, min_samples_split=4, n_estimators=100; total time=   1.0s\n",
      "[CV] END criterion=mae, max_depth=5, max_leaf_nodes=10, min_samples_leaf=5, min_samples_split=5, n_estimators=100; total time=   1.0s\n",
      "[CV] END criterion=mae, max_depth=5, max_leaf_nodes=10, min_samples_leaf=5, min_samples_split=5, n_estimators=100; total time=   1.1s\n",
      "[CV] END criterion=mae, max_depth=5, max_leaf_nodes=10, min_samples_leaf=5, min_samples_split=6, n_estimators=100; total time=   1.0s\n",
      "[CV] END criterion=mae, max_depth=5, max_leaf_nodes=10, min_samples_leaf=5, min_samples_split=6, n_estimators=100; total time=   1.0s\n",
      "[CV] END criterion=mae, max_depth=5, max_leaf_nodes=10, min_samples_leaf=6, min_samples_split=3, n_estimators=100; total time=   1.0s\n",
      "[CV] END criterion=mae, max_depth=5, max_leaf_nodes=10, min_samples_leaf=6, min_samples_split=3, n_estimators=100; total time=   1.0s\n",
      "[CV] END criterion=mae, max_depth=5, max_leaf_nodes=10, min_samples_leaf=6, min_samples_split=4, n_estimators=100; total time=   1.1s\n",
      "[CV] END criterion=mae, max_depth=5, max_leaf_nodes=10, min_samples_leaf=6, min_samples_split=4, n_estimators=100; total time=   1.1s\n",
      "[CV] END criterion=mae, max_depth=5, max_leaf_nodes=10, min_samples_leaf=6, min_samples_split=5, n_estimators=100; total time=   1.1s\n",
      "[CV] END criterion=mae, max_depth=5, max_leaf_nodes=10, min_samples_leaf=6, min_samples_split=5, n_estimators=100; total time=   1.2s\n",
      "[CV] END criterion=mae, max_depth=5, max_leaf_nodes=10, min_samples_leaf=6, min_samples_split=6, n_estimators=100; total time=   1.1s\n",
      "[CV] END criterion=mae, max_depth=5, max_leaf_nodes=10, min_samples_leaf=6, min_samples_split=6, n_estimators=100; total time=   1.1s\n",
      "[CV] END criterion=mae, max_depth=5, max_leaf_nodes=11, min_samples_leaf=3, min_samples_split=3, n_estimators=100; total time=   1.3s\n",
      "[CV] END criterion=mae, max_depth=5, max_leaf_nodes=11, min_samples_leaf=3, min_samples_split=3, n_estimators=100; total time=   1.3s\n",
      "[CV] END criterion=mae, max_depth=5, max_leaf_nodes=11, min_samples_leaf=3, min_samples_split=4, n_estimators=100; total time=   1.2s\n",
      "[CV] END criterion=mae, max_depth=5, max_leaf_nodes=11, min_samples_leaf=3, min_samples_split=4, n_estimators=100; total time=   1.1s\n",
      "[CV] END criterion=mae, max_depth=5, max_leaf_nodes=11, min_samples_leaf=3, min_samples_split=5, n_estimators=100; total time=   1.2s\n",
      "[CV] END criterion=mae, max_depth=5, max_leaf_nodes=11, min_samples_leaf=3, min_samples_split=5, n_estimators=100; total time=   1.1s\n",
      "[CV] END criterion=mae, max_depth=5, max_leaf_nodes=11, min_samples_leaf=3, min_samples_split=6, n_estimators=100; total time=   1.1s\n",
      "[CV] END criterion=mae, max_depth=5, max_leaf_nodes=11, min_samples_leaf=3, min_samples_split=6, n_estimators=100; total time=   1.1s\n",
      "[CV] END criterion=mae, max_depth=5, max_leaf_nodes=11, min_samples_leaf=4, min_samples_split=3, n_estimators=100; total time=   1.0s\n",
      "[CV] END criterion=mae, max_depth=5, max_leaf_nodes=11, min_samples_leaf=4, min_samples_split=3, n_estimators=100; total time=   1.1s\n",
      "[CV] END criterion=mae, max_depth=5, max_leaf_nodes=11, min_samples_leaf=4, min_samples_split=4, n_estimators=100; total time=   1.1s\n",
      "[CV] END criterion=mae, max_depth=5, max_leaf_nodes=11, min_samples_leaf=4, min_samples_split=4, n_estimators=100; total time=   1.1s\n",
      "[CV] END criterion=mae, max_depth=5, max_leaf_nodes=11, min_samples_leaf=4, min_samples_split=5, n_estimators=100; total time=   1.1s\n",
      "[CV] END criterion=mae, max_depth=5, max_leaf_nodes=11, min_samples_leaf=4, min_samples_split=5, n_estimators=100; total time=   1.1s\n",
      "[CV] END criterion=mae, max_depth=5, max_leaf_nodes=11, min_samples_leaf=4, min_samples_split=6, n_estimators=100; total time=   1.1s\n",
      "[CV] END criterion=mae, max_depth=5, max_leaf_nodes=11, min_samples_leaf=4, min_samples_split=6, n_estimators=100; total time=   1.1s\n",
      "[CV] END criterion=mae, max_depth=5, max_leaf_nodes=11, min_samples_leaf=5, min_samples_split=3, n_estimators=100; total time=   1.0s\n",
      "[CV] END criterion=mae, max_depth=5, max_leaf_nodes=11, min_samples_leaf=5, min_samples_split=3, n_estimators=100; total time=   1.1s\n",
      "[CV] END criterion=mae, max_depth=5, max_leaf_nodes=11, min_samples_leaf=5, min_samples_split=4, n_estimators=100; total time=   1.0s\n",
      "[CV] END criterion=mae, max_depth=5, max_leaf_nodes=11, min_samples_leaf=5, min_samples_split=4, n_estimators=100; total time=   1.0s\n"
     ]
    },
    {
     "name": "stdout",
     "output_type": "stream",
     "text": [
      "[CV] END criterion=mae, max_depth=5, max_leaf_nodes=11, min_samples_leaf=5, min_samples_split=5, n_estimators=100; total time=   1.1s\n",
      "[CV] END criterion=mae, max_depth=5, max_leaf_nodes=11, min_samples_leaf=5, min_samples_split=5, n_estimators=100; total time=   1.1s\n",
      "[CV] END criterion=mae, max_depth=5, max_leaf_nodes=11, min_samples_leaf=5, min_samples_split=6, n_estimators=100; total time=   1.1s\n",
      "[CV] END criterion=mae, max_depth=5, max_leaf_nodes=11, min_samples_leaf=5, min_samples_split=6, n_estimators=100; total time=   1.0s\n",
      "[CV] END criterion=mae, max_depth=5, max_leaf_nodes=11, min_samples_leaf=6, min_samples_split=3, n_estimators=100; total time=   1.1s\n",
      "[CV] END criterion=mae, max_depth=5, max_leaf_nodes=11, min_samples_leaf=6, min_samples_split=3, n_estimators=100; total time=   1.1s\n",
      "[CV] END criterion=mae, max_depth=5, max_leaf_nodes=11, min_samples_leaf=6, min_samples_split=4, n_estimators=100; total time=   1.1s\n",
      "[CV] END criterion=mae, max_depth=5, max_leaf_nodes=11, min_samples_leaf=6, min_samples_split=4, n_estimators=100; total time=   1.1s\n",
      "[CV] END criterion=mae, max_depth=5, max_leaf_nodes=11, min_samples_leaf=6, min_samples_split=5, n_estimators=100; total time=   1.0s\n",
      "[CV] END criterion=mae, max_depth=5, max_leaf_nodes=11, min_samples_leaf=6, min_samples_split=5, n_estimators=100; total time=   1.1s\n",
      "[CV] END criterion=mae, max_depth=5, max_leaf_nodes=11, min_samples_leaf=6, min_samples_split=6, n_estimators=100; total time=   1.1s\n",
      "[CV] END criterion=mae, max_depth=5, max_leaf_nodes=11, min_samples_leaf=6, min_samples_split=6, n_estimators=100; total time=   1.0s\n",
      "[CV] END criterion=mae, max_depth=6, max_leaf_nodes=8, min_samples_leaf=3, min_samples_split=3, n_estimators=100; total time=   1.0s\n",
      "[CV] END criterion=mae, max_depth=6, max_leaf_nodes=8, min_samples_leaf=3, min_samples_split=3, n_estimators=100; total time=   1.0s\n",
      "[CV] END criterion=mae, max_depth=6, max_leaf_nodes=8, min_samples_leaf=3, min_samples_split=4, n_estimators=100; total time=   1.0s\n",
      "[CV] END criterion=mae, max_depth=6, max_leaf_nodes=8, min_samples_leaf=3, min_samples_split=4, n_estimators=100; total time=   1.0s\n",
      "[CV] END criterion=mae, max_depth=6, max_leaf_nodes=8, min_samples_leaf=3, min_samples_split=5, n_estimators=100; total time=   1.0s\n",
      "[CV] END criterion=mae, max_depth=6, max_leaf_nodes=8, min_samples_leaf=3, min_samples_split=5, n_estimators=100; total time=   1.0s\n",
      "[CV] END criterion=mae, max_depth=6, max_leaf_nodes=8, min_samples_leaf=3, min_samples_split=6, n_estimators=100; total time=   1.0s\n",
      "[CV] END criterion=mae, max_depth=6, max_leaf_nodes=8, min_samples_leaf=3, min_samples_split=6, n_estimators=100; total time=   1.0s\n",
      "[CV] END criterion=mae, max_depth=6, max_leaf_nodes=8, min_samples_leaf=4, min_samples_split=3, n_estimators=100; total time=   1.0s\n",
      "[CV] END criterion=mae, max_depth=6, max_leaf_nodes=8, min_samples_leaf=4, min_samples_split=3, n_estimators=100; total time=   1.0s\n",
      "[CV] END criterion=mae, max_depth=6, max_leaf_nodes=8, min_samples_leaf=4, min_samples_split=4, n_estimators=100; total time=   1.0s\n",
      "[CV] END criterion=mae, max_depth=6, max_leaf_nodes=8, min_samples_leaf=4, min_samples_split=4, n_estimators=100; total time=   1.0s\n",
      "[CV] END criterion=mae, max_depth=6, max_leaf_nodes=8, min_samples_leaf=4, min_samples_split=5, n_estimators=100; total time=   1.0s\n",
      "[CV] END criterion=mae, max_depth=6, max_leaf_nodes=8, min_samples_leaf=4, min_samples_split=5, n_estimators=100; total time=   1.0s\n",
      "[CV] END criterion=mae, max_depth=6, max_leaf_nodes=8, min_samples_leaf=4, min_samples_split=6, n_estimators=100; total time=   1.0s\n",
      "[CV] END criterion=mae, max_depth=6, max_leaf_nodes=8, min_samples_leaf=4, min_samples_split=6, n_estimators=100; total time=   1.0s\n",
      "[CV] END criterion=mae, max_depth=6, max_leaf_nodes=8, min_samples_leaf=5, min_samples_split=3, n_estimators=100; total time=   1.0s\n",
      "[CV] END criterion=mae, max_depth=6, max_leaf_nodes=8, min_samples_leaf=5, min_samples_split=3, n_estimators=100; total time=   1.0s\n",
      "[CV] END criterion=mae, max_depth=6, max_leaf_nodes=8, min_samples_leaf=5, min_samples_split=4, n_estimators=100; total time=   1.0s\n",
      "[CV] END criterion=mae, max_depth=6, max_leaf_nodes=8, min_samples_leaf=5, min_samples_split=4, n_estimators=100; total time=   1.0s\n",
      "[CV] END criterion=mae, max_depth=6, max_leaf_nodes=8, min_samples_leaf=5, min_samples_split=5, n_estimators=100; total time=   1.0s\n",
      "[CV] END criterion=mae, max_depth=6, max_leaf_nodes=8, min_samples_leaf=5, min_samples_split=5, n_estimators=100; total time=   1.0s\n",
      "[CV] END criterion=mae, max_depth=6, max_leaf_nodes=8, min_samples_leaf=5, min_samples_split=6, n_estimators=100; total time=   1.0s\n",
      "[CV] END criterion=mae, max_depth=6, max_leaf_nodes=8, min_samples_leaf=5, min_samples_split=6, n_estimators=100; total time=   1.0s\n",
      "[CV] END criterion=mae, max_depth=6, max_leaf_nodes=8, min_samples_leaf=6, min_samples_split=3, n_estimators=100; total time=   1.0s\n",
      "[CV] END criterion=mae, max_depth=6, max_leaf_nodes=8, min_samples_leaf=6, min_samples_split=3, n_estimators=100; total time=   1.0s\n",
      "[CV] END criterion=mae, max_depth=6, max_leaf_nodes=8, min_samples_leaf=6, min_samples_split=4, n_estimators=100; total time=   1.0s\n",
      "[CV] END criterion=mae, max_depth=6, max_leaf_nodes=8, min_samples_leaf=6, min_samples_split=4, n_estimators=100; total time=   1.0s\n",
      "[CV] END criterion=mae, max_depth=6, max_leaf_nodes=8, min_samples_leaf=6, min_samples_split=5, n_estimators=100; total time=   1.0s\n",
      "[CV] END criterion=mae, max_depth=6, max_leaf_nodes=8, min_samples_leaf=6, min_samples_split=5, n_estimators=100; total time=   1.0s\n",
      "[CV] END criterion=mae, max_depth=6, max_leaf_nodes=8, min_samples_leaf=6, min_samples_split=6, n_estimators=100; total time=   1.0s\n",
      "[CV] END criterion=mae, max_depth=6, max_leaf_nodes=8, min_samples_leaf=6, min_samples_split=6, n_estimators=100; total time=   1.0s\n",
      "[CV] END criterion=mae, max_depth=6, max_leaf_nodes=9, min_samples_leaf=3, min_samples_split=3, n_estimators=100; total time=   1.0s\n",
      "[CV] END criterion=mae, max_depth=6, max_leaf_nodes=9, min_samples_leaf=3, min_samples_split=3, n_estimators=100; total time=   1.0s\n",
      "[CV] END criterion=mae, max_depth=6, max_leaf_nodes=9, min_samples_leaf=3, min_samples_split=4, n_estimators=100; total time=   1.0s\n",
      "[CV] END criterion=mae, max_depth=6, max_leaf_nodes=9, min_samples_leaf=3, min_samples_split=4, n_estimators=100; total time=   1.0s\n",
      "[CV] END criterion=mae, max_depth=6, max_leaf_nodes=9, min_samples_leaf=3, min_samples_split=5, n_estimators=100; total time=   1.0s\n",
      "[CV] END criterion=mae, max_depth=6, max_leaf_nodes=9, min_samples_leaf=3, min_samples_split=5, n_estimators=100; total time=   1.0s\n",
      "[CV] END criterion=mae, max_depth=6, max_leaf_nodes=9, min_samples_leaf=3, min_samples_split=6, n_estimators=100; total time=   1.0s\n",
      "[CV] END criterion=mae, max_depth=6, max_leaf_nodes=9, min_samples_leaf=3, min_samples_split=6, n_estimators=100; total time=   1.1s\n",
      "[CV] END criterion=mae, max_depth=6, max_leaf_nodes=9, min_samples_leaf=4, min_samples_split=3, n_estimators=100; total time=   1.0s\n",
      "[CV] END criterion=mae, max_depth=6, max_leaf_nodes=9, min_samples_leaf=4, min_samples_split=3, n_estimators=100; total time=   1.0s\n",
      "[CV] END criterion=mae, max_depth=6, max_leaf_nodes=9, min_samples_leaf=4, min_samples_split=4, n_estimators=100; total time=   1.0s\n",
      "[CV] END criterion=mae, max_depth=6, max_leaf_nodes=9, min_samples_leaf=4, min_samples_split=4, n_estimators=100; total time=   1.0s\n",
      "[CV] END criterion=mae, max_depth=6, max_leaf_nodes=9, min_samples_leaf=4, min_samples_split=5, n_estimators=100; total time=   1.0s\n",
      "[CV] END criterion=mae, max_depth=6, max_leaf_nodes=9, min_samples_leaf=4, min_samples_split=5, n_estimators=100; total time=   1.0s\n",
      "[CV] END criterion=mae, max_depth=6, max_leaf_nodes=9, min_samples_leaf=4, min_samples_split=6, n_estimators=100; total time=   1.0s\n",
      "[CV] END criterion=mae, max_depth=6, max_leaf_nodes=9, min_samples_leaf=4, min_samples_split=6, n_estimators=100; total time=   1.0s\n",
      "[CV] END criterion=mae, max_depth=6, max_leaf_nodes=9, min_samples_leaf=5, min_samples_split=3, n_estimators=100; total time=   1.0s\n",
      "[CV] END criterion=mae, max_depth=6, max_leaf_nodes=9, min_samples_leaf=5, min_samples_split=3, n_estimators=100; total time=   1.0s\n"
     ]
    },
    {
     "name": "stdout",
     "output_type": "stream",
     "text": [
      "[CV] END criterion=mae, max_depth=6, max_leaf_nodes=9, min_samples_leaf=5, min_samples_split=4, n_estimators=100; total time=   1.0s\n",
      "[CV] END criterion=mae, max_depth=6, max_leaf_nodes=9, min_samples_leaf=5, min_samples_split=4, n_estimators=100; total time=   1.0s\n",
      "[CV] END criterion=mae, max_depth=6, max_leaf_nodes=9, min_samples_leaf=5, min_samples_split=5, n_estimators=100; total time=   1.0s\n",
      "[CV] END criterion=mae, max_depth=6, max_leaf_nodes=9, min_samples_leaf=5, min_samples_split=5, n_estimators=100; total time=   1.0s\n",
      "[CV] END criterion=mae, max_depth=6, max_leaf_nodes=9, min_samples_leaf=5, min_samples_split=6, n_estimators=100; total time=   1.0s\n",
      "[CV] END criterion=mae, max_depth=6, max_leaf_nodes=9, min_samples_leaf=5, min_samples_split=6, n_estimators=100; total time=   1.0s\n",
      "[CV] END criterion=mae, max_depth=6, max_leaf_nodes=9, min_samples_leaf=6, min_samples_split=3, n_estimators=100; total time=   1.0s\n",
      "[CV] END criterion=mae, max_depth=6, max_leaf_nodes=9, min_samples_leaf=6, min_samples_split=3, n_estimators=100; total time=   1.0s\n",
      "[CV] END criterion=mae, max_depth=6, max_leaf_nodes=9, min_samples_leaf=6, min_samples_split=4, n_estimators=100; total time=   1.0s\n",
      "[CV] END criterion=mae, max_depth=6, max_leaf_nodes=9, min_samples_leaf=6, min_samples_split=4, n_estimators=100; total time=   1.0s\n",
      "[CV] END criterion=mae, max_depth=6, max_leaf_nodes=9, min_samples_leaf=6, min_samples_split=5, n_estimators=100; total time=   1.0s\n",
      "[CV] END criterion=mae, max_depth=6, max_leaf_nodes=9, min_samples_leaf=6, min_samples_split=5, n_estimators=100; total time=   1.0s\n",
      "[CV] END criterion=mae, max_depth=6, max_leaf_nodes=9, min_samples_leaf=6, min_samples_split=6, n_estimators=100; total time=   1.0s\n",
      "[CV] END criterion=mae, max_depth=6, max_leaf_nodes=9, min_samples_leaf=6, min_samples_split=6, n_estimators=100; total time=   1.0s\n",
      "[CV] END criterion=mae, max_depth=6, max_leaf_nodes=10, min_samples_leaf=3, min_samples_split=3, n_estimators=100; total time=   1.0s\n",
      "[CV] END criterion=mae, max_depth=6, max_leaf_nodes=10, min_samples_leaf=3, min_samples_split=3, n_estimators=100; total time=   1.0s\n",
      "[CV] END criterion=mae, max_depth=6, max_leaf_nodes=10, min_samples_leaf=3, min_samples_split=4, n_estimators=100; total time=   1.0s\n",
      "[CV] END criterion=mae, max_depth=6, max_leaf_nodes=10, min_samples_leaf=3, min_samples_split=4, n_estimators=100; total time=   1.0s\n",
      "[CV] END criterion=mae, max_depth=6, max_leaf_nodes=10, min_samples_leaf=3, min_samples_split=5, n_estimators=100; total time=   1.0s\n",
      "[CV] END criterion=mae, max_depth=6, max_leaf_nodes=10, min_samples_leaf=3, min_samples_split=5, n_estimators=100; total time=   1.0s\n",
      "[CV] END criterion=mae, max_depth=6, max_leaf_nodes=10, min_samples_leaf=3, min_samples_split=6, n_estimators=100; total time=   1.0s\n",
      "[CV] END criterion=mae, max_depth=6, max_leaf_nodes=10, min_samples_leaf=3, min_samples_split=6, n_estimators=100; total time=   1.0s\n",
      "[CV] END criterion=mae, max_depth=6, max_leaf_nodes=10, min_samples_leaf=4, min_samples_split=3, n_estimators=100; total time=   1.0s\n",
      "[CV] END criterion=mae, max_depth=6, max_leaf_nodes=10, min_samples_leaf=4, min_samples_split=3, n_estimators=100; total time=   1.0s\n",
      "[CV] END criterion=mae, max_depth=6, max_leaf_nodes=10, min_samples_leaf=4, min_samples_split=4, n_estimators=100; total time=   1.0s\n",
      "[CV] END criterion=mae, max_depth=6, max_leaf_nodes=10, min_samples_leaf=4, min_samples_split=4, n_estimators=100; total time=   1.0s\n",
      "[CV] END criterion=mae, max_depth=6, max_leaf_nodes=10, min_samples_leaf=4, min_samples_split=5, n_estimators=100; total time=   1.0s\n",
      "[CV] END criterion=mae, max_depth=6, max_leaf_nodes=10, min_samples_leaf=4, min_samples_split=5, n_estimators=100; total time=   1.0s\n",
      "[CV] END criterion=mae, max_depth=6, max_leaf_nodes=10, min_samples_leaf=4, min_samples_split=6, n_estimators=100; total time=   1.0s\n",
      "[CV] END criterion=mae, max_depth=6, max_leaf_nodes=10, min_samples_leaf=4, min_samples_split=6, n_estimators=100; total time=   1.1s\n",
      "[CV] END criterion=mae, max_depth=6, max_leaf_nodes=10, min_samples_leaf=5, min_samples_split=3, n_estimators=100; total time=   1.0s\n",
      "[CV] END criterion=mae, max_depth=6, max_leaf_nodes=10, min_samples_leaf=5, min_samples_split=3, n_estimators=100; total time=   1.0s\n",
      "[CV] END criterion=mae, max_depth=6, max_leaf_nodes=10, min_samples_leaf=5, min_samples_split=4, n_estimators=100; total time=   1.0s\n",
      "[CV] END criterion=mae, max_depth=6, max_leaf_nodes=10, min_samples_leaf=5, min_samples_split=4, n_estimators=100; total time=   1.0s\n",
      "[CV] END criterion=mae, max_depth=6, max_leaf_nodes=10, min_samples_leaf=5, min_samples_split=5, n_estimators=100; total time=   1.0s\n",
      "[CV] END criterion=mae, max_depth=6, max_leaf_nodes=10, min_samples_leaf=5, min_samples_split=5, n_estimators=100; total time=   1.0s\n",
      "[CV] END criterion=mae, max_depth=6, max_leaf_nodes=10, min_samples_leaf=5, min_samples_split=6, n_estimators=100; total time=   1.0s\n",
      "[CV] END criterion=mae, max_depth=6, max_leaf_nodes=10, min_samples_leaf=5, min_samples_split=6, n_estimators=100; total time=   1.0s\n",
      "[CV] END criterion=mae, max_depth=6, max_leaf_nodes=10, min_samples_leaf=6, min_samples_split=3, n_estimators=100; total time=   1.0s\n",
      "[CV] END criterion=mae, max_depth=6, max_leaf_nodes=10, min_samples_leaf=6, min_samples_split=3, n_estimators=100; total time=   1.0s\n",
      "[CV] END criterion=mae, max_depth=6, max_leaf_nodes=10, min_samples_leaf=6, min_samples_split=4, n_estimators=100; total time=   1.0s\n",
      "[CV] END criterion=mae, max_depth=6, max_leaf_nodes=10, min_samples_leaf=6, min_samples_split=4, n_estimators=100; total time=   1.0s\n",
      "[CV] END criterion=mae, max_depth=6, max_leaf_nodes=10, min_samples_leaf=6, min_samples_split=5, n_estimators=100; total time=   1.0s\n",
      "[CV] END criterion=mae, max_depth=6, max_leaf_nodes=10, min_samples_leaf=6, min_samples_split=5, n_estimators=100; total time=   1.0s\n",
      "[CV] END criterion=mae, max_depth=6, max_leaf_nodes=10, min_samples_leaf=6, min_samples_split=6, n_estimators=100; total time=   1.0s\n",
      "[CV] END criterion=mae, max_depth=6, max_leaf_nodes=10, min_samples_leaf=6, min_samples_split=6, n_estimators=100; total time=   1.0s\n",
      "[CV] END criterion=mae, max_depth=6, max_leaf_nodes=11, min_samples_leaf=3, min_samples_split=3, n_estimators=100; total time=   1.0s\n",
      "[CV] END criterion=mae, max_depth=6, max_leaf_nodes=11, min_samples_leaf=3, min_samples_split=3, n_estimators=100; total time=   1.1s\n",
      "[CV] END criterion=mae, max_depth=6, max_leaf_nodes=11, min_samples_leaf=3, min_samples_split=4, n_estimators=100; total time=   1.1s\n",
      "[CV] END criterion=mae, max_depth=6, max_leaf_nodes=11, min_samples_leaf=3, min_samples_split=4, n_estimators=100; total time=   1.1s\n",
      "[CV] END criterion=mae, max_depth=6, max_leaf_nodes=11, min_samples_leaf=3, min_samples_split=5, n_estimators=100; total time=   1.0s\n",
      "[CV] END criterion=mae, max_depth=6, max_leaf_nodes=11, min_samples_leaf=3, min_samples_split=5, n_estimators=100; total time=   1.1s\n",
      "[CV] END criterion=mae, max_depth=6, max_leaf_nodes=11, min_samples_leaf=3, min_samples_split=6, n_estimators=100; total time=   1.0s\n",
      "[CV] END criterion=mae, max_depth=6, max_leaf_nodes=11, min_samples_leaf=3, min_samples_split=6, n_estimators=100; total time=   1.1s\n",
      "[CV] END criterion=mae, max_depth=6, max_leaf_nodes=11, min_samples_leaf=4, min_samples_split=3, n_estimators=100; total time=   1.0s\n",
      "[CV] END criterion=mae, max_depth=6, max_leaf_nodes=11, min_samples_leaf=4, min_samples_split=3, n_estimators=100; total time=   1.1s\n",
      "[CV] END criterion=mae, max_depth=6, max_leaf_nodes=11, min_samples_leaf=4, min_samples_split=4, n_estimators=100; total time=   1.0s\n",
      "[CV] END criterion=mae, max_depth=6, max_leaf_nodes=11, min_samples_leaf=4, min_samples_split=4, n_estimators=100; total time=   1.0s\n",
      "[CV] END criterion=mae, max_depth=6, max_leaf_nodes=11, min_samples_leaf=4, min_samples_split=5, n_estimators=100; total time=   1.0s\n",
      "[CV] END criterion=mae, max_depth=6, max_leaf_nodes=11, min_samples_leaf=4, min_samples_split=5, n_estimators=100; total time=   1.1s\n",
      "[CV] END criterion=mae, max_depth=6, max_leaf_nodes=11, min_samples_leaf=4, min_samples_split=6, n_estimators=100; total time=   1.0s\n",
      "[CV] END criterion=mae, max_depth=6, max_leaf_nodes=11, min_samples_leaf=4, min_samples_split=6, n_estimators=100; total time=   1.0s\n"
     ]
    },
    {
     "name": "stdout",
     "output_type": "stream",
     "text": [
      "[CV] END criterion=mae, max_depth=6, max_leaf_nodes=11, min_samples_leaf=5, min_samples_split=3, n_estimators=100; total time=   1.0s\n",
      "[CV] END criterion=mae, max_depth=6, max_leaf_nodes=11, min_samples_leaf=5, min_samples_split=3, n_estimators=100; total time=   1.0s\n",
      "[CV] END criterion=mae, max_depth=6, max_leaf_nodes=11, min_samples_leaf=5, min_samples_split=4, n_estimators=100; total time=   1.0s\n",
      "[CV] END criterion=mae, max_depth=6, max_leaf_nodes=11, min_samples_leaf=5, min_samples_split=4, n_estimators=100; total time=   1.0s\n",
      "[CV] END criterion=mae, max_depth=6, max_leaf_nodes=11, min_samples_leaf=5, min_samples_split=5, n_estimators=100; total time=   1.0s\n",
      "[CV] END criterion=mae, max_depth=6, max_leaf_nodes=11, min_samples_leaf=5, min_samples_split=5, n_estimators=100; total time=   1.0s\n",
      "[CV] END criterion=mae, max_depth=6, max_leaf_nodes=11, min_samples_leaf=5, min_samples_split=6, n_estimators=100; total time=   1.0s\n",
      "[CV] END criterion=mae, max_depth=6, max_leaf_nodes=11, min_samples_leaf=5, min_samples_split=6, n_estimators=100; total time=   1.0s\n",
      "[CV] END criterion=mae, max_depth=6, max_leaf_nodes=11, min_samples_leaf=6, min_samples_split=3, n_estimators=100; total time=   1.0s\n",
      "[CV] END criterion=mae, max_depth=6, max_leaf_nodes=11, min_samples_leaf=6, min_samples_split=3, n_estimators=100; total time=   1.0s\n",
      "[CV] END criterion=mae, max_depth=6, max_leaf_nodes=11, min_samples_leaf=6, min_samples_split=4, n_estimators=100; total time=   1.0s\n",
      "[CV] END criterion=mae, max_depth=6, max_leaf_nodes=11, min_samples_leaf=6, min_samples_split=4, n_estimators=100; total time=   1.0s\n",
      "[CV] END criterion=mae, max_depth=6, max_leaf_nodes=11, min_samples_leaf=6, min_samples_split=5, n_estimators=100; total time=   1.0s\n",
      "[CV] END criterion=mae, max_depth=6, max_leaf_nodes=11, min_samples_leaf=6, min_samples_split=5, n_estimators=100; total time=   1.0s\n",
      "[CV] END criterion=mae, max_depth=6, max_leaf_nodes=11, min_samples_leaf=6, min_samples_split=6, n_estimators=100; total time=   1.0s\n",
      "[CV] END criterion=mae, max_depth=6, max_leaf_nodes=11, min_samples_leaf=6, min_samples_split=6, n_estimators=100; total time=   1.0s\n"
     ]
    },
    {
     "data": {
      "text/plain": [
       "GridSearchCV(cv=2, estimator=RandomForestRegressor(), n_jobs=1,\n",
       "             param_grid={'criterion': ['mae'], 'max_depth': [3, 4, 5, 6],\n",
       "                         'max_leaf_nodes': range(8, 12),\n",
       "                         'min_samples_leaf': range(3, 7),\n",
       "                         'min_samples_split': range(3, 7),\n",
       "                         'n_estimators': [100]},\n",
       "             scoring='neg_mean_absolute_error', verbose=2)"
      ]
     },
     "execution_count": 174,
     "metadata": {},
     "output_type": "execute_result"
    }
   ],
   "source": [
    "rf_1 = RandomForestRegressor()\n",
    "grid_search_1 = GridSearchCV(estimator = rf_1, param_grid = param_grid2, \n",
    "                          cv = 2, n_jobs = 1, verbose = 2,scoring='neg_mean_absolute_error')\n",
    "grid_search_1.fit(zestaw_6, np.ravel(caly_label))"
   ]
  },
  {
   "cell_type": "code",
   "execution_count": 175,
   "metadata": {},
   "outputs": [
    {
     "data": {
      "text/plain": [
       "RandomForestRegressor(criterion='mae', max_depth=4, max_leaf_nodes=11,\n",
       "                      min_samples_leaf=6, min_samples_split=4)"
      ]
     },
     "execution_count": 175,
     "metadata": {},
     "output_type": "execute_result"
    }
   ],
   "source": [
    "grid_search_1.best_estimator_"
   ]
  },
  {
   "cell_type": "code",
   "execution_count": 176,
   "metadata": {},
   "outputs": [
    {
     "data": {
      "text/plain": [
       "-1.8182302828743915"
      ]
     },
     "execution_count": 176,
     "metadata": {},
     "output_type": "execute_result"
    }
   ],
   "source": [
    "grid_search_1.best_score_"
   ]
  },
  {
   "cell_type": "markdown",
   "metadata": {},
   "source": [
    "## 7.3 Hiperparametry Wszystkie"
   ]
  },
  {
   "cell_type": "markdown",
   "metadata": {},
   "source": [
    "### 7.3.1 Hiperparametry Wszystkie part1"
   ]
  },
  {
   "cell_type": "code",
   "execution_count": 159,
   "metadata": {},
   "outputs": [
    {
     "name": "stdout",
     "output_type": "stream",
     "text": [
      "Fitting 2 folds for each of 72 candidates, totalling 144 fits\n"
     ]
    },
    {
     "data": {
      "text/plain": [
       "GridSearchCV(cv=2, estimator=RandomForestRegressor(), n_jobs=1,\n",
       "             param_grid={'bootstrap': [True, False], 'criterion': ['mae'],\n",
       "                         'max_depth': [5, 10],\n",
       "                         'max_leaf_nodes': range(5, 15, 5),\n",
       "                         'min_samples_leaf': range(2, 10, 3),\n",
       "                         'min_samples_split': range(2, 10, 3),\n",
       "                         'n_estimators': [100]},\n",
       "             scoring='neg_mean_absolute_error', verbose=1)"
      ]
     },
     "execution_count": 159,
     "metadata": {},
     "output_type": "execute_result"
    }
   ],
   "source": [
    "rf_2 = RandomForestRegressor()\n",
    "grid_search_2 = GridSearchCV(estimator = rf_2, param_grid = param_grid, \n",
    "                          cv = 2, n_jobs = 1, verbose = 1,scoring='neg_mean_absolute_error')\n",
    "grid_search_2.fit(zestaw_caly, np.ravel(caly_label))"
   ]
  },
  {
   "cell_type": "code",
   "execution_count": 160,
   "metadata": {},
   "outputs": [
    {
     "data": {
      "text/plain": [
       "RandomForestRegressor(criterion='mae', max_depth=5, max_leaf_nodes=10,\n",
       "                      min_samples_leaf=5, min_samples_split=5)"
      ]
     },
     "execution_count": 160,
     "metadata": {},
     "output_type": "execute_result"
    }
   ],
   "source": [
    "grid_search_2.best_estimator_"
   ]
  },
  {
   "cell_type": "code",
   "execution_count": 161,
   "metadata": {},
   "outputs": [
    {
     "data": {
      "text/plain": [
       "-1.8534531024933267"
      ]
     },
     "execution_count": 161,
     "metadata": {},
     "output_type": "execute_result"
    }
   ],
   "source": [
    "grid_search_2.best_score_"
   ]
  },
  {
   "cell_type": "markdown",
   "metadata": {},
   "source": [
    "### 7.3.2 Hiperparametry Wszystkie part2"
   ]
  },
  {
   "cell_type": "code",
   "execution_count": 177,
   "metadata": {},
   "outputs": [],
   "source": [
    "param_grid2 = {\n",
    "    'criterion':['mae'],#\n",
    "    'min_samples_leaf': range(3,8,1), #5\n",
    "    'max_leaf_nodes':range(8,12,1), #10\n",
    "    'max_depth':list(range(3, 7,1)), #5\n",
    "    'n_estimators':[100] #\n",
    "}"
   ]
  },
  {
   "cell_type": "code",
   "execution_count": 178,
   "metadata": {
    "scrolled": true
   },
   "outputs": [
    {
     "name": "stdout",
     "output_type": "stream",
     "text": [
      "Fitting 2 folds for each of 80 candidates, totalling 160 fits\n",
      "[CV] END criterion=mae, max_depth=3, max_leaf_nodes=8, min_samples_leaf=3, n_estimators=100; total time=   3.2s\n",
      "[CV] END criterion=mae, max_depth=3, max_leaf_nodes=8, min_samples_leaf=3, n_estimators=100; total time=   3.2s\n",
      "[CV] END criterion=mae, max_depth=3, max_leaf_nodes=8, min_samples_leaf=4, n_estimators=100; total time=   3.2s\n",
      "[CV] END criterion=mae, max_depth=3, max_leaf_nodes=8, min_samples_leaf=4, n_estimators=100; total time=   3.1s\n",
      "[CV] END criterion=mae, max_depth=3, max_leaf_nodes=8, min_samples_leaf=5, n_estimators=100; total time=   3.1s\n",
      "[CV] END criterion=mae, max_depth=3, max_leaf_nodes=8, min_samples_leaf=5, n_estimators=100; total time=   3.1s\n",
      "[CV] END criterion=mae, max_depth=3, max_leaf_nodes=8, min_samples_leaf=6, n_estimators=100; total time=   3.1s\n",
      "[CV] END criterion=mae, max_depth=3, max_leaf_nodes=8, min_samples_leaf=6, n_estimators=100; total time=   3.1s\n",
      "[CV] END criterion=mae, max_depth=3, max_leaf_nodes=8, min_samples_leaf=7, n_estimators=100; total time=   3.1s\n",
      "[CV] END criterion=mae, max_depth=3, max_leaf_nodes=8, min_samples_leaf=7, n_estimators=100; total time=   3.0s\n",
      "[CV] END criterion=mae, max_depth=3, max_leaf_nodes=9, min_samples_leaf=3, n_estimators=100; total time=   3.2s\n",
      "[CV] END criterion=mae, max_depth=3, max_leaf_nodes=9, min_samples_leaf=3, n_estimators=100; total time=   3.2s\n",
      "[CV] END criterion=mae, max_depth=3, max_leaf_nodes=9, min_samples_leaf=4, n_estimators=100; total time=   3.2s\n",
      "[CV] END criterion=mae, max_depth=3, max_leaf_nodes=9, min_samples_leaf=4, n_estimators=100; total time=   3.2s\n",
      "[CV] END criterion=mae, max_depth=3, max_leaf_nodes=9, min_samples_leaf=5, n_estimators=100; total time=   3.1s\n",
      "[CV] END criterion=mae, max_depth=3, max_leaf_nodes=9, min_samples_leaf=5, n_estimators=100; total time=   3.1s\n",
      "[CV] END criterion=mae, max_depth=3, max_leaf_nodes=9, min_samples_leaf=6, n_estimators=100; total time=   3.1s\n",
      "[CV] END criterion=mae, max_depth=3, max_leaf_nodes=9, min_samples_leaf=6, n_estimators=100; total time=   3.1s\n",
      "[CV] END criterion=mae, max_depth=3, max_leaf_nodes=9, min_samples_leaf=7, n_estimators=100; total time=   3.0s\n",
      "[CV] END criterion=mae, max_depth=3, max_leaf_nodes=9, min_samples_leaf=7, n_estimators=100; total time=   3.1s\n",
      "[CV] END criterion=mae, max_depth=3, max_leaf_nodes=10, min_samples_leaf=3, n_estimators=100; total time=   3.2s\n",
      "[CV] END criterion=mae, max_depth=3, max_leaf_nodes=10, min_samples_leaf=3, n_estimators=100; total time=   3.2s\n",
      "[CV] END criterion=mae, max_depth=3, max_leaf_nodes=10, min_samples_leaf=4, n_estimators=100; total time=   3.2s\n",
      "[CV] END criterion=mae, max_depth=3, max_leaf_nodes=10, min_samples_leaf=4, n_estimators=100; total time=   3.1s\n",
      "[CV] END criterion=mae, max_depth=3, max_leaf_nodes=10, min_samples_leaf=5, n_estimators=100; total time=   3.1s\n",
      "[CV] END criterion=mae, max_depth=3, max_leaf_nodes=10, min_samples_leaf=5, n_estimators=100; total time=   3.1s\n",
      "[CV] END criterion=mae, max_depth=3, max_leaf_nodes=10, min_samples_leaf=6, n_estimators=100; total time=   3.1s\n",
      "[CV] END criterion=mae, max_depth=3, max_leaf_nodes=10, min_samples_leaf=6, n_estimators=100; total time=   3.1s\n",
      "[CV] END criterion=mae, max_depth=3, max_leaf_nodes=10, min_samples_leaf=7, n_estimators=100; total time=   3.0s\n",
      "[CV] END criterion=mae, max_depth=3, max_leaf_nodes=10, min_samples_leaf=7, n_estimators=100; total time=   3.0s\n",
      "[CV] END criterion=mae, max_depth=3, max_leaf_nodes=11, min_samples_leaf=3, n_estimators=100; total time=   3.2s\n",
      "[CV] END criterion=mae, max_depth=3, max_leaf_nodes=11, min_samples_leaf=3, n_estimators=100; total time=   3.3s\n",
      "[CV] END criterion=mae, max_depth=3, max_leaf_nodes=11, min_samples_leaf=4, n_estimators=100; total time=   3.2s\n",
      "[CV] END criterion=mae, max_depth=3, max_leaf_nodes=11, min_samples_leaf=4, n_estimators=100; total time=   3.2s\n",
      "[CV] END criterion=mae, max_depth=3, max_leaf_nodes=11, min_samples_leaf=5, n_estimators=100; total time=   3.1s\n",
      "[CV] END criterion=mae, max_depth=3, max_leaf_nodes=11, min_samples_leaf=5, n_estimators=100; total time=   3.1s\n",
      "[CV] END criterion=mae, max_depth=3, max_leaf_nodes=11, min_samples_leaf=6, n_estimators=100; total time=   3.1s\n",
      "[CV] END criterion=mae, max_depth=3, max_leaf_nodes=11, min_samples_leaf=6, n_estimators=100; total time=   3.1s\n",
      "[CV] END criterion=mae, max_depth=3, max_leaf_nodes=11, min_samples_leaf=7, n_estimators=100; total time=   3.1s\n",
      "[CV] END criterion=mae, max_depth=3, max_leaf_nodes=11, min_samples_leaf=7, n_estimators=100; total time=   3.0s\n",
      "[CV] END criterion=mae, max_depth=4, max_leaf_nodes=8, min_samples_leaf=3, n_estimators=100; total time=   3.7s\n",
      "[CV] END criterion=mae, max_depth=4, max_leaf_nodes=8, min_samples_leaf=3, n_estimators=100; total time=   3.7s\n",
      "[CV] END criterion=mae, max_depth=4, max_leaf_nodes=8, min_samples_leaf=4, n_estimators=100; total time=   3.7s\n",
      "[CV] END criterion=mae, max_depth=4, max_leaf_nodes=8, min_samples_leaf=4, n_estimators=100; total time=   3.7s\n",
      "[CV] END criterion=mae, max_depth=4, max_leaf_nodes=8, min_samples_leaf=5, n_estimators=100; total time=   3.6s\n",
      "[CV] END criterion=mae, max_depth=4, max_leaf_nodes=8, min_samples_leaf=5, n_estimators=100; total time=   3.6s\n",
      "[CV] END criterion=mae, max_depth=4, max_leaf_nodes=8, min_samples_leaf=6, n_estimators=100; total time=   3.5s\n",
      "[CV] END criterion=mae, max_depth=4, max_leaf_nodes=8, min_samples_leaf=6, n_estimators=100; total time=   3.5s\n",
      "[CV] END criterion=mae, max_depth=4, max_leaf_nodes=8, min_samples_leaf=7, n_estimators=100; total time=   3.5s\n",
      "[CV] END criterion=mae, max_depth=4, max_leaf_nodes=8, min_samples_leaf=7, n_estimators=100; total time=   3.5s\n",
      "[CV] END criterion=mae, max_depth=4, max_leaf_nodes=9, min_samples_leaf=3, n_estimators=100; total time=   3.7s\n",
      "[CV] END criterion=mae, max_depth=4, max_leaf_nodes=9, min_samples_leaf=3, n_estimators=100; total time=   3.7s\n",
      "[CV] END criterion=mae, max_depth=4, max_leaf_nodes=9, min_samples_leaf=4, n_estimators=100; total time=   3.7s\n",
      "[CV] END criterion=mae, max_depth=4, max_leaf_nodes=9, min_samples_leaf=4, n_estimators=100; total time=   3.7s\n",
      "[CV] END criterion=mae, max_depth=4, max_leaf_nodes=9, min_samples_leaf=5, n_estimators=100; total time=   3.6s\n",
      "[CV] END criterion=mae, max_depth=4, max_leaf_nodes=9, min_samples_leaf=5, n_estimators=100; total time=   3.6s\n",
      "[CV] END criterion=mae, max_depth=4, max_leaf_nodes=9, min_samples_leaf=6, n_estimators=100; total time=   3.5s\n",
      "[CV] END criterion=mae, max_depth=4, max_leaf_nodes=9, min_samples_leaf=6, n_estimators=100; total time=   3.5s\n",
      "[CV] END criterion=mae, max_depth=4, max_leaf_nodes=9, min_samples_leaf=7, n_estimators=100; total time=   3.5s\n",
      "[CV] END criterion=mae, max_depth=4, max_leaf_nodes=9, min_samples_leaf=7, n_estimators=100; total time=   3.5s\n",
      "[CV] END criterion=mae, max_depth=4, max_leaf_nodes=10, min_samples_leaf=3, n_estimators=100; total time=   3.7s\n",
      "[CV] END criterion=mae, max_depth=4, max_leaf_nodes=10, min_samples_leaf=3, n_estimators=100; total time=   3.8s\n",
      "[CV] END criterion=mae, max_depth=4, max_leaf_nodes=10, min_samples_leaf=4, n_estimators=100; total time=   3.7s\n",
      "[CV] END criterion=mae, max_depth=4, max_leaf_nodes=10, min_samples_leaf=4, n_estimators=100; total time=   3.7s\n",
      "[CV] END criterion=mae, max_depth=4, max_leaf_nodes=10, min_samples_leaf=5, n_estimators=100; total time=   3.6s\n",
      "[CV] END criterion=mae, max_depth=4, max_leaf_nodes=10, min_samples_leaf=5, n_estimators=100; total time=   3.6s\n",
      "[CV] END criterion=mae, max_depth=4, max_leaf_nodes=10, min_samples_leaf=6, n_estimators=100; total time=   3.5s\n",
      "[CV] END criterion=mae, max_depth=4, max_leaf_nodes=10, min_samples_leaf=6, n_estimators=100; total time=   3.6s\n",
      "[CV] END criterion=mae, max_depth=4, max_leaf_nodes=10, min_samples_leaf=7, n_estimators=100; total time=   3.5s\n",
      "[CV] END criterion=mae, max_depth=4, max_leaf_nodes=10, min_samples_leaf=7, n_estimators=100; total time=   3.5s\n",
      "[CV] END criterion=mae, max_depth=4, max_leaf_nodes=11, min_samples_leaf=3, n_estimators=100; total time=   3.8s\n",
      "[CV] END criterion=mae, max_depth=4, max_leaf_nodes=11, min_samples_leaf=3, n_estimators=100; total time=   3.8s\n",
      "[CV] END criterion=mae, max_depth=4, max_leaf_nodes=11, min_samples_leaf=4, n_estimators=100; total time=   3.7s\n"
     ]
    },
    {
     "name": "stdout",
     "output_type": "stream",
     "text": [
      "[CV] END criterion=mae, max_depth=4, max_leaf_nodes=11, min_samples_leaf=4, n_estimators=100; total time=   3.7s\n",
      "[CV] END criterion=mae, max_depth=4, max_leaf_nodes=11, min_samples_leaf=5, n_estimators=100; total time=   3.6s\n",
      "[CV] END criterion=mae, max_depth=4, max_leaf_nodes=11, min_samples_leaf=5, n_estimators=100; total time=   3.6s\n",
      "[CV] END criterion=mae, max_depth=4, max_leaf_nodes=11, min_samples_leaf=6, n_estimators=100; total time=   3.5s\n",
      "[CV] END criterion=mae, max_depth=4, max_leaf_nodes=11, min_samples_leaf=6, n_estimators=100; total time=   3.6s\n",
      "[CV] END criterion=mae, max_depth=4, max_leaf_nodes=11, min_samples_leaf=7, n_estimators=100; total time=   3.5s\n",
      "[CV] END criterion=mae, max_depth=4, max_leaf_nodes=11, min_samples_leaf=7, n_estimators=100; total time=   3.5s\n",
      "[CV] END criterion=mae, max_depth=5, max_leaf_nodes=8, min_samples_leaf=3, n_estimators=100; total time=   3.8s\n",
      "[CV] END criterion=mae, max_depth=5, max_leaf_nodes=8, min_samples_leaf=3, n_estimators=100; total time=   3.8s\n",
      "[CV] END criterion=mae, max_depth=5, max_leaf_nodes=8, min_samples_leaf=4, n_estimators=100; total time=   3.7s\n",
      "[CV] END criterion=mae, max_depth=5, max_leaf_nodes=8, min_samples_leaf=4, n_estimators=100; total time=   3.7s\n",
      "[CV] END criterion=mae, max_depth=5, max_leaf_nodes=8, min_samples_leaf=5, n_estimators=100; total time=   3.7s\n",
      "[CV] END criterion=mae, max_depth=5, max_leaf_nodes=8, min_samples_leaf=5, n_estimators=100; total time=   3.7s\n",
      "[CV] END criterion=mae, max_depth=5, max_leaf_nodes=8, min_samples_leaf=6, n_estimators=100; total time=   3.6s\n",
      "[CV] END criterion=mae, max_depth=5, max_leaf_nodes=8, min_samples_leaf=6, n_estimators=100; total time=   3.6s\n",
      "[CV] END criterion=mae, max_depth=5, max_leaf_nodes=8, min_samples_leaf=7, n_estimators=100; total time=   3.6s\n",
      "[CV] END criterion=mae, max_depth=5, max_leaf_nodes=8, min_samples_leaf=7, n_estimators=100; total time=   3.6s\n",
      "[CV] END criterion=mae, max_depth=5, max_leaf_nodes=9, min_samples_leaf=3, n_estimators=100; total time=   3.9s\n",
      "[CV] END criterion=mae, max_depth=5, max_leaf_nodes=9, min_samples_leaf=3, n_estimators=100; total time=   3.9s\n",
      "[CV] END criterion=mae, max_depth=5, max_leaf_nodes=9, min_samples_leaf=4, n_estimators=100; total time=   3.8s\n",
      "[CV] END criterion=mae, max_depth=5, max_leaf_nodes=9, min_samples_leaf=4, n_estimators=100; total time=   3.8s\n",
      "[CV] END criterion=mae, max_depth=5, max_leaf_nodes=9, min_samples_leaf=5, n_estimators=100; total time=   3.8s\n",
      "[CV] END criterion=mae, max_depth=5, max_leaf_nodes=9, min_samples_leaf=5, n_estimators=100; total time=   3.8s\n",
      "[CV] END criterion=mae, max_depth=5, max_leaf_nodes=9, min_samples_leaf=6, n_estimators=100; total time=   3.7s\n",
      "[CV] END criterion=mae, max_depth=5, max_leaf_nodes=9, min_samples_leaf=6, n_estimators=100; total time=   3.7s\n",
      "[CV] END criterion=mae, max_depth=5, max_leaf_nodes=9, min_samples_leaf=7, n_estimators=100; total time=   3.7s\n",
      "[CV] END criterion=mae, max_depth=5, max_leaf_nodes=9, min_samples_leaf=7, n_estimators=100; total time=   3.7s\n",
      "[CV] END criterion=mae, max_depth=5, max_leaf_nodes=10, min_samples_leaf=3, n_estimators=100; total time=   4.0s\n",
      "[CV] END criterion=mae, max_depth=5, max_leaf_nodes=10, min_samples_leaf=3, n_estimators=100; total time=   4.0s\n",
      "[CV] END criterion=mae, max_depth=5, max_leaf_nodes=10, min_samples_leaf=4, n_estimators=100; total time=   3.9s\n",
      "[CV] END criterion=mae, max_depth=5, max_leaf_nodes=10, min_samples_leaf=4, n_estimators=100; total time=   3.9s\n",
      "[CV] END criterion=mae, max_depth=5, max_leaf_nodes=10, min_samples_leaf=5, n_estimators=100; total time=   3.8s\n",
      "[CV] END criterion=mae, max_depth=5, max_leaf_nodes=10, min_samples_leaf=5, n_estimators=100; total time=   3.8s\n",
      "[CV] END criterion=mae, max_depth=5, max_leaf_nodes=10, min_samples_leaf=6, n_estimators=100; total time=   3.8s\n",
      "[CV] END criterion=mae, max_depth=5, max_leaf_nodes=10, min_samples_leaf=6, n_estimators=100; total time=   3.8s\n",
      "[CV] END criterion=mae, max_depth=5, max_leaf_nodes=10, min_samples_leaf=7, n_estimators=100; total time=   3.7s\n",
      "[CV] END criterion=mae, max_depth=5, max_leaf_nodes=10, min_samples_leaf=7, n_estimators=100; total time=   3.7s\n",
      "[CV] END criterion=mae, max_depth=5, max_leaf_nodes=11, min_samples_leaf=3, n_estimators=100; total time=   4.0s\n",
      "[CV] END criterion=mae, max_depth=5, max_leaf_nodes=11, min_samples_leaf=3, n_estimators=100; total time=   4.0s\n",
      "[CV] END criterion=mae, max_depth=5, max_leaf_nodes=11, min_samples_leaf=4, n_estimators=100; total time=   3.9s\n",
      "[CV] END criterion=mae, max_depth=5, max_leaf_nodes=11, min_samples_leaf=4, n_estimators=100; total time=   4.0s\n",
      "[CV] END criterion=mae, max_depth=5, max_leaf_nodes=11, min_samples_leaf=5, n_estimators=100; total time=   3.8s\n",
      "[CV] END criterion=mae, max_depth=5, max_leaf_nodes=11, min_samples_leaf=5, n_estimators=100; total time=   3.9s\n",
      "[CV] END criterion=mae, max_depth=5, max_leaf_nodes=11, min_samples_leaf=6, n_estimators=100; total time=   3.8s\n",
      "[CV] END criterion=mae, max_depth=5, max_leaf_nodes=11, min_samples_leaf=6, n_estimators=100; total time=   3.8s\n",
      "[CV] END criterion=mae, max_depth=5, max_leaf_nodes=11, min_samples_leaf=7, n_estimators=100; total time=   3.7s\n",
      "[CV] END criterion=mae, max_depth=5, max_leaf_nodes=11, min_samples_leaf=7, n_estimators=100; total time=   3.8s\n",
      "[CV] END criterion=mae, max_depth=6, max_leaf_nodes=8, min_samples_leaf=3, n_estimators=100; total time=   3.8s\n",
      "[CV] END criterion=mae, max_depth=6, max_leaf_nodes=8, min_samples_leaf=3, n_estimators=100; total time=   3.8s\n",
      "[CV] END criterion=mae, max_depth=6, max_leaf_nodes=8, min_samples_leaf=4, n_estimators=100; total time=   3.8s\n",
      "[CV] END criterion=mae, max_depth=6, max_leaf_nodes=8, min_samples_leaf=4, n_estimators=100; total time=   3.7s\n",
      "[CV] END criterion=mae, max_depth=6, max_leaf_nodes=8, min_samples_leaf=5, n_estimators=100; total time=   3.7s\n",
      "[CV] END criterion=mae, max_depth=6, max_leaf_nodes=8, min_samples_leaf=5, n_estimators=100; total time=   3.7s\n",
      "[CV] END criterion=mae, max_depth=6, max_leaf_nodes=8, min_samples_leaf=6, n_estimators=100; total time=   3.6s\n",
      "[CV] END criterion=mae, max_depth=6, max_leaf_nodes=8, min_samples_leaf=6, n_estimators=100; total time=   3.7s\n",
      "[CV] END criterion=mae, max_depth=6, max_leaf_nodes=8, min_samples_leaf=7, n_estimators=100; total time=   3.6s\n",
      "[CV] END criterion=mae, max_depth=6, max_leaf_nodes=8, min_samples_leaf=7, n_estimators=100; total time=   3.6s\n",
      "[CV] END criterion=mae, max_depth=6, max_leaf_nodes=9, min_samples_leaf=3, n_estimators=100; total time=   3.9s\n",
      "[CV] END criterion=mae, max_depth=6, max_leaf_nodes=9, min_samples_leaf=3, n_estimators=100; total time=   3.9s\n",
      "[CV] END criterion=mae, max_depth=6, max_leaf_nodes=9, min_samples_leaf=4, n_estimators=100; total time=   3.8s\n",
      "[CV] END criterion=mae, max_depth=6, max_leaf_nodes=9, min_samples_leaf=4, n_estimators=100; total time=   3.8s\n",
      "[CV] END criterion=mae, max_depth=6, max_leaf_nodes=9, min_samples_leaf=5, n_estimators=100; total time=   3.8s\n",
      "[CV] END criterion=mae, max_depth=6, max_leaf_nodes=9, min_samples_leaf=5, n_estimators=100; total time=   3.8s\n",
      "[CV] END criterion=mae, max_depth=6, max_leaf_nodes=9, min_samples_leaf=6, n_estimators=100; total time=   3.7s\n",
      "[CV] END criterion=mae, max_depth=6, max_leaf_nodes=9, min_samples_leaf=6, n_estimators=100; total time=   3.7s\n",
      "[CV] END criterion=mae, max_depth=6, max_leaf_nodes=9, min_samples_leaf=7, n_estimators=100; total time=   3.6s\n",
      "[CV] END criterion=mae, max_depth=6, max_leaf_nodes=9, min_samples_leaf=7, n_estimators=100; total time=   3.7s\n",
      "[CV] END criterion=mae, max_depth=6, max_leaf_nodes=10, min_samples_leaf=3, n_estimators=100; total time=   4.0s\n",
      "[CV] END criterion=mae, max_depth=6, max_leaf_nodes=10, min_samples_leaf=3, n_estimators=100; total time=   4.1s\n",
      "[CV] END criterion=mae, max_depth=6, max_leaf_nodes=10, min_samples_leaf=4, n_estimators=100; total time=   3.9s\n",
      "[CV] END criterion=mae, max_depth=6, max_leaf_nodes=10, min_samples_leaf=4, n_estimators=100; total time=   3.9s\n",
      "[CV] END criterion=mae, max_depth=6, max_leaf_nodes=10, min_samples_leaf=5, n_estimators=100; total time=   3.8s\n",
      "[CV] END criterion=mae, max_depth=6, max_leaf_nodes=10, min_samples_leaf=5, n_estimators=100; total time=   3.8s\n"
     ]
    },
    {
     "name": "stdout",
     "output_type": "stream",
     "text": [
      "[CV] END criterion=mae, max_depth=6, max_leaf_nodes=10, min_samples_leaf=6, n_estimators=100; total time=   3.7s\n",
      "[CV] END criterion=mae, max_depth=6, max_leaf_nodes=10, min_samples_leaf=6, n_estimators=100; total time=   3.8s\n",
      "[CV] END criterion=mae, max_depth=6, max_leaf_nodes=10, min_samples_leaf=7, n_estimators=100; total time=   3.7s\n",
      "[CV] END criterion=mae, max_depth=6, max_leaf_nodes=10, min_samples_leaf=7, n_estimators=100; total time=   3.7s\n",
      "[CV] END criterion=mae, max_depth=6, max_leaf_nodes=11, min_samples_leaf=3, n_estimators=100; total time=   4.1s\n",
      "[CV] END criterion=mae, max_depth=6, max_leaf_nodes=11, min_samples_leaf=3, n_estimators=100; total time=   4.1s\n",
      "[CV] END criterion=mae, max_depth=6, max_leaf_nodes=11, min_samples_leaf=4, n_estimators=100; total time=   4.0s\n",
      "[CV] END criterion=mae, max_depth=6, max_leaf_nodes=11, min_samples_leaf=4, n_estimators=100; total time=   4.0s\n",
      "[CV] END criterion=mae, max_depth=6, max_leaf_nodes=11, min_samples_leaf=5, n_estimators=100; total time=   3.9s\n",
      "[CV] END criterion=mae, max_depth=6, max_leaf_nodes=11, min_samples_leaf=5, n_estimators=100; total time=   3.9s\n",
      "[CV] END criterion=mae, max_depth=6, max_leaf_nodes=11, min_samples_leaf=6, n_estimators=100; total time=   3.8s\n",
      "[CV] END criterion=mae, max_depth=6, max_leaf_nodes=11, min_samples_leaf=6, n_estimators=100; total time=   3.9s\n",
      "[CV] END criterion=mae, max_depth=6, max_leaf_nodes=11, min_samples_leaf=7, n_estimators=100; total time=   3.7s\n",
      "[CV] END criterion=mae, max_depth=6, max_leaf_nodes=11, min_samples_leaf=7, n_estimators=100; total time=   3.8s\n"
     ]
    },
    {
     "data": {
      "text/plain": [
       "GridSearchCV(cv=2, estimator=RandomForestRegressor(), n_jobs=1,\n",
       "             param_grid={'criterion': ['mae'], 'max_depth': [3, 4, 5, 6],\n",
       "                         'max_leaf_nodes': range(8, 12),\n",
       "                         'min_samples_leaf': range(3, 8),\n",
       "                         'n_estimators': [100]},\n",
       "             scoring='neg_mean_absolute_error', verbose=2)"
      ]
     },
     "execution_count": 178,
     "metadata": {},
     "output_type": "execute_result"
    }
   ],
   "source": [
    "rf_2 = RandomForestRegressor()\n",
    "grid_search_2 = GridSearchCV(estimator = rf_2, param_grid = param_grid2, \n",
    "                          cv = 2, n_jobs = 1, verbose = 2,scoring='neg_mean_absolute_error')\n",
    "grid_search_2.fit(zestaw_caly, np.ravel(caly_label))"
   ]
  },
  {
   "cell_type": "code",
   "execution_count": 179,
   "metadata": {},
   "outputs": [
    {
     "data": {
      "text/plain": [
       "RandomForestRegressor(criterion='mae', max_depth=5, max_leaf_nodes=11,\n",
       "                      min_samples_leaf=5)"
      ]
     },
     "execution_count": 179,
     "metadata": {},
     "output_type": "execute_result"
    }
   ],
   "source": [
    "grid_search_2.best_estimator_"
   ]
  },
  {
   "cell_type": "code",
   "execution_count": 180,
   "metadata": {},
   "outputs": [
    {
     "data": {
      "text/plain": [
       "-1.8171394068307647"
      ]
     },
     "execution_count": 180,
     "metadata": {},
     "output_type": "execute_result"
    }
   ],
   "source": [
    "grid_search_2.best_score_"
   ]
  },
  {
   "cell_type": "markdown",
   "metadata": {},
   "source": [
    "## 7.4 Cross valiadacja losowych lasów drzew decyzyjnych"
   ]
  },
  {
   "cell_type": "markdown",
   "metadata": {},
   "source": [
    "### 7.4.1 Cross valiadacja losowych lasy drzew decyzyjnych Wszystkie"
   ]
  },
  {
   "cell_type": "code",
   "execution_count": 181,
   "metadata": {},
   "outputs": [],
   "source": [
    "kfold = KFold(n_splits=5, shuffle=False)\n",
    "dane_do_zapisu_1=pd.DataFrame()\n",
    "licznik=1\n",
    "wart_1=[]\n",
    "\n",
    "for train, test in kfold.split(zestaw_caly, caly_label):\n",
    "    RF_1 = RandomForestRegressor(criterion='mae', max_depth=5, max_leaf_nodes=11,\n",
    "                      min_samples_leaf=5)\n",
    "    RF_1.fit(zestaw_caly[train], caly_label[train])\n",
    "    predykcje=RF_1.predict(zestaw_caly[test])\n",
    "    dane_folda_1=pd.DataFrame({\"pred\": predykcje.ravel(),\n",
    "                                \"obs\": caly_label[test],\n",
    "                                \"Fold\":licznik})\n",
    "    dane_do_zapisu_1=pd.concat([dane_do_zapisu_1,dane_folda_1])\n",
    "    sredni_blad=mean_absolute_error(caly_label[test],predykcje)\n",
    "    wart_1.append(sredni_blad)\n",
    "    licznik+=1"
   ]
  },
  {
   "cell_type": "code",
   "execution_count": 182,
   "metadata": {},
   "outputs": [
    {
     "data": {
      "text/plain": [
       "[2.05464,\n",
       " 1.8158666666666667,\n",
       " 1.8299599999999998,\n",
       " 1.8073066666666666,\n",
       " 1.7383733333333333]"
      ]
     },
     "execution_count": 182,
     "metadata": {},
     "output_type": "execute_result"
    }
   ],
   "source": [
    "wart_1"
   ]
  },
  {
   "cell_type": "code",
   "execution_count": 183,
   "metadata": {},
   "outputs": [
    {
     "data": {
      "text/plain": [
       "1.8492293333333332"
      ]
     },
     "execution_count": 183,
     "metadata": {},
     "output_type": "execute_result"
    }
   ],
   "source": [
    "sum(wart_1)/len(wart_1)"
   ]
  },
  {
   "cell_type": "markdown",
   "metadata": {},
   "source": [
    "### 7.4.2 Cross valiadacja losowych lasów drzew decyzyjnych  Zestaw 6"
   ]
  },
  {
   "cell_type": "code",
   "execution_count": 185,
   "metadata": {},
   "outputs": [],
   "source": [
    "kfold = KFold(n_splits=5, shuffle=False)\n",
    "dane_do_zapisu_1=pd.DataFrame()\n",
    "licznik=1\n",
    "wart_1=[]\n",
    "\n",
    "for train, test in kfold.split(zestaw_6, caly_label):\n",
    "    RF_2 = RandomForestRegressor(criterion='mae', max_depth=4, max_leaf_nodes=11,\n",
    "                      min_samples_leaf=6, min_samples_split=4)\n",
    "    \n",
    "    RF_2.fit(zestaw_6[train], caly_label[train])\n",
    "    predykcje=RF_2.predict(zestaw_6[test])\n",
    "    dane_folda_1=pd.DataFrame({\"pred\": predykcje.ravel(),\n",
    "                                \"obs\": caly_label[test],\n",
    "                                \"Fold\":licznik})\n",
    "    dane_do_zapisu_1=pd.concat([dane_do_zapisu_1,dane_folda_1])\n",
    "    sredni_blad=mean_absolute_error(caly_label[test],predykcje)\n",
    "    wart_1.append(sredni_blad)\n",
    "    licznik+=1"
   ]
  },
  {
   "cell_type": "code",
   "execution_count": 186,
   "metadata": {},
   "outputs": [
    {
     "data": {
      "text/plain": [
       "[2.019466666666667,\n",
       " 1.7910400000000002,\n",
       " 1.8615199999999998,\n",
       " 1.8074533333333336,\n",
       " 1.7231733333333332]"
      ]
     },
     "execution_count": 186,
     "metadata": {},
     "output_type": "execute_result"
    }
   ],
   "source": [
    "wart_1"
   ]
  },
  {
   "cell_type": "code",
   "execution_count": 187,
   "metadata": {},
   "outputs": [
    {
     "data": {
      "text/plain": [
       "1.8405306666666668"
      ]
     },
     "execution_count": 187,
     "metadata": {},
     "output_type": "execute_result"
    }
   ],
   "source": [
    "sum(wart_1)/len(wart_1)"
   ]
  },
  {
   "cell_type": "markdown",
   "metadata": {},
   "source": [
    "## 7.5 Zapisuje predykcje losowych lasów drzew decyzyjnych Wszystkie"
   ]
  },
  {
   "cell_type": "code",
   "execution_count": 188,
   "metadata": {},
   "outputs": [],
   "source": [
    "#dane_do_zapisu_1.to_csv(\"D:/STUDIA/ROK_II/Projekt/Predykcje_i błędy/Okres Między Ciążowy/OMC_Lasowy_las_Drzew_Decyzyjnych_FS.csv\")"
   ]
  },
  {
   "cell_type": "code",
   "execution_count": null,
   "metadata": {},
   "outputs": [],
   "source": []
  }
 ],
 "metadata": {
  "colab": {
   "collapsed_sections": [],
   "name": "continues_variable_modelling_basic_regression.ipynb",
   "provenance": []
  },
  "kernelspec": {
   "display_name": "Python 3",
   "language": "python",
   "name": "python3"
  },
  "language_info": {
   "codemirror_mode": {
    "name": "ipython",
    "version": 3
   },
   "file_extension": ".py",
   "mimetype": "text/x-python",
   "name": "python",
   "nbconvert_exporter": "python",
   "pygments_lexer": "ipython3",
   "version": "3.7.10"
  }
 },
 "nbformat": 4,
 "nbformat_minor": 1
}
