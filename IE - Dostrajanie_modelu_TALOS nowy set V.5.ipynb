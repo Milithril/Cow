{
 "cells": [
  {
   "cell_type": "markdown",
   "id": "hairy-iraqi",
   "metadata": {},
   "source": [
    "## 1. Biblioteki"
   ]
  },
  {
   "cell_type": "code",
   "execution_count": 1,
   "id": "compressed-russell",
   "metadata": {},
   "outputs": [
    {
     "name": "stderr",
     "output_type": "stream",
     "text": [
      "Using TensorFlow backend.\n"
     ]
    }
   ],
   "source": [
    "import pandas as pd\n",
    "import numpy as np\n",
    "import csv\n",
    "import matplotlib.pyplot as plt\n",
    "%matplotlib inline\n",
    "import os\n",
    "import talos as ta\n",
    "from talos.model.early_stopper import early_stopper\n",
    "\n",
    "from sklearn.preprocessing import StandardScaler\n",
    "\n",
    "from sklearn.metrics import mean_absolute_error\n",
    "%load_ext tensorboard\n",
    "\n",
    "\n",
    "from tensorflow.keras import optimizers\n",
    "from tensorflow.keras.models import Sequential\n",
    "from tensorflow.keras.layers import Activation, Dense, Dropout\n",
    "from tensorflow.keras.layers import BatchNormalization\n",
    "from tensorflow.keras.callbacks import TensorBoard\n",
    "from sklearn.ensemble import RandomForestRegressor\n",
    "from sklearn.preprocessing import MinMaxScaler\n",
    "\n",
    "import seaborn as sns\n",
    "\n",
    "from sklearn.model_selection import train_test_split\n"
   ]
  },
  {
   "cell_type": "markdown",
   "id": "presidential-upset",
   "metadata": {},
   "source": [
    "\n",
    "## 2. Dane"
   ]
  },
  {
   "cell_type": "code",
   "execution_count": 15,
   "id": "humanitarian-desperate",
   "metadata": {
    "scrolled": true
   },
   "outputs": [
    {
     "data": {
      "text/plain": [
       "(1881, 27)"
      ]
     },
     "execution_count": 15,
     "metadata": {},
     "output_type": "execute_result"
    }
   ],
   "source": [
    "train_df=pd.read_csv('D:/STUDIA/ROK_II/Projekt/Dane_jalowka_i_krowa_train.csv')\n",
    "test_df=pd.read_csv('D:/STUDIA/ROK_II/Projekt/Dane_jalowka_i_krowa_test.csv')\n",
    "val_df=pd.read_csv('D:/STUDIA/ROK_II/Projekt/Dane_jalowka_i_krowa_val.csv')\n",
    "\n",
    "train_df.columns = ['id','Województwo', 'Data urodzenia', 'IE', 'Dokł. IE', 'PF', 'PI-PROD', 'PI-POKR', 'Prc', 'Psm', 'Pnr', 'Pw','PI-PLOD', 'CRj', 'CRk', 'PP', 'OMC', 'WH-KSOM', 'WH-DLUG', 'IP', 'kg ml', 'kg tł', '% tł', 'kg bi', '% bi', 'rc', 'sm', 'nr', 'w', 'og','kategoria']\n",
    "test_df.columns = ['id','Województwo', 'Data urodzenia', 'IE', 'Dokł. IE', 'PF', 'PI-PROD', 'PI-POKR', 'Prc', 'Psm', 'Pnr', 'Pw','PI-PLOD', 'CRj', 'CRk', 'PP', 'OMC', 'WH-KSOM', 'WH-DLUG', 'IP', 'kg ml', 'kg tł', '% tł', 'kg bi', '% bi', 'rc', 'sm', 'nr', 'w', 'og','kategoria']\n",
    "val_df.columns = ['id','Województwo', 'Data urodzenia', 'IE', 'Dokł. IE', 'PF', 'PI-PROD', 'PI-POKR', 'Prc', 'Psm', 'Pnr', 'Pw','PI-PLOD', 'CRj', 'CRk', 'PP', 'OMC', 'WH-KSOM', 'WH-DLUG', 'IP', 'kg ml', 'kg tł', '% tł', 'kg bi', '% bi', 'rc', 'sm', 'nr', 'w', 'og','kategoria']\n",
    "\n",
    "caly_df = pd.concat([train_df, test_df, val_df])\n",
    "caly_df['Województwo']=caly_df['Województwo'].astype('category')\n",
    "caly_df['Data urodzenia']=caly_df['Data urodzenia'].astype('category')\n",
    "\n",
    "del caly_df[\"id\"]\n",
    "del caly_df[\"PF\"]\n",
    "del caly_df[\"Dokł. IE\"]\n",
    "del caly_df['kategoria']\n",
    "\n",
    "caly_df.shape"
   ]
  },
  {
   "cell_type": "code",
   "execution_count": 17,
   "id": "38a6a16b",
   "metadata": {},
   "outputs": [
    {
     "data": {
      "text/html": [
       "<div>\n",
       "<style scoped>\n",
       "    .dataframe tbody tr th:only-of-type {\n",
       "        vertical-align: middle;\n",
       "    }\n",
       "\n",
       "    .dataframe tbody tr th {\n",
       "        vertical-align: top;\n",
       "    }\n",
       "\n",
       "    .dataframe thead th {\n",
       "        text-align: right;\n",
       "    }\n",
       "</style>\n",
       "<table border=\"1\" class=\"dataframe\">\n",
       "  <thead>\n",
       "    <tr style=\"text-align: right;\">\n",
       "      <th></th>\n",
       "      <th>Województwo</th>\n",
       "      <th>Data urodzenia</th>\n",
       "      <th>IE</th>\n",
       "      <th>PI-PROD</th>\n",
       "      <th>PI-POKR</th>\n",
       "      <th>Prc</th>\n",
       "      <th>Psm</th>\n",
       "      <th>Pnr</th>\n",
       "      <th>Pw</th>\n",
       "      <th>PI-PLOD</th>\n",
       "      <th>...</th>\n",
       "      <th>kg ml</th>\n",
       "      <th>kg tł</th>\n",
       "      <th>% tł</th>\n",
       "      <th>kg bi</th>\n",
       "      <th>% bi</th>\n",
       "      <th>rc</th>\n",
       "      <th>sm</th>\n",
       "      <th>nr</th>\n",
       "      <th>w</th>\n",
       "      <th>og</th>\n",
       "    </tr>\n",
       "  </thead>\n",
       "  <tbody>\n",
       "    <tr>\n",
       "      <th>0</th>\n",
       "      <td>WIELKOPOLSKIE</td>\n",
       "      <td>2020</td>\n",
       "      <td>2120</td>\n",
       "      <td>137</td>\n",
       "      <td>127</td>\n",
       "      <td>121</td>\n",
       "      <td>113</td>\n",
       "      <td>106</td>\n",
       "      <td>128</td>\n",
       "      <td>109</td>\n",
       "      <td>...</td>\n",
       "      <td>1370</td>\n",
       "      <td>577</td>\n",
       "      <td>2</td>\n",
       "      <td>452</td>\n",
       "      <td>1</td>\n",
       "      <td>115.0</td>\n",
       "      <td>114.0</td>\n",
       "      <td>109.0</td>\n",
       "      <td>127.0</td>\n",
       "      <td>123.0</td>\n",
       "    </tr>\n",
       "    <tr>\n",
       "      <th>1</th>\n",
       "      <td>KUJAWSKO-POMORSKIE</td>\n",
       "      <td>2018</td>\n",
       "      <td>1912</td>\n",
       "      <td>126</td>\n",
       "      <td>123</td>\n",
       "      <td>109</td>\n",
       "      <td>113</td>\n",
       "      <td>103</td>\n",
       "      <td>128</td>\n",
       "      <td>114</td>\n",
       "      <td>...</td>\n",
       "      <td>1209</td>\n",
       "      <td>358</td>\n",
       "      <td>-16</td>\n",
       "      <td>354</td>\n",
       "      <td>-4</td>\n",
       "      <td>115.0</td>\n",
       "      <td>113.0</td>\n",
       "      <td>104.0</td>\n",
       "      <td>123.0</td>\n",
       "      <td>123.0</td>\n",
       "    </tr>\n",
       "    <tr>\n",
       "      <th>2</th>\n",
       "      <td>POMORSKIE</td>\n",
       "      <td>2020</td>\n",
       "      <td>2126</td>\n",
       "      <td>126</td>\n",
       "      <td>120</td>\n",
       "      <td>110</td>\n",
       "      <td>107</td>\n",
       "      <td>102</td>\n",
       "      <td>124</td>\n",
       "      <td>113</td>\n",
       "      <td>...</td>\n",
       "      <td>982</td>\n",
       "      <td>368</td>\n",
       "      <td>-4</td>\n",
       "      <td>350</td>\n",
       "      <td>4</td>\n",
       "      <td>104.0</td>\n",
       "      <td>103.0</td>\n",
       "      <td>102.0</td>\n",
       "      <td>122.0</td>\n",
       "      <td>117.0</td>\n",
       "    </tr>\n",
       "    <tr>\n",
       "      <th>3</th>\n",
       "      <td>KUJAWSKO-POMORSKIE</td>\n",
       "      <td>2020</td>\n",
       "      <td>2089</td>\n",
       "      <td>133</td>\n",
       "      <td>111</td>\n",
       "      <td>104</td>\n",
       "      <td>110</td>\n",
       "      <td>99</td>\n",
       "      <td>114</td>\n",
       "      <td>114</td>\n",
       "      <td>...</td>\n",
       "      <td>1080</td>\n",
       "      <td>546</td>\n",
       "      <td>12</td>\n",
       "      <td>410</td>\n",
       "      <td>7</td>\n",
       "      <td>106.0</td>\n",
       "      <td>106.0</td>\n",
       "      <td>101.0</td>\n",
       "      <td>112.0</td>\n",
       "      <td>112.0</td>\n",
       "    </tr>\n",
       "    <tr>\n",
       "      <th>4</th>\n",
       "      <td>ZACHODNIOPOMORSKIE</td>\n",
       "      <td>2020</td>\n",
       "      <td>2853</td>\n",
       "      <td>125</td>\n",
       "      <td>115</td>\n",
       "      <td>91</td>\n",
       "      <td>95</td>\n",
       "      <td>101</td>\n",
       "      <td>124</td>\n",
       "      <td>134</td>\n",
       "      <td>...</td>\n",
       "      <td>516</td>\n",
       "      <td>501</td>\n",
       "      <td>36</td>\n",
       "      <td>289</td>\n",
       "      <td>15</td>\n",
       "      <td>102.0</td>\n",
       "      <td>102.0</td>\n",
       "      <td>118.0</td>\n",
       "      <td>123.0</td>\n",
       "      <td>109.0</td>\n",
       "    </tr>\n",
       "  </tbody>\n",
       "</table>\n",
       "<p>5 rows × 27 columns</p>\n",
       "</div>"
      ],
      "text/plain": [
       "          Województwo Data urodzenia    IE  PI-PROD  PI-POKR  Prc  Psm  Pnr  \\\n",
       "0       WIELKOPOLSKIE           2020  2120      137      127  121  113  106   \n",
       "1  KUJAWSKO-POMORSKIE           2018  1912      126      123  109  113  103   \n",
       "2           POMORSKIE           2020  2126      126      120  110  107  102   \n",
       "3  KUJAWSKO-POMORSKIE           2020  2089      133      111  104  110   99   \n",
       "4  ZACHODNIOPOMORSKIE           2020  2853      125      115   91   95  101   \n",
       "\n",
       "    Pw  PI-PLOD  ...  kg ml  kg tł  % tł  kg bi  % bi     rc     sm     nr  \\\n",
       "0  128      109  ...   1370    577     2    452     1  115.0  114.0  109.0   \n",
       "1  128      114  ...   1209    358   -16    354    -4  115.0  113.0  104.0   \n",
       "2  124      113  ...    982    368    -4    350     4  104.0  103.0  102.0   \n",
       "3  114      114  ...   1080    546    12    410     7  106.0  106.0  101.0   \n",
       "4  124      134  ...    516    501    36    289    15  102.0  102.0  118.0   \n",
       "\n",
       "       w     og  \n",
       "0  127.0  123.0  \n",
       "1  123.0  123.0  \n",
       "2  122.0  117.0  \n",
       "3  112.0  112.0  \n",
       "4  123.0  109.0  \n",
       "\n",
       "[5 rows x 27 columns]"
      ]
     },
     "execution_count": 17,
     "metadata": {},
     "output_type": "execute_result"
    }
   ],
   "source": [
    "caly_df.head()"
   ]
  },
  {
   "cell_type": "code",
   "execution_count": 5,
   "id": "3873f5d3",
   "metadata": {},
   "outputs": [
    {
     "name": "stdout",
     "output_type": "stream",
     "text": [
      "<class 'pandas.core.frame.DataFrame'>\n",
      "Int64Index: 1881 entries, 0 to 188\n",
      "Data columns (total 27 columns):\n",
      " #   Column          Non-Null Count  Dtype   \n",
      "---  ------          --------------  -----   \n",
      " 0   Województwo     1881 non-null   category\n",
      " 1   Data urodzenia  1881 non-null   category\n",
      " 2   IE              1881 non-null   int64   \n",
      " 3   PI-PROD         1881 non-null   int64   \n",
      " 4   PI-POKR         1881 non-null   int64   \n",
      " 5   Prc             1881 non-null   int64   \n",
      " 6   Psm             1881 non-null   int64   \n",
      " 7   Pnr             1881 non-null   int64   \n",
      " 8   Pw              1881 non-null   int64   \n",
      " 9   PI-PLOD         1881 non-null   int64   \n",
      " 10  CRj             1881 non-null   int64   \n",
      " 11  CRk             1881 non-null   int64   \n",
      " 12  PP              1881 non-null   int64   \n",
      " 13  OMC             1881 non-null   int64   \n",
      " 14  WH-KSOM         1881 non-null   int64   \n",
      " 15  WH-DLUG         1881 non-null   int64   \n",
      " 16  IP              1881 non-null   int64   \n",
      " 17  kg ml           1881 non-null   int64   \n",
      " 18  kg tł           1881 non-null   int64   \n",
      " 19  % tł            1881 non-null   int64   \n",
      " 20  kg bi           1881 non-null   int64   \n",
      " 21  % bi            1881 non-null   int64   \n",
      " 22  rc              1881 non-null   float64 \n",
      " 23  sm              1881 non-null   float64 \n",
      " 24  nr              1881 non-null   float64 \n",
      " 25  w               1881 non-null   float64 \n",
      " 26  og              1881 non-null   float64 \n",
      "dtypes: category(2), float64(5), int64(20)\n",
      "memory usage: 386.8 KB\n"
     ]
    }
   ],
   "source": [
    "caly_df.info()"
   ]
  },
  {
   "cell_type": "markdown",
   "id": "2eebaee3",
   "metadata": {},
   "source": [
    "## 3. Usuwam mniejszości zmiennych kategorycznych"
   ]
  },
  {
   "cell_type": "code",
   "execution_count": 6,
   "id": "9904e73e",
   "metadata": {},
   "outputs": [
    {
     "data": {
      "text/plain": [
       "WIELKOPOLSKIE          579\n",
       "KUJAWSKO-POMORSKIE     298\n",
       "OPOLSKIE               227\n",
       "ZACHODNIOPOMORSKIE     212\n",
       "PODLASKIE              175\n",
       "MAZOWIECKIE            106\n",
       "POMORSKIE               94\n",
       "LUBUSKIE                47\n",
       "ŁÓDZKIE                 41\n",
       "DOLNOŚLĄSKIE            32\n",
       "WARMIŃSKO-MAZURSKIE     23\n",
       "ŚLĄSKIE                 17\n",
       "ŚWIĘTOKRZYSKIE          13\n",
       "MAŁOPOLSKIE             12\n",
       "LUBELSKIE                4\n",
       "PODKARPACKIE             1\n",
       "Name: Województwo, dtype: int64"
      ]
     },
     "execution_count": 6,
     "metadata": {},
     "output_type": "execute_result"
    }
   ],
   "source": [
    "caly_df['Województwo'].value_counts()"
   ]
  },
  {
   "cell_type": "code",
   "execution_count": 7,
   "id": "568ff06e",
   "metadata": {},
   "outputs": [],
   "source": [
    "caly_df=caly_df[caly_df['Województwo']!='PODKARPACKIE']\n",
    "caly_df=caly_df[caly_df['Województwo']!='LUBELSKIE']"
   ]
  },
  {
   "cell_type": "code",
   "execution_count": 8,
   "id": "d2d41dc8",
   "metadata": {},
   "outputs": [
    {
     "data": {
      "text/plain": [
       "WIELKOPOLSKIE          579\n",
       "KUJAWSKO-POMORSKIE     298\n",
       "OPOLSKIE               227\n",
       "ZACHODNIOPOMORSKIE     212\n",
       "PODLASKIE              175\n",
       "MAZOWIECKIE            106\n",
       "POMORSKIE               94\n",
       "LUBUSKIE                47\n",
       "ŁÓDZKIE                 41\n",
       "DOLNOŚLĄSKIE            32\n",
       "WARMIŃSKO-MAZURSKIE     23\n",
       "ŚLĄSKIE                 17\n",
       "ŚWIĘTOKRZYSKIE          13\n",
       "MAŁOPOLSKIE             12\n",
       "LUBELSKIE                0\n",
       "PODKARPACKIE             0\n",
       "Name: Województwo, dtype: int64"
      ]
     },
     "execution_count": 8,
     "metadata": {},
     "output_type": "execute_result"
    }
   ],
   "source": [
    "caly_df['Województwo'].value_counts()"
   ]
  },
  {
   "cell_type": "code",
   "execution_count": 9,
   "id": "04915c46",
   "metadata": {},
   "outputs": [
    {
     "data": {
      "text/plain": [
       "2020    1066\n",
       "2019     396\n",
       "2018     275\n",
       "2017      68\n",
       "2021      47\n",
       "2016      23\n",
       "2015       1\n",
       "Name: Data urodzenia, dtype: int64"
      ]
     },
     "execution_count": 9,
     "metadata": {},
     "output_type": "execute_result"
    }
   ],
   "source": [
    "caly_df['Data urodzenia'].value_counts()"
   ]
  },
  {
   "cell_type": "code",
   "execution_count": 10,
   "id": "a6f559af",
   "metadata": {},
   "outputs": [],
   "source": [
    "caly_df=caly_df[caly_df['Data urodzenia']!=2015]"
   ]
  },
  {
   "cell_type": "code",
   "execution_count": 11,
   "id": "83ac2d60",
   "metadata": {},
   "outputs": [
    {
     "data": {
      "text/plain": [
       "2020    1066\n",
       "2019     396\n",
       "2018     275\n",
       "2017      68\n",
       "2021      47\n",
       "2016      23\n",
       "2015       0\n",
       "Name: Data urodzenia, dtype: int64"
      ]
     },
     "execution_count": 11,
     "metadata": {},
     "output_type": "execute_result"
    }
   ],
   "source": [
    "caly_df['Data urodzenia'].value_counts()"
   ]
  },
  {
   "cell_type": "code",
   "execution_count": 12,
   "id": "8bd1e93f",
   "metadata": {},
   "outputs": [
    {
     "data": {
      "text/plain": [
       "(1875, 27)"
      ]
     },
     "execution_count": 12,
     "metadata": {},
     "output_type": "execute_result"
    }
   ],
   "source": [
    "caly_df.shape"
   ]
  },
  {
   "cell_type": "markdown",
   "id": "dcf7386b",
   "metadata": {},
   "source": [
    "## 4. Zakodowuje zmienne kategoryczne"
   ]
  },
  {
   "cell_type": "code",
   "execution_count": 13,
   "id": "fb9afdef",
   "metadata": {},
   "outputs": [],
   "source": [
    "a=pd.get_dummies(caly_df['Województwo'])\n",
    "b=pd.get_dummies(caly_df['Data urodzenia'])\n",
    "caly_df= pd.concat([caly_df,a,b], axis=1)\n",
    "del caly_df['Województwo']\n",
    "del caly_df['Data urodzenia']"
   ]
  },
  {
   "cell_type": "code",
   "execution_count": 14,
   "id": "423bf68f",
   "metadata": {},
   "outputs": [
    {
     "data": {
      "text/html": [
       "<div>\n",
       "<style scoped>\n",
       "    .dataframe tbody tr th:only-of-type {\n",
       "        vertical-align: middle;\n",
       "    }\n",
       "\n",
       "    .dataframe tbody tr th {\n",
       "        vertical-align: top;\n",
       "    }\n",
       "\n",
       "    .dataframe thead th {\n",
       "        text-align: right;\n",
       "    }\n",
       "</style>\n",
       "<table border=\"1\" class=\"dataframe\">\n",
       "  <thead>\n",
       "    <tr style=\"text-align: right;\">\n",
       "      <th></th>\n",
       "      <th>2015</th>\n",
       "      <th>2016</th>\n",
       "      <th>2017</th>\n",
       "      <th>2018</th>\n",
       "      <th>2019</th>\n",
       "      <th>2020</th>\n",
       "      <th>2021</th>\n",
       "    </tr>\n",
       "  </thead>\n",
       "  <tbody>\n",
       "    <tr>\n",
       "      <th>0</th>\n",
       "      <td>0</td>\n",
       "      <td>0</td>\n",
       "      <td>0</td>\n",
       "      <td>0</td>\n",
       "      <td>0</td>\n",
       "      <td>1</td>\n",
       "      <td>0</td>\n",
       "    </tr>\n",
       "    <tr>\n",
       "      <th>1</th>\n",
       "      <td>0</td>\n",
       "      <td>0</td>\n",
       "      <td>0</td>\n",
       "      <td>1</td>\n",
       "      <td>0</td>\n",
       "      <td>0</td>\n",
       "      <td>0</td>\n",
       "    </tr>\n",
       "    <tr>\n",
       "      <th>2</th>\n",
       "      <td>0</td>\n",
       "      <td>0</td>\n",
       "      <td>0</td>\n",
       "      <td>0</td>\n",
       "      <td>0</td>\n",
       "      <td>1</td>\n",
       "      <td>0</td>\n",
       "    </tr>\n",
       "    <tr>\n",
       "      <th>3</th>\n",
       "      <td>0</td>\n",
       "      <td>0</td>\n",
       "      <td>0</td>\n",
       "      <td>0</td>\n",
       "      <td>0</td>\n",
       "      <td>1</td>\n",
       "      <td>0</td>\n",
       "    </tr>\n",
       "    <tr>\n",
       "      <th>4</th>\n",
       "      <td>0</td>\n",
       "      <td>0</td>\n",
       "      <td>0</td>\n",
       "      <td>0</td>\n",
       "      <td>0</td>\n",
       "      <td>1</td>\n",
       "      <td>0</td>\n",
       "    </tr>\n",
       "    <tr>\n",
       "      <th>...</th>\n",
       "      <td>...</td>\n",
       "      <td>...</td>\n",
       "      <td>...</td>\n",
       "      <td>...</td>\n",
       "      <td>...</td>\n",
       "      <td>...</td>\n",
       "      <td>...</td>\n",
       "    </tr>\n",
       "    <tr>\n",
       "      <th>184</th>\n",
       "      <td>0</td>\n",
       "      <td>0</td>\n",
       "      <td>0</td>\n",
       "      <td>0</td>\n",
       "      <td>0</td>\n",
       "      <td>1</td>\n",
       "      <td>0</td>\n",
       "    </tr>\n",
       "    <tr>\n",
       "      <th>185</th>\n",
       "      <td>0</td>\n",
       "      <td>0</td>\n",
       "      <td>0</td>\n",
       "      <td>1</td>\n",
       "      <td>0</td>\n",
       "      <td>0</td>\n",
       "      <td>0</td>\n",
       "    </tr>\n",
       "    <tr>\n",
       "      <th>186</th>\n",
       "      <td>0</td>\n",
       "      <td>0</td>\n",
       "      <td>0</td>\n",
       "      <td>0</td>\n",
       "      <td>1</td>\n",
       "      <td>0</td>\n",
       "      <td>0</td>\n",
       "    </tr>\n",
       "    <tr>\n",
       "      <th>187</th>\n",
       "      <td>0</td>\n",
       "      <td>0</td>\n",
       "      <td>0</td>\n",
       "      <td>1</td>\n",
       "      <td>0</td>\n",
       "      <td>0</td>\n",
       "      <td>0</td>\n",
       "    </tr>\n",
       "    <tr>\n",
       "      <th>188</th>\n",
       "      <td>0</td>\n",
       "      <td>0</td>\n",
       "      <td>0</td>\n",
       "      <td>0</td>\n",
       "      <td>0</td>\n",
       "      <td>1</td>\n",
       "      <td>0</td>\n",
       "    </tr>\n",
       "  </tbody>\n",
       "</table>\n",
       "<p>1875 rows × 7 columns</p>\n",
       "</div>"
      ],
      "text/plain": [
       "     2015  2016  2017  2018  2019  2020  2021\n",
       "0       0     0     0     0     0     1     0\n",
       "1       0     0     0     1     0     0     0\n",
       "2       0     0     0     0     0     1     0\n",
       "3       0     0     0     0     0     1     0\n",
       "4       0     0     0     0     0     1     0\n",
       "..    ...   ...   ...   ...   ...   ...   ...\n",
       "184     0     0     0     0     0     1     0\n",
       "185     0     0     0     1     0     0     0\n",
       "186     0     0     0     0     1     0     0\n",
       "187     0     0     0     1     0     0     0\n",
       "188     0     0     0     0     0     1     0\n",
       "\n",
       "[1875 rows x 7 columns]"
      ]
     },
     "execution_count": 14,
     "metadata": {},
     "output_type": "execute_result"
    }
   ],
   "source": [
    "b"
   ]
  },
  {
   "cell_type": "markdown",
   "id": "cab70844",
   "metadata": {},
   "source": [
    "## 5. Klasyfikuje wartosci IE"
   ]
  },
  {
   "cell_type": "code",
   "execution_count": 52,
   "id": "513abdeb",
   "metadata": {},
   "outputs": [
    {
     "data": {
      "text/plain": [
       "(array([103.,  85.,  60.,  56., 283., 350., 264., 195.,  96.,  78.,  67.,\n",
       "         47.,  44.,  37.,  24.,  23.,  19.,   6.,  10.,  10.,   2.,   7.,\n",
       "          3.,   1.,   2.,   1.,   1.,   0.,   0.,   1.]),\n",
       " array([1903.        , 1945.06666667, 1987.13333333, 2029.2       ,\n",
       "        2071.26666667, 2113.33333333, 2155.4       , 2197.46666667,\n",
       "        2239.53333333, 2281.6       , 2323.66666667, 2365.73333333,\n",
       "        2407.8       , 2449.86666667, 2491.93333333, 2534.        ,\n",
       "        2576.06666667, 2618.13333333, 2660.2       , 2702.26666667,\n",
       "        2744.33333333, 2786.4       , 2828.46666667, 2870.53333333,\n",
       "        2912.6       , 2954.66666667, 2996.73333333, 3038.8       ,\n",
       "        3080.86666667, 3122.93333333, 3165.        ]),\n",
       " <BarContainer object of 30 artists>)"
      ]
     },
     "execution_count": 52,
     "metadata": {},
     "output_type": "execute_result"
    },
    {
     "data": {
      "image/png": "[encoded data removed]",
      "text/plain": [
       "<Figure size 432x288 with 1 Axes>"
      ]
     },
     "metadata": {
      "needs_background": "light"
     },
     "output_type": "display_data"
    }
   ],
   "source": [
    "plt.hist(caly_df[\"IE\"],bins=30)"
   ]
  },
  {
   "cell_type": "code",
   "execution_count": 53,
   "id": "f618a743",
   "metadata": {},
   "outputs": [
    {
     "data": {
      "text/plain": [
       "count    1875.000000\n",
       "mean     2186.410133\n",
       "std       166.883876\n",
       "min      1903.000000\n",
       "25%      2096.000000\n",
       "50%      2156.000000\n",
       "75%      2243.000000\n",
       "max      3165.000000\n",
       "Name: IE, dtype: float64"
      ]
     },
     "execution_count": 53,
     "metadata": {},
     "output_type": "execute_result"
    }
   ],
   "source": [
    "caly_df[\"IE\"].describe()"
   ]
  },
  {
   "cell_type": "code",
   "execution_count": 54,
   "id": "0761d130",
   "metadata": {},
   "outputs": [],
   "source": [
    "caly_df.loc[(caly_df[\"IE\"]<=2096), \"Klasa\"] = \"Małe\"\n",
    "caly_df.loc[(2096<caly_df[\"IE\"]) & (caly_df[\"IE\"]<=2156), \"Klasa\"] = \"Średnie\"\n",
    "caly_df.loc[(2156<caly_df[\"IE\"]) & (caly_df[\"IE\"]<=2243), \"Klasa\"] = \"Wysokie\"\n",
    "caly_df.loc[caly_df[\"IE\"]>2243, \"Klasa\"] = \"Ekstrimum\""
   ]
  },
  {
   "cell_type": "code",
   "execution_count": 55,
   "id": "910d75b3",
   "metadata": {},
   "outputs": [
    {
     "data": {
      "text/plain": [
       "(array([475.,   0.,   0., 470.,   0.,   0., 466.,   0.,   0., 464.]),\n",
       " array([0. , 0.3, 0.6, 0.9, 1.2, 1.5, 1.8, 2.1, 2.4, 2.7, 3. ]),\n",
       " <BarContainer object of 10 artists>)"
      ]
     },
     "execution_count": 55,
     "metadata": {},
     "output_type": "execute_result"
    },
    {
     "data": {
      "image/png": "[encoded data removed]",
      "text/plain": [
       "<Figure size 432x288 with 1 Axes>"
      ]
     },
     "metadata": {
      "needs_background": "light"
     },
     "output_type": "display_data"
    }
   ],
   "source": [
    "plt.hist(caly_df[\"Klasa\"])"
   ]
  },
  {
   "cell_type": "code",
   "execution_count": 56,
   "id": "958a64f5",
   "metadata": {},
   "outputs": [
    {
     "data": {
      "text/plain": [
       "Średnie      475\n",
       "Małe         470\n",
       "Ekstrimum    466\n",
       "Wysokie      464\n",
       "Name: Klasa, dtype: int64"
      ]
     },
     "execution_count": 56,
     "metadata": {},
     "output_type": "execute_result"
    }
   ],
   "source": [
    "caly_df[\"Klasa\"].value_counts()"
   ]
  },
  {
   "cell_type": "code",
   "execution_count": 57,
   "id": "268437e4",
   "metadata": {
    "scrolled": true
   },
   "outputs": [
    {
     "data": {
      "text/plain": [
       "['IE',\n",
       " 'PI-PROD',\n",
       " 'PI-POKR',\n",
       " 'Prc',\n",
       " 'Psm',\n",
       " 'Pnr',\n",
       " 'Pw',\n",
       " 'PI-PLOD',\n",
       " 'CRj',\n",
       " 'CRk',\n",
       " 'PP',\n",
       " 'OMC',\n",
       " 'WH-KSOM',\n",
       " 'WH-DLUG',\n",
       " 'IP',\n",
       " 'kg ml',\n",
       " 'kg tł',\n",
       " '% tł',\n",
       " 'kg bi',\n",
       " '% bi',\n",
       " 'rc',\n",
       " 'sm',\n",
       " 'nr',\n",
       " 'w',\n",
       " 'og',\n",
       " 'DOLNOŚLĄSKIE',\n",
       " 'KUJAWSKO-POMORSKIE',\n",
       " 'LUBELSKIE',\n",
       " 'LUBUSKIE',\n",
       " 'MAZOWIECKIE',\n",
       " 'MAŁOPOLSKIE',\n",
       " 'OPOLSKIE',\n",
       " 'PODKARPACKIE',\n",
       " 'PODLASKIE',\n",
       " 'POMORSKIE',\n",
       " 'WARMIŃSKO-MAZURSKIE',\n",
       " 'WIELKOPOLSKIE',\n",
       " 'ZACHODNIOPOMORSKIE',\n",
       " 'ŁÓDZKIE',\n",
       " 'ŚLĄSKIE',\n",
       " 'ŚWIĘTOKRZYSKIE',\n",
       " 2015,\n",
       " 2016,\n",
       " 2017,\n",
       " 2018,\n",
       " 2019,\n",
       " 2020,\n",
       " 2021,\n",
       " 'Klasa']"
      ]
     },
     "execution_count": 57,
     "metadata": {},
     "output_type": "execute_result"
    }
   ],
   "source": [
    "list(caly_df)"
   ]
  },
  {
   "cell_type": "code",
   "execution_count": 58,
   "id": "33410b6b",
   "metadata": {},
   "outputs": [],
   "source": [
    "train_df, test_df = train_test_split(caly_df, test_size=0.2, random_state=42,stratify=caly_df['Klasa'])\n",
    "#test_df, val_df = train_test_split(test_df, test_size=0.5, random_state=42,stratify=test_df['Klasa'])\n",
    "\n",
    "del train_df['Klasa']\n",
    "del test_df['Klasa']\n",
    "#del val_df['Klasa']\n",
    "\n",
    "\n",
    "train_label=train_df['IE']\n",
    "test_label=test_df['IE']\n",
    "#val_label=val_df['IE']\n",
    "\n",
    "del train_df['IE']\n",
    "del test_df['IE']\n",
    "#del val_df['IE']\n"
   ]
  },
  {
   "cell_type": "code",
   "execution_count": 59,
   "id": "ca450646",
   "metadata": {
    "scrolled": true
   },
   "outputs": [
    {
     "data": {
      "text/plain": [
       "['PI-PROD',\n",
       " 'PI-POKR',\n",
       " 'Prc',\n",
       " 'Psm',\n",
       " 'Pnr',\n",
       " 'Pw',\n",
       " 'PI-PLOD',\n",
       " 'CRj',\n",
       " 'CRk',\n",
       " 'PP',\n",
       " 'OMC',\n",
       " 'WH-KSOM',\n",
       " 'WH-DLUG',\n",
       " 'IP',\n",
       " 'kg ml',\n",
       " 'kg tł',\n",
       " '% tł',\n",
       " 'kg bi',\n",
       " '% bi',\n",
       " 'rc',\n",
       " 'sm',\n",
       " 'nr',\n",
       " 'w',\n",
       " 'og',\n",
       " 'DOLNOŚLĄSKIE',\n",
       " 'KUJAWSKO-POMORSKIE',\n",
       " 'LUBELSKIE',\n",
       " 'LUBUSKIE',\n",
       " 'MAZOWIECKIE',\n",
       " 'MAŁOPOLSKIE',\n",
       " 'OPOLSKIE',\n",
       " 'PODKARPACKIE',\n",
       " 'PODLASKIE',\n",
       " 'POMORSKIE',\n",
       " 'WARMIŃSKO-MAZURSKIE',\n",
       " 'WIELKOPOLSKIE',\n",
       " 'ZACHODNIOPOMORSKIE',\n",
       " 'ŁÓDZKIE',\n",
       " 'ŚLĄSKIE',\n",
       " 'ŚWIĘTOKRZYSKIE',\n",
       " 2015,\n",
       " 2016,\n",
       " 2017,\n",
       " 2018,\n",
       " 2019,\n",
       " 2020,\n",
       " 2021]"
      ]
     },
     "execution_count": 59,
     "metadata": {},
     "output_type": "execute_result"
    }
   ],
   "source": [
    "list(train_df)"
   ]
  },
  {
   "cell_type": "code",
   "execution_count": 60,
   "id": "9eb8f275",
   "metadata": {},
   "outputs": [
    {
     "data": {
      "text/plain": [
       "47"
      ]
     },
     "execution_count": 60,
     "metadata": {},
     "output_type": "execute_result"
    }
   ],
   "source": [
    "len(list(train_df))"
   ]
  },
  {
   "cell_type": "markdown",
   "id": "knowing-precipitation",
   "metadata": {},
   "source": [
    "## 1.2 Standaryzacja"
   ]
  },
  {
   "cell_type": "code",
   "execution_count": 61,
   "id": "4bd3a3fe",
   "metadata": {},
   "outputs": [
    {
     "data": {
      "text/html": [
       "<div>\n",
       "<style scoped>\n",
       "    .dataframe tbody tr th:only-of-type {\n",
       "        vertical-align: middle;\n",
       "    }\n",
       "\n",
       "    .dataframe tbody tr th {\n",
       "        vertical-align: top;\n",
       "    }\n",
       "\n",
       "    .dataframe thead th {\n",
       "        text-align: right;\n",
       "    }\n",
       "</style>\n",
       "<table border=\"1\" class=\"dataframe\">\n",
       "  <thead>\n",
       "    <tr style=\"text-align: right;\">\n",
       "      <th></th>\n",
       "      <th>PI-PROD</th>\n",
       "      <th>PI-POKR</th>\n",
       "      <th>Prc</th>\n",
       "      <th>Psm</th>\n",
       "      <th>Pnr</th>\n",
       "      <th>Pw</th>\n",
       "      <th>PI-PLOD</th>\n",
       "      <th>CRj</th>\n",
       "      <th>CRk</th>\n",
       "      <th>PP</th>\n",
       "      <th>...</th>\n",
       "      <th>kg ml</th>\n",
       "      <th>kg tł</th>\n",
       "      <th>% tł</th>\n",
       "      <th>kg bi</th>\n",
       "      <th>% bi</th>\n",
       "      <th>rc</th>\n",
       "      <th>sm</th>\n",
       "      <th>nr</th>\n",
       "      <th>w</th>\n",
       "      <th>og</th>\n",
       "    </tr>\n",
       "  </thead>\n",
       "  <tbody>\n",
       "    <tr>\n",
       "      <th>974</th>\n",
       "      <td>130</td>\n",
       "      <td>111</td>\n",
       "      <td>126</td>\n",
       "      <td>117</td>\n",
       "      <td>100</td>\n",
       "      <td>108</td>\n",
       "      <td>118</td>\n",
       "      <td>116</td>\n",
       "      <td>120</td>\n",
       "      <td>98</td>\n",
       "      <td>...</td>\n",
       "      <td>980</td>\n",
       "      <td>380</td>\n",
       "      <td>-2</td>\n",
       "      <td>417</td>\n",
       "      <td>12</td>\n",
       "      <td>113.0</td>\n",
       "      <td>110.0</td>\n",
       "      <td>103.0</td>\n",
       "      <td>108.0</td>\n",
       "      <td>117.0</td>\n",
       "    </tr>\n",
       "    <tr>\n",
       "      <th>84</th>\n",
       "      <td>135</td>\n",
       "      <td>109</td>\n",
       "      <td>116</td>\n",
       "      <td>108</td>\n",
       "      <td>104</td>\n",
       "      <td>106</td>\n",
       "      <td>120</td>\n",
       "      <td>119</td>\n",
       "      <td>117</td>\n",
       "      <td>96</td>\n",
       "      <td>...</td>\n",
       "      <td>1263</td>\n",
       "      <td>521</td>\n",
       "      <td>0</td>\n",
       "      <td>446</td>\n",
       "      <td>4</td>\n",
       "      <td>108.0</td>\n",
       "      <td>105.0</td>\n",
       "      <td>110.0</td>\n",
       "      <td>108.0</td>\n",
       "      <td>108.0</td>\n",
       "    </tr>\n",
       "    <tr>\n",
       "      <th>753</th>\n",
       "      <td>137</td>\n",
       "      <td>121</td>\n",
       "      <td>121</td>\n",
       "      <td>116</td>\n",
       "      <td>120</td>\n",
       "      <td>110</td>\n",
       "      <td>101</td>\n",
       "      <td>101</td>\n",
       "      <td>100</td>\n",
       "      <td>101</td>\n",
       "      <td>...</td>\n",
       "      <td>1237</td>\n",
       "      <td>666</td>\n",
       "      <td>18</td>\n",
       "      <td>419</td>\n",
       "      <td>2</td>\n",
       "      <td>118.0</td>\n",
       "      <td>115.0</td>\n",
       "      <td>126.0</td>\n",
       "      <td>108.0</td>\n",
       "      <td>121.0</td>\n",
       "    </tr>\n",
       "    <tr>\n",
       "      <th>643</th>\n",
       "      <td>117</td>\n",
       "      <td>125</td>\n",
       "      <td>101</td>\n",
       "      <td>103</td>\n",
       "      <td>114</td>\n",
       "      <td>127</td>\n",
       "      <td>123</td>\n",
       "      <td>115</td>\n",
       "      <td>130</td>\n",
       "      <td>114</td>\n",
       "      <td>...</td>\n",
       "      <td>723</td>\n",
       "      <td>305</td>\n",
       "      <td>1</td>\n",
       "      <td>227</td>\n",
       "      <td>-1</td>\n",
       "      <td>102.0</td>\n",
       "      <td>101.0</td>\n",
       "      <td>124.0</td>\n",
       "      <td>127.0</td>\n",
       "      <td>117.0</td>\n",
       "    </tr>\n",
       "    <tr>\n",
       "      <th>1438</th>\n",
       "      <td>133</td>\n",
       "      <td>109</td>\n",
       "      <td>104</td>\n",
       "      <td>113</td>\n",
       "      <td>102</td>\n",
       "      <td>108</td>\n",
       "      <td>112</td>\n",
       "      <td>111</td>\n",
       "      <td>116</td>\n",
       "      <td>98</td>\n",
       "      <td>...</td>\n",
       "      <td>1254</td>\n",
       "      <td>485</td>\n",
       "      <td>-3</td>\n",
       "      <td>425</td>\n",
       "      <td>2</td>\n",
       "      <td>108.0</td>\n",
       "      <td>108.0</td>\n",
       "      <td>116.0</td>\n",
       "      <td>111.0</td>\n",
       "      <td>112.0</td>\n",
       "    </tr>\n",
       "    <tr>\n",
       "      <th>...</th>\n",
       "      <td>...</td>\n",
       "      <td>...</td>\n",
       "      <td>...</td>\n",
       "      <td>...</td>\n",
       "      <td>...</td>\n",
       "      <td>...</td>\n",
       "      <td>...</td>\n",
       "      <td>...</td>\n",
       "      <td>...</td>\n",
       "      <td>...</td>\n",
       "      <td>...</td>\n",
       "      <td>...</td>\n",
       "      <td>...</td>\n",
       "      <td>...</td>\n",
       "      <td>...</td>\n",
       "      <td>...</td>\n",
       "      <td>...</td>\n",
       "      <td>...</td>\n",
       "      <td>...</td>\n",
       "      <td>...</td>\n",
       "      <td>...</td>\n",
       "    </tr>\n",
       "    <tr>\n",
       "      <th>143</th>\n",
       "      <td>125</td>\n",
       "      <td>118</td>\n",
       "      <td>117</td>\n",
       "      <td>112</td>\n",
       "      <td>100</td>\n",
       "      <td>119</td>\n",
       "      <td>110</td>\n",
       "      <td>108</td>\n",
       "      <td>113</td>\n",
       "      <td>102</td>\n",
       "      <td>...</td>\n",
       "      <td>845</td>\n",
       "      <td>467</td>\n",
       "      <td>14</td>\n",
       "      <td>307</td>\n",
       "      <td>4</td>\n",
       "      <td>110.0</td>\n",
       "      <td>108.0</td>\n",
       "      <td>101.0</td>\n",
       "      <td>118.0</td>\n",
       "      <td>118.0</td>\n",
       "    </tr>\n",
       "    <tr>\n",
       "      <th>650</th>\n",
       "      <td>143</td>\n",
       "      <td>129</td>\n",
       "      <td>116</td>\n",
       "      <td>115</td>\n",
       "      <td>115</td>\n",
       "      <td>126</td>\n",
       "      <td>117</td>\n",
       "      <td>115</td>\n",
       "      <td>119</td>\n",
       "      <td>100</td>\n",
       "      <td>...</td>\n",
       "      <td>1448</td>\n",
       "      <td>694</td>\n",
       "      <td>11</td>\n",
       "      <td>509</td>\n",
       "      <td>4</td>\n",
       "      <td>113.0</td>\n",
       "      <td>109.0</td>\n",
       "      <td>122.0</td>\n",
       "      <td>126.0</td>\n",
       "      <td>125.0</td>\n",
       "    </tr>\n",
       "    <tr>\n",
       "      <th>732</th>\n",
       "      <td>135</td>\n",
       "      <td>121</td>\n",
       "      <td>107</td>\n",
       "      <td>115</td>\n",
       "      <td>105</td>\n",
       "      <td>123</td>\n",
       "      <td>105</td>\n",
       "      <td>104</td>\n",
       "      <td>104</td>\n",
       "      <td>104</td>\n",
       "      <td>...</td>\n",
       "      <td>1113</td>\n",
       "      <td>561</td>\n",
       "      <td>12</td>\n",
       "      <td>437</td>\n",
       "      <td>9</td>\n",
       "      <td>107.0</td>\n",
       "      <td>109.0</td>\n",
       "      <td>109.0</td>\n",
       "      <td>119.0</td>\n",
       "      <td>123.0</td>\n",
       "    </tr>\n",
       "    <tr>\n",
       "      <th>1226</th>\n",
       "      <td>128</td>\n",
       "      <td>124</td>\n",
       "      <td>104</td>\n",
       "      <td>108</td>\n",
       "      <td>110</td>\n",
       "      <td>127</td>\n",
       "      <td>106</td>\n",
       "      <td>103</td>\n",
       "      <td>109</td>\n",
       "      <td>109</td>\n",
       "      <td>...</td>\n",
       "      <td>1111</td>\n",
       "      <td>407</td>\n",
       "      <td>-5</td>\n",
       "      <td>380</td>\n",
       "      <td>2</td>\n",
       "      <td>105.0</td>\n",
       "      <td>103.0</td>\n",
       "      <td>118.0</td>\n",
       "      <td>128.0</td>\n",
       "      <td>120.0</td>\n",
       "    </tr>\n",
       "    <tr>\n",
       "      <th>1270</th>\n",
       "      <td>121</td>\n",
       "      <td>115</td>\n",
       "      <td>117</td>\n",
       "      <td>108</td>\n",
       "      <td>103</td>\n",
       "      <td>115</td>\n",
       "      <td>103</td>\n",
       "      <td>101</td>\n",
       "      <td>111</td>\n",
       "      <td>103</td>\n",
       "      <td>...</td>\n",
       "      <td>735</td>\n",
       "      <td>395</td>\n",
       "      <td>11</td>\n",
       "      <td>264</td>\n",
       "      <td>3</td>\n",
       "      <td>104.0</td>\n",
       "      <td>104.0</td>\n",
       "      <td>108.0</td>\n",
       "      <td>116.0</td>\n",
       "      <td>114.0</td>\n",
       "    </tr>\n",
       "  </tbody>\n",
       "</table>\n",
       "<p>1500 rows × 24 columns</p>\n",
       "</div>"
      ],
      "text/plain": [
       "      PI-PROD  PI-POKR  Prc  Psm  Pnr   Pw  PI-PLOD  CRj  CRk   PP  ...  \\\n",
       "974       130      111  126  117  100  108      118  116  120   98  ...   \n",
       "84        135      109  116  108  104  106      120  119  117   96  ...   \n",
       "753       137      121  121  116  120  110      101  101  100  101  ...   \n",
       "643       117      125  101  103  114  127      123  115  130  114  ...   \n",
       "1438      133      109  104  113  102  108      112  111  116   98  ...   \n",
       "...       ...      ...  ...  ...  ...  ...      ...  ...  ...  ...  ...   \n",
       "143       125      118  117  112  100  119      110  108  113  102  ...   \n",
       "650       143      129  116  115  115  126      117  115  119  100  ...   \n",
       "732       135      121  107  115  105  123      105  104  104  104  ...   \n",
       "1226      128      124  104  108  110  127      106  103  109  109  ...   \n",
       "1270      121      115  117  108  103  115      103  101  111  103  ...   \n",
       "\n",
       "      kg ml  kg tł  % tł  kg bi  % bi     rc     sm     nr      w     og  \n",
       "974     980    380    -2    417    12  113.0  110.0  103.0  108.0  117.0  \n",
       "84     1263    521     0    446     4  108.0  105.0  110.0  108.0  108.0  \n",
       "753    1237    666    18    419     2  118.0  115.0  126.0  108.0  121.0  \n",
       "643     723    305     1    227    -1  102.0  101.0  124.0  127.0  117.0  \n",
       "1438   1254    485    -3    425     2  108.0  108.0  116.0  111.0  112.0  \n",
       "...     ...    ...   ...    ...   ...    ...    ...    ...    ...    ...  \n",
       "143     845    467    14    307     4  110.0  108.0  101.0  118.0  118.0  \n",
       "650    1448    694    11    509     4  113.0  109.0  122.0  126.0  125.0  \n",
       "732    1113    561    12    437     9  107.0  109.0  109.0  119.0  123.0  \n",
       "1226   1111    407    -5    380     2  105.0  103.0  118.0  128.0  120.0  \n",
       "1270    735    395    11    264     3  104.0  104.0  108.0  116.0  114.0  \n",
       "\n",
       "[1500 rows x 24 columns]"
      ]
     },
     "execution_count": 61,
     "metadata": {},
     "output_type": "execute_result"
    }
   ],
   "source": [
    "train_df.iloc[:,:24]"
   ]
  },
  {
   "cell_type": "code",
   "execution_count": 62,
   "id": "indonesian-majority",
   "metadata": {},
   "outputs": [],
   "source": [
    "scaler = StandardScaler()\n",
    "train_df.iloc[:,:24]=scaler.fit_transform(train_df.iloc[:,:24])\n",
    "test_df.iloc[:,:24]=scaler.fit_transform(test_df.iloc[:,:24])\n",
    "#val_df.iloc[:,14:]=scaler.fit_transform(val_df.iloc[:,14:])"
   ]
  },
  {
   "cell_type": "code",
   "execution_count": 63,
   "id": "dcc66d81",
   "metadata": {},
   "outputs": [
    {
     "data": {
      "text/html": [
       "<div>\n",
       "<style scoped>\n",
       "    .dataframe tbody tr th:only-of-type {\n",
       "        vertical-align: middle;\n",
       "    }\n",
       "\n",
       "    .dataframe tbody tr th {\n",
       "        vertical-align: top;\n",
       "    }\n",
       "\n",
       "    .dataframe thead th {\n",
       "        text-align: right;\n",
       "    }\n",
       "</style>\n",
       "<table border=\"1\" class=\"dataframe\">\n",
       "  <thead>\n",
       "    <tr style=\"text-align: right;\">\n",
       "      <th></th>\n",
       "      <th>sm</th>\n",
       "      <th>nr</th>\n",
       "      <th>w</th>\n",
       "      <th>og</th>\n",
       "      <th>DOLNOŚLĄSKIE</th>\n",
       "      <th>KUJAWSKO-POMORSKIE</th>\n",
       "      <th>LUBELSKIE</th>\n",
       "      <th>LUBUSKIE</th>\n",
       "      <th>MAZOWIECKIE</th>\n",
       "    </tr>\n",
       "  </thead>\n",
       "  <tbody>\n",
       "    <tr>\n",
       "      <th>974</th>\n",
       "      <td>0.891719</td>\n",
       "      <td>-1.253508</td>\n",
       "      <td>-1.582152</td>\n",
       "      <td>0.297493</td>\n",
       "      <td>0</td>\n",
       "      <td>0</td>\n",
       "      <td>0</td>\n",
       "      <td>0</td>\n",
       "      <td>0</td>\n",
       "    </tr>\n",
       "    <tr>\n",
       "      <th>84</th>\n",
       "      <td>-0.188542</td>\n",
       "      <td>-0.294750</td>\n",
       "      <td>-1.582152</td>\n",
       "      <td>-1.048403</td>\n",
       "      <td>0</td>\n",
       "      <td>0</td>\n",
       "      <td>0</td>\n",
       "      <td>0</td>\n",
       "      <td>0</td>\n",
       "    </tr>\n",
       "    <tr>\n",
       "      <th>753</th>\n",
       "      <td>1.971980</td>\n",
       "      <td>1.896698</td>\n",
       "      <td>-1.582152</td>\n",
       "      <td>0.895669</td>\n",
       "      <td>0</td>\n",
       "      <td>0</td>\n",
       "      <td>0</td>\n",
       "      <td>0</td>\n",
       "      <td>0</td>\n",
       "    </tr>\n",
       "    <tr>\n",
       "      <th>643</th>\n",
       "      <td>-1.052750</td>\n",
       "      <td>1.622767</td>\n",
       "      <td>1.088977</td>\n",
       "      <td>0.297493</td>\n",
       "      <td>0</td>\n",
       "      <td>0</td>\n",
       "      <td>0</td>\n",
       "      <td>0</td>\n",
       "      <td>0</td>\n",
       "    </tr>\n",
       "    <tr>\n",
       "      <th>1438</th>\n",
       "      <td>0.459615</td>\n",
       "      <td>0.527043</td>\n",
       "      <td>-1.160395</td>\n",
       "      <td>-0.450227</td>\n",
       "      <td>0</td>\n",
       "      <td>0</td>\n",
       "      <td>0</td>\n",
       "      <td>0</td>\n",
       "      <td>0</td>\n",
       "    </tr>\n",
       "    <tr>\n",
       "      <th>...</th>\n",
       "      <td>...</td>\n",
       "      <td>...</td>\n",
       "      <td>...</td>\n",
       "      <td>...</td>\n",
       "      <td>...</td>\n",
       "      <td>...</td>\n",
       "      <td>...</td>\n",
       "      <td>...</td>\n",
       "      <td>...</td>\n",
       "    </tr>\n",
       "    <tr>\n",
       "      <th>143</th>\n",
       "      <td>0.459615</td>\n",
       "      <td>-1.527439</td>\n",
       "      <td>-0.176295</td>\n",
       "      <td>0.447037</td>\n",
       "      <td>0</td>\n",
       "      <td>0</td>\n",
       "      <td>0</td>\n",
       "      <td>0</td>\n",
       "      <td>0</td>\n",
       "    </tr>\n",
       "    <tr>\n",
       "      <th>650</th>\n",
       "      <td>0.675667</td>\n",
       "      <td>1.348836</td>\n",
       "      <td>0.948391</td>\n",
       "      <td>1.493845</td>\n",
       "      <td>0</td>\n",
       "      <td>0</td>\n",
       "      <td>0</td>\n",
       "      <td>0</td>\n",
       "      <td>0</td>\n",
       "    </tr>\n",
       "    <tr>\n",
       "      <th>732</th>\n",
       "      <td>0.675667</td>\n",
       "      <td>-0.431715</td>\n",
       "      <td>-0.035709</td>\n",
       "      <td>1.194757</td>\n",
       "      <td>0</td>\n",
       "      <td>0</td>\n",
       "      <td>0</td>\n",
       "      <td>0</td>\n",
       "      <td>0</td>\n",
       "    </tr>\n",
       "    <tr>\n",
       "      <th>1226</th>\n",
       "      <td>-0.620646</td>\n",
       "      <td>0.800974</td>\n",
       "      <td>1.229563</td>\n",
       "      <td>0.746125</td>\n",
       "      <td>0</td>\n",
       "      <td>0</td>\n",
       "      <td>0</td>\n",
       "      <td>0</td>\n",
       "      <td>0</td>\n",
       "    </tr>\n",
       "    <tr>\n",
       "      <th>1270</th>\n",
       "      <td>-0.404594</td>\n",
       "      <td>-0.568681</td>\n",
       "      <td>-0.457466</td>\n",
       "      <td>-0.151139</td>\n",
       "      <td>0</td>\n",
       "      <td>0</td>\n",
       "      <td>0</td>\n",
       "      <td>0</td>\n",
       "      <td>0</td>\n",
       "    </tr>\n",
       "  </tbody>\n",
       "</table>\n",
       "<p>1500 rows × 9 columns</p>\n",
       "</div>"
      ],
      "text/plain": [
       "            sm        nr         w        og  DOLNOŚLĄSKIE  \\\n",
       "974   0.891719 -1.253508 -1.582152  0.297493             0   \n",
       "84   -0.188542 -0.294750 -1.582152 -1.048403             0   \n",
       "753   1.971980  1.896698 -1.582152  0.895669             0   \n",
       "643  -1.052750  1.622767  1.088977  0.297493             0   \n",
       "1438  0.459615  0.527043 -1.160395 -0.450227             0   \n",
       "...        ...       ...       ...       ...           ...   \n",
       "143   0.459615 -1.527439 -0.176295  0.447037             0   \n",
       "650   0.675667  1.348836  0.948391  1.493845             0   \n",
       "732   0.675667 -0.431715 -0.035709  1.194757             0   \n",
       "1226 -0.620646  0.800974  1.229563  0.746125             0   \n",
       "1270 -0.404594 -0.568681 -0.457466 -0.151139             0   \n",
       "\n",
       "      KUJAWSKO-POMORSKIE  LUBELSKIE  LUBUSKIE  MAZOWIECKIE  \n",
       "974                    0          0         0            0  \n",
       "84                     0          0         0            0  \n",
       "753                    0          0         0            0  \n",
       "643                    0          0         0            0  \n",
       "1438                   0          0         0            0  \n",
       "...                  ...        ...       ...          ...  \n",
       "143                    0          0         0            0  \n",
       "650                    0          0         0            0  \n",
       "732                    0          0         0            0  \n",
       "1226                   0          0         0            0  \n",
       "1270                   0          0         0            0  \n",
       "\n",
       "[1500 rows x 9 columns]"
      ]
     },
     "execution_count": 63,
     "metadata": {},
     "output_type": "execute_result"
    }
   ],
   "source": [
    "train_df.iloc[:,20:29]"
   ]
  },
  {
   "cell_type": "code",
   "execution_count": 64,
   "id": "humanitarian-sperm",
   "metadata": {},
   "outputs": [
    {
     "data": {
      "text/plain": [
       "(1500, 47)"
      ]
     },
     "execution_count": 64,
     "metadata": {},
     "output_type": "execute_result"
    }
   ],
   "source": [
    "train_df.shape"
   ]
  },
  {
   "cell_type": "code",
   "execution_count": 65,
   "id": "c6359d6d",
   "metadata": {},
   "outputs": [
    {
     "data": {
      "text/plain": [
       "(375, 47)"
      ]
     },
     "execution_count": 65,
     "metadata": {},
     "output_type": "execute_result"
    }
   ],
   "source": [
    "test_df.shape"
   ]
  },
  {
   "cell_type": "code",
   "execution_count": 66,
   "id": "d360ef87",
   "metadata": {},
   "outputs": [],
   "source": [
    "train_df = np.array(train_df)\n",
    "test_df = np.array(test_df)"
   ]
  },
  {
   "cell_type": "code",
   "execution_count": 67,
   "id": "e8ff5748",
   "metadata": {},
   "outputs": [
    {
     "data": {
      "text/plain": [
       "array([[ 0.45476225, -0.93083361,  2.37267516, ...,  0.        ,\n",
       "         1.        ,  0.        ],\n",
       "       [ 1.23222221, -1.21598635,  1.10580699, ...,  0.        ,\n",
       "         1.        ,  0.        ],\n",
       "       [ 1.5432062 ,  0.49493011,  1.73924108, ...,  0.        ,\n",
       "         0.        ,  0.        ],\n",
       "       ...,\n",
       "       [ 1.23222221,  0.49493011, -0.03437436, ...,  0.        ,\n",
       "         1.        ,  0.        ],\n",
       "       [ 0.14377826,  0.92265923, -0.41443481, ...,  0.        ,\n",
       "         1.        ,  0.        ],\n",
       "       [-0.94466569, -0.36052812,  1.23249381, ...,  1.        ,\n",
       "         0.        ,  0.        ]])"
      ]
     },
     "execution_count": 67,
     "metadata": {},
     "output_type": "execute_result"
    }
   ],
   "source": [
    "train_df"
   ]
  },
  {
   "cell_type": "code",
   "execution_count": 68,
   "id": "b312464b",
   "metadata": {},
   "outputs": [],
   "source": [
    "train_label = np.array(train_label)\n",
    "test_label = np.array(test_label)"
   ]
  },
  {
   "cell_type": "code",
   "execution_count": 69,
   "id": "b23fc815",
   "metadata": {
    "scrolled": true
   },
   "outputs": [
    {
     "data": {
      "text/plain": [
       "array([2085, 2142, 2037, ..., 2128, 2096, 2058], dtype=int64)"
      ]
     },
     "execution_count": 69,
     "metadata": {},
     "output_type": "execute_result"
    }
   ],
   "source": [
    "train_label"
   ]
  },
  {
   "cell_type": "code",
   "execution_count": 70,
   "id": "perfect-atlas",
   "metadata": {},
   "outputs": [],
   "source": [
    "METRICS=['mae']"
   ]
  },
  {
   "cell_type": "markdown",
   "id": "twelve-proportion",
   "metadata": {},
   "source": [
    "# 2 Moduł TALOS"
   ]
  },
  {
   "cell_type": "markdown",
   "id": "7b60f128",
   "metadata": {},
   "source": [
    "Zamiast dobierać wszystkie hiperparametry na nowo, sprawdzę czy siec preferuje inne w waskim zakresie"
   ]
  },
  {
   "cell_type": "markdown",
   "id": "powered-stick",
   "metadata": {},
   "source": [
    "## 2.1 Słownik parametrów do wypróbowania"
   ]
  },
  {
   "cell_type": "code",
   "execution_count": 71,
   "id": "experimental-ladder",
   "metadata": {},
   "outputs": [],
   "source": [
    "p = {'first_neuron':[250], #best 250\n",
    "     'hidden_neuron':[25],# best 25\n",
    "     'hidden_layers':[2],  #best 2\n",
    "     'batch_size': [128], # best 128\n",
    "     'optimizer': ['adadelta','nadam'],# best adadelta \n",
    "     'kernel_initializer': ['orthogonal'], #best orthogonogal\n",
    "     'epochs': [1000000], # never touch it\n",
    "     'dropout': [0],  # po dopasowaniu znowu nie bedzie potrzebne\n",
    "     'activation_layer':['relu'],\n",
    "     'batc_normalization':[False], # do zrobienia potem\n",
    "     'last_activation': ['linear']} #never touch it\n",
    "#     \n",
    "#    "
   ]
  },
  {
   "cell_type": "markdown",
   "id": "fitting-thanksgiving",
   "metadata": {},
   "source": [
    "## 2.2 Tworzę funkcję do tworzenia instancji modelu keras"
   ]
  },
  {
   "cell_type": "code",
   "execution_count": 72,
   "id": "rapid-humanity",
   "metadata": {},
   "outputs": [],
   "source": [
    "def numerai_model(x_train, y_train, x_val, y_val, params):\n",
    "    print(params)\n",
    "\n",
    "    model = Sequential()\n",
    "    \n",
    "    ## initial layer\n",
    "    model.add(Dense(params['first_neuron'], input_dim=x_train.shape[1],\n",
    "                    activation='relu',\n",
    "                    kernel_initializer = params['kernel_initializer'] ))\n",
    "    if params['batc_normalization']==True:\n",
    "        model.add(BatchNormalization())\n",
    "    model.add(Dropout(params['dropout']))\n",
    "    \n",
    "    ## hidden layers\n",
    "    for i in range(params['hidden_layers']):\n",
    "        print (f\"adding layer {i+1}\")\n",
    "        model.add(Dense(params['hidden_neuron'], activation='relu',\n",
    "                    kernel_initializer=params['kernel_initializer']))\n",
    "        if params['batc_normalization']==True:\n",
    "            model.add(BatchNormalization())\n",
    "        model.add(Dropout(params['dropout']))\n",
    "    \n",
    "    \n",
    "    ## final layer\n",
    "    model.add(Dense(1, activation=params['last_activation'],\n",
    "                    kernel_initializer=params['kernel_initializer']))\n",
    "    \n",
    "    model.compile(loss='mean_absolute_error', \n",
    "                  optimizer=params['optimizer'])\n",
    "    \n",
    "    history = model.fit(x_train, y_train, \n",
    "                        validation_data=[x_val, y_val],\n",
    "                        batch_size=params['batch_size'],\n",
    "                        epochs=params['epochs'],\n",
    "                        callbacks = [early_stopper(params['epochs'], patience=10,monitor='val_loss')] #,ta.live(),\n",
    "                        )\n",
    "\n",
    "    return history, model"
   ]
  },
  {
   "cell_type": "markdown",
   "id": "desirable-married",
   "metadata": {},
   "source": [
    "## 2.3 Przeprowadzam skan, używając parametrów i funkcji wyżej\n"
   ]
  },
  {
   "cell_type": "code",
   "execution_count": null,
   "id": "muslim-picnic",
   "metadata": {},
   "outputs": [],
   "source": [
    "t = ta.Scan(x=train_df, y=train_label,\n",
    "            x_val=test_df, y_val=test_label,\n",
    "            model=numerai_model,\n",
    "            params=p,\n",
    "            experiment_name='Predykcja IE')"
   ]
  },
  {
   "cell_type": "markdown",
   "id": "infrared-material",
   "metadata": {},
   "source": [
    "# 3. Wczytuje wyniki"
   ]
  },
  {
   "cell_type": "code",
   "execution_count": 2,
   "id": "buried-korean",
   "metadata": {},
   "outputs": [],
   "source": [
    "df = pd.read_csv('D:/STUDIA/ROK_II/Projekt/Indeks Ekonomiczny/Sieci neuro/Zestaw jalowka + krowa/Predykcja IE/051221010125.csv')"
   ]
  },
  {
   "cell_type": "markdown",
   "id": "alien-ultimate",
   "metadata": {},
   "source": [
    "## 3.1 Wyliczam ilość neuronów i połączeń"
   ]
  },
  {
   "cell_type": "code",
   "execution_count": 75,
   "id": "advance-producer",
   "metadata": {},
   "outputs": [
    {
     "name": "stdout",
     "output_type": "stream",
     "text": [
      "   round_epochs      loss   val_loss activation_layer  batc_normalization  \\\n",
      "0        291059  2.392027  21.243888             relu               False   \n",
      "1        117864  1.466849  22.681491             relu               False   \n",
      "\n",
      "   batch_size  dropout   epochs  first_neuron  hidden_layers  hidden_neuron  \\\n",
      "0         128        0  1000000           250              2             25   \n",
      "1         128        0  1000000           250              2             25   \n",
      "\n",
      "  kernel_initializer last_activation optimizer  nodes    links  \\\n",
      "0         orthogonal          linear  adadelta    300  44850.0   \n",
      "1         orthogonal          linear     nadam    300  44850.0   \n",
      "\n",
      "   val_loss_improvement  \n",
      "0            -18.851861  \n",
      "1            -21.214643  \n"
     ]
    }
   ],
   "source": [
    "df['nodes'] = df.first_neuron + df.hidden_neuron*df.hidden_layers\n",
    "df['links'] =  df.nodes * (df.nodes-1) / 2\n",
    "df['val_loss_improvement'] = df.loss - df.val_loss \n",
    "#compare to baseline log-loss (higher is better)\n",
    "print(df.sort_values('val_loss').head())"
   ]
  },
  {
   "cell_type": "code",
   "execution_count": 76,
   "id": "086e68cd",
   "metadata": {},
   "outputs": [
    {
     "data": {
      "text/html": [
       "<div>\n",
       "<style scoped>\n",
       "    .dataframe tbody tr th:only-of-type {\n",
       "        vertical-align: middle;\n",
       "    }\n",
       "\n",
       "    .dataframe tbody tr th {\n",
       "        vertical-align: top;\n",
       "    }\n",
       "\n",
       "    .dataframe thead th {\n",
       "        text-align: right;\n",
       "    }\n",
       "</style>\n",
       "<table border=\"1\" class=\"dataframe\">\n",
       "  <thead>\n",
       "    <tr style=\"text-align: right;\">\n",
       "      <th></th>\n",
       "      <th>round_epochs</th>\n",
       "      <th>loss</th>\n",
       "      <th>val_loss</th>\n",
       "      <th>activation_layer</th>\n",
       "      <th>batc_normalization</th>\n",
       "      <th>batch_size</th>\n",
       "      <th>dropout</th>\n",
       "      <th>epochs</th>\n",
       "      <th>first_neuron</th>\n",
       "      <th>hidden_layers</th>\n",
       "      <th>hidden_neuron</th>\n",
       "      <th>kernel_initializer</th>\n",
       "      <th>last_activation</th>\n",
       "      <th>optimizer</th>\n",
       "      <th>nodes</th>\n",
       "      <th>links</th>\n",
       "      <th>val_loss_improvement</th>\n",
       "    </tr>\n",
       "  </thead>\n",
       "  <tbody>\n",
       "    <tr>\n",
       "      <th>0</th>\n",
       "      <td>291059</td>\n",
       "      <td>2.392027</td>\n",
       "      <td>21.243888</td>\n",
       "      <td>relu</td>\n",
       "      <td>False</td>\n",
       "      <td>128</td>\n",
       "      <td>0</td>\n",
       "      <td>1000000</td>\n",
       "      <td>250</td>\n",
       "      <td>2</td>\n",
       "      <td>25</td>\n",
       "      <td>orthogonal</td>\n",
       "      <td>linear</td>\n",
       "      <td>adadelta</td>\n",
       "      <td>300</td>\n",
       "      <td>44850.0</td>\n",
       "      <td>-18.851861</td>\n",
       "    </tr>\n",
       "    <tr>\n",
       "      <th>1</th>\n",
       "      <td>117864</td>\n",
       "      <td>1.466849</td>\n",
       "      <td>22.681491</td>\n",
       "      <td>relu</td>\n",
       "      <td>False</td>\n",
       "      <td>128</td>\n",
       "      <td>0</td>\n",
       "      <td>1000000</td>\n",
       "      <td>250</td>\n",
       "      <td>2</td>\n",
       "      <td>25</td>\n",
       "      <td>orthogonal</td>\n",
       "      <td>linear</td>\n",
       "      <td>nadam</td>\n",
       "      <td>300</td>\n",
       "      <td>44850.0</td>\n",
       "      <td>-21.214643</td>\n",
       "    </tr>\n",
       "  </tbody>\n",
       "</table>\n",
       "</div>"
      ],
      "text/plain": [
       "   round_epochs      loss   val_loss activation_layer  batc_normalization  \\\n",
       "0        291059  2.392027  21.243888             relu               False   \n",
       "1        117864  1.466849  22.681491             relu               False   \n",
       "\n",
       "   batch_size  dropout   epochs  first_neuron  hidden_layers  hidden_neuron  \\\n",
       "0         128        0  1000000           250              2             25   \n",
       "1         128        0  1000000           250              2             25   \n",
       "\n",
       "  kernel_initializer last_activation optimizer  nodes    links  \\\n",
       "0         orthogonal          linear  adadelta    300  44850.0   \n",
       "1         orthogonal          linear     nadam    300  44850.0   \n",
       "\n",
       "   val_loss_improvement  \n",
       "0            -18.851861  \n",
       "1            -21.214643  "
      ]
     },
     "execution_count": 76,
     "metadata": {},
     "output_type": "execute_result"
    }
   ],
   "source": [
    "df.sort_values('val_loss')"
   ]
  },
  {
   "cell_type": "code",
   "execution_count": 77,
   "id": "9df96da1",
   "metadata": {},
   "outputs": [
    {
     "data": {
      "text/html": [
       "<div>\n",
       "<style scoped>\n",
       "    .dataframe tbody tr th:only-of-type {\n",
       "        vertical-align: middle;\n",
       "    }\n",
       "\n",
       "    .dataframe tbody tr th {\n",
       "        vertical-align: top;\n",
       "    }\n",
       "\n",
       "    .dataframe thead th {\n",
       "        text-align: right;\n",
       "    }\n",
       "</style>\n",
       "<table border=\"1\" class=\"dataframe\">\n",
       "  <thead>\n",
       "    <tr style=\"text-align: right;\">\n",
       "      <th></th>\n",
       "      <th>round_epochs</th>\n",
       "      <th>loss</th>\n",
       "      <th>val_loss</th>\n",
       "      <th>activation_layer</th>\n",
       "      <th>batc_normalization</th>\n",
       "      <th>batch_size</th>\n",
       "      <th>dropout</th>\n",
       "      <th>epochs</th>\n",
       "      <th>first_neuron</th>\n",
       "      <th>hidden_layers</th>\n",
       "      <th>hidden_neuron</th>\n",
       "      <th>kernel_initializer</th>\n",
       "      <th>last_activation</th>\n",
       "      <th>optimizer</th>\n",
       "      <th>nodes</th>\n",
       "      <th>links</th>\n",
       "      <th>val_loss_improvement</th>\n",
       "    </tr>\n",
       "  </thead>\n",
       "  <tbody>\n",
       "    <tr>\n",
       "      <th>1</th>\n",
       "      <td>117864</td>\n",
       "      <td>1.466849</td>\n",
       "      <td>22.681491</td>\n",
       "      <td>relu</td>\n",
       "      <td>False</td>\n",
       "      <td>128</td>\n",
       "      <td>0</td>\n",
       "      <td>1000000</td>\n",
       "      <td>250</td>\n",
       "      <td>2</td>\n",
       "      <td>25</td>\n",
       "      <td>orthogonal</td>\n",
       "      <td>linear</td>\n",
       "      <td>nadam</td>\n",
       "      <td>300</td>\n",
       "      <td>44850.0</td>\n",
       "      <td>-21.214643</td>\n",
       "    </tr>\n",
       "    <tr>\n",
       "      <th>0</th>\n",
       "      <td>291059</td>\n",
       "      <td>2.392027</td>\n",
       "      <td>21.243888</td>\n",
       "      <td>relu</td>\n",
       "      <td>False</td>\n",
       "      <td>128</td>\n",
       "      <td>0</td>\n",
       "      <td>1000000</td>\n",
       "      <td>250</td>\n",
       "      <td>2</td>\n",
       "      <td>25</td>\n",
       "      <td>orthogonal</td>\n",
       "      <td>linear</td>\n",
       "      <td>adadelta</td>\n",
       "      <td>300</td>\n",
       "      <td>44850.0</td>\n",
       "      <td>-18.851861</td>\n",
       "    </tr>\n",
       "  </tbody>\n",
       "</table>\n",
       "</div>"
      ],
      "text/plain": [
       "   round_epochs      loss   val_loss activation_layer  batc_normalization  \\\n",
       "1        117864  1.466849  22.681491             relu               False   \n",
       "0        291059  2.392027  21.243888             relu               False   \n",
       "\n",
       "   batch_size  dropout   epochs  first_neuron  hidden_layers  hidden_neuron  \\\n",
       "1         128        0  1000000           250              2             25   \n",
       "0         128        0  1000000           250              2             25   \n",
       "\n",
       "  kernel_initializer last_activation optimizer  nodes    links  \\\n",
       "1         orthogonal          linear     nadam    300  44850.0   \n",
       "0         orthogonal          linear  adadelta    300  44850.0   \n",
       "\n",
       "   val_loss_improvement  \n",
       "1            -21.214643  \n",
       "0            -18.851861  "
      ]
     },
     "execution_count": 77,
     "metadata": {},
     "output_type": "execute_result"
    }
   ],
   "source": [
    "df.sort_values('loss')"
   ]
  },
  {
   "cell_type": "markdown",
   "id": "conditional-plenty",
   "metadata": {},
   "source": [
    "## 3.2 Najlepszy wynik walidacji"
   ]
  },
  {
   "cell_type": "code",
   "execution_count": 78,
   "id": "superb-membership",
   "metadata": {},
   "outputs": [
    {
     "data": {
      "text/plain": [
       "21.24388774617513"
      ]
     },
     "execution_count": 78,
     "metadata": {},
     "output_type": "execute_result"
    }
   ],
   "source": [
    "min(df[\"val_loss\"])"
   ]
  },
  {
   "cell_type": "code",
   "execution_count": 79,
   "id": "sorted-death",
   "metadata": {},
   "outputs": [
    {
     "data": {
      "text/plain": [
       "(array([1., 0., 0., 0., 0., 0., 0., 0., 0., 1.]),\n",
       " array([21.24388775, 21.38764812, 21.5314085 , 21.67516887, 21.81892924,\n",
       "        21.96268962, 22.10644999, 22.25021037, 22.39397074, 22.53773112,\n",
       "        22.68149149]),\n",
       " <BarContainer object of 10 artists>)"
      ]
     },
     "execution_count": 79,
     "metadata": {},
     "output_type": "execute_result"
    },
    {
     "data": {
      "image/png": "[encoded data removed]",
      "text/plain": [
       "<Figure size 432x288 with 1 Axes>"
      ]
     },
     "metadata": {
      "needs_background": "light"
     },
     "output_type": "display_data"
    }
   ],
   "source": [
    "plt.hist(df[\"val_loss\"])"
   ]
  },
  {
   "cell_type": "markdown",
   "id": "reported-mumbai",
   "metadata": {},
   "source": [
    "## 3.3 Jednowymairowe zależności\n"
   ]
  },
  {
   "cell_type": "markdown",
   "id": "84c0082a",
   "metadata": {},
   "source": [
    "### 3.3.6 Optimizer"
   ]
  },
  {
   "cell_type": "code",
   "execution_count": 80,
   "id": "09088f73",
   "metadata": {},
   "outputs": [
    {
     "data": {
      "text/plain": [
       "Text(0.5, 1.0, 'Validation Loss as function of optimizer')"
      ]
     },
     "execution_count": 80,
     "metadata": {},
     "output_type": "execute_result"
    },
    {
     "data": {
      "image/png": "[encoded data removed]",
      "text/plain": [
       "<Figure size 432x288 with 1 Axes>"
      ]
     },
     "metadata": {
      "needs_background": "light"
     },
     "output_type": "display_data"
    }
   ],
   "source": [
    "metric = 'optimizer'\n",
    "ax = sns.boxplot(x=metric, y=\"val_loss\", data=df.reset_index(),color='salmon')\n",
    "ax.set_title(f'Validation Loss as function of {metric}')\n"
   ]
  },
  {
   "cell_type": "code",
   "execution_count": null,
   "id": "d351836b",
   "metadata": {},
   "outputs": [],
   "source": [
    "metric = 'optimizer'\n",
    "ax = sns.boxplot(x=metric, y=\"val_loss\", data=df.reset_index(),color='salmon')\n",
    "ax.set_ylim([20, 34]) \n",
    "ax.set_title('Optimizer')\n",
    "ax.set_ylabel('Absolute Error of validation')\n",
    "ax.set_xlabel('Optimizer')\n",
    "ax.set_title('EI Validation Loss as function of optimizer') #ta\n"
   ]
  }
 ],
 "metadata": {
  "kernelspec": {
   "display_name": "Python 3",
   "language": "python",
   "name": "python3"
  },
  "language_info": {
   "codemirror_mode": {
    "name": "ipython",
    "version": 3
   },
   "file_extension": ".py",
   "mimetype": "text/x-python",
   "name": "python",
   "nbconvert_exporter": "python",
   "pygments_lexer": "ipython3",
   "version": "3.7.10"
  }
 },
 "nbformat": 4,
 "nbformat_minor": 5
}
