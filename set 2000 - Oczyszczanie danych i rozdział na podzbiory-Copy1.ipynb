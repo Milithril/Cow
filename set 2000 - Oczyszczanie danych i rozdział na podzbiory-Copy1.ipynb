{
 "cells": [
  {
   "cell_type": "code",
   "execution_count": 3,
   "id": "a48ebc56",
   "metadata": {},
   "outputs": [],
   "source": [
    "from sklearn.model_selection import train_test_split\n",
    "import pandas as pd\n",
    "import csv\n",
    "import matplotlib.pyplot as plt\n",
    "%matplotlib inline\n",
    "import os\n",
    "import numpy as np"
   ]
  },
  {
   "cell_type": "markdown",
   "id": "5a13e13b",
   "metadata": {},
   "source": [
    "### 1. Wczytuje dane"
   ]
  },
  {
   "cell_type": "code",
   "execution_count": 15,
   "id": "f9fc9ec9",
   "metadata": {},
   "outputs": [
    {
     "data": {
      "text/plain": [
       "(2000, 35)"
      ]
     },
     "execution_count": 15,
     "metadata": {},
     "output_type": "execute_result"
    }
   ],
   "source": [
    "caly_df=pd.read_csv('D:/STUDIA/ROK_II/Projekt/Dane_jalowka_i_krowa.csv') \n",
    "caly_df.shape"
   ]
  },
  {
   "cell_type": "code",
   "execution_count": 16,
   "id": "4e8bb643",
   "metadata": {
    "scrolled": true
   },
   "outputs": [
    {
     "data": {
      "text/plain": [
       "['Pozycja',\n",
       " 'ID',\n",
       " 'Nazwa ojca',\n",
       " 'ID ojca',\n",
       " 'Obora',\n",
       " 'Hodowca',\n",
       " 'Województwo',\n",
       " 'Data urodzenia',\n",
       " 'IE',\n",
       " 'Dokł. IE',\n",
       " 'PF',\n",
       " 'PI-PROD',\n",
       " 'PI-POKR',\n",
       " 'Prc',\n",
       " 'Psm',\n",
       " 'Pnr',\n",
       " 'Pw',\n",
       " 'PI-PLOD',\n",
       " 'CRj',\n",
       " 'CRk',\n",
       " 'PP',\n",
       " 'OMC',\n",
       " 'WH-KSOM',\n",
       " 'WH-DLUG',\n",
       " 'IP',\n",
       " 'kg ml',\n",
       " 'kg tł',\n",
       " '% tł',\n",
       " 'kg bi',\n",
       " '% bi',\n",
       " 'rc',\n",
       " 'sm',\n",
       " 'nr',\n",
       " 'w',\n",
       " 'og']"
      ]
     },
     "execution_count": 16,
     "metadata": {},
     "output_type": "execute_result"
    }
   ],
   "source": [
    "list(caly_df)"
   ]
  },
  {
   "cell_type": "code",
   "execution_count": 17,
   "id": "7a95da5c",
   "metadata": {},
   "outputs": [
    {
     "data": {
      "text/html": [
       "<div>\n",
       "<style scoped>\n",
       "    .dataframe tbody tr th:only-of-type {\n",
       "        vertical-align: middle;\n",
       "    }\n",
       "\n",
       "    .dataframe tbody tr th {\n",
       "        vertical-align: top;\n",
       "    }\n",
       "\n",
       "    .dataframe thead th {\n",
       "        text-align: right;\n",
       "    }\n",
       "</style>\n",
       "<table border=\"1\" class=\"dataframe\">\n",
       "  <thead>\n",
       "    <tr style=\"text-align: right;\">\n",
       "      <th></th>\n",
       "      <th>Pozycja</th>\n",
       "      <th>ID</th>\n",
       "      <th>Nazwa ojca</th>\n",
       "      <th>ID ojca</th>\n",
       "      <th>Obora</th>\n",
       "      <th>Hodowca</th>\n",
       "      <th>Województwo</th>\n",
       "      <th>Data urodzenia</th>\n",
       "      <th>IE</th>\n",
       "      <th>Dokł. IE</th>\n",
       "      <th>...</th>\n",
       "      <th>kg ml</th>\n",
       "      <th>kg tł</th>\n",
       "      <th>% tł</th>\n",
       "      <th>kg bi</th>\n",
       "      <th>% bi</th>\n",
       "      <th>rc</th>\n",
       "      <th>sm</th>\n",
       "      <th>nr</th>\n",
       "      <th>w</th>\n",
       "      <th>og</th>\n",
       "    </tr>\n",
       "  </thead>\n",
       "  <tbody>\n",
       "    <tr>\n",
       "      <th>0</th>\n",
       "      <td>1</td>\n",
       "      <td>PL005435512906</td>\n",
       "      <td>EXPANSION</td>\n",
       "      <td>CA12857929</td>\n",
       "      <td>514481.0</td>\n",
       "      <td>PIETRUSZYŃSKI ADAM</td>\n",
       "      <td>PODLASKIE</td>\n",
       "      <td>2020</td>\n",
       "      <td>3165</td>\n",
       "      <td>66</td>\n",
       "      <td>...</td>\n",
       "      <td>1477</td>\n",
       "      <td>598</td>\n",
       "      <td>-1</td>\n",
       "      <td>439</td>\n",
       "      <td>-4</td>\n",
       "      <td>106.0</td>\n",
       "      <td>106.0</td>\n",
       "      <td>105.0</td>\n",
       "      <td>118.0</td>\n",
       "      <td>112.0</td>\n",
       "    </tr>\n",
       "    <tr>\n",
       "      <th>1</th>\n",
       "      <td>2</td>\n",
       "      <td>PL005435514047</td>\n",
       "      <td>EXPANSION</td>\n",
       "      <td>CA12857929</td>\n",
       "      <td>514481.0</td>\n",
       "      <td>PIETRUSZYŃSKI ADAM</td>\n",
       "      <td>PODLASKIE</td>\n",
       "      <td>2020</td>\n",
       "      <td>3010</td>\n",
       "      <td>66</td>\n",
       "      <td>...</td>\n",
       "      <td>1360</td>\n",
       "      <td>567</td>\n",
       "      <td>1</td>\n",
       "      <td>414</td>\n",
       "      <td>-3</td>\n",
       "      <td>104.0</td>\n",
       "      <td>103.0</td>\n",
       "      <td>103.0</td>\n",
       "      <td>116.0</td>\n",
       "      <td>110.0</td>\n",
       "    </tr>\n",
       "    <tr>\n",
       "      <th>2</th>\n",
       "      <td>3</td>\n",
       "      <td>PL005433807509</td>\n",
       "      <td>GARETT</td>\n",
       "      <td>DE1504336100</td>\n",
       "      <td>902181.0</td>\n",
       "      <td>HZINR POLANOWICE SP. Z O.O.</td>\n",
       "      <td>KUJAWSKO-POMORSKIE</td>\n",
       "      <td>2021</td>\n",
       "      <td>2981</td>\n",
       "      <td>65</td>\n",
       "      <td>...</td>\n",
       "      <td>1083</td>\n",
       "      <td>358</td>\n",
       "      <td>-10</td>\n",
       "      <td>458</td>\n",
       "      <td>12</td>\n",
       "      <td>105.0</td>\n",
       "      <td>106.0</td>\n",
       "      <td>125.0</td>\n",
       "      <td>132.0</td>\n",
       "      <td>123.0</td>\n",
       "    </tr>\n",
       "    <tr>\n",
       "      <th>3</th>\n",
       "      <td>4</td>\n",
       "      <td>PL005432792516</td>\n",
       "      <td>PREDATOR</td>\n",
       "      <td>DE0540259057</td>\n",
       "      <td>2101481.0</td>\n",
       "      <td>OHZ LUBIANA SP. Z O.O.</td>\n",
       "      <td>ZACHODNIOPOMORSKIE</td>\n",
       "      <td>2020</td>\n",
       "      <td>2941</td>\n",
       "      <td>65</td>\n",
       "      <td>...</td>\n",
       "      <td>885</td>\n",
       "      <td>494</td>\n",
       "      <td>16</td>\n",
       "      <td>379</td>\n",
       "      <td>11</td>\n",
       "      <td>112.0</td>\n",
       "      <td>110.0</td>\n",
       "      <td>116.0</td>\n",
       "      <td>129.0</td>\n",
       "      <td>125.0</td>\n",
       "    </tr>\n",
       "    <tr>\n",
       "      <th>4</th>\n",
       "      <td>5</td>\n",
       "      <td>PL005456057172</td>\n",
       "      <td>EXPANSION</td>\n",
       "      <td>CA12857929</td>\n",
       "      <td>5300761.0</td>\n",
       "      <td>KR KIETRZ SP. Z O.O.</td>\n",
       "      <td>OPOLSKIE</td>\n",
       "      <td>2020</td>\n",
       "      <td>2939</td>\n",
       "      <td>66</td>\n",
       "      <td>...</td>\n",
       "      <td>1294</td>\n",
       "      <td>477</td>\n",
       "      <td>-6</td>\n",
       "      <td>502</td>\n",
       "      <td>9</td>\n",
       "      <td>106.0</td>\n",
       "      <td>103.0</td>\n",
       "      <td>112.0</td>\n",
       "      <td>122.0</td>\n",
       "      <td>113.0</td>\n",
       "    </tr>\n",
       "  </tbody>\n",
       "</table>\n",
       "<p>5 rows × 35 columns</p>\n",
       "</div>"
      ],
      "text/plain": [
       "   Pozycja              ID Nazwa ojca       ID ojca      Obora  \\\n",
       "0        1  PL005435512906  EXPANSION    CA12857929   514481.0   \n",
       "1        2  PL005435514047  EXPANSION    CA12857929   514481.0   \n",
       "2        3  PL005433807509     GARETT  DE1504336100   902181.0   \n",
       "3        4  PL005432792516   PREDATOR  DE0540259057  2101481.0   \n",
       "4        5  PL005456057172  EXPANSION    CA12857929  5300761.0   \n",
       "\n",
       "                       Hodowca         Województwo  Data urodzenia    IE  \\\n",
       "0           PIETRUSZYŃSKI ADAM           PODLASKIE            2020  3165   \n",
       "1           PIETRUSZYŃSKI ADAM           PODLASKIE            2020  3010   \n",
       "2  HZINR POLANOWICE SP. Z O.O.  KUJAWSKO-POMORSKIE            2021  2981   \n",
       "3       OHZ LUBIANA SP. Z O.O.  ZACHODNIOPOMORSKIE            2020  2941   \n",
       "4         KR KIETRZ SP. Z O.O.            OPOLSKIE            2020  2939   \n",
       "\n",
       "   Dokł. IE  ...  kg ml  kg tł  % tł  kg bi  % bi     rc     sm     nr      w  \\\n",
       "0        66  ...   1477    598    -1    439    -4  106.0  106.0  105.0  118.0   \n",
       "1        66  ...   1360    567     1    414    -3  104.0  103.0  103.0  116.0   \n",
       "2        65  ...   1083    358   -10    458    12  105.0  106.0  125.0  132.0   \n",
       "3        65  ...    885    494    16    379    11  112.0  110.0  116.0  129.0   \n",
       "4        66  ...   1294    477    -6    502     9  106.0  103.0  112.0  122.0   \n",
       "\n",
       "      og  \n",
       "0  112.0  \n",
       "1  110.0  \n",
       "2  123.0  \n",
       "3  125.0  \n",
       "4  113.0  \n",
       "\n",
       "[5 rows x 35 columns]"
      ]
     },
     "execution_count": 17,
     "metadata": {},
     "output_type": "execute_result"
    }
   ],
   "source": [
    "caly_df.head()"
   ]
  },
  {
   "cell_type": "markdown",
   "id": "303d3c53",
   "metadata": {},
   "source": [
    "### 2. Klasyfikuje wpisy na jałówki i krowy"
   ]
  },
  {
   "cell_type": "code",
   "execution_count": 18,
   "id": "84b9f0af",
   "metadata": {},
   "outputs": [],
   "source": [
    "caly_df.loc[caly_df['Pozycja'] >= 500, 'kategoria'] = 'krowa'\n",
    "caly_df.loc[caly_df['Pozycja'] < 500, 'kategoria'] = 'jalowka'"
   ]
  },
  {
   "cell_type": "markdown",
   "id": "389b0f08",
   "metadata": {},
   "source": [
    "### 3. Sprawdzam czy są brakujące dane"
   ]
  },
  {
   "cell_type": "code",
   "execution_count": 19,
   "id": "c205da4c",
   "metadata": {
    "scrolled": true
   },
   "outputs": [
    {
     "data": {
      "text/plain": [
       "Pozycja            0\n",
       "ID                 0\n",
       "Nazwa ojca         0\n",
       "ID ojca            0\n",
       "Obora             72\n",
       "Hodowca           72\n",
       "Województwo       72\n",
       "Data urodzenia     0\n",
       "IE                 0\n",
       "Dokł. IE           0\n",
       "PF                 0\n",
       "PI-PROD            0\n",
       "PI-POKR            0\n",
       "Prc                0\n",
       "Psm                0\n",
       "Pnr                0\n",
       "Pw                 0\n",
       "PI-PLOD            0\n",
       "CRj                0\n",
       "CRk                0\n",
       "PP                 0\n",
       "OMC                0\n",
       "WH-KSOM            0\n",
       "WH-DLUG            0\n",
       "IP                 0\n",
       "kg ml              0\n",
       "kg tł              0\n",
       "% tł               0\n",
       "kg bi              0\n",
       "% bi               0\n",
       "rc                47\n",
       "sm                47\n",
       "nr                47\n",
       "w                 47\n",
       "og                47\n",
       "kategoria          0\n",
       "dtype: int64"
      ]
     },
     "execution_count": 19,
     "metadata": {},
     "output_type": "execute_result"
    }
   ],
   "source": [
    "caly_df.isnull().sum()"
   ]
  },
  {
   "cell_type": "code",
   "execution_count": 20,
   "id": "0b3ccf94",
   "metadata": {},
   "outputs": [],
   "source": [
    "caly_df=caly_df.dropna()"
   ]
  },
  {
   "cell_type": "code",
   "execution_count": 21,
   "id": "4acd5d11",
   "metadata": {},
   "outputs": [
    {
     "data": {
      "text/plain": [
       "(1881, 36)"
      ]
     },
     "execution_count": 21,
     "metadata": {},
     "output_type": "execute_result"
    }
   ],
   "source": [
    "caly_df.shape"
   ]
  },
  {
   "cell_type": "markdown",
   "id": "bfc6bf82",
   "metadata": {},
   "source": [
    "Usuwam 119 wpisów z pustymi zmiennymi"
   ]
  },
  {
   "cell_type": "code",
   "execution_count": 22,
   "id": "58d1f54a",
   "metadata": {},
   "outputs": [
    {
     "data": {
      "text/plain": [
       "WIELKOPOLSKIE          579\n",
       "KUJAWSKO-POMORSKIE     298\n",
       "OPOLSKIE               227\n",
       "ZACHODNIOPOMORSKIE     212\n",
       "PODLASKIE              175\n",
       "MAZOWIECKIE            106\n",
       "POMORSKIE               94\n",
       "LUBUSKIE                47\n",
       "ŁÓDZKIE                 41\n",
       "DOLNOŚLĄSKIE            32\n",
       "WARMIŃSKO-MAZURSKIE     23\n",
       "ŚLĄSKIE                 17\n",
       "ŚWIĘTOKRZYSKIE          13\n",
       "MAŁOPOLSKIE             12\n",
       "LUBELSKIE                4\n",
       "PODKARPACKIE             1\n",
       "Name: Województwo, dtype: int64"
      ]
     },
     "execution_count": 22,
     "metadata": {},
     "output_type": "execute_result"
    }
   ],
   "source": [
    "caly_df['Województwo'].value_counts()"
   ]
  },
  {
   "cell_type": "markdown",
   "id": "d809f362",
   "metadata": {},
   "source": [
    "### 4. Usuwam nie informatywne zmienne"
   ]
  },
  {
   "cell_type": "code",
   "execution_count": 23,
   "id": "680ace76",
   "metadata": {},
   "outputs": [],
   "source": [
    "del caly_df['Pozycja']\n",
    "del caly_df['ID']\n",
    "del caly_df['Nazwa ojca']\n",
    "del caly_df['ID ojca']\n",
    "del caly_df['Obora']\n",
    "del caly_df['Hodowca']"
   ]
  },
  {
   "cell_type": "markdown",
   "id": "d68f7444",
   "metadata": {},
   "source": [
    "### 5. Rozdzielam na podzbiory"
   ]
  },
  {
   "cell_type": "code",
   "execution_count": 24,
   "id": "8dc44a34",
   "metadata": {},
   "outputs": [],
   "source": [
    "train_df, test_df = train_test_split(caly_df, test_size=0.2, random_state=42,stratify=caly_df['kategoria'])\n",
    "test_df, val_df = train_test_split(test_df, test_size=0.5, random_state=42,stratify=test_df['kategoria'])\n"
   ]
  },
  {
   "cell_type": "code",
   "execution_count": 25,
   "id": "8f941ae5",
   "metadata": {},
   "outputs": [],
   "source": [
    "train_df.to_csv('D:/STUDIA/ROK_II/Projekt/Dane_jalowka_i_krowa_train.csv', encoding=\"utf-8\")\n",
    "test_df.to_csv('D:/STUDIA/ROK_II/Projekt/Dane_jalowka_i_krowa_test.csv', encoding=\"utf-8\")\n",
    "val_df.to_csv('D:/STUDIA/ROK_II/Projekt/Dane_jalowka_i_krowa_val.csv', encoding=\"utf-8\")\n"
   ]
  },
  {
   "cell_type": "code",
   "execution_count": null,
   "id": "78803adc",
   "metadata": {},
   "outputs": [],
   "source": []
  }
 ],
 "metadata": {
  "kernelspec": {
   "display_name": "Python 3",
   "language": "python",
   "name": "python3"
  },
  "language_info": {
   "codemirror_mode": {
    "name": "ipython",
    "version": 3
   },
   "file_extension": ".py",
   "mimetype": "text/x-python",
   "name": "python",
   "nbconvert_exporter": "python",
   "pygments_lexer": "ipython3",
   "version": "3.7.10"
  }
 },
 "nbformat": 4,
 "nbformat_minor": 5
}
