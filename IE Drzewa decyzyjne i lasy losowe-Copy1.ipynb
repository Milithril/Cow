{
 "cells": [
  {
   "cell_type": "markdown",
   "metadata": {
    "id": "bPV-6xysFeQ1"
   },
   "source": [
    "# Zastosowanie drzew decyzyjnych oraz lasów losowych przy, gdzie y reprezentowany jest przez dane typu ciągłego**\n"
   ]
  },
  {
   "cell_type": "markdown",
   "metadata": {},
   "source": [
    "## 1. Biblioteki"
   ]
  },
  {
   "cell_type": "code",
   "execution_count": 1,
   "metadata": {
    "id": "JJMNYhNp0ejg"
   },
   "outputs": [],
   "source": [
    "import pandas as pd\n",
    "import sklearn.tree\n",
    "import numpy as np\n",
    "from sklearn.tree import DecisionTreeRegressor  #ładowanie fukcji do tworzenia instacji drzew dla Y ciaglego\n",
    "from sklearn.metrics import mean_absolute_error, r2_score #funkcje do badania dopasowania modelu\n",
    "from sklearn.ensemble import RandomForestRegressor #ladowanie funkcji RandomForestRegressor do tworzenia instancji algorytmu\n",
    "from sklearn.ensemble import GradientBoostingRegressor \n",
    "import dtreeviz.trees as dtv # importowanie dtreeviz\n",
    "from sklearn.model_selection import GridSearchCV\n",
    "from sklearn.metrics import mean_absolute_error\n",
    "from dtreeviz.trees import *\n",
    "\n",
    "\n",
    "import xgboost as xgb\n",
    "from sklearn.model_selection import train_test_split\n",
    "from sklearn.model_selection import cross_val_score, KFold\n",
    "from sklearn.metrics import mean_absolute_error\n",
    "import matplotlib.pyplot as plt \n",
    "\n",
    "from sklearn.feature_selection import RFECV\n",
    "from sklearn.metrics import make_scorer\n",
    "\n",
    "import graphviz"
   ]
  },
  {
   "cell_type": "markdown",
   "metadata": {},
   "source": [
    "## 2. Wczytuje  i sprawdzam typ danych"
   ]
  },
  {
   "cell_type": "code",
   "execution_count": 2,
   "metadata": {},
   "outputs": [],
   "source": [
    "train_df=pd.read_csv('D:/STUDIA/ROK_II/Projekt/Dane_jalowka_i_krowa_train.csv')\n",
    "test_df=pd.read_csv('D:/STUDIA/ROK_II/Projekt/Dane_jalowka_i_krowa_test.csv')\n",
    "val_df=pd.read_csv('D:/STUDIA/ROK_II/Projekt/Dane_jalowka_i_krowa_val.csv')\n",
    "\n",
    "train_df.columns = ['id','Województwo', 'Data urodzenia', 'IE', 'Dokł. IE', 'PF', 'PI-PROD', 'PI-POKR', 'Prc', 'Psm', 'Pnr', 'Pw','PI-PLOD', 'CRj', 'CRk', 'PP', 'OMC', 'WH-KSOM', 'WH-DLUG', 'IP', 'kg ml', 'kg tł', '% tł', 'kg bi', '% bi', 'rc', 'sm', 'nr', 'w', 'og','kategoria']\n",
    "test_df.columns = ['id','Województwo', 'Data urodzenia', 'IE', 'Dokł. IE', 'PF', 'PI-PROD', 'PI-POKR', 'Prc', 'Psm', 'Pnr', 'Pw','PI-PLOD', 'CRj', 'CRk', 'PP', 'OMC', 'WH-KSOM', 'WH-DLUG', 'IP', 'kg ml', 'kg tł', '% tł', 'kg bi', '% bi', 'rc', 'sm', 'nr', 'w', 'og','kategoria']\n",
    "val_df.columns = ['id','Województwo', 'Data urodzenia', 'IE', 'Dokł. IE', 'PF', 'PI-PROD', 'PI-POKR', 'Prc', 'Psm', 'Pnr', 'Pw','PI-PLOD', 'CRj', 'CRk', 'PP', 'OMC', 'WH-KSOM', 'WH-DLUG', 'IP', 'kg ml', 'kg tł', '% tł', 'kg bi', '% bi', 'rc', 'sm', 'nr', 'w', 'og','kategoria']\n",
    "\n",
    "caly_df = pd.concat([train_df, test_df, val_df])\n",
    "caly_df['Województwo']=caly_df['Województwo'].astype('category')\n",
    "caly_df['Data urodzenia']=caly_df['Data urodzenia'].astype('category')\n",
    "\n",
    "del caly_df[\"id\"]\n",
    "del caly_df[\"PF\"]\n",
    "del caly_df[\"Dokł. IE\"]\n",
    "del caly_df['kategoria']"
   ]
  },
  {
   "cell_type": "code",
   "execution_count": 3,
   "metadata": {},
   "outputs": [
    {
     "name": "stdout",
     "output_type": "stream",
     "text": [
      "<class 'pandas.core.frame.DataFrame'>\n",
      "Int64Index: 1881 entries, 0 to 188\n",
      "Data columns (total 27 columns):\n",
      " #   Column          Non-Null Count  Dtype   \n",
      "---  ------          --------------  -----   \n",
      " 0   Województwo     1881 non-null   category\n",
      " 1   Data urodzenia  1881 non-null   category\n",
      " 2   IE              1881 non-null   int64   \n",
      " 3   PI-PROD         1881 non-null   int64   \n",
      " 4   PI-POKR         1881 non-null   int64   \n",
      " 5   Prc             1881 non-null   int64   \n",
      " 6   Psm             1881 non-null   int64   \n",
      " 7   Pnr             1881 non-null   int64   \n",
      " 8   Pw              1881 non-null   int64   \n",
      " 9   PI-PLOD         1881 non-null   int64   \n",
      " 10  CRj             1881 non-null   int64   \n",
      " 11  CRk             1881 non-null   int64   \n",
      " 12  PP              1881 non-null   int64   \n",
      " 13  OMC             1881 non-null   int64   \n",
      " 14  WH-KSOM         1881 non-null   int64   \n",
      " 15  WH-DLUG         1881 non-null   int64   \n",
      " 16  IP              1881 non-null   int64   \n",
      " 17  kg ml           1881 non-null   int64   \n",
      " 18  kg tł           1881 non-null   int64   \n",
      " 19  % tł            1881 non-null   int64   \n",
      " 20  kg bi           1881 non-null   int64   \n",
      " 21  % bi            1881 non-null   int64   \n",
      " 22  rc              1881 non-null   float64 \n",
      " 23  sm              1881 non-null   float64 \n",
      " 24  nr              1881 non-null   float64 \n",
      " 25  w               1881 non-null   float64 \n",
      " 26  og              1881 non-null   float64 \n",
      "dtypes: category(2), float64(5), int64(20)\n",
      "memory usage: 386.8 KB\n"
     ]
    }
   ],
   "source": [
    "caly_df.info()"
   ]
  },
  {
   "cell_type": "markdown",
   "metadata": {},
   "source": [
    "### 3. Usuwam mniejszości zmiennych kategorycznych "
   ]
  },
  {
   "cell_type": "code",
   "execution_count": 4,
   "metadata": {},
   "outputs": [
    {
     "data": {
      "text/plain": [
       "WIELKOPOLSKIE          579\n",
       "KUJAWSKO-POMORSKIE     298\n",
       "OPOLSKIE               227\n",
       "ZACHODNIOPOMORSKIE     212\n",
       "PODLASKIE              175\n",
       "MAZOWIECKIE            106\n",
       "POMORSKIE               94\n",
       "LUBUSKIE                47\n",
       "ŁÓDZKIE                 41\n",
       "DOLNOŚLĄSKIE            32\n",
       "WARMIŃSKO-MAZURSKIE     23\n",
       "ŚLĄSKIE                 17\n",
       "ŚWIĘTOKRZYSKIE          13\n",
       "MAŁOPOLSKIE             12\n",
       "LUBELSKIE                4\n",
       "PODKARPACKIE             1\n",
       "Name: Województwo, dtype: int64"
      ]
     },
     "execution_count": 4,
     "metadata": {},
     "output_type": "execute_result"
    }
   ],
   "source": [
    "caly_df['Województwo'].value_counts()"
   ]
  },
  {
   "cell_type": "code",
   "execution_count": 5,
   "metadata": {},
   "outputs": [],
   "source": [
    "caly_df=caly_df[caly_df['Województwo']!='PODKARPACKIE']\n",
    "caly_df=caly_df[caly_df['Województwo']!='LUBELSKIE']"
   ]
  },
  {
   "cell_type": "code",
   "execution_count": 6,
   "metadata": {},
   "outputs": [
    {
     "data": {
      "text/plain": [
       "WIELKOPOLSKIE          579\n",
       "KUJAWSKO-POMORSKIE     298\n",
       "OPOLSKIE               227\n",
       "ZACHODNIOPOMORSKIE     212\n",
       "PODLASKIE              175\n",
       "MAZOWIECKIE            106\n",
       "POMORSKIE               94\n",
       "LUBUSKIE                47\n",
       "ŁÓDZKIE                 41\n",
       "DOLNOŚLĄSKIE            32\n",
       "WARMIŃSKO-MAZURSKIE     23\n",
       "ŚLĄSKIE                 17\n",
       "ŚWIĘTOKRZYSKIE          13\n",
       "MAŁOPOLSKIE             12\n",
       "LUBELSKIE                0\n",
       "PODKARPACKIE             0\n",
       "Name: Województwo, dtype: int64"
      ]
     },
     "execution_count": 6,
     "metadata": {},
     "output_type": "execute_result"
    }
   ],
   "source": [
    "caly_df['Województwo'].value_counts()"
   ]
  },
  {
   "cell_type": "code",
   "execution_count": 7,
   "metadata": {},
   "outputs": [
    {
     "data": {
      "text/plain": [
       "2020    1066\n",
       "2019     396\n",
       "2018     275\n",
       "2017      68\n",
       "2021      47\n",
       "2016      23\n",
       "2015       1\n",
       "Name: Data urodzenia, dtype: int64"
      ]
     },
     "execution_count": 7,
     "metadata": {},
     "output_type": "execute_result"
    }
   ],
   "source": [
    "caly_df['Data urodzenia'].value_counts()"
   ]
  },
  {
   "cell_type": "code",
   "execution_count": 8,
   "metadata": {},
   "outputs": [],
   "source": [
    "caly_df=caly_df[caly_df['Data urodzenia']!=2015]"
   ]
  },
  {
   "cell_type": "code",
   "execution_count": 9,
   "metadata": {},
   "outputs": [
    {
     "data": {
      "text/plain": [
       "2020    1066\n",
       "2019     396\n",
       "2018     275\n",
       "2017      68\n",
       "2021      47\n",
       "2016      23\n",
       "2015       0\n",
       "Name: Data urodzenia, dtype: int64"
      ]
     },
     "execution_count": 9,
     "metadata": {},
     "output_type": "execute_result"
    }
   ],
   "source": [
    "caly_df['Data urodzenia'].value_counts()"
   ]
  },
  {
   "cell_type": "code",
   "execution_count": 10,
   "metadata": {},
   "outputs": [],
   "source": [
    "caly_label=caly_df[\"IE\"]\n",
    "del caly_df[\"IE\"]"
   ]
  },
  {
   "cell_type": "markdown",
   "metadata": {},
   "source": [
    "### 4. Zakodowuje zmienne kategoryczne "
   ]
  },
  {
   "cell_type": "code",
   "execution_count": 11,
   "metadata": {},
   "outputs": [],
   "source": [
    "a=pd.get_dummies(caly_df['Województwo'])\n",
    "b=pd.get_dummies(caly_df['Data urodzenia'])\n",
    "caly_df= pd.concat([caly_df,a,b], axis=1)\n",
    "del caly_df['Województwo']\n",
    "del caly_df['Data urodzenia']"
   ]
  },
  {
   "cell_type": "code",
   "execution_count": 12,
   "metadata": {},
   "outputs": [
    {
     "data": {
      "text/html": [
       "<div>\n",
       "<style scoped>\n",
       "    .dataframe tbody tr th:only-of-type {\n",
       "        vertical-align: middle;\n",
       "    }\n",
       "\n",
       "    .dataframe tbody tr th {\n",
       "        vertical-align: top;\n",
       "    }\n",
       "\n",
       "    .dataframe thead th {\n",
       "        text-align: right;\n",
       "    }\n",
       "</style>\n",
       "<table border=\"1\" class=\"dataframe\">\n",
       "  <thead>\n",
       "    <tr style=\"text-align: right;\">\n",
       "      <th></th>\n",
       "      <th>PI-PROD</th>\n",
       "      <th>PI-POKR</th>\n",
       "      <th>Prc</th>\n",
       "      <th>Psm</th>\n",
       "      <th>Pnr</th>\n",
       "      <th>Pw</th>\n",
       "      <th>PI-PLOD</th>\n",
       "      <th>CRj</th>\n",
       "      <th>CRk</th>\n",
       "      <th>PP</th>\n",
       "      <th>...</th>\n",
       "      <th>ŁÓDZKIE</th>\n",
       "      <th>ŚLĄSKIE</th>\n",
       "      <th>ŚWIĘTOKRZYSKIE</th>\n",
       "      <th>2015</th>\n",
       "      <th>2016</th>\n",
       "      <th>2017</th>\n",
       "      <th>2018</th>\n",
       "      <th>2019</th>\n",
       "      <th>2020</th>\n",
       "      <th>2021</th>\n",
       "    </tr>\n",
       "  </thead>\n",
       "  <tbody>\n",
       "    <tr>\n",
       "      <th>0</th>\n",
       "      <td>137</td>\n",
       "      <td>127</td>\n",
       "      <td>121</td>\n",
       "      <td>113</td>\n",
       "      <td>106</td>\n",
       "      <td>128</td>\n",
       "      <td>109</td>\n",
       "      <td>107</td>\n",
       "      <td>110</td>\n",
       "      <td>101</td>\n",
       "      <td>...</td>\n",
       "      <td>0</td>\n",
       "      <td>0</td>\n",
       "      <td>0</td>\n",
       "      <td>0</td>\n",
       "      <td>0</td>\n",
       "      <td>0</td>\n",
       "      <td>0</td>\n",
       "      <td>0</td>\n",
       "      <td>1</td>\n",
       "      <td>0</td>\n",
       "    </tr>\n",
       "    <tr>\n",
       "      <th>1</th>\n",
       "      <td>126</td>\n",
       "      <td>123</td>\n",
       "      <td>109</td>\n",
       "      <td>113</td>\n",
       "      <td>103</td>\n",
       "      <td>128</td>\n",
       "      <td>114</td>\n",
       "      <td>114</td>\n",
       "      <td>113</td>\n",
       "      <td>94</td>\n",
       "      <td>...</td>\n",
       "      <td>0</td>\n",
       "      <td>0</td>\n",
       "      <td>0</td>\n",
       "      <td>0</td>\n",
       "      <td>0</td>\n",
       "      <td>0</td>\n",
       "      <td>1</td>\n",
       "      <td>0</td>\n",
       "      <td>0</td>\n",
       "      <td>0</td>\n",
       "    </tr>\n",
       "    <tr>\n",
       "      <th>2</th>\n",
       "      <td>126</td>\n",
       "      <td>120</td>\n",
       "      <td>110</td>\n",
       "      <td>107</td>\n",
       "      <td>102</td>\n",
       "      <td>124</td>\n",
       "      <td>113</td>\n",
       "      <td>112</td>\n",
       "      <td>117</td>\n",
       "      <td>94</td>\n",
       "      <td>...</td>\n",
       "      <td>0</td>\n",
       "      <td>0</td>\n",
       "      <td>0</td>\n",
       "      <td>0</td>\n",
       "      <td>0</td>\n",
       "      <td>0</td>\n",
       "      <td>0</td>\n",
       "      <td>0</td>\n",
       "      <td>1</td>\n",
       "      <td>0</td>\n",
       "    </tr>\n",
       "    <tr>\n",
       "      <th>3</th>\n",
       "      <td>133</td>\n",
       "      <td>111</td>\n",
       "      <td>104</td>\n",
       "      <td>110</td>\n",
       "      <td>99</td>\n",
       "      <td>114</td>\n",
       "      <td>114</td>\n",
       "      <td>113</td>\n",
       "      <td>126</td>\n",
       "      <td>89</td>\n",
       "      <td>...</td>\n",
       "      <td>0</td>\n",
       "      <td>0</td>\n",
       "      <td>0</td>\n",
       "      <td>0</td>\n",
       "      <td>0</td>\n",
       "      <td>0</td>\n",
       "      <td>0</td>\n",
       "      <td>0</td>\n",
       "      <td>1</td>\n",
       "      <td>0</td>\n",
       "    </tr>\n",
       "    <tr>\n",
       "      <th>4</th>\n",
       "      <td>125</td>\n",
       "      <td>115</td>\n",
       "      <td>91</td>\n",
       "      <td>95</td>\n",
       "      <td>101</td>\n",
       "      <td>124</td>\n",
       "      <td>134</td>\n",
       "      <td>129</td>\n",
       "      <td>133</td>\n",
       "      <td>102</td>\n",
       "      <td>...</td>\n",
       "      <td>0</td>\n",
       "      <td>0</td>\n",
       "      <td>0</td>\n",
       "      <td>0</td>\n",
       "      <td>0</td>\n",
       "      <td>0</td>\n",
       "      <td>0</td>\n",
       "      <td>0</td>\n",
       "      <td>1</td>\n",
       "      <td>0</td>\n",
       "    </tr>\n",
       "    <tr>\n",
       "      <th>...</th>\n",
       "      <td>...</td>\n",
       "      <td>...</td>\n",
       "      <td>...</td>\n",
       "      <td>...</td>\n",
       "      <td>...</td>\n",
       "      <td>...</td>\n",
       "      <td>...</td>\n",
       "      <td>...</td>\n",
       "      <td>...</td>\n",
       "      <td>...</td>\n",
       "      <td>...</td>\n",
       "      <td>...</td>\n",
       "      <td>...</td>\n",
       "      <td>...</td>\n",
       "      <td>...</td>\n",
       "      <td>...</td>\n",
       "      <td>...</td>\n",
       "      <td>...</td>\n",
       "      <td>...</td>\n",
       "      <td>...</td>\n",
       "      <td>...</td>\n",
       "    </tr>\n",
       "    <tr>\n",
       "      <th>184</th>\n",
       "      <td>134</td>\n",
       "      <td>119</td>\n",
       "      <td>112</td>\n",
       "      <td>115</td>\n",
       "      <td>106</td>\n",
       "      <td>118</td>\n",
       "      <td>102</td>\n",
       "      <td>103</td>\n",
       "      <td>108</td>\n",
       "      <td>92</td>\n",
       "      <td>...</td>\n",
       "      <td>0</td>\n",
       "      <td>0</td>\n",
       "      <td>0</td>\n",
       "      <td>0</td>\n",
       "      <td>0</td>\n",
       "      <td>0</td>\n",
       "      <td>0</td>\n",
       "      <td>0</td>\n",
       "      <td>1</td>\n",
       "      <td>0</td>\n",
       "    </tr>\n",
       "    <tr>\n",
       "      <th>185</th>\n",
       "      <td>132</td>\n",
       "      <td>117</td>\n",
       "      <td>103</td>\n",
       "      <td>103</td>\n",
       "      <td>107</td>\n",
       "      <td>119</td>\n",
       "      <td>93</td>\n",
       "      <td>94</td>\n",
       "      <td>102</td>\n",
       "      <td>96</td>\n",
       "      <td>...</td>\n",
       "      <td>0</td>\n",
       "      <td>0</td>\n",
       "      <td>0</td>\n",
       "      <td>0</td>\n",
       "      <td>0</td>\n",
       "      <td>0</td>\n",
       "      <td>1</td>\n",
       "      <td>0</td>\n",
       "      <td>0</td>\n",
       "      <td>0</td>\n",
       "    </tr>\n",
       "    <tr>\n",
       "      <th>186</th>\n",
       "      <td>120</td>\n",
       "      <td>109</td>\n",
       "      <td>106</td>\n",
       "      <td>97</td>\n",
       "      <td>96</td>\n",
       "      <td>115</td>\n",
       "      <td>120</td>\n",
       "      <td>114</td>\n",
       "      <td>134</td>\n",
       "      <td>100</td>\n",
       "      <td>...</td>\n",
       "      <td>0</td>\n",
       "      <td>0</td>\n",
       "      <td>0</td>\n",
       "      <td>0</td>\n",
       "      <td>0</td>\n",
       "      <td>0</td>\n",
       "      <td>0</td>\n",
       "      <td>1</td>\n",
       "      <td>0</td>\n",
       "      <td>0</td>\n",
       "    </tr>\n",
       "    <tr>\n",
       "      <th>187</th>\n",
       "      <td>113</td>\n",
       "      <td>114</td>\n",
       "      <td>97</td>\n",
       "      <td>94</td>\n",
       "      <td>103</td>\n",
       "      <td>120</td>\n",
       "      <td>114</td>\n",
       "      <td>104</td>\n",
       "      <td>115</td>\n",
       "      <td>132</td>\n",
       "      <td>...</td>\n",
       "      <td>1</td>\n",
       "      <td>0</td>\n",
       "      <td>0</td>\n",
       "      <td>0</td>\n",
       "      <td>0</td>\n",
       "      <td>0</td>\n",
       "      <td>1</td>\n",
       "      <td>0</td>\n",
       "      <td>0</td>\n",
       "      <td>0</td>\n",
       "    </tr>\n",
       "    <tr>\n",
       "      <th>188</th>\n",
       "      <td>126</td>\n",
       "      <td>117</td>\n",
       "      <td>107</td>\n",
       "      <td>100</td>\n",
       "      <td>104</td>\n",
       "      <td>121</td>\n",
       "      <td>110</td>\n",
       "      <td>107</td>\n",
       "      <td>119</td>\n",
       "      <td>101</td>\n",
       "      <td>...</td>\n",
       "      <td>0</td>\n",
       "      <td>0</td>\n",
       "      <td>0</td>\n",
       "      <td>0</td>\n",
       "      <td>0</td>\n",
       "      <td>0</td>\n",
       "      <td>0</td>\n",
       "      <td>0</td>\n",
       "      <td>1</td>\n",
       "      <td>0</td>\n",
       "    </tr>\n",
       "  </tbody>\n",
       "</table>\n",
       "<p>1875 rows × 47 columns</p>\n",
       "</div>"
      ],
      "text/plain": [
       "     PI-PROD  PI-POKR  Prc  Psm  Pnr   Pw  PI-PLOD  CRj  CRk   PP  ...  \\\n",
       "0        137      127  121  113  106  128      109  107  110  101  ...   \n",
       "1        126      123  109  113  103  128      114  114  113   94  ...   \n",
       "2        126      120  110  107  102  124      113  112  117   94  ...   \n",
       "3        133      111  104  110   99  114      114  113  126   89  ...   \n",
       "4        125      115   91   95  101  124      134  129  133  102  ...   \n",
       "..       ...      ...  ...  ...  ...  ...      ...  ...  ...  ...  ...   \n",
       "184      134      119  112  115  106  118      102  103  108   92  ...   \n",
       "185      132      117  103  103  107  119       93   94  102   96  ...   \n",
       "186      120      109  106   97   96  115      120  114  134  100  ...   \n",
       "187      113      114   97   94  103  120      114  104  115  132  ...   \n",
       "188      126      117  107  100  104  121      110  107  119  101  ...   \n",
       "\n",
       "     ŁÓDZKIE  ŚLĄSKIE  ŚWIĘTOKRZYSKIE  2015  2016  2017  2018  2019  2020  \\\n",
       "0          0        0               0     0     0     0     0     0     1   \n",
       "1          0        0               0     0     0     0     1     0     0   \n",
       "2          0        0               0     0     0     0     0     0     1   \n",
       "3          0        0               0     0     0     0     0     0     1   \n",
       "4          0        0               0     0     0     0     0     0     1   \n",
       "..       ...      ...             ...   ...   ...   ...   ...   ...   ...   \n",
       "184        0        0               0     0     0     0     0     0     1   \n",
       "185        0        0               0     0     0     0     1     0     0   \n",
       "186        0        0               0     0     0     0     0     1     0   \n",
       "187        1        0               0     0     0     0     1     0     0   \n",
       "188        0        0               0     0     0     0     0     0     1   \n",
       "\n",
       "     2021  \n",
       "0       0  \n",
       "1       0  \n",
       "2       0  \n",
       "3       0  \n",
       "4       0  \n",
       "..    ...  \n",
       "184     0  \n",
       "185     0  \n",
       "186     0  \n",
       "187     0  \n",
       "188     0  \n",
       "\n",
       "[1875 rows x 47 columns]"
      ]
     },
     "execution_count": 12,
     "metadata": {},
     "output_type": "execute_result"
    }
   ],
   "source": [
    "caly_df"
   ]
  },
  {
   "cell_type": "code",
   "execution_count": 13,
   "metadata": {},
   "outputs": [
    {
     "name": "stdout",
     "output_type": "stream",
     "text": [
      "<class 'pandas.core.frame.DataFrame'>\n",
      "Int64Index: 1875 entries, 0 to 188\n",
      "Data columns (total 47 columns):\n",
      " #   Column               Non-Null Count  Dtype  \n",
      "---  ------               --------------  -----  \n",
      " 0   PI-PROD              1875 non-null   int64  \n",
      " 1   PI-POKR              1875 non-null   int64  \n",
      " 2   Prc                  1875 non-null   int64  \n",
      " 3   Psm                  1875 non-null   int64  \n",
      " 4   Pnr                  1875 non-null   int64  \n",
      " 5   Pw                   1875 non-null   int64  \n",
      " 6   PI-PLOD              1875 non-null   int64  \n",
      " 7   CRj                  1875 non-null   int64  \n",
      " 8   CRk                  1875 non-null   int64  \n",
      " 9   PP                   1875 non-null   int64  \n",
      " 10  OMC                  1875 non-null   int64  \n",
      " 11  WH-KSOM              1875 non-null   int64  \n",
      " 12  WH-DLUG              1875 non-null   int64  \n",
      " 13  IP                   1875 non-null   int64  \n",
      " 14  kg ml                1875 non-null   int64  \n",
      " 15  kg tł                1875 non-null   int64  \n",
      " 16  % tł                 1875 non-null   int64  \n",
      " 17  kg bi                1875 non-null   int64  \n",
      " 18  % bi                 1875 non-null   int64  \n",
      " 19  rc                   1875 non-null   float64\n",
      " 20  sm                   1875 non-null   float64\n",
      " 21  nr                   1875 non-null   float64\n",
      " 22  w                    1875 non-null   float64\n",
      " 23  og                   1875 non-null   float64\n",
      " 24  DOLNOŚLĄSKIE         1875 non-null   uint8  \n",
      " 25  KUJAWSKO-POMORSKIE   1875 non-null   uint8  \n",
      " 26  LUBELSKIE            1875 non-null   uint8  \n",
      " 27  LUBUSKIE             1875 non-null   uint8  \n",
      " 28  MAZOWIECKIE          1875 non-null   uint8  \n",
      " 29  MAŁOPOLSKIE          1875 non-null   uint8  \n",
      " 30  OPOLSKIE             1875 non-null   uint8  \n",
      " 31  PODKARPACKIE         1875 non-null   uint8  \n",
      " 32  PODLASKIE            1875 non-null   uint8  \n",
      " 33  POMORSKIE            1875 non-null   uint8  \n",
      " 34  WARMIŃSKO-MAZURSKIE  1875 non-null   uint8  \n",
      " 35  WIELKOPOLSKIE        1875 non-null   uint8  \n",
      " 36  ZACHODNIOPOMORSKIE   1875 non-null   uint8  \n",
      " 37  ŁÓDZKIE              1875 non-null   uint8  \n",
      " 38  ŚLĄSKIE              1875 non-null   uint8  \n",
      " 39  ŚWIĘTOKRZYSKIE       1875 non-null   uint8  \n",
      " 40  2015                 1875 non-null   uint8  \n",
      " 41  2016                 1875 non-null   uint8  \n",
      " 42  2017                 1875 non-null   uint8  \n",
      " 43  2018                 1875 non-null   uint8  \n",
      " 44  2019                 1875 non-null   uint8  \n",
      " 45  2020                 1875 non-null   uint8  \n",
      " 46  2021                 1875 non-null   uint8  \n",
      "dtypes: float64(5), int64(19), uint8(23)\n",
      "memory usage: 408.3 KB\n"
     ]
    }
   ],
   "source": [
    "caly_df.info()"
   ]
  },
  {
   "cell_type": "markdown",
   "metadata": {},
   "source": [
    "### 5. Tworzę metrykę do oceny dobierania parametrów\n"
   ]
  },
  {
   "cell_type": "code",
   "execution_count": 14,
   "metadata": {},
   "outputs": [],
   "source": [
    "mae_scorer = make_scorer(mean_absolute_error)"
   ]
  },
  {
   "cell_type": "markdown",
   "metadata": {},
   "source": [
    "## 6 Modele"
   ]
  },
  {
   "cell_type": "code",
   "execution_count": 15,
   "metadata": {},
   "outputs": [],
   "source": [
    "# Drzewa, lasy, gradient boosting i XGBR nie wymagają standaryzacji"
   ]
  },
  {
   "cell_type": "markdown",
   "metadata": {},
   "source": [
    "### 6.1 Drzewa decyzyjne"
   ]
  },
  {
   "cell_type": "markdown",
   "metadata": {},
   "source": [
    "#### 6.1.1 Dobieranie zmiennych"
   ]
  },
  {
   "cell_type": "code",
   "execution_count": 16,
   "metadata": {},
   "outputs": [],
   "source": [
    "estimator=DecisionTreeRegressor()\n",
    "selector = RFECV(estimator, step=1, cv=5,scoring=mae_scorer)\n",
    "selector2 = selector.fit(caly_df, caly_label)\n"
   ]
  },
  {
   "cell_type": "code",
   "execution_count": 17,
   "metadata": {},
   "outputs": [
    {
     "data": {
      "text/plain": [
       "array([17, 12, 22, 14, 16, 20,  2, 23,  8,  9, 15,  3,  5,  1,  6, 10, 24,\n",
       "        4, 19, 25, 18, 31, 21, 26, 42, 27, 44, 34, 33, 43, 36, 46, 29, 30,\n",
       "       45, 32, 28, 38, 35, 40, 41, 39, 47, 37, 11,  7, 13])"
      ]
     },
     "execution_count": 17,
     "metadata": {},
     "output_type": "execute_result"
    }
   ],
   "source": [
    "selector2.ranking_"
   ]
  },
  {
   "cell_type": "code",
   "execution_count": 18,
   "metadata": {},
   "outputs": [],
   "source": [
    "nazwy_kolumn=caly_df.columns\n",
    "dictionary = dict(zip(nazwy_kolumn, selector2.ranking_))\n",
    "dictionary= dict(sorted(dictionary.items(), key=lambda item: item[1]))"
   ]
  },
  {
   "cell_type": "code",
   "execution_count": 19,
   "metadata": {
    "scrolled": true
   },
   "outputs": [
    {
     "data": {
      "text/plain": [
       "{'IP': 1,\n",
       " 'PI-PLOD': 2,\n",
       " 'WH-KSOM': 3,\n",
       " 'kg bi': 4,\n",
       " 'WH-DLUG': 5,\n",
       " 'kg ml': 6,\n",
       " 2020: 7,\n",
       " 'CRk': 8,\n",
       " 'PP': 9,\n",
       " 'kg tł': 10,\n",
       " 2019: 11,\n",
       " 'PI-POKR': 12,\n",
       " 2021: 13,\n",
       " 'Psm': 14,\n",
       " 'OMC': 15,\n",
       " 'Pnr': 16,\n",
       " 'PI-PROD': 17,\n",
       " 'sm': 18,\n",
       " '% bi': 19,\n",
       " 'Pw': 20,\n",
       " 'w': 21,\n",
       " 'Prc': 22,\n",
       " 'CRj': 23,\n",
       " '% tł': 24,\n",
       " 'rc': 25,\n",
       " 'og': 26,\n",
       " 'KUJAWSKO-POMORSKIE': 27,\n",
       " 'ZACHODNIOPOMORSKIE': 28,\n",
       " 'PODLASKIE': 29,\n",
       " 'POMORSKIE': 30,\n",
       " 'nr': 31,\n",
       " 'WIELKOPOLSKIE': 32,\n",
       " 'MAZOWIECKIE': 33,\n",
       " 'LUBUSKIE': 34,\n",
       " 'ŚLĄSKIE': 35,\n",
       " 'OPOLSKIE': 36,\n",
       " 2018: 37,\n",
       " 'ŁÓDZKIE': 38,\n",
       " 2016: 39,\n",
       " 'ŚWIĘTOKRZYSKIE': 40,\n",
       " 2015: 41,\n",
       " 'DOLNOŚLĄSKIE': 42,\n",
       " 'MAŁOPOLSKIE': 43,\n",
       " 'LUBELSKIE': 44,\n",
       " 'WARMIŃSKO-MAZURSKIE': 45,\n",
       " 'PODKARPACKIE': 46,\n",
       " 2017: 47}"
      ]
     },
     "execution_count": 19,
     "metadata": {},
     "output_type": "execute_result"
    }
   ],
   "source": [
    "dictionary"
   ]
  },
  {
   "cell_type": "code",
   "execution_count": 20,
   "metadata": {},
   "outputs": [],
   "source": [
    "nazwy_kolumn_2=[]\n",
    "for x in dictionary.keys():\n",
    "    nazwy_kolumn_2.append(x)"
   ]
  },
  {
   "cell_type": "code",
   "execution_count": 21,
   "metadata": {},
   "outputs": [],
   "source": [
    "caly_df_zapas=caly_df"
   ]
  },
  {
   "cell_type": "code",
   "execution_count": 22,
   "metadata": {
    "scrolled": true
   },
   "outputs": [
    {
     "data": {
      "text/plain": [
       "['IP',\n",
       " 'PI-PLOD',\n",
       " 'WH-KSOM',\n",
       " 'kg bi',\n",
       " 'WH-DLUG',\n",
       " 'kg ml',\n",
       " 2020,\n",
       " 'CRk',\n",
       " 'PP',\n",
       " 'kg tł',\n",
       " 2019,\n",
       " 'PI-POKR',\n",
       " 2021,\n",
       " 'Psm',\n",
       " 'OMC',\n",
       " 'Pnr',\n",
       " 'PI-PROD',\n",
       " 'sm',\n",
       " '% bi',\n",
       " 'Pw',\n",
       " 'w',\n",
       " 'Prc',\n",
       " 'CRj',\n",
       " '% tł',\n",
       " 'rc',\n",
       " 'og',\n",
       " 'KUJAWSKO-POMORSKIE',\n",
       " 'ZACHODNIOPOMORSKIE',\n",
       " 'PODLASKIE',\n",
       " 'POMORSKIE',\n",
       " 'nr',\n",
       " 'WIELKOPOLSKIE',\n",
       " 'MAZOWIECKIE',\n",
       " 'LUBUSKIE',\n",
       " 'ŚLĄSKIE',\n",
       " 'OPOLSKIE',\n",
       " 2018,\n",
       " 'ŁÓDZKIE',\n",
       " 2016,\n",
       " 'ŚWIĘTOKRZYSKIE',\n",
       " 2015,\n",
       " 'DOLNOŚLĄSKIE',\n",
       " 'MAŁOPOLSKIE',\n",
       " 'LUBELSKIE',\n",
       " 'WARMIŃSKO-MAZURSKIE',\n",
       " 'PODKARPACKIE',\n",
       " 2017]"
      ]
     },
     "execution_count": 22,
     "metadata": {},
     "output_type": "execute_result"
    }
   ],
   "source": [
    "nazwy_kolumn_2"
   ]
  },
  {
   "cell_type": "code",
   "execution_count": 23,
   "metadata": {
    "scrolled": true
   },
   "outputs": [],
   "source": [
    "dane_do_porownania=pd.DataFrame(columns=[\"Liczba zmiennych\",\n",
    "                                    \"Błąd\"]\n",
    "                                )\n",
    "glowne_wyniki=[]\n",
    "glowne_zmienne=[]\n",
    "zm=[]\n",
    "for i in range(0,len(nazwy_kolumn_2)):\n",
    "    zmienne=[]\n",
    "    for q in range(0,i+1):\n",
    "        zmienne.append(nazwy_kolumn_2[q])\n",
    "    zm.append(zmienne)\n",
    "    data_frame=caly_df_zapas[zmienne]\n",
    "    kfold = KFold(n_splits=5, shuffle=False)\n",
    "\n",
    "    data_frame = np.array(data_frame)\n",
    "    caly_label = np.array(caly_label)\n",
    "    \n",
    "    wyniki=[]\n",
    "    \n",
    "    for train, test in kfold.split(data_frame, caly_label):\n",
    "        reg = DecisionTreeRegressor()\n",
    "        reg.fit(data_frame[train], caly_label[train])\n",
    "        predykcje=reg.predict(data_frame[test])\n",
    "        \n",
    "        dane_folda=pd.DataFrame({\"pred\": predykcje.ravel(),\n",
    "                                    \"obs\": caly_label[test]\n",
    "                                })\n",
    "        \n",
    "        dane_folda['blad']=abs(dane_folda['obs']-dane_folda['pred'])\n",
    "        mae=dane_folda['blad'].sum()/len(dane_folda['blad'])\n",
    "        wyniki.append(mae)\n",
    "        \n",
    "    wynik=sum(wyniki)/len(wyniki)\n",
    "    glowne_wyniki.append(wynik)\n",
    "    glowne_zmienne.append(i)\n",
    "\n",
    "                       "
   ]
  },
  {
   "cell_type": "code",
   "execution_count": 24,
   "metadata": {},
   "outputs": [],
   "source": [
    "dane_do_porownania[\"Liczba zmiennych\"]=glowne_zmienne\n",
    "dane_do_porownania[\"Błąd\"]=glowne_wyniki"
   ]
  },
  {
   "cell_type": "code",
   "execution_count": 25,
   "metadata": {},
   "outputs": [
    {
     "data": {
      "text/plain": [
       "7"
      ]
     },
     "execution_count": 25,
     "metadata": {},
     "output_type": "execute_result"
    }
   ],
   "source": [
    "list(dane_do_porownania[\"Błąd\"]).index(min(list(dane_do_porownania[\"Błąd\"])))"
   ]
  },
  {
   "cell_type": "code",
   "execution_count": 27,
   "metadata": {},
   "outputs": [],
   "source": [
    "zmienne_8=zm[list(dane_do_porownania[\"Błąd\"]).index(min(list(dane_do_porownania[\"Błąd\"])))]"
   ]
  },
  {
   "cell_type": "code",
   "execution_count": 26,
   "metadata": {},
   "outputs": [],
   "source": [
    "dane_do_porownania.to_csv('Wyniki REFCV Drzewa losowe IE.csv',index=False)"
   ]
  },
  {
   "cell_type": "code",
   "execution_count": 28,
   "metadata": {},
   "outputs": [
    {
     "name": "stdout",
     "output_type": "stream",
     "text": [
      "['IP', 'PI-PLOD', 'WH-KSOM', 'kg bi', 'WH-DLUG', 2020, 'kg ml', 'CRk', 'PP']\n"
     ]
    }
   ],
   "source": [
    "print(zmienne_8)"
   ]
  },
  {
   "cell_type": "code",
   "execution_count": 30,
   "metadata": {},
   "outputs": [],
   "source": [
    "#zmienne_8=['IP', 'PI-PLOD', 'WH-KSOM', 'kg bi', 'WH-DLUG', 2020, 'kg ml', 'CRk', 'PP']"
   ]
  },
  {
   "cell_type": "code",
   "execution_count": 29,
   "metadata": {},
   "outputs": [
    {
     "data": {
      "text/plain": [
       "47"
      ]
     },
     "execution_count": 29,
     "metadata": {},
     "output_type": "execute_result"
    }
   ],
   "source": [
    "len(dane_do_porownania[\"Błąd\"])"
   ]
  },
  {
   "cell_type": "code",
   "execution_count": 30,
   "metadata": {},
   "outputs": [
    {
     "data": {
      "image/png": "[encoded data removed]",
      "text/plain": [
       "<Figure size 432x288 with 1 Axes>"
      ]
     },
     "metadata": {
      "needs_background": "light"
     },
     "output_type": "display_data"
    }
   ],
   "source": [
    "plt.plot(list(dane_do_porownania[\"Błąd\"]))\n",
    "plt.axvline(x=list(dane_do_porownania[\"Błąd\"]).index(min(list(dane_do_porownania[\"Błąd\"]))), color='r', linestyle='-')\n",
    "plt.show()"
   ]
  },
  {
   "cell_type": "code",
   "execution_count": 31,
   "metadata": {},
   "outputs": [],
   "source": [
    "zestaw_caly=caly_df_zapas\n",
    "zestaw_8=caly_df_zapas[zmienne_8]\n"
   ]
  },
  {
   "cell_type": "code",
   "execution_count": 32,
   "metadata": {},
   "outputs": [],
   "source": [
    "zestaw_caly = np.array(zestaw_caly)\n",
    "zestaw_8 = np.array(zestaw_8)\n",
    "\n",
    "caly_label = np.array(caly_label)"
   ]
  },
  {
   "cell_type": "markdown",
   "metadata": {},
   "source": [
    "### 6.2 Hiperparametry drzewa losowego"
   ]
  },
  {
   "cell_type": "code",
   "execution_count": 33,
   "metadata": {},
   "outputs": [],
   "source": [
    "param_grid = {\n",
    "    'criterion':['mae'],\n",
    "    'splitter':['best', 'random'],\n",
    "    'min_samples_split':range(2,20,5),\n",
    "    'min_samples_leaf': range(1,20,5),    \n",
    "    'max_leaf_nodes':range(2,20,5),\n",
    "    'min_impurity_decrease':range(1,20,5),\n",
    "    'max_depth':list(range(2, 20,5))\n",
    "}"
   ]
  },
  {
   "cell_type": "markdown",
   "metadata": {},
   "source": [
    "### 6.2.1 Wszystkie dane"
   ]
  },
  {
   "cell_type": "markdown",
   "metadata": {},
   "source": [
    "#### 6.2.1.1 Wszystkie dane part 1"
   ]
  },
  {
   "cell_type": "code",
   "execution_count": 36,
   "metadata": {},
   "outputs": [
    {
     "name": "stdout",
     "output_type": "stream",
     "text": [
      "Fitting 2 folds for each of 2048 candidates, totalling 4096 fits\n"
     ]
    },
    {
     "data": {
      "text/plain": [
       "GridSearchCV(cv=2, estimator=DecisionTreeRegressor(), n_jobs=1,\n",
       "             param_grid={'criterion': ['mae'], 'max_depth': [2, 7, 12, 17],\n",
       "                         'max_leaf_nodes': range(2, 20, 5),\n",
       "                         'min_impurity_decrease': range(1, 20, 5),\n",
       "                         'min_samples_leaf': range(1, 20, 5),\n",
       "                         'min_samples_split': range(2, 20, 5),\n",
       "                         'splitter': ['best', 'random']},\n",
       "             scoring='neg_mean_absolute_error', verbose=1)"
      ]
     },
     "execution_count": 36,
     "metadata": {},
     "output_type": "execute_result"
    }
   ],
   "source": [
    "dt_1 = DecisionTreeRegressor()\n",
    "grid_search_1 = GridSearchCV(estimator = dt_1, param_grid = param_grid, \n",
    "                          cv = 2, n_jobs = 1, verbose = 1,scoring='neg_mean_absolute_error')\n",
    "grid_search_1.fit(zestaw_caly, np.ravel(caly_label))"
   ]
  },
  {
   "cell_type": "code",
   "execution_count": 37,
   "metadata": {},
   "outputs": [
    {
     "data": {
      "text/plain": [
       "{'criterion': 'mae',\n",
       " 'max_depth': 7,\n",
       " 'max_leaf_nodes': 17,\n",
       " 'min_impurity_decrease': 1,\n",
       " 'min_samples_leaf': 6,\n",
       " 'min_samples_split': 2,\n",
       " 'splitter': 'best'}"
      ]
     },
     "execution_count": 37,
     "metadata": {},
     "output_type": "execute_result"
    }
   ],
   "source": [
    "grid_search_1.best_params_"
   ]
  },
  {
   "cell_type": "code",
   "execution_count": 38,
   "metadata": {},
   "outputs": [
    {
     "data": {
      "text/plain": [
       "DecisionTreeRegressor(criterion='mae', max_depth=7, max_leaf_nodes=17,\n",
       "                      min_impurity_decrease=1, min_samples_leaf=6)"
      ]
     },
     "execution_count": 38,
     "metadata": {},
     "output_type": "execute_result"
    }
   ],
   "source": [
    "grid_search_1.best_estimator_"
   ]
  },
  {
   "cell_type": "code",
   "execution_count": 39,
   "metadata": {},
   "outputs": [
    {
     "data": {
      "text/plain": [
       "-91.17773317055521"
      ]
     },
     "execution_count": 39,
     "metadata": {},
     "output_type": "execute_result"
    }
   ],
   "source": [
    "grid_search_1.best_score_"
   ]
  },
  {
   "cell_type": "markdown",
   "metadata": {},
   "source": [
    "#### 6.2.1.2 Zestaw 8 part 1 "
   ]
  },
  {
   "cell_type": "code",
   "execution_count": 34,
   "metadata": {},
   "outputs": [
    {
     "name": "stdout",
     "output_type": "stream",
     "text": [
      "Fitting 2 folds for each of 2048 candidates, totalling 4096 fits\n"
     ]
    },
    {
     "data": {
      "text/plain": [
       "GridSearchCV(cv=2, estimator=DecisionTreeRegressor(), n_jobs=1,\n",
       "             param_grid={'criterion': ['mae'], 'max_depth': [2, 7, 12, 17],\n",
       "                         'max_leaf_nodes': range(2, 20, 5),\n",
       "                         'min_impurity_decrease': range(1, 20, 5),\n",
       "                         'min_samples_leaf': range(1, 20, 5),\n",
       "                         'min_samples_split': range(2, 20, 5),\n",
       "                         'splitter': ['best', 'random']},\n",
       "             scoring='neg_mean_absolute_error', verbose=1)"
      ]
     },
     "execution_count": 34,
     "metadata": {},
     "output_type": "execute_result"
    }
   ],
   "source": [
    "dt_2 = DecisionTreeRegressor()\n",
    "grid_search_2 = GridSearchCV(estimator = dt_2, param_grid = param_grid, \n",
    "                          cv = 2, n_jobs = 1, verbose = 1,scoring='neg_mean_absolute_error')\n",
    "grid_search_2.fit(zestaw_8, np.ravel(caly_label))"
   ]
  },
  {
   "cell_type": "code",
   "execution_count": 35,
   "metadata": {
    "scrolled": true
   },
   "outputs": [
    {
     "data": {
      "text/plain": [
       "{'criterion': 'mae',\n",
       " 'max_depth': 7,\n",
       " 'max_leaf_nodes': 17,\n",
       " 'min_impurity_decrease': 1,\n",
       " 'min_samples_leaf': 6,\n",
       " 'min_samples_split': 2,\n",
       " 'splitter': 'best'}"
      ]
     },
     "execution_count": 35,
     "metadata": {},
     "output_type": "execute_result"
    }
   ],
   "source": [
    "grid_search_2.best_params_"
   ]
  },
  {
   "cell_type": "code",
   "execution_count": 40,
   "metadata": {},
   "outputs": [
    {
     "data": {
      "text/plain": [
       "-97.49635854118642"
      ]
     },
     "execution_count": 40,
     "metadata": {},
     "output_type": "execute_result"
    }
   ],
   "source": [
    "grid_search_2.best_score_"
   ]
  },
  {
   "cell_type": "markdown",
   "metadata": {},
   "source": [
    "### 6.3 Cros validacja dla drzewa decyzyjnego"
   ]
  },
  {
   "cell_type": "markdown",
   "metadata": {},
   "source": [
    "#### 6.3.1 Cros validacja dla drzewa decyzyjnego Zestaw 8"
   ]
  },
  {
   "cell_type": "code",
   "execution_count": 33,
   "metadata": {},
   "outputs": [],
   "source": [
    "kfold = KFold(n_splits=5, shuffle=False)\n",
    "dane_do_zapisu_1=pd.DataFrame()\n",
    "licznik=1\n",
    "wart_1=[]\n",
    "\n",
    "for train, test in kfold.split(zestaw_8, caly_label):\n",
    "    dt_1 = DecisionTreeRegressor(\n",
    "    criterion='mae',\n",
    " max_depth=7,\n",
    " max_leaf_nodes=17,\n",
    " min_impurity_decrease= 1,\n",
    " min_samples_leaf=16,\n",
    " min_samples_split= 2,\n",
    " splitter='best')\n",
    "    \n",
    "    \n",
    "    dt_1.fit(zestaw_8[train], caly_label[train])\n",
    "    predykcje=dt_1.predict(zestaw_8[test])\n",
    "    dane_folda_1=pd.DataFrame({\"pred\": predykcje.ravel(),\n",
    "                                \"obs\": caly_label[test],\n",
    "                                \"Fold\":licznik})\n",
    "    dane_do_zapisu_1=pd.concat([dane_do_zapisu_1,dane_folda_1])\n",
    "    sredni_blad=mean_absolute_error(caly_label[test],predykcje)\n",
    "    wart_1.append(sredni_blad)\n",
    "    licznik+=1"
   ]
  },
  {
   "cell_type": "code",
   "execution_count": 34,
   "metadata": {},
   "outputs": [
    {
     "data": {
      "text/plain": [
       "[109.05066666666667, 88.94533333333334, 98.764, 96.03466666666667, 92.64]"
      ]
     },
     "execution_count": 34,
     "metadata": {},
     "output_type": "execute_result"
    }
   ],
   "source": [
    "wart_1"
   ]
  },
  {
   "cell_type": "code",
   "execution_count": 35,
   "metadata": {},
   "outputs": [
    {
     "data": {
      "text/plain": [
       "97.08693333333333"
      ]
     },
     "execution_count": 35,
     "metadata": {},
     "output_type": "execute_result"
    }
   ],
   "source": [
    "sum(wart_1)/len(wart_1)"
   ]
  },
  {
   "cell_type": "markdown",
   "metadata": {},
   "source": [
    "#### 6.3.2 Cros validacja dla drzewa decyzyjnego Wszystkie dane"
   ]
  },
  {
   "cell_type": "code",
   "execution_count": 36,
   "metadata": {},
   "outputs": [],
   "source": [
    "kfold = KFold(n_splits=5, shuffle=False)\n",
    "dane_do_zapisu_2=pd.DataFrame()\n",
    "licznik=1\n",
    "wart_2=[]\n",
    "for train, test in kfold.split(zestaw_caly, caly_label):\n",
    "    dt_2 =DecisionTreeRegressor(criterion='mae',\n",
    " max_depth=7,\n",
    " max_leaf_nodes=17,\n",
    " min_impurity_decrease= 1,\n",
    " min_samples_leaf= 6,\n",
    " min_samples_split= 7,\n",
    " splitter='best')\n",
    "    \n",
    "    dt_2.fit(zestaw_caly[train], caly_label[train])\n",
    "    predykcje=dt_2.predict(zestaw_caly[test])\n",
    "    dane_folda_2=pd.DataFrame({\"pred\": predykcje.ravel(),\n",
    "                                \"obs\": caly_label[test],\n",
    "                                \"Fold\":licznik})\n",
    "    dane_do_zapisu_2=pd.concat([dane_do_zapisu_2,dane_folda_2])\n",
    "    sredni_blad=mean_absolute_error(caly_label[test],predykcje) #y tre, y pred\n",
    "    wart_2.append(sredni_blad)\n",
    "    licznik+=1"
   ]
  },
  {
   "cell_type": "code",
   "execution_count": 37,
   "metadata": {},
   "outputs": [
    {
     "data": {
      "text/plain": [
       "[101.0, 89.924, 91.124, 86.44, 89.92533333333333]"
      ]
     },
     "execution_count": 37,
     "metadata": {},
     "output_type": "execute_result"
    }
   ],
   "source": [
    "wart_2"
   ]
  },
  {
   "cell_type": "code",
   "execution_count": 38,
   "metadata": {},
   "outputs": [
    {
     "data": {
      "text/plain": [
       "91.68266666666666"
      ]
     },
     "execution_count": 38,
     "metadata": {},
     "output_type": "execute_result"
    }
   ],
   "source": [
    "sum(wart_2)/len(wart_2)"
   ]
  },
  {
   "cell_type": "markdown",
   "metadata": {},
   "source": [
    "### 6.4 Tworzę graf dla drzewa decyzyjnego wszystkie dane"
   ]
  },
  {
   "cell_type": "code",
   "execution_count": 50,
   "metadata": {},
   "outputs": [
    {
     "data": {
      "image/svg+xml": [
       "<?xml version=\"1.0\" encoding=\"UTF-8\" standalone=\"no\"?>\r\n",
       "<!DOCTYPE svg PUBLIC \"-//W3C//DTD SVG 1.1//EN\"\r\n",
       " \"http://www.w3.org/Graphics/SVG/1.1/DTD/svg11.dtd\">\r\n",
       "<!-- Generated by graphviz version 2.38.0 (20140413.2041)\r\n",
       " -->\r\n",
       "<!-- Title: Tree Pages: 1 -->\r\n",
       "<svg width=\"973pt\" height=\"789pt\"\r\n",
       " viewBox=\"0.00 0.00 973.00 789.00\" xmlns=\"http://www.w3.org/2000/svg\" xmlns:xlink=\"http://www.w3.org/1999/xlink\">\r\n",
       "<g id=\"graph0\" class=\"graph\" transform=\"scale(1 1) rotate(0) translate(4 785)\">\r\n",
       "<title>Tree</title>\r\n",
       "<polygon fill=\"white\" stroke=\"none\" points=\"-4,4 -4,-785 969,-785 969,4 -4,4\"/>\r\n",
       "<!-- 0 -->\r\n",
       "<g id=\"node1\" class=\"node\"><title>0</title>\r\n",
       "<path fill=\"#f9e4d5\" stroke=\"black\" d=\"M685,-781C685,-781 590,-781 590,-781 584,-781 578,-775 578,-769 578,-769 578,-725 578,-725 578,-719 584,-713 590,-713 590,-713 685,-713 685,-713 691,-713 697,-719 697,-725 697,-725 697,-769 697,-769 697,-775 691,-781 685,-781\"/>\r\n",
       "<text text-anchor=\"middle\" x=\"637.5\" y=\"-765.8\" font-family=\"Helvetica,sans-Serif\" font-size=\"14.00\">2018 &lt;= 0.5</text>\r\n",
       "<text text-anchor=\"middle\" x=\"637.5\" y=\"-750.8\" font-family=\"Helvetica,sans-Serif\" font-size=\"14.00\">mae = 114.989</text>\r\n",
       "<text text-anchor=\"middle\" x=\"637.5\" y=\"-735.8\" font-family=\"Helvetica,sans-Serif\" font-size=\"14.00\">samples = 1500</text>\r\n",
       "<text text-anchor=\"middle\" x=\"637.5\" y=\"-720.8\" font-family=\"Helvetica,sans-Serif\" font-size=\"14.00\">value = 2155.0</text>\r\n",
       "</g>\r\n",
       "<!-- 1 -->\r\n",
       "<g id=\"node2\" class=\"node\"><title>1</title>\r\n",
       "<path fill=\"#f9e2d2\" stroke=\"black\" d=\"M625.5,-677C625.5,-677 501.5,-677 501.5,-677 495.5,-677 489.5,-671 489.5,-665 489.5,-665 489.5,-621 489.5,-621 489.5,-615 495.5,-609 501.5,-609 501.5,-609 625.5,-609 625.5,-609 631.5,-609 637.5,-615 637.5,-621 637.5,-621 637.5,-665 637.5,-665 637.5,-671 631.5,-677 625.5,-677\"/>\r\n",
       "<text text-anchor=\"middle\" x=\"563.5\" y=\"-661.8\" font-family=\"Helvetica,sans-Serif\" font-size=\"14.00\">WH&#45;KSOM &lt;= 128.5</text>\r\n",
       "<text text-anchor=\"middle\" x=\"563.5\" y=\"-646.8\" font-family=\"Helvetica,sans-Serif\" font-size=\"14.00\">mae = 109.793</text>\r\n",
       "<text text-anchor=\"middle\" x=\"563.5\" y=\"-631.8\" font-family=\"Helvetica,sans-Serif\" font-size=\"14.00\">samples = 1280</text>\r\n",
       "<text text-anchor=\"middle\" x=\"563.5\" y=\"-616.8\" font-family=\"Helvetica,sans-Serif\" font-size=\"14.00\">value = 2168.5</text>\r\n",
       "</g>\r\n",
       "<!-- 0&#45;&gt;1 -->\r\n",
       "<g id=\"edge1\" class=\"edge\"><title>0&#45;&gt;1</title>\r\n",
       "<path fill=\"none\" stroke=\"black\" d=\"M613.474,-712.884C607.141,-704.154 600.228,-694.625 593.618,-685.514\"/>\r\n",
       "<polygon fill=\"black\" stroke=\"black\" points=\"596.364,-683.338 587.658,-677.299 590.698,-687.449 596.364,-683.338\"/>\r\n",
       "<text text-anchor=\"middle\" x=\"583.73\" y=\"-698.289\" font-family=\"Helvetica,sans-Serif\" font-size=\"14.00\">True</text>\r\n",
       "</g>\r\n",
       "<!-- 2 -->\r\n",
       "<g id=\"node31\" class=\"node\"><title>2</title>\r\n",
       "<path fill=\"#fdf6f1\" stroke=\"black\" d=\"M755,-669.5C755,-669.5 668,-669.5 668,-669.5 662,-669.5 656,-663.5 656,-657.5 656,-657.5 656,-628.5 656,-628.5 656,-622.5 662,-616.5 668,-616.5 668,-616.5 755,-616.5 755,-616.5 761,-616.5 767,-622.5 767,-628.5 767,-628.5 767,-657.5 767,-657.5 767,-663.5 761,-669.5 755,-669.5\"/>\r\n",
       "<text text-anchor=\"middle\" x=\"711.5\" y=\"-654.3\" font-family=\"Helvetica,sans-Serif\" font-size=\"14.00\">mae = 95.05</text>\r\n",
       "<text text-anchor=\"middle\" x=\"711.5\" y=\"-639.3\" font-family=\"Helvetica,sans-Serif\" font-size=\"14.00\">samples = 220</text>\r\n",
       "<text text-anchor=\"middle\" x=\"711.5\" y=\"-624.3\" font-family=\"Helvetica,sans-Serif\" font-size=\"14.00\">value = 2031.0</text>\r\n",
       "</g>\r\n",
       "<!-- 0&#45;&gt;2 -->\r\n",
       "<g id=\"edge30\" class=\"edge\"><title>0&#45;&gt;2</title>\r\n",
       "<path fill=\"none\" stroke=\"black\" d=\"M661.526,-712.884C669.664,-701.666 678.761,-689.126 686.941,-677.852\"/>\r\n",
       "<polygon fill=\"black\" stroke=\"black\" points=\"689.946,-679.669 692.986,-669.52 684.28,-675.559 689.946,-679.669\"/>\r\n",
       "<text text-anchor=\"middle\" x=\"696.913\" y=\"-690.509\" font-family=\"Helvetica,sans-Serif\" font-size=\"14.00\">False</text>\r\n",
       "</g>\r\n",
       "<!-- 3 -->\r\n",
       "<g id=\"node3\" class=\"node\"><title>3</title>\r\n",
       "<path fill=\"#f9e4d4\" stroke=\"black\" d=\"M545,-573C545,-573 450,-573 450,-573 444,-573 438,-567 438,-561 438,-561 438,-517 438,-517 438,-511 444,-505 450,-505 450,-505 545,-505 545,-505 551,-505 557,-511 557,-517 557,-517 557,-561 557,-561 557,-567 551,-573 545,-573\"/>\r\n",
       "<text text-anchor=\"middle\" x=\"497.5\" y=\"-557.8\" font-family=\"Helvetica,sans-Serif\" font-size=\"14.00\">2017 &lt;= 0.5</text>\r\n",
       "<text text-anchor=\"middle\" x=\"497.5\" y=\"-542.8\" font-family=\"Helvetica,sans-Serif\" font-size=\"14.00\">mae = 92.64</text>\r\n",
       "<text text-anchor=\"middle\" x=\"497.5\" y=\"-527.8\" font-family=\"Helvetica,sans-Serif\" font-size=\"14.00\">samples = 1102</text>\r\n",
       "<text text-anchor=\"middle\" x=\"497.5\" y=\"-512.8\" font-family=\"Helvetica,sans-Serif\" font-size=\"14.00\">value = 2158.0</text>\r\n",
       "</g>\r\n",
       "<!-- 1&#45;&gt;3 -->\r\n",
       "<g id=\"edge2\" class=\"edge\"><title>1&#45;&gt;3</title>\r\n",
       "<path fill=\"none\" stroke=\"black\" d=\"M542.072,-608.884C536.481,-600.243 530.383,-590.819 524.542,-581.793\"/>\r\n",
       "<polygon fill=\"black\" stroke=\"black\" points=\"527.418,-579.794 519.047,-573.299 521.541,-583.596 527.418,-579.794\"/>\r\n",
       "</g>\r\n",
       "<!-- 4 -->\r\n",
       "<g id=\"node20\" class=\"node\"><title>4</title>\r\n",
       "<path fill=\"#f5ceb1\" stroke=\"black\" d=\"M674,-573C674,-573 587,-573 587,-573 581,-573 575,-567 575,-561 575,-561 575,-517 575,-517 575,-511 581,-505 587,-505 587,-505 674,-505 674,-505 680,-505 686,-511 686,-517 686,-517 686,-561 686,-561 686,-567 680,-573 674,-573\"/>\r\n",
       "<text text-anchor=\"middle\" x=\"630.5\" y=\"-557.8\" font-family=\"Helvetica,sans-Serif\" font-size=\"14.00\">kg bi &lt;= 355.5</text>\r\n",
       "<text text-anchor=\"middle\" x=\"630.5\" y=\"-542.8\" font-family=\"Helvetica,sans-Serif\" font-size=\"14.00\">mae = 184.73</text>\r\n",
       "<text text-anchor=\"middle\" x=\"630.5\" y=\"-527.8\" font-family=\"Helvetica,sans-Serif\" font-size=\"14.00\">samples = 178</text>\r\n",
       "<text text-anchor=\"middle\" x=\"630.5\" y=\"-512.8\" font-family=\"Helvetica,sans-Serif\" font-size=\"14.00\">value = 2307.5</text>\r\n",
       "</g>\r\n",
       "<!-- 1&#45;&gt;4 -->\r\n",
       "<g id=\"edge19\" class=\"edge\"><title>1&#45;&gt;4</title>\r\n",
       "<path fill=\"none\" stroke=\"black\" d=\"M585.253,-608.884C590.928,-600.243 597.119,-590.819 603.048,-581.793\"/>\r\n",
       "<polygon fill=\"black\" stroke=\"black\" points=\"606.062,-583.579 608.627,-573.299 600.211,-579.736 606.062,-583.579\"/>\r\n",
       "</g>\r\n",
       "<!-- 7 -->\r\n",
       "<g id=\"node4\" class=\"node\"><title>7</title>\r\n",
       "<path fill=\"#f9e3d2\" stroke=\"black\" d=\"M412.5,-469C412.5,-469 290.5,-469 290.5,-469 284.5,-469 278.5,-463 278.5,-457 278.5,-457 278.5,-413 278.5,-413 278.5,-407 284.5,-401 290.5,-401 290.5,-401 412.5,-401 412.5,-401 418.5,-401 424.5,-407 424.5,-413 424.5,-413 424.5,-457 424.5,-457 424.5,-463 418.5,-469 412.5,-469\"/>\r\n",
       "<text text-anchor=\"middle\" x=\"351.5\" y=\"-453.8\" font-family=\"Helvetica,sans-Serif\" font-size=\"14.00\">WH&#45;DLUG &lt;= 123.5</text>\r\n",
       "<text text-anchor=\"middle\" x=\"351.5\" y=\"-438.8\" font-family=\"Helvetica,sans-Serif\" font-size=\"14.00\">mae = 88.961</text>\r\n",
       "<text text-anchor=\"middle\" x=\"351.5\" y=\"-423.8\" font-family=\"Helvetica,sans-Serif\" font-size=\"14.00\">samples = 1052</text>\r\n",
       "<text text-anchor=\"middle\" x=\"351.5\" y=\"-408.8\" font-family=\"Helvetica,sans-Serif\" font-size=\"14.00\">value = 2164.5</text>\r\n",
       "</g>\r\n",
       "<!-- 3&#45;&gt;7 -->\r\n",
       "<g id=\"edge3\" class=\"edge\"><title>3&#45;&gt;7</title>\r\n",
       "<path fill=\"none\" stroke=\"black\" d=\"M450.098,-504.884C436.583,-495.442 421.728,-485.064 407.741,-475.292\"/>\r\n",
       "<polygon fill=\"black\" stroke=\"black\" points=\"409.366,-472.157 399.164,-469.299 405.357,-477.896 409.366,-472.157\"/>\r\n",
       "</g>\r\n",
       "<!-- 8 -->\r\n",
       "<g id=\"node19\" class=\"node\"><title>8</title>\r\n",
       "<path fill=\"#ffffff\" stroke=\"black\" d=\"M540.5,-461.5C540.5,-461.5 454.5,-461.5 454.5,-461.5 448.5,-461.5 442.5,-455.5 442.5,-449.5 442.5,-449.5 442.5,-420.5 442.5,-420.5 442.5,-414.5 448.5,-408.5 454.5,-408.5 454.5,-408.5 540.5,-408.5 540.5,-408.5 546.5,-408.5 552.5,-414.5 552.5,-420.5 552.5,-420.5 552.5,-449.5 552.5,-449.5 552.5,-455.5 546.5,-461.5 540.5,-461.5\"/>\r\n",
       "<text text-anchor=\"middle\" x=\"497.5\" y=\"-446.3\" font-family=\"Helvetica,sans-Serif\" font-size=\"14.00\">mae = 74.8</text>\r\n",
       "<text text-anchor=\"middle\" x=\"497.5\" y=\"-431.3\" font-family=\"Helvetica,sans-Serif\" font-size=\"14.00\">samples = 50</text>\r\n",
       "<text text-anchor=\"middle\" x=\"497.5\" y=\"-416.3\" font-family=\"Helvetica,sans-Serif\" font-size=\"14.00\">value = 1972.0</text>\r\n",
       "</g>\r\n",
       "<!-- 3&#45;&gt;8 -->\r\n",
       "<g id=\"edge18\" class=\"edge\"><title>3&#45;&gt;8</title>\r\n",
       "<path fill=\"none\" stroke=\"black\" d=\"M497.5,-504.884C497.5,-494.326 497.5,-482.597 497.5,-471.854\"/>\r\n",
       "<polygon fill=\"black\" stroke=\"black\" points=\"501,-471.52 497.5,-461.52 494,-471.52 501,-471.52\"/>\r\n",
       "</g>\r\n",
       "<!-- 9 -->\r\n",
       "<g id=\"node5\" class=\"node\"><title>9</title>\r\n",
       "<path fill=\"#fae5d7\" stroke=\"black\" d=\"M247,-365C247,-365 160,-365 160,-365 154,-365 148,-359 148,-353 148,-353 148,-309 148,-309 148,-303 154,-297 160,-297 160,-297 247,-297 247,-297 253,-297 259,-303 259,-309 259,-309 259,-353 259,-353 259,-359 253,-365 247,-365\"/>\r\n",
       "<text text-anchor=\"middle\" x=\"203.5\" y=\"-349.8\" font-family=\"Helvetica,sans-Serif\" font-size=\"14.00\">kg bi &lt;= 369.5</text>\r\n",
       "<text text-anchor=\"middle\" x=\"203.5\" y=\"-334.8\" font-family=\"Helvetica,sans-Serif\" font-size=\"14.00\">mae = 75.511</text>\r\n",
       "<text text-anchor=\"middle\" x=\"203.5\" y=\"-319.8\" font-family=\"Helvetica,sans-Serif\" font-size=\"14.00\">samples = 705</text>\r\n",
       "<text text-anchor=\"middle\" x=\"203.5\" y=\"-304.8\" font-family=\"Helvetica,sans-Serif\" font-size=\"14.00\">value = 2146.0</text>\r\n",
       "</g>\r\n",
       "<!-- 7&#45;&gt;9 -->\r\n",
       "<g id=\"edge4\" class=\"edge\"><title>7&#45;&gt;9</title>\r\n",
       "<path fill=\"none\" stroke=\"black\" d=\"M303.449,-400.884C289.549,-391.304 274.251,-380.761 259.892,-370.864\"/>\r\n",
       "<polygon fill=\"black\" stroke=\"black\" points=\"261.783,-367.918 251.563,-365.125 257.811,-373.681 261.783,-367.918\"/>\r\n",
       "</g>\r\n",
       "<!-- 10 -->\r\n",
       "<g id=\"node12\" class=\"node\"><title>10</title>\r\n",
       "<path fill=\"#f8dcc8\" stroke=\"black\" d=\"M396,-365C396,-365 307,-365 307,-365 301,-365 295,-359 295,-353 295,-353 295,-309 295,-309 295,-303 301,-297 307,-297 307,-297 396,-297 396,-297 402,-297 408,-303 408,-309 408,-309 408,-353 408,-353 408,-359 402,-365 396,-365\"/>\r\n",
       "<text text-anchor=\"middle\" x=\"351.5\" y=\"-349.8\" font-family=\"Helvetica,sans-Serif\" font-size=\"14.00\">IP &lt;= 1115.0</text>\r\n",
       "<text text-anchor=\"middle\" x=\"351.5\" y=\"-334.8\" font-family=\"Helvetica,sans-Serif\" font-size=\"14.00\">mae = 105.357</text>\r\n",
       "<text text-anchor=\"middle\" x=\"351.5\" y=\"-319.8\" font-family=\"Helvetica,sans-Serif\" font-size=\"14.00\">samples = 347</text>\r\n",
       "<text text-anchor=\"middle\" x=\"351.5\" y=\"-304.8\" font-family=\"Helvetica,sans-Serif\" font-size=\"14.00\">value = 2209.0</text>\r\n",
       "</g>\r\n",
       "<!-- 7&#45;&gt;10 -->\r\n",
       "<g id=\"edge11\" class=\"edge\"><title>7&#45;&gt;10</title>\r\n",
       "<path fill=\"none\" stroke=\"black\" d=\"M351.5,-400.884C351.5,-392.778 351.5,-383.982 351.5,-375.472\"/>\r\n",
       "<polygon fill=\"black\" stroke=\"black\" points=\"355,-375.299 351.5,-365.299 348,-375.299 355,-375.299\"/>\r\n",
       "</g>\r\n",
       "<!-- 21 -->\r\n",
       "<g id=\"node6\" class=\"node\"><title>21</title>\r\n",
       "<path fill=\"#fae8da\" stroke=\"black\" d=\"M99,-253.5C99,-253.5 12,-253.5 12,-253.5 6,-253.5 0,-247.5 0,-241.5 0,-241.5 0,-212.5 0,-212.5 0,-206.5 6,-200.5 12,-200.5 12,-200.5 99,-200.5 99,-200.5 105,-200.5 111,-206.5 111,-212.5 111,-212.5 111,-241.5 111,-241.5 111,-247.5 105,-253.5 99,-253.5\"/>\r\n",
       "<text text-anchor=\"middle\" x=\"55.5\" y=\"-238.3\" font-family=\"Helvetica,sans-Serif\" font-size=\"14.00\">mae = 60.552</text>\r\n",
       "<text text-anchor=\"middle\" x=\"55.5\" y=\"-223.3\" font-family=\"Helvetica,sans-Serif\" font-size=\"14.00\">samples = 359</text>\r\n",
       "<text text-anchor=\"middle\" x=\"55.5\" y=\"-208.3\" font-family=\"Helvetica,sans-Serif\" font-size=\"14.00\">value = 2130.0</text>\r\n",
       "</g>\r\n",
       "<!-- 9&#45;&gt;21 -->\r\n",
       "<g id=\"edge5\" class=\"edge\"><title>9&#45;&gt;21</title>\r\n",
       "<path fill=\"none\" stroke=\"black\" d=\"M155.449,-296.884C137.895,-284.786 118.111,-271.151 100.805,-259.224\"/>\r\n",
       "<polygon fill=\"black\" stroke=\"black\" points=\"102.749,-256.313 92.5289,-253.52 98.7767,-262.077 102.749,-256.313\"/>\r\n",
       "</g>\r\n",
       "<!-- 22 -->\r\n",
       "<g id=\"node7\" class=\"node\"><title>22</title>\r\n",
       "<path fill=\"#f9e2d1\" stroke=\"black\" d=\"M265.5,-261C265.5,-261 141.5,-261 141.5,-261 135.5,-261 129.5,-255 129.5,-249 129.5,-249 129.5,-205 129.5,-205 129.5,-199 135.5,-193 141.5,-193 141.5,-193 265.5,-193 265.5,-193 271.5,-193 277.5,-199 277.5,-205 277.5,-205 277.5,-249 277.5,-249 277.5,-255 271.5,-261 265.5,-261\"/>\r\n",
       "<text text-anchor=\"middle\" x=\"203.5\" y=\"-245.8\" font-family=\"Helvetica,sans-Serif\" font-size=\"14.00\">WH&#45;KSOM &lt;= 122.5</text>\r\n",
       "<text text-anchor=\"middle\" x=\"203.5\" y=\"-230.8\" font-family=\"Helvetica,sans-Serif\" font-size=\"14.00\">mae = 85.853</text>\r\n",
       "<text text-anchor=\"middle\" x=\"203.5\" y=\"-215.8\" font-family=\"Helvetica,sans-Serif\" font-size=\"14.00\">samples = 346</text>\r\n",
       "<text text-anchor=\"middle\" x=\"203.5\" y=\"-200.8\" font-family=\"Helvetica,sans-Serif\" font-size=\"14.00\">value = 2169.0</text>\r\n",
       "</g>\r\n",
       "<!-- 9&#45;&gt;22 -->\r\n",
       "<g id=\"edge6\" class=\"edge\"><title>9&#45;&gt;22</title>\r\n",
       "<path fill=\"none\" stroke=\"black\" d=\"M203.5,-296.884C203.5,-288.778 203.5,-279.982 203.5,-271.472\"/>\r\n",
       "<polygon fill=\"black\" stroke=\"black\" points=\"207,-271.299 203.5,-261.299 200,-271.299 207,-271.299\"/>\r\n",
       "</g>\r\n",
       "<!-- 23 -->\r\n",
       "<g id=\"node8\" class=\"node\"><title>23</title>\r\n",
       "<path fill=\"#f9e4d5\" stroke=\"black\" d=\"M168,-149.5C168,-149.5 81,-149.5 81,-149.5 75,-149.5 69,-143.5 69,-137.5 69,-137.5 69,-108.5 69,-108.5 69,-102.5 75,-96.5 81,-96.5 81,-96.5 168,-96.5 168,-96.5 174,-96.5 180,-102.5 180,-108.5 180,-108.5 180,-137.5 180,-137.5 180,-143.5 174,-149.5 168,-149.5\"/>\r\n",
       "<text text-anchor=\"middle\" x=\"124.5\" y=\"-134.3\" font-family=\"Helvetica,sans-Serif\" font-size=\"14.00\">mae = 66.236</text>\r\n",
       "<text text-anchor=\"middle\" x=\"124.5\" y=\"-119.3\" font-family=\"Helvetica,sans-Serif\" font-size=\"14.00\">samples = 259</text>\r\n",
       "<text text-anchor=\"middle\" x=\"124.5\" y=\"-104.3\" font-family=\"Helvetica,sans-Serif\" font-size=\"14.00\">value = 2155.0</text>\r\n",
       "</g>\r\n",
       "<!-- 22&#45;&gt;23 -->\r\n",
       "<g id=\"edge7\" class=\"edge\"><title>22&#45;&gt;23</title>\r\n",
       "<path fill=\"none\" stroke=\"black\" d=\"M177.851,-192.884C169.077,-181.556 159.26,-168.88 150.462,-157.521\"/>\r\n",
       "<polygon fill=\"black\" stroke=\"black\" points=\"153.156,-155.283 144.265,-149.52 147.622,-159.569 153.156,-155.283\"/>\r\n",
       "</g>\r\n",
       "<!-- 24 -->\r\n",
       "<g id=\"node9\" class=\"node\"><title>24</title>\r\n",
       "<path fill=\"#f7d6bf\" stroke=\"black\" d=\"M322.5,-157C322.5,-157 210.5,-157 210.5,-157 204.5,-157 198.5,-151 198.5,-145 198.5,-145 198.5,-101 198.5,-101 198.5,-95 204.5,-89 210.5,-89 210.5,-89 322.5,-89 322.5,-89 328.5,-89 334.5,-95 334.5,-101 334.5,-101 334.5,-145 334.5,-145 334.5,-151 328.5,-157 322.5,-157\"/>\r\n",
       "<text text-anchor=\"middle\" x=\"266.5\" y=\"-141.8\" font-family=\"Helvetica,sans-Serif\" font-size=\"14.00\">PI&#45;PLOD &lt;= 118.5</text>\r\n",
       "<text text-anchor=\"middle\" x=\"266.5\" y=\"-126.8\" font-family=\"Helvetica,sans-Serif\" font-size=\"14.00\">mae = 120.966</text>\r\n",
       "<text text-anchor=\"middle\" x=\"266.5\" y=\"-111.8\" font-family=\"Helvetica,sans-Serif\" font-size=\"14.00\">samples = 87</text>\r\n",
       "<text text-anchor=\"middle\" x=\"266.5\" y=\"-96.8\" font-family=\"Helvetica,sans-Serif\" font-size=\"14.00\">value = 2247.0</text>\r\n",
       "</g>\r\n",
       "<!-- 22&#45;&gt;24 -->\r\n",
       "<g id=\"edge8\" class=\"edge\"><title>22&#45;&gt;24</title>\r\n",
       "<path fill=\"none\" stroke=\"black\" d=\"M223.954,-192.884C229.236,-184.332 234.992,-175.013 240.514,-166.072\"/>\r\n",
       "<polygon fill=\"black\" stroke=\"black\" points=\"243.656,-167.647 245.933,-157.299 237.7,-163.968 243.656,-167.647\"/>\r\n",
       "</g>\r\n",
       "<!-- 25 -->\r\n",
       "<g id=\"node10\" class=\"node\"><title>25</title>\r\n",
       "<path fill=\"#f7d9c4\" stroke=\"black\" d=\"M252.5,-53C252.5,-53 166.5,-53 166.5,-53 160.5,-53 154.5,-47 154.5,-41 154.5,-41 154.5,-12 154.5,-12 154.5,-6 160.5,-0 166.5,-0 166.5,-0 252.5,-0 252.5,-0 258.5,-0 264.5,-6 264.5,-12 264.5,-12 264.5,-41 264.5,-41 264.5,-47 258.5,-53 252.5,-53\"/>\r\n",
       "<text text-anchor=\"middle\" x=\"209.5\" y=\"-37.8\" font-family=\"Helvetica,sans-Serif\" font-size=\"14.00\">mae = 90.282</text>\r\n",
       "<text text-anchor=\"middle\" x=\"209.5\" y=\"-22.8\" font-family=\"Helvetica,sans-Serif\" font-size=\"14.00\">samples = 71</text>\r\n",
       "<text text-anchor=\"middle\" x=\"209.5\" y=\"-7.8\" font-family=\"Helvetica,sans-Serif\" font-size=\"14.00\">value = 2227.0</text>\r\n",
       "</g>\r\n",
       "<!-- 24&#45;&gt;25 -->\r\n",
       "<g id=\"edge9\" class=\"edge\"><title>24&#45;&gt;25</title>\r\n",
       "<path fill=\"none\" stroke=\"black\" d=\"M246.564,-88.9485C241.267,-80.1664 235.535,-70.6629 230.198,-61.815\"/>\r\n",
       "<polygon fill=\"black\" stroke=\"black\" points=\"233.186,-59.9919 225.024,-53.2367 227.192,-63.6074 233.186,-59.9919\"/>\r\n",
       "</g>\r\n",
       "<!-- 26 -->\r\n",
       "<g id=\"node11\" class=\"node\"><title>26</title>\r\n",
       "<path fill=\"#efb285\" stroke=\"black\" d=\"M380.5,-53C380.5,-53 294.5,-53 294.5,-53 288.5,-53 282.5,-47 282.5,-41 282.5,-41 282.5,-12 282.5,-12 282.5,-6 288.5,-0 294.5,-0 294.5,-0 380.5,-0 380.5,-0 386.5,-0 392.5,-6 392.5,-12 392.5,-12 392.5,-41 392.5,-41 392.5,-47 386.5,-53 380.5,-53\"/>\r\n",
       "<text text-anchor=\"middle\" x=\"337.5\" y=\"-37.8\" font-family=\"Helvetica,sans-Serif\" font-size=\"14.00\">mae = 95.625</text>\r\n",
       "<text text-anchor=\"middle\" x=\"337.5\" y=\"-22.8\" font-family=\"Helvetica,sans-Serif\" font-size=\"14.00\">samples = 16</text>\r\n",
       "<text text-anchor=\"middle\" x=\"337.5\" y=\"-7.8\" font-family=\"Helvetica,sans-Serif\" font-size=\"14.00\">value = 2497.0</text>\r\n",
       "</g>\r\n",
       "<!-- 24&#45;&gt;26 -->\r\n",
       "<g id=\"edge10\" class=\"edge\"><title>24&#45;&gt;26</title>\r\n",
       "<path fill=\"none\" stroke=\"black\" d=\"M291.332,-88.9485C298.068,-79.9834 305.368,-70.2666 312.133,-61.2629\"/>\r\n",
       "<polygon fill=\"black\" stroke=\"black\" points=\"314.955,-63.334 318.163,-53.2367 309.358,-59.1293 314.955,-63.334\"/>\r\n",
       "</g>\r\n",
       "<!-- 13 -->\r\n",
       "<g id=\"node13\" class=\"node\"><title>13</title>\r\n",
       "<path fill=\"#f9e1d0\" stroke=\"black\" d=\"M395,-253.5C395,-253.5 308,-253.5 308,-253.5 302,-253.5 296,-247.5 296,-241.5 296,-241.5 296,-212.5 296,-212.5 296,-206.5 302,-200.5 308,-200.5 308,-200.5 395,-200.5 395,-200.5 401,-200.5 407,-206.5 407,-212.5 407,-212.5 407,-241.5 407,-241.5 407,-247.5 401,-253.5 395,-253.5\"/>\r\n",
       "<text text-anchor=\"middle\" x=\"351.5\" y=\"-238.3\" font-family=\"Helvetica,sans-Serif\" font-size=\"14.00\">mae = 78.729</text>\r\n",
       "<text text-anchor=\"middle\" x=\"351.5\" y=\"-223.3\" font-family=\"Helvetica,sans-Serif\" font-size=\"14.00\">samples = 199</text>\r\n",
       "<text text-anchor=\"middle\" x=\"351.5\" y=\"-208.3\" font-family=\"Helvetica,sans-Serif\" font-size=\"14.00\">value = 2175.0</text>\r\n",
       "</g>\r\n",
       "<!-- 10&#45;&gt;13 -->\r\n",
       "<g id=\"edge12\" class=\"edge\"><title>10&#45;&gt;13</title>\r\n",
       "<path fill=\"none\" stroke=\"black\" d=\"M351.5,-296.884C351.5,-286.326 351.5,-274.597 351.5,-263.854\"/>\r\n",
       "<polygon fill=\"black\" stroke=\"black\" points=\"355,-263.52 351.5,-253.52 348,-263.52 355,-263.52\"/>\r\n",
       "</g>\r\n",
       "<!-- 14 -->\r\n",
       "<g id=\"node14\" class=\"node\"><title>14</title>\r\n",
       "<path fill=\"#f6d2b8\" stroke=\"black\" d=\"M561.5,-261C561.5,-261 437.5,-261 437.5,-261 431.5,-261 425.5,-255 425.5,-249 425.5,-249 425.5,-205 425.5,-205 425.5,-199 431.5,-193 437.5,-193 437.5,-193 561.5,-193 561.5,-193 567.5,-193 573.5,-199 573.5,-205 573.5,-205 573.5,-249 573.5,-249 573.5,-255 567.5,-261 561.5,-261\"/>\r\n",
       "<text text-anchor=\"middle\" x=\"499.5\" y=\"-245.8\" font-family=\"Helvetica,sans-Serif\" font-size=\"14.00\">WH&#45;KSOM &lt;= 121.5</text>\r\n",
       "<text text-anchor=\"middle\" x=\"499.5\" y=\"-230.8\" font-family=\"Helvetica,sans-Serif\" font-size=\"14.00\">mae = 123.568</text>\r\n",
       "<text text-anchor=\"middle\" x=\"499.5\" y=\"-215.8\" font-family=\"Helvetica,sans-Serif\" font-size=\"14.00\">samples = 148</text>\r\n",
       "<text text-anchor=\"middle\" x=\"499.5\" y=\"-200.8\" font-family=\"Helvetica,sans-Serif\" font-size=\"14.00\">value = 2280.0</text>\r\n",
       "</g>\r\n",
       "<!-- 10&#45;&gt;14 -->\r\n",
       "<g id=\"edge13\" class=\"edge\"><title>10&#45;&gt;14</title>\r\n",
       "<path fill=\"none\" stroke=\"black\" d=\"M399.551,-296.884C413.451,-287.304 428.749,-276.761 443.108,-266.864\"/>\r\n",
       "<polygon fill=\"black\" stroke=\"black\" points=\"445.189,-269.681 451.437,-261.125 441.217,-263.918 445.189,-269.681\"/>\r\n",
       "</g>\r\n",
       "<!-- 19 -->\r\n",
       "<g id=\"node15\" class=\"node\"><title>19</title>\r\n",
       "<path fill=\"#f8dbc7\" stroke=\"black\" d=\"M465,-149.5C465,-149.5 376,-149.5 376,-149.5 370,-149.5 364,-143.5 364,-137.5 364,-137.5 364,-108.5 364,-108.5 364,-102.5 370,-96.5 376,-96.5 376,-96.5 465,-96.5 465,-96.5 471,-96.5 477,-102.5 477,-108.5 477,-108.5 477,-137.5 477,-137.5 477,-143.5 471,-149.5 465,-149.5\"/>\r\n",
       "<text text-anchor=\"middle\" x=\"420.5\" y=\"-134.3\" font-family=\"Helvetica,sans-Serif\" font-size=\"14.00\">mae = 100.865</text>\r\n",
       "<text text-anchor=\"middle\" x=\"420.5\" y=\"-119.3\" font-family=\"Helvetica,sans-Serif\" font-size=\"14.00\">samples = 96</text>\r\n",
       "<text text-anchor=\"middle\" x=\"420.5\" y=\"-104.3\" font-family=\"Helvetica,sans-Serif\" font-size=\"14.00\">value = 2216.0</text>\r\n",
       "</g>\r\n",
       "<!-- 14&#45;&gt;19 -->\r\n",
       "<g id=\"edge14\" class=\"edge\"><title>14&#45;&gt;19</title>\r\n",
       "<path fill=\"none\" stroke=\"black\" d=\"M473.851,-192.884C465.077,-181.556 455.26,-168.88 446.462,-157.521\"/>\r\n",
       "<polygon fill=\"black\" stroke=\"black\" points=\"449.156,-155.283 440.265,-149.52 443.622,-159.569 449.156,-155.283\"/>\r\n",
       "</g>\r\n",
       "<!-- 20 -->\r\n",
       "<g id=\"node16\" class=\"node\"><title>20</title>\r\n",
       "<path fill=\"#f2c2a0\" stroke=\"black\" d=\"M596,-157C596,-157 507,-157 507,-157 501,-157 495,-151 495,-145 495,-145 495,-101 495,-101 495,-95 501,-89 507,-89 507,-89 596,-89 596,-89 602,-89 608,-95 608,-101 608,-101 608,-145 608,-145 608,-151 602,-157 596,-157\"/>\r\n",
       "<text text-anchor=\"middle\" x=\"551.5\" y=\"-141.8\" font-family=\"Helvetica,sans-Serif\" font-size=\"14.00\">OMC &lt;= 108.5</text>\r\n",
       "<text text-anchor=\"middle\" x=\"551.5\" y=\"-126.8\" font-family=\"Helvetica,sans-Serif\" font-size=\"14.00\">mae = 117.519</text>\r\n",
       "<text text-anchor=\"middle\" x=\"551.5\" y=\"-111.8\" font-family=\"Helvetica,sans-Serif\" font-size=\"14.00\">samples = 52</text>\r\n",
       "<text text-anchor=\"middle\" x=\"551.5\" y=\"-96.8\" font-family=\"Helvetica,sans-Serif\" font-size=\"14.00\">value = 2384.5</text>\r\n",
       "</g>\r\n",
       "<!-- 14&#45;&gt;20 -->\r\n",
       "<g id=\"edge15\" class=\"edge\"><title>14&#45;&gt;20</title>\r\n",
       "<path fill=\"none\" stroke=\"black\" d=\"M516.383,-192.884C520.697,-184.422 525.394,-175.207 529.909,-166.352\"/>\r\n",
       "<polygon fill=\"black\" stroke=\"black\" points=\"533.1,-167.798 534.524,-157.299 526.864,-164.619 533.1,-167.798\"/>\r\n",
       "</g>\r\n",
       "<!-- 27 -->\r\n",
       "<g id=\"node17\" class=\"node\"><title>27</title>\r\n",
       "<path fill=\"#f5cfb4\" stroke=\"black\" d=\"M522.5,-53C522.5,-53 436.5,-53 436.5,-53 430.5,-53 424.5,-47 424.5,-41 424.5,-41 424.5,-12 424.5,-12 424.5,-6 430.5,-0 436.5,-0 436.5,-0 522.5,-0 522.5,-0 528.5,-0 534.5,-6 534.5,-12 534.5,-12 534.5,-41 534.5,-41 534.5,-47 528.5,-53 522.5,-53\"/>\r\n",
       "<text text-anchor=\"middle\" x=\"479.5\" y=\"-37.8\" font-family=\"Helvetica,sans-Serif\" font-size=\"14.00\">mae = 93.478</text>\r\n",
       "<text text-anchor=\"middle\" x=\"479.5\" y=\"-22.8\" font-family=\"Helvetica,sans-Serif\" font-size=\"14.00\">samples = 23</text>\r\n",
       "<text text-anchor=\"middle\" x=\"479.5\" y=\"-7.8\" font-family=\"Helvetica,sans-Serif\" font-size=\"14.00\">value = 2296.0</text>\r\n",
       "</g>\r\n",
       "<!-- 20&#45;&gt;27 -->\r\n",
       "<g id=\"edge16\" class=\"edge\"><title>20&#45;&gt;27</title>\r\n",
       "<path fill=\"none\" stroke=\"black\" d=\"M526.318,-88.9485C519.487,-79.9834 512.084,-70.2666 505.224,-61.2629\"/>\r\n",
       "<polygon fill=\"black\" stroke=\"black\" points=\"507.953,-59.0699 499.109,-53.2367 502.385,-63.3122 507.953,-59.0699\"/>\r\n",
       "</g>\r\n",
       "<!-- 28 -->\r\n",
       "<g id=\"node18\" class=\"node\"><title>28</title>\r\n",
       "<path fill=\"#f0b68d\" stroke=\"black\" d=\"M650.5,-53C650.5,-53 564.5,-53 564.5,-53 558.5,-53 552.5,-47 552.5,-41 552.5,-41 552.5,-12 552.5,-12 552.5,-6 558.5,-0 564.5,-0 564.5,-0 650.5,-0 650.5,-0 656.5,-0 662.5,-6 662.5,-12 662.5,-12 662.5,-41 662.5,-41 662.5,-47 656.5,-53 650.5,-53\"/>\r\n",
       "<text text-anchor=\"middle\" x=\"607.5\" y=\"-37.8\" font-family=\"Helvetica,sans-Serif\" font-size=\"14.00\">mae = 83.69</text>\r\n",
       "<text text-anchor=\"middle\" x=\"607.5\" y=\"-22.8\" font-family=\"Helvetica,sans-Serif\" font-size=\"14.00\">samples = 29</text>\r\n",
       "<text text-anchor=\"middle\" x=\"607.5\" y=\"-7.8\" font-family=\"Helvetica,sans-Serif\" font-size=\"14.00\">value = 2466.0</text>\r\n",
       "</g>\r\n",
       "<!-- 20&#45;&gt;28 -->\r\n",
       "<g id=\"edge17\" class=\"edge\"><title>20&#45;&gt;28</title>\r\n",
       "<path fill=\"none\" stroke=\"black\" d=\"M571.086,-88.9485C576.236,-80.2579 581.805,-70.8608 587.001,-62.0917\"/>\r\n",
       "<polygon fill=\"black\" stroke=\"black\" points=\"590.162,-63.624 592.249,-53.2367 584.14,-60.0553 590.162,-63.624\"/>\r\n",
       "</g>\r\n",
       "<!-- 5 -->\r\n",
       "<g id=\"node21\" class=\"node\"><title>5</title>\r\n",
       "<path fill=\"#f7d8c2\" stroke=\"black\" d=\"M675,-469C675,-469 586,-469 586,-469 580,-469 574,-463 574,-457 574,-457 574,-413 574,-413 574,-407 580,-401 586,-401 586,-401 675,-401 675,-401 681,-401 687,-407 687,-413 687,-413 687,-457 687,-457 687,-463 681,-469 675,-469\"/>\r\n",
       "<text text-anchor=\"middle\" x=\"630.5\" y=\"-453.8\" font-family=\"Helvetica,sans-Serif\" font-size=\"14.00\">CRk &lt;= 116.5</text>\r\n",
       "<text text-anchor=\"middle\" x=\"630.5\" y=\"-438.8\" font-family=\"Helvetica,sans-Serif\" font-size=\"14.00\">mae = 145.558</text>\r\n",
       "<text text-anchor=\"middle\" x=\"630.5\" y=\"-423.8\" font-family=\"Helvetica,sans-Serif\" font-size=\"14.00\">samples = 129</text>\r\n",
       "<text text-anchor=\"middle\" x=\"630.5\" y=\"-408.8\" font-family=\"Helvetica,sans-Serif\" font-size=\"14.00\">value = 2235.0</text>\r\n",
       "</g>\r\n",
       "<!-- 4&#45;&gt;5 -->\r\n",
       "<g id=\"edge20\" class=\"edge\"><title>4&#45;&gt;5</title>\r\n",
       "<path fill=\"none\" stroke=\"black\" d=\"M630.5,-504.884C630.5,-496.778 630.5,-487.982 630.5,-479.472\"/>\r\n",
       "<polygon fill=\"black\" stroke=\"black\" points=\"634,-479.299 630.5,-469.299 627,-479.299 634,-479.299\"/>\r\n",
       "</g>\r\n",
       "<!-- 6 -->\r\n",
       "<g id=\"node28\" class=\"node\"><title>6</title>\r\n",
       "<path fill=\"#eeaa7a\" stroke=\"black\" d=\"M839.5,-469C839.5,-469 717.5,-469 717.5,-469 711.5,-469 705.5,-463 705.5,-457 705.5,-457 705.5,-413 705.5,-413 705.5,-407 711.5,-401 717.5,-401 717.5,-401 839.5,-401 839.5,-401 845.5,-401 851.5,-407 851.5,-413 851.5,-413 851.5,-457 851.5,-457 851.5,-463 845.5,-469 839.5,-469\"/>\r\n",
       "<text text-anchor=\"middle\" x=\"778.5\" y=\"-453.8\" font-family=\"Helvetica,sans-Serif\" font-size=\"14.00\">WH&#45;DLUG &lt;= 116.5</text>\r\n",
       "<text text-anchor=\"middle\" x=\"778.5\" y=\"-438.8\" font-family=\"Helvetica,sans-Serif\" font-size=\"14.00\">mae = 189.776</text>\r\n",
       "<text text-anchor=\"middle\" x=\"778.5\" y=\"-423.8\" font-family=\"Helvetica,sans-Serif\" font-size=\"14.00\">samples = 49</text>\r\n",
       "<text text-anchor=\"middle\" x=\"778.5\" y=\"-408.8\" font-family=\"Helvetica,sans-Serif\" font-size=\"14.00\">value = 2547.0</text>\r\n",
       "</g>\r\n",
       "<!-- 4&#45;&gt;6 -->\r\n",
       "<g id=\"edge27\" class=\"edge\"><title>4&#45;&gt;6</title>\r\n",
       "<path fill=\"none\" stroke=\"black\" d=\"M678.551,-504.884C692.451,-495.304 707.749,-484.761 722.108,-474.864\"/>\r\n",
       "<polygon fill=\"black\" stroke=\"black\" points=\"724.189,-477.681 730.437,-469.125 720.217,-471.918 724.189,-477.681\"/>\r\n",
       "</g>\r\n",
       "<!-- 15 -->\r\n",
       "<g id=\"node22\" class=\"node\"><title>15</title>\r\n",
       "<path fill=\"#f9e1cf\" stroke=\"black\" d=\"M561.5,-357.5C561.5,-357.5 475.5,-357.5 475.5,-357.5 469.5,-357.5 463.5,-351.5 463.5,-345.5 463.5,-345.5 463.5,-316.5 463.5,-316.5 463.5,-310.5 469.5,-304.5 475.5,-304.5 475.5,-304.5 561.5,-304.5 561.5,-304.5 567.5,-304.5 573.5,-310.5 573.5,-316.5 573.5,-316.5 573.5,-345.5 573.5,-345.5 573.5,-351.5 567.5,-357.5 561.5,-357.5\"/>\r\n",
       "<text text-anchor=\"middle\" x=\"518.5\" y=\"-342.3\" font-family=\"Helvetica,sans-Serif\" font-size=\"14.00\">mae = 90.078</text>\r\n",
       "<text text-anchor=\"middle\" x=\"518.5\" y=\"-327.3\" font-family=\"Helvetica,sans-Serif\" font-size=\"14.00\">samples = 64</text>\r\n",
       "<text text-anchor=\"middle\" x=\"518.5\" y=\"-312.3\" font-family=\"Helvetica,sans-Serif\" font-size=\"14.00\">value = 2178.5</text>\r\n",
       "</g>\r\n",
       "<!-- 5&#45;&gt;15 -->\r\n",
       "<g id=\"edge21\" class=\"edge\"><title>5&#45;&gt;15</title>\r\n",
       "<path fill=\"none\" stroke=\"black\" d=\"M594.137,-400.884C581.336,-389.226 566.968,-376.141 554.221,-364.532\"/>\r\n",
       "<polygon fill=\"black\" stroke=\"black\" points=\"556.272,-361.666 546.522,-357.52 551.559,-366.841 556.272,-361.666\"/>\r\n",
       "</g>\r\n",
       "<!-- 16 -->\r\n",
       "<g id=\"node23\" class=\"node\"><title>16</title>\r\n",
       "<path fill=\"#f3c6a5\" stroke=\"black\" d=\"M693,-365C693,-365 604,-365 604,-365 598,-365 592,-359 592,-353 592,-353 592,-309 592,-309 592,-303 598,-297 604,-297 604,-297 693,-297 693,-297 699,-297 705,-303 705,-309 705,-309 705,-353 705,-353 705,-359 699,-365 693,-365\"/>\r\n",
       "<text text-anchor=\"middle\" x=\"648.5\" y=\"-349.8\" font-family=\"Helvetica,sans-Serif\" font-size=\"14.00\">kg bi &lt;= 249.5</text>\r\n",
       "<text text-anchor=\"middle\" x=\"648.5\" y=\"-334.8\" font-family=\"Helvetica,sans-Serif\" font-size=\"14.00\">mae = 161.015</text>\r\n",
       "<text text-anchor=\"middle\" x=\"648.5\" y=\"-319.8\" font-family=\"Helvetica,sans-Serif\" font-size=\"14.00\">samples = 65</text>\r\n",
       "<text text-anchor=\"middle\" x=\"648.5\" y=\"-304.8\" font-family=\"Helvetica,sans-Serif\" font-size=\"14.00\">value = 2359.0</text>\r\n",
       "</g>\r\n",
       "<!-- 5&#45;&gt;16 -->\r\n",
       "<g id=\"edge22\" class=\"edge\"><title>5&#45;&gt;16</title>\r\n",
       "<path fill=\"none\" stroke=\"black\" d=\"M636.344,-400.884C637.79,-392.689 639.361,-383.789 640.878,-375.192\"/>\r\n",
       "<polygon fill=\"black\" stroke=\"black\" points=\"644.332,-375.755 642.624,-365.299 637.439,-374.539 644.332,-375.755\"/>\r\n",
       "</g>\r\n",
       "<!-- 17 -->\r\n",
       "<g id=\"node24\" class=\"node\"><title>17</title>\r\n",
       "<path fill=\"#f9e3d3\" stroke=\"black\" d=\"M693,-253.5C693,-253.5 604,-253.5 604,-253.5 598,-253.5 592,-247.5 592,-241.5 592,-241.5 592,-212.5 592,-212.5 592,-206.5 598,-200.5 604,-200.5 604,-200.5 693,-200.5 693,-200.5 699,-200.5 705,-206.5 705,-212.5 705,-212.5 705,-241.5 705,-241.5 705,-247.5 699,-253.5 693,-253.5\"/>\r\n",
       "<text text-anchor=\"middle\" x=\"648.5\" y=\"-238.3\" font-family=\"Helvetica,sans-Serif\" font-size=\"14.00\">mae = 105.792</text>\r\n",
       "<text text-anchor=\"middle\" x=\"648.5\" y=\"-223.3\" font-family=\"Helvetica,sans-Serif\" font-size=\"14.00\">samples = 24</text>\r\n",
       "<text text-anchor=\"middle\" x=\"648.5\" y=\"-208.3\" font-family=\"Helvetica,sans-Serif\" font-size=\"14.00\">value = 2161.0</text>\r\n",
       "</g>\r\n",
       "<!-- 16&#45;&gt;17 -->\r\n",
       "<g id=\"edge23\" class=\"edge\"><title>16&#45;&gt;17</title>\r\n",
       "<path fill=\"none\" stroke=\"black\" d=\"M648.5,-296.884C648.5,-286.326 648.5,-274.597 648.5,-263.854\"/>\r\n",
       "<polygon fill=\"black\" stroke=\"black\" points=\"652,-263.52 648.5,-253.52 645,-263.52 652,-263.52\"/>\r\n",
       "</g>\r\n",
       "<!-- 18 -->\r\n",
       "<g id=\"node25\" class=\"node\"><title>18</title>\r\n",
       "<path fill=\"#f2be99\" stroke=\"black\" d=\"M859.5,-261C859.5,-261 735.5,-261 735.5,-261 729.5,-261 723.5,-255 723.5,-249 723.5,-249 723.5,-205 723.5,-205 723.5,-199 729.5,-193 735.5,-193 735.5,-193 859.5,-193 859.5,-193 865.5,-193 871.5,-199 871.5,-205 871.5,-205 871.5,-249 871.5,-249 871.5,-255 865.5,-261 859.5,-261\"/>\r\n",
       "<text text-anchor=\"middle\" x=\"797.5\" y=\"-245.8\" font-family=\"Helvetica,sans-Serif\" font-size=\"14.00\">WH&#45;KSOM &lt;= 135.5</text>\r\n",
       "<text text-anchor=\"middle\" x=\"797.5\" y=\"-230.8\" font-family=\"Helvetica,sans-Serif\" font-size=\"14.00\">mae = 120.341</text>\r\n",
       "<text text-anchor=\"middle\" x=\"797.5\" y=\"-215.8\" font-family=\"Helvetica,sans-Serif\" font-size=\"14.00\">samples = 41</text>\r\n",
       "<text text-anchor=\"middle\" x=\"797.5\" y=\"-200.8\" font-family=\"Helvetica,sans-Serif\" font-size=\"14.00\">value = 2412.0</text>\r\n",
       "</g>\r\n",
       "<!-- 16&#45;&gt;18 -->\r\n",
       "<g id=\"edge24\" class=\"edge\"><title>16&#45;&gt;18</title>\r\n",
       "<path fill=\"none\" stroke=\"black\" d=\"M696.876,-296.884C710.87,-287.304 726.271,-276.761 740.727,-266.864\"/>\r\n",
       "<polygon fill=\"black\" stroke=\"black\" points=\"742.837,-269.662 749.112,-261.125 738.883,-263.885 742.837,-269.662\"/>\r\n",
       "</g>\r\n",
       "<!-- 29 -->\r\n",
       "<g id=\"node26\" class=\"node\"><title>29</title>\r\n",
       "<path fill=\"#f2c19d\" stroke=\"black\" d=\"M776.5,-149.5C776.5,-149.5 690.5,-149.5 690.5,-149.5 684.5,-149.5 678.5,-143.5 678.5,-137.5 678.5,-137.5 678.5,-108.5 678.5,-108.5 678.5,-102.5 684.5,-96.5 690.5,-96.5 690.5,-96.5 776.5,-96.5 776.5,-96.5 782.5,-96.5 788.5,-102.5 788.5,-108.5 788.5,-108.5 788.5,-137.5 788.5,-137.5 788.5,-143.5 782.5,-149.5 776.5,-149.5\"/>\r\n",
       "<text text-anchor=\"middle\" x=\"733.5\" y=\"-134.3\" font-family=\"Helvetica,sans-Serif\" font-size=\"14.00\">mae = 80.457</text>\r\n",
       "<text text-anchor=\"middle\" x=\"733.5\" y=\"-119.3\" font-family=\"Helvetica,sans-Serif\" font-size=\"14.00\">samples = 35</text>\r\n",
       "<text text-anchor=\"middle\" x=\"733.5\" y=\"-104.3\" font-family=\"Helvetica,sans-Serif\" font-size=\"14.00\">value = 2395.0</text>\r\n",
       "</g>\r\n",
       "<!-- 18&#45;&gt;29 -->\r\n",
       "<g id=\"edge25\" class=\"edge\"><title>18&#45;&gt;29</title>\r\n",
       "<path fill=\"none\" stroke=\"black\" d=\"M776.721,-192.884C769.751,-181.776 761.969,-169.372 754.949,-158.184\"/>\r\n",
       "<polygon fill=\"black\" stroke=\"black\" points=\"757.792,-156.13 749.513,-149.52 751.863,-159.851 757.792,-156.13\"/>\r\n",
       "</g>\r\n",
       "<!-- 30 -->\r\n",
       "<g id=\"node27\" class=\"node\"><title>30</title>\r\n",
       "<path fill=\"#e58139\" stroke=\"black\" d=\"M904.5,-149.5C904.5,-149.5 818.5,-149.5 818.5,-149.5 812.5,-149.5 806.5,-143.5 806.5,-137.5 806.5,-137.5 806.5,-108.5 806.5,-108.5 806.5,-102.5 812.5,-96.5 818.5,-96.5 818.5,-96.5 904.5,-96.5 904.5,-96.5 910.5,-96.5 916.5,-102.5 916.5,-108.5 916.5,-108.5 916.5,-137.5 916.5,-137.5 916.5,-143.5 910.5,-149.5 904.5,-149.5\"/>\r\n",
       "<text text-anchor=\"middle\" x=\"861.5\" y=\"-134.3\" font-family=\"Helvetica,sans-Serif\" font-size=\"14.00\">mae = 99.167</text>\r\n",
       "<text text-anchor=\"middle\" x=\"861.5\" y=\"-119.3\" font-family=\"Helvetica,sans-Serif\" font-size=\"14.00\">samples = 6</text>\r\n",
       "<text text-anchor=\"middle\" x=\"861.5\" y=\"-104.3\" font-family=\"Helvetica,sans-Serif\" font-size=\"14.00\">value = 2827.5</text>\r\n",
       "</g>\r\n",
       "<!-- 18&#45;&gt;30 -->\r\n",
       "<g id=\"edge26\" class=\"edge\"><title>18&#45;&gt;30</title>\r\n",
       "<path fill=\"none\" stroke=\"black\" d=\"M818.279,-192.884C825.249,-181.776 833.031,-169.372 840.051,-158.184\"/>\r\n",
       "<polygon fill=\"black\" stroke=\"black\" points=\"843.137,-159.851 845.487,-149.52 837.208,-156.13 843.137,-159.851\"/>\r\n",
       "</g>\r\n",
       "<!-- 11 -->\r\n",
       "<g id=\"node29\" class=\"node\"><title>11</title>\r\n",
       "<path fill=\"#f8dcc7\" stroke=\"black\" d=\"M821.5,-357.5C821.5,-357.5 735.5,-357.5 735.5,-357.5 729.5,-357.5 723.5,-351.5 723.5,-345.5 723.5,-345.5 723.5,-316.5 723.5,-316.5 723.5,-310.5 729.5,-304.5 735.5,-304.5 735.5,-304.5 821.5,-304.5 821.5,-304.5 827.5,-304.5 833.5,-310.5 833.5,-316.5 833.5,-316.5 833.5,-345.5 833.5,-345.5 833.5,-351.5 827.5,-357.5 821.5,-357.5\"/>\r\n",
       "<text text-anchor=\"middle\" x=\"778.5\" y=\"-342.3\" font-family=\"Helvetica,sans-Serif\" font-size=\"14.00\">mae = 76.727</text>\r\n",
       "<text text-anchor=\"middle\" x=\"778.5\" y=\"-327.3\" font-family=\"Helvetica,sans-Serif\" font-size=\"14.00\">samples = 11</text>\r\n",
       "<text text-anchor=\"middle\" x=\"778.5\" y=\"-312.3\" font-family=\"Helvetica,sans-Serif\" font-size=\"14.00\">value = 2212.0</text>\r\n",
       "</g>\r\n",
       "<!-- 6&#45;&gt;11 -->\r\n",
       "<g id=\"edge28\" class=\"edge\"><title>6&#45;&gt;11</title>\r\n",
       "<path fill=\"none\" stroke=\"black\" d=\"M778.5,-400.884C778.5,-390.326 778.5,-378.597 778.5,-367.854\"/>\r\n",
       "<polygon fill=\"black\" stroke=\"black\" points=\"782,-367.52 778.5,-357.52 775,-367.52 782,-367.52\"/>\r\n",
       "</g>\r\n",
       "<!-- 12 -->\r\n",
       "<g id=\"node30\" class=\"node\"><title>12</title>\r\n",
       "<path fill=\"#eca26e\" stroke=\"black\" d=\"M953,-357.5C953,-357.5 864,-357.5 864,-357.5 858,-357.5 852,-351.5 852,-345.5 852,-345.5 852,-316.5 852,-316.5 852,-310.5 858,-304.5 864,-304.5 864,-304.5 953,-304.5 953,-304.5 959,-304.5 965,-310.5 965,-316.5 965,-316.5 965,-345.5 965,-345.5 965,-351.5 959,-357.5 953,-357.5\"/>\r\n",
       "<text text-anchor=\"middle\" x=\"908.5\" y=\"-342.3\" font-family=\"Helvetica,sans-Serif\" font-size=\"14.00\">mae = 147.368</text>\r\n",
       "<text text-anchor=\"middle\" x=\"908.5\" y=\"-327.3\" font-family=\"Helvetica,sans-Serif\" font-size=\"14.00\">samples = 38</text>\r\n",
       "<text text-anchor=\"middle\" x=\"908.5\" y=\"-312.3\" font-family=\"Helvetica,sans-Serif\" font-size=\"14.00\">value = 2600.5</text>\r\n",
       "</g>\r\n",
       "<!-- 6&#45;&gt;12 -->\r\n",
       "<g id=\"edge29\" class=\"edge\"><title>6&#45;&gt;12</title>\r\n",
       "<path fill=\"none\" stroke=\"black\" d=\"M820.707,-400.884C835.846,-389.006 852.872,-375.646 867.874,-363.876\"/>\r\n",
       "<polygon fill=\"black\" stroke=\"black\" points=\"870.268,-366.446 875.975,-357.52 865.947,-360.939 870.268,-366.446\"/>\r\n",
       "</g>\r\n",
       "</g>\r\n",
       "</svg>\r\n"
      ],
      "text/plain": [
       "<graphviz.files.Source at 0x2a4ed852d88>"
      ]
     },
     "execution_count": 50,
     "metadata": {},
     "output_type": "execute_result"
    }
   ],
   "source": [
    "dot_data = tree.export_graphviz(dt_2,  \n",
    "                                feature_names = list(caly_df_zapas)\n",
    ", \n",
    "               class_names=\"IE\",\n",
    "               rounded=True, \n",
    "               filled = True,out_file=None)\n",
    "graph = graphviz.Source(dot_data, format=\"png\") \n",
    "graph"
   ]
  },
  {
   "cell_type": "code",
   "execution_count": 51,
   "metadata": {},
   "outputs": [
    {
     "data": {
      "text/plain": [
       "'decision_tree_graphivz.png'"
      ]
     },
     "execution_count": 51,
     "metadata": {},
     "output_type": "execute_result"
    }
   ],
   "source": [
    "graph.render(\"decision_tree_graphivz\")"
   ]
  },
  {
   "cell_type": "markdown",
   "metadata": {},
   "source": [
    "### 6.5 Zapisuje wyniki predykcji dla drzewa decyzyjnego wszystkie dane"
   ]
  },
  {
   "cell_type": "code",
   "execution_count": 39,
   "metadata": {},
   "outputs": [],
   "source": [
    "dane_do_zapisu_2.to_csv(\"D:/STUDIA/ROK_II/Projekt/Predykcje_i błędy/Zestaw 2000/IE_Drzewo_Decyzyjne_FS.csv\")"
   ]
  },
  {
   "cell_type": "markdown",
   "metadata": {},
   "source": [
    "## 7.1 Losowe lasy drzew decyzyjnych "
   ]
  },
  {
   "cell_type": "markdown",
   "metadata": {},
   "source": [
    "### 7.1.1 Dobieranie zmiennych"
   ]
  },
  {
   "cell_type": "code",
   "execution_count": 27,
   "metadata": {},
   "outputs": [],
   "source": [
    "estimator=RandomForestRegressor()\n",
    "selector = RFECV(estimator, step=1, cv=2,scoring=mae_scorer)\n",
    "selector2 = selector.fit(caly_df, caly_label)                   "
   ]
  },
  {
   "cell_type": "code",
   "execution_count": 28,
   "metadata": {},
   "outputs": [],
   "source": [
    "kombinacje=[]\n",
    "nazwy_kolumn=caly_df.columns\n",
    "dictionary = dict(zip(nazwy_kolumn, selector2.ranking_))\n",
    "dictionary= dict(sorted(dictionary.items(), key=lambda item: item[1]))"
   ]
  },
  {
   "cell_type": "code",
   "execution_count": 29,
   "metadata": {},
   "outputs": [],
   "source": [
    "nazwy_kolumn_2=[]\n",
    "for x in dictionary.keys():\n",
    "    nazwy_kolumn_2.append(x)"
   ]
  },
  {
   "cell_type": "code",
   "execution_count": 30,
   "metadata": {},
   "outputs": [
    {
     "name": "stdout",
     "output_type": "stream",
     "text": [
      "['IP', 'WH-KSOM', 'WH-DLUG', 'PI-PLOD', 'kg bi', 2020, 'CRk', 'kg ml', 'OMC']\n"
     ]
    }
   ],
   "source": [
    "\n",
    "dane_do_porownania=pd.DataFrame(columns=[\"Liczba zmiennych\",\n",
    "                                    \"Błąd\"]\n",
    "                                )\n",
    "glowne_wyniki=[]\n",
    "glowne_zmienne=[]\n",
    "for i in range(0,len(nazwy_kolumn_2)):\n",
    "    zmienne=[]\n",
    "    for q in range(0,i+1):\n",
    "        zmienne.append(nazwy_kolumn_2[q])\n",
    "    kombinacje.append(zmienne)\n",
    "    data_frame=caly_df_zapas[zmienne]\n",
    "    kfold = KFold(n_splits=5, shuffle=False)\n",
    "\n",
    "    data_frame = np.array(data_frame)\n",
    "    caly_label = np.array(caly_label)\n",
    "    \n",
    "    wyniki=[]\n",
    "    \n",
    "    for train, test in kfold.split(data_frame, caly_label):\n",
    "        reg = RandomForestRegressor()\n",
    "        reg.fit(data_frame[train], caly_label[train])\n",
    "        predykcje=reg.predict(data_frame[test])\n",
    "        \n",
    "        dane_folda=pd.DataFrame({\"pred\": predykcje.ravel(),\n",
    "                                    \"obs\": caly_label[test]\n",
    "                                })\n",
    "        \n",
    "        dane_folda['blad']=abs(dane_folda['obs']-dane_folda['pred'])\n",
    "        mae=dane_folda['blad'].sum()/len(dane_folda['blad'])\n",
    "        wyniki.append(mae)\n",
    "        \n",
    "    wynik=sum(wyniki)/len(wyniki)\n",
    "    glowne_wyniki.append(wynik)\n",
    "    glowne_zmienne.append(i)\n",
    "    \n",
    "dane_do_porownania[\"Liczba zmiennych\"]=glowne_zmienne\n",
    "dane_do_porownania[\"Błąd\"]=glowne_wyniki\n",
    "\n",
    "index=list(dane_do_porownania[\"Błąd\"]).index(min(list(dane_do_porownania[\"Błąd\"])))\n",
    "\n",
    "print(kombinacje[index])"
   ]
  },
  {
   "cell_type": "code",
   "execution_count": 31,
   "metadata": {},
   "outputs": [
    {
     "data": {
      "image/png": "[encoded data removed]",
      "text/plain": [
       "<Figure size 432x288 with 1 Axes>"
      ]
     },
     "metadata": {
      "needs_background": "light"
     },
     "output_type": "display_data"
    }
   ],
   "source": [
    "plt.plot(list(dane_do_porownania[\"Błąd\"]))\n",
    "plt.axvline(x=list(dane_do_porownania[\"Błąd\"]).index(min(list(dane_do_porownania[\"Błąd\"]))), color='r', linestyle='-')\n",
    "plt.show()"
   ]
  },
  {
   "cell_type": "code",
   "execution_count": 32,
   "metadata": {},
   "outputs": [
    {
     "name": "stdout",
     "output_type": "stream",
     "text": [
      "8 \n",
      " ['IP', 'WH-KSOM', 'WH-DLUG', 'PI-PLOD', 'kg bi', 2020, 'CRk', 'kg ml', 'OMC']\n"
     ]
    }
   ],
   "source": [
    "print(index,\"\\n\",kombinacje[index])"
   ]
  },
  {
   "cell_type": "code",
   "execution_count": 33,
   "metadata": {},
   "outputs": [
    {
     "data": {
      "text/plain": [
       "['IP', 'WH-KSOM', 'WH-DLUG', 'PI-PLOD', 'kg bi', 2020, 'CRk', 'kg ml', 'OMC']"
      ]
     },
     "execution_count": 33,
     "metadata": {},
     "output_type": "execute_result"
    }
   ],
   "source": [
    "kombinacje[8]"
   ]
  },
  {
   "cell_type": "code",
   "execution_count": 34,
   "metadata": {},
   "outputs": [],
   "source": [
    "dane_do_porownania.to_csv('Wyniki REFCV las losowy IE.csv',index=False)"
   ]
  },
  {
   "cell_type": "code",
   "execution_count": 21,
   "metadata": {},
   "outputs": [],
   "source": [
    "zestaw_caly=caly_df_zapas\n",
    "#zestaw_8=caly_df_zapas[kombinacje[8]]\n",
    "zestaw_8=caly_df_zapas[['IP', 'WH-KSOM', 'WH-DLUG', 'PI-PLOD', 'kg bi', 2020, 'CRk', 'kg ml', 'OMC']]\n",
    "zestaw_caly = np.array(zestaw_caly)\n",
    "zestaw_8 = np.array(zestaw_8)\n",
    "\n",
    "caly_label = np.array(caly_label)"
   ]
  },
  {
   "cell_type": "markdown",
   "metadata": {},
   "source": [
    "## 7.2 Losowe lasy drzew decyzyjnych hiperparametry"
   ]
  },
  {
   "cell_type": "markdown",
   "metadata": {},
   "source": [
    "## 7.2 Hiperparametry Zestaw 8"
   ]
  },
  {
   "cell_type": "markdown",
   "metadata": {},
   "source": [
    "### 7.2.1 Hiperparametry Zestaw 8 part1"
   ]
  },
  {
   "cell_type": "code",
   "execution_count": 60,
   "metadata": {},
   "outputs": [],
   "source": [
    "param_grid = {\n",
    "    'criterion':['mae'],#\n",
    "    'min_samples_split':range(2,10,3), #\n",
    "    'min_samples_leaf': range(2,10,3),     #\n",
    "    'max_leaf_nodes':range(5,15,5), #\n",
    "    'max_depth':list(range(5, 15,5)), #\n",
    "    'bootstrap': [True,False],\n",
    "    'n_estimators':[100] #\n",
    "}"
   ]
  },
  {
   "cell_type": "code",
   "execution_count": 61,
   "metadata": {},
   "outputs": [
    {
     "name": "stdout",
     "output_type": "stream",
     "text": [
      "Fitting 2 folds for each of 72 candidates, totalling 144 fits\n"
     ]
    },
    {
     "data": {
      "text/plain": [
       "GridSearchCV(cv=2, estimator=RandomForestRegressor(), n_jobs=1,\n",
       "             param_grid={'bootstrap': [True, False], 'criterion': ['mae'],\n",
       "                         'max_depth': [5, 10],\n",
       "                         'max_leaf_nodes': range(5, 15, 5),\n",
       "                         'min_samples_leaf': range(2, 10, 3),\n",
       "                         'min_samples_split': range(2, 10, 3),\n",
       "                         'n_estimators': [100]},\n",
       "             scoring='neg_mean_absolute_error', verbose=1)"
      ]
     },
     "execution_count": 61,
     "metadata": {},
     "output_type": "execute_result"
    }
   ],
   "source": [
    "rf_1 = RandomForestRegressor()\n",
    "grid_search_1 = GridSearchCV(estimator = rf_1, param_grid = param_grid, \n",
    "                          cv = 2, n_jobs = 1, verbose = 1,scoring='neg_mean_absolute_error')\n",
    "grid_search_1.fit(zestaw_8, np.ravel(caly_label))"
   ]
  },
  {
   "cell_type": "code",
   "execution_count": 62,
   "metadata": {},
   "outputs": [
    {
     "data": {
      "text/plain": [
       "RandomForestRegressor(criterion='mae', max_depth=5, max_leaf_nodes=10,\n",
       "                      min_samples_leaf=8, min_samples_split=5)"
      ]
     },
     "execution_count": 62,
     "metadata": {},
     "output_type": "execute_result"
    }
   ],
   "source": [
    "grid_search_1.best_estimator_"
   ]
  },
  {
   "cell_type": "code",
   "execution_count": 63,
   "metadata": {},
   "outputs": [
    {
     "data": {
      "text/plain": [
       "-88.39163931637741"
      ]
     },
     "execution_count": 63,
     "metadata": {},
     "output_type": "execute_result"
    }
   ],
   "source": [
    "grid_search_1.best_score_"
   ]
  },
  {
   "cell_type": "markdown",
   "metadata": {},
   "source": [
    "### 7.2.2 Hiperparametry Zestaw 8 part2"
   ]
  },
  {
   "cell_type": "code",
   "execution_count": 73,
   "metadata": {},
   "outputs": [],
   "source": [
    "param_grid2 = {\n",
    "    'criterion':['mae'],#\n",
    "    'min_samples_split':range(6,10,1), #5\n",
    "    'min_samples_leaf': range(6,10,1), #8\n",
    "    'max_leaf_nodes':range(9,12,1), #10\n",
    "    'max_depth':list(range(4, 6,1)), #5\n",
    "    'bootstrap': [True,False],\n",
    "    'n_estimators':[100] #\n",
    "}"
   ]
  },
  {
   "cell_type": "code",
   "execution_count": 74,
   "metadata": {},
   "outputs": [
    {
     "name": "stdout",
     "output_type": "stream",
     "text": [
      "Fitting 2 folds for each of 192 candidates, totalling 384 fits\n"
     ]
    },
    {
     "data": {
      "text/plain": [
       "GridSearchCV(cv=2, estimator=RandomForestRegressor(), n_jobs=1,\n",
       "             param_grid={'bootstrap': [True, False], 'criterion': ['mae'],\n",
       "                         'max_depth': [4, 5], 'max_leaf_nodes': range(9, 12),\n",
       "                         'min_samples_leaf': range(6, 10),\n",
       "                         'min_samples_split': range(6, 10),\n",
       "                         'n_estimators': [100]},\n",
       "             scoring='neg_mean_absolute_error', verbose=1)"
      ]
     },
     "execution_count": 74,
     "metadata": {},
     "output_type": "execute_result"
    }
   ],
   "source": [
    "rf_1 = RandomForestRegressor()\n",
    "grid_search_1 = GridSearchCV(estimator = rf_1, param_grid = param_grid2, \n",
    "                          cv = 2, n_jobs = 1, verbose = 1,scoring='neg_mean_absolute_error')\n",
    "grid_search_1.fit(zestaw_8, np.ravel(caly_label))"
   ]
  },
  {
   "cell_type": "code",
   "execution_count": 75,
   "metadata": {},
   "outputs": [
    {
     "data": {
      "text/plain": [
       "RandomForestRegressor(criterion='mae', max_depth=5, max_leaf_nodes=11,\n",
       "                      min_samples_leaf=9, min_samples_split=6)"
      ]
     },
     "execution_count": 75,
     "metadata": {},
     "output_type": "execute_result"
    }
   ],
   "source": [
    "grid_search_1.best_estimator_"
   ]
  },
  {
   "cell_type": "code",
   "execution_count": 76,
   "metadata": {},
   "outputs": [
    {
     "data": {
      "text/plain": [
       "-86.9945549239623"
      ]
     },
     "execution_count": 76,
     "metadata": {},
     "output_type": "execute_result"
    }
   ],
   "source": [
    "grid_search_1.best_score_"
   ]
  },
  {
   "cell_type": "markdown",
   "metadata": {},
   "source": [
    "## 7.3 Hiperparametry Wszystkie"
   ]
  },
  {
   "cell_type": "markdown",
   "metadata": {},
   "source": [
    "### 7.3.1 Hiperparametry Wszystkie part1"
   ]
  },
  {
   "cell_type": "code",
   "execution_count": 64,
   "metadata": {},
   "outputs": [
    {
     "name": "stdout",
     "output_type": "stream",
     "text": [
      "Fitting 2 folds for each of 72 candidates, totalling 144 fits\n"
     ]
    },
    {
     "data": {
      "text/plain": [
       "GridSearchCV(cv=2, estimator=RandomForestRegressor(), n_jobs=1,\n",
       "             param_grid={'bootstrap': [True, False], 'criterion': ['mae'],\n",
       "                         'max_depth': [5, 10],\n",
       "                         'max_leaf_nodes': range(5, 15, 5),\n",
       "                         'min_samples_leaf': range(2, 10, 3),\n",
       "                         'min_samples_split': range(2, 10, 3),\n",
       "                         'n_estimators': [100]},\n",
       "             scoring='neg_mean_absolute_error', verbose=1)"
      ]
     },
     "execution_count": 64,
     "metadata": {},
     "output_type": "execute_result"
    }
   ],
   "source": [
    "rf_2 = RandomForestRegressor()\n",
    "grid_search_2 = GridSearchCV(estimator = rf_2, param_grid = param_grid, \n",
    "                          cv = 2, n_jobs = 1, verbose = 1,scoring='neg_mean_absolute_error')\n",
    "grid_search_2.fit(zestaw_caly, np.ravel(caly_label))"
   ]
  },
  {
   "cell_type": "code",
   "execution_count": 65,
   "metadata": {},
   "outputs": [
    {
     "data": {
      "text/plain": [
       "RandomForestRegressor(criterion='mae', max_depth=10, max_leaf_nodes=10,\n",
       "                      min_samples_leaf=8)"
      ]
     },
     "execution_count": 65,
     "metadata": {},
     "output_type": "execute_result"
    }
   ],
   "source": [
    "grid_search_2.best_estimator_"
   ]
  },
  {
   "cell_type": "code",
   "execution_count": 66,
   "metadata": {},
   "outputs": [
    {
     "data": {
      "text/plain": [
       "-85.38392142902651"
      ]
     },
     "execution_count": 66,
     "metadata": {},
     "output_type": "execute_result"
    }
   ],
   "source": [
    "grid_search_2.best_score_"
   ]
  },
  {
   "cell_type": "markdown",
   "metadata": {},
   "source": [
    "### 7.3.2 Hiperparametry Wszystkie part2"
   ]
  },
  {
   "cell_type": "code",
   "execution_count": 86,
   "metadata": {},
   "outputs": [],
   "source": [
    "param_grid2 = {\n",
    "    'criterion':['mae'],#\n",
    "    'min_samples_leaf': range(7,12,2), #8\n",
    "    'max_leaf_nodes':range(9,13,3), #10\n",
    "    'max_depth':list(range(9, 16,3)), #10\n",
    "    'n_estimators':[100] #\n",
    "}"
   ]
  },
  {
   "cell_type": "code",
   "execution_count": 87,
   "metadata": {
    "scrolled": true
   },
   "outputs": [
    {
     "name": "stdout",
     "output_type": "stream",
     "text": [
      "Fitting 2 folds for each of 54 candidates, totalling 108 fits\n",
      "[CV] END criterion=mae, max_depth=9, max_leaf_nodes=9, min_samples_leaf=7, min_samples_split=7, n_estimators=100; total time=   4.5s\n",
      "[CV] END criterion=mae, max_depth=9, max_leaf_nodes=9, min_samples_leaf=7, min_samples_split=7, n_estimators=100; total time=   4.9s\n",
      "[CV] END criterion=mae, max_depth=9, max_leaf_nodes=9, min_samples_leaf=7, min_samples_split=10, n_estimators=100; total time=   4.5s\n",
      "[CV] END criterion=mae, max_depth=9, max_leaf_nodes=9, min_samples_leaf=7, min_samples_split=10, n_estimators=100; total time=   5.0s\n",
      "[CV] END criterion=mae, max_depth=9, max_leaf_nodes=9, min_samples_leaf=7, min_samples_split=13, n_estimators=100; total time=   4.4s\n",
      "[CV] END criterion=mae, max_depth=9, max_leaf_nodes=9, min_samples_leaf=7, min_samples_split=13, n_estimators=100; total time=   4.9s\n",
      "[CV] END criterion=mae, max_depth=9, max_leaf_nodes=9, min_samples_leaf=9, min_samples_split=7, n_estimators=100; total time=   4.3s\n",
      "[CV] END criterion=mae, max_depth=9, max_leaf_nodes=9, min_samples_leaf=9, min_samples_split=7, n_estimators=100; total time=   4.9s\n",
      "[CV] END criterion=mae, max_depth=9, max_leaf_nodes=9, min_samples_leaf=9, min_samples_split=10, n_estimators=100; total time=   4.3s\n",
      "[CV] END criterion=mae, max_depth=9, max_leaf_nodes=9, min_samples_leaf=9, min_samples_split=10, n_estimators=100; total time=   4.9s\n",
      "[CV] END criterion=mae, max_depth=9, max_leaf_nodes=9, min_samples_leaf=9, min_samples_split=13, n_estimators=100; total time=   4.3s\n",
      "[CV] END criterion=mae, max_depth=9, max_leaf_nodes=9, min_samples_leaf=9, min_samples_split=13, n_estimators=100; total time=   5.0s\n",
      "[CV] END criterion=mae, max_depth=9, max_leaf_nodes=9, min_samples_leaf=11, min_samples_split=7, n_estimators=100; total time=   4.3s\n",
      "[CV] END criterion=mae, max_depth=9, max_leaf_nodes=9, min_samples_leaf=11, min_samples_split=7, n_estimators=100; total time=   4.7s\n",
      "[CV] END criterion=mae, max_depth=9, max_leaf_nodes=9, min_samples_leaf=11, min_samples_split=10, n_estimators=100; total time=   4.3s\n",
      "[CV] END criterion=mae, max_depth=9, max_leaf_nodes=9, min_samples_leaf=11, min_samples_split=10, n_estimators=100; total time=   4.9s\n",
      "[CV] END criterion=mae, max_depth=9, max_leaf_nodes=9, min_samples_leaf=11, min_samples_split=13, n_estimators=100; total time=   4.2s\n",
      "[CV] END criterion=mae, max_depth=9, max_leaf_nodes=9, min_samples_leaf=11, min_samples_split=13, n_estimators=100; total time=   4.8s\n",
      "[CV] END criterion=mae, max_depth=9, max_leaf_nodes=12, min_samples_leaf=7, min_samples_split=7, n_estimators=100; total time=   4.7s\n",
      "[CV] END criterion=mae, max_depth=9, max_leaf_nodes=12, min_samples_leaf=7, min_samples_split=7, n_estimators=100; total time=   5.3s\n",
      "[CV] END criterion=mae, max_depth=9, max_leaf_nodes=12, min_samples_leaf=7, min_samples_split=10, n_estimators=100; total time=   4.7s\n",
      "[CV] END criterion=mae, max_depth=9, max_leaf_nodes=12, min_samples_leaf=7, min_samples_split=10, n_estimators=100; total time=   5.2s\n",
      "[CV] END criterion=mae, max_depth=9, max_leaf_nodes=12, min_samples_leaf=7, min_samples_split=13, n_estimators=100; total time=   4.8s\n",
      "[CV] END criterion=mae, max_depth=9, max_leaf_nodes=12, min_samples_leaf=7, min_samples_split=13, n_estimators=100; total time=   5.4s\n",
      "[CV] END criterion=mae, max_depth=9, max_leaf_nodes=12, min_samples_leaf=9, min_samples_split=7, n_estimators=100; total time=   4.7s\n",
      "[CV] END criterion=mae, max_depth=9, max_leaf_nodes=12, min_samples_leaf=9, min_samples_split=7, n_estimators=100; total time=   5.1s\n",
      "[CV] END criterion=mae, max_depth=9, max_leaf_nodes=12, min_samples_leaf=9, min_samples_split=10, n_estimators=100; total time=   4.7s\n",
      "[CV] END criterion=mae, max_depth=9, max_leaf_nodes=12, min_samples_leaf=9, min_samples_split=10, n_estimators=100; total time=   5.2s\n",
      "[CV] END criterion=mae, max_depth=9, max_leaf_nodes=12, min_samples_leaf=9, min_samples_split=13, n_estimators=100; total time=   4.5s\n",
      "[CV] END criterion=mae, max_depth=9, max_leaf_nodes=12, min_samples_leaf=9, min_samples_split=13, n_estimators=100; total time=   5.1s\n",
      "[CV] END criterion=mae, max_depth=9, max_leaf_nodes=12, min_samples_leaf=11, min_samples_split=7, n_estimators=100; total time=   4.6s\n",
      "[CV] END criterion=mae, max_depth=9, max_leaf_nodes=12, min_samples_leaf=11, min_samples_split=7, n_estimators=100; total time=   5.0s\n",
      "[CV] END criterion=mae, max_depth=9, max_leaf_nodes=12, min_samples_leaf=11, min_samples_split=10, n_estimators=100; total time=   4.5s\n",
      "[CV] END criterion=mae, max_depth=9, max_leaf_nodes=12, min_samples_leaf=11, min_samples_split=10, n_estimators=100; total time=   5.0s\n",
      "[CV] END criterion=mae, max_depth=9, max_leaf_nodes=12, min_samples_leaf=11, min_samples_split=13, n_estimators=100; total time=   4.6s\n",
      "[CV] END criterion=mae, max_depth=9, max_leaf_nodes=12, min_samples_leaf=11, min_samples_split=13, n_estimators=100; total time=   5.0s\n",
      "[CV] END criterion=mae, max_depth=12, max_leaf_nodes=9, min_samples_leaf=7, min_samples_split=7, n_estimators=100; total time=   4.4s\n",
      "[CV] END criterion=mae, max_depth=12, max_leaf_nodes=9, min_samples_leaf=7, min_samples_split=7, n_estimators=100; total time=   5.0s\n",
      "[CV] END criterion=mae, max_depth=12, max_leaf_nodes=9, min_samples_leaf=7, min_samples_split=10, n_estimators=100; total time=   4.3s\n",
      "[CV] END criterion=mae, max_depth=12, max_leaf_nodes=9, min_samples_leaf=7, min_samples_split=10, n_estimators=100; total time=   4.8s\n",
      "[CV] END criterion=mae, max_depth=12, max_leaf_nodes=9, min_samples_leaf=7, min_samples_split=13, n_estimators=100; total time=   4.5s\n",
      "[CV] END criterion=mae, max_depth=12, max_leaf_nodes=9, min_samples_leaf=7, min_samples_split=13, n_estimators=100; total time=   5.0s\n",
      "[CV] END criterion=mae, max_depth=12, max_leaf_nodes=9, min_samples_leaf=9, min_samples_split=7, n_estimators=100; total time=   4.2s\n",
      "[CV] END criterion=mae, max_depth=12, max_leaf_nodes=9, min_samples_leaf=9, min_samples_split=7, n_estimators=100; total time=   4.9s\n",
      "[CV] END criterion=mae, max_depth=12, max_leaf_nodes=9, min_samples_leaf=9, min_samples_split=10, n_estimators=100; total time=   4.3s\n",
      "[CV] END criterion=mae, max_depth=12, max_leaf_nodes=9, min_samples_leaf=9, min_samples_split=10, n_estimators=100; total time=   4.8s\n",
      "[CV] END criterion=mae, max_depth=12, max_leaf_nodes=9, min_samples_leaf=9, min_samples_split=13, n_estimators=100; total time=   4.2s\n",
      "[CV] END criterion=mae, max_depth=12, max_leaf_nodes=9, min_samples_leaf=9, min_samples_split=13, n_estimators=100; total time=   4.9s\n",
      "[CV] END criterion=mae, max_depth=12, max_leaf_nodes=9, min_samples_leaf=11, min_samples_split=7, n_estimators=100; total time=   4.2s\n",
      "[CV] END criterion=mae, max_depth=12, max_leaf_nodes=9, min_samples_leaf=11, min_samples_split=7, n_estimators=100; total time=   4.7s\n",
      "[CV] END criterion=mae, max_depth=12, max_leaf_nodes=9, min_samples_leaf=11, min_samples_split=10, n_estimators=100; total time=   4.2s\n",
      "[CV] END criterion=mae, max_depth=12, max_leaf_nodes=9, min_samples_leaf=11, min_samples_split=10, n_estimators=100; total time=   4.8s\n",
      "[CV] END criterion=mae, max_depth=12, max_leaf_nodes=9, min_samples_leaf=11, min_samples_split=13, n_estimators=100; total time=   4.3s\n",
      "[CV] END criterion=mae, max_depth=12, max_leaf_nodes=9, min_samples_leaf=11, min_samples_split=13, n_estimators=100; total time=   4.8s\n",
      "[CV] END criterion=mae, max_depth=12, max_leaf_nodes=12, min_samples_leaf=7, min_samples_split=7, n_estimators=100; total time=   4.8s\n",
      "[CV] END criterion=mae, max_depth=12, max_leaf_nodes=12, min_samples_leaf=7, min_samples_split=7, n_estimators=100; total time=   5.2s\n",
      "[CV] END criterion=mae, max_depth=12, max_leaf_nodes=12, min_samples_leaf=7, min_samples_split=10, n_estimators=100; total time=   4.6s\n",
      "[CV] END criterion=mae, max_depth=12, max_leaf_nodes=12, min_samples_leaf=7, min_samples_split=10, n_estimators=100; total time=   5.3s\n",
      "[CV] END criterion=mae, max_depth=12, max_leaf_nodes=12, min_samples_leaf=7, min_samples_split=13, n_estimators=100; total time=   4.6s\n",
      "[CV] END criterion=mae, max_depth=12, max_leaf_nodes=12, min_samples_leaf=7, min_samples_split=13, n_estimators=100; total time=   5.1s\n",
      "[CV] END criterion=mae, max_depth=12, max_leaf_nodes=12, min_samples_leaf=9, min_samples_split=7, n_estimators=100; total time=   4.6s\n"
     ]
    },
    {
     "name": "stdout",
     "output_type": "stream",
     "text": [
      "[CV] END criterion=mae, max_depth=12, max_leaf_nodes=12, min_samples_leaf=9, min_samples_split=7, n_estimators=100; total time=   5.0s\n",
      "[CV] END criterion=mae, max_depth=12, max_leaf_nodes=12, min_samples_leaf=9, min_samples_split=10, n_estimators=100; total time=   4.6s\n",
      "[CV] END criterion=mae, max_depth=12, max_leaf_nodes=12, min_samples_leaf=9, min_samples_split=10, n_estimators=100; total time=   5.0s\n",
      "[CV] END criterion=mae, max_depth=12, max_leaf_nodes=12, min_samples_leaf=9, min_samples_split=13, n_estimators=100; total time=   4.6s\n",
      "[CV] END criterion=mae, max_depth=12, max_leaf_nodes=12, min_samples_leaf=9, min_samples_split=13, n_estimators=100; total time=   5.1s\n",
      "[CV] END criterion=mae, max_depth=12, max_leaf_nodes=12, min_samples_leaf=11, min_samples_split=7, n_estimators=100; total time=   4.5s\n",
      "[CV] END criterion=mae, max_depth=12, max_leaf_nodes=12, min_samples_leaf=11, min_samples_split=7, n_estimators=100; total time=   4.9s\n",
      "[CV] END criterion=mae, max_depth=12, max_leaf_nodes=12, min_samples_leaf=11, min_samples_split=10, n_estimators=100; total time=   4.5s\n",
      "[CV] END criterion=mae, max_depth=12, max_leaf_nodes=12, min_samples_leaf=11, min_samples_split=10, n_estimators=100; total time=   4.9s\n",
      "[CV] END criterion=mae, max_depth=12, max_leaf_nodes=12, min_samples_leaf=11, min_samples_split=13, n_estimators=100; total time=   4.5s\n",
      "[CV] END criterion=mae, max_depth=12, max_leaf_nodes=12, min_samples_leaf=11, min_samples_split=13, n_estimators=100; total time=   5.0s\n",
      "[CV] END criterion=mae, max_depth=15, max_leaf_nodes=9, min_samples_leaf=7, min_samples_split=7, n_estimators=100; total time=   4.4s\n",
      "[CV] END criterion=mae, max_depth=15, max_leaf_nodes=9, min_samples_leaf=7, min_samples_split=7, n_estimators=100; total time=   4.9s\n",
      "[CV] END criterion=mae, max_depth=15, max_leaf_nodes=9, min_samples_leaf=7, min_samples_split=10, n_estimators=100; total time=   4.5s\n",
      "[CV] END criterion=mae, max_depth=15, max_leaf_nodes=9, min_samples_leaf=7, min_samples_split=10, n_estimators=100; total time=   5.0s\n",
      "[CV] END criterion=mae, max_depth=15, max_leaf_nodes=9, min_samples_leaf=7, min_samples_split=13, n_estimators=100; total time=   4.4s\n",
      "[CV] END criterion=mae, max_depth=15, max_leaf_nodes=9, min_samples_leaf=7, min_samples_split=13, n_estimators=100; total time=   4.9s\n",
      "[CV] END criterion=mae, max_depth=15, max_leaf_nodes=9, min_samples_leaf=9, min_samples_split=7, n_estimators=100; total time=   4.3s\n",
      "[CV] END criterion=mae, max_depth=15, max_leaf_nodes=9, min_samples_leaf=9, min_samples_split=7, n_estimators=100; total time=   4.8s\n",
      "[CV] END criterion=mae, max_depth=15, max_leaf_nodes=9, min_samples_leaf=9, min_samples_split=10, n_estimators=100; total time=   4.2s\n",
      "[CV] END criterion=mae, max_depth=15, max_leaf_nodes=9, min_samples_leaf=9, min_samples_split=10, n_estimators=100; total time=   4.8s\n",
      "[CV] END criterion=mae, max_depth=15, max_leaf_nodes=9, min_samples_leaf=9, min_samples_split=13, n_estimators=100; total time=   4.2s\n",
      "[CV] END criterion=mae, max_depth=15, max_leaf_nodes=9, min_samples_leaf=9, min_samples_split=13, n_estimators=100; total time=   4.8s\n",
      "[CV] END criterion=mae, max_depth=15, max_leaf_nodes=9, min_samples_leaf=11, min_samples_split=7, n_estimators=100; total time=   4.2s\n",
      "[CV] END criterion=mae, max_depth=15, max_leaf_nodes=9, min_samples_leaf=11, min_samples_split=7, n_estimators=100; total time=   4.8s\n",
      "[CV] END criterion=mae, max_depth=15, max_leaf_nodes=9, min_samples_leaf=11, min_samples_split=10, n_estimators=100; total time=   4.2s\n",
      "[CV] END criterion=mae, max_depth=15, max_leaf_nodes=9, min_samples_leaf=11, min_samples_split=10, n_estimators=100; total time=   4.7s\n",
      "[CV] END criterion=mae, max_depth=15, max_leaf_nodes=9, min_samples_leaf=11, min_samples_split=13, n_estimators=100; total time=   4.3s\n",
      "[CV] END criterion=mae, max_depth=15, max_leaf_nodes=9, min_samples_leaf=11, min_samples_split=13, n_estimators=100; total time=   4.7s\n",
      "[CV] END criterion=mae, max_depth=15, max_leaf_nodes=12, min_samples_leaf=7, min_samples_split=7, n_estimators=100; total time=   4.8s\n",
      "[CV] END criterion=mae, max_depth=15, max_leaf_nodes=12, min_samples_leaf=7, min_samples_split=7, n_estimators=100; total time=   5.1s\n",
      "[CV] END criterion=mae, max_depth=15, max_leaf_nodes=12, min_samples_leaf=7, min_samples_split=10, n_estimators=100; total time=   4.6s\n",
      "[CV] END criterion=mae, max_depth=15, max_leaf_nodes=12, min_samples_leaf=7, min_samples_split=10, n_estimators=100; total time=   5.3s\n",
      "[CV] END criterion=mae, max_depth=15, max_leaf_nodes=12, min_samples_leaf=7, min_samples_split=13, n_estimators=100; total time=   4.7s\n",
      "[CV] END criterion=mae, max_depth=15, max_leaf_nodes=12, min_samples_leaf=7, min_samples_split=13, n_estimators=100; total time=   5.2s\n",
      "[CV] END criterion=mae, max_depth=15, max_leaf_nodes=12, min_samples_leaf=9, min_samples_split=7, n_estimators=100; total time=   4.6s\n",
      "[CV] END criterion=mae, max_depth=15, max_leaf_nodes=12, min_samples_leaf=9, min_samples_split=7, n_estimators=100; total time=   5.1s\n",
      "[CV] END criterion=mae, max_depth=15, max_leaf_nodes=12, min_samples_leaf=9, min_samples_split=10, n_estimators=100; total time=   4.6s\n",
      "[CV] END criterion=mae, max_depth=15, max_leaf_nodes=12, min_samples_leaf=9, min_samples_split=10, n_estimators=100; total time=   5.1s\n",
      "[CV] END criterion=mae, max_depth=15, max_leaf_nodes=12, min_samples_leaf=9, min_samples_split=13, n_estimators=100; total time=   4.5s\n",
      "[CV] END criterion=mae, max_depth=15, max_leaf_nodes=12, min_samples_leaf=9, min_samples_split=13, n_estimators=100; total time=   5.0s\n",
      "[CV] END criterion=mae, max_depth=15, max_leaf_nodes=12, min_samples_leaf=11, min_samples_split=7, n_estimators=100; total time=   4.5s\n",
      "[CV] END criterion=mae, max_depth=15, max_leaf_nodes=12, min_samples_leaf=11, min_samples_split=7, n_estimators=100; total time=   5.0s\n",
      "[CV] END criterion=mae, max_depth=15, max_leaf_nodes=12, min_samples_leaf=11, min_samples_split=10, n_estimators=100; total time=   4.5s\n",
      "[CV] END criterion=mae, max_depth=15, max_leaf_nodes=12, min_samples_leaf=11, min_samples_split=10, n_estimators=100; total time=   5.0s\n",
      "[CV] END criterion=mae, max_depth=15, max_leaf_nodes=12, min_samples_leaf=11, min_samples_split=13, n_estimators=100; total time=   4.4s\n",
      "[CV] END criterion=mae, max_depth=15, max_leaf_nodes=12, min_samples_leaf=11, min_samples_split=13, n_estimators=100; total time=   5.0s\n"
     ]
    },
    {
     "data": {
      "text/plain": [
       "GridSearchCV(cv=2, estimator=RandomForestRegressor(), n_jobs=1,\n",
       "             param_grid={'criterion': ['mae'], 'max_depth': [9, 12, 15],\n",
       "                         'max_leaf_nodes': range(9, 13, 3),\n",
       "                         'min_samples_leaf': range(7, 12, 2),\n",
       "                         'min_samples_split': range(7, 14, 3),\n",
       "                         'n_estimators': [100]},\n",
       "             scoring='neg_mean_absolute_error', verbose=2)"
      ]
     },
     "execution_count": 87,
     "metadata": {},
     "output_type": "execute_result"
    }
   ],
   "source": [
    "rf_2 = RandomForestRegressor()\n",
    "grid_search_2 = GridSearchCV(estimator = rf_2, param_grid = param_grid2, \n",
    "                          cv = 2, n_jobs = 1, verbose = 2,scoring='neg_mean_absolute_error')\n",
    "grid_search_2.fit(zestaw_caly, np.ravel(caly_label))"
   ]
  },
  {
   "cell_type": "code",
   "execution_count": 88,
   "metadata": {},
   "outputs": [
    {
     "data": {
      "text/plain": [
       "RandomForestRegressor(criterion='mae', max_depth=12, max_leaf_nodes=12,\n",
       "                      min_samples_leaf=9, min_samples_split=13)"
      ]
     },
     "execution_count": 88,
     "metadata": {},
     "output_type": "execute_result"
    }
   ],
   "source": [
    "grid_search_2.best_estimator_"
   ]
  },
  {
   "cell_type": "code",
   "execution_count": 89,
   "metadata": {},
   "outputs": [
    {
     "data": {
      "text/plain": [
       "-83.232251958685"
      ]
     },
     "execution_count": 89,
     "metadata": {},
     "output_type": "execute_result"
    }
   ],
   "source": [
    "grid_search_2.best_score_"
   ]
  },
  {
   "cell_type": "markdown",
   "metadata": {},
   "source": [
    "## 7.4 Cross valiadacja losowych lasów drzew decyzyjnych"
   ]
  },
  {
   "cell_type": "markdown",
   "metadata": {},
   "source": [
    "### 7.4.1 Cross valiadacja losowych lasy drzew decyzyjnych Wszystkie"
   ]
  },
  {
   "cell_type": "code",
   "execution_count": 26,
   "metadata": {},
   "outputs": [],
   "source": [
    "kfold = KFold(n_splits=5, shuffle=False)\n",
    "dane_do_zapisu_1=pd.DataFrame()\n",
    "licznik=1\n",
    "wart_1=[]\n",
    "\n",
    "for train, test in kfold.split(zestaw_caly, caly_label):\n",
    "    RF_1 = RandomForestRegressor(criterion='mae', max_depth=12, max_leaf_nodes=12,\n",
    "                      min_samples_leaf=9, min_samples_split=13)\n",
    "    \n",
    "    RF_1.fit(zestaw_caly[train], caly_label[train])\n",
    "    predykcje=RF_1.predict(zestaw_caly[test])\n",
    "    dane_folda_1=pd.DataFrame({\"pred\": predykcje.ravel(),\n",
    "                                \"obs\": caly_label[test],\n",
    "                                \"Fold\":licznik})\n",
    "    dane_do_zapisu_1=pd.concat([dane_do_zapisu_1,dane_folda_1])\n",
    "    sredni_blad=mean_absolute_error(caly_label[test],predykcje)\n",
    "    wart_1.append(sredni_blad)\n",
    "    licznik+=1"
   ]
  },
  {
   "cell_type": "code",
   "execution_count": 27,
   "metadata": {},
   "outputs": [
    {
     "data": {
      "text/plain": [
       "[91.31898666666667,\n",
       " 80.63278666666666,\n",
       " 83.54085333333333,\n",
       " 81.77441333333334,\n",
       " 82.94073333333333]"
      ]
     },
     "execution_count": 27,
     "metadata": {},
     "output_type": "execute_result"
    }
   ],
   "source": [
    "wart_1"
   ]
  },
  {
   "cell_type": "code",
   "execution_count": 28,
   "metadata": {},
   "outputs": [
    {
     "data": {
      "text/plain": [
       "84.04155466666666"
      ]
     },
     "execution_count": 28,
     "metadata": {},
     "output_type": "execute_result"
    }
   ],
   "source": [
    "sum(wart_1)/len(wart_1)"
   ]
  },
  {
   "cell_type": "markdown",
   "metadata": {},
   "source": [
    "### 7.4.2 Cross valiadacja losowych lasów drzew decyzyjnych  Zestaw 8"
   ]
  },
  {
   "cell_type": "code",
   "execution_count": 22,
   "metadata": {},
   "outputs": [],
   "source": [
    "kfold = KFold(n_splits=5, shuffle=False)\n",
    "dane_do_zapisu_1=pd.DataFrame()\n",
    "licznik=1\n",
    "wart_1=[]\n",
    "\n",
    "for train, test in kfold.split(zestaw_8, caly_label):\n",
    "    RF_2 = RandomForestRegressor(criterion='mae', max_depth=5, max_leaf_nodes=11,\n",
    "                      min_samples_leaf=9, min_samples_split=6)\n",
    "    \n",
    "    RF_2.fit(zestaw_8[train], caly_label[train])\n",
    "    predykcje=RF_2.predict(zestaw_8[test])\n",
    "    dane_folda_1=pd.DataFrame({\"pred\": predykcje.ravel(),\n",
    "                                \"obs\": caly_label[test],\n",
    "                                \"Fold\":licznik})\n",
    "    dane_do_zapisu_1=pd.concat([dane_do_zapisu_1,dane_folda_1])\n",
    "    sredni_blad=mean_absolute_error(caly_label[test],predykcje)\n",
    "    wart_1.append(sredni_blad)\n",
    "    licznik+=1"
   ]
  },
  {
   "cell_type": "code",
   "execution_count": 24,
   "metadata": {},
   "outputs": [
    {
     "data": {
      "text/plain": [
       "[99.75478666666666,\n",
       " 83.01994666666667,\n",
       " 84.53912,\n",
       " 84.75226666666666,\n",
       " 87.59066666666666]"
      ]
     },
     "execution_count": 24,
     "metadata": {},
     "output_type": "execute_result"
    }
   ],
   "source": [
    "wart_1"
   ]
  },
  {
   "cell_type": "code",
   "execution_count": 25,
   "metadata": {},
   "outputs": [
    {
     "data": {
      "text/plain": [
       "87.93135733333332"
      ]
     },
     "execution_count": 25,
     "metadata": {},
     "output_type": "execute_result"
    }
   ],
   "source": [
    "sum(wart_1)/len(wart_1)"
   ]
  },
  {
   "cell_type": "markdown",
   "metadata": {},
   "source": [
    "## 7.5 Zapisuje predykcje losowych lasów drzew decyzyjnych Wszystkie"
   ]
  },
  {
   "cell_type": "code",
   "execution_count": 29,
   "metadata": {},
   "outputs": [],
   "source": [
    "dane_do_zapisu_1.to_csv(\"D:/STUDIA/ROK_II/Projekt/Predykcje_i błędy/Zestaw 2000/IE_Lasowy_las_Drzew_Decyzyjnych_FS.csv\")"
   ]
  },
  {
   "cell_type": "code",
   "execution_count": null,
   "metadata": {},
   "outputs": [],
   "source": []
  }
 ],
 "metadata": {
  "colab": {
   "collapsed_sections": [],
   "name": "continues_variable_modelling_basic_regression.ipynb",
   "provenance": []
  },
  "kernelspec": {
   "display_name": "Python 3",
   "language": "python",
   "name": "python3"
  },
  "language_info": {
   "codemirror_mode": {
    "name": "ipython",
    "version": 3
   },
   "file_extension": ".py",
   "mimetype": "text/x-python",
   "name": "python",
   "nbconvert_exporter": "python",
   "pygments_lexer": "ipython3",
   "version": "3.7.10"
  }
 },
 "nbformat": 4,
 "nbformat_minor": 1
}
