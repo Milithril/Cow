{
 "cells": [
  {
   "cell_type": "code",
   "execution_count": 1,
   "id": "e40023ea",
   "metadata": {},
   "outputs": [],
   "source": [
    "import pandas as pd\n",
    "import numpy as np\n",
    "\n",
    "from sklearn.model_selection import cross_val_score, KFold\n",
    "import matplotlib.pyplot as plt \n",
    "from sklearn.model_selection import train_test_split\n",
    "from sklearn.neighbors import KNeighborsRegressor\n",
    "from sklearn.metrics import mean_absolute_error, r2_score\n",
    "from sklearn.preprocessing import StandardScaler\n",
    "from sklearn.feature_selection import RFECV\n",
    "from sklearn.linear_model import LinearRegression\n",
    "from sklearn.metrics import make_scorer\n",
    "from sklearn.model_selection import GridSearchCV"
   ]
  },
  {
   "cell_type": "markdown",
   "id": "7bbb5de9",
   "metadata": {},
   "source": [
    "### 1. Wczytuje dane"
   ]
  },
  {
   "cell_type": "code",
   "execution_count": 2,
   "id": "7dfc27c7",
   "metadata": {},
   "outputs": [],
   "source": [
    "train_df=pd.read_csv(\"D:/STUDIA/ROK_II/Projekt/Dane_jalowka_i_krowa_train.csv\", encoding=\"utf-8\")\n",
    "test_df=pd.read_csv(\"D:/STUDIA/ROK_II/Projekt/Dane_jalowka_i_krowa_test.csv\", encoding=\"utf-8\")\n",
    "val_df=pd.read_csv(\"D:/STUDIA/ROK_II/Projekt/Dane_jalowka_i_krowa_val.csv\", encoding=\"utf-8\")\n",
    "\n",
    "train_df.columns = ['id','Województwo', 'Data urodzenia', 'IE', 'Dokł. IE', 'PF', 'PI-PROD', 'PI-POKR', 'Prc', 'Psm', 'Pnr', 'Pw','PI-PLOD', 'CRj', 'CRk', 'PP', 'OMC', 'WH-KSOM', 'WH-DLUG', 'IP', 'kg ml', 'kg tł', '% tł', 'kg bi', '% bi', 'rc', 'sm', 'nr', 'w', 'og','kategoria']\n",
    "test_df.columns = ['id','Województwo', 'Data urodzenia', 'IE', 'Dokł. IE', 'PF', 'PI-PROD', 'PI-POKR', 'Prc', 'Psm', 'Pnr', 'Pw','PI-PLOD', 'CRj', 'CRk', 'PP', 'OMC', 'WH-KSOM', 'WH-DLUG', 'IP', 'kg ml', 'kg tł', '% tł', 'kg bi', '% bi', 'rc', 'sm', 'nr', 'w', 'og','kategoria']\n",
    "val_df.columns = ['id','Województwo', 'Data urodzenia', 'IE', 'Dokł. IE', 'PF', 'PI-PROD', 'PI-POKR', 'Prc', 'Psm', 'Pnr', 'Pw','PI-PLOD', 'CRj', 'CRk', 'PP', 'OMC', 'WH-KSOM', 'WH-DLUG', 'IP', 'kg ml', 'kg tł', '% tł', 'kg bi', '% bi', 'rc', 'sm', 'nr', 'w', 'og','kategoria']\n",
    "\n",
    "\n",
    "caly_df = pd.concat([train_df, test_df, val_df])\n",
    "\n",
    "\n",
    "caly_label=caly_df[\"IE\"]\n",
    "\n",
    "del caly_df[\"IE\"]\n",
    "del caly_df[\"id\"]\n",
    "del caly_df[\"PF\"]\n",
    "del caly_df[\"Dokł. IE\"]"
   ]
  },
  {
   "cell_type": "code",
   "execution_count": 3,
   "id": "c7b04280",
   "metadata": {},
   "outputs": [
    {
     "data": {
      "text/plain": [
       "1881"
      ]
     },
     "execution_count": 3,
     "metadata": {},
     "output_type": "execute_result"
    }
   ],
   "source": [
    "len(caly_label)"
   ]
  },
  {
   "cell_type": "code",
   "execution_count": 4,
   "id": "4b128c92",
   "metadata": {},
   "outputs": [
    {
     "name": "stdout",
     "output_type": "stream",
     "text": [
      "<class 'pandas.core.frame.DataFrame'>\n",
      "Int64Index: 1881 entries, 0 to 188\n",
      "Data columns (total 27 columns):\n",
      " #   Column          Non-Null Count  Dtype  \n",
      "---  ------          --------------  -----  \n",
      " 0   Województwo     1881 non-null   object \n",
      " 1   Data urodzenia  1881 non-null   int64  \n",
      " 2   PI-PROD         1881 non-null   int64  \n",
      " 3   PI-POKR         1881 non-null   int64  \n",
      " 4   Prc             1881 non-null   int64  \n",
      " 5   Psm             1881 non-null   int64  \n",
      " 6   Pnr             1881 non-null   int64  \n",
      " 7   Pw              1881 non-null   int64  \n",
      " 8   PI-PLOD         1881 non-null   int64  \n",
      " 9   CRj             1881 non-null   int64  \n",
      " 10  CRk             1881 non-null   int64  \n",
      " 11  PP              1881 non-null   int64  \n",
      " 12  OMC             1881 non-null   int64  \n",
      " 13  WH-KSOM         1881 non-null   int64  \n",
      " 14  WH-DLUG         1881 non-null   int64  \n",
      " 15  IP              1881 non-null   int64  \n",
      " 16  kg ml           1881 non-null   int64  \n",
      " 17  kg tł           1881 non-null   int64  \n",
      " 18  % tł            1881 non-null   int64  \n",
      " 19  kg bi           1881 non-null   int64  \n",
      " 20  % bi            1881 non-null   int64  \n",
      " 21  rc              1881 non-null   float64\n",
      " 22  sm              1881 non-null   float64\n",
      " 23  nr              1881 non-null   float64\n",
      " 24  w               1881 non-null   float64\n",
      " 25  og              1881 non-null   float64\n",
      " 26  kategoria       1881 non-null   object \n",
      "dtypes: float64(5), int64(20), object(2)\n",
      "memory usage: 411.5+ KB\n"
     ]
    }
   ],
   "source": [
    "caly_df.info()"
   ]
  },
  {
   "cell_type": "markdown",
   "id": "fa9e8d12",
   "metadata": {},
   "source": [
    "### 2. Usuwam zmienne kategoryczne"
   ]
  },
  {
   "cell_type": "code",
   "execution_count": 5,
   "id": "6e1740dd",
   "metadata": {},
   "outputs": [],
   "source": [
    "del caly_df[\"kategoria\"]\n",
    "del caly_df[\"Data urodzenia\"]\n",
    "del caly_df[\"Województwo\"]"
   ]
  },
  {
   "cell_type": "code",
   "execution_count": 6,
   "id": "ac45cdee",
   "metadata": {},
   "outputs": [
    {
     "name": "stdout",
     "output_type": "stream",
     "text": [
      "<class 'pandas.core.frame.DataFrame'>\n",
      "Int64Index: 1881 entries, 0 to 188\n",
      "Data columns (total 24 columns):\n",
      " #   Column   Non-Null Count  Dtype  \n",
      "---  ------   --------------  -----  \n",
      " 0   PI-PROD  1881 non-null   int64  \n",
      " 1   PI-POKR  1881 non-null   int64  \n",
      " 2   Prc      1881 non-null   int64  \n",
      " 3   Psm      1881 non-null   int64  \n",
      " 4   Pnr      1881 non-null   int64  \n",
      " 5   Pw       1881 non-null   int64  \n",
      " 6   PI-PLOD  1881 non-null   int64  \n",
      " 7   CRj      1881 non-null   int64  \n",
      " 8   CRk      1881 non-null   int64  \n",
      " 9   PP       1881 non-null   int64  \n",
      " 10  OMC      1881 non-null   int64  \n",
      " 11  WH-KSOM  1881 non-null   int64  \n",
      " 12  WH-DLUG  1881 non-null   int64  \n",
      " 13  IP       1881 non-null   int64  \n",
      " 14  kg ml    1881 non-null   int64  \n",
      " 15  kg tł    1881 non-null   int64  \n",
      " 16  % tł     1881 non-null   int64  \n",
      " 17  kg bi    1881 non-null   int64  \n",
      " 18  % bi     1881 non-null   int64  \n",
      " 19  rc       1881 non-null   float64\n",
      " 20  sm       1881 non-null   float64\n",
      " 21  nr       1881 non-null   float64\n",
      " 22  w        1881 non-null   float64\n",
      " 23  og       1881 non-null   float64\n",
      "dtypes: float64(5), int64(19)\n",
      "memory usage: 367.4 KB\n"
     ]
    }
   ],
   "source": [
    "caly_df.info()"
   ]
  },
  {
   "cell_type": "code",
   "execution_count": 7,
   "id": "2d8081cf",
   "metadata": {},
   "outputs": [],
   "source": [
    "nazwy_kolumn=caly_df.columns"
   ]
  },
  {
   "cell_type": "markdown",
   "id": "f6323081",
   "metadata": {},
   "source": [
    "### 3. Wybieram najlepsze zmienne według REFCV na regresji liniowej"
   ]
  },
  {
   "cell_type": "code",
   "execution_count": 8,
   "id": "70c1db8c",
   "metadata": {},
   "outputs": [],
   "source": [
    "mae_scorer = make_scorer(mean_absolute_error)"
   ]
  },
  {
   "cell_type": "code",
   "execution_count": 45,
   "id": "3f3d4eb5",
   "metadata": {},
   "outputs": [],
   "source": [
    "estimator=LinearRegression()\n",
    "selector = RFECV(estimator, step=1, cv=5,scoring=mae_scorer)\n",
    "scaler = StandardScaler()\n",
    "data_frame = scaler.fit_transform(caly_df)\n",
    "selector2 = selector.fit(data_frame, caly_label)\n"
   ]
  },
  {
   "cell_type": "code",
   "execution_count": 46,
   "id": "0c98f2ed",
   "metadata": {},
   "outputs": [
    {
     "data": {
      "text/plain": [
       "array([15, 12,  7, 14, 18, 19, 11, 10,  5, 20,  3,  2,  6,  1,  4,  1, 21,\n",
       "        1, 22, 16, 17, 13,  9,  8])"
      ]
     },
     "execution_count": 46,
     "metadata": {},
     "output_type": "execute_result"
    }
   ],
   "source": [
    "selector2.ranking_"
   ]
  },
  {
   "cell_type": "code",
   "execution_count": 47,
   "id": "a299801b",
   "metadata": {},
   "outputs": [],
   "source": [
    "dictionary = dict(zip(nazwy_kolumn, selector2.ranking_))\n",
    "dictionary= dict(sorted(dictionary.items(), key=lambda item: item[1]))"
   ]
  },
  {
   "cell_type": "code",
   "execution_count": 48,
   "id": "570f4460",
   "metadata": {},
   "outputs": [
    {
     "data": {
      "text/plain": [
       "{'IP': 1,\n",
       " 'kg tł': 1,\n",
       " 'kg bi': 1,\n",
       " 'WH-KSOM': 2,\n",
       " 'OMC': 3,\n",
       " 'kg ml': 4,\n",
       " 'CRk': 5,\n",
       " 'WH-DLUG': 6,\n",
       " 'Prc': 7,\n",
       " 'og': 8,\n",
       " 'w': 9,\n",
       " 'CRj': 10,\n",
       " 'PI-PLOD': 11,\n",
       " 'PI-POKR': 12,\n",
       " 'nr': 13,\n",
       " 'Psm': 14,\n",
       " 'PI-PROD': 15,\n",
       " 'rc': 16,\n",
       " 'sm': 17,\n",
       " 'Pnr': 18,\n",
       " 'Pw': 19,\n",
       " 'PP': 20,\n",
       " '% tł': 21,\n",
       " '% bi': 22}"
      ]
     },
     "execution_count": 48,
     "metadata": {},
     "output_type": "execute_result"
    }
   ],
   "source": [
    "dictionary"
   ]
  },
  {
   "cell_type": "code",
   "execution_count": 15,
   "id": "2ed672df",
   "metadata": {},
   "outputs": [],
   "source": [
    "nazwy_kolumn_2=[]\n",
    "for x in dictionary.keys():\n",
    "    nazwy_kolumn_2.append(x)"
   ]
  },
  {
   "cell_type": "code",
   "execution_count": 16,
   "id": "aeae1dcb",
   "metadata": {},
   "outputs": [],
   "source": [
    "caly_df_zapas=caly_df"
   ]
  },
  {
   "cell_type": "code",
   "execution_count": 17,
   "id": "baa6de11",
   "metadata": {},
   "outputs": [
    {
     "data": {
      "text/plain": [
       "['IP',\n",
       " 'kg tł',\n",
       " 'kg bi',\n",
       " 'WH-KSOM',\n",
       " 'OMC',\n",
       " 'kg ml',\n",
       " 'CRk',\n",
       " 'WH-DLUG',\n",
       " 'Prc',\n",
       " 'og',\n",
       " 'w',\n",
       " 'CRj',\n",
       " 'PI-PLOD',\n",
       " 'PI-POKR',\n",
       " 'nr',\n",
       " 'Psm',\n",
       " 'PI-PROD',\n",
       " 'rc',\n",
       " 'sm',\n",
       " 'Pnr',\n",
       " 'Pw',\n",
       " 'PP',\n",
       " '% tł',\n",
       " '% bi']"
      ]
     },
     "execution_count": 17,
     "metadata": {},
     "output_type": "execute_result"
    }
   ],
   "source": [
    "nazwy_kolumn_2"
   ]
  },
  {
   "cell_type": "code",
   "execution_count": 24,
   "id": "02374ca1",
   "metadata": {},
   "outputs": [],
   "source": [
    "dane_do_porownania=pd.DataFrame(columns=[\"Liczba zmiennych\",\n",
    "                                    \"Błąd\"])\n",
    "kombinacje=[]\n",
    "glowne_wyniki=[]\n",
    "glowne_zmienne=[]\n",
    "for i in range(0,len(nazwy_kolumn_2)):\n",
    "    zmienne=[]\n",
    "    for q in range(0,i+1):\n",
    "        zmienne.append(nazwy_kolumn_2[q])\n",
    "    kombinacje.append(zmienne)\n",
    "    data_frame=caly_df_zapas[zmienne]\n",
    "    kfold = KFold(n_splits=5, shuffle=False)\n",
    "    \n",
    "    scaler = StandardScaler()\n",
    "    data_frame = scaler.fit_transform(data_frame)\n",
    "    \n",
    "    data_frame = np.array(data_frame)\n",
    "    caly_label = np.array(caly_label)\n",
    "    \n",
    "    wyniki=[]\n",
    "    \n",
    "    for train, test in kfold.split(data_frame, caly_label):\n",
    "        reg = KNeighborsRegressor()\n",
    "        reg.fit(data_frame[train], caly_label[train])\n",
    "        predykcje=reg.predict(data_frame[test])\n",
    "        \n",
    "        dane_folda=pd.DataFrame({\"pred\": predykcje.ravel(),\n",
    "                                    \"obs\": caly_label[test]\n",
    "                                })\n",
    "        \n",
    "        dane_folda['blad']=abs(dane_folda['obs']-dane_folda['pred'])\n",
    "        mae=dane_folda['blad'].sum()/len(dane_folda['blad'])\n",
    "        wyniki.append(mae)\n",
    "        \n",
    "    wynik=sum(wyniki)/len(wyniki)\n",
    "    glowne_wyniki.append(wynik)\n",
    "    glowne_zmienne.append(i)\n",
    "\n",
    "                       "
   ]
  },
  {
   "cell_type": "code",
   "execution_count": 25,
   "id": "bd7042cb",
   "metadata": {
    "scrolled": true
   },
   "outputs": [],
   "source": [
    "dane_do_porownania[\"Liczba zmiennych\"]=glowne_zmienne\n",
    "dane_do_porownania[\"Błąd\"]=glowne_wyniki"
   ]
  },
  {
   "cell_type": "code",
   "execution_count": 27,
   "id": "c6bf03ec",
   "metadata": {},
   "outputs": [
    {
     "data": {
      "text/plain": [
       "[127.5186212540211,\n",
       " 130.260814662227,\n",
       " 130.868804108584,\n",
       " 102.55273294203963,\n",
       " 84.0928977368926,\n",
       " 74.81746769005024,\n",
       " 71.65468085106383,\n",
       " 64.7437200180597,\n",
       " 67.72666064676336,\n",
       " 71.28569727411254,\n",
       " 71.28025452903663,\n",
       " 74.93715700660309,\n",
       " 75.33796207460918,\n",
       " 77.12056690558158,\n",
       " 79.21750832439753,\n",
       " 79.88133585416783,\n",
       " 78.96329420396185,\n",
       " 80.79519809244314,\n",
       " 82.56210198092444,\n",
       " 84.85288362774423,\n",
       " 84.29290592019866,\n",
       " 85.87047096337264,\n",
       " 87.21310316609289,\n",
       " 88.78599695242394]"
      ]
     },
     "execution_count": 27,
     "metadata": {},
     "output_type": "execute_result"
    }
   ],
   "source": [
    "list(dane_do_porownania[\"Błąd\"])"
   ]
  },
  {
   "cell_type": "code",
   "execution_count": 66,
   "id": "50f2ea9a",
   "metadata": {},
   "outputs": [
    {
     "data": {
      "text/plain": [
       "7"
      ]
     },
     "execution_count": 66,
     "metadata": {},
     "output_type": "execute_result"
    }
   ],
   "source": [
    "list(dane_do_porownania[\"Błąd\"]).index(min(list(dane_do_porownania[\"Błąd\"])))"
   ]
  },
  {
   "cell_type": "code",
   "execution_count": 67,
   "id": "ab6bf99f",
   "metadata": {},
   "outputs": [
    {
     "data": {
      "text/plain": [
       "64.7437200180597"
      ]
     },
     "execution_count": 67,
     "metadata": {},
     "output_type": "execute_result"
    }
   ],
   "source": [
    "min(list(dane_do_porownania[\"Błąd\"]))"
   ]
  },
  {
   "cell_type": "code",
   "execution_count": 68,
   "id": "08912615",
   "metadata": {},
   "outputs": [
    {
     "data": {
      "text/plain": [
       "64.7437200180597"
      ]
     },
     "execution_count": 68,
     "metadata": {},
     "output_type": "execute_result"
    }
   ],
   "source": [
    "dane_do_porownania[\"Błąd\"][7]"
   ]
  },
  {
   "cell_type": "code",
   "execution_count": 34,
   "id": "03686858",
   "metadata": {},
   "outputs": [
    {
     "data": {
      "text/plain": [
       "24"
      ]
     },
     "execution_count": 34,
     "metadata": {},
     "output_type": "execute_result"
    }
   ],
   "source": [
    "len(dane_do_porownania[\"Błąd\"])"
   ]
  },
  {
   "cell_type": "code",
   "execution_count": 69,
   "id": "f02b65c2",
   "metadata": {},
   "outputs": [
    {
     "data": {
      "text/plain": [
       "['IP', 'kg tł', 'kg bi', 'WH-KSOM', 'OMC', 'kg ml', 'CRk', 'WH-DLUG']"
      ]
     },
     "execution_count": 69,
     "metadata": {},
     "output_type": "execute_result"
    }
   ],
   "source": [
    "kombinacje[7]"
   ]
  },
  {
   "cell_type": "code",
   "execution_count": 70,
   "id": "b3d9b6a1",
   "metadata": {},
   "outputs": [
    {
     "data": {
      "text/plain": [
       "8"
      ]
     },
     "execution_count": 70,
     "metadata": {},
     "output_type": "execute_result"
    }
   ],
   "source": [
    "len(kombinacje[7])"
   ]
  },
  {
   "cell_type": "code",
   "execution_count": 65,
   "id": "acc7dea0",
   "metadata": {},
   "outputs": [
    {
     "data": {
      "image/png": "[encoded data removed]",
      "text/plain": [
       "<Figure size 432x288 with 1 Axes>"
      ]
     },
     "metadata": {
      "needs_background": "light"
     },
     "output_type": "display_data"
    }
   ],
   "source": [
    "plt.plot(list(dane_do_porownania[\"Błąd\"]))\n",
    "plt.axvline(x=list(dane_do_porownania[\"Błąd\"]).index(min(list(dane_do_porownania[\"Błąd\"]))), color='r', linestyle='-')\n",
    "plt.show()"
   ]
  },
  {
   "cell_type": "markdown",
   "id": "ce833ec5",
   "metadata": {},
   "source": [
    "8 zmiennych włącznie daje najmniejszy bład"
   ]
  },
  {
   "cell_type": "code",
   "execution_count": 12,
   "id": "0e10e661",
   "metadata": {},
   "outputs": [],
   "source": [
    "zestaw_caly=caly_df\n",
    "zestaw_8=caly_df[['IP', 'kg tł', 'kg bi', 'WH-KSOM', 'OMC', 'kg ml', 'CRk', 'WH-DLUG']]\n"
   ]
  },
  {
   "cell_type": "markdown",
   "id": "495b6fa3",
   "metadata": {},
   "source": [
    "# Tworze zestaw Feature Extraction"
   ]
  },
  {
   "cell_type": "code",
   "execution_count": 9,
   "id": "56a7f752",
   "metadata": {},
   "outputs": [],
   "source": [
    "fe_df = caly_df.copy()\n",
    "\n",
    "fe_df['IP|Psm']=fe_df['IP']/fe_df['Psm']\n",
    "fe_df['kg tł|sm']=fe_df['kg tł']/fe_df['sm']\n",
    "fe_df['PP|OMC']=fe_df['PP']/fe_df['OMC']\n",
    "fe_df['Pnr|nr']=fe_df['Pnr']/fe_df['nr']\n",
    "\n",
    "\n",
    "del fe_df['IP']\n",
    "del fe_df['Psm']\n",
    "del fe_df['kg tł']\n",
    "del fe_df['sm']\n",
    "del fe_df['PP']\n",
    "del fe_df['OMC']\n",
    "del fe_df['Pnr']\n",
    "del fe_df['nr']\n",
    "\n",
    "#fe_df = np.array(fe_df)\n",
    "\n",
    "#caly_label = np.array(caly_label)"
   ]
  },
  {
   "cell_type": "code",
   "execution_count": null,
   "id": "47d999c1",
   "metadata": {},
   "outputs": [],
   "source": []
  },
  {
   "cell_type": "markdown",
   "id": "7a01c2fe",
   "metadata": {},
   "source": [
    "### 4. Wyszukuje hiper-parametry"
   ]
  },
  {
   "cell_type": "code",
   "execution_count": 10,
   "id": "b605bfea",
   "metadata": {},
   "outputs": [],
   "source": [
    "scaler = StandardScaler()"
   ]
  },
  {
   "cell_type": "code",
   "execution_count": 13,
   "id": "9f8f9515",
   "metadata": {},
   "outputs": [],
   "source": [
    "\n",
    "zestaw_caly = scaler.fit_transform(zestaw_caly)\n",
    "zestaw_8= scaler.fit_transform(zestaw_8)\n",
    "fe_df=scaler.fit_transform(fe_df)\n",
    "\n",
    "zestaw_caly = np.array(zestaw_caly)\n",
    "zestaw_8 = np.array(zestaw_8)\n",
    "fe_df=np.array(fe_df)\n",
    "\n",
    "caly_label = np.array(caly_label)\n"
   ]
  },
  {
   "cell_type": "markdown",
   "id": "3114a975",
   "metadata": {},
   "source": [
    "#### 4.1 Wszystkie dane"
   ]
  },
  {
   "cell_type": "code",
   "execution_count": 12,
   "id": "04ff533e",
   "metadata": {},
   "outputs": [],
   "source": [
    "param_grid = {\n",
    "    'n_neighbors':range(1,15,3),\n",
    "    'weights': ['uniform', 'distance'],\n",
    "    'algorithm': ['auto', 'ball_tree', 'kd_tree', 'brute'],\n",
    "    'leaf_size': range(1,15,3),\n",
    "    'p': [1,2],\n",
    "}\n"
   ]
  },
  {
   "cell_type": "code",
   "execution_count": 13,
   "id": "073b0cd7",
   "metadata": {},
   "outputs": [
    {
     "name": "stdout",
     "output_type": "stream",
     "text": [
      "Fitting 2 folds for each of 400 candidates, totalling 800 fits\n"
     ]
    },
    {
     "data": {
      "text/plain": [
       "GridSearchCV(cv=2, estimator=KNeighborsRegressor(), n_jobs=1,\n",
       "             param_grid={'algorithm': ['auto', 'ball_tree', 'kd_tree', 'brute'],\n",
       "                         'leaf_size': range(1, 15, 3),\n",
       "                         'n_neighbors': range(1, 15, 3), 'p': [1, 2],\n",
       "                         'weights': ['uniform', 'distance']},\n",
       "             scoring='neg_mean_absolute_error', verbose=1)"
      ]
     },
     "execution_count": 13,
     "metadata": {},
     "output_type": "execute_result"
    }
   ],
   "source": [
    "knn_1 = KNeighborsRegressor()\n",
    "grid_search_1 = GridSearchCV(estimator = knn_1, param_grid = param_grid, \n",
    "                          cv = 2, n_jobs = 1, verbose = 1,scoring='neg_mean_absolute_error')\n",
    "grid_search_1.fit(zestaw_caly, np.ravel(caly_label))"
   ]
  },
  {
   "cell_type": "code",
   "execution_count": 14,
   "id": "085bb1b6",
   "metadata": {},
   "outputs": [
    {
     "data": {
      "text/plain": [
       "KNeighborsRegressor(algorithm='kd_tree', leaf_size=1, n_neighbors=13, p=1,\n",
       "                    weights='distance')"
      ]
     },
     "execution_count": 14,
     "metadata": {},
     "output_type": "execute_result"
    }
   ],
   "source": [
    "grid_search_1.best_estimator_"
   ]
  },
  {
   "cell_type": "code",
   "execution_count": 15,
   "id": "1466b5ad",
   "metadata": {},
   "outputs": [
    {
     "data": {
      "text/plain": [
       "{'algorithm': 'kd_tree',\n",
       " 'leaf_size': 1,\n",
       " 'n_neighbors': 13,\n",
       " 'p': 1,\n",
       " 'weights': 'distance'}"
      ]
     },
     "execution_count": 15,
     "metadata": {},
     "output_type": "execute_result"
    }
   ],
   "source": [
    "grid_search_1.best_params_"
   ]
  },
  {
   "cell_type": "code",
   "execution_count": 16,
   "id": "c545e7c5",
   "metadata": {},
   "outputs": [
    {
     "data": {
      "text/plain": [
       "-99.3847224463368"
      ]
     },
     "execution_count": 16,
     "metadata": {},
     "output_type": "execute_result"
    }
   ],
   "source": [
    "grid_search_1.best_score_"
   ]
  },
  {
   "cell_type": "markdown",
   "id": "385fd1ed",
   "metadata": {},
   "source": [
    "#### 4.1.2 Wszystkie dane part 2"
   ]
  },
  {
   "cell_type": "code",
   "execution_count": 17,
   "id": "062631c2",
   "metadata": {},
   "outputs": [],
   "source": [
    "param_grid = {\n",
    "    'n_neighbors':range(10,16,1),\n",
    "    'weights': ['distance'],\n",
    "    'algorithm': ['kd_tree'],\n",
    "    'leaf_size': range(1,4,1),\n",
    "    'p': [1],\n",
    "}\n"
   ]
  },
  {
   "cell_type": "code",
   "execution_count": 18,
   "id": "e7817737",
   "metadata": {},
   "outputs": [
    {
     "name": "stdout",
     "output_type": "stream",
     "text": [
      "Fitting 2 folds for each of 18 candidates, totalling 36 fits\n"
     ]
    },
    {
     "data": {
      "text/plain": [
       "GridSearchCV(cv=2, estimator=KNeighborsRegressor(), n_jobs=1,\n",
       "             param_grid={'algorithm': ['kd_tree'], 'leaf_size': range(1, 4),\n",
       "                         'n_neighbors': range(10, 16), 'p': [1],\n",
       "                         'weights': ['distance']},\n",
       "             scoring='neg_mean_absolute_error', verbose=1)"
      ]
     },
     "execution_count": 18,
     "metadata": {},
     "output_type": "execute_result"
    }
   ],
   "source": [
    "knn_1 = KNeighborsRegressor()\n",
    "grid_search_1 = GridSearchCV(estimator = knn_1, param_grid = param_grid, \n",
    "                          cv = 2, n_jobs = 1, verbose = 1,scoring='neg_mean_absolute_error')\n",
    "grid_search_1.fit(zestaw_caly, np.ravel(caly_label))"
   ]
  },
  {
   "cell_type": "code",
   "execution_count": 19,
   "id": "cbcdd8d1",
   "metadata": {},
   "outputs": [
    {
     "data": {
      "text/plain": [
       "KNeighborsRegressor(algorithm='kd_tree', leaf_size=1, n_neighbors=13, p=1,\n",
       "                    weights='distance')"
      ]
     },
     "execution_count": 19,
     "metadata": {},
     "output_type": "execute_result"
    }
   ],
   "source": [
    "grid_search_1.best_estimator_"
   ]
  },
  {
   "cell_type": "code",
   "execution_count": 20,
   "id": "b46861c8",
   "metadata": {},
   "outputs": [
    {
     "data": {
      "text/plain": [
       "{'algorithm': 'kd_tree',\n",
       " 'leaf_size': 1,\n",
       " 'n_neighbors': 13,\n",
       " 'p': 1,\n",
       " 'weights': 'distance'}"
      ]
     },
     "execution_count": 20,
     "metadata": {},
     "output_type": "execute_result"
    }
   ],
   "source": [
    "grid_search_1.best_params_"
   ]
  },
  {
   "cell_type": "code",
   "execution_count": 21,
   "id": "80b99034",
   "metadata": {},
   "outputs": [
    {
     "data": {
      "text/plain": [
       "-99.3847224463368"
      ]
     },
     "execution_count": 21,
     "metadata": {},
     "output_type": "execute_result"
    }
   ],
   "source": [
    "grid_search_1.best_score_"
   ]
  },
  {
   "cell_type": "markdown",
   "id": "e13bf8fe",
   "metadata": {},
   "source": [
    "#### 4.2 Zestaw 8 zmiennych"
   ]
  },
  {
   "cell_type": "code",
   "execution_count": 27,
   "id": "9ea73989",
   "metadata": {},
   "outputs": [],
   "source": [
    "param_grid = {\n",
    "    'n_neighbors':range(1,15,3),\n",
    "    'weights': ['uniform', 'distance'],\n",
    "    'algorithm': ['auto', 'ball_tree', 'kd_tree', 'brute'],\n",
    "    'leaf_size': range(1,15,3),\n",
    "    'p': [1,2]\n",
    "}\n"
   ]
  },
  {
   "cell_type": "code",
   "execution_count": 28,
   "id": "71a7d91b",
   "metadata": {},
   "outputs": [
    {
     "name": "stdout",
     "output_type": "stream",
     "text": [
      "Fitting 2 folds for each of 400 candidates, totalling 800 fits\n"
     ]
    },
    {
     "data": {
      "text/plain": [
       "GridSearchCV(cv=2, estimator=KNeighborsRegressor(), n_jobs=1,\n",
       "             param_grid={'algorithm': ['auto', 'ball_tree', 'kd_tree', 'brute'],\n",
       "                         'leaf_size': range(1, 15, 3),\n",
       "                         'n_neighbors': range(1, 15, 3), 'p': [1, 2],\n",
       "                         'weights': ['uniform', 'distance']},\n",
       "             scoring='neg_mean_absolute_error', verbose=1)"
      ]
     },
     "execution_count": 28,
     "metadata": {},
     "output_type": "execute_result"
    }
   ],
   "source": [
    "knn_2 = KNeighborsRegressor()\n",
    "grid_search_2 = GridSearchCV(estimator = knn_2, param_grid = param_grid, \n",
    "                          cv = 2, n_jobs = 1, verbose = 1,scoring='neg_mean_absolute_error')\n",
    "grid_search_2.fit(zestaw_8, np.ravel(caly_label))"
   ]
  },
  {
   "cell_type": "code",
   "execution_count": 29,
   "id": "fef02f1f",
   "metadata": {},
   "outputs": [
    {
     "data": {
      "text/plain": [
       "KNeighborsRegressor(algorithm='ball_tree', leaf_size=10, n_neighbors=13, p=1,\n",
       "                    weights='distance')"
      ]
     },
     "execution_count": 29,
     "metadata": {},
     "output_type": "execute_result"
    }
   ],
   "source": [
    "grid_search_2.best_estimator_"
   ]
  },
  {
   "cell_type": "code",
   "execution_count": 30,
   "id": "f5cd34d0",
   "metadata": {},
   "outputs": [
    {
     "data": {
      "text/plain": [
       "{'algorithm': 'ball_tree',\n",
       " 'leaf_size': 10,\n",
       " 'n_neighbors': 13,\n",
       " 'p': 1,\n",
       " 'weights': 'distance'}"
      ]
     },
     "execution_count": 30,
     "metadata": {},
     "output_type": "execute_result"
    }
   ],
   "source": [
    "grid_search_2.best_params_"
   ]
  },
  {
   "cell_type": "code",
   "execution_count": 32,
   "id": "e2c8f6e5",
   "metadata": {},
   "outputs": [
    {
     "data": {
      "text/plain": [
       "-101.91945012320883"
      ]
     },
     "execution_count": 32,
     "metadata": {},
     "output_type": "execute_result"
    }
   ],
   "source": [
    "grid_search_2.best_score_"
   ]
  },
  {
   "cell_type": "markdown",
   "id": "7eb26d93",
   "metadata": {},
   "source": [
    "#### 4.2.2 Zestaw 8 zmiennych part 2"
   ]
  },
  {
   "cell_type": "code",
   "execution_count": 33,
   "id": "584a25b6",
   "metadata": {},
   "outputs": [],
   "source": [
    "param_grid = {\n",
    "    'n_neighbors':range(10,16,1),\n",
    "    'weights': ['distance'],\n",
    "    'algorithm': ['ball_tree'],\n",
    "    'leaf_size': range(8,13,1),\n",
    "    'p': [1]\n",
    "}\n"
   ]
  },
  {
   "cell_type": "code",
   "execution_count": 34,
   "id": "2e5d54bf",
   "metadata": {},
   "outputs": [
    {
     "name": "stdout",
     "output_type": "stream",
     "text": [
      "Fitting 2 folds for each of 30 candidates, totalling 60 fits\n"
     ]
    },
    {
     "data": {
      "text/plain": [
       "GridSearchCV(cv=2, estimator=KNeighborsRegressor(), n_jobs=1,\n",
       "             param_grid={'algorithm': ['ball_tree'], 'leaf_size': range(8, 13),\n",
       "                         'n_neighbors': range(10, 16), 'p': [1],\n",
       "                         'weights': ['distance']},\n",
       "             scoring='neg_mean_absolute_error', verbose=1)"
      ]
     },
     "execution_count": 34,
     "metadata": {},
     "output_type": "execute_result"
    }
   ],
   "source": [
    "knn_2 = KNeighborsRegressor()\n",
    "grid_search_2 = GridSearchCV(estimator = knn_2, param_grid = param_grid, \n",
    "                          cv = 2, n_jobs = 1, verbose = 1,scoring='neg_mean_absolute_error')\n",
    "grid_search_2.fit(zestaw_8, np.ravel(caly_label))"
   ]
  },
  {
   "cell_type": "code",
   "execution_count": 35,
   "id": "c9725a82",
   "metadata": {},
   "outputs": [
    {
     "data": {
      "text/plain": [
       "KNeighborsRegressor(algorithm='ball_tree', leaf_size=8, n_neighbors=15, p=1,\n",
       "                    weights='distance')"
      ]
     },
     "execution_count": 35,
     "metadata": {},
     "output_type": "execute_result"
    }
   ],
   "source": [
    "grid_search_2.best_estimator_"
   ]
  },
  {
   "cell_type": "code",
   "execution_count": 36,
   "id": "3de161d9",
   "metadata": {},
   "outputs": [
    {
     "data": {
      "text/plain": [
       "{'algorithm': 'ball_tree',\n",
       " 'leaf_size': 8,\n",
       " 'n_neighbors': 15,\n",
       " 'p': 1,\n",
       " 'weights': 'distance'}"
      ]
     },
     "execution_count": 36,
     "metadata": {},
     "output_type": "execute_result"
    }
   ],
   "source": [
    "grid_search_2.best_params_"
   ]
  },
  {
   "cell_type": "code",
   "execution_count": 37,
   "id": "db50f44f",
   "metadata": {},
   "outputs": [
    {
     "data": {
      "text/plain": [
       "-101.59602853155315"
      ]
     },
     "execution_count": 37,
     "metadata": {},
     "output_type": "execute_result"
    }
   ],
   "source": [
    "grid_search_2.best_score_"
   ]
  },
  {
   "cell_type": "markdown",
   "id": "88576b23",
   "metadata": {},
   "source": [
    "#### 4.3 Zestaw FE"
   ]
  },
  {
   "cell_type": "code",
   "execution_count": 54,
   "id": "bb373955",
   "metadata": {},
   "outputs": [],
   "source": [
    "param_grid = {\n",
    "    'n_neighbors':range(1,15,3),\n",
    "    'weights': ['uniform', 'distance'],\n",
    "    'algorithm': ['auto', 'ball_tree', 'kd_tree', 'brute'],\n",
    "    'leaf_size': range(1,15,3),\n",
    "    'p': [1,2]\n",
    "}\n"
   ]
  },
  {
   "cell_type": "code",
   "execution_count": 55,
   "id": "17021b16",
   "metadata": {},
   "outputs": [
    {
     "name": "stdout",
     "output_type": "stream",
     "text": [
      "Fitting 2 folds for each of 400 candidates, totalling 800 fits\n"
     ]
    },
    {
     "data": {
      "text/plain": [
       "GridSearchCV(cv=2, estimator=KNeighborsRegressor(), n_jobs=1,\n",
       "             param_grid={'algorithm': ['auto', 'ball_tree', 'kd_tree', 'brute'],\n",
       "                         'leaf_size': range(1, 15, 3),\n",
       "                         'n_neighbors': range(1, 15, 3), 'p': [1, 2],\n",
       "                         'weights': ['uniform', 'distance']},\n",
       "             scoring='neg_mean_absolute_error', verbose=1)"
      ]
     },
     "execution_count": 55,
     "metadata": {},
     "output_type": "execute_result"
    }
   ],
   "source": [
    "knn_2 = KNeighborsRegressor()\n",
    "grid_search_2 = GridSearchCV(estimator = knn_2, param_grid = param_grid, \n",
    "                          cv = 2, n_jobs = 1, verbose = 1,scoring='neg_mean_absolute_error')\n",
    "grid_search_2.fit(fe_df, np.ravel(caly_label))"
   ]
  },
  {
   "cell_type": "code",
   "execution_count": 56,
   "id": "f3037190",
   "metadata": {},
   "outputs": [
    {
     "data": {
      "text/plain": [
       "KNeighborsRegressor(algorithm='ball_tree', leaf_size=1, n_neighbors=4,\n",
       "                    weights='distance')"
      ]
     },
     "execution_count": 56,
     "metadata": {},
     "output_type": "execute_result"
    }
   ],
   "source": [
    "grid_search_2.best_estimator_"
   ]
  },
  {
   "cell_type": "code",
   "execution_count": 57,
   "id": "ac806e11",
   "metadata": {},
   "outputs": [
    {
     "data": {
      "text/plain": [
       "{'algorithm': 'ball_tree',\n",
       " 'leaf_size': 1,\n",
       " 'n_neighbors': 4,\n",
       " 'p': 2,\n",
       " 'weights': 'distance'}"
      ]
     },
     "execution_count": 57,
     "metadata": {},
     "output_type": "execute_result"
    }
   ],
   "source": [
    "grid_search_2.best_params_"
   ]
  },
  {
   "cell_type": "code",
   "execution_count": 58,
   "id": "809f2011",
   "metadata": {},
   "outputs": [
    {
     "data": {
      "text/plain": [
       "-77.75311736000859"
      ]
     },
     "execution_count": 58,
     "metadata": {},
     "output_type": "execute_result"
    }
   ],
   "source": [
    "grid_search_2.best_score_"
   ]
  },
  {
   "cell_type": "markdown",
   "id": "98b76fc4",
   "metadata": {},
   "source": [
    "#### 4.3.2 Zestaw FE part 2"
   ]
  },
  {
   "cell_type": "code",
   "execution_count": 59,
   "id": "16ace49a",
   "metadata": {},
   "outputs": [],
   "source": [
    "param_grid = {\n",
    "    'n_neighbors':range(1,6,1),\n",
    "    'weights': ['distance'],\n",
    "    'algorithm': ['ball_tree'],\n",
    "    'leaf_size': range(1,5,1),\n",
    "    'p': [2]\n",
    "}\n"
   ]
  },
  {
   "cell_type": "code",
   "execution_count": 60,
   "id": "bf6776c5",
   "metadata": {},
   "outputs": [
    {
     "name": "stdout",
     "output_type": "stream",
     "text": [
      "Fitting 2 folds for each of 20 candidates, totalling 40 fits\n"
     ]
    },
    {
     "data": {
      "text/plain": [
       "GridSearchCV(cv=2, estimator=KNeighborsRegressor(), n_jobs=1,\n",
       "             param_grid={'algorithm': ['ball_tree'], 'leaf_size': range(1, 5),\n",
       "                         'n_neighbors': range(1, 6), 'p': [2],\n",
       "                         'weights': ['distance']},\n",
       "             scoring='neg_mean_absolute_error', verbose=1)"
      ]
     },
     "execution_count": 60,
     "metadata": {},
     "output_type": "execute_result"
    }
   ],
   "source": [
    "knn_2 = KNeighborsRegressor()\n",
    "grid_search_2 = GridSearchCV(estimator = knn_2, param_grid = param_grid, \n",
    "                          cv = 2, n_jobs = 1, verbose = 1,scoring='neg_mean_absolute_error')\n",
    "grid_search_2.fit(fe_df, np.ravel(caly_label))"
   ]
  },
  {
   "cell_type": "code",
   "execution_count": 61,
   "id": "9cd3be83",
   "metadata": {},
   "outputs": [
    {
     "data": {
      "text/plain": [
       "KNeighborsRegressor(algorithm='ball_tree', leaf_size=1, weights='distance')"
      ]
     },
     "execution_count": 61,
     "metadata": {},
     "output_type": "execute_result"
    }
   ],
   "source": [
    "grid_search_2.best_estimator_"
   ]
  },
  {
   "cell_type": "code",
   "execution_count": 62,
   "id": "5372f436",
   "metadata": {},
   "outputs": [
    {
     "data": {
      "text/plain": [
       "{'algorithm': 'ball_tree',\n",
       " 'leaf_size': 1,\n",
       " 'n_neighbors': 5,\n",
       " 'p': 2,\n",
       " 'weights': 'distance'}"
      ]
     },
     "execution_count": 62,
     "metadata": {},
     "output_type": "execute_result"
    }
   ],
   "source": [
    "grid_search_2.best_params_"
   ]
  },
  {
   "cell_type": "code",
   "execution_count": 63,
   "id": "74b1478c",
   "metadata": {},
   "outputs": [
    {
     "data": {
      "text/plain": [
       "-77.64372258683858"
      ]
     },
     "execution_count": 63,
     "metadata": {},
     "output_type": "execute_result"
    }
   ],
   "source": [
    "grid_search_2.best_score_"
   ]
  },
  {
   "cell_type": "markdown",
   "id": "23492c29",
   "metadata": {},
   "source": [
    "### 5. Przeprowadzam 5 krotną cross-validację"
   ]
  },
  {
   "cell_type": "markdown",
   "id": "857acc46",
   "metadata": {},
   "source": [
    "#### 5.1 Wszystkie dane"
   ]
  },
  {
   "cell_type": "code",
   "execution_count": 64,
   "id": "9ae8b7e9",
   "metadata": {},
   "outputs": [],
   "source": [
    "kfold = KFold(n_splits=5, shuffle=False)\n",
    "dane_do_zapisu_2=pd.DataFrame()\n",
    "licznik=1\n",
    "wart_2=[]\n",
    "for train, test in kfold.split(zestaw_caly, caly_label):\n",
    "    reg = KNeighborsRegressor(algorithm='kd_tree',n_neighbors=13, leaf_size=1, p=1, weights='distance')\n",
    "\n",
    "    \n",
    "    reg.fit(zestaw_caly[train], caly_label[train])\n",
    "    predykcje=reg.predict(zestaw_caly[test])\n",
    "    dane_folda_2=pd.DataFrame({\"pred\": predykcje.ravel(),\n",
    "                                \"obs\": caly_label[test],\n",
    "                                \"Fold\":licznik})\n",
    "    dane_do_zapisu_2=pd.concat([dane_do_zapisu_2,dane_folda_2])\n",
    "    sredni_blad=mean_absolute_error(caly_label[test],predykcje) #y tre, y pred\n",
    "    wart_2.append(sredni_blad)\n",
    "    licznik+=1"
   ]
  },
  {
   "cell_type": "code",
   "execution_count": 65,
   "id": "d819b02b",
   "metadata": {},
   "outputs": [
    {
     "data": {
      "text/plain": [
       "[83.97302183208735,\n",
       " 73.86782795593071,\n",
       " 71.92646351935659,\n",
       " 69.84575013263355,\n",
       " 76.24233686356142]"
      ]
     },
     "execution_count": 65,
     "metadata": {},
     "output_type": "execute_result"
    }
   ],
   "source": [
    "wart_2"
   ]
  },
  {
   "cell_type": "code",
   "execution_count": 66,
   "id": "45e21772",
   "metadata": {},
   "outputs": [
    {
     "data": {
      "text/plain": [
       "75.17108006071393"
      ]
     },
     "execution_count": 66,
     "metadata": {},
     "output_type": "execute_result"
    }
   ],
   "source": [
    "sum(wart_2)/len(wart_2)"
   ]
  },
  {
   "cell_type": "markdown",
   "id": "81367323",
   "metadata": {},
   "source": [
    "#### 5.2 Zestaw 8 "
   ]
  },
  {
   "cell_type": "code",
   "execution_count": 76,
   "id": "760de1c9",
   "metadata": {},
   "outputs": [],
   "source": [
    "kfold = KFold(n_splits=5, shuffle=False)\n",
    "dane_do_zapisu_1=pd.DataFrame()\n",
    "licznik=1\n",
    "wart_1=[]\n",
    "for train, test in kfold.split(zestaw_8, caly_label):\n",
    "    reg = KNeighborsRegressor(algorithm='ball_tree', leaf_size=8,n_neighbors=15, p=1, weights='distance')\n",
    "\n",
    "    \n",
    "    reg.fit(zestaw_8[train], caly_label[train])\n",
    "    predykcje=reg.predict(zestaw_8[test])\n",
    "    dane_folda_1=pd.DataFrame({\"pred\": predykcje.ravel(),\n",
    "                                \"obs\": caly_label[test],\n",
    "                                \"Fold\":licznik})\n",
    "    dane_do_zapisu_1=pd.concat([dane_do_zapisu_1,dane_folda_1])\n",
    "    sredni_blad=mean_absolute_error(caly_label[test],predykcje)\n",
    "    wart_1.append(sredni_blad)\n",
    "    licznik+=1"
   ]
  },
  {
   "cell_type": "code",
   "execution_count": 77,
   "id": "3166e843",
   "metadata": {},
   "outputs": [
    {
     "data": {
      "text/plain": [
       "[66.19447269329228,\n",
       " 56.70508636534909,\n",
       " 55.50310137995617,\n",
       " 53.11986899758099,\n",
       " 58.1686535777079]"
      ]
     },
     "execution_count": 77,
     "metadata": {},
     "output_type": "execute_result"
    }
   ],
   "source": [
    "wart_1"
   ]
  },
  {
   "cell_type": "code",
   "execution_count": 78,
   "id": "f6cbb3cb",
   "metadata": {},
   "outputs": [
    {
     "data": {
      "text/plain": [
       "57.93823660277728"
      ]
     },
     "execution_count": 78,
     "metadata": {},
     "output_type": "execute_result"
    }
   ],
   "source": [
    "sum(wart_1)/len(wart_1)"
   ]
  },
  {
   "cell_type": "code",
   "execution_count": 83,
   "id": "31851225",
   "metadata": {},
   "outputs": [
    {
     "data": {
      "text/plain": [
       "['IP', 'kg tł', 'kg bi', 'WH-KSOM', 'OMC', 'kg ml', 'CRk', 'WH-DLUG']"
      ]
     },
     "execution_count": 83,
     "metadata": {},
     "output_type": "execute_result"
    }
   ],
   "source": [
    "kombinacje[7]"
   ]
  },
  {
   "cell_type": "markdown",
   "id": "660a5bd8",
   "metadata": {},
   "source": [
    "#### 5.3 Zestaw FE"
   ]
  },
  {
   "cell_type": "code",
   "execution_count": 14,
   "id": "59b04aac",
   "metadata": {},
   "outputs": [],
   "source": [
    "kfold = KFold(n_splits=5, shuffle=False)\n",
    "dane_do_zapisu_1=pd.DataFrame()\n",
    "licznik=1\n",
    "wart_1=[]\n",
    "for train, test in kfold.split(fe_df, caly_label):\n",
    "    reg = KNeighborsRegressor(algorithm='ball_tree', leaf_size=1,n_neighbors=5, p=2, weights='distance')    \n",
    "\n",
    "    \n",
    "    reg.fit(fe_df[train], caly_label[train])\n",
    "    predykcje=reg.predict(fe_df[test])\n",
    "    dane_folda_1=pd.DataFrame({\"pred\": predykcje.ravel(),\n",
    "                                \"obs\": caly_label[test],\n",
    "                                \"Fold\":licznik})\n",
    "    dane_do_zapisu_1=pd.concat([dane_do_zapisu_1,dane_folda_1])\n",
    "    sredni_blad=mean_absolute_error(caly_label[test],predykcje)\n",
    "    wart_1.append(sredni_blad)\n",
    "    licznik+=1"
   ]
  },
  {
   "cell_type": "code",
   "execution_count": 15,
   "id": "036b4ef5",
   "metadata": {},
   "outputs": [
    {
     "data": {
      "text/plain": [
       "[74.24369869630375,\n",
       " 72.50922844974043,\n",
       " 65.9896700924312,\n",
       " 65.37895276805318,\n",
       " 68.32676217509731]"
      ]
     },
     "execution_count": 15,
     "metadata": {},
     "output_type": "execute_result"
    }
   ],
   "source": [
    "wart_1"
   ]
  },
  {
   "cell_type": "code",
   "execution_count": 16,
   "id": "01df084d",
   "metadata": {},
   "outputs": [
    {
     "data": {
      "text/plain": [
       "69.28966243632517"
      ]
     },
     "execution_count": 16,
     "metadata": {},
     "output_type": "execute_result"
    }
   ],
   "source": [
    "sum(wart_1)/len(wart_1)"
   ]
  },
  {
   "cell_type": "code",
   "execution_count": null,
   "id": "be277895",
   "metadata": {},
   "outputs": [],
   "source": []
  },
  {
   "cell_type": "code",
   "execution_count": 17,
   "id": "586c3d3e",
   "metadata": {},
   "outputs": [
    {
     "data": {
      "text/html": [
       "<div>\n",
       "<style scoped>\n",
       "    .dataframe tbody tr th:only-of-type {\n",
       "        vertical-align: middle;\n",
       "    }\n",
       "\n",
       "    .dataframe tbody tr th {\n",
       "        vertical-align: top;\n",
       "    }\n",
       "\n",
       "    .dataframe thead th {\n",
       "        text-align: right;\n",
       "    }\n",
       "</style>\n",
       "<table border=\"1\" class=\"dataframe\">\n",
       "  <thead>\n",
       "    <tr style=\"text-align: right;\">\n",
       "      <th></th>\n",
       "      <th>pred</th>\n",
       "      <th>obs</th>\n",
       "      <th>Fold</th>\n",
       "    </tr>\n",
       "  </thead>\n",
       "  <tbody>\n",
       "    <tr>\n",
       "      <th>0</th>\n",
       "      <td>2120.000000</td>\n",
       "      <td>2120</td>\n",
       "      <td>1</td>\n",
       "    </tr>\n",
       "    <tr>\n",
       "      <th>1</th>\n",
       "      <td>2216.645094</td>\n",
       "      <td>1912</td>\n",
       "      <td>1</td>\n",
       "    </tr>\n",
       "    <tr>\n",
       "      <th>2</th>\n",
       "      <td>2191.467880</td>\n",
       "      <td>2126</td>\n",
       "      <td>1</td>\n",
       "    </tr>\n",
       "    <tr>\n",
       "      <th>3</th>\n",
       "      <td>2089.000000</td>\n",
       "      <td>2089</td>\n",
       "      <td>1</td>\n",
       "    </tr>\n",
       "    <tr>\n",
       "      <th>4</th>\n",
       "      <td>2424.605816</td>\n",
       "      <td>2853</td>\n",
       "      <td>1</td>\n",
       "    </tr>\n",
       "  </tbody>\n",
       "</table>\n",
       "</div>"
      ],
      "text/plain": [
       "          pred   obs  Fold\n",
       "0  2120.000000  2120     1\n",
       "1  2216.645094  1912     1\n",
       "2  2191.467880  2126     1\n",
       "3  2089.000000  2089     1\n",
       "4  2424.605816  2853     1"
      ]
     },
     "execution_count": 17,
     "metadata": {},
     "output_type": "execute_result"
    }
   ],
   "source": [
    "dane_do_zapisu_1.head()"
   ]
  },
  {
   "cell_type": "code",
   "execution_count": 18,
   "id": "8232eb78",
   "metadata": {},
   "outputs": [],
   "source": [
    "dane_do_zapisu_1.to_csv(\"D:/STUDIA/ROK_II/Projekt/Predykcje_i błędy/06 09/IE/IE_KNN_FE 15 11 (new).csv\")"
   ]
  },
  {
   "cell_type": "code",
   "execution_count": null,
   "id": "2c27149e",
   "metadata": {},
   "outputs": [],
   "source": []
  }
 ],
 "metadata": {
  "kernelspec": {
   "display_name": "Python 3",
   "language": "python",
   "name": "python3"
  },
  "language_info": {
   "codemirror_mode": {
    "name": "ipython",
    "version": 3
   },
   "file_extension": ".py",
   "mimetype": "text/x-python",
   "name": "python",
   "nbconvert_exporter": "python",
   "pygments_lexer": "ipython3",
   "version": "3.7.10"
  }
 },
 "nbformat": 4,
 "nbformat_minor": 5
}
