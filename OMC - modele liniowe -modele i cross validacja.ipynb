{
 "cells": [
  {
   "cell_type": "markdown",
   "id": "popular-fancy",
   "metadata": {},
   "source": [
    "# 1. Biblioteki"
   ]
  },
  {
   "cell_type": "code",
   "execution_count": 1,
   "id": "whole-literature",
   "metadata": {},
   "outputs": [
    {
     "name": "stderr",
     "output_type": "stream",
     "text": [
      "\n",
      "Attaching package: 'dplyr'\n",
      "\n",
      "\n",
      "The following objects are masked from 'package:stats':\n",
      "\n",
      "    filter, lag\n",
      "\n",
      "\n",
      "The following objects are masked from 'package:base':\n",
      "\n",
      "    intersect, setdiff, setequal, union\n",
      "\n",
      "\n",
      "Warning message:\n",
      "\"package 'FactoMineR' was built under R version 4.0.5\"\n",
      "Warning message:\n",
      "\"package 'factoextra' was built under R version 4.0.5\"\n",
      "Loading required package: ggplot2\n",
      "\n",
      "Warning message:\n",
      "\"package 'ggplot2' was built under R version 4.0.5\"\n",
      "Welcome! Want to learn more? See two factoextra-related books at https://goo.gl/ve3WBa\n",
      "\n",
      "-- \u001b[1mAttaching packages\u001b[22m ------------------------------------------------------------------------------- tidyverse 1.3.1 --\n",
      "\n",
      "\u001b[32mv\u001b[39m \u001b[34mtibble \u001b[39m 3.1.0     \u001b[32mv\u001b[39m \u001b[34mpurrr  \u001b[39m 0.3.4\n",
      "\u001b[32mv\u001b[39m \u001b[34mtidyr  \u001b[39m 1.1.3     \u001b[32mv\u001b[39m \u001b[34mstringr\u001b[39m 1.4.0\n",
      "\u001b[32mv\u001b[39m \u001b[34mreadr  \u001b[39m 1.4.0     \u001b[32mv\u001b[39m \u001b[34mforcats\u001b[39m 0.5.1\n",
      "\n",
      "Warning message:\n",
      "\"package 'tidyr' was built under R version 4.0.5\"\n",
      "Warning message:\n",
      "\"package 'readr' was built under R version 4.0.5\"\n",
      "Warning message:\n",
      "\"package 'stringr' was built under R version 4.0.5\"\n",
      "Warning message:\n",
      "\"package 'forcats' was built under R version 4.0.5\"\n",
      "-- \u001b[1mConflicts\u001b[22m ---------------------------------------------------------------------------------- tidyverse_conflicts() --\n",
      "\u001b[31mx\u001b[39m \u001b[34mdplyr\u001b[39m::\u001b[32mfilter()\u001b[39m masks \u001b[34mstats\u001b[39m::filter()\n",
      "\u001b[31mx\u001b[39m \u001b[34mdplyr\u001b[39m::\u001b[32mlag()\u001b[39m    masks \u001b[34mstats\u001b[39m::lag()\n",
      "\n",
      "Warning message:\n",
      "\"package 'mlbench' was built under R version 4.0.5\"\n",
      "Warning message:\n",
      "\"package 'caret' was built under R version 4.0.5\"\n",
      "Loading required package: lattice\n",
      "\n",
      "\n",
      "Attaching package: 'caret'\n",
      "\n",
      "\n",
      "The following object is masked from 'package:purrr':\n",
      "\n",
      "    lift\n",
      "\n",
      "\n",
      "The following objects are masked from 'package:Metrics':\n",
      "\n",
      "    precision, recall\n",
      "\n",
      "\n",
      "Warning message:\n",
      "\"package 'MASS' was built under R version 4.0.5\"\n",
      "\n",
      "Attaching package: 'MASS'\n",
      "\n",
      "\n",
      "The following object is masked from 'package:dplyr':\n",
      "\n",
      "    select\n",
      "\n",
      "\n",
      "Warning message:\n",
      "\"package 'randomForest' was built under R version 4.0.5\"\n",
      "randomForest 4.6-14\n",
      "\n",
      "Type rfNews() to see new features/changes/bug fixes.\n",
      "\n",
      "\n",
      "Attaching package: 'randomForest'\n",
      "\n",
      "\n",
      "The following object is masked from 'package:ggplot2':\n",
      "\n",
      "    margin\n",
      "\n",
      "\n",
      "The following object is masked from 'package:dplyr':\n",
      "\n",
      "    combine\n",
      "\n",
      "\n"
     ]
    }
   ],
   "source": [
    "library(dplyr)\n",
    "library(Metrics)\n",
    "library(FactoMineR)\n",
    "library(factoextra)\n",
    "library(tidyverse)\n",
    "library(mlbench)\n",
    "library(caret)\n",
    "library(MASS)\n",
    "library(randomForest)\n",
    "\n",
    "library(\"FactoMineR\")\n",
    "library(\"factoextra\")\n"
   ]
  },
  {
   "cell_type": "markdown",
   "id": "earlier-destiny",
   "metadata": {},
   "source": [
    "# 2. Wczytuje dane"
   ]
  },
  {
   "cell_type": "code",
   "execution_count": 2,
   "id": "operating-somewhere",
   "metadata": {},
   "outputs": [],
   "source": [
    "# Train to zbiór do uczenia\n",
    "train_df=read.csv(\"D:/STUDIA/ROK_II/Projekt/Dane_jalowka_i_krowa_train.csv\", encoding=\"utf-8\")\n",
    "\n",
    "# Test miał na celu porównanie poprawnośći predykcji na zbiorze, którego nie\n",
    "# nie \"widział\" model podczas uczenia\n",
    "test_df=read.csv(\"D:/STUDIA/ROK_II/Projekt/Dane_jalowka_i_krowa_test.csv\", encoding=\"utf-8\")\n",
    "\n",
    "# Val, odpowiadał za naprowadzanie modelu podczas walidacji w procesie uczenia\n",
    "val_df=read.csv(\"D:/STUDIA/ROK_II/Projekt/Dane_jalowka_i_krowa_val.csv\", encoding=\"utf-8\")\n",
    "\n",
    "\n",
    "colnames(train_df)<-c('id','Województwo', 'Data urodzenia', 'IE', 'Dokł. IE', 'PF', 'PI-PROD', 'PI-POKR', 'Prc', 'Psm', 'Pnr', 'Pw','PI-PLOD', 'CRj', 'CRk', 'PP', 'OMC', 'WH-KSOM', 'WH-DLUG', 'IP', 'kg ml', 'kg tł', '% tł', 'kg bi', '% bi', 'rc', 'sm', 'nr', 'w', 'og','kategoria')\n",
    "colnames(test_df)<-c('id','Województwo', 'Data urodzenia', 'IE', 'Dokł. IE', 'PF', 'PI-PROD', 'PI-POKR', 'Prc', 'Psm', 'Pnr', 'Pw','PI-PLOD', 'CRj', 'CRk', 'PP', 'OMC', 'WH-KSOM', 'WH-DLUG', 'IP', 'kg ml', 'kg tł', '% tł', 'kg bi', '% bi', 'rc', 'sm', 'nr', 'w', 'og','kategoria')\n",
    "colnames(val_df)<-c('id','Województwo', 'Data urodzenia', 'IE', 'Dokł. IE', 'PF', 'PI-PROD', 'PI-POKR', 'Prc', 'Psm', 'Pnr', 'Pw','PI-PLOD', 'CRj', 'CRk', 'PP', 'OMC', 'WH-KSOM', 'WH-DLUG', 'IP', 'kg ml', 'kg tł', '% tł', 'kg bi', '% bi', 'rc', 'sm', 'nr', 'w', 'og','kategoria')\n"
   ]
  },
  {
   "cell_type": "code",
   "execution_count": 3,
   "id": "fa5196c9",
   "metadata": {},
   "outputs": [
    {
     "data": {
      "text/html": [
       "<table class=\"dataframe\">\n",
       "<caption>A data.frame: 6 × 31</caption>\n",
       "<thead>\n",
       "\t<tr><th></th><th scope=col>id</th><th scope=col>Województwo</th><th scope=col>Data urodzenia</th><th scope=col>IE</th><th scope=col>Dokł. IE</th><th scope=col>PF</th><th scope=col>PI-PROD</th><th scope=col>PI-POKR</th><th scope=col>Prc</th><th scope=col>Psm</th><th scope=col>...</th><th scope=col>kg tł</th><th scope=col>% tł</th><th scope=col>kg bi</th><th scope=col>% bi</th><th scope=col>rc</th><th scope=col>sm</th><th scope=col>nr</th><th scope=col>w</th><th scope=col>og</th><th scope=col>kategoria</th></tr>\n",
       "\t<tr><th></th><th scope=col>&lt;int&gt;</th><th scope=col>&lt;chr&gt;</th><th scope=col>&lt;int&gt;</th><th scope=col>&lt;int&gt;</th><th scope=col>&lt;int&gt;</th><th scope=col>&lt;int&gt;</th><th scope=col>&lt;int&gt;</th><th scope=col>&lt;int&gt;</th><th scope=col>&lt;int&gt;</th><th scope=col>&lt;int&gt;</th><th scope=col>...</th><th scope=col>&lt;int&gt;</th><th scope=col>&lt;int&gt;</th><th scope=col>&lt;int&gt;</th><th scope=col>&lt;int&gt;</th><th scope=col>&lt;dbl&gt;</th><th scope=col>&lt;dbl&gt;</th><th scope=col>&lt;dbl&gt;</th><th scope=col>&lt;dbl&gt;</th><th scope=col>&lt;dbl&gt;</th><th scope=col>&lt;chr&gt;</th></tr>\n",
       "</thead>\n",
       "<tbody>\n",
       "\t<tr><th scope=row>1</th><td>1842</td><td>WIELKOPOLSKIE     </td><td>2020</td><td>2120</td><td>66</td><td>142</td><td>137</td><td>127</td><td>121</td><td>113</td><td>...</td><td>577</td><td>  2</td><td>452</td><td> 1</td><td>115</td><td>114</td><td>109</td><td>127</td><td>123</td><td>krowa  </td></tr>\n",
       "\t<tr><th scope=row>2</th><td>1464</td><td>KUJAWSKO-POMORSKIE</td><td>2018</td><td>1912</td><td>70</td><td>137</td><td>126</td><td>123</td><td>109</td><td>113</td><td>...</td><td>358</td><td>-16</td><td>354</td><td>-4</td><td>115</td><td>113</td><td>104</td><td>123</td><td>123</td><td>jalowka</td></tr>\n",
       "\t<tr><th scope=row>3</th><td> 813</td><td>POMORSKIE         </td><td>2020</td><td>2126</td><td>66</td><td>136</td><td>126</td><td>120</td><td>110</td><td>107</td><td>...</td><td>368</td><td> -4</td><td>350</td><td> 4</td><td>104</td><td>103</td><td>102</td><td>122</td><td>117</td><td>krowa  </td></tr>\n",
       "\t<tr><th scope=row>4</th><td> 961</td><td>KUJAWSKO-POMORSKIE</td><td>2020</td><td>2089</td><td>68</td><td>136</td><td>133</td><td>111</td><td>104</td><td>110</td><td>...</td><td>546</td><td> 12</td><td>410</td><td> 7</td><td>106</td><td>106</td><td>101</td><td>112</td><td>112</td><td>krowa  </td></tr>\n",
       "\t<tr><th scope=row>5</th><td>   6</td><td>ZACHODNIOPOMORSKIE</td><td>2020</td><td>2853</td><td>66</td><td>143</td><td>125</td><td>115</td><td> 91</td><td> 95</td><td>...</td><td>501</td><td> 36</td><td>289</td><td>15</td><td>102</td><td>102</td><td>118</td><td>123</td><td>109</td><td>jalowka</td></tr>\n",
       "\t<tr><th scope=row>6</th><td> 974</td><td>PODLASKIE         </td><td>2020</td><td>2088</td><td>66</td><td>141</td><td>135</td><td>115</td><td>111</td><td>112</td><td>...</td><td>554</td><td> 13</td><td>433</td><td>10</td><td>111</td><td>107</td><td>103</td><td>117</td><td>118</td><td>krowa  </td></tr>\n",
       "</tbody>\n",
       "</table>\n"
      ],
      "text/latex": [
       "A data.frame: 6 × 31\n",
       "\\begin{tabular}{r|lllllllllllllllllllll}\n",
       "  & id & Województwo & Data urodzenia & IE & Dokł. IE & PF & PI-PROD & PI-POKR & Prc & Psm & ... & kg tł & \\% tł & kg bi & \\% bi & rc & sm & nr & w & og & kategoria\\\\\n",
       "  & <int> & <chr> & <int> & <int> & <int> & <int> & <int> & <int> & <int> & <int> & ... & <int> & <int> & <int> & <int> & <dbl> & <dbl> & <dbl> & <dbl> & <dbl> & <chr>\\\\\n",
       "\\hline\n",
       "\t1 & 1842 & WIELKOPOLSKIE      & 2020 & 2120 & 66 & 142 & 137 & 127 & 121 & 113 & ... & 577 &   2 & 452 &  1 & 115 & 114 & 109 & 127 & 123 & krowa  \\\\\n",
       "\t2 & 1464 & KUJAWSKO-POMORSKIE & 2018 & 1912 & 70 & 137 & 126 & 123 & 109 & 113 & ... & 358 & -16 & 354 & -4 & 115 & 113 & 104 & 123 & 123 & jalowka\\\\\n",
       "\t3 &  813 & POMORSKIE          & 2020 & 2126 & 66 & 136 & 126 & 120 & 110 & 107 & ... & 368 &  -4 & 350 &  4 & 104 & 103 & 102 & 122 & 117 & krowa  \\\\\n",
       "\t4 &  961 & KUJAWSKO-POMORSKIE & 2020 & 2089 & 68 & 136 & 133 & 111 & 104 & 110 & ... & 546 &  12 & 410 &  7 & 106 & 106 & 101 & 112 & 112 & krowa  \\\\\n",
       "\t5 &    6 & ZACHODNIOPOMORSKIE & 2020 & 2853 & 66 & 143 & 125 & 115 &  91 &  95 & ... & 501 &  36 & 289 & 15 & 102 & 102 & 118 & 123 & 109 & jalowka\\\\\n",
       "\t6 &  974 & PODLASKIE          & 2020 & 2088 & 66 & 141 & 135 & 115 & 111 & 112 & ... & 554 &  13 & 433 & 10 & 111 & 107 & 103 & 117 & 118 & krowa  \\\\\n",
       "\\end{tabular}\n"
      ],
      "text/markdown": [
       "\n",
       "A data.frame: 6 × 31\n",
       "\n",
       "| <!--/--> | id &lt;int&gt; | Województwo &lt;chr&gt; | Data urodzenia &lt;int&gt; | IE &lt;int&gt; | Dokł. IE &lt;int&gt; | PF &lt;int&gt; | PI-PROD &lt;int&gt; | PI-POKR &lt;int&gt; | Prc &lt;int&gt; | Psm &lt;int&gt; | ... ... | kg tł &lt;int&gt; | % tł &lt;int&gt; | kg bi &lt;int&gt; | % bi &lt;int&gt; | rc &lt;dbl&gt; | sm &lt;dbl&gt; | nr &lt;dbl&gt; | w &lt;dbl&gt; | og &lt;dbl&gt; | kategoria &lt;chr&gt; |\n",
       "|---|---|---|---|---|---|---|---|---|---|---|---|---|---|---|---|---|---|---|---|---|---|\n",
       "| 1 | 1842 | WIELKOPOLSKIE      | 2020 | 2120 | 66 | 142 | 137 | 127 | 121 | 113 | ... | 577 |   2 | 452 |  1 | 115 | 114 | 109 | 127 | 123 | krowa   |\n",
       "| 2 | 1464 | KUJAWSKO-POMORSKIE | 2018 | 1912 | 70 | 137 | 126 | 123 | 109 | 113 | ... | 358 | -16 | 354 | -4 | 115 | 113 | 104 | 123 | 123 | jalowka |\n",
       "| 3 |  813 | POMORSKIE          | 2020 | 2126 | 66 | 136 | 126 | 120 | 110 | 107 | ... | 368 |  -4 | 350 |  4 | 104 | 103 | 102 | 122 | 117 | krowa   |\n",
       "| 4 |  961 | KUJAWSKO-POMORSKIE | 2020 | 2089 | 68 | 136 | 133 | 111 | 104 | 110 | ... | 546 |  12 | 410 |  7 | 106 | 106 | 101 | 112 | 112 | krowa   |\n",
       "| 5 |    6 | ZACHODNIOPOMORSKIE | 2020 | 2853 | 66 | 143 | 125 | 115 |  91 |  95 | ... | 501 |  36 | 289 | 15 | 102 | 102 | 118 | 123 | 109 | jalowka |\n",
       "| 6 |  974 | PODLASKIE          | 2020 | 2088 | 66 | 141 | 135 | 115 | 111 | 112 | ... | 554 |  13 | 433 | 10 | 111 | 107 | 103 | 117 | 118 | krowa   |\n",
       "\n"
      ],
      "text/plain": [
       "  id   Województwo        Data urodzenia IE   Dokł. IE PF  PI-PROD PI-POKR Prc\n",
       "1 1842 WIELKOPOLSKIE      2020           2120 66       142 137     127     121\n",
       "2 1464 KUJAWSKO-POMORSKIE 2018           1912 70       137 126     123     109\n",
       "3  813 POMORSKIE          2020           2126 66       136 126     120     110\n",
       "4  961 KUJAWSKO-POMORSKIE 2020           2089 68       136 133     111     104\n",
       "5    6 ZACHODNIOPOMORSKIE 2020           2853 66       143 125     115      91\n",
       "6  974 PODLASKIE          2020           2088 66       141 135     115     111\n",
       "  Psm ... kg tł % tł kg bi % bi rc  sm  nr  w   og  kategoria\n",
       "1 113 ... 577     2  452    1   115 114 109 127 123 krowa    \n",
       "2 113 ... 358   -16  354   -4   115 113 104 123 123 jalowka  \n",
       "3 107 ... 368    -4  350    4   104 103 102 122 117 krowa    \n",
       "4 110 ... 546    12  410    7   106 106 101 112 112 krowa    \n",
       "5  95 ... 501    36  289   15   102 102 118 123 109 jalowka  \n",
       "6 112 ... 554    13  433   10   111 107 103 117 118 krowa    "
      ]
     },
     "metadata": {},
     "output_type": "display_data"
    }
   ],
   "source": [
    "head(train_df)"
   ]
  },
  {
   "cell_type": "markdown",
   "id": "f58f79e5",
   "metadata": {},
   "source": [
    "## 2.1 Poprawiam nazwy zmiennych"
   ]
  },
  {
   "cell_type": "code",
   "execution_count": 4,
   "id": "4f7fa366",
   "metadata": {},
   "outputs": [
    {
     "data": {
      "text/html": [
       "<style>\n",
       ".list-inline {list-style: none; margin:0; padding: 0}\n",
       ".list-inline>li {display: inline-block}\n",
       ".list-inline>li:not(:last-child)::after {content: \"\\00b7\"; padding: 0 .5ex}\n",
       "</style>\n",
       "<ol class=list-inline><li>'id'</li><li>'Województwo'</li><li>'Data urodzenia'</li><li>'IE'</li><li>'Dokł. IE'</li><li>'PF'</li><li>'PI-PROD'</li><li>'PI-POKR'</li><li>'Prc'</li><li>'Psm'</li><li>'Pnr'</li><li>'Pw'</li><li>'PI-PLOD'</li><li>'CRj'</li><li>'CRk'</li><li>'PP'</li><li>'OMC'</li><li>'WH-KSOM'</li><li>'WH-DLUG'</li><li>'IP'</li><li>'kg ml'</li><li>'kg tł'</li><li>'% tł'</li><li>'kg bi'</li><li>'% bi'</li><li>'rc'</li><li>'sm'</li><li>'nr'</li><li>'w'</li><li>'og'</li><li>'kategoria'</li></ol>\n"
      ],
      "text/latex": [
       "\\begin{enumerate*}\n",
       "\\item 'id'\n",
       "\\item 'Województwo'\n",
       "\\item 'Data urodzenia'\n",
       "\\item 'IE'\n",
       "\\item 'Dokł. IE'\n",
       "\\item 'PF'\n",
       "\\item 'PI-PROD'\n",
       "\\item 'PI-POKR'\n",
       "\\item 'Prc'\n",
       "\\item 'Psm'\n",
       "\\item 'Pnr'\n",
       "\\item 'Pw'\n",
       "\\item 'PI-PLOD'\n",
       "\\item 'CRj'\n",
       "\\item 'CRk'\n",
       "\\item 'PP'\n",
       "\\item 'OMC'\n",
       "\\item 'WH-KSOM'\n",
       "\\item 'WH-DLUG'\n",
       "\\item 'IP'\n",
       "\\item 'kg ml'\n",
       "\\item 'kg tł'\n",
       "\\item '\\% tł'\n",
       "\\item 'kg bi'\n",
       "\\item '\\% bi'\n",
       "\\item 'rc'\n",
       "\\item 'sm'\n",
       "\\item 'nr'\n",
       "\\item 'w'\n",
       "\\item 'og'\n",
       "\\item 'kategoria'\n",
       "\\end{enumerate*}\n"
      ],
      "text/markdown": [
       "1. 'id'\n",
       "2. 'Województwo'\n",
       "3. 'Data urodzenia'\n",
       "4. 'IE'\n",
       "5. 'Dokł. IE'\n",
       "6. 'PF'\n",
       "7. 'PI-PROD'\n",
       "8. 'PI-POKR'\n",
       "9. 'Prc'\n",
       "10. 'Psm'\n",
       "11. 'Pnr'\n",
       "12. 'Pw'\n",
       "13. 'PI-PLOD'\n",
       "14. 'CRj'\n",
       "15. 'CRk'\n",
       "16. 'PP'\n",
       "17. 'OMC'\n",
       "18. 'WH-KSOM'\n",
       "19. 'WH-DLUG'\n",
       "20. 'IP'\n",
       "21. 'kg ml'\n",
       "22. 'kg tł'\n",
       "23. '% tł'\n",
       "24. 'kg bi'\n",
       "25. '% bi'\n",
       "26. 'rc'\n",
       "27. 'sm'\n",
       "28. 'nr'\n",
       "29. 'w'\n",
       "30. 'og'\n",
       "31. 'kategoria'\n",
       "\n",
       "\n"
      ],
      "text/plain": [
       " [1] \"id\"             \"Województwo\"    \"Data urodzenia\" \"IE\"            \n",
       " [5] \"Dokł. IE\"       \"PF\"             \"PI-PROD\"        \"PI-POKR\"       \n",
       " [9] \"Prc\"            \"Psm\"            \"Pnr\"            \"Pw\"            \n",
       "[13] \"PI-PLOD\"        \"CRj\"            \"CRk\"            \"PP\"            \n",
       "[17] \"OMC\"            \"WH-KSOM\"        \"WH-DLUG\"        \"IP\"            \n",
       "[21] \"kg ml\"          \"kg tł\"          \"% tł\"           \"kg bi\"         \n",
       "[25] \"% bi\"           \"rc\"             \"sm\"             \"nr\"            \n",
       "[29] \"w\"              \"og\"             \"kategoria\"     "
      ]
     },
     "metadata": {},
     "output_type": "display_data"
    }
   ],
   "source": [
    "colnames(train_df)"
   ]
  },
  {
   "cell_type": "code",
   "execution_count": 5,
   "id": "b85f2a2b",
   "metadata": {},
   "outputs": [
    {
     "name": "stdout",
     "output_type": "stream",
     "text": [
      "'data.frame':\t1504 obs. of  31 variables:\n",
      " $ id            : int  1842 1464 813 961 6 974 647 1096 631 335 ...\n",
      " $ Województwo   : chr  \"WIELKOPOLSKIE\" \"KUJAWSKO-POMORSKIE\" \"POMORSKIE\" \"KUJAWSKO-POMORSKIE\" ...\n",
      " $ Data urodzenia: int  2020 2018 2020 2020 2020 2020 2020 2019 2020 2020 ...\n",
      " $ IE            : int  2120 1912 2126 2089 2853 2088 2173 2139 2178 2303 ...\n",
      " $ Dokł. IE      : int  66 70 66 68 66 66 66 68 66 65 ...\n",
      " $ PF            : int  142 137 136 136 143 141 140 138 136 149 ...\n",
      " $ PI-PROD       : int  137 126 126 133 125 135 138 122 129 145 ...\n",
      " $ PI-POKR       : int  127 123 120 111 115 115 121 120 118 127 ...\n",
      " $ Prc           : int  121 109 110 104 91 111 109 116 102 121 ...\n",
      " $ Psm           : int  113 113 107 110 95 112 105 110 112 124 ...\n",
      " $ Pnr           : int  106 103 102 99 101 99 108 113 96 110 ...\n",
      " $ Pw            : int  128 128 124 114 124 118 123 116 125 124 ...\n",
      " $ PI-PLOD       : int  109 114 113 114 134 122 99 128 110 106 ...\n",
      " $ CRj           : int  107 114 112 113 129 124 98 120 107 106 ...\n",
      " $ CRk           : int  110 113 117 126 133 119 107 135 113 113 ...\n",
      " $ PP            : int  101 94 94 89 102 80 107 110 105 97 ...\n",
      " $ OMC           : int  105 98 100 100 113 93 107 121 107 101 ...\n",
      " $ WH-KSOM       : int  112 118 126 116 139 121 116 127 119 118 ...\n",
      " $ WH-DLUG       : int  117 121 121 118 130 113 120 123 124 117 ...\n",
      " $ IP            : int  1481 1066 1068 1366 1079 1420 1536 910 1236 1780 ...\n",
      " $ kg ml         : int  1370 1209 982 1080 516 1069 847 380 918 1153 ...\n",
      " $ kg tł         : int  577 358 368 546 501 554 672 284 578 668 ...\n",
      " $ % tł          : int  2 -16 -4 12 36 13 39 16 24 22 ...\n",
      " $ kg bi         : int  452 354 350 410 289 433 432 313 329 556 ...\n",
      " $ % bi          : int  1 -4 4 7 15 10 19 24 4 21 ...\n",
      " $ rc            : num  115 115 104 106 102 111 111 110 106 116 ...\n",
      " $ sm            : num  114 113 103 106 102 107 107 107 103 115 ...\n",
      " $ nr            : num  109 104 102 101 118 103 114 119 112 114 ...\n",
      " $ w             : num  127 123 122 112 123 117 121 114 125 124 ...\n",
      " $ og            : num  123 123 117 112 109 118 116 115 119 129 ...\n",
      " $ kategoria     : chr  \"krowa\" \"jalowka\" \"krowa\" \"krowa\" ...\n"
     ]
    }
   ],
   "source": [
    "str(train_df)"
   ]
  },
  {
   "cell_type": "markdown",
   "id": "b945c28b",
   "metadata": {},
   "source": [
    "### 2.2 Usuwam niepotrzebne do IE kolumny i zakodowuje Date urodzenia jako zmienną kategoryczna"
   ]
  },
  {
   "cell_type": "code",
   "execution_count": 6,
   "id": "84f23adf",
   "metadata": {},
   "outputs": [],
   "source": [
    "train_df$id<-NULL\n",
    "test_df$id<-NULL\n",
    "val_df$id<-NULL\n",
    "\n",
    "train_df$kategoria<-NULL\n",
    "test_df$kategoria<-NULL\n",
    "val_df$kategoria<-NULL\n",
    "\n",
    "\n",
    "train_df$'PF'<-NULL\n",
    "test_df$'PF'<-NULL\n",
    "val_df$'PF'<-NULL\n",
    "\n",
    "train_df$'IE'<-NULL\n",
    "test_df$'IE'<-NULL\n",
    "val_df$'IE'<-NULL\n",
    "\n",
    "train_df$'Dokł. IE'<-NULL\n",
    "test_df$'Dokł. IE'<-NULL\n",
    "val_df$'Dokł. IE'<-NULL\n",
    "\n",
    "\n",
    "train_df$'Data urodzenia'<-as.character(train_df$'Data urodzenia')\n",
    "test_df$'Data urodzenia'<-as.character(test_df$'Data urodzenia')\n",
    "val_df$'Data urodzenia'<-as.character(val_df$'Data urodzenia')"
   ]
  },
  {
   "cell_type": "code",
   "execution_count": 7,
   "id": "474ba174",
   "metadata": {},
   "outputs": [
    {
     "name": "stdout",
     "output_type": "stream",
     "text": [
      "'data.frame':\t1504 obs. of  26 variables:\n",
      " $ Województwo   : chr  \"WIELKOPOLSKIE\" \"KUJAWSKO-POMORSKIE\" \"POMORSKIE\" \"KUJAWSKO-POMORSKIE\" ...\n",
      " $ Data urodzenia: chr  \"2020\" \"2018\" \"2020\" \"2020\" ...\n",
      " $ PI-PROD       : int  137 126 126 133 125 135 138 122 129 145 ...\n",
      " $ PI-POKR       : int  127 123 120 111 115 115 121 120 118 127 ...\n",
      " $ Prc           : int  121 109 110 104 91 111 109 116 102 121 ...\n",
      " $ Psm           : int  113 113 107 110 95 112 105 110 112 124 ...\n",
      " $ Pnr           : int  106 103 102 99 101 99 108 113 96 110 ...\n",
      " $ Pw            : int  128 128 124 114 124 118 123 116 125 124 ...\n",
      " $ PI-PLOD       : int  109 114 113 114 134 122 99 128 110 106 ...\n",
      " $ CRj           : int  107 114 112 113 129 124 98 120 107 106 ...\n",
      " $ CRk           : int  110 113 117 126 133 119 107 135 113 113 ...\n",
      " $ PP            : int  101 94 94 89 102 80 107 110 105 97 ...\n",
      " $ OMC           : int  105 98 100 100 113 93 107 121 107 101 ...\n",
      " $ WH-KSOM       : int  112 118 126 116 139 121 116 127 119 118 ...\n",
      " $ WH-DLUG       : int  117 121 121 118 130 113 120 123 124 117 ...\n",
      " $ IP            : int  1481 1066 1068 1366 1079 1420 1536 910 1236 1780 ...\n",
      " $ kg ml         : int  1370 1209 982 1080 516 1069 847 380 918 1153 ...\n",
      " $ kg tł         : int  577 358 368 546 501 554 672 284 578 668 ...\n",
      " $ % tł          : int  2 -16 -4 12 36 13 39 16 24 22 ...\n",
      " $ kg bi         : int  452 354 350 410 289 433 432 313 329 556 ...\n",
      " $ % bi          : int  1 -4 4 7 15 10 19 24 4 21 ...\n",
      " $ rc            : num  115 115 104 106 102 111 111 110 106 116 ...\n",
      " $ sm            : num  114 113 103 106 102 107 107 107 103 115 ...\n",
      " $ nr            : num  109 104 102 101 118 103 114 119 112 114 ...\n",
      " $ w             : num  127 123 122 112 123 117 121 114 125 124 ...\n",
      " $ og            : num  123 123 117 112 109 118 116 115 119 129 ...\n"
     ]
    }
   ],
   "source": [
    "str(train_df)"
   ]
  },
  {
   "cell_type": "code",
   "execution_count": 8,
   "id": "4065d09c",
   "metadata": {},
   "outputs": [
    {
     "data": {
      "text/html": [
       "<style>\n",
       ".list-inline {list-style: none; margin:0; padding: 0}\n",
       ".list-inline>li {display: inline-block}\n",
       ".list-inline>li:not(:last-child)::after {content: \"\\00b7\"; padding: 0 .5ex}\n",
       "</style>\n",
       "<ol class=list-inline><li>1881</li><li>26</li></ol>\n"
      ],
      "text/latex": [
       "\\begin{enumerate*}\n",
       "\\item 1881\n",
       "\\item 26\n",
       "\\end{enumerate*}\n"
      ],
      "text/markdown": [
       "1. 1881\n",
       "2. 26\n",
       "\n",
       "\n"
      ],
      "text/plain": [
       "[1] 1881   26"
      ]
     },
     "metadata": {},
     "output_type": "display_data"
    }
   ],
   "source": [
    "cale_train=rbind(train_df,test_df,val_df)\n",
    "dim(cale_train)"
   ]
  },
  {
   "cell_type": "code",
   "execution_count": 9,
   "id": "89ac0c26",
   "metadata": {},
   "outputs": [
    {
     "data": {
      "text/plain": [
       "\n",
       "2015 2016 2017 2018 2019 2020 2021 \n",
       "   1   23   68  279  397 1066   47 "
      ]
     },
     "metadata": {},
     "output_type": "display_data"
    }
   ],
   "source": [
    "table(cale_train$'Data urodzenia')"
   ]
  },
  {
   "cell_type": "markdown",
   "id": "8834b028",
   "metadata": {},
   "source": [
    "#### Usuwam wpis z rokiem 2015 bo jest tylko 1"
   ]
  },
  {
   "cell_type": "code",
   "execution_count": 10,
   "id": "f5c44aa9",
   "metadata": {},
   "outputs": [
    {
     "data": {
      "text/plain": [
       "\n",
       "2016 2017 2018 2019 2020 2021 \n",
       "  23   68  279  397 1066   47 "
      ]
     },
     "metadata": {},
     "output_type": "display_data"
    }
   ],
   "source": [
    "cale_train= cale_train[cale_train$'Data urodzenia'!='2015',]\n",
    "table(cale_train$'Data urodzenia')"
   ]
  },
  {
   "cell_type": "code",
   "execution_count": 11,
   "id": "17f2e3e7",
   "metadata": {},
   "outputs": [
    {
     "data": {
      "text/plain": [
       "\n",
       "      DOLNOĹšLÄ„SKIE   KUJAWSKO-POMORSKIE            Ĺ\\201Ă“DZKIE \n",
       "                  32                  298                   41 \n",
       "           ĹšLÄ„SKIE     ĹšWIÄ\\230TOKRZYSKIE            LUBELSKIE \n",
       "                  17                   13                    4 \n",
       "            LUBUSKIE         MAĹ\\201OPOLSKIE          MAZOWIECKIE \n",
       "                  47                   12                  106 \n",
       "            OPOLSKIE         PODKARPACKIE            PODLASKIE \n",
       "                 227                    1                  175 \n",
       "           POMORSKIE WARMIĹ\\203SKO-MAZURSKIE        WIELKOPOLSKIE \n",
       "                  94                   23                  578 \n",
       "  ZACHODNIOPOMORSKIE \n",
       "                 212 "
      ]
     },
     "metadata": {},
     "output_type": "display_data"
    }
   ],
   "source": [
    "table(cale_train$'Województwo')"
   ]
  },
  {
   "cell_type": "markdown",
   "id": "f717e2e0",
   "metadata": {},
   "source": [
    "#### Usuwam Podkarpackie i Lubleskie n<10"
   ]
  },
  {
   "cell_type": "code",
   "execution_count": 12,
   "id": "532b5c1c",
   "metadata": {},
   "outputs": [
    {
     "data": {
      "text/plain": [
       "\n",
       "      DOLNOĹšLÄ„SKIE   KUJAWSKO-POMORSKIE            Ĺ\\201Ă“DZKIE \n",
       "                  32                  298                   41 \n",
       "           ĹšLÄ„SKIE     ĹšWIÄ\\230TOKRZYSKIE             LUBUSKIE \n",
       "                  17                   13                   47 \n",
       "        MAĹ\\201OPOLSKIE          MAZOWIECKIE             OPOLSKIE \n",
       "                  12                  106                  227 \n",
       "           PODLASKIE            POMORSKIE WARMIĹ\\203SKO-MAZURSKIE \n",
       "                 175                   94                   23 \n",
       "       WIELKOPOLSKIE   ZACHODNIOPOMORSKIE \n",
       "                 578                  212 "
      ]
     },
     "metadata": {},
     "output_type": "display_data"
    }
   ],
   "source": [
    "cale_train= cale_train[cale_train$'Województwo'!='PODKARPACKIE',]\n",
    "cale_train= cale_train[cale_train$'Województwo'!='LUBELSKIE',]\n",
    "table(cale_train$'Województwo')"
   ]
  },
  {
   "cell_type": "code",
   "execution_count": 13,
   "id": "c0fdb8ef",
   "metadata": {},
   "outputs": [
    {
     "data": {
      "image/png": "[encoded data removed]",
      "text/plain": [
       "Plot with title \"Histogram of cale_train$OMC\""
      ]
     },
     "metadata": {
      "image/png": {
       "height": 420,
       "width": 420
      }
     },
     "output_type": "display_data"
    }
   ],
   "source": [
    "hist(cale_train$OMC)"
   ]
  },
  {
   "cell_type": "markdown",
   "id": "decreased-chase",
   "metadata": {},
   "source": [
    "# 3. Korelacje zmiennej IE z pozostałymi zmiennymi"
   ]
  },
  {
   "cell_type": "code",
   "execution_count": 14,
   "id": "established-workstation",
   "metadata": {
    "scrolled": true
   },
   "outputs": [],
   "source": [
    "korelacje=as.data.frame(cor(cale_train[,3:length(colnames(cale_train))],method=\"pearson\",y = cale_train$OMC))\n",
    "korelacje$nazwy=rownames(korelacje)\n",
    "row.names(korelacje) <- NULL\n",
    "korelacje <- korelacje[order(-korelacje$V1),]"
   ]
  },
  {
   "cell_type": "code",
   "execution_count": 15,
   "id": "a5c89d7a",
   "metadata": {},
   "outputs": [
    {
     "data": {
      "text/html": [
       "<table class=\"dataframe\">\n",
       "<caption>A data.frame: 24 × 2</caption>\n",
       "<thead>\n",
       "\t<tr><th></th><th scope=col>V1</th><th scope=col>nazwy</th></tr>\n",
       "\t<tr><th></th><th scope=col>&lt;dbl&gt;</th><th scope=col>&lt;chr&gt;</th></tr>\n",
       "</thead>\n",
       "<tbody>\n",
       "\t<tr><th scope=row>11</th><td> 1.00000000</td><td>OMC    </td></tr>\n",
       "\t<tr><th scope=row>10</th><td> 0.86263035</td><td>PP     </td></tr>\n",
       "\t<tr><th scope=row>9</th><td> 0.64171150</td><td>CRk    </td></tr>\n",
       "\t<tr><th scope=row>7</th><td> 0.61314984</td><td>PI-PLOD</td></tr>\n",
       "\t<tr><th scope=row>13</th><td> 0.48968095</td><td>WH-DLUG</td></tr>\n",
       "\t<tr><th scope=row>8</th><td> 0.42106940</td><td>CRj    </td></tr>\n",
       "\t<tr><th scope=row>22</th><td> 0.28045811</td><td>nr     </td></tr>\n",
       "\t<tr><th scope=row>6</th><td> 0.17370161</td><td>Pw     </td></tr>\n",
       "\t<tr><th scope=row>23</th><td> 0.16528660</td><td>w      </td></tr>\n",
       "\t<tr><th scope=row>19</th><td> 0.16299974</td><td>% bi   </td></tr>\n",
       "\t<tr><th scope=row>17</th><td> 0.12876124</td><td>% tł   </td></tr>\n",
       "\t<tr><th scope=row>5</th><td> 0.12198709</td><td>Pnr    </td></tr>\n",
       "\t<tr><th scope=row>2</th><td> 0.11029342</td><td>PI-POKR</td></tr>\n",
       "\t<tr><th scope=row>12</th><td> 0.07344810</td><td>WH-KSOM</td></tr>\n",
       "\t<tr><th scope=row>20</th><td>-0.08091711</td><td>rc     </td></tr>\n",
       "\t<tr><th scope=row>24</th><td>-0.08467185</td><td>og     </td></tr>\n",
       "\t<tr><th scope=row>3</th><td>-0.14598596</td><td>Prc    </td></tr>\n",
       "\t<tr><th scope=row>21</th><td>-0.21843254</td><td>sm     </td></tr>\n",
       "\t<tr><th scope=row>4</th><td>-0.35055446</td><td>Psm    </td></tr>\n",
       "\t<tr><th scope=row>16</th><td>-0.41340074</td><td>kg tł  </td></tr>\n",
       "\t<tr><th scope=row>18</th><td>-0.54432984</td><td>kg bi  </td></tr>\n",
       "\t<tr><th scope=row>15</th><td>-0.57037509</td><td>kg ml  </td></tr>\n",
       "\t<tr><th scope=row>14</th><td>-0.57147564</td><td>IP     </td></tr>\n",
       "\t<tr><th scope=row>1</th><td>-0.57742184</td><td>PI-PROD</td></tr>\n",
       "</tbody>\n",
       "</table>\n"
      ],
      "text/latex": [
       "A data.frame: 24 × 2\n",
       "\\begin{tabular}{r|ll}\n",
       "  & V1 & nazwy\\\\\n",
       "  & <dbl> & <chr>\\\\\n",
       "\\hline\n",
       "\t11 &  1.00000000 & OMC    \\\\\n",
       "\t10 &  0.86263035 & PP     \\\\\n",
       "\t9 &  0.64171150 & CRk    \\\\\n",
       "\t7 &  0.61314984 & PI-PLOD\\\\\n",
       "\t13 &  0.48968095 & WH-DLUG\\\\\n",
       "\t8 &  0.42106940 & CRj    \\\\\n",
       "\t22 &  0.28045811 & nr     \\\\\n",
       "\t6 &  0.17370161 & Pw     \\\\\n",
       "\t23 &  0.16528660 & w      \\\\\n",
       "\t19 &  0.16299974 & \\% bi   \\\\\n",
       "\t17 &  0.12876124 & \\% tł   \\\\\n",
       "\t5 &  0.12198709 & Pnr    \\\\\n",
       "\t2 &  0.11029342 & PI-POKR\\\\\n",
       "\t12 &  0.07344810 & WH-KSOM\\\\\n",
       "\t20 & -0.08091711 & rc     \\\\\n",
       "\t24 & -0.08467185 & og     \\\\\n",
       "\t3 & -0.14598596 & Prc    \\\\\n",
       "\t21 & -0.21843254 & sm     \\\\\n",
       "\t4 & -0.35055446 & Psm    \\\\\n",
       "\t16 & -0.41340074 & kg tł  \\\\\n",
       "\t18 & -0.54432984 & kg bi  \\\\\n",
       "\t15 & -0.57037509 & kg ml  \\\\\n",
       "\t14 & -0.57147564 & IP     \\\\\n",
       "\t1 & -0.57742184 & PI-PROD\\\\\n",
       "\\end{tabular}\n"
      ],
      "text/markdown": [
       "\n",
       "A data.frame: 24 × 2\n",
       "\n",
       "| <!--/--> | V1 &lt;dbl&gt; | nazwy &lt;chr&gt; |\n",
       "|---|---|---|\n",
       "| 11 |  1.00000000 | OMC     |\n",
       "| 10 |  0.86263035 | PP      |\n",
       "| 9 |  0.64171150 | CRk     |\n",
       "| 7 |  0.61314984 | PI-PLOD |\n",
       "| 13 |  0.48968095 | WH-DLUG |\n",
       "| 8 |  0.42106940 | CRj     |\n",
       "| 22 |  0.28045811 | nr      |\n",
       "| 6 |  0.17370161 | Pw      |\n",
       "| 23 |  0.16528660 | w       |\n",
       "| 19 |  0.16299974 | % bi    |\n",
       "| 17 |  0.12876124 | % tł    |\n",
       "| 5 |  0.12198709 | Pnr     |\n",
       "| 2 |  0.11029342 | PI-POKR |\n",
       "| 12 |  0.07344810 | WH-KSOM |\n",
       "| 20 | -0.08091711 | rc      |\n",
       "| 24 | -0.08467185 | og      |\n",
       "| 3 | -0.14598596 | Prc     |\n",
       "| 21 | -0.21843254 | sm      |\n",
       "| 4 | -0.35055446 | Psm     |\n",
       "| 16 | -0.41340074 | kg tł   |\n",
       "| 18 | -0.54432984 | kg bi   |\n",
       "| 15 | -0.57037509 | kg ml   |\n",
       "| 14 | -0.57147564 | IP      |\n",
       "| 1 | -0.57742184 | PI-PROD |\n",
       "\n"
      ],
      "text/plain": [
       "   V1          nazwy  \n",
       "11  1.00000000 OMC    \n",
       "10  0.86263035 PP     \n",
       "9   0.64171150 CRk    \n",
       "7   0.61314984 PI-PLOD\n",
       "13  0.48968095 WH-DLUG\n",
       "8   0.42106940 CRj    \n",
       "22  0.28045811 nr     \n",
       "6   0.17370161 Pw     \n",
       "23  0.16528660 w      \n",
       "19  0.16299974 % bi   \n",
       "17  0.12876124 % tł   \n",
       "5   0.12198709 Pnr    \n",
       "2   0.11029342 PI-POKR\n",
       "12  0.07344810 WH-KSOM\n",
       "20 -0.08091711 rc     \n",
       "24 -0.08467185 og     \n",
       "3  -0.14598596 Prc    \n",
       "21 -0.21843254 sm     \n",
       "4  -0.35055446 Psm    \n",
       "16 -0.41340074 kg tł  \n",
       "18 -0.54432984 kg bi  \n",
       "15 -0.57037509 kg ml  \n",
       "14 -0.57147564 IP     \n",
       "1  -0.57742184 PI-PROD"
      ]
     },
     "metadata": {},
     "output_type": "display_data"
    }
   ],
   "source": [
    "korelacje"
   ]
  },
  {
   "cell_type": "code",
   "execution_count": 16,
   "id": "7d4ded0d",
   "metadata": {},
   "outputs": [
    {
     "data": {
      "text/html": [
       "<style>\n",
       ".list-inline {list-style: none; margin:0; padding: 0}\n",
       ".list-inline>li {display: inline-block}\n",
       ".list-inline>li:not(:last-child)::after {content: \"\\00b7\"; padding: 0 .5ex}\n",
       "</style>\n",
       "<ol class=list-inline><li>0.862630353867647</li><li>0.641711504694493</li><li>0.613149835317685</li><li>0.489680948404259</li><li>0.421069401889683</li><li>0.280458111360406</li><li>0.17370161090888</li><li>0.165286600635248</li><li>0.162999735113622</li><li>0.128761238496656</li><li>0.121987087504822</li><li>0.110293424895465</li><li>0.0734480993168949</li><li>-0.0809171127461646</li><li>-0.0846718465372668</li><li>-0.145985957057256</li><li>-0.218432541467194</li><li>-0.350554456582791</li><li>-0.413400736946606</li><li>-0.544329837373187</li><li>-0.570375086003289</li><li>-0.571475640848429</li><li>-0.577421841105877</li></ol>\n"
      ],
      "text/latex": [
       "\\begin{enumerate*}\n",
       "\\item 0.862630353867647\n",
       "\\item 0.641711504694493\n",
       "\\item 0.613149835317685\n",
       "\\item 0.489680948404259\n",
       "\\item 0.421069401889683\n",
       "\\item 0.280458111360406\n",
       "\\item 0.17370161090888\n",
       "\\item 0.165286600635248\n",
       "\\item 0.162999735113622\n",
       "\\item 0.128761238496656\n",
       "\\item 0.121987087504822\n",
       "\\item 0.110293424895465\n",
       "\\item 0.0734480993168949\n",
       "\\item -0.0809171127461646\n",
       "\\item -0.0846718465372668\n",
       "\\item -0.145985957057256\n",
       "\\item -0.218432541467194\n",
       "\\item -0.350554456582791\n",
       "\\item -0.413400736946606\n",
       "\\item -0.544329837373187\n",
       "\\item -0.570375086003289\n",
       "\\item -0.571475640848429\n",
       "\\item -0.577421841105877\n",
       "\\end{enumerate*}\n"
      ],
      "text/markdown": [
       "1. 0.862630353867647\n",
       "2. 0.641711504694493\n",
       "3. 0.613149835317685\n",
       "4. 0.489680948404259\n",
       "5. 0.421069401889683\n",
       "6. 0.280458111360406\n",
       "7. 0.17370161090888\n",
       "8. 0.165286600635248\n",
       "9. 0.162999735113622\n",
       "10. 0.128761238496656\n",
       "11. 0.121987087504822\n",
       "12. 0.110293424895465\n",
       "13. 0.0734480993168949\n",
       "14. -0.0809171127461646\n",
       "15. -0.0846718465372668\n",
       "16. -0.145985957057256\n",
       "17. -0.218432541467194\n",
       "18. -0.350554456582791\n",
       "19. -0.413400736946606\n",
       "20. -0.544329837373187\n",
       "21. -0.570375086003289\n",
       "22. -0.571475640848429\n",
       "23. -0.577421841105877\n",
       "\n",
       "\n"
      ],
      "text/plain": [
       " [1]  0.86263035  0.64171150  0.61314984  0.48968095  0.42106940  0.28045811\n",
       " [7]  0.17370161  0.16528660  0.16299974  0.12876124  0.12198709  0.11029342\n",
       "[13]  0.07344810 -0.08091711 -0.08467185 -0.14598596 -0.21843254 -0.35055446\n",
       "[19] -0.41340074 -0.54432984 -0.57037509 -0.57147564 -0.57742184"
      ]
     },
     "metadata": {},
     "output_type": "display_data"
    }
   ],
   "source": [
    "korelacje$V1[2:24]"
   ]
  },
  {
   "cell_type": "code",
   "execution_count": 17,
   "id": "fantastic-habitat",
   "metadata": {},
   "outputs": [
    {
     "data": {
      "image/png": "[encoded data removed]",
      "text/plain": [
       "plot without title"
      ]
     },
     "metadata": {
      "image/png": {
       "height": 420,
       "width": 420
      }
     },
     "output_type": "display_data"
    }
   ],
   "source": [
    "barplot(height=korelacje$V1[2:24],\n",
    "        col=\"#69b3a2\",\n",
    "        names.arg=korelacje$nazwy[2:24], \n",
    "        ylim=c(round(min(korelacje$V1[2:24]),1),\n",
    "               round(max(korelacje$V1[2:24]),1)),\n",
    "        las=2,\n",
    "       )"
   ]
  },
  {
   "cell_type": "code",
   "execution_count": 18,
   "id": "188a8249",
   "metadata": {},
   "outputs": [],
   "source": [
    "#write.csv(cale_train,\"D:/STUDIA/ROK_II/Projekt/IE_DANE_DO_KORELACJI.csv\", row.names = FALSE)"
   ]
  },
  {
   "cell_type": "markdown",
   "id": "magnetic-annotation",
   "metadata": {},
   "source": [
    "# 4. Modyfikacje danych"
   ]
  },
  {
   "cell_type": "markdown",
   "id": "novel-unknown",
   "metadata": {},
   "source": [
    "## 4.1 Artefakty"
   ]
  },
  {
   "cell_type": "markdown",
   "id": "c6ab88bf",
   "metadata": {},
   "source": [
    "\n",
    "PI-PLOD 0.618658 \t oraz \t CRj 0.42768 -> \t PI-PLOD | CRj 0.966203\n",
    "\n",
    "WH-DLUG 0.50026 \t oraz \t IP -0.571245 -> \t WH-DLUG | IP 0.573841\n",
    "\n",
    "nr 0.284966 \t oraz \t kg bi -0.550313 -> \t nr | kg bi 0.521457\n",
    "\n",
    "Pw 0.179868 \t oraz \t og -0.074892 -> \t Pw | og 0.341349\n",
    "\n",
    "w 0.169424 \t oraz \t kg ml -0.571576 -> \t w | kg ml 0.325541\n",
    "\n",
    "PI-POKR 0.116957 \t oraz \t sm -0.219586 -> \t PI-POKR | sm 0.29085\n",
    "\n",
    "Pnr 0.121538 \t oraz \t kg tł -0.406225 -> \t Pnr | kg tł 0.288239\n"
   ]
  },
  {
   "cell_type": "code",
   "execution_count": 19,
   "id": "d20fc82e",
   "metadata": {},
   "outputs": [],
   "source": [
    "# Feature Extraction\n",
    "cale_artefakty<-cale_train\n",
    "cale_artefakty$PI_PLOD__CRj<-cale_artefakty$'PI-PLOD'/cale_artefakty$CRj\n",
    "cale_artefakty$WH_DLUG__IP<-cale_artefakty$'WH-DLUG'/cale_artefakty$IP\n",
    "cale_artefakty$nr__kg_bi<-cale_artefakty$nr/cale_artefakty$'kg bi'\n",
    "cale_artefakty$Pw__og<-cale_artefakty$Pw/cale_artefakty$og\n",
    "cale_artefakty$w__kg_ml<-cale_artefakty$w/cale_artefakty$'kg ml'\n",
    "cale_artefakty$PI_POKR__sm<-cale_artefakty$'PI-POKR'/cale_artefakty$sm\n",
    "cale_artefakty$Pnr__kg_tl<-cale_artefakty$Pnr/cale_artefakty$'kg tł'\n",
    "\n",
    "\n",
    "# Usuwam wykorzystane zmienne \n",
    "cale_artefakty$'PI-PLOD'<- NULL\n",
    "cale_artefakty$CRj <-NULL\n",
    "\n",
    "cale_artefakty$'WH-DLUG'<- NULL\n",
    "cale_artefakty$IP <-NULL\n",
    "\n",
    "cale_artefakty$nr<- NULL\n",
    "cale_artefakty$'kg bi' <-NULL\n",
    "\n",
    "cale_artefakty$Pw<- NULL\n",
    "cale_artefakty$og <-NULL\n",
    "\n",
    "cale_artefakty$w<- NULL\n",
    "cale_artefakty$'kg ml' <-NULL\n",
    "\n",
    "cale_artefakty$'PI-POKR'<- NULL\n",
    "cale_artefakty$sm <-NULL\n",
    "\n",
    "cale_artefakty$Pnr<- NULL\n",
    "cale_artefakty$'kg tł' <-NULL\n"
   ]
  },
  {
   "cell_type": "code",
   "execution_count": 20,
   "id": "e7094401",
   "metadata": {},
   "outputs": [
    {
     "name": "stdout",
     "output_type": "stream",
     "text": [
      "'data.frame':\t1875 obs. of  19 variables:\n",
      " $ Województwo   : chr  \"WIELKOPOLSKIE\" \"KUJAWSKO-POMORSKIE\" \"POMORSKIE\" \"KUJAWSKO-POMORSKIE\" ...\n",
      " $ Data urodzenia: chr  \"2020\" \"2018\" \"2020\" \"2020\" ...\n",
      " $ PI-PROD       : int  137 126 126 133 125 135 138 122 129 145 ...\n",
      " $ Prc           : int  121 109 110 104 91 111 109 116 102 121 ...\n",
      " $ Psm           : int  113 113 107 110 95 112 105 110 112 124 ...\n",
      " $ CRk           : int  110 113 117 126 133 119 107 135 113 113 ...\n",
      " $ PP            : int  101 94 94 89 102 80 107 110 105 97 ...\n",
      " $ OMC           : int  105 98 100 100 113 93 107 121 107 101 ...\n",
      " $ WH-KSOM       : int  112 118 126 116 139 121 116 127 119 118 ...\n",
      " $ % tł          : int  2 -16 -4 12 36 13 39 16 24 22 ...\n",
      " $ % bi          : int  1 -4 4 7 15 10 19 24 4 21 ...\n",
      " $ rc            : num  115 115 104 106 102 111 111 110 106 116 ...\n",
      " $ PI_PLOD__CRj  : num  1.02 1 1.01 1.01 1.04 ...\n",
      " $ WH_DLUG__IP   : num  0.079 0.1135 0.1133 0.0864 0.1205 ...\n",
      " $ nr__kg_bi     : num  0.241 0.294 0.291 0.246 0.408 ...\n",
      " $ Pw__og        : num  1.04 1.04 1.06 1.02 1.14 ...\n",
      " $ w__kg_ml      : num  0.0927 0.1017 0.1242 0.1037 0.2384 ...\n",
      " $ PI_POKR__sm   : num  1.11 1.09 1.17 1.05 1.13 ...\n",
      " $ Pnr__kg_tl    : num  0.184 0.288 0.277 0.181 0.202 ...\n"
     ]
    }
   ],
   "source": [
    "str(cale_artefakty)"
   ]
  },
  {
   "cell_type": "code",
   "execution_count": 21,
   "id": "45907614",
   "metadata": {},
   "outputs": [
    {
     "data": {
      "text/html": [
       "0"
      ],
      "text/latex": [
       "0"
      ],
      "text/markdown": [
       "0"
      ],
      "text/plain": [
       "[1] 0"
      ]
     },
     "metadata": {},
     "output_type": "display_data"
    },
    {
     "data": {
      "text/html": [
       "0"
      ],
      "text/latex": [
       "0"
      ],
      "text/markdown": [
       "0"
      ],
      "text/plain": [
       "[1] 0"
      ]
     },
     "metadata": {},
     "output_type": "display_data"
    }
   ],
   "source": [
    "sum(with(cale_artefakty, cale_artefakty == -Inf))\n",
    "sum(with(cale_artefakty, cale_artefakty == Inf))"
   ]
  },
  {
   "cell_type": "markdown",
   "id": "2e9babaa",
   "metadata": {},
   "source": [
    "##  4.2 Dane z korelacją > 0 "
   ]
  },
  {
   "cell_type": "markdown",
   "id": "43b8eb89",
   "metadata": {},
   "source": [
    "Zmienne z korelacja ponizej 0:\n",
    "\n",
    "-0.08091711\trc\n",
    "\n",
    "-0.08467185\tog\n",
    "\n",
    "-0.14598596\tPrc\n",
    "\n",
    "-0.21843254\tsm\n",
    "\n",
    "-0.35055446\tPsm\n",
    "\n",
    "-0.41340074\tkg tł\n",
    "\n",
    "-0.54432984\tkg bi\n",
    "\n",
    "\n",
    "-0.57037509\tkg ml\n",
    "\n",
    "-0.57147564\tIP\n",
    "\n",
    "-0.57742184\tPI-PROD"
   ]
  },
  {
   "cell_type": "code",
   "execution_count": 22,
   "id": "58e96206",
   "metadata": {},
   "outputs": [],
   "source": [
    "cale_kor_pow_0 <- cale_train\n",
    "cale_kor_pow_0$rc <- NULL\n",
    "cale_kor_pow_0$og <- NULL\n",
    "cale_kor_pow_0$Prc <- NULL\n",
    "cale_kor_pow_0$sm <- NULL\n",
    "cale_kor_pow_0$Psm <- NULL\n",
    "cale_kor_pow_0$'kg tł' <- NULL\n",
    "cale_kor_pow_0$'kg bi' <- NULL\n",
    "cale_kor_pow_0$'kg ml' <- NULL\n",
    "cale_kor_pow_0$IP <- NULL\n",
    "cale_kor_pow_0$'PI-PROD' <- NULL"
   ]
  },
  {
   "cell_type": "code",
   "execution_count": 23,
   "id": "07f917bc",
   "metadata": {},
   "outputs": [
    {
     "name": "stdout",
     "output_type": "stream",
     "text": [
      "'data.frame':\t1875 obs. of  16 variables:\n",
      " $ Województwo   : chr  \"WIELKOPOLSKIE\" \"KUJAWSKO-POMORSKIE\" \"POMORSKIE\" \"KUJAWSKO-POMORSKIE\" ...\n",
      " $ Data urodzenia: chr  \"2020\" \"2018\" \"2020\" \"2020\" ...\n",
      " $ PI-POKR       : int  127 123 120 111 115 115 121 120 118 127 ...\n",
      " $ Pnr           : int  106 103 102 99 101 99 108 113 96 110 ...\n",
      " $ Pw            : int  128 128 124 114 124 118 123 116 125 124 ...\n",
      " $ PI-PLOD       : int  109 114 113 114 134 122 99 128 110 106 ...\n",
      " $ CRj           : int  107 114 112 113 129 124 98 120 107 106 ...\n",
      " $ CRk           : int  110 113 117 126 133 119 107 135 113 113 ...\n",
      " $ PP            : int  101 94 94 89 102 80 107 110 105 97 ...\n",
      " $ OMC           : int  105 98 100 100 113 93 107 121 107 101 ...\n",
      " $ WH-KSOM       : int  112 118 126 116 139 121 116 127 119 118 ...\n",
      " $ WH-DLUG       : int  117 121 121 118 130 113 120 123 124 117 ...\n",
      " $ % tł          : int  2 -16 -4 12 36 13 39 16 24 22 ...\n",
      " $ % bi          : int  1 -4 4 7 15 10 19 24 4 21 ...\n",
      " $ nr            : num  109 104 102 101 118 103 114 119 112 114 ...\n",
      " $ w             : num  127 123 122 112 123 117 121 114 125 124 ...\n"
     ]
    }
   ],
   "source": [
    "str(cale_kor_pow_0)"
   ]
  },
  {
   "cell_type": "markdown",
   "id": "14cdeac9",
   "metadata": {},
   "source": [
    "### 4.2.5 PCA"
   ]
  },
  {
   "cell_type": "code",
   "execution_count": 24,
   "id": "98a71dc7",
   "metadata": {},
   "outputs": [],
   "source": [
    "train_do_pca=rbind(train_df, test_df)"
   ]
  },
  {
   "cell_type": "code",
   "execution_count": 25,
   "id": "792c7528",
   "metadata": {
    "scrolled": true
   },
   "outputs": [
    {
     "data": {
      "text/html": [
       "<style>\n",
       ".list-inline {list-style: none; margin:0; padding: 0}\n",
       ".list-inline>li {display: inline-block}\n",
       ".list-inline>li:not(:last-child)::after {content: \"\\00b7\"; padding: 0 .5ex}\n",
       "</style>\n",
       "<ol class=list-inline><li>1692</li><li>26</li></ol>\n"
      ],
      "text/latex": [
       "\\begin{enumerate*}\n",
       "\\item 1692\n",
       "\\item 26\n",
       "\\end{enumerate*}\n"
      ],
      "text/markdown": [
       "1. 1692\n",
       "2. 26\n",
       "\n",
       "\n"
      ],
      "text/plain": [
       "[1] 1692   26"
      ]
     },
     "metadata": {},
     "output_type": "display_data"
    }
   ],
   "source": [
    "dim(train_do_pca)"
   ]
  },
  {
   "cell_type": "code",
   "execution_count": 26,
   "id": "4c010135",
   "metadata": {},
   "outputs": [
    {
     "data": {
      "text/html": [
       "<style>\n",
       ".list-inline {list-style: none; margin:0; padding: 0}\n",
       ".list-inline>li {display: inline-block}\n",
       ".list-inline>li:not(:last-child)::after {content: \"\\00b7\"; padding: 0 .5ex}\n",
       "</style>\n",
       "<ol class=list-inline><li>189</li><li>26</li></ol>\n"
      ],
      "text/latex": [
       "\\begin{enumerate*}\n",
       "\\item 189\n",
       "\\item 26\n",
       "\\end{enumerate*}\n"
      ],
      "text/markdown": [
       "1. 189\n",
       "2. 26\n",
       "\n",
       "\n"
      ],
      "text/plain": [
       "[1] 189  26"
      ]
     },
     "metadata": {},
     "output_type": "display_data"
    }
   ],
   "source": [
    "dim(val_df)"
   ]
  },
  {
   "cell_type": "code",
   "execution_count": 27,
   "id": "f0fa983c",
   "metadata": {},
   "outputs": [],
   "source": [
    "train_do_pca$'Województwo'<- NULL\n",
    "val_df$'Data urodzenia'<- NULL\n",
    "val_df$'Województwo'<- NULL\n",
    "train_do_pca$'Data urodzenia'<- NULL\n"
   ]
  },
  {
   "cell_type": "code",
   "execution_count": 28,
   "id": "f8b6e5d9",
   "metadata": {},
   "outputs": [
    {
     "name": "stdout",
     "output_type": "stream",
     "text": [
      "'data.frame':\t1692 obs. of  24 variables:\n",
      " $ PI-PROD: int  137 126 126 133 125 135 138 122 129 145 ...\n",
      " $ PI-POKR: int  127 123 120 111 115 115 121 120 118 127 ...\n",
      " $ Prc    : int  121 109 110 104 91 111 109 116 102 121 ...\n",
      " $ Psm    : int  113 113 107 110 95 112 105 110 112 124 ...\n",
      " $ Pnr    : int  106 103 102 99 101 99 108 113 96 110 ...\n",
      " $ Pw     : int  128 128 124 114 124 118 123 116 125 124 ...\n",
      " $ PI-PLOD: int  109 114 113 114 134 122 99 128 110 106 ...\n",
      " $ CRj    : int  107 114 112 113 129 124 98 120 107 106 ...\n",
      " $ CRk    : int  110 113 117 126 133 119 107 135 113 113 ...\n",
      " $ PP     : int  101 94 94 89 102 80 107 110 105 97 ...\n",
      " $ OMC    : int  105 98 100 100 113 93 107 121 107 101 ...\n",
      " $ WH-KSOM: int  112 118 126 116 139 121 116 127 119 118 ...\n",
      " $ WH-DLUG: int  117 121 121 118 130 113 120 123 124 117 ...\n",
      " $ IP     : int  1481 1066 1068 1366 1079 1420 1536 910 1236 1780 ...\n",
      " $ kg ml  : int  1370 1209 982 1080 516 1069 847 380 918 1153 ...\n",
      " $ kg tł  : int  577 358 368 546 501 554 672 284 578 668 ...\n",
      " $ % tł   : int  2 -16 -4 12 36 13 39 16 24 22 ...\n",
      " $ kg bi  : int  452 354 350 410 289 433 432 313 329 556 ...\n",
      " $ % bi   : int  1 -4 4 7 15 10 19 24 4 21 ...\n",
      " $ rc     : num  115 115 104 106 102 111 111 110 106 116 ...\n",
      " $ sm     : num  114 113 103 106 102 107 107 107 103 115 ...\n",
      " $ nr     : num  109 104 102 101 118 103 114 119 112 114 ...\n",
      " $ w      : num  127 123 122 112 123 117 121 114 125 124 ...\n",
      " $ og     : num  123 123 117 112 109 118 116 115 119 129 ...\n"
     ]
    }
   ],
   "source": [
    "str(train_do_pca)"
   ]
  },
  {
   "cell_type": "code",
   "execution_count": 29,
   "id": "c7d42453",
   "metadata": {},
   "outputs": [
    {
     "data": {
      "text/html": [
       "<style>\n",
       ".list-inline {list-style: none; margin:0; padding: 0}\n",
       ".list-inline>li {display: inline-block}\n",
       ".list-inline>li:not(:last-child)::after {content: \"\\00b7\"; padding: 0 .5ex}\n",
       "</style>\n",
       "<ol class=list-inline><li>105</li><li>98</li><li>100</li><li>100</li><li>113</li><li>93</li><li>107</li><li>121</li><li>107</li><li>101</li><li>113</li><li>104</li><li>111</li><li>105</li><li>108</li><li>108</li><li>107</li><li>110</li><li>101</li><li>110</li><li>110</li><li>100</li><li>117</li><li>111</li><li>111</li><li>118</li><li>108</li><li>98</li><li>117</li><li>103</li><li>110</li><li>110</li><li>115</li><li>116</li><li>98</li><li>102</li><li>115</li><li>96</li><li>115</li><li>104</li><li>104</li><li>123</li><li>111</li><li>116</li><li>97</li><li>106</li><li>100</li><li>112</li><li>101</li><li>105</li><li>106</li><li>119</li><li>109</li><li>103</li><li>108</li><li>108</li><li>107</li><li>102</li><li>102</li><li>108</li><li>105</li><li>111</li><li>103</li><li>99</li><li>117</li><li>105</li><li>93</li><li>110</li><li>95</li><li>95</li><li>109</li><li>102</li><li>108</li><li>119</li><li>103</li><li>116</li><li>87</li><li>113</li><li>102</li><li>100</li><li>101</li><li>110</li><li>107</li><li>104</li><li>104</li><li>107</li><li>100</li><li>109</li><li>111</li><li>107</li><li>100</li><li>118</li><li>107</li><li>106</li><li>120</li><li>105</li><li>126</li><li>101</li><li>109</li><li>118</li><li>99</li><li>108</li><li>105</li><li>101</li><li>100</li><li>102</li><li>111</li><li>103</li><li>108</li><li>107</li><li>103</li><li>106</li><li>118</li><li>110</li><li>104</li><li>99</li><li>103</li><li>114</li><li>104</li><li>108</li><li>109</li><li>113</li><li>109</li><li>112</li><li>97</li><li>107</li><li>100</li><li>108</li><li>116</li><li>107</li><li>104</li><li>123</li><li>106</li><li>115</li><li>112</li><li>109</li><li>110</li><li>117</li><li>100</li><li>104</li><li>112</li><li>107</li><li>115</li><li>117</li><li>130</li><li>95</li><li>107</li><li>113</li><li>103</li><li>103</li><li>127</li><li>104</li><li>114</li><li>82</li><li>102</li><li>111</li><li>110</li><li>111</li><li>113</li><li>105</li><li>107</li><li>114</li><li>97</li><li>93</li><li>99</li><li>121</li><li>123</li><li>102</li><li>98</li><li>100</li><li>100</li><li>92</li><li>128</li><li>108</li><li>120</li><li>98</li><li>101</li><li>103</li><li>103</li><li>105</li><li>115</li><li>108</li><li>102</li><li>104</li><li>113</li><li>106</li><li>119</li><li>90</li><li>117</li><li>104</li><li>108</li><li>107</li><li>118</li><li>107</li><li>120</li><li>101</li><li>93</li><li>116</li><li>112</li><li>98</li><li>...</li><li>120</li><li>105</li><li>107</li><li>106</li><li>108</li><li>112</li><li>101</li><li>115</li><li>104</li><li>106</li><li>108</li><li>116</li><li>110</li><li>104</li><li>109</li><li>111</li><li>103</li><li>107</li><li>112</li><li>106</li><li>111</li><li>111</li><li>118</li><li>101</li><li>109</li><li>102</li><li>104</li><li>109</li><li>110</li><li>99</li><li>123</li><li>110</li><li>111</li><li>109</li><li>105</li><li>94</li><li>102</li><li>104</li><li>116</li><li>112</li><li>108</li><li>100</li><li>116</li><li>88</li><li>117</li><li>114</li><li>107</li><li>114</li><li>105</li><li>101</li><li>108</li><li>103</li><li>94</li><li>107</li><li>107</li><li>101</li><li>113</li><li>112</li><li>101</li><li>104</li><li>116</li><li>98</li><li>110</li><li>106</li><li>109</li><li>106</li><li>104</li><li>106</li><li>119</li><li>113</li><li>104</li><li>115</li><li>111</li><li>101</li><li>114</li><li>108</li><li>103</li><li>109</li><li>117</li><li>111</li><li>113</li><li>110</li><li>107</li><li>103</li><li>113</li><li>104</li><li>110</li><li>113</li><li>102</li><li>111</li><li>106</li><li>105</li><li>119</li><li>97</li><li>113</li><li>112</li><li>99</li><li>114</li><li>99</li><li>101</li><li>103</li><li>106</li><li>114</li><li>116</li><li>102</li><li>111</li><li>104</li><li>104</li><li>91</li><li>100</li><li>106</li><li>108</li><li>97</li><li>107</li><li>105</li><li>108</li><li>94</li><li>117</li><li>108</li><li>101</li><li>111</li><li>107</li><li>107</li><li>108</li><li>114</li><li>112</li><li>99</li><li>111</li><li>113</li><li>107</li><li>99</li><li>108</li><li>107</li><li>92</li><li>116</li><li>122</li><li>107</li><li>101</li><li>107</li><li>106</li><li>114</li><li>110</li><li>92</li><li>117</li><li>105</li><li>120</li><li>107</li><li>102</li><li>110</li><li>106</li><li>113</li><li>102</li><li>105</li><li>120</li><li>114</li><li>108</li><li>99</li><li>107</li><li>103</li><li>97</li><li>122</li><li>112</li><li>116</li><li>113</li><li>105</li><li>126</li><li>107</li><li>103</li><li>110</li><li>111</li><li>108</li><li>114</li><li>96</li><li>99</li><li>111</li><li>120</li><li>102</li><li>103</li><li>93</li><li>115</li><li>110</li><li>108</li><li>110</li><li>97</li><li>107</li><li>97</li><li>106</li><li>106</li><li>101</li><li>112</li><li>111</li><li>108</li><li>108</li><li>113</li><li>111</li><li>102</li><li>111</li><li>106</li><li>111</li><li>99</li></ol>\n"
      ],
      "text/latex": [
       "\\begin{enumerate*}\n",
       "\\item 105\n",
       "\\item 98\n",
       "\\item 100\n",
       "\\item 100\n",
       "\\item 113\n",
       "\\item 93\n",
       "\\item 107\n",
       "\\item 121\n",
       "\\item 107\n",
       "\\item 101\n",
       "\\item 113\n",
       "\\item 104\n",
       "\\item 111\n",
       "\\item 105\n",
       "\\item 108\n",
       "\\item 108\n",
       "\\item 107\n",
       "\\item 110\n",
       "\\item 101\n",
       "\\item 110\n",
       "\\item 110\n",
       "\\item 100\n",
       "\\item 117\n",
       "\\item 111\n",
       "\\item 111\n",
       "\\item 118\n",
       "\\item 108\n",
       "\\item 98\n",
       "\\item 117\n",
       "\\item 103\n",
       "\\item 110\n",
       "\\item 110\n",
       "\\item 115\n",
       "\\item 116\n",
       "\\item 98\n",
       "\\item 102\n",
       "\\item 115\n",
       "\\item 96\n",
       "\\item 115\n",
       "\\item 104\n",
       "\\item 104\n",
       "\\item 123\n",
       "\\item 111\n",
       "\\item 116\n",
       "\\item 97\n",
       "\\item 106\n",
       "\\item 100\n",
       "\\item 112\n",
       "\\item 101\n",
       "\\item 105\n",
       "\\item 106\n",
       "\\item 119\n",
       "\\item 109\n",
       "\\item 103\n",
       "\\item 108\n",
       "\\item 108\n",
       "\\item 107\n",
       "\\item 102\n",
       "\\item 102\n",
       "\\item 108\n",
       "\\item 105\n",
       "\\item 111\n",
       "\\item 103\n",
       "\\item 99\n",
       "\\item 117\n",
       "\\item 105\n",
       "\\item 93\n",
       "\\item 110\n",
       "\\item 95\n",
       "\\item 95\n",
       "\\item 109\n",
       "\\item 102\n",
       "\\item 108\n",
       "\\item 119\n",
       "\\item 103\n",
       "\\item 116\n",
       "\\item 87\n",
       "\\item 113\n",
       "\\item 102\n",
       "\\item 100\n",
       "\\item 101\n",
       "\\item 110\n",
       "\\item 107\n",
       "\\item 104\n",
       "\\item 104\n",
       "\\item 107\n",
       "\\item 100\n",
       "\\item 109\n",
       "\\item 111\n",
       "\\item 107\n",
       "\\item 100\n",
       "\\item 118\n",
       "\\item 107\n",
       "\\item 106\n",
       "\\item 120\n",
       "\\item 105\n",
       "\\item 126\n",
       "\\item 101\n",
       "\\item 109\n",
       "\\item 118\n",
       "\\item 99\n",
       "\\item 108\n",
       "\\item 105\n",
       "\\item 101\n",
       "\\item 100\n",
       "\\item 102\n",
       "\\item 111\n",
       "\\item 103\n",
       "\\item 108\n",
       "\\item 107\n",
       "\\item 103\n",
       "\\item 106\n",
       "\\item 118\n",
       "\\item 110\n",
       "\\item 104\n",
       "\\item 99\n",
       "\\item 103\n",
       "\\item 114\n",
       "\\item 104\n",
       "\\item 108\n",
       "\\item 109\n",
       "\\item 113\n",
       "\\item 109\n",
       "\\item 112\n",
       "\\item 97\n",
       "\\item 107\n",
       "\\item 100\n",
       "\\item 108\n",
       "\\item 116\n",
       "\\item 107\n",
       "\\item 104\n",
       "\\item 123\n",
       "\\item 106\n",
       "\\item 115\n",
       "\\item 112\n",
       "\\item 109\n",
       "\\item 110\n",
       "\\item 117\n",
       "\\item 100\n",
       "\\item 104\n",
       "\\item 112\n",
       "\\item 107\n",
       "\\item 115\n",
       "\\item 117\n",
       "\\item 130\n",
       "\\item 95\n",
       "\\item 107\n",
       "\\item 113\n",
       "\\item 103\n",
       "\\item 103\n",
       "\\item 127\n",
       "\\item 104\n",
       "\\item 114\n",
       "\\item 82\n",
       "\\item 102\n",
       "\\item 111\n",
       "\\item 110\n",
       "\\item 111\n",
       "\\item 113\n",
       "\\item 105\n",
       "\\item 107\n",
       "\\item 114\n",
       "\\item 97\n",
       "\\item 93\n",
       "\\item 99\n",
       "\\item 121\n",
       "\\item 123\n",
       "\\item 102\n",
       "\\item 98\n",
       "\\item 100\n",
       "\\item 100\n",
       "\\item 92\n",
       "\\item 128\n",
       "\\item 108\n",
       "\\item 120\n",
       "\\item 98\n",
       "\\item 101\n",
       "\\item 103\n",
       "\\item 103\n",
       "\\item 105\n",
       "\\item 115\n",
       "\\item 108\n",
       "\\item 102\n",
       "\\item 104\n",
       "\\item 113\n",
       "\\item 106\n",
       "\\item 119\n",
       "\\item 90\n",
       "\\item 117\n",
       "\\item 104\n",
       "\\item 108\n",
       "\\item 107\n",
       "\\item 118\n",
       "\\item 107\n",
       "\\item 120\n",
       "\\item 101\n",
       "\\item 93\n",
       "\\item 116\n",
       "\\item 112\n",
       "\\item 98\n",
       "\\item ...\n",
       "\\item 120\n",
       "\\item 105\n",
       "\\item 107\n",
       "\\item 106\n",
       "\\item 108\n",
       "\\item 112\n",
       "\\item 101\n",
       "\\item 115\n",
       "\\item 104\n",
       "\\item 106\n",
       "\\item 108\n",
       "\\item 116\n",
       "\\item 110\n",
       "\\item 104\n",
       "\\item 109\n",
       "\\item 111\n",
       "\\item 103\n",
       "\\item 107\n",
       "\\item 112\n",
       "\\item 106\n",
       "\\item 111\n",
       "\\item 111\n",
       "\\item 118\n",
       "\\item 101\n",
       "\\item 109\n",
       "\\item 102\n",
       "\\item 104\n",
       "\\item 109\n",
       "\\item 110\n",
       "\\item 99\n",
       "\\item 123\n",
       "\\item 110\n",
       "\\item 111\n",
       "\\item 109\n",
       "\\item 105\n",
       "\\item 94\n",
       "\\item 102\n",
       "\\item 104\n",
       "\\item 116\n",
       "\\item 112\n",
       "\\item 108\n",
       "\\item 100\n",
       "\\item 116\n",
       "\\item 88\n",
       "\\item 117\n",
       "\\item 114\n",
       "\\item 107\n",
       "\\item 114\n",
       "\\item 105\n",
       "\\item 101\n",
       "\\item 108\n",
       "\\item 103\n",
       "\\item 94\n",
       "\\item 107\n",
       "\\item 107\n",
       "\\item 101\n",
       "\\item 113\n",
       "\\item 112\n",
       "\\item 101\n",
       "\\item 104\n",
       "\\item 116\n",
       "\\item 98\n",
       "\\item 110\n",
       "\\item 106\n",
       "\\item 109\n",
       "\\item 106\n",
       "\\item 104\n",
       "\\item 106\n",
       "\\item 119\n",
       "\\item 113\n",
       "\\item 104\n",
       "\\item 115\n",
       "\\item 111\n",
       "\\item 101\n",
       "\\item 114\n",
       "\\item 108\n",
       "\\item 103\n",
       "\\item 109\n",
       "\\item 117\n",
       "\\item 111\n",
       "\\item 113\n",
       "\\item 110\n",
       "\\item 107\n",
       "\\item 103\n",
       "\\item 113\n",
       "\\item 104\n",
       "\\item 110\n",
       "\\item 113\n",
       "\\item 102\n",
       "\\item 111\n",
       "\\item 106\n",
       "\\item 105\n",
       "\\item 119\n",
       "\\item 97\n",
       "\\item 113\n",
       "\\item 112\n",
       "\\item 99\n",
       "\\item 114\n",
       "\\item 99\n",
       "\\item 101\n",
       "\\item 103\n",
       "\\item 106\n",
       "\\item 114\n",
       "\\item 116\n",
       "\\item 102\n",
       "\\item 111\n",
       "\\item 104\n",
       "\\item 104\n",
       "\\item 91\n",
       "\\item 100\n",
       "\\item 106\n",
       "\\item 108\n",
       "\\item 97\n",
       "\\item 107\n",
       "\\item 105\n",
       "\\item 108\n",
       "\\item 94\n",
       "\\item 117\n",
       "\\item 108\n",
       "\\item 101\n",
       "\\item 111\n",
       "\\item 107\n",
       "\\item 107\n",
       "\\item 108\n",
       "\\item 114\n",
       "\\item 112\n",
       "\\item 99\n",
       "\\item 111\n",
       "\\item 113\n",
       "\\item 107\n",
       "\\item 99\n",
       "\\item 108\n",
       "\\item 107\n",
       "\\item 92\n",
       "\\item 116\n",
       "\\item 122\n",
       "\\item 107\n",
       "\\item 101\n",
       "\\item 107\n",
       "\\item 106\n",
       "\\item 114\n",
       "\\item 110\n",
       "\\item 92\n",
       "\\item 117\n",
       "\\item 105\n",
       "\\item 120\n",
       "\\item 107\n",
       "\\item 102\n",
       "\\item 110\n",
       "\\item 106\n",
       "\\item 113\n",
       "\\item 102\n",
       "\\item 105\n",
       "\\item 120\n",
       "\\item 114\n",
       "\\item 108\n",
       "\\item 99\n",
       "\\item 107\n",
       "\\item 103\n",
       "\\item 97\n",
       "\\item 122\n",
       "\\item 112\n",
       "\\item 116\n",
       "\\item 113\n",
       "\\item 105\n",
       "\\item 126\n",
       "\\item 107\n",
       "\\item 103\n",
       "\\item 110\n",
       "\\item 111\n",
       "\\item 108\n",
       "\\item 114\n",
       "\\item 96\n",
       "\\item 99\n",
       "\\item 111\n",
       "\\item 120\n",
       "\\item 102\n",
       "\\item 103\n",
       "\\item 93\n",
       "\\item 115\n",
       "\\item 110\n",
       "\\item 108\n",
       "\\item 110\n",
       "\\item 97\n",
       "\\item 107\n",
       "\\item 97\n",
       "\\item 106\n",
       "\\item 106\n",
       "\\item 101\n",
       "\\item 112\n",
       "\\item 111\n",
       "\\item 108\n",
       "\\item 108\n",
       "\\item 113\n",
       "\\item 111\n",
       "\\item 102\n",
       "\\item 111\n",
       "\\item 106\n",
       "\\item 111\n",
       "\\item 99\n",
       "\\end{enumerate*}\n"
      ],
      "text/markdown": [
       "1. 105\n",
       "2. 98\n",
       "3. 100\n",
       "4. 100\n",
       "5. 113\n",
       "6. 93\n",
       "7. 107\n",
       "8. 121\n",
       "9. 107\n",
       "10. 101\n",
       "11. 113\n",
       "12. 104\n",
       "13. 111\n",
       "14. 105\n",
       "15. 108\n",
       "16. 108\n",
       "17. 107\n",
       "18. 110\n",
       "19. 101\n",
       "20. 110\n",
       "21. 110\n",
       "22. 100\n",
       "23. 117\n",
       "24. 111\n",
       "25. 111\n",
       "26. 118\n",
       "27. 108\n",
       "28. 98\n",
       "29. 117\n",
       "30. 103\n",
       "31. 110\n",
       "32. 110\n",
       "33. 115\n",
       "34. 116\n",
       "35. 98\n",
       "36. 102\n",
       "37. 115\n",
       "38. 96\n",
       "39. 115\n",
       "40. 104\n",
       "41. 104\n",
       "42. 123\n",
       "43. 111\n",
       "44. 116\n",
       "45. 97\n",
       "46. 106\n",
       "47. 100\n",
       "48. 112\n",
       "49. 101\n",
       "50. 105\n",
       "51. 106\n",
       "52. 119\n",
       "53. 109\n",
       "54. 103\n",
       "55. 108\n",
       "56. 108\n",
       "57. 107\n",
       "58. 102\n",
       "59. 102\n",
       "60. 108\n",
       "61. 105\n",
       "62. 111\n",
       "63. 103\n",
       "64. 99\n",
       "65. 117\n",
       "66. 105\n",
       "67. 93\n",
       "68. 110\n",
       "69. 95\n",
       "70. 95\n",
       "71. 109\n",
       "72. 102\n",
       "73. 108\n",
       "74. 119\n",
       "75. 103\n",
       "76. 116\n",
       "77. 87\n",
       "78. 113\n",
       "79. 102\n",
       "80. 100\n",
       "81. 101\n",
       "82. 110\n",
       "83. 107\n",
       "84. 104\n",
       "85. 104\n",
       "86. 107\n",
       "87. 100\n",
       "88. 109\n",
       "89. 111\n",
       "90. 107\n",
       "91. 100\n",
       "92. 118\n",
       "93. 107\n",
       "94. 106\n",
       "95. 120\n",
       "96. 105\n",
       "97. 126\n",
       "98. 101\n",
       "99. 109\n",
       "100. 118\n",
       "101. 99\n",
       "102. 108\n",
       "103. 105\n",
       "104. 101\n",
       "105. 100\n",
       "106. 102\n",
       "107. 111\n",
       "108. 103\n",
       "109. 108\n",
       "110. 107\n",
       "111. 103\n",
       "112. 106\n",
       "113. 118\n",
       "114. 110\n",
       "115. 104\n",
       "116. 99\n",
       "117. 103\n",
       "118. 114\n",
       "119. 104\n",
       "120. 108\n",
       "121. 109\n",
       "122. 113\n",
       "123. 109\n",
       "124. 112\n",
       "125. 97\n",
       "126. 107\n",
       "127. 100\n",
       "128. 108\n",
       "129. 116\n",
       "130. 107\n",
       "131. 104\n",
       "132. 123\n",
       "133. 106\n",
       "134. 115\n",
       "135. 112\n",
       "136. 109\n",
       "137. 110\n",
       "138. 117\n",
       "139. 100\n",
       "140. 104\n",
       "141. 112\n",
       "142. 107\n",
       "143. 115\n",
       "144. 117\n",
       "145. 130\n",
       "146. 95\n",
       "147. 107\n",
       "148. 113\n",
       "149. 103\n",
       "150. 103\n",
       "151. 127\n",
       "152. 104\n",
       "153. 114\n",
       "154. 82\n",
       "155. 102\n",
       "156. 111\n",
       "157. 110\n",
       "158. 111\n",
       "159. 113\n",
       "160. 105\n",
       "161. 107\n",
       "162. 114\n",
       "163. 97\n",
       "164. 93\n",
       "165. 99\n",
       "166. 121\n",
       "167. 123\n",
       "168. 102\n",
       "169. 98\n",
       "170. 100\n",
       "171. 100\n",
       "172. 92\n",
       "173. 128\n",
       "174. 108\n",
       "175. 120\n",
       "176. 98\n",
       "177. 101\n",
       "178. 103\n",
       "179. 103\n",
       "180. 105\n",
       "181. 115\n",
       "182. 108\n",
       "183. 102\n",
       "184. 104\n",
       "185. 113\n",
       "186. 106\n",
       "187. 119\n",
       "188. 90\n",
       "189. 117\n",
       "190. 104\n",
       "191. 108\n",
       "192. 107\n",
       "193. 118\n",
       "194. 107\n",
       "195. 120\n",
       "196. 101\n",
       "197. 93\n",
       "198. 116\n",
       "199. 112\n",
       "200. 98\n",
       "201. ...\n",
       "202. 120\n",
       "203. 105\n",
       "204. 107\n",
       "205. 106\n",
       "206. 108\n",
       "207. 112\n",
       "208. 101\n",
       "209. 115\n",
       "210. 104\n",
       "211. 106\n",
       "212. 108\n",
       "213. 116\n",
       "214. 110\n",
       "215. 104\n",
       "216. 109\n",
       "217. 111\n",
       "218. 103\n",
       "219. 107\n",
       "220. 112\n",
       "221. 106\n",
       "222. 111\n",
       "223. 111\n",
       "224. 118\n",
       "225. 101\n",
       "226. 109\n",
       "227. 102\n",
       "228. 104\n",
       "229. 109\n",
       "230. 110\n",
       "231. 99\n",
       "232. 123\n",
       "233. 110\n",
       "234. 111\n",
       "235. 109\n",
       "236. 105\n",
       "237. 94\n",
       "238. 102\n",
       "239. 104\n",
       "240. 116\n",
       "241. 112\n",
       "242. 108\n",
       "243. 100\n",
       "244. 116\n",
       "245. 88\n",
       "246. 117\n",
       "247. 114\n",
       "248. 107\n",
       "249. 114\n",
       "250. 105\n",
       "251. 101\n",
       "252. 108\n",
       "253. 103\n",
       "254. 94\n",
       "255. 107\n",
       "256. 107\n",
       "257. 101\n",
       "258. 113\n",
       "259. 112\n",
       "260. 101\n",
       "261. 104\n",
       "262. 116\n",
       "263. 98\n",
       "264. 110\n",
       "265. 106\n",
       "266. 109\n",
       "267. 106\n",
       "268. 104\n",
       "269. 106\n",
       "270. 119\n",
       "271. 113\n",
       "272. 104\n",
       "273. 115\n",
       "274. 111\n",
       "275. 101\n",
       "276. 114\n",
       "277. 108\n",
       "278. 103\n",
       "279. 109\n",
       "280. 117\n",
       "281. 111\n",
       "282. 113\n",
       "283. 110\n",
       "284. 107\n",
       "285. 103\n",
       "286. 113\n",
       "287. 104\n",
       "288. 110\n",
       "289. 113\n",
       "290. 102\n",
       "291. 111\n",
       "292. 106\n",
       "293. 105\n",
       "294. 119\n",
       "295. 97\n",
       "296. 113\n",
       "297. 112\n",
       "298. 99\n",
       "299. 114\n",
       "300. 99\n",
       "301. 101\n",
       "302. 103\n",
       "303. 106\n",
       "304. 114\n",
       "305. 116\n",
       "306. 102\n",
       "307. 111\n",
       "308. 104\n",
       "309. 104\n",
       "310. 91\n",
       "311. 100\n",
       "312. 106\n",
       "313. 108\n",
       "314. 97\n",
       "315. 107\n",
       "316. 105\n",
       "317. 108\n",
       "318. 94\n",
       "319. 117\n",
       "320. 108\n",
       "321. 101\n",
       "322. 111\n",
       "323. 107\n",
       "324. 107\n",
       "325. 108\n",
       "326. 114\n",
       "327. 112\n",
       "328. 99\n",
       "329. 111\n",
       "330. 113\n",
       "331. 107\n",
       "332. 99\n",
       "333. 108\n",
       "334. 107\n",
       "335. 92\n",
       "336. 116\n",
       "337. 122\n",
       "338. 107\n",
       "339. 101\n",
       "340. 107\n",
       "341. 106\n",
       "342. 114\n",
       "343. 110\n",
       "344. 92\n",
       "345. 117\n",
       "346. 105\n",
       "347. 120\n",
       "348. 107\n",
       "349. 102\n",
       "350. 110\n",
       "351. 106\n",
       "352. 113\n",
       "353. 102\n",
       "354. 105\n",
       "355. 120\n",
       "356. 114\n",
       "357. 108\n",
       "358. 99\n",
       "359. 107\n",
       "360. 103\n",
       "361. 97\n",
       "362. 122\n",
       "363. 112\n",
       "364. 116\n",
       "365. 113\n",
       "366. 105\n",
       "367. 126\n",
       "368. 107\n",
       "369. 103\n",
       "370. 110\n",
       "371. 111\n",
       "372. 108\n",
       "373. 114\n",
       "374. 96\n",
       "375. 99\n",
       "376. 111\n",
       "377. 120\n",
       "378. 102\n",
       "379. 103\n",
       "380. 93\n",
       "381. 115\n",
       "382. 110\n",
       "383. 108\n",
       "384. 110\n",
       "385. 97\n",
       "386. 107\n",
       "387. 97\n",
       "388. 106\n",
       "389. 106\n",
       "390. 101\n",
       "391. 112\n",
       "392. 111\n",
       "393. 108\n",
       "394. 108\n",
       "395. 113\n",
       "396. 111\n",
       "397. 102\n",
       "398. 111\n",
       "399. 106\n",
       "400. 111\n",
       "401. 99\n",
       "\n",
       "\n"
      ],
      "text/plain": [
       "   [1] 105  98 100 100 113  93 107 121 107 101 113 104 111 105 108 108 107 110\n",
       "  [19] 101 110 110 100 117 111 111 118 108  98 117 103 110 110 115 116  98 102\n",
       "  [37] 115  96 115 104 104 123 111 116  97 106 100 112 101 105 106 119 109 103\n",
       "  [55] 108 108 107 102 102 108 105 111 103  99 117 105  93 110  95  95 109 102\n",
       "  [73] 108 119 103 116  87 113 102 100 101 110 107 104 104 107 100 109 111 107\n",
       "  [91] 100 118 107 106 120 105 126 101 109 118  99 108 105 101 100 102 111 103\n",
       " [109] 108 107 103 106 118 110 104  99 103 114 104 108 109 113 109 112  97 107\n",
       " [127] 100 108 116 107 104 123 106 115 112 109 110 117 100 104 112 107 115 117\n",
       " [145] 130  95 107 113 103 103 127 104 114  82 102 111 110 111 113 105 107 114\n",
       " [163]  97  93  99 121 123 102  98 100 100  92 128 108 120  98 101 103 103 105\n",
       " [181] 115 108 102 104 113 106 119  90 117 104 108 107 118 107 120 101  93 116\n",
       " [199] 112  98  87 117 106 100 109  96 115 105 115 113 102 126 110 119 104  98\n",
       " [217] 114 111 110 118 114 107 112 120 106 102 111 110 115 104 111 110 112 105\n",
       " [235] 110 100 102 106 104 104 109 109 125 122 103 120 112 114 107 112 102 106\n",
       " [253] 110 109  96  97 109 119 117 112 107 103 117 100  96 109 115 107 100 105\n",
       " [271] 101  92 107 104  95 107 106 103 102 108 111 107 100 110 109  87 118 107\n",
       " [289] 102  98  99 114 113 110 112 106 105 110 125 121  95 110 111  99  96 103\n",
       " [307] 120 106 127 108 104 111 111 106 100 103 104 112 110 115 115 106  97 114\n",
       " [325]  93 108 111 118 109 111 116 106 101 103 108  99 111 107 115 108 112  94\n",
       " [343] 121 102 109  89 104 112 107 107 121 104 115 104 108 106 106 107 105 118\n",
       " [361] 110 100 110 122 110 103 117 106 106 107  99 119 114 107  91 101 111 108\n",
       " [379] 111  97 101 103 117 121 112 110 118 115 110 107 109 108  87 113 107 106\n",
       " [397] 103 101 103  98 116 106 104 116 112 112  88 110 108 108 103 109 118 110\n",
       " [415] 111 118  87  99 110 110 109 107 110 106 120 105 123 103  96  96  93 112\n",
       " [433]  92 102 115 124 115 115 111 103 108 111 115 116 122 102 116 109 116 116\n",
       " [451] 103 117  90 105  99 110 107 109 107 110 115 113 116  98  92 106 110 105\n",
       " [469] 105 101 105 112 105 111  91 100 120 114 117 120 104  99 108 103 103 120\n",
       " [487] 121 108 102 106 112 112 107 107  92 108  97 107 103 102 112 110 115 108\n",
       " [505] 109  98 113 103 113 112 102 118 108 105  96 118 109 112 107  97 101 107\n",
       " [523] 111 106 114 107 111  99 106 108 103 103 108 109 110 108 105 104 106 112\n",
       " [541] 114  97 109 110 100  96 103 106 113 115 123 120 114 103 113 110 102 104\n",
       " [559] 125 109 108 102 113 108 117 111 110 100 114 118 111 116 112 104 111 111\n",
       " [577] 105 104 112 107  92 116 113 106 104 104 109 107 100 108  96 101 108  99\n",
       " [595] 115  99 107  99 117 108 104 109 105 114 104 116 109 107 116 106 117  98\n",
       " [613]  99 103 108 101 105 107 100 125 117 107 115 110 106 122 102  96  99 119\n",
       " [631] 108 116 114 107 110 114 119 105 113 115 106 116 109 118  99 120 100 111\n",
       " [649] 107 114 104 113 103 113  98 115 116 115  93 111 114 111 107 100 106 113\n",
       " [667] 111 100 109  99 101 106 113 109 113  97 104 111 114 106 101 105 114 107\n",
       " [685] 108 118 106 114 100  97 116 102 116 118 104 101 106 100 120  99  91 109\n",
       " [703] 109 107 120 104 105 114 103 107 103 102 104  99 108 124 105 107 115 108\n",
       " [721] 110 101  99  97  93 100  92  90 111 111 115 104 102  95 115 110  97 110\n",
       " [739] 105 107 118 108 106  97 106 104 111 121 108 102  95 113 106 103 105 108\n",
       " [757] 122 107  97  99 100 110 107  98 122 116 114 109 111 121  92 111 108 102\n",
       " [775] 105 115 102 100  94 104 121 103 104 107 111 107 102 108 102 109 107 110\n",
       " [793] 107  95 103 119 106 100 120 114 114 108  96 105  96 100  91 105  98 102\n",
       " [811] 113 112 118 102  94 109 108 105 102 114 112 110 110 110 109 101 114 109\n",
       " [829] 115 111 118 113 103 105 110  96 100 113 100 110 119  99 115 118 101 104\n",
       " [847] 102 118 116 120 108 100 119 110 110 100 105 107 103 109 108 105 113 108\n",
       " [865] 102 121 110  99 110 106 119 106 123 108 122  91 117 119 109  97 116 118\n",
       " [883] 101 110 109 102 110 116 100 100 109 112 103 112 101 100  90 112  97  98\n",
       " [901] 103 104 106 111 101 113 105 107 114 114 110 101 101 123 112 123 114 107\n",
       " [919] 114  96 104 118 103  91  89 108 106 110  98 103 103 109 103 110 107 100\n",
       " [937] 116 113 115  97 117 114 106 115 105 108 122 103 103 106 125 103 100 106\n",
       " [955] 104  97 107 114 111  82 120 118 105 109 113 100 106 105 113 103 113  98\n",
       " [973] 126 121 105  99 112 109  99 115 111  98 120 118 107 117 104 100 107 106\n",
       " [991] 110 103 107 100 111 109  99 117 114 122 117 109 116 112 118 115 115 100\n",
       "[1009]  96 113 114 104 102 114 123 111 109 106 115 107  91 104 105 111 116 108\n",
       "[1027] 101  89 100 117 121 109 117 107 101 105 110 107  95  93 109 120 106 110\n",
       "[1045] 108 103 100 105 115 112 111 109 121 107 116 106 120 109 112 107 104 108\n",
       "[1063]  97  91 124 104 107 109 104 116 115 113 111 107 107 106 109 100 122 100\n",
       "[1081] 114 121 107 101 118  90 111 105 108 101 114 110 112 104 107 123 110 120\n",
       "[1099] 117 101 109 105 112  97 107 116 111 112 104  92 109 108 101  98 103 126\n",
       "[1117] 115 100 116  97  94 110 109 111 108 103 102 101 107  98 126 111 101 115\n",
       "[1135] 111 117 106  98 102 107 101 102 100 103 114 106 105  94 100  98 113 118\n",
       "[1153] 116 112 110 108 111 110 104 119 119  96 116 102 107 112 105 112 125 111\n",
       "[1171] 118 106 106  98 118 106 113 108 108 106  91 114 112 102 103  93 104 126\n",
       "[1189] 109 112 111  99 120 110 105 102 116 121 111 110 110 104 107 102 100 101\n",
       "[1207] 117 104 106  97 108 109 102 113 102 113 109 108 107  90 111 108  98 107\n",
       "[1225] 111 111 109  88 110 108 115 100 111 113 106 104 105 104 105 110 101  97\n",
       "[1243] 112 119 111 109 113 118 102 103 102 110 115 106 116 103 110  93 107 100\n",
       "[1261] 112 112 107 110 105  91 111 117 123 112 106 113 120 110  91 107 100 110\n",
       "[1279] 103  95 119 101  95  97 122 115 105 107 107  99 104 103 109 116 114 108\n",
       "[1297] 112 112 108 104 106 106  98 107 101  98 114 109 111 106 109 108  86 104\n",
       "[1315] 106 101 102 113 105 105 112 105 102 111 103 103 113 104 103 104 113 121\n",
       "[1333] 113 115  98  98 106 103 119 104 100 108 111 123 126 107 115 110 109  94\n",
       "[1351] 112 101 100 111 116 112 105 106 114 113 105 111 107 104 132 100 120 101\n",
       "[1369] 106 103  97 120 109 104 122 111 104  96 111 104 123  88 123 105 107 103\n",
       "[1387] 123 112 115 106 113 105 103  99 104 106 112 113 110 114 114 111 114  99\n",
       "[1405] 118 113 100 116 106 112 115 107 113 111 106 112 100 100 105 102  93 109\n",
       "[1423] 113  99  99 106 106  97 110 107 107  97 116 125 100 106 112 117 102 112\n",
       "[1441] 121 114 115  98 100 105 102 109  96 108 116 106 104 111 105  89 106 104\n",
       "[1459] 102 110 107 105 114 115 111 102 124 102 100 100 113 111 112 118 124 109\n",
       "[1477] 109 104 101 106 109 106 119 108 110 114 107 108  99 108 103 103 120 105\n",
       "[1495] 107 106 108 112 101 115 104 106 108 116 110 104 109 111 103 107 112 106\n",
       "[1513] 111 111 118 101 109 102 104 109 110  99 123 110 111 109 105  94 102 104\n",
       "[1531] 116 112 108 100 116  88 117 114 107 114 105 101 108 103  94 107 107 101\n",
       "[1549] 113 112 101 104 116  98 110 106 109 106 104 106 119 113 104 115 111 101\n",
       "[1567] 114 108 103 109 117 111 113 110 107 103 113 104 110 113 102 111 106 105\n",
       "[1585] 119  97 113 112  99 114  99 101 103 106 114 116 102 111 104 104  91 100\n",
       "[1603] 106 108  97 107 105 108  94 117 108 101 111 107 107 108 114 112  99 111\n",
       "[1621] 113 107  99 108 107  92 116 122 107 101 107 106 114 110  92 117 105 120\n",
       "[1639] 107 102 110 106 113 102 105 120 114 108  99 107 103  97 122 112 116 113\n",
       "[1657] 105 126 107 103 110 111 108 114  96  99 111 120 102 103  93 115 110 108\n",
       "[1675] 110  97 107  97 106 106 101 112 111 108 108 113 111 102 111 106 111  99"
      ]
     },
     "metadata": {},
     "output_type": "display_data"
    }
   ],
   "source": [
    "train_do_pca[,11]"
   ]
  },
  {
   "cell_type": "code",
   "execution_count": 30,
   "id": "c19cb9a8",
   "metadata": {
    "scrolled": true
   },
   "outputs": [
    {
     "data": {
      "text/html": [
       "<table class=\"dataframe\">\n",
       "<caption>A data.frame: 1692 × 24</caption>\n",
       "<thead>\n",
       "\t<tr><th scope=col>PI-PROD</th><th scope=col>PI-POKR</th><th scope=col>Prc</th><th scope=col>Psm</th><th scope=col>Pnr</th><th scope=col>Pw</th><th scope=col>PI-PLOD</th><th scope=col>CRj</th><th scope=col>CRk</th><th scope=col>PP</th><th scope=col>...</th><th scope=col>kg ml</th><th scope=col>kg tł</th><th scope=col>% tł</th><th scope=col>kg bi</th><th scope=col>% bi</th><th scope=col>rc</th><th scope=col>sm</th><th scope=col>nr</th><th scope=col>w</th><th scope=col>og</th></tr>\n",
       "\t<tr><th scope=col>&lt;int&gt;</th><th scope=col>&lt;int&gt;</th><th scope=col>&lt;int&gt;</th><th scope=col>&lt;int&gt;</th><th scope=col>&lt;int&gt;</th><th scope=col>&lt;int&gt;</th><th scope=col>&lt;int&gt;</th><th scope=col>&lt;int&gt;</th><th scope=col>&lt;int&gt;</th><th scope=col>&lt;int&gt;</th><th scope=col>...</th><th scope=col>&lt;int&gt;</th><th scope=col>&lt;int&gt;</th><th scope=col>&lt;int&gt;</th><th scope=col>&lt;int&gt;</th><th scope=col>&lt;int&gt;</th><th scope=col>&lt;dbl&gt;</th><th scope=col>&lt;dbl&gt;</th><th scope=col>&lt;dbl&gt;</th><th scope=col>&lt;dbl&gt;</th><th scope=col>&lt;dbl&gt;</th></tr>\n",
       "</thead>\n",
       "<tbody>\n",
       "\t<tr><td>137</td><td>127</td><td>121</td><td>113</td><td>106</td><td>128</td><td>109</td><td>107</td><td>110</td><td>101</td><td>...</td><td>1370</td><td>577</td><td>  2</td><td>452</td><td> 1</td><td>115</td><td>114</td><td>109</td><td>127</td><td>123</td></tr>\n",
       "\t<tr><td>126</td><td>123</td><td>109</td><td>113</td><td>103</td><td>128</td><td>114</td><td>114</td><td>113</td><td> 94</td><td>...</td><td>1209</td><td>358</td><td>-16</td><td>354</td><td>-4</td><td>115</td><td>113</td><td>104</td><td>123</td><td>123</td></tr>\n",
       "\t<tr><td>126</td><td>120</td><td>110</td><td>107</td><td>102</td><td>124</td><td>113</td><td>112</td><td>117</td><td> 94</td><td>...</td><td> 982</td><td>368</td><td> -4</td><td>350</td><td> 4</td><td>104</td><td>103</td><td>102</td><td>122</td><td>117</td></tr>\n",
       "\t<tr><td>133</td><td>111</td><td>104</td><td>110</td><td> 99</td><td>114</td><td>114</td><td>113</td><td>126</td><td> 89</td><td>...</td><td>1080</td><td>546</td><td> 12</td><td>410</td><td> 7</td><td>106</td><td>106</td><td>101</td><td>112</td><td>112</td></tr>\n",
       "\t<tr><td>125</td><td>115</td><td> 91</td><td> 95</td><td>101</td><td>124</td><td>134</td><td>129</td><td>133</td><td>102</td><td>...</td><td> 516</td><td>501</td><td> 36</td><td>289</td><td>15</td><td>102</td><td>102</td><td>118</td><td>123</td><td>109</td></tr>\n",
       "\t<tr><td>135</td><td>115</td><td>111</td><td>112</td><td> 99</td><td>118</td><td>122</td><td>124</td><td>119</td><td> 80</td><td>...</td><td>1069</td><td>554</td><td> 13</td><td>433</td><td>10</td><td>111</td><td>107</td><td>103</td><td>117</td><td>118</td></tr>\n",
       "\t<tr><td>138</td><td>121</td><td>109</td><td>105</td><td>108</td><td>123</td><td> 99</td><td> 98</td><td>107</td><td>107</td><td>...</td><td> 847</td><td>672</td><td> 39</td><td>432</td><td>19</td><td>111</td><td>107</td><td>114</td><td>121</td><td>116</td></tr>\n",
       "\t<tr><td>122</td><td>120</td><td>116</td><td>110</td><td>113</td><td>116</td><td>128</td><td>120</td><td>135</td><td>110</td><td>...</td><td> 380</td><td>284</td><td> 16</td><td>313</td><td>24</td><td>110</td><td>107</td><td>119</td><td>114</td><td>115</td></tr>\n",
       "\t<tr><td>129</td><td>118</td><td>102</td><td>112</td><td> 96</td><td>125</td><td>110</td><td>107</td><td>113</td><td>105</td><td>...</td><td> 918</td><td>578</td><td> 24</td><td>329</td><td> 4</td><td>106</td><td>103</td><td>112</td><td>125</td><td>119</td></tr>\n",
       "\t<tr><td>145</td><td>127</td><td>121</td><td>124</td><td>110</td><td>124</td><td>106</td><td>106</td><td>113</td><td> 97</td><td>...</td><td>1153</td><td>668</td><td> 22</td><td>556</td><td>21</td><td>116</td><td>115</td><td>114</td><td>124</td><td>129</td></tr>\n",
       "\t<tr><td>136</td><td>125</td><td>109</td><td>112</td><td>114</td><td>123</td><td>132</td><td>125</td><td>136</td><td>105</td><td>...</td><td>1362</td><td>470</td><td>-10</td><td>477</td><td> 4</td><td>111</td><td>109</td><td>122</td><td>127</td><td>121</td></tr>\n",
       "\t<tr><td>132</td><td>122</td><td>107</td><td>113</td><td>110</td><td>121</td><td>116</td><td>114</td><td>116</td><td>100</td><td>...</td><td>1041</td><td>496</td><td>  8</td><td>398</td><td> 7</td><td>110</td><td>108</td><td>116</td><td>119</td><td>119</td></tr>\n",
       "\t<tr><td>133</td><td>109</td><td>103</td><td>104</td><td>100</td><td>111</td><td>121</td><td>116</td><td>127</td><td>104</td><td>...</td><td>1156</td><td>564</td><td> 10</td><td>399</td><td> 3</td><td>101</td><td>100</td><td>109</td><td>114</td><td>107</td></tr>\n",
       "\t<tr><td>121</td><td>118</td><td> 97</td><td>108</td><td>105</td><td>123</td><td>115</td><td>113</td><td>119</td><td>103</td><td>...</td><td> 992</td><td>347</td><td> -7</td><td>276</td><td>-5</td><td>106</td><td>107</td><td>116</td><td>122</td><td>115</td></tr>\n",
       "\t<tr><td>140</td><td>124</td><td>120</td><td>118</td><td>103</td><td>125</td><td>107</td><td>105</td><td>106</td><td>107</td><td>...</td><td>1277</td><td>667</td><td> 16</td><td>478</td><td> 7</td><td>117</td><td>116</td><td>110</td><td>123</td><td>127</td></tr>\n",
       "\t<tr><td>122</td><td>125</td><td>124</td><td>114</td><td>106</td><td>125</td><td>116</td><td>113</td><td>116</td><td>104</td><td>...</td><td>1076</td><td>391</td><td> -6</td><td>278</td><td>-8</td><td>111</td><td>109</td><td>111</td><td>124</td><td>124</td></tr>\n",
       "\t<tr><td>134</td><td>118</td><td>115</td><td>107</td><td>104</td><td>120</td><td>121</td><td>118</td><td>125</td><td> 98</td><td>...</td><td>1016</td><td>525</td><td> 13</td><td>431</td><td>12</td><td>110</td><td>106</td><td>113</td><td>120</td><td>116</td></tr>\n",
       "\t<tr><td>130</td><td>120</td><td>115</td><td>114</td><td>112</td><td>115</td><td>112</td><td>109</td><td>117</td><td>102</td><td>...</td><td> 585</td><td>513</td><td> 33</td><td>361</td><td>21</td><td>113</td><td>111</td><td>117</td><td>111</td><td>119</td></tr>\n",
       "\t<tr><td>130</td><td>112</td><td>107</td><td>105</td><td>111</td><td>109</td><td> 98</td><td> 99</td><td>108</td><td> 97</td><td>...</td><td> 799</td><td>470</td><td> 17</td><td>382</td><td>15</td><td>107</td><td>104</td><td>116</td><td>105</td><td>108</td></tr>\n",
       "\t<tr><td>123</td><td>116</td><td>111</td><td>101</td><td>105</td><td>118</td><td>120</td><td>116</td><td>124</td><td>103</td><td>...</td><td> 711</td><td>401</td><td> 13</td><td>299</td><td> 8</td><td>101</td><td>100</td><td>107</td><td>117</td><td>109</td></tr>\n",
       "\t<tr><td>134</td><td>111</td><td>106</td><td>104</td><td>101</td><td>112</td><td>100</td><td> 97</td><td>105</td><td>114</td><td>...</td><td> 987</td><td>527</td><td> 14</td><td>427</td><td>13</td><td>110</td><td>105</td><td>108</td><td>115</td><td>110</td></tr>\n",
       "\t<tr><td>121</td><td>121</td><td>126</td><td>115</td><td>107</td><td>117</td><td>104</td><td>104</td><td>108</td><td> 98</td><td>...</td><td> 997</td><td>353</td><td> -6</td><td>273</td><td>-6</td><td>110</td><td>107</td><td>112</td><td>117</td><td>120</td></tr>\n",
       "\t<tr><td>112</td><td>108</td><td> 90</td><td> 93</td><td>109</td><td>109</td><td>123</td><td>117</td><td>130</td><td>111</td><td>...</td><td> 506</td><td>185</td><td> -3</td><td>189</td><td> 3</td><td> 97</td><td> 88</td><td>113</td><td>111</td><td>104</td></tr>\n",
       "\t<tr><td>127</td><td>117</td><td>106</td><td>108</td><td>111</td><td>115</td><td>125</td><td>121</td><td>124</td><td>101</td><td>...</td><td> 711</td><td>462</td><td> 21</td><td>344</td><td>14</td><td>108</td><td>109</td><td>106</td><td>116</td><td>116</td></tr>\n",
       "\t<tr><td>125</td><td>131</td><td>117</td><td>114</td><td>113</td><td>131</td><td>124</td><td>119</td><td>122</td><td>111</td><td>...</td><td> 897</td><td>419</td><td>  6</td><td>325</td><td> 4</td><td>112</td><td>109</td><td>120</td><td>126</td><td>123</td></tr>\n",
       "\t<tr><td>133</td><td>119</td><td>101</td><td>103</td><td>114</td><td>118</td><td>127</td><td>120</td><td>124</td><td>112</td><td>...</td><td> 854</td><td>537</td><td> 22</td><td>409</td><td>16</td><td>110</td><td>107</td><td>124</td><td>117</td><td>113</td></tr>\n",
       "\t<tr><td>131</td><td>121</td><td>112</td><td>115</td><td>117</td><td>114</td><td>121</td><td>118</td><td>124</td><td>100</td><td>...</td><td>1026</td><td>448</td><td>  3</td><td>401</td><td> 8</td><td>113</td><td>115</td><td>118</td><td>112</td><td>122</td></tr>\n",
       "\t<tr><td>139</td><td>125</td><td>111</td><td>116</td><td>113</td><td>123</td><td> 99</td><td>100</td><td> 96</td><td>104</td><td>...</td><td> 951</td><td>802</td><td> 48</td><td>409</td><td>12</td><td>112</td><td>111</td><td>120</td><td>123</td><td>124</td></tr>\n",
       "\t<tr><td>119</td><td>121</td><td>111</td><td>107</td><td>106</td><td>122</td><td>111</td><td>105</td><td>125</td><td>113</td><td>...</td><td> 923</td><td>193</td><td>-22</td><td>303</td><td> 0</td><td>108</td><td>107</td><td>116</td><td>122</td><td>119</td></tr>\n",
       "\t<tr><td>133</td><td>125</td><td>116</td><td>112</td><td>109</td><td>126</td><td>122</td><td>120</td><td>125</td><td> 93</td><td>...</td><td> 965</td><td>490</td><td> 11</td><td>428</td><td>13</td><td>110</td><td>108</td><td>118</td><td>129</td><td>125</td></tr>\n",
       "\t<tr><td>...</td><td>...</td><td>...</td><td>...</td><td>...</td><td>...</td><td>...</td><td>...</td><td>...</td><td>...</td><td></td><td>...</td><td>...</td><td>...</td><td>...</td><td>...</td><td>...</td><td>...</td><td>...</td><td>...</td><td>...</td></tr>\n",
       "\t<tr><td>120</td><td>116</td><td>105</td><td>106</td><td>110</td><td>114</td><td>117</td><td>114</td><td>113</td><td>104</td><td>...</td><td>1078</td><td>280</td><td>-19</td><td>292</td><td> -7</td><td>111</td><td>108</td><td>119</td><td>115</td><td>112</td></tr>\n",
       "\t<tr><td>123</td><td>117</td><td>100</td><td>105</td><td>111</td><td>117</td><td>126</td><td>120</td><td>129</td><td>108</td><td>...</td><td> 540</td><td>495</td><td> 34</td><td>253</td><td> 10</td><td>104</td><td>102</td><td>122</td><td>116</td><td>110</td></tr>\n",
       "\t<tr><td>136</td><td>124</td><td>112</td><td>116</td><td>115</td><td>120</td><td>103</td><td>105</td><td>104</td><td> 92</td><td>...</td><td> 884</td><td>612</td><td> 30</td><td>433</td><td> 17</td><td>112</td><td>109</td><td>122</td><td>118</td><td>123</td></tr>\n",
       "\t<tr><td>136</td><td>111</td><td>100</td><td>105</td><td>110</td><td>108</td><td>115</td><td>116</td><td>110</td><td> 94</td><td>...</td><td>1367</td><td>490</td><td> -8</td><td>475</td><td>  4</td><td> 99</td><td>101</td><td>115</td><td>110</td><td>109</td></tr>\n",
       "\t<tr><td>128</td><td>111</td><td> 99</td><td>111</td><td>103</td><td>112</td><td>106</td><td>102</td><td>114</td><td>109</td><td>...</td><td>1361</td><td>421</td><td>-15</td><td>365</td><td> -8</td><td>108</td><td>109</td><td>113</td><td>112</td><td>117</td></tr>\n",
       "\t<tr><td>115</td><td>105</td><td> 90</td><td> 90</td><td>108</td><td>106</td><td>110</td><td>104</td><td>111</td><td>121</td><td>...</td><td> 391</td><td>275</td><td> 14</td><td>211</td><td> 11</td><td> 97</td><td> 99</td><td>110</td><td>109</td><td>101</td></tr>\n",
       "\t<tr><td>129</td><td>114</td><td> 86</td><td> 99</td><td>104</td><td>121</td><td>118</td><td>118</td><td>113</td><td> 98</td><td>...</td><td> 998</td><td>515</td><td> 12</td><td>343</td><td>  2</td><td>102</td><td>104</td><td>105</td><td>123</td><td>110</td></tr>\n",
       "\t<tr><td>124</td><td>135</td><td>105</td><td>107</td><td>110</td><td>142</td><td>111</td><td>110</td><td>114</td><td>103</td><td>...</td><td>1114</td><td>331</td><td>-14</td><td>336</td><td> -3</td><td>112</td><td>109</td><td>122</td><td>139</td><td>126</td></tr>\n",
       "\t<tr><td>127</td><td>122</td><td>110</td><td>108</td><td>110</td><td>123</td><td> 84</td><td> 87</td><td> 93</td><td> 97</td><td>...</td><td>1252</td><td>337</td><td>-20</td><td>375</td><td> -4</td><td>108</td><td>106</td><td>121</td><td>121</td><td>116</td></tr>\n",
       "\t<tr><td>112</td><td>118</td><td> 93</td><td> 90</td><td>113</td><td>121</td><td>112</td><td>107</td><td>113</td><td>113</td><td>...</td><td> 157</td><td>281</td><td> 28</td><td>153</td><td> 13</td><td>101</td><td> 98</td><td>123</td><td>123</td><td>109</td></tr>\n",
       "\t<tr><td>116</td><td>108</td><td> 90</td><td> 96</td><td> 97</td><td>116</td><td>118</td><td>114</td><td>125</td><td>105</td><td>...</td><td> 664</td><td>399</td><td> 15</td><td>186</td><td> -4</td><td> 95</td><td> 97</td><td>108</td><td>116</td><td>101</td></tr>\n",
       "\t<tr><td>125</td><td>108</td><td>102</td><td> 95</td><td> 96</td><td>115</td><td>116</td><td>113</td><td>122</td><td> 98</td><td>...</td><td> 867</td><td>336</td><td> -2</td><td>346</td><td>  8</td><td>104</td><td> 99</td><td>100</td><td>116</td><td>107</td></tr>\n",
       "\t<tr><td>117</td><td>108</td><td>110</td><td>111</td><td>107</td><td>102</td><td>116</td><td>113</td><td>119</td><td>105</td><td>...</td><td>1147</td><td>329</td><td>-16</td><td>217</td><td>-18</td><td>108</td><td>109</td><td>119</td><td>106</td><td>111</td></tr>\n",
       "\t<tr><td>133</td><td>128</td><td>110</td><td>109</td><td>110</td><td>131</td><td>105</td><td>106</td><td>105</td><td> 96</td><td>...</td><td>1106</td><td>436</td><td> -2</td><td>437</td><td>  9</td><td>102</td><td>104</td><td>118</td><td>135</td><td>123</td></tr>\n",
       "\t<tr><td>130</td><td>117</td><td>110</td><td>116</td><td> 99</td><td>120</td><td>109</td><td>107</td><td>115</td><td>102</td><td>...</td><td>1013</td><td>455</td><td>  5</td><td>386</td><td>  7</td><td>112</td><td>112</td><td>101</td><td>122</td><td>123</td></tr>\n",
       "\t<tr><td>141</td><td>118</td><td>116</td><td>118</td><td>106</td><td>116</td><td>113</td><td>114</td><td>118</td><td> 90</td><td>...</td><td>1391</td><td>499</td><td> -8</td><td>555</td><td> 12</td><td>114</td><td>113</td><td>108</td><td>118</td><td>120</td></tr>\n",
       "\t<tr><td>131</td><td>119</td><td>110</td><td>115</td><td>111</td><td>115</td><td> 99</td><td> 98</td><td>102</td><td>104</td><td>...</td><td> 858</td><td>394</td><td>  5</td><td>424</td><td> 17</td><td>114</td><td>116</td><td>109</td><td>117</td><td>118</td></tr>\n",
       "\t<tr><td>127</td><td>121</td><td>122</td><td>115</td><td>107</td><td>119</td><td>107</td><td>105</td><td>114</td><td>103</td><td>...</td><td>1120</td><td>334</td><td>-14</td><td>385</td><td>  2</td><td>112</td><td>112</td><td>113</td><td>119</td><td>121</td></tr>\n",
       "\t<tr><td>137</td><td>127</td><td>117</td><td>114</td><td>110</td><td>127</td><td>100</td><td>100</td><td>107</td><td>100</td><td>...</td><td>1313</td><td>510</td><td> -3</td><td>483</td><td>  6</td><td>111</td><td>111</td><td>114</td><td>125</td><td>125</td></tr>\n",
       "\t<tr><td>128</td><td>116</td><td>110</td><td>104</td><td>101</td><td>120</td><td>122</td><td>116</td><td>130</td><td>107</td><td>...</td><td> 958</td><td>518</td><td> 15</td><td>332</td><td>  2</td><td>104</td><td>102</td><td>112</td><td>119</td><td>112</td></tr>\n",
       "\t<tr><td>131</td><td>111</td><td>111</td><td>102</td><td>102</td><td>112</td><td>115</td><td>111</td><td>114</td><td>109</td><td>...</td><td> 921</td><td>493</td><td> 14</td><td>386</td><td> 10</td><td>106</td><td>102</td><td>106</td><td>112</td><td>108</td></tr>\n",
       "\t<tr><td>132</td><td>116</td><td>120</td><td>113</td><td>108</td><td>112</td><td>115</td><td>113</td><td>113</td><td>105</td><td>...</td><td>1293</td><td>341</td><td>-21</td><td>455</td><td>  4</td><td>109</td><td>109</td><td>105</td><td>113</td><td>115</td></tr>\n",
       "\t<tr><td>124</td><td>125</td><td>107</td><td>108</td><td>110</td><td>127</td><td>112</td><td>109</td><td>119</td><td>102</td><td>...</td><td>1088</td><td>453</td><td>  1</td><td>295</td><td> -7</td><td>109</td><td>107</td><td>113</td><td>127</td><td>122</td></tr>\n",
       "\t<tr><td>126</td><td>121</td><td>104</td><td>100</td><td>112</td><td>122</td><td>125</td><td>120</td><td>130</td><td>106</td><td>...</td><td> 930</td><td>392</td><td>  1</td><td>351</td><td>  6</td><td>103</td><td>100</td><td>117</td><td>124</td><td>114</td></tr>\n",
       "\t<tr><td>124</td><td>113</td><td>112</td><td>104</td><td>113</td><td>109</td><td>107</td><td>103</td><td>113</td><td>108</td><td>...</td><td>1296</td><td>285</td><td>-28</td><td>356</td><td> -7</td><td>109</td><td>105</td><td>115</td><td>110</td><td>109</td></tr>\n",
       "\t<tr><td>136</td><td>116</td><td>111</td><td>113</td><td>103</td><td>117</td><td>107</td><td>106</td><td>108</td><td>101</td><td>...</td><td>1595</td><td>395</td><td>-28</td><td>507</td><td> -1</td><td>106</td><td>106</td><td>105</td><td>118</td><td>117</td></tr>\n",
       "\t<tr><td>131</td><td>118</td><td>118</td><td>110</td><td> 99</td><td>122</td><td>118</td><td>114</td><td>121</td><td>105</td><td>...</td><td> 975</td><td>511</td><td> 13</td><td>383</td><td>  8</td><td>104</td><td>102</td><td>106</td><td>124</td><td>119</td></tr>\n",
       "\t<tr><td>128</td><td>121</td><td>101</td><td>105</td><td>109</td><td>123</td><td>119</td><td>116</td><td>120</td><td>100</td><td>...</td><td>1281</td><td>421</td><td>-12</td><td>372</td><td> -5</td><td>109</td><td>108</td><td>118</td><td>124</td><td>117</td></tr>\n",
       "\t<tr><td>126</td><td>126</td><td>105</td><td>109</td><td>107</td><td>131</td><td>118</td><td>113</td><td>132</td><td>102</td><td>...</td><td>1097</td><td>470</td><td>  2</td><td>320</td><td> -4</td><td>106</td><td>104</td><td>121</td><td>128</td><td>121</td></tr>\n",
       "\t<tr><td>134</td><td>112</td><td>117</td><td>115</td><td>104</td><td>109</td><td> 93</td><td> 95</td><td> 98</td><td> 99</td><td>...</td><td>1224</td><td>443</td><td> -7</td><td>465</td><td>  8</td><td>109</td><td>110</td><td>106</td><td>113</td><td>118</td></tr>\n",
       "</tbody>\n",
       "</table>\n"
      ],
      "text/latex": [
       "A data.frame: 1692 × 24\n",
       "\\begin{tabular}{lllllllllllllllllllll}\n",
       " PI-PROD & PI-POKR & Prc & Psm & Pnr & Pw & PI-PLOD & CRj & CRk & PP & ... & kg ml & kg tł & \\% tł & kg bi & \\% bi & rc & sm & nr & w & og\\\\\n",
       " <int> & <int> & <int> & <int> & <int> & <int> & <int> & <int> & <int> & <int> & ... & <int> & <int> & <int> & <int> & <int> & <dbl> & <dbl> & <dbl> & <dbl> & <dbl>\\\\\n",
       "\\hline\n",
       "\t 137 & 127 & 121 & 113 & 106 & 128 & 109 & 107 & 110 & 101 & ... & 1370 & 577 &   2 & 452 &  1 & 115 & 114 & 109 & 127 & 123\\\\\n",
       "\t 126 & 123 & 109 & 113 & 103 & 128 & 114 & 114 & 113 &  94 & ... & 1209 & 358 & -16 & 354 & -4 & 115 & 113 & 104 & 123 & 123\\\\\n",
       "\t 126 & 120 & 110 & 107 & 102 & 124 & 113 & 112 & 117 &  94 & ... &  982 & 368 &  -4 & 350 &  4 & 104 & 103 & 102 & 122 & 117\\\\\n",
       "\t 133 & 111 & 104 & 110 &  99 & 114 & 114 & 113 & 126 &  89 & ... & 1080 & 546 &  12 & 410 &  7 & 106 & 106 & 101 & 112 & 112\\\\\n",
       "\t 125 & 115 &  91 &  95 & 101 & 124 & 134 & 129 & 133 & 102 & ... &  516 & 501 &  36 & 289 & 15 & 102 & 102 & 118 & 123 & 109\\\\\n",
       "\t 135 & 115 & 111 & 112 &  99 & 118 & 122 & 124 & 119 &  80 & ... & 1069 & 554 &  13 & 433 & 10 & 111 & 107 & 103 & 117 & 118\\\\\n",
       "\t 138 & 121 & 109 & 105 & 108 & 123 &  99 &  98 & 107 & 107 & ... &  847 & 672 &  39 & 432 & 19 & 111 & 107 & 114 & 121 & 116\\\\\n",
       "\t 122 & 120 & 116 & 110 & 113 & 116 & 128 & 120 & 135 & 110 & ... &  380 & 284 &  16 & 313 & 24 & 110 & 107 & 119 & 114 & 115\\\\\n",
       "\t 129 & 118 & 102 & 112 &  96 & 125 & 110 & 107 & 113 & 105 & ... &  918 & 578 &  24 & 329 &  4 & 106 & 103 & 112 & 125 & 119\\\\\n",
       "\t 145 & 127 & 121 & 124 & 110 & 124 & 106 & 106 & 113 &  97 & ... & 1153 & 668 &  22 & 556 & 21 & 116 & 115 & 114 & 124 & 129\\\\\n",
       "\t 136 & 125 & 109 & 112 & 114 & 123 & 132 & 125 & 136 & 105 & ... & 1362 & 470 & -10 & 477 &  4 & 111 & 109 & 122 & 127 & 121\\\\\n",
       "\t 132 & 122 & 107 & 113 & 110 & 121 & 116 & 114 & 116 & 100 & ... & 1041 & 496 &   8 & 398 &  7 & 110 & 108 & 116 & 119 & 119\\\\\n",
       "\t 133 & 109 & 103 & 104 & 100 & 111 & 121 & 116 & 127 & 104 & ... & 1156 & 564 &  10 & 399 &  3 & 101 & 100 & 109 & 114 & 107\\\\\n",
       "\t 121 & 118 &  97 & 108 & 105 & 123 & 115 & 113 & 119 & 103 & ... &  992 & 347 &  -7 & 276 & -5 & 106 & 107 & 116 & 122 & 115\\\\\n",
       "\t 140 & 124 & 120 & 118 & 103 & 125 & 107 & 105 & 106 & 107 & ... & 1277 & 667 &  16 & 478 &  7 & 117 & 116 & 110 & 123 & 127\\\\\n",
       "\t 122 & 125 & 124 & 114 & 106 & 125 & 116 & 113 & 116 & 104 & ... & 1076 & 391 &  -6 & 278 & -8 & 111 & 109 & 111 & 124 & 124\\\\\n",
       "\t 134 & 118 & 115 & 107 & 104 & 120 & 121 & 118 & 125 &  98 & ... & 1016 & 525 &  13 & 431 & 12 & 110 & 106 & 113 & 120 & 116\\\\\n",
       "\t 130 & 120 & 115 & 114 & 112 & 115 & 112 & 109 & 117 & 102 & ... &  585 & 513 &  33 & 361 & 21 & 113 & 111 & 117 & 111 & 119\\\\\n",
       "\t 130 & 112 & 107 & 105 & 111 & 109 &  98 &  99 & 108 &  97 & ... &  799 & 470 &  17 & 382 & 15 & 107 & 104 & 116 & 105 & 108\\\\\n",
       "\t 123 & 116 & 111 & 101 & 105 & 118 & 120 & 116 & 124 & 103 & ... &  711 & 401 &  13 & 299 &  8 & 101 & 100 & 107 & 117 & 109\\\\\n",
       "\t 134 & 111 & 106 & 104 & 101 & 112 & 100 &  97 & 105 & 114 & ... &  987 & 527 &  14 & 427 & 13 & 110 & 105 & 108 & 115 & 110\\\\\n",
       "\t 121 & 121 & 126 & 115 & 107 & 117 & 104 & 104 & 108 &  98 & ... &  997 & 353 &  -6 & 273 & -6 & 110 & 107 & 112 & 117 & 120\\\\\n",
       "\t 112 & 108 &  90 &  93 & 109 & 109 & 123 & 117 & 130 & 111 & ... &  506 & 185 &  -3 & 189 &  3 &  97 &  88 & 113 & 111 & 104\\\\\n",
       "\t 127 & 117 & 106 & 108 & 111 & 115 & 125 & 121 & 124 & 101 & ... &  711 & 462 &  21 & 344 & 14 & 108 & 109 & 106 & 116 & 116\\\\\n",
       "\t 125 & 131 & 117 & 114 & 113 & 131 & 124 & 119 & 122 & 111 & ... &  897 & 419 &   6 & 325 &  4 & 112 & 109 & 120 & 126 & 123\\\\\n",
       "\t 133 & 119 & 101 & 103 & 114 & 118 & 127 & 120 & 124 & 112 & ... &  854 & 537 &  22 & 409 & 16 & 110 & 107 & 124 & 117 & 113\\\\\n",
       "\t 131 & 121 & 112 & 115 & 117 & 114 & 121 & 118 & 124 & 100 & ... & 1026 & 448 &   3 & 401 &  8 & 113 & 115 & 118 & 112 & 122\\\\\n",
       "\t 139 & 125 & 111 & 116 & 113 & 123 &  99 & 100 &  96 & 104 & ... &  951 & 802 &  48 & 409 & 12 & 112 & 111 & 120 & 123 & 124\\\\\n",
       "\t 119 & 121 & 111 & 107 & 106 & 122 & 111 & 105 & 125 & 113 & ... &  923 & 193 & -22 & 303 &  0 & 108 & 107 & 116 & 122 & 119\\\\\n",
       "\t 133 & 125 & 116 & 112 & 109 & 126 & 122 & 120 & 125 &  93 & ... &  965 & 490 &  11 & 428 & 13 & 110 & 108 & 118 & 129 & 125\\\\\n",
       "\t ... & ... & ... & ... & ... & ... & ... & ... & ... & ... &  & ... & ... & ... & ... & ... & ... & ... & ... & ... & ...\\\\\n",
       "\t 120 & 116 & 105 & 106 & 110 & 114 & 117 & 114 & 113 & 104 & ... & 1078 & 280 & -19 & 292 &  -7 & 111 & 108 & 119 & 115 & 112\\\\\n",
       "\t 123 & 117 & 100 & 105 & 111 & 117 & 126 & 120 & 129 & 108 & ... &  540 & 495 &  34 & 253 &  10 & 104 & 102 & 122 & 116 & 110\\\\\n",
       "\t 136 & 124 & 112 & 116 & 115 & 120 & 103 & 105 & 104 &  92 & ... &  884 & 612 &  30 & 433 &  17 & 112 & 109 & 122 & 118 & 123\\\\\n",
       "\t 136 & 111 & 100 & 105 & 110 & 108 & 115 & 116 & 110 &  94 & ... & 1367 & 490 &  -8 & 475 &   4 &  99 & 101 & 115 & 110 & 109\\\\\n",
       "\t 128 & 111 &  99 & 111 & 103 & 112 & 106 & 102 & 114 & 109 & ... & 1361 & 421 & -15 & 365 &  -8 & 108 & 109 & 113 & 112 & 117\\\\\n",
       "\t 115 & 105 &  90 &  90 & 108 & 106 & 110 & 104 & 111 & 121 & ... &  391 & 275 &  14 & 211 &  11 &  97 &  99 & 110 & 109 & 101\\\\\n",
       "\t 129 & 114 &  86 &  99 & 104 & 121 & 118 & 118 & 113 &  98 & ... &  998 & 515 &  12 & 343 &   2 & 102 & 104 & 105 & 123 & 110\\\\\n",
       "\t 124 & 135 & 105 & 107 & 110 & 142 & 111 & 110 & 114 & 103 & ... & 1114 & 331 & -14 & 336 &  -3 & 112 & 109 & 122 & 139 & 126\\\\\n",
       "\t 127 & 122 & 110 & 108 & 110 & 123 &  84 &  87 &  93 &  97 & ... & 1252 & 337 & -20 & 375 &  -4 & 108 & 106 & 121 & 121 & 116\\\\\n",
       "\t 112 & 118 &  93 &  90 & 113 & 121 & 112 & 107 & 113 & 113 & ... &  157 & 281 &  28 & 153 &  13 & 101 &  98 & 123 & 123 & 109\\\\\n",
       "\t 116 & 108 &  90 &  96 &  97 & 116 & 118 & 114 & 125 & 105 & ... &  664 & 399 &  15 & 186 &  -4 &  95 &  97 & 108 & 116 & 101\\\\\n",
       "\t 125 & 108 & 102 &  95 &  96 & 115 & 116 & 113 & 122 &  98 & ... &  867 & 336 &  -2 & 346 &   8 & 104 &  99 & 100 & 116 & 107\\\\\n",
       "\t 117 & 108 & 110 & 111 & 107 & 102 & 116 & 113 & 119 & 105 & ... & 1147 & 329 & -16 & 217 & -18 & 108 & 109 & 119 & 106 & 111\\\\\n",
       "\t 133 & 128 & 110 & 109 & 110 & 131 & 105 & 106 & 105 &  96 & ... & 1106 & 436 &  -2 & 437 &   9 & 102 & 104 & 118 & 135 & 123\\\\\n",
       "\t 130 & 117 & 110 & 116 &  99 & 120 & 109 & 107 & 115 & 102 & ... & 1013 & 455 &   5 & 386 &   7 & 112 & 112 & 101 & 122 & 123\\\\\n",
       "\t 141 & 118 & 116 & 118 & 106 & 116 & 113 & 114 & 118 &  90 & ... & 1391 & 499 &  -8 & 555 &  12 & 114 & 113 & 108 & 118 & 120\\\\\n",
       "\t 131 & 119 & 110 & 115 & 111 & 115 &  99 &  98 & 102 & 104 & ... &  858 & 394 &   5 & 424 &  17 & 114 & 116 & 109 & 117 & 118\\\\\n",
       "\t 127 & 121 & 122 & 115 & 107 & 119 & 107 & 105 & 114 & 103 & ... & 1120 & 334 & -14 & 385 &   2 & 112 & 112 & 113 & 119 & 121\\\\\n",
       "\t 137 & 127 & 117 & 114 & 110 & 127 & 100 & 100 & 107 & 100 & ... & 1313 & 510 &  -3 & 483 &   6 & 111 & 111 & 114 & 125 & 125\\\\\n",
       "\t 128 & 116 & 110 & 104 & 101 & 120 & 122 & 116 & 130 & 107 & ... &  958 & 518 &  15 & 332 &   2 & 104 & 102 & 112 & 119 & 112\\\\\n",
       "\t 131 & 111 & 111 & 102 & 102 & 112 & 115 & 111 & 114 & 109 & ... &  921 & 493 &  14 & 386 &  10 & 106 & 102 & 106 & 112 & 108\\\\\n",
       "\t 132 & 116 & 120 & 113 & 108 & 112 & 115 & 113 & 113 & 105 & ... & 1293 & 341 & -21 & 455 &   4 & 109 & 109 & 105 & 113 & 115\\\\\n",
       "\t 124 & 125 & 107 & 108 & 110 & 127 & 112 & 109 & 119 & 102 & ... & 1088 & 453 &   1 & 295 &  -7 & 109 & 107 & 113 & 127 & 122\\\\\n",
       "\t 126 & 121 & 104 & 100 & 112 & 122 & 125 & 120 & 130 & 106 & ... &  930 & 392 &   1 & 351 &   6 & 103 & 100 & 117 & 124 & 114\\\\\n",
       "\t 124 & 113 & 112 & 104 & 113 & 109 & 107 & 103 & 113 & 108 & ... & 1296 & 285 & -28 & 356 &  -7 & 109 & 105 & 115 & 110 & 109\\\\\n",
       "\t 136 & 116 & 111 & 113 & 103 & 117 & 107 & 106 & 108 & 101 & ... & 1595 & 395 & -28 & 507 &  -1 & 106 & 106 & 105 & 118 & 117\\\\\n",
       "\t 131 & 118 & 118 & 110 &  99 & 122 & 118 & 114 & 121 & 105 & ... &  975 & 511 &  13 & 383 &   8 & 104 & 102 & 106 & 124 & 119\\\\\n",
       "\t 128 & 121 & 101 & 105 & 109 & 123 & 119 & 116 & 120 & 100 & ... & 1281 & 421 & -12 & 372 &  -5 & 109 & 108 & 118 & 124 & 117\\\\\n",
       "\t 126 & 126 & 105 & 109 & 107 & 131 & 118 & 113 & 132 & 102 & ... & 1097 & 470 &   2 & 320 &  -4 & 106 & 104 & 121 & 128 & 121\\\\\n",
       "\t 134 & 112 & 117 & 115 & 104 & 109 &  93 &  95 &  98 &  99 & ... & 1224 & 443 &  -7 & 465 &   8 & 109 & 110 & 106 & 113 & 118\\\\\n",
       "\\end{tabular}\n"
      ],
      "text/markdown": [
       "\n",
       "A data.frame: 1692 × 24\n",
       "\n",
       "| PI-PROD &lt;int&gt; | PI-POKR &lt;int&gt; | Prc &lt;int&gt; | Psm &lt;int&gt; | Pnr &lt;int&gt; | Pw &lt;int&gt; | PI-PLOD &lt;int&gt; | CRj &lt;int&gt; | CRk &lt;int&gt; | PP &lt;int&gt; | ... ... | kg ml &lt;int&gt; | kg tł &lt;int&gt; | % tł &lt;int&gt; | kg bi &lt;int&gt; | % bi &lt;int&gt; | rc &lt;dbl&gt; | sm &lt;dbl&gt; | nr &lt;dbl&gt; | w &lt;dbl&gt; | og &lt;dbl&gt; |\n",
       "|---|---|---|---|---|---|---|---|---|---|---|---|---|---|---|---|---|---|---|---|---|\n",
       "| 137 | 127 | 121 | 113 | 106 | 128 | 109 | 107 | 110 | 101 | ... | 1370 | 577 |   2 | 452 |  1 | 115 | 114 | 109 | 127 | 123 |\n",
       "| 126 | 123 | 109 | 113 | 103 | 128 | 114 | 114 | 113 |  94 | ... | 1209 | 358 | -16 | 354 | -4 | 115 | 113 | 104 | 123 | 123 |\n",
       "| 126 | 120 | 110 | 107 | 102 | 124 | 113 | 112 | 117 |  94 | ... |  982 | 368 |  -4 | 350 |  4 | 104 | 103 | 102 | 122 | 117 |\n",
       "| 133 | 111 | 104 | 110 |  99 | 114 | 114 | 113 | 126 |  89 | ... | 1080 | 546 |  12 | 410 |  7 | 106 | 106 | 101 | 112 | 112 |\n",
       "| 125 | 115 |  91 |  95 | 101 | 124 | 134 | 129 | 133 | 102 | ... |  516 | 501 |  36 | 289 | 15 | 102 | 102 | 118 | 123 | 109 |\n",
       "| 135 | 115 | 111 | 112 |  99 | 118 | 122 | 124 | 119 |  80 | ... | 1069 | 554 |  13 | 433 | 10 | 111 | 107 | 103 | 117 | 118 |\n",
       "| 138 | 121 | 109 | 105 | 108 | 123 |  99 |  98 | 107 | 107 | ... |  847 | 672 |  39 | 432 | 19 | 111 | 107 | 114 | 121 | 116 |\n",
       "| 122 | 120 | 116 | 110 | 113 | 116 | 128 | 120 | 135 | 110 | ... |  380 | 284 |  16 | 313 | 24 | 110 | 107 | 119 | 114 | 115 |\n",
       "| 129 | 118 | 102 | 112 |  96 | 125 | 110 | 107 | 113 | 105 | ... |  918 | 578 |  24 | 329 |  4 | 106 | 103 | 112 | 125 | 119 |\n",
       "| 145 | 127 | 121 | 124 | 110 | 124 | 106 | 106 | 113 |  97 | ... | 1153 | 668 |  22 | 556 | 21 | 116 | 115 | 114 | 124 | 129 |\n",
       "| 136 | 125 | 109 | 112 | 114 | 123 | 132 | 125 | 136 | 105 | ... | 1362 | 470 | -10 | 477 |  4 | 111 | 109 | 122 | 127 | 121 |\n",
       "| 132 | 122 | 107 | 113 | 110 | 121 | 116 | 114 | 116 | 100 | ... | 1041 | 496 |   8 | 398 |  7 | 110 | 108 | 116 | 119 | 119 |\n",
       "| 133 | 109 | 103 | 104 | 100 | 111 | 121 | 116 | 127 | 104 | ... | 1156 | 564 |  10 | 399 |  3 | 101 | 100 | 109 | 114 | 107 |\n",
       "| 121 | 118 |  97 | 108 | 105 | 123 | 115 | 113 | 119 | 103 | ... |  992 | 347 |  -7 | 276 | -5 | 106 | 107 | 116 | 122 | 115 |\n",
       "| 140 | 124 | 120 | 118 | 103 | 125 | 107 | 105 | 106 | 107 | ... | 1277 | 667 |  16 | 478 |  7 | 117 | 116 | 110 | 123 | 127 |\n",
       "| 122 | 125 | 124 | 114 | 106 | 125 | 116 | 113 | 116 | 104 | ... | 1076 | 391 |  -6 | 278 | -8 | 111 | 109 | 111 | 124 | 124 |\n",
       "| 134 | 118 | 115 | 107 | 104 | 120 | 121 | 118 | 125 |  98 | ... | 1016 | 525 |  13 | 431 | 12 | 110 | 106 | 113 | 120 | 116 |\n",
       "| 130 | 120 | 115 | 114 | 112 | 115 | 112 | 109 | 117 | 102 | ... |  585 | 513 |  33 | 361 | 21 | 113 | 111 | 117 | 111 | 119 |\n",
       "| 130 | 112 | 107 | 105 | 111 | 109 |  98 |  99 | 108 |  97 | ... |  799 | 470 |  17 | 382 | 15 | 107 | 104 | 116 | 105 | 108 |\n",
       "| 123 | 116 | 111 | 101 | 105 | 118 | 120 | 116 | 124 | 103 | ... |  711 | 401 |  13 | 299 |  8 | 101 | 100 | 107 | 117 | 109 |\n",
       "| 134 | 111 | 106 | 104 | 101 | 112 | 100 |  97 | 105 | 114 | ... |  987 | 527 |  14 | 427 | 13 | 110 | 105 | 108 | 115 | 110 |\n",
       "| 121 | 121 | 126 | 115 | 107 | 117 | 104 | 104 | 108 |  98 | ... |  997 | 353 |  -6 | 273 | -6 | 110 | 107 | 112 | 117 | 120 |\n",
       "| 112 | 108 |  90 |  93 | 109 | 109 | 123 | 117 | 130 | 111 | ... |  506 | 185 |  -3 | 189 |  3 |  97 |  88 | 113 | 111 | 104 |\n",
       "| 127 | 117 | 106 | 108 | 111 | 115 | 125 | 121 | 124 | 101 | ... |  711 | 462 |  21 | 344 | 14 | 108 | 109 | 106 | 116 | 116 |\n",
       "| 125 | 131 | 117 | 114 | 113 | 131 | 124 | 119 | 122 | 111 | ... |  897 | 419 |   6 | 325 |  4 | 112 | 109 | 120 | 126 | 123 |\n",
       "| 133 | 119 | 101 | 103 | 114 | 118 | 127 | 120 | 124 | 112 | ... |  854 | 537 |  22 | 409 | 16 | 110 | 107 | 124 | 117 | 113 |\n",
       "| 131 | 121 | 112 | 115 | 117 | 114 | 121 | 118 | 124 | 100 | ... | 1026 | 448 |   3 | 401 |  8 | 113 | 115 | 118 | 112 | 122 |\n",
       "| 139 | 125 | 111 | 116 | 113 | 123 |  99 | 100 |  96 | 104 | ... |  951 | 802 |  48 | 409 | 12 | 112 | 111 | 120 | 123 | 124 |\n",
       "| 119 | 121 | 111 | 107 | 106 | 122 | 111 | 105 | 125 | 113 | ... |  923 | 193 | -22 | 303 |  0 | 108 | 107 | 116 | 122 | 119 |\n",
       "| 133 | 125 | 116 | 112 | 109 | 126 | 122 | 120 | 125 |  93 | ... |  965 | 490 |  11 | 428 | 13 | 110 | 108 | 118 | 129 | 125 |\n",
       "| ... | ... | ... | ... | ... | ... | ... | ... | ... | ... | <!----> | ... | ... | ... | ... | ... | ... | ... | ... | ... | ... |\n",
       "| 120 | 116 | 105 | 106 | 110 | 114 | 117 | 114 | 113 | 104 | ... | 1078 | 280 | -19 | 292 |  -7 | 111 | 108 | 119 | 115 | 112 |\n",
       "| 123 | 117 | 100 | 105 | 111 | 117 | 126 | 120 | 129 | 108 | ... |  540 | 495 |  34 | 253 |  10 | 104 | 102 | 122 | 116 | 110 |\n",
       "| 136 | 124 | 112 | 116 | 115 | 120 | 103 | 105 | 104 |  92 | ... |  884 | 612 |  30 | 433 |  17 | 112 | 109 | 122 | 118 | 123 |\n",
       "| 136 | 111 | 100 | 105 | 110 | 108 | 115 | 116 | 110 |  94 | ... | 1367 | 490 |  -8 | 475 |   4 |  99 | 101 | 115 | 110 | 109 |\n",
       "| 128 | 111 |  99 | 111 | 103 | 112 | 106 | 102 | 114 | 109 | ... | 1361 | 421 | -15 | 365 |  -8 | 108 | 109 | 113 | 112 | 117 |\n",
       "| 115 | 105 |  90 |  90 | 108 | 106 | 110 | 104 | 111 | 121 | ... |  391 | 275 |  14 | 211 |  11 |  97 |  99 | 110 | 109 | 101 |\n",
       "| 129 | 114 |  86 |  99 | 104 | 121 | 118 | 118 | 113 |  98 | ... |  998 | 515 |  12 | 343 |   2 | 102 | 104 | 105 | 123 | 110 |\n",
       "| 124 | 135 | 105 | 107 | 110 | 142 | 111 | 110 | 114 | 103 | ... | 1114 | 331 | -14 | 336 |  -3 | 112 | 109 | 122 | 139 | 126 |\n",
       "| 127 | 122 | 110 | 108 | 110 | 123 |  84 |  87 |  93 |  97 | ... | 1252 | 337 | -20 | 375 |  -4 | 108 | 106 | 121 | 121 | 116 |\n",
       "| 112 | 118 |  93 |  90 | 113 | 121 | 112 | 107 | 113 | 113 | ... |  157 | 281 |  28 | 153 |  13 | 101 |  98 | 123 | 123 | 109 |\n",
       "| 116 | 108 |  90 |  96 |  97 | 116 | 118 | 114 | 125 | 105 | ... |  664 | 399 |  15 | 186 |  -4 |  95 |  97 | 108 | 116 | 101 |\n",
       "| 125 | 108 | 102 |  95 |  96 | 115 | 116 | 113 | 122 |  98 | ... |  867 | 336 |  -2 | 346 |   8 | 104 |  99 | 100 | 116 | 107 |\n",
       "| 117 | 108 | 110 | 111 | 107 | 102 | 116 | 113 | 119 | 105 | ... | 1147 | 329 | -16 | 217 | -18 | 108 | 109 | 119 | 106 | 111 |\n",
       "| 133 | 128 | 110 | 109 | 110 | 131 | 105 | 106 | 105 |  96 | ... | 1106 | 436 |  -2 | 437 |   9 | 102 | 104 | 118 | 135 | 123 |\n",
       "| 130 | 117 | 110 | 116 |  99 | 120 | 109 | 107 | 115 | 102 | ... | 1013 | 455 |   5 | 386 |   7 | 112 | 112 | 101 | 122 | 123 |\n",
       "| 141 | 118 | 116 | 118 | 106 | 116 | 113 | 114 | 118 |  90 | ... | 1391 | 499 |  -8 | 555 |  12 | 114 | 113 | 108 | 118 | 120 |\n",
       "| 131 | 119 | 110 | 115 | 111 | 115 |  99 |  98 | 102 | 104 | ... |  858 | 394 |   5 | 424 |  17 | 114 | 116 | 109 | 117 | 118 |\n",
       "| 127 | 121 | 122 | 115 | 107 | 119 | 107 | 105 | 114 | 103 | ... | 1120 | 334 | -14 | 385 |   2 | 112 | 112 | 113 | 119 | 121 |\n",
       "| 137 | 127 | 117 | 114 | 110 | 127 | 100 | 100 | 107 | 100 | ... | 1313 | 510 |  -3 | 483 |   6 | 111 | 111 | 114 | 125 | 125 |\n",
       "| 128 | 116 | 110 | 104 | 101 | 120 | 122 | 116 | 130 | 107 | ... |  958 | 518 |  15 | 332 |   2 | 104 | 102 | 112 | 119 | 112 |\n",
       "| 131 | 111 | 111 | 102 | 102 | 112 | 115 | 111 | 114 | 109 | ... |  921 | 493 |  14 | 386 |  10 | 106 | 102 | 106 | 112 | 108 |\n",
       "| 132 | 116 | 120 | 113 | 108 | 112 | 115 | 113 | 113 | 105 | ... | 1293 | 341 | -21 | 455 |   4 | 109 | 109 | 105 | 113 | 115 |\n",
       "| 124 | 125 | 107 | 108 | 110 | 127 | 112 | 109 | 119 | 102 | ... | 1088 | 453 |   1 | 295 |  -7 | 109 | 107 | 113 | 127 | 122 |\n",
       "| 126 | 121 | 104 | 100 | 112 | 122 | 125 | 120 | 130 | 106 | ... |  930 | 392 |   1 | 351 |   6 | 103 | 100 | 117 | 124 | 114 |\n",
       "| 124 | 113 | 112 | 104 | 113 | 109 | 107 | 103 | 113 | 108 | ... | 1296 | 285 | -28 | 356 |  -7 | 109 | 105 | 115 | 110 | 109 |\n",
       "| 136 | 116 | 111 | 113 | 103 | 117 | 107 | 106 | 108 | 101 | ... | 1595 | 395 | -28 | 507 |  -1 | 106 | 106 | 105 | 118 | 117 |\n",
       "| 131 | 118 | 118 | 110 |  99 | 122 | 118 | 114 | 121 | 105 | ... |  975 | 511 |  13 | 383 |   8 | 104 | 102 | 106 | 124 | 119 |\n",
       "| 128 | 121 | 101 | 105 | 109 | 123 | 119 | 116 | 120 | 100 | ... | 1281 | 421 | -12 | 372 |  -5 | 109 | 108 | 118 | 124 | 117 |\n",
       "| 126 | 126 | 105 | 109 | 107 | 131 | 118 | 113 | 132 | 102 | ... | 1097 | 470 |   2 | 320 |  -4 | 106 | 104 | 121 | 128 | 121 |\n",
       "| 134 | 112 | 117 | 115 | 104 | 109 |  93 |  95 |  98 |  99 | ... | 1224 | 443 |  -7 | 465 |   8 | 109 | 110 | 106 | 113 | 118 |\n",
       "\n"
      ],
      "text/plain": [
       "     PI-PROD PI-POKR Prc Psm Pnr Pw  PI-PLOD CRj CRk PP  ... kg ml kg tł % tł\n",
       "1    137     127     121 113 106 128 109     107 110 101 ... 1370  577     2 \n",
       "2    126     123     109 113 103 128 114     114 113  94 ... 1209  358   -16 \n",
       "3    126     120     110 107 102 124 113     112 117  94 ...  982  368    -4 \n",
       "4    133     111     104 110  99 114 114     113 126  89 ... 1080  546    12 \n",
       "5    125     115      91  95 101 124 134     129 133 102 ...  516  501    36 \n",
       "6    135     115     111 112  99 118 122     124 119  80 ... 1069  554    13 \n",
       "7    138     121     109 105 108 123  99      98 107 107 ...  847  672    39 \n",
       "8    122     120     116 110 113 116 128     120 135 110 ...  380  284    16 \n",
       "9    129     118     102 112  96 125 110     107 113 105 ...  918  578    24 \n",
       "10   145     127     121 124 110 124 106     106 113  97 ... 1153  668    22 \n",
       "11   136     125     109 112 114 123 132     125 136 105 ... 1362  470   -10 \n",
       "12   132     122     107 113 110 121 116     114 116 100 ... 1041  496     8 \n",
       "13   133     109     103 104 100 111 121     116 127 104 ... 1156  564    10 \n",
       "14   121     118      97 108 105 123 115     113 119 103 ...  992  347    -7 \n",
       "15   140     124     120 118 103 125 107     105 106 107 ... 1277  667    16 \n",
       "16   122     125     124 114 106 125 116     113 116 104 ... 1076  391    -6 \n",
       "17   134     118     115 107 104 120 121     118 125  98 ... 1016  525    13 \n",
       "18   130     120     115 114 112 115 112     109 117 102 ...  585  513    33 \n",
       "19   130     112     107 105 111 109  98      99 108  97 ...  799  470    17 \n",
       "20   123     116     111 101 105 118 120     116 124 103 ...  711  401    13 \n",
       "21   134     111     106 104 101 112 100      97 105 114 ...  987  527    14 \n",
       "22   121     121     126 115 107 117 104     104 108  98 ...  997  353    -6 \n",
       "23   112     108      90  93 109 109 123     117 130 111 ...  506  185    -3 \n",
       "24   127     117     106 108 111 115 125     121 124 101 ...  711  462    21 \n",
       "25   125     131     117 114 113 131 124     119 122 111 ...  897  419     6 \n",
       "26   133     119     101 103 114 118 127     120 124 112 ...  854  537    22 \n",
       "27   131     121     112 115 117 114 121     118 124 100 ... 1026  448     3 \n",
       "28   139     125     111 116 113 123  99     100  96 104 ...  951  802    48 \n",
       "29   119     121     111 107 106 122 111     105 125 113 ...  923  193   -22 \n",
       "30   133     125     116 112 109 126 122     120 125  93 ...  965  490    11 \n",
       "...  ...     ...     ... ... ... ... ...     ... ... ...     ...   ...   ... \n",
       "1663 120     116     105 106 110 114 117     114 113 104 ... 1078  280   -19 \n",
       "1664 123     117     100 105 111 117 126     120 129 108 ...  540  495    34 \n",
       "1665 136     124     112 116 115 120 103     105 104  92 ...  884  612    30 \n",
       "1666 136     111     100 105 110 108 115     116 110  94 ... 1367  490    -8 \n",
       "1667 128     111      99 111 103 112 106     102 114 109 ... 1361  421   -15 \n",
       "1668 115     105      90  90 108 106 110     104 111 121 ...  391  275    14 \n",
       "1669 129     114      86  99 104 121 118     118 113  98 ...  998  515    12 \n",
       "1670 124     135     105 107 110 142 111     110 114 103 ... 1114  331   -14 \n",
       "1671 127     122     110 108 110 123  84      87  93  97 ... 1252  337   -20 \n",
       "1672 112     118      93  90 113 121 112     107 113 113 ...  157  281    28 \n",
       "1673 116     108      90  96  97 116 118     114 125 105 ...  664  399    15 \n",
       "1674 125     108     102  95  96 115 116     113 122  98 ...  867  336    -2 \n",
       "1675 117     108     110 111 107 102 116     113 119 105 ... 1147  329   -16 \n",
       "1676 133     128     110 109 110 131 105     106 105  96 ... 1106  436    -2 \n",
       "1677 130     117     110 116  99 120 109     107 115 102 ... 1013  455     5 \n",
       "1678 141     118     116 118 106 116 113     114 118  90 ... 1391  499    -8 \n",
       "1679 131     119     110 115 111 115  99      98 102 104 ...  858  394     5 \n",
       "1680 127     121     122 115 107 119 107     105 114 103 ... 1120  334   -14 \n",
       "1681 137     127     117 114 110 127 100     100 107 100 ... 1313  510    -3 \n",
       "1682 128     116     110 104 101 120 122     116 130 107 ...  958  518    15 \n",
       "1683 131     111     111 102 102 112 115     111 114 109 ...  921  493    14 \n",
       "1684 132     116     120 113 108 112 115     113 113 105 ... 1293  341   -21 \n",
       "1685 124     125     107 108 110 127 112     109 119 102 ... 1088  453     1 \n",
       "1686 126     121     104 100 112 122 125     120 130 106 ...  930  392     1 \n",
       "1687 124     113     112 104 113 109 107     103 113 108 ... 1296  285   -28 \n",
       "1688 136     116     111 113 103 117 107     106 108 101 ... 1595  395   -28 \n",
       "1689 131     118     118 110  99 122 118     114 121 105 ...  975  511    13 \n",
       "1690 128     121     101 105 109 123 119     116 120 100 ... 1281  421   -12 \n",
       "1691 126     126     105 109 107 131 118     113 132 102 ... 1097  470     2 \n",
       "1692 134     112     117 115 104 109  93      95  98  99 ... 1224  443    -7 \n",
       "     kg bi % bi rc  sm  nr  w   og \n",
       "1    452    1   115 114 109 127 123\n",
       "2    354   -4   115 113 104 123 123\n",
       "3    350    4   104 103 102 122 117\n",
       "4    410    7   106 106 101 112 112\n",
       "5    289   15   102 102 118 123 109\n",
       "6    433   10   111 107 103 117 118\n",
       "7    432   19   111 107 114 121 116\n",
       "8    313   24   110 107 119 114 115\n",
       "9    329    4   106 103 112 125 119\n",
       "10   556   21   116 115 114 124 129\n",
       "11   477    4   111 109 122 127 121\n",
       "12   398    7   110 108 116 119 119\n",
       "13   399    3   101 100 109 114 107\n",
       "14   276   -5   106 107 116 122 115\n",
       "15   478    7   117 116 110 123 127\n",
       "16   278   -8   111 109 111 124 124\n",
       "17   431   12   110 106 113 120 116\n",
       "18   361   21   113 111 117 111 119\n",
       "19   382   15   107 104 116 105 108\n",
       "20   299    8   101 100 107 117 109\n",
       "21   427   13   110 105 108 115 110\n",
       "22   273   -6   110 107 112 117 120\n",
       "23   189    3    97  88 113 111 104\n",
       "24   344   14   108 109 106 116 116\n",
       "25   325    4   112 109 120 126 123\n",
       "26   409   16   110 107 124 117 113\n",
       "27   401    8   113 115 118 112 122\n",
       "28   409   12   112 111 120 123 124\n",
       "29   303    0   108 107 116 122 119\n",
       "30   428   13   110 108 118 129 125\n",
       "...  ...   ...  ... ... ... ... ...\n",
       "1663 292    -7  111 108 119 115 112\n",
       "1664 253    10  104 102 122 116 110\n",
       "1665 433    17  112 109 122 118 123\n",
       "1666 475     4   99 101 115 110 109\n",
       "1667 365    -8  108 109 113 112 117\n",
       "1668 211    11   97  99 110 109 101\n",
       "1669 343     2  102 104 105 123 110\n",
       "1670 336    -3  112 109 122 139 126\n",
       "1671 375    -4  108 106 121 121 116\n",
       "1672 153    13  101  98 123 123 109\n",
       "1673 186    -4   95  97 108 116 101\n",
       "1674 346     8  104  99 100 116 107\n",
       "1675 217   -18  108 109 119 106 111\n",
       "1676 437     9  102 104 118 135 123\n",
       "1677 386     7  112 112 101 122 123\n",
       "1678 555    12  114 113 108 118 120\n",
       "1679 424    17  114 116 109 117 118\n",
       "1680 385     2  112 112 113 119 121\n",
       "1681 483     6  111 111 114 125 125\n",
       "1682 332     2  104 102 112 119 112\n",
       "1683 386    10  106 102 106 112 108\n",
       "1684 455     4  109 109 105 113 115\n",
       "1685 295    -7  109 107 113 127 122\n",
       "1686 351     6  103 100 117 124 114\n",
       "1687 356    -7  109 105 115 110 109\n",
       "1688 507    -1  106 106 105 118 117\n",
       "1689 383     8  104 102 106 124 119\n",
       "1690 372    -5  109 108 118 124 117\n",
       "1691 320    -4  106 104 121 128 121\n",
       "1692 465     8  109 110 106 113 118"
      ]
     },
     "metadata": {},
     "output_type": "display_data"
    }
   ],
   "source": [
    "train_do_pca"
   ]
  },
  {
   "cell_type": "code",
   "execution_count": 31,
   "id": "f1c48e8c",
   "metadata": {},
   "outputs": [
    {
     "data": {
      "text/plain": [
       "Importance of components:\n",
       "                         PC1    PC2    PC3     PC4     PC5     PC6     PC7\n",
       "Standard deviation     2.565 2.2815 1.6211 1.52851 1.33197 1.19649 0.97782\n",
       "Proportion of Variance 0.274 0.2169 0.1095 0.09735 0.07392 0.05965 0.03984\n",
       "Cumulative Proportion  0.274 0.4909 0.6004 0.69777 0.77170 0.83135 0.87118\n",
       "                           PC8     PC9    PC10    PC11    PC12    PC13    PC14\n",
       "Standard deviation     0.88550 0.76471 0.69696 0.59889 0.55303 0.43896 0.39653\n",
       "Proportion of Variance 0.03267 0.02437 0.02024 0.01494 0.01274 0.00803 0.00655\n",
       "Cumulative Proportion  0.90386 0.92822 0.94846 0.96341 0.97615 0.98418 0.99073\n",
       "                          PC15    PC16    PC17   PC18    PC19    PC20    PC21\n",
       "Standard deviation     0.33090 0.22732 0.17825 0.1551 0.03998 0.03990 0.03108\n",
       "Proportion of Variance 0.00456 0.00215 0.00132 0.0010 0.00007 0.00007 0.00004\n",
       "Cumulative Proportion  0.99529 0.99744 0.99877 0.9998 0.99984 0.99990 0.99994\n",
       "                          PC22    PC23      PC24\n",
       "Standard deviation     0.02877 0.02278 0.0003206\n",
       "Proportion of Variance 0.00003 0.00002 0.0000000\n",
       "Cumulative Proportion  0.99998 1.00000 1.0000000"
      ]
     },
     "metadata": {},
     "output_type": "display_data"
    }
   ],
   "source": [
    "omc.pca <- prcomp(train_do_pca, center = TRUE,scale. = TRUE)\n",
    "\n",
    "summary(omc.pca)\n"
   ]
  },
  {
   "cell_type": "code",
   "execution_count": 32,
   "id": "70883f5e",
   "metadata": {},
   "outputs": [
    {
     "data": {
      "text/html": [
       "<style>\n",
       ".list-inline {list-style: none; margin:0; padding: 0}\n",
       ".list-inline>li {display: inline-block}\n",
       ".list-inline>li:not(:last-child)::after {content: \"\\00b7\"; padding: 0 .5ex}\n",
       "</style>\n",
       "<ol class=list-inline><li>0.27403827638158</li><li>0.216890326980623</li><li>0.109496829749371</li><li>0.0973480729314423</li><li>0.0739223208226728</li><li>0.0596492738203027</li><li>0.0398386624778576</li><li>0.032671361767221</li><li>0.0243661131166225</li><li>0.0202395700078791</li><li>0.0149446899955977</li><li>0.0127432811239133</li><li>0.00802847124209914</li><li>0.00655163528069008</li><li>0.00456221652568425</li><li>0.00215307642615945</li><li>0.00132384520758188</li><li>0.0010026957175082</li><li>6.65995543634922e-05</li><li>6.63194293000801e-05</li><li>4.02523308630074e-05</li><li>3.44839624602553e-05</li><li>2.16208643075864e-05</li><li>4.28389917465834e-09</li></ol>\n"
      ],
      "text/latex": [
       "\\begin{enumerate*}\n",
       "\\item 0.27403827638158\n",
       "\\item 0.216890326980623\n",
       "\\item 0.109496829749371\n",
       "\\item 0.0973480729314423\n",
       "\\item 0.0739223208226728\n",
       "\\item 0.0596492738203027\n",
       "\\item 0.0398386624778576\n",
       "\\item 0.032671361767221\n",
       "\\item 0.0243661131166225\n",
       "\\item 0.0202395700078791\n",
       "\\item 0.0149446899955977\n",
       "\\item 0.0127432811239133\n",
       "\\item 0.00802847124209914\n",
       "\\item 0.00655163528069008\n",
       "\\item 0.00456221652568425\n",
       "\\item 0.00215307642615945\n",
       "\\item 0.00132384520758188\n",
       "\\item 0.0010026957175082\n",
       "\\item 6.65995543634922e-05\n",
       "\\item 6.63194293000801e-05\n",
       "\\item 4.02523308630074e-05\n",
       "\\item 3.44839624602553e-05\n",
       "\\item 2.16208643075864e-05\n",
       "\\item 4.28389917465834e-09\n",
       "\\end{enumerate*}\n"
      ],
      "text/markdown": [
       "1. 0.27403827638158\n",
       "2. 0.216890326980623\n",
       "3. 0.109496829749371\n",
       "4. 0.0973480729314423\n",
       "5. 0.0739223208226728\n",
       "6. 0.0596492738203027\n",
       "7. 0.0398386624778576\n",
       "8. 0.032671361767221\n",
       "9. 0.0243661131166225\n",
       "10. 0.0202395700078791\n",
       "11. 0.0149446899955977\n",
       "12. 0.0127432811239133\n",
       "13. 0.00802847124209914\n",
       "14. 0.00655163528069008\n",
       "15. 0.00456221652568425\n",
       "16. 0.00215307642615945\n",
       "17. 0.00132384520758188\n",
       "18. 0.0010026957175082\n",
       "19. 6.65995543634922e-05\n",
       "20. 6.63194293000801e-05\n",
       "21. 4.02523308630074e-05\n",
       "22. 3.44839624602553e-05\n",
       "23. 2.16208643075864e-05\n",
       "24. 4.28389917465834e-09\n",
       "\n",
       "\n"
      ],
      "text/plain": [
       " [1] 2.740383e-01 2.168903e-01 1.094968e-01 9.734807e-02 7.392232e-02\n",
       " [6] 5.964927e-02 3.983866e-02 3.267136e-02 2.436611e-02 2.023957e-02\n",
       "[11] 1.494469e-02 1.274328e-02 8.028471e-03 6.551635e-03 4.562217e-03\n",
       "[16] 2.153076e-03 1.323845e-03 1.002696e-03 6.659955e-05 6.631943e-05\n",
       "[21] 4.025233e-05 3.448396e-05 2.162086e-05 4.283899e-09"
      ]
     },
     "metadata": {},
     "output_type": "display_data"
    }
   ],
   "source": [
    "pr.var <- omc.pca$sdev^2\n",
    "pve <- pr.var / sum(pr.var)\n",
    "pve"
   ]
  },
  {
   "cell_type": "code",
   "execution_count": 33,
   "id": "9562ae60",
   "metadata": {},
   "outputs": [
    {
     "data": {
      "image/png": "[encoded data removed]",
      "text/plain": [
       "plot without title"
      ]
     },
     "metadata": {
      "image/png": {
       "height": 420,
       "width": 420
      }
     },
     "output_type": "display_data"
    }
   ],
   "source": [
    "# Plot cumulative proportion of variance explained\n",
    "plot(cumsum(pve), xlab = \"Principal Component\",\n",
    "     ylab = \"Cumulative Proportion of Variance Explained\",\n",
    "     ylim = c(0, 1), type = \"b\")"
   ]
  },
  {
   "cell_type": "markdown",
   "id": "9d8238b6",
   "metadata": {},
   "source": [
    "10 wyjasnia 95 % zmiennosci wariancji"
   ]
  },
  {
   "cell_type": "code",
   "execution_count": 34,
   "id": "c171daf7",
   "metadata": {
    "scrolled": false
   },
   "outputs": [
    {
     "data": {
      "image/png": "[encoded data removed]",
      "text/plain": [
       "plot without title"
      ]
     },
     "metadata": {
      "image/png": {
       "height": 420,
       "width": 420
      }
     },
     "output_type": "display_data"
    }
   ],
   "source": [
    "biplot(omc.pca)"
   ]
  },
  {
   "cell_type": "markdown",
   "id": "hidden-medium",
   "metadata": {},
   "source": [
    "## 4.3 Dane odstające"
   ]
  },
  {
   "cell_type": "markdown",
   "id": "defensive-monaco",
   "metadata": {},
   "source": [
    "### 4.3.1 Podejście jedno-wymiarowe "
   ]
  },
  {
   "cell_type": "markdown",
   "id": "abandoned-theme",
   "metadata": {},
   "source": [
    "To wspisy, które według metryki między kwantylowej\n",
    "są  poza zakresem Q3-Q1"
   ]
  },
  {
   "cell_type": "code",
   "execution_count": 35,
   "id": "previous-processing",
   "metadata": {},
   "outputs": [],
   "source": [
    "box_plot_odstajce <- function (zmienna,nazwa){\n",
    "  boxplot(zmienna, main = nazwa\n",
    "  )\n",
    "  out <- boxplot.stats(zmienna)$out\n",
    "  mtext(paste(\"Outliers: \", paste(out, collapse = \", \")))\n",
    "  out_ind <- which(zmienna %in% c(out))\n",
    "  return (out_ind)\n",
    "}\n",
    "cale_bez_odst_j <- cale_train"
   ]
  },
  {
   "cell_type": "code",
   "execution_count": 36,
   "id": "28f01728",
   "metadata": {},
   "outputs": [
    {
     "data": {
      "text/html": [
       "<style>\n",
       ".list-inline {list-style: none; margin:0; padding: 0}\n",
       ".list-inline>li {display: inline-block}\n",
       ".list-inline>li:not(:last-child)::after {content: \"\\00b7\"; padding: 0 .5ex}\n",
       "</style>\n",
       "<ol class=list-inline><li>'Województwo'</li><li>'Data urodzenia'</li><li>'PI-PROD'</li><li>'PI-POKR'</li><li>'Prc'</li><li>'Psm'</li><li>'Pnr'</li><li>'Pw'</li><li>'PI-PLOD'</li><li>'CRj'</li><li>'CRk'</li><li>'PP'</li><li>'OMC'</li><li>'WH-KSOM'</li><li>'WH-DLUG'</li><li>'IP'</li><li>'kg ml'</li><li>'kg tł'</li><li>'% tł'</li><li>'kg bi'</li><li>'% bi'</li><li>'rc'</li><li>'sm'</li><li>'nr'</li><li>'w'</li><li>'og'</li></ol>\n"
      ],
      "text/latex": [
       "\\begin{enumerate*}\n",
       "\\item 'Województwo'\n",
       "\\item 'Data urodzenia'\n",
       "\\item 'PI-PROD'\n",
       "\\item 'PI-POKR'\n",
       "\\item 'Prc'\n",
       "\\item 'Psm'\n",
       "\\item 'Pnr'\n",
       "\\item 'Pw'\n",
       "\\item 'PI-PLOD'\n",
       "\\item 'CRj'\n",
       "\\item 'CRk'\n",
       "\\item 'PP'\n",
       "\\item 'OMC'\n",
       "\\item 'WH-KSOM'\n",
       "\\item 'WH-DLUG'\n",
       "\\item 'IP'\n",
       "\\item 'kg ml'\n",
       "\\item 'kg tł'\n",
       "\\item '\\% tł'\n",
       "\\item 'kg bi'\n",
       "\\item '\\% bi'\n",
       "\\item 'rc'\n",
       "\\item 'sm'\n",
       "\\item 'nr'\n",
       "\\item 'w'\n",
       "\\item 'og'\n",
       "\\end{enumerate*}\n"
      ],
      "text/markdown": [
       "1. 'Województwo'\n",
       "2. 'Data urodzenia'\n",
       "3. 'PI-PROD'\n",
       "4. 'PI-POKR'\n",
       "5. 'Prc'\n",
       "6. 'Psm'\n",
       "7. 'Pnr'\n",
       "8. 'Pw'\n",
       "9. 'PI-PLOD'\n",
       "10. 'CRj'\n",
       "11. 'CRk'\n",
       "12. 'PP'\n",
       "13. 'OMC'\n",
       "14. 'WH-KSOM'\n",
       "15. 'WH-DLUG'\n",
       "16. 'IP'\n",
       "17. 'kg ml'\n",
       "18. 'kg tł'\n",
       "19. '% tł'\n",
       "20. 'kg bi'\n",
       "21. '% bi'\n",
       "22. 'rc'\n",
       "23. 'sm'\n",
       "24. 'nr'\n",
       "25. 'w'\n",
       "26. 'og'\n",
       "\n",
       "\n"
      ],
      "text/plain": [
       " [1] \"Województwo\"    \"Data urodzenia\" \"PI-PROD\"        \"PI-POKR\"       \n",
       " [5] \"Prc\"            \"Psm\"            \"Pnr\"            \"Pw\"            \n",
       " [9] \"PI-PLOD\"        \"CRj\"            \"CRk\"            \"PP\"            \n",
       "[13] \"OMC\"            \"WH-KSOM\"        \"WH-DLUG\"        \"IP\"            \n",
       "[17] \"kg ml\"          \"kg tł\"          \"% tł\"           \"kg bi\"         \n",
       "[21] \"% bi\"           \"rc\"             \"sm\"             \"nr\"            \n",
       "[25] \"w\"              \"og\"            "
      ]
     },
     "metadata": {},
     "output_type": "display_data"
    }
   ],
   "source": [
    "colnames(cale_bez_odst_j)"
   ]
  },
  {
   "cell_type": "markdown",
   "id": "reserved-belle",
   "metadata": {},
   "source": [
    "#### Zbieram wpisy odstające każdej zmiennej do odpowiedniej zmiennnych"
   ]
  },
  {
   "cell_type": "code",
   "execution_count": 37,
   "id": "beautiful-novelty",
   "metadata": {
    "scrolled": true
   },
   "outputs": [
    {
     "data": {
      "image/png": "[encoded data removed]",
      "text/plain": [
       "Plot with title \"PI-PROD\""
      ]
     },
     "metadata": {
      "image/png": {
       "height": 420,
       "width": 420
      }
     },
     "output_type": "display_data"
    },
    {
     "data": {
      "image/png": "[encoded data removed]",
      "text/plain": [
       "Plot with title \"PI-POKR\""
      ]
     },
     "metadata": {
      "image/png": {
       "height": 420,
       "width": 420
      }
     },
     "output_type": "display_data"
    },
    {
     "data": {
      "image/png": "[encoded data removed]",
      "text/plain": [
       "Plot with title \"Prc\""
      ]
     },
     "metadata": {
      "image/png": {
       "height": 420,
       "width": 420
      }
     },
     "output_type": "display_data"
    },
    {
     "data": {
      "image/png": "[encoded data removed]",
      "text/plain": [
       "Plot with title \"Psm\""
      ]
     },
     "metadata": {
      "image/png": {
       "height": 420,
       "width": 420
      }
     },
     "output_type": "display_data"
    },
    {
     "data": {
      "image/png": "[encoded data removed]",
      "text/plain": [
       "Plot with title \"Pnr\""
      ]
     },
     "metadata": {
      "image/png": {
       "height": 420,
       "width": 420
      }
     },
     "output_type": "display_data"
    },
    {
     "data": {
      "image/png": "[encoded data removed]",
      "text/plain": [
       "Plot with title \"Pw\""
      ]
     },
     "metadata": {
      "image/png": {
       "height": 420,
       "width": 420
      }
     },
     "output_type": "display_data"
    },
    {
     "data": {
      "image/png": "[encoded data removed]",
      "text/plain": [
       "Plot with title \"PI-PLOD\""
      ]
     },
     "metadata": {
      "image/png": {
       "height": 420,
       "width": 420
      }
     },
     "output_type": "display_data"
    },
    {
     "data": {
      "image/png": "[encoded data removed]",
      "text/plain": [
       "Plot with title \"CRj\""
      ]
     },
     "metadata": {
      "image/png": {
       "height": 420,
       "width": 420
      }
     },
     "output_type": "display_data"
    },
    {
     "data": {
      "image/png": "[encoded data removed]",
      "text/plain": [
       "Plot with title \"CRk\""
      ]
     },
     "metadata": {
      "image/png": {
       "height": 420,
       "width": 420
      }
     },
     "output_type": "display_data"
    },
    {
     "data": {
      "image/png": "[encoded data removed]",
      "text/plain": [
       "Plot with title \"PP\""
      ]
     },
     "metadata": {
      "image/png": {
       "height": 420,
       "width": 420
      }
     },
     "output_type": "display_data"
    },
    {
     "data": {
      "image/png": "[encoded data removed]",
      "text/plain": [
       "Plot with title \"WH-KSOM\""
      ]
     },
     "metadata": {
      "image/png": {
       "height": 420,
       "width": 420
      }
     },
     "output_type": "display_data"
    },
    {
     "data": {
      "image/png": "[encoded data removed]",
      "text/plain": [
       "Plot with title \"WH-DLUG\""
      ]
     },
     "metadata": {
      "image/png": {
       "height": 420,
       "width": 420
      }
     },
     "output_type": "display_data"
    },
    {
     "data": {
      "image/png": "[encoded data removed]",
      "text/plain": [
       "Plot with title \"IP\""
      ]
     },
     "metadata": {
      "image/png": {
       "height": 420,
       "width": 420
      }
     },
     "output_type": "display_data"
    },
    {
     "data": {
      "image/png": "[encoded data removed]",
      "text/plain": [
       "Plot with title \"kg ml\""
      ]
     },
     "metadata": {
      "image/png": {
       "height": 420,
       "width": 420
      }
     },
     "output_type": "display_data"
    },
    {
     "data": {
      "image/png": "[encoded data removed]",
      "text/plain": [
       "Plot with title \"kg tł\""
      ]
     },
     "metadata": {
      "image/png": {
       "height": 420,
       "width": 420
      }
     },
     "output_type": "display_data"
    },
    {
     "data": {
      "image/png": "[encoded data removed]",
      "text/plain": [
       "Plot with title \"% tł\""
      ]
     },
     "metadata": {
      "image/png": {
       "height": 420,
       "width": 420
      }
     },
     "output_type": "display_data"
    },
    {
     "data": {
      "image/png": "[encoded data removed]",
      "text/plain": [
       "Plot with title \"kg bi\""
      ]
     },
     "metadata": {
      "image/png": {
       "height": 420,
       "width": 420
      }
     },
     "output_type": "display_data"
    },
    {
     "data": {
      "image/png": "[encoded data removed]",
      "text/plain": [
       "Plot with title \"% bi\""
      ]
     },
     "metadata": {
      "image/png": {
       "height": 420,
       "width": 420
      }
     },
     "output_type": "display_data"
    },
    {
     "data": {
      "image/png": "[encoded data removed]",
      "text/plain": [
       "Plot with title \"rc\""
      ]
     },
     "metadata": {
      "image/png": {
       "height": 420,
       "width": 420
      }
     },
     "output_type": "display_data"
    },
    {
     "data": {
      "image/png": "[encoded data removed]",
      "text/plain": [
       "Plot with title \"sm\""
      ]
     },
     "metadata": {
      "image/png": {
       "height": 420,
       "width": 420
      }
     },
     "output_type": "display_data"
    },
    {
     "data": {
      "image/png": "[encoded data removed]",
      "text/plain": [
       "Plot with title \"w\""
      ]
     },
     "metadata": {
      "image/png": {
       "height": 420,
       "width": 420
      }
     },
     "output_type": "display_data"
    },
    {
     "data": {
      "image/png": "[encoded data removed]",
      "text/plain": [
       "Plot with title \"og\""
      ]
     },
     "metadata": {
      "image/png": {
       "height": 420,
       "width": 420
      }
     },
     "output_type": "display_data"
    }
   ],
   "source": [
    "PI_PROD = box_plot_odstajce(cale_bez_odst_j$\"PI-PROD\",\"PI-PROD\")\n",
    "PI_POKR = box_plot_odstajce(cale_bez_odst_j$\"PI-POKR\",\"PI-POKR\")\n",
    "Prc = box_plot_odstajce(cale_bez_odst_j$Prc,\"Prc\")\n",
    "Psm = box_plot_odstajce(cale_bez_odst_j$Psm,\"Psm\") \n",
    "Pnr = box_plot_odstajce(cale_bez_odst_j$Pnr,\"Pnr\")\n",
    "Pw = box_plot_odstajce(cale_bez_odst_j$Pw,\"Pw\")\n",
    "PI_PLOD = box_plot_odstajce(cale_bez_odst_j$\"PI-PLOD\",\"PI-PLOD\")\n",
    "CRj = box_plot_odstajce(cale_bez_odst_j$CRj,\"CRj\")\n",
    "CRk = box_plot_odstajce(cale_bez_odst_j$CRk,\"CRk\")\n",
    "PP = box_plot_odstajce(cale_bez_odst_j$PP,\"PP\")\n",
    "WH_KSOM = box_plot_odstajce(cale_bez_odst_j$\"WH-KSOM\",\"WH-KSOM\")\n",
    "WH_DLUG = box_plot_odstajce(cale_bez_odst_j$\"WH-DLUG\",\"WH-DLUG\")\n",
    "IP = box_plot_odstajce(cale_bez_odst_j$IP,\"IP\")\n",
    "kg_ml = box_plot_odstajce(cale_bez_odst_j$'kg ml','kg ml')\n",
    "kg_tĹ = box_plot_odstajce(cale_bez_odst_j$'kg tł','kg tł')\n",
    "X_tĹ = box_plot_odstajce(cale_bez_odst_j$'% tł','% tł')\n",
    "kg_bi = box_plot_odstajce(cale_bez_odst_j$'kg bi','kg bi')\n",
    "X_bi = box_plot_odstajce(cale_bez_odst_j$'% bi','% bi')\n",
    "rc = box_plot_odstajce(cale_bez_odst_j$rc,\"rc\")\n",
    "sm = box_plot_odstajce(cale_bez_odst_j$sm,\"sm\")\n",
    "w = box_plot_odstajce(cale_bez_odst_j$w,\"w\")\n",
    "og = box_plot_odstajce(cale_bez_odst_j$og,\"og\")"
   ]
  },
  {
   "cell_type": "markdown",
   "id": "marked-spouse",
   "metadata": {},
   "source": [
    "### 4.3.2 Usunięcie obserwacji odstających"
   ]
  },
  {
   "cell_type": "markdown",
   "id": "hungarian-atlantic",
   "metadata": {},
   "source": [
    "Tworzę wektor wszytkich odstjąych wpisów, do ich poźniejszego usunięcia"
   ]
  },
  {
   "cell_type": "code",
   "execution_count": 38,
   "id": "union-turner",
   "metadata": {},
   "outputs": [],
   "source": [
    "wiersze=c()\n",
    "wiersze = c(wiersze,PI_PROD)\n",
    "wiersze = c(wiersze,PI_POKR)\n",
    "wiersze = c(wiersze,Prc)\n",
    "wiersze = c(wiersze,Psm)\n",
    "wiersze = c(wiersze,Pnr)\n",
    "wiersze = c(wiersze,Pw)\n",
    "wiersze = c(wiersze,PI_PLOD)\n",
    "wiersze = c(wiersze,CRj)\n",
    "wiersze = c(wiersze,CRk)\n",
    "wiersze = c(wiersze,PP)\n",
    "wiersze = c(wiersze,WH_KSOM)\n",
    "wiersze = c(wiersze,WH_DLUG)\n",
    "wiersze = c(wiersze,IP)\n",
    "wiersze = c(wiersze,kg_ml)\n",
    "wiersze = c(wiersze,kg_tĹ)\n",
    "wiersze = c(wiersze,X_tĹ)\n",
    "wiersze = c(wiersze,kg_bi)\n",
    "wiersze = c(wiersze,X_bi)\n",
    "wiersze = c(wiersze,rc)\n",
    "wiersze = c(wiersze,sm)\n",
    "wiersze = c(wiersze,w)\n",
    "wiersze = c(wiersze,og)"
   ]
  },
  {
   "cell_type": "code",
   "execution_count": 39,
   "id": "daily-scheduling",
   "metadata": {
    "scrolled": true
   },
   "outputs": [
    {
     "data": {
      "text/plain": [
       "wiersze\n",
       "   5    6   10   23   28   38   42   45   47   61   77   87   91   98   99  134 \n",
       "   1    1    2    1    1    1    2    1    1    2    1    1    1    1    1    1 \n",
       " 136  139  145  151  154  165  169  170  172  173  174  178  179  182  184  188 \n",
       "   1    1    1    1    1    1    3    1    1    3    2    1    1    1    1    2 \n",
       " 202  212  237  243  250  276  283  285  298  326  348  351  362  364  371  374 \n",
       "   1    2    1    1    1    1    2    1    4    1    1    3    1    1    7    1 \n",
       " 378  380  382  383  385  390  391  396  415  428  429  431  463  472  473  503 \n",
       "   1    1    2    2    1    1    1    2    2    1    1    1    1    1    2    1 \n",
       " 511  514  518  522  528  543  566  586  610  615  617  619  633  634  649  654 \n",
       "   1    1    2    1    2    1    1    1    3    1    3    1    1    1    1    1 \n",
       " 658  661  666  686  691  697  698  702  705  713  716  722  726  728  729  731 \n",
       "   3    3    1    1    2    3    2    1    1    2    1    2    1    1    3    1 \n",
       " 734  754  760  772  776  791  793  794  814  816  836  837  879  882  887  890 \n",
       "   3    3    2    1    3    3    1    1    2    1    2    1    2    1    2    1 \n",
       " 894  899  907  913  921  935  943  948  957  970  984  985  990  993 1010 1017 \n",
       "   1    1    1    6    1    1    1    1    1    2    1    1    1    2    2    2 \n",
       "1018 1027 1028 1035 1041 1044 1058 1060 1062 1065 1075 1090 1092 1100 1107 1127 \n",
       "   2    1    2    1    1    2    1    1    1    1    1    3    1    3    1    3 \n",
       "1145 1154 1158 1165 1185 1231 1238 1248 1308 1325 1347 1348 1360 1373 1376 1378 \n",
       "   2    1    4    3    1    1    1    1    2    1    2    1    1    1    2    6 \n",
       "1382 1410 1445 1469 1470 1478 1480 1486 1531 1534 1546 1554 1559 1587 1596 1607 \n",
       "   1    1    2    3    1    1    3    2    1    1    3    1    2    1    2    1 \n",
       "1635 1647 1663 1664 1665 1666 1669 1704 1718 1721 1734 1737 1745 1769 1775 1781 \n",
       "   1    3    1    1    2    1    1    1    3    2    2    1    1    1    1    2 \n",
       "1787 1810 1811 1812 1818 1823 1824 1874 \n",
       "   1    1    1    1    1    1    4    1 "
      ]
     },
     "metadata": {},
     "output_type": "display_data"
    }
   ],
   "source": [
    "table(wiersze)"
   ]
  },
  {
   "cell_type": "code",
   "execution_count": 40,
   "id": "objective-davis",
   "metadata": {},
   "outputs": [
    {
     "data": {
      "text/html": [
       "200"
      ],
      "text/latex": [
       "200"
      ],
      "text/markdown": [
       "200"
      ],
      "text/plain": [
       "[1] 200"
      ]
     },
     "metadata": {},
     "output_type": "display_data"
    }
   ],
   "source": [
    "wiersze_u= unique(wiersze)\n",
    "length(wiersze_u)"
   ]
  },
  {
   "cell_type": "markdown",
   "id": "muslim-north",
   "metadata": {},
   "source": [
    "Wpisów odstających jednowymiarowo jest łącznie 200, poniżej je usuwam"
   ]
  },
  {
   "cell_type": "code",
   "execution_count": 41,
   "id": "satisfied-scroll",
   "metadata": {},
   "outputs": [],
   "source": [
    "cale_bez_odst_j$ID <- rownames(cale_bez_odst_j)\n",
    "cale_bez_odst_j <- cale_bez_odst_j[!cale_bez_odst_j$ID%in% as.vector(wiersze_u), ]\n",
    "cale_bez_odst_j$ID <- NULL"
   ]
  },
  {
   "cell_type": "code",
   "execution_count": 42,
   "id": "b6f074b9",
   "metadata": {},
   "outputs": [
    {
     "data": {
      "text/html": [
       "<style>\n",
       ".list-inline {list-style: none; margin:0; padding: 0}\n",
       ".list-inline>li {display: inline-block}\n",
       ".list-inline>li:not(:last-child)::after {content: \"\\00b7\"; padding: 0 .5ex}\n",
       "</style>\n",
       "<ol class=list-inline><li>1875</li><li>26</li></ol>\n"
      ],
      "text/latex": [
       "\\begin{enumerate*}\n",
       "\\item 1875\n",
       "\\item 26\n",
       "\\end{enumerate*}\n"
      ],
      "text/markdown": [
       "1. 1875\n",
       "2. 26\n",
       "\n",
       "\n"
      ],
      "text/plain": [
       "[1] 1875   26"
      ]
     },
     "metadata": {},
     "output_type": "display_data"
    }
   ],
   "source": [
    "dim(cale_train)"
   ]
  },
  {
   "cell_type": "markdown",
   "id": "handled-intellectual",
   "metadata": {},
   "source": [
    "### 4.3.3 Podejście wielowymiarowe"
   ]
  },
  {
   "cell_type": "code",
   "execution_count": 43,
   "id": "gentle-entrepreneur",
   "metadata": {},
   "outputs": [
    {
     "data": {
      "image/png": "[encoded data removed]",
      "text/plain": [
       "Plot with title \"Obs by Cooks distance One-Dim\""
      ]
     },
     "metadata": {
      "image/png": {
       "height": 420,
       "width": 420
      }
     },
     "output_type": "display_data"
    }
   ],
   "source": [
    "model_odst_w <- lm(OMC ~., data=cale_train)\n",
    "cooksd <- cooks.distance(model_odst_w)\n",
    "\n",
    "plot(cooksd, pch=\"*\", cex=2, main=\"Obs by Cooks distance One-Dim\")  # plot cook's distance\n",
    "abline(h = 4*mean(cooksd, na.rm=T), col=\"red\")  # add cutoff line\n",
    "text(x=1:length(cooksd)+1, y=cooksd, \n",
    "     labels=ifelse(cooksd>4*mean(cooksd, na.rm=T),names(cooksd),\"\"), col=\"red\")  # add labels\n",
    "\n",
    "wpisy=as.vector(ifelse(cooksd>4*mean(cooksd, na.rm=T),names(cooksd),\"\"))\n",
    "wpisy= wpisy[!wpisy==\"\"]\n",
    "wpisy=as.numeric(wpisy)"
   ]
  },
  {
   "cell_type": "code",
   "execution_count": 44,
   "id": "534b026d",
   "metadata": {},
   "outputs": [
    {
     "data": {
      "text/html": [
       "<style>\n",
       ".list-inline {list-style: none; margin:0; padding: 0}\n",
       ".list-inline>li {display: inline-block}\n",
       ".list-inline>li:not(:last-child)::after {content: \"\\00b7\"; padding: 0 .5ex}\n",
       "</style>\n",
       "<ol class=list-inline><li>61</li><li>68</li><li>70</li><li>97</li><li>104</li><li>169</li><li>179</li><li>190</li><li>244</li><li>251</li><li>252</li><li>256</li><li>267</li><li>271</li><li>284</li><li>300</li><li>306</li><li>323</li><li>348</li><li>366</li><li>416</li><li>417</li><li>442</li><li>446</li><li>477</li><li>491</li><li>494</li><li>511</li><li>531</li><li>545</li><li>566</li><li>570</li><li>583</li><li>589</li><li>622</li><li>661</li><li>675</li><li>684</li><li>689</li><li>694</li><li>741</li><li>764</li><li>766</li><li>794</li><li>797</li><li>800</li><li>824</li><li>833</li><li>873</li><li>874</li><li>882</li><li>884</li><li>893</li><li>936</li><li>937</li><li>992</li><li>1023</li><li>1035</li><li>1038</li><li>1047</li><li>1060</li><li>1113</li><li>1186</li><li>1194</li><li>1198</li><li>1220</li><li>1235</li><li>1283</li><li>1286</li><li>1289</li><li>1316</li><li>1348</li><li>1377</li><li>1383</li><li>1387</li><li>1394</li><li>1400</li><li>1446</li><li>1448</li><li>1450</li><li>1454</li><li>1455</li><li>1487</li><li>1508</li><li>1523</li><li>1549</li><li>1566</li><li>1615</li><li>1658</li><li>1696</li><li>1700</li><li>1732</li><li>1740</li><li>1759</li><li>1760</li><li>1799</li><li>1814</li><li>1841</li><li>1846</li><li>1851</li><li>1881</li></ol>\n"
      ],
      "text/latex": [
       "\\begin{enumerate*}\n",
       "\\item 61\n",
       "\\item 68\n",
       "\\item 70\n",
       "\\item 97\n",
       "\\item 104\n",
       "\\item 169\n",
       "\\item 179\n",
       "\\item 190\n",
       "\\item 244\n",
       "\\item 251\n",
       "\\item 252\n",
       "\\item 256\n",
       "\\item 267\n",
       "\\item 271\n",
       "\\item 284\n",
       "\\item 300\n",
       "\\item 306\n",
       "\\item 323\n",
       "\\item 348\n",
       "\\item 366\n",
       "\\item 416\n",
       "\\item 417\n",
       "\\item 442\n",
       "\\item 446\n",
       "\\item 477\n",
       "\\item 491\n",
       "\\item 494\n",
       "\\item 511\n",
       "\\item 531\n",
       "\\item 545\n",
       "\\item 566\n",
       "\\item 570\n",
       "\\item 583\n",
       "\\item 589\n",
       "\\item 622\n",
       "\\item 661\n",
       "\\item 675\n",
       "\\item 684\n",
       "\\item 689\n",
       "\\item 694\n",
       "\\item 741\n",
       "\\item 764\n",
       "\\item 766\n",
       "\\item 794\n",
       "\\item 797\n",
       "\\item 800\n",
       "\\item 824\n",
       "\\item 833\n",
       "\\item 873\n",
       "\\item 874\n",
       "\\item 882\n",
       "\\item 884\n",
       "\\item 893\n",
       "\\item 936\n",
       "\\item 937\n",
       "\\item 992\n",
       "\\item 1023\n",
       "\\item 1035\n",
       "\\item 1038\n",
       "\\item 1047\n",
       "\\item 1060\n",
       "\\item 1113\n",
       "\\item 1186\n",
       "\\item 1194\n",
       "\\item 1198\n",
       "\\item 1220\n",
       "\\item 1235\n",
       "\\item 1283\n",
       "\\item 1286\n",
       "\\item 1289\n",
       "\\item 1316\n",
       "\\item 1348\n",
       "\\item 1377\n",
       "\\item 1383\n",
       "\\item 1387\n",
       "\\item 1394\n",
       "\\item 1400\n",
       "\\item 1446\n",
       "\\item 1448\n",
       "\\item 1450\n",
       "\\item 1454\n",
       "\\item 1455\n",
       "\\item 1487\n",
       "\\item 1508\n",
       "\\item 1523\n",
       "\\item 1549\n",
       "\\item 1566\n",
       "\\item 1615\n",
       "\\item 1658\n",
       "\\item 1696\n",
       "\\item 1700\n",
       "\\item 1732\n",
       "\\item 1740\n",
       "\\item 1759\n",
       "\\item 1760\n",
       "\\item 1799\n",
       "\\item 1814\n",
       "\\item 1841\n",
       "\\item 1846\n",
       "\\item 1851\n",
       "\\item 1881\n",
       "\\end{enumerate*}\n"
      ],
      "text/markdown": [
       "1. 61\n",
       "2. 68\n",
       "3. 70\n",
       "4. 97\n",
       "5. 104\n",
       "6. 169\n",
       "7. 179\n",
       "8. 190\n",
       "9. 244\n",
       "10. 251\n",
       "11. 252\n",
       "12. 256\n",
       "13. 267\n",
       "14. 271\n",
       "15. 284\n",
       "16. 300\n",
       "17. 306\n",
       "18. 323\n",
       "19. 348\n",
       "20. 366\n",
       "21. 416\n",
       "22. 417\n",
       "23. 442\n",
       "24. 446\n",
       "25. 477\n",
       "26. 491\n",
       "27. 494\n",
       "28. 511\n",
       "29. 531\n",
       "30. 545\n",
       "31. 566\n",
       "32. 570\n",
       "33. 583\n",
       "34. 589\n",
       "35. 622\n",
       "36. 661\n",
       "37. 675\n",
       "38. 684\n",
       "39. 689\n",
       "40. 694\n",
       "41. 741\n",
       "42. 764\n",
       "43. 766\n",
       "44. 794\n",
       "45. 797\n",
       "46. 800\n",
       "47. 824\n",
       "48. 833\n",
       "49. 873\n",
       "50. 874\n",
       "51. 882\n",
       "52. 884\n",
       "53. 893\n",
       "54. 936\n",
       "55. 937\n",
       "56. 992\n",
       "57. 1023\n",
       "58. 1035\n",
       "59. 1038\n",
       "60. 1047\n",
       "61. 1060\n",
       "62. 1113\n",
       "63. 1186\n",
       "64. 1194\n",
       "65. 1198\n",
       "66. 1220\n",
       "67. 1235\n",
       "68. 1283\n",
       "69. 1286\n",
       "70. 1289\n",
       "71. 1316\n",
       "72. 1348\n",
       "73. 1377\n",
       "74. 1383\n",
       "75. 1387\n",
       "76. 1394\n",
       "77. 1400\n",
       "78. 1446\n",
       "79. 1448\n",
       "80. 1450\n",
       "81. 1454\n",
       "82. 1455\n",
       "83. 1487\n",
       "84. 1508\n",
       "85. 1523\n",
       "86. 1549\n",
       "87. 1566\n",
       "88. 1615\n",
       "89. 1658\n",
       "90. 1696\n",
       "91. 1700\n",
       "92. 1732\n",
       "93. 1740\n",
       "94. 1759\n",
       "95. 1760\n",
       "96. 1799\n",
       "97. 1814\n",
       "98. 1841\n",
       "99. 1846\n",
       "100. 1851\n",
       "101. 1881\n",
       "\n",
       "\n"
      ],
      "text/plain": [
       "  [1]   61   68   70   97  104  169  179  190  244  251  252  256  267  271  284\n",
       " [16]  300  306  323  348  366  416  417  442  446  477  491  494  511  531  545\n",
       " [31]  566  570  583  589  622  661  675  684  689  694  741  764  766  794  797\n",
       " [46]  800  824  833  873  874  882  884  893  936  937  992 1023 1035 1038 1047\n",
       " [61] 1060 1113 1186 1194 1198 1220 1235 1283 1286 1289 1316 1348 1377 1383 1387\n",
       " [76] 1394 1400 1446 1448 1450 1454 1455 1487 1508 1523 1549 1566 1615 1658 1696\n",
       " [91] 1700 1732 1740 1759 1760 1799 1814 1841 1846 1851 1881"
      ]
     },
     "metadata": {},
     "output_type": "display_data"
    }
   ],
   "source": [
    "wpisy"
   ]
  },
  {
   "cell_type": "code",
   "execution_count": 45,
   "id": "municipal-definition",
   "metadata": {},
   "outputs": [
    {
     "data": {
      "text/html": [
       "101"
      ],
      "text/latex": [
       "101"
      ],
      "text/markdown": [
       "101"
      ],
      "text/plain": [
       "[1] 101"
      ]
     },
     "metadata": {},
     "output_type": "display_data"
    }
   ],
   "source": [
    "length(wpisy)"
   ]
  },
  {
   "cell_type": "markdown",
   "id": "acoustic-perception",
   "metadata": {},
   "source": [
    "Odstających  wielowymiarowe wpisów jest 101"
   ]
  },
  {
   "cell_type": "code",
   "execution_count": 46,
   "id": "ultimate-bearing",
   "metadata": {},
   "outputs": [],
   "source": [
    "cale_bez_odst_w <- cale_train\n",
    "cale_bez_odst_w$ID <- 1:length(cale_bez_odst_w$OMC)\n",
    "cale_bez_odst_w <- cale_bez_odst_w[!cale_bez_odst_w$ID%in% wpisy, ]\n",
    "cale_bez_odst_w$ID <- NULL\n",
    "model_odst_w <-NULL"
   ]
  },
  {
   "cell_type": "markdown",
   "id": "therapeutic-output",
   "metadata": {},
   "source": [
    "### 4.3.4 Jednowymiarowe i wielowymiarowe"
   ]
  },
  {
   "cell_type": "code",
   "execution_count": 47,
   "id": "nasty-campaign",
   "metadata": {
    "scrolled": true
   },
   "outputs": [
    {
     "data": {
      "image/png": "[encoded data removed]",
      "text/plain": [
       "Plot with title \"Obs by Cooks distance One+Multi-Dim\""
      ]
     },
     "metadata": {
      "image/png": {
       "height": 420,
       "width": 420
      }
     },
     "output_type": "display_data"
    }
   ],
   "source": [
    "model_odst_j_i_w <- lm(OMC ~., data=cale_bez_odst_j)\n",
    "\n",
    "cooksd <- cooks.distance(model_odst_j_i_w)\n",
    "\n",
    "plot(cooksd, pch=\"*\", cex=2, main=\"Obs by Cooks distance One+Multi-Dim\")  # plot cook's distance\n",
    "abline(h = 4*mean(cooksd, na.rm=T), col=\"red\")  # add cutoff line\n",
    "text(x=1:length(cooksd)+1, y=cooksd, \n",
    "     labels=ifelse(cooksd>4*mean(cooksd, na.rm=T),names(cooksd),\"\"), col=\"red\")  # add labels\n",
    "\n",
    "\n",
    "wpisy=as.vector(ifelse(cooksd>4*mean(cooksd, na.rm=T),names(cooksd),\"\"))\n",
    "wpisy= wpisy[!wpisy==\"\"]\n",
    "wpisy=as.numeric(wpisy)"
   ]
  },
  {
   "cell_type": "code",
   "execution_count": 48,
   "id": "neutral-southwest",
   "metadata": {},
   "outputs": [
    {
     "data": {
      "text/html": [
       "88"
      ],
      "text/latex": [
       "88"
      ],
      "text/markdown": [
       "88"
      ],
      "text/plain": [
       "[1] 88"
      ]
     },
     "metadata": {},
     "output_type": "display_data"
    }
   ],
   "source": [
    "length(wpisy)"
   ]
  },
  {
   "cell_type": "markdown",
   "id": "retained-mambo",
   "metadata": {},
   "source": [
    "Odstających wielowymiarowych wpisów jest 88. O 13 mniej, po usunięciu odstających jednowymiarowo"
   ]
  },
  {
   "cell_type": "code",
   "execution_count": 49,
   "id": "diagnostic-particle",
   "metadata": {},
   "outputs": [],
   "source": [
    "cale_bez_odst_j_i_w <- cale_bez_odst_j\n",
    "cale_bez_odst_j_i_w$ID <-1:length(cale_bez_odst_j$OMC)\n",
    "cale_bez_odst_j_i_w <-cale_bez_odst_j_i_w[!cale_bez_odst_j_i_w$ID%in% wpisy, ]\n",
    "cale_bez_odst_j_i_w$ID <- NULL\n",
    "model_odst_j_i_w <- NULL"
   ]
  },
  {
   "cell_type": "markdown",
   "id": "tutorial-remedy",
   "metadata": {},
   "source": [
    "# 5. Modele"
   ]
  },
  {
   "cell_type": "markdown",
   "id": "careful-desire",
   "metadata": {},
   "source": [
    "## 5.1 Modele - budowa"
   ]
  },
  {
   "cell_type": "code",
   "execution_count": 50,
   "id": "4a41a47c",
   "metadata": {},
   "outputs": [],
   "source": [
    "train.control <- trainControl(method = \"cv\", number = 5,savePredictions = 'all')"
   ]
  },
  {
   "cell_type": "markdown",
   "id": "graduate-lucas",
   "metadata": {},
   "source": [
    "### 5.1.1 Pełny"
   ]
  },
  {
   "cell_type": "code",
   "execution_count": 51,
   "id": "rotary-treatment",
   "metadata": {
    "scrolled": true
   },
   "outputs": [
    {
     "name": "stdout",
     "output_type": "stream",
     "text": [
      "Linear Regression \n",
      "\n",
      "1875 samples\n",
      "  25 predictor\n",
      "\n",
      "No pre-processing\n",
      "Resampling: Cross-Validated (5 fold) \n",
      "Summary of sample sizes: 1500, 1501, 1500, 1500, 1499 \n",
      "Resampling results:\n",
      "\n",
      "  RMSE      Rsquared   MAE     \n",
      "  1.383562  0.9650407  1.109434\n",
      "\n",
      "Tuning parameter 'intercept' was held constant at a value of TRUE\n"
     ]
    }
   ],
   "source": [
    "model_pelny <- train(OMC ~., data=cale_train, method = \"lm\",\n",
    "               trControl = train.control)\n",
    "# Summarize the results\n",
    "print(model_pelny)\n"
   ]
  },
  {
   "cell_type": "markdown",
   "id": "263477f1",
   "metadata": {},
   "source": [
    "### Bez daty urodzenia i województwa"
   ]
  },
  {
   "cell_type": "code",
   "execution_count": 52,
   "id": "f77ab6d3",
   "metadata": {},
   "outputs": [
    {
     "name": "stdout",
     "output_type": "stream",
     "text": [
      "Linear Regression \n",
      "\n",
      "1875 samples\n",
      "  23 predictor\n",
      "\n",
      "No pre-processing\n",
      "Resampling: Cross-Validated (5 fold) \n",
      "Summary of sample sizes: 1500, 1500, 1500, 1500, 1500 \n",
      "Resampling results:\n",
      "\n",
      "  RMSE      Rsquared   MAE     \n",
      "  1.393943  0.9645925  1.115236\n",
      "\n",
      "Tuning parameter 'intercept' was held constant at a value of TRUE\n"
     ]
    }
   ],
   "source": [
    "cale_train_b_asd<-cale_train\n",
    "cale_train_b_asd$'Województwo'<-NULL\n",
    "cale_train_b_asd$'Data urodzenia'<-NULL\n",
    "model_pelny_b_asd <- train(OMC ~., data=cale_train_b_asd, method = \"lm\",\n",
    "               trControl = train.control)\n",
    "# Summarize the results\n",
    "print(model_pelny_b_asd)\n"
   ]
  },
  {
   "cell_type": "markdown",
   "id": "d9e7d8ec",
   "metadata": {},
   "source": [
    "### Bez Województwa"
   ]
  },
  {
   "cell_type": "code",
   "execution_count": 53,
   "id": "710b74a2",
   "metadata": {},
   "outputs": [
    {
     "name": "stdout",
     "output_type": "stream",
     "text": [
      "Linear Regression \n",
      "\n",
      "1875 samples\n",
      "  24 predictor\n",
      "\n",
      "No pre-processing\n",
      "Resampling: Cross-Validated (5 fold) \n",
      "Summary of sample sizes: 1500, 1500, 1500, 1500, 1500 \n",
      "Resampling results:\n",
      "\n",
      "  RMSE      Rsquared   MAE     \n",
      "  1.389432  0.9647344  1.109743\n",
      "\n",
      "Tuning parameter 'intercept' was held constant at a value of TRUE\n"
     ]
    }
   ],
   "source": [
    "cale_train_b_asd<-cale_train\n",
    "cale_train_b_asd$'Województwo'<-NULL\n",
    "model_pelny_b_asd <- train(OMC ~., data=cale_train_b_asd, method = \"lm\",\n",
    "               trControl = train.control)\n",
    "# Summarize the results\n",
    "print(model_pelny_b_asd)\n"
   ]
  },
  {
   "cell_type": "markdown",
   "id": "7364cc9d",
   "metadata": {},
   "source": [
    "### Bez daty urodzenia"
   ]
  },
  {
   "cell_type": "code",
   "execution_count": 54,
   "id": "d13fd8e7",
   "metadata": {},
   "outputs": [
    {
     "name": "stdout",
     "output_type": "stream",
     "text": [
      "Linear Regression \n",
      "\n",
      "1875 samples\n",
      "  24 predictor\n",
      "\n",
      "No pre-processing\n",
      "Resampling: Cross-Validated (5 fold) \n",
      "Summary of sample sizes: 1499, 1500, 1500, 1500, 1501 \n",
      "Resampling results:\n",
      "\n",
      "  RMSE      Rsquared   MAE     \n",
      "  1.392805  0.9645451  1.116473\n",
      "\n",
      "Tuning parameter 'intercept' was held constant at a value of TRUE\n"
     ]
    }
   ],
   "source": [
    "cale_train_b_asd<-cale_train\n",
    "cale_train_b_asd$'Data urodzenia'<-NULL\n",
    "model_pelny_b_asd <- train(OMC ~., data=cale_train_b_asd, method = \"lm\",\n",
    "               trControl = train.control)\n",
    "# Summarize the results\n",
    "print(model_pelny_b_asd)\n"
   ]
  },
  {
   "cell_type": "markdown",
   "id": "2602b4cf",
   "metadata": {},
   "source": [
    "### korelacje powyzej 0"
   ]
  },
  {
   "cell_type": "code",
   "execution_count": 55,
   "id": "fd05b792",
   "metadata": {},
   "outputs": [
    {
     "name": "stdout",
     "output_type": "stream",
     "text": [
      "Linear Regression \n",
      "\n",
      "1875 samples\n",
      "  24 predictor\n",
      "\n",
      "No pre-processing\n",
      "Resampling: Cross-Validated (5 fold) \n",
      "Summary of sample sizes: 1499, 1500, 1500, 1500, 1501 \n",
      "Resampling results:\n",
      "\n",
      "  RMSE      Rsquared   MAE     \n",
      "  1.392805  0.9645451  1.116473\n",
      "\n",
      "Tuning parameter 'intercept' was held constant at a value of TRUE\n"
     ]
    }
   ],
   "source": [
    "\n",
    "model_pelny_b_kor_pon_0 <- train(OMC ~., data=cale_kor_pow_0, method = \"lm\",\n",
    "               trControl = train.control)\n",
    "# Summarize the results\n",
    "print(model_pelny_b_asd)\n"
   ]
  },
  {
   "cell_type": "markdown",
   "id": "397678bc",
   "metadata": {},
   "source": [
    "\n",
    "Z pelnych, najlepsza predykcje daje bez daty uro i wojewodztwa (MAE  1.120531)"
   ]
  },
  {
   "cell_type": "markdown",
   "id": "0ddcd021",
   "metadata": {},
   "source": [
    "### 5.1.2 Istotne"
   ]
  },
  {
   "cell_type": "code",
   "execution_count": 56,
   "id": "1ac48e2a",
   "metadata": {},
   "outputs": [],
   "source": [
    "model_test=lm(OMC~.,data=cale_train)"
   ]
  },
  {
   "cell_type": "code",
   "execution_count": 57,
   "id": "93232522",
   "metadata": {},
   "outputs": [
    {
     "name": "stdout",
     "output_type": "stream",
     "text": [
      "Start:  AIC=1216.77\n",
      "OMC ~ Województwo + `Data urodzenia` + `PI-PROD` + `PI-POKR` + \n",
      "    Prc + Psm + Pnr + Pw + `PI-PLOD` + CRj + CRk + PP + `WH-KSOM` + \n",
      "    `WH-DLUG` + IP + `kg ml` + `kg tł` + `% tł` + `kg bi` + `% bi` + \n",
      "    rc + sm + nr + w + og\n",
      "\n",
      "                   Df Sum of Sq    RSS    AIC\n",
      "- `WH-DLUG`         1      0.28 3430.9 1214.9\n",
      "- `PI-PROD`         1      0.66 3431.3 1215.1\n",
      "- `% bi`            1      0.71 3431.4 1215.2\n",
      "- `kg ml`           1      0.93 3431.6 1215.3\n",
      "- rc                1      1.19 3431.8 1215.4\n",
      "- `% tł`            1      2.82 3433.5 1216.3\n",
      "- `PI-POKR`         1      3.23 3433.9 1216.5\n",
      "<none>                          3430.7 1216.8\n",
      "- Pw                1      3.75 3434.4 1216.8\n",
      "- Pnr               1      5.26 3435.9 1217.6\n",
      "- sm                1      7.09 3437.7 1218.6\n",
      "- `kg bi`           1      7.12 3437.8 1218.7\n",
      "- IP                1      7.14 3437.8 1218.7\n",
      "- `kg tł`           1      7.30 3438.0 1218.8\n",
      "- Województwo      13     53.90 3484.6 1220.0\n",
      "- Prc               1     10.76 3441.4 1220.6\n",
      "- `WH-KSOM`         1     12.76 3443.4 1221.7\n",
      "- CRk               1     15.10 3445.8 1223.0\n",
      "- nr                1     19.24 3449.9 1225.2\n",
      "- og                1     23.50 3454.2 1227.6\n",
      "- Psm               1     23.77 3454.4 1227.7\n",
      "- w                 1     29.35 3460.0 1230.7\n",
      "- `Data urodzenia`  5     49.17 3479.8 1233.5\n",
      "- PP                1    621.55 4052.2 1527.0\n",
      "- `PI-PLOD`         1    963.39 4394.0 1678.8\n",
      "- CRj               1    998.79 4429.4 1693.9\n",
      "\n",
      "Step:  AIC=1214.92\n",
      "OMC ~ Województwo + `Data urodzenia` + `PI-PROD` + `PI-POKR` + \n",
      "    Prc + Psm + Pnr + Pw + `PI-PLOD` + CRj + CRk + PP + `WH-KSOM` + \n",
      "    IP + `kg ml` + `kg tł` + `% tł` + `kg bi` + `% bi` + rc + \n",
      "    sm + nr + w + og\n",
      "\n",
      "                   Df Sum of Sq    RSS    AIC\n",
      "- `PI-PROD`         1      0.65 3431.6 1213.3\n",
      "- `% bi`            1      0.77 3431.7 1213.3\n",
      "- `kg ml`           1      0.87 3431.8 1213.4\n",
      "- rc                1      1.16 3432.1 1213.5\n",
      "- `% tł`            1      2.85 3433.8 1214.5\n",
      "- `PI-POKR`         1      3.36 3434.3 1214.8\n",
      "<none>                          3430.9 1214.9\n",
      "- Pw                1      3.83 3434.8 1215.0\n",
      "- Pnr               1      5.34 3436.3 1215.8\n",
      "- sm                1      6.96 3437.9 1216.7\n",
      "- `kg bi`           1      7.09 3438.0 1216.8\n",
      "- IP                1      7.11 3438.0 1216.8\n",
      "- `kg tł`           1      7.28 3438.2 1216.9\n",
      "- Województwo      13     53.88 3484.8 1218.1\n",
      "- Prc               1     10.91 3441.8 1218.9\n",
      "- `WH-KSOM`         1     12.67 3443.6 1219.8\n",
      "- CRk               1     15.33 3446.3 1221.3\n",
      "- nr                1     19.22 3450.1 1223.4\n",
      "- og                1     23.23 3454.2 1225.6\n",
      "- Psm               1     23.49 3454.4 1225.7\n",
      "- w                 1     29.46 3460.4 1229.0\n",
      "- `Data urodzenia`  5     50.11 3481.0 1232.1\n",
      "- PP                1    622.79 4053.7 1525.7\n",
      "- `PI-PLOD`         1    966.23 4397.2 1678.2\n",
      "- CRj               1   1002.00 4432.9 1693.3\n",
      "\n",
      "Step:  AIC=1213.27\n",
      "OMC ~ Województwo + `Data urodzenia` + `PI-POKR` + Prc + Psm + \n",
      "    Pnr + Pw + `PI-PLOD` + CRj + CRk + PP + `WH-KSOM` + IP + \n",
      "    `kg ml` + `kg tł` + `% tł` + `kg bi` + `% bi` + rc + sm + \n",
      "    nr + w + og\n",
      "\n",
      "                   Df Sum of Sq    RSS    AIC\n",
      "- `% bi`            1      0.80 3432.4 1211.7\n",
      "- `kg ml`           1      0.89 3432.5 1211.8\n",
      "- rc                1      1.23 3432.8 1211.9\n",
      "- `% tł`            1      2.98 3434.6 1212.9\n",
      "- `PI-POKR`         1      3.35 3434.9 1213.1\n",
      "<none>                          3431.6 1213.3\n",
      "- Pw                1      3.81 3435.4 1213.4\n",
      "- Pnr               1      5.35 3436.9 1214.2\n",
      "- sm                1      7.09 3438.7 1215.1\n",
      "- `kg bi`           1      7.15 3438.7 1215.2\n",
      "- IP                1      7.21 3438.8 1215.2\n",
      "- `kg tł`           1      7.35 3438.9 1215.3\n",
      "- Województwo      13     54.19 3485.8 1216.7\n",
      "- Prc               1     10.91 3442.5 1217.2\n",
      "- `WH-KSOM`         1     12.66 3444.2 1218.2\n",
      "- CRk               1     15.25 3446.8 1219.6\n",
      "- nr                1     19.29 3450.9 1221.8\n",
      "- og                1     23.30 3454.9 1224.0\n",
      "- Psm               1     23.54 3455.1 1224.1\n",
      "- w                 1     29.36 3460.9 1227.2\n",
      "- `Data urodzenia`  5     49.85 3481.4 1230.3\n",
      "- PP                1    622.50 4054.1 1523.8\n",
      "- `PI-PLOD`         1    967.86 4399.4 1677.1\n",
      "- CRj               1   1003.54 4435.1 1692.3\n",
      "\n",
      "Step:  AIC=1211.71\n",
      "OMC ~ Województwo + `Data urodzenia` + `PI-POKR` + Prc + Psm + \n",
      "    Pnr + Pw + `PI-PLOD` + CRj + CRk + PP + `WH-KSOM` + IP + \n",
      "    `kg ml` + `kg tł` + `% tł` + `kg bi` + rc + sm + nr + w + \n",
      "    og\n",
      "\n",
      "                   Df Sum of Sq    RSS    AIC\n",
      "- rc                1      1.23 3433.6 1210.4\n",
      "- `% tł`            1      2.18 3434.6 1210.9\n",
      "- `PI-POKR`         1      3.19 3435.6 1211.5\n",
      "<none>                          3432.4 1211.7\n",
      "- Pw                1      3.69 3436.1 1211.7\n",
      "- Pnr               1      5.15 3437.5 1212.5\n",
      "- `kg ml`           1      5.50 3437.9 1212.7\n",
      "- sm                1      7.03 3439.4 1213.5\n",
      "- IP                1      7.14 3439.5 1213.6\n",
      "- `kg bi`           1      7.15 3439.5 1213.6\n",
      "- `kg tł`           1      7.24 3439.6 1213.7\n",
      "- Województwo      13     54.61 3487.0 1215.3\n",
      "- Prc               1     10.67 3443.1 1215.5\n",
      "- `WH-KSOM`         1     12.81 3445.2 1216.7\n",
      "- CRk               1     14.97 3447.4 1217.9\n",
      "- nr                1     19.55 3451.9 1220.4\n",
      "- og                1     23.21 3455.6 1222.3\n",
      "- Psm               1     23.75 3456.1 1222.6\n",
      "- w                 1     29.70 3462.1 1225.9\n",
      "- `Data urodzenia`  5     49.60 3482.0 1228.6\n",
      "- PP                1    621.85 4054.2 1521.9\n",
      "- `PI-PLOD`         1    972.66 4405.0 1677.5\n",
      "- CRj               1   1008.34 4440.7 1692.6\n",
      "\n",
      "Step:  AIC=1210.38\n",
      "OMC ~ Województwo + `Data urodzenia` + `PI-POKR` + Prc + Psm + \n",
      "    Pnr + Pw + `PI-PLOD` + CRj + CRk + PP + `WH-KSOM` + IP + \n",
      "    `kg ml` + `kg tł` + `% tł` + `kg bi` + sm + nr + w + og\n",
      "\n",
      "                   Df Sum of Sq    RSS    AIC\n",
      "- `% tł`            1      2.19 3435.8 1209.6\n",
      "- `PI-POKR`         1      3.34 3437.0 1210.2\n",
      "<none>                          3433.6 1210.4\n",
      "- Pw                1      3.69 3437.3 1210.4\n",
      "- Pnr               1      5.27 3438.9 1211.3\n",
      "- `kg ml`           1      5.49 3439.1 1211.4\n",
      "- sm                1      6.09 3439.7 1211.7\n",
      "- IP                1      7.33 3440.9 1212.4\n",
      "- `kg bi`           1      7.33 3440.9 1212.4\n",
      "- `kg tł`           1      7.42 3441.0 1212.4\n",
      "- Prc               1      9.75 3443.4 1213.7\n",
      "- Województwo      13     55.07 3488.7 1214.2\n",
      "- `WH-KSOM`         1     12.77 3446.4 1215.3\n",
      "- CRk               1     14.64 3448.3 1216.4\n",
      "- nr                1     19.19 3452.8 1218.8\n",
      "- og                1     22.46 3456.1 1220.6\n",
      "- Psm               1     22.70 3456.3 1220.7\n",
      "- w                 1     28.55 3462.2 1223.9\n",
      "- `Data urodzenia`  5     49.81 3483.4 1227.4\n",
      "- PP                1    622.76 4056.4 1520.9\n",
      "- `PI-PLOD`         1    980.36 4414.0 1679.3\n",
      "- CRj               1   1017.93 4451.5 1695.2\n",
      "\n",
      "Step:  AIC=1209.58\n",
      "OMC ~ Województwo + `Data urodzenia` + `PI-POKR` + Prc + Psm + \n",
      "    Pnr + Pw + `PI-PLOD` + CRj + CRk + PP + `WH-KSOM` + IP + \n",
      "    `kg ml` + `kg tł` + `kg bi` + sm + nr + w + og\n",
      "\n",
      "                   Df Sum of Sq    RSS    AIC\n",
      "- `PI-POKR`         1      3.21 3439.0 1209.3\n",
      "- Pw                1      3.51 3439.3 1209.5\n",
      "<none>                          3435.8 1209.6\n",
      "- Pnr               1      5.15 3441.0 1210.4\n",
      "- sm                1      6.18 3442.0 1211.0\n",
      "- `kg tł`           1      7.38 3443.2 1211.6\n",
      "- IP                1      7.40 3443.2 1211.6\n",
      "- `kg bi`           1      7.41 3443.2 1211.6\n",
      "- Prc               1      9.54 3445.3 1212.8\n",
      "- Województwo      13     55.56 3491.4 1213.7\n",
      "- `WH-KSOM`         1     12.94 3448.7 1214.6\n",
      "- CRk               1     14.66 3450.5 1215.6\n",
      "- nr                1     19.69 3455.5 1218.3\n",
      "- og                1     23.16 3459.0 1220.2\n",
      "- Psm               1     23.40 3459.2 1220.3\n",
      "- w                 1     28.41 3464.2 1223.0\n",
      "- `Data urodzenia`  5     51.47 3487.3 1227.5\n",
      "- `kg ml`           1     78.79 3514.6 1250.1\n",
      "- PP                1    620.91 4056.7 1519.1\n",
      "- `PI-PLOD`         1    983.42 4419.2 1679.5\n",
      "- CRj               1   1021.74 4457.5 1695.7\n",
      "\n",
      "Step:  AIC=1209.33\n",
      "OMC ~ Województwo + `Data urodzenia` + Prc + Psm + Pnr + Pw + \n",
      "    `PI-PLOD` + CRj + CRk + PP + `WH-KSOM` + IP + `kg ml` + `kg tł` + \n",
      "    `kg bi` + sm + nr + w + og\n",
      "\n",
      "                   Df Sum of Sq    RSS    AIC\n",
      "- Pw                1      0.30 3439.3 1207.5\n",
      "<none>                          3439.0 1209.3\n",
      "- Pnr               1      4.29 3443.3 1209.7\n",
      "- sm                1      6.03 3445.0 1210.6\n",
      "- `kg tł`           1      8.05 3447.1 1211.7\n",
      "- IP                1      8.07 3447.1 1211.7\n",
      "- `kg bi`           1      8.08 3447.1 1211.7\n",
      "- Województwo      13     55.41 3494.4 1213.3\n",
      "- Prc               1     11.70 3450.7 1213.7\n",
      "- CRk               1     13.70 3452.7 1214.8\n",
      "- `WH-KSOM`         1     14.00 3453.0 1215.0\n",
      "- nr                1     19.00 3458.0 1217.7\n",
      "- og                1     22.75 3461.8 1219.7\n",
      "- w                 1     29.40 3468.4 1223.3\n",
      "- `Data urodzenia`  5     51.85 3490.9 1227.4\n",
      "- Psm               1     53.43 3492.4 1236.2\n",
      "- `kg ml`           1     79.56 3518.6 1250.2\n",
      "- PP                1    617.70 4056.7 1517.1\n",
      "- `PI-PLOD`         1    996.37 4435.4 1684.4\n",
      "- CRj               1   1034.55 4473.6 1700.5\n",
      "\n",
      "Step:  AIC=1207.49\n",
      "OMC ~ Województwo + `Data urodzenia` + Prc + Psm + Pnr + `PI-PLOD` + \n",
      "    CRj + CRk + PP + `WH-KSOM` + IP + `kg ml` + `kg tł` + `kg bi` + \n",
      "    sm + nr + w + og\n",
      "\n",
      "                   Df Sum of Sq    RSS    AIC\n",
      "<none>                          3439.3 1207.5\n",
      "- Pnr               1      4.28 3443.6 1207.8\n",
      "- sm                1      5.83 3445.1 1208.7\n",
      "- `kg tł`           1      8.06 3447.4 1209.9\n",
      "- IP                1      8.08 3447.4 1209.9\n",
      "- `kg bi`           1      8.08 3447.4 1209.9\n",
      "- Województwo      13     55.78 3495.1 1211.7\n",
      "- Prc               1     12.65 3452.0 1212.4\n",
      "- CRk               1     13.86 3453.2 1213.0\n",
      "- `WH-KSOM`         1     13.92 3453.2 1213.1\n",
      "- nr                1     19.46 3458.8 1216.1\n",
      "- og                1     24.51 3463.8 1218.8\n",
      "- `Data urodzenia`  5     52.71 3492.0 1226.0\n",
      "- Psm               1     54.90 3494.2 1235.2\n",
      "- w                 1     63.72 3503.0 1239.9\n",
      "- `kg ml`           1     79.57 3518.9 1248.4\n",
      "- PP                1    617.82 4057.1 1515.2\n",
      "- `PI-PLOD`         1    996.27 4435.6 1682.5\n",
      "- CRj               1   1034.64 4473.9 1698.6\n"
     ]
    },
    {
     "data": {
      "text/plain": [
       "\n",
       "Call:\n",
       "lm(formula = OMC ~ Województwo + `Data urodzenia` + Prc + Psm + \n",
       "    Pnr + `PI-PLOD` + CRj + CRk + PP + `WH-KSOM` + IP + `kg ml` + \n",
       "    `kg tł` + `kg bi` + sm + nr + w + og, data = cale_train)\n",
       "\n",
       "Residuals:\n",
       "    Min      1Q  Median      3Q     Max \n",
       "-4.1693 -0.9631 -0.0187  0.9481  4.4623 \n",
       "\n",
       "Coefficients:\n",
       "                                  Estimate Std. Error t value Pr(>|t|)    \n",
       "(Intercept)                     76.0120962  3.3983329  22.367  < 2e-16 ***\n",
       "WojewództwoKUJAWSKO-POMORSKIE    0.0546156  0.2576129   0.212 0.832125    \n",
       "WojewództwoĹ\\201Ă“DZKIE             0.9076798  0.3261988   2.783 0.005448 ** \n",
       "WojewództwoĹšLÄ„SKIE            -0.4437295  0.4144165  -1.071 0.284430    \n",
       "WojewództwoĹšWIÄ\\230TOKRZYSKIE     -0.1832095  0.4573477  -0.401 0.688768    \n",
       "WojewództwoLUBUSKIE              0.2953634  0.3171796   0.931 0.351863    \n",
       "WojewództwoMAĹ\\201OPOLSKIE          0.3592861  0.4692619   0.766 0.443988    \n",
       "WojewództwoMAZOWIECKIE          -0.0141494  0.2796861  -0.051 0.959657    \n",
       "WojewództwoOPOLSKIE              0.2278699  0.2612843   0.872 0.383260    \n",
       "WojewództwoPODLASKIE             0.0851946  0.2668455   0.319 0.749561    \n",
       "WojewództwoPOMORSKIE             0.2067266  0.2833282   0.730 0.465705    \n",
       "WojewództwoWARMIĹ\\203SKO-MAZURSKIE -0.5277994  0.3806885  -1.386 0.165782    \n",
       "WojewództwoWIELKOPOLSKIE        -0.0122355  0.2515479  -0.049 0.961211    \n",
       "WojewództwoZACHODNIOPOMORSKIE    0.0571387  0.2632663   0.217 0.828203    \n",
       "`Data urodzenia`2017             0.7126492  0.3359170   2.122 0.034013 *  \n",
       "`Data urodzenia`2018             0.3348032  0.3035620   1.103 0.270208    \n",
       "`Data urodzenia`2019             0.7280901  0.3024415   2.407 0.016166 *  \n",
       "`Data urodzenia`2020             0.7773681  0.2997322   2.594 0.009575 ** \n",
       "`Data urodzenia`2021             0.2660293  0.3603304   0.738 0.460431    \n",
       "Prc                              0.0145759  0.0056030   2.601 0.009358 ** \n",
       "Psm                             -0.0836387  0.0154324  -5.420 6.76e-08 ***\n",
       "Pnr                              0.0146984  0.0097079   1.514 0.130182    \n",
       "`PI-PLOD`                        1.5913244  0.0689283  23.087  < 2e-16 ***\n",
       "CRj                             -1.5963095  0.0678500 -23.527  < 2e-16 ***\n",
       "CRk                              0.0398458  0.0146306   2.723 0.006521 ** \n",
       "PP                               0.3175454  0.0174664  18.180  < 2e-16 ***\n",
       "`WH-KSOM`                       -0.0209529  0.0076774  -2.729 0.006410 ** \n",
       "IP                              -0.6998334  0.3366331  -2.079 0.037763 *  \n",
       "`kg ml`                         -0.0012764  0.0001956  -6.524 8.79e-11 ***\n",
       "`kg tł`                          0.6990635  0.3366455   2.077 0.037981 *  \n",
       "`kg bi`                          1.3998556  0.6732416   2.079 0.037730 *  \n",
       "sm                               0.0229895  0.0130125   1.767 0.077442 .  \n",
       "nr                              -0.0271741  0.0084223  -3.226 0.001275 ** \n",
       "w                               -0.0683001  0.0116984  -5.838 6.22e-09 ***\n",
       "og                               0.0691828  0.0191066   3.621 0.000302 ***\n",
       "---\n",
       "Signif. codes:  0 '***' 0.001 '**' 0.01 '*' 0.05 '.' 0.1 ' ' 1\n",
       "\n",
       "Residual standard error: 1.367 on 1840 degrees of freedom\n",
       "Multiple R-squared:  0.9666,\tAdjusted R-squared:  0.966 \n",
       "F-statistic:  1566 on 34 and 1840 DF,  p-value: < 2.2e-16\n"
      ]
     },
     "metadata": {},
     "output_type": "display_data"
    }
   ],
   "source": [
    "a=step(model_test)\n",
    "summary(a)"
   ]
  },
  {
   "cell_type": "code",
   "execution_count": 58,
   "id": "272dbce9",
   "metadata": {},
   "outputs": [
    {
     "name": "stdout",
     "output_type": "stream",
     "text": [
      "Linear Regression \n",
      "\n",
      "1875 samples\n",
      "  18 predictor\n",
      "\n",
      "No pre-processing\n",
      "Resampling: Cross-Validated (5 fold) \n",
      "Summary of sample sizes: 1500, 1500, 1501, 1500, 1499 \n",
      "Resampling results:\n",
      "\n",
      "  RMSE      Rsquared   MAE    \n",
      "  1.387352  0.9652147  1.11393\n",
      "\n",
      "Tuning parameter 'intercept' was held constant at a value of TRUE\n"
     ]
    }
   ],
   "source": [
    "model_istotne<- train(OMC ~ Województwo + `Data urodzenia` + Prc + \n",
    "     Psm + Pnr + `PI-PLOD` + CRj + CRk + PP  + `WH-KSOM` +\n",
    "     IP + `kg ml` + `kg tł` + `kg bi` +  sm +\n",
    "    nr + w + og, data=cale_train, method = \"lm\",\n",
    "               trControl = train.control)\n",
    "# Summarize the results\n",
    "print(model_istotne)\n"
   ]
  },
  {
   "cell_type": "markdown",
   "id": "banner-cache",
   "metadata": {},
   "source": [
    "### 5.1.3 Z artefaktami"
   ]
  },
  {
   "cell_type": "code",
   "execution_count": 59,
   "id": "major-violation",
   "metadata": {
    "scrolled": false
   },
   "outputs": [
    {
     "name": "stdout",
     "output_type": "stream",
     "text": [
      "Linear Regression \n",
      "\n",
      "1875 samples\n",
      "  18 predictor\n",
      "\n",
      "No pre-processing\n",
      "Resampling: Cross-Validated (5 fold) \n",
      "Summary of sample sizes: 1499, 1500, 1500, 1501, 1500 \n",
      "Resampling results:\n",
      "\n",
      "  RMSE      Rsquared   MAE     \n",
      "  1.447347  0.9619516  1.160855\n",
      "\n",
      "Tuning parameter 'intercept' was held constant at a value of TRUE\n"
     ]
    }
   ],
   "source": [
    "model_artefakty <- train(OMC ~., data=cale_artefakty, method = \"lm\",\n",
    "               trControl = train.control)\n",
    "# Summarize the results\n",
    "print(model_artefakty)"
   ]
  },
  {
   "cell_type": "markdown",
   "id": "extensive-destination",
   "metadata": {},
   "source": [
    "### 5.1.4 Pełny bez obserwacji odstających jednowymiarowych"
   ]
  },
  {
   "cell_type": "code",
   "execution_count": 60,
   "id": "boring-parks",
   "metadata": {
    "scrolled": true
   },
   "outputs": [
    {
     "name": "stdout",
     "output_type": "stream",
     "text": [
      "Linear Regression \n",
      "\n",
      "1676 samples\n",
      "  25 predictor\n",
      "\n",
      "No pre-processing\n",
      "Resampling: Cross-Validated (5 fold) \n",
      "Summary of sample sizes: 1341, 1342, 1341, 1341, 1339 \n",
      "Resampling results:\n",
      "\n",
      "  RMSE      Rsquared   MAE     \n",
      "  1.386682  0.9636983  1.110978\n",
      "\n",
      "Tuning parameter 'intercept' was held constant at a value of TRUE\n"
     ]
    }
   ],
   "source": [
    "model_odst_j <- train(OMC ~., data=cale_bez_odst_j, method = \"lm\",\n",
    "               trControl = train.control)\n",
    "# Summarize the results\n",
    "print(model_odst_j)"
   ]
  },
  {
   "cell_type": "markdown",
   "id": "practical-exploration",
   "metadata": {},
   "source": [
    "### 5.1.5 Pełny bez obserwacji odstających wielowymiarowych"
   ]
  },
  {
   "cell_type": "code",
   "execution_count": 61,
   "id": "compound-spectacular",
   "metadata": {
    "scrolled": true
   },
   "outputs": [
    {
     "name": "stdout",
     "output_type": "stream",
     "text": [
      "Linear Regression \n",
      "\n",
      "1775 samples\n",
      "  25 predictor\n",
      "\n",
      "No pre-processing\n",
      "Resampling: Cross-Validated (5 fold) \n",
      "Summary of sample sizes: 1421, 1420, 1420, 1419, 1420 \n",
      "Resampling results:\n",
      "\n",
      "  RMSE      Rsquared   MAE     \n",
      "  1.387371  0.9649463  1.112552\n",
      "\n",
      "Tuning parameter 'intercept' was held constant at a value of TRUE\n"
     ]
    }
   ],
   "source": [
    "model_odst_w <- train(OMC ~., data=cale_bez_odst_w, method = \"lm\",\n",
    "               trControl = train.control)\n",
    "# Summarize the results\n",
    "print(model_odst_w)\n"
   ]
  },
  {
   "cell_type": "markdown",
   "id": "ready-killing",
   "metadata": {},
   "source": [
    "### 5.1.6 Pełny bez obserwacji odstających jednowymiarowych i wielowymiarowych"
   ]
  },
  {
   "cell_type": "code",
   "execution_count": 62,
   "id": "grateful-bachelor",
   "metadata": {
    "scrolled": true
   },
   "outputs": [
    {
     "name": "stdout",
     "output_type": "stream",
     "text": [
      "Linear Regression \n",
      "\n",
      "1600 samples\n",
      "  25 predictor\n",
      "\n",
      "No pre-processing\n",
      "Resampling: Cross-Validated (5 fold) \n",
      "Summary of sample sizes: 1280, 1279, 1279, 1281, 1281 \n",
      "Resampling results:\n",
      "\n",
      "  RMSE      Rsquared   MAE     \n",
      "  1.388086  0.9635019  1.113689\n",
      "\n",
      "Tuning parameter 'intercept' was held constant at a value of TRUE\n"
     ]
    }
   ],
   "source": [
    "model_odst_j_i_w <- train(OMC ~., data=cale_bez_odst_j_i_w, method = \"lm\",\n",
    "               trControl = train.control)\n",
    "# Summarize the results\n",
    "print(model_odst_j_i_w)\n"
   ]
  },
  {
   "cell_type": "markdown",
   "id": "407a6b0a",
   "metadata": {},
   "source": [
    "### 5.1.7 Model ze zmiennymi o korelacji powyzej >0"
   ]
  },
  {
   "cell_type": "code",
   "execution_count": 63,
   "id": "dcc6e87f",
   "metadata": {},
   "outputs": [
    {
     "name": "stdout",
     "output_type": "stream",
     "text": [
      "Linear Regression \n",
      "\n",
      "1875 samples\n",
      "  15 predictor\n",
      "\n",
      "No pre-processing\n",
      "Resampling: Cross-Validated (5 fold) \n",
      "Summary of sample sizes: 1500, 1501, 1499, 1500, 1500 \n",
      "Resampling results:\n",
      "\n",
      "  RMSE      Rsquared   MAE     \n",
      "  1.404263  0.9640182  1.127329\n",
      "\n",
      "Tuning parameter 'intercept' was held constant at a value of TRUE\n"
     ]
    }
   ],
   "source": [
    "model_z_p_0 <- train(OMC ~., data=cale_kor_pow_0, method = \"lm\",\n",
    "               trControl = train.control)\n",
    "# Summarize the results\n",
    "print(model_z_p_0)\n",
    "\n"
   ]
  },
  {
   "cell_type": "markdown",
   "id": "133eef8f",
   "metadata": {},
   "source": [
    "### 5.1.8 połączenie najlepszych modeli - bez wielowym i istotnych"
   ]
  },
  {
   "cell_type": "code",
   "execution_count": 64,
   "id": "c6517033",
   "metadata": {},
   "outputs": [
    {
     "name": "stdout",
     "output_type": "stream",
     "text": [
      "Linear Regression \n",
      "\n",
      "1775 samples\n",
      "  18 predictor\n",
      "\n",
      "No pre-processing\n",
      "Resampling: Cross-Validated (5 fold) \n",
      "Summary of sample sizes: 1420, 1419, 1419, 1422, 1420 \n",
      "Resampling results:\n",
      "\n",
      "  RMSE      Rsquared   MAE     \n",
      "  1.376191  0.9654116  1.107661\n",
      "\n",
      "Tuning parameter 'intercept' was held constant at a value of TRUE\n"
     ]
    }
   ],
   "source": [
    "model_odst_w_istotny <- train(OMC ~ Województwo + `Data urodzenia` + Prc + \n",
    "     Psm + Pnr + `PI-PLOD` + CRj + CRk + PP  + `WH-KSOM` +\n",
    "     IP + `kg ml` + `kg tł` + `kg bi` +  sm +\n",
    "    nr + w + og, data=cale_bez_odst_w, method = \"lm\",\n",
    "               trControl = train.control)\n",
    "# Summarize the results\n",
    "print(model_odst_w_istotny)\n"
   ]
  },
  {
   "cell_type": "code",
   "execution_count": 65,
   "id": "c5175826",
   "metadata": {},
   "outputs": [],
   "source": [
    "w_p = 1.120531\n",
    "w_p_i= 1.110359\n",
    "w_a=1.152562\n",
    "w_o_j=1.114986\n",
    "w_o_w=1.109547\n",
    "w_o_j_i_w=1.113535\n",
    "w_p_i_o_w=1.109222\n"
   ]
  },
  {
   "cell_type": "code",
   "execution_count": 66,
   "id": "bacterial-skiing",
   "metadata": {},
   "outputs": [],
   "source": [
    "wartosci=c(w_p,\n",
    "           w_p_i,\n",
    "w_a,\n",
    "w_o_j,\n",
    "w_o_w,\n",
    "w_o_j_i_w,\n",
    "           \n",
    "           w_p_i_o_w\n",
    ")"
   ]
  },
  {
   "cell_type": "markdown",
   "id": "classified-alfred",
   "metadata": {},
   "source": [
    "## 5.3 Wizualizacja Średniego błędu predykcji"
   ]
  },
  {
   "cell_type": "code",
   "execution_count": 67,
   "id": "controlling-concentrate",
   "metadata": {},
   "outputs": [
    {
     "data": {
      "image/png": "[encoded data removed]",
      "text/plain": [
       "Plot with title \"Linear model prediction of Interpregnancy Period\""
      ]
     },
     "metadata": {
      "image/png": {
       "height": 420,
       "width": 420
      }
     },
     "output_type": "display_data"
    }
   ],
   "source": [
    "plot(x=0,xlim=c(1,length(wartosci)),ylim=c(round(min(wartosci)-0.1,1),round(max(wartosci),1)), \n",
    "     main = \"Linear model prediction of Interpregnancy Period\",ylab=\"Mean Absolute Error\",xlab=\"Model type\")\n",
    "points(x=1, y=w_p,col=\"red\",pch=19)\n",
    "points(x=2, y=w_p_i,col=\"blue\",pch=19)\n",
    "points(x=3, y=w_a,col=\"green\",pch=19)\n",
    "points(x=4, y=w_o_j,col=\"brown\",pch=19)\n",
    "points(x=5, y=w_o_w,col=\"grey\",pch=19)\n",
    "points(x=6, y=w_o_j_i_w,col=\"orange\",pch=19)\n",
    "points(x=7, y=w_p_i_o_w,col=\"magenta\",pch=19)\n",
    "\n",
    "legend(\"topright\", inset=.01, title=\"Models\", ncol=1,\n",
    "       cex = 0.6,\n",
    "       c(\"Normal\",\"Choosed by AIC (Step down)\",\n",
    "         \"Feature Extraction\",\n",
    "         \"Normal, without one-dimensional outliers\",\n",
    "         \"Normal, without multi-dimensional outlier\",\n",
    "         \"Normal, without one- and multi-dimensional outlier\",\n",
    "         \"AIC, without multi-dimensional outlier\"\n",
    "        ),\n",
    "       fill=c(\"red\",\"blue\",\"green\",\n",
    "              \"brown\",\"grey\",\n",
    "              \"orange\", \"magenta\"             ))\n",
    "abline(h =min(wartosci),lty=15,col=\"black\")"
   ]
  },
  {
   "cell_type": "code",
   "execution_count": 68,
   "id": "optional-madonna",
   "metadata": {},
   "outputs": [
    {
     "data": {
      "text/html": [
       "1.109222"
      ],
      "text/latex": [
       "1.109222"
      ],
      "text/markdown": [
       "1.109222"
      ],
      "text/plain": [
       "[1] 1.109222"
      ]
     },
     "metadata": {},
     "output_type": "display_data"
    }
   ],
   "source": [
    "min(wartosci)"
   ]
  },
  {
   "cell_type": "markdown",
   "id": "lyric-binding",
   "metadata": {},
   "source": [
    "Najlepszy okazał się model wytrenowany na  zbiorze z usuniętymi obserwacjami wielowymiarowych ze zmiennym iistotnymi statystycznie.\n",
    "\n",
    "Przewiduje wartość orkesu międzyciążowego ze średnim błędem absolutnym 1.109222"
   ]
  },
  {
   "cell_type": "code",
   "execution_count": 69,
   "id": "815b6be9",
   "metadata": {},
   "outputs": [
    {
     "data": {
      "text/html": [
       "<table class=\"dataframe\">\n",
       "<caption>A data.frame: 6 × 5</caption>\n",
       "<thead>\n",
       "\t<tr><th></th><th scope=col>pred</th><th scope=col>obs</th><th scope=col>rowIndex</th><th scope=col>intercept</th><th scope=col>Resample</th></tr>\n",
       "\t<tr><th></th><th scope=col>&lt;dbl&gt;</th><th scope=col>&lt;int&gt;</th><th scope=col>&lt;int&gt;</th><th scope=col>&lt;lgl&gt;</th><th scope=col>&lt;chr&gt;</th></tr>\n",
       "</thead>\n",
       "<tbody>\n",
       "\t<tr><th scope=row>1</th><td>104.7361</td><td>105</td><td> 1</td><td>TRUE</td><td>Fold1</td></tr>\n",
       "\t<tr><th scope=row>2</th><td>107.4427</td><td>107</td><td> 9</td><td>TRUE</td><td>Fold1</td></tr>\n",
       "\t<tr><th scope=row>3</th><td>100.3377</td><td>101</td><td>10</td><td>TRUE</td><td>Fold1</td></tr>\n",
       "\t<tr><th scope=row>4</th><td>111.2892</td><td>111</td><td>13</td><td>TRUE</td><td>Fold1</td></tr>\n",
       "\t<tr><th scope=row>5</th><td>107.8730</td><td>108</td><td>16</td><td>TRUE</td><td>Fold1</td></tr>\n",
       "\t<tr><th scope=row>6</th><td>100.0112</td><td>101</td><td>19</td><td>TRUE</td><td>Fold1</td></tr>\n",
       "</tbody>\n",
       "</table>\n"
      ],
      "text/latex": [
       "A data.frame: 6 × 5\n",
       "\\begin{tabular}{r|lllll}\n",
       "  & pred & obs & rowIndex & intercept & Resample\\\\\n",
       "  & <dbl> & <int> & <int> & <lgl> & <chr>\\\\\n",
       "\\hline\n",
       "\t1 & 104.7361 & 105 &  1 & TRUE & Fold1\\\\\n",
       "\t2 & 107.4427 & 107 &  9 & TRUE & Fold1\\\\\n",
       "\t3 & 100.3377 & 101 & 10 & TRUE & Fold1\\\\\n",
       "\t4 & 111.2892 & 111 & 13 & TRUE & Fold1\\\\\n",
       "\t5 & 107.8730 & 108 & 16 & TRUE & Fold1\\\\\n",
       "\t6 & 100.0112 & 101 & 19 & TRUE & Fold1\\\\\n",
       "\\end{tabular}\n"
      ],
      "text/markdown": [
       "\n",
       "A data.frame: 6 × 5\n",
       "\n",
       "| <!--/--> | pred &lt;dbl&gt; | obs &lt;int&gt; | rowIndex &lt;int&gt; | intercept &lt;lgl&gt; | Resample &lt;chr&gt; |\n",
       "|---|---|---|---|---|---|\n",
       "| 1 | 104.7361 | 105 |  1 | TRUE | Fold1 |\n",
       "| 2 | 107.4427 | 107 |  9 | TRUE | Fold1 |\n",
       "| 3 | 100.3377 | 101 | 10 | TRUE | Fold1 |\n",
       "| 4 | 111.2892 | 111 | 13 | TRUE | Fold1 |\n",
       "| 5 | 107.8730 | 108 | 16 | TRUE | Fold1 |\n",
       "| 6 | 100.0112 | 101 | 19 | TRUE | Fold1 |\n",
       "\n"
      ],
      "text/plain": [
       "  pred     obs rowIndex intercept Resample\n",
       "1 104.7361 105  1       TRUE      Fold1   \n",
       "2 107.4427 107  9       TRUE      Fold1   \n",
       "3 100.3377 101 10       TRUE      Fold1   \n",
       "4 111.2892 111 13       TRUE      Fold1   \n",
       "5 107.8730 108 16       TRUE      Fold1   \n",
       "6 100.0112 101 19       TRUE      Fold1   "
      ]
     },
     "metadata": {},
     "output_type": "display_data"
    }
   ],
   "source": [
    "head(model_odst_w_istotny$pred)"
   ]
  },
  {
   "cell_type": "code",
   "execution_count": 70,
   "id": "4e1302d3",
   "metadata": {},
   "outputs": [],
   "source": [
    "data_frame=model_odst_w_istotny$pred\n",
    "data_frame$intercept<-NULL\n",
    "data_frame$rowIndex<-NULL"
   ]
  },
  {
   "cell_type": "code",
   "execution_count": 71,
   "id": "0b7c308e",
   "metadata": {},
   "outputs": [
    {
     "data": {
      "text/html": [
       "<table class=\"dataframe\">\n",
       "<caption>A data.frame: 6 × 3</caption>\n",
       "<thead>\n",
       "\t<tr><th></th><th scope=col>pred</th><th scope=col>obs</th><th scope=col>Resample</th></tr>\n",
       "\t<tr><th></th><th scope=col>&lt;dbl&gt;</th><th scope=col>&lt;int&gt;</th><th scope=col>&lt;chr&gt;</th></tr>\n",
       "</thead>\n",
       "<tbody>\n",
       "\t<tr><th scope=row>1</th><td>104.7361</td><td>105</td><td>Fold1</td></tr>\n",
       "\t<tr><th scope=row>2</th><td>107.4427</td><td>107</td><td>Fold1</td></tr>\n",
       "\t<tr><th scope=row>3</th><td>100.3377</td><td>101</td><td>Fold1</td></tr>\n",
       "\t<tr><th scope=row>4</th><td>111.2892</td><td>111</td><td>Fold1</td></tr>\n",
       "\t<tr><th scope=row>5</th><td>107.8730</td><td>108</td><td>Fold1</td></tr>\n",
       "\t<tr><th scope=row>6</th><td>100.0112</td><td>101</td><td>Fold1</td></tr>\n",
       "</tbody>\n",
       "</table>\n"
      ],
      "text/latex": [
       "A data.frame: 6 × 3\n",
       "\\begin{tabular}{r|lll}\n",
       "  & pred & obs & Resample\\\\\n",
       "  & <dbl> & <int> & <chr>\\\\\n",
       "\\hline\n",
       "\t1 & 104.7361 & 105 & Fold1\\\\\n",
       "\t2 & 107.4427 & 107 & Fold1\\\\\n",
       "\t3 & 100.3377 & 101 & Fold1\\\\\n",
       "\t4 & 111.2892 & 111 & Fold1\\\\\n",
       "\t5 & 107.8730 & 108 & Fold1\\\\\n",
       "\t6 & 100.0112 & 101 & Fold1\\\\\n",
       "\\end{tabular}\n"
      ],
      "text/markdown": [
       "\n",
       "A data.frame: 6 × 3\n",
       "\n",
       "| <!--/--> | pred &lt;dbl&gt; | obs &lt;int&gt; | Resample &lt;chr&gt; |\n",
       "|---|---|---|---|\n",
       "| 1 | 104.7361 | 105 | Fold1 |\n",
       "| 2 | 107.4427 | 107 | Fold1 |\n",
       "| 3 | 100.3377 | 101 | Fold1 |\n",
       "| 4 | 111.2892 | 111 | Fold1 |\n",
       "| 5 | 107.8730 | 108 | Fold1 |\n",
       "| 6 | 100.0112 | 101 | Fold1 |\n",
       "\n"
      ],
      "text/plain": [
       "  pred     obs Resample\n",
       "1 104.7361 105 Fold1   \n",
       "2 107.4427 107 Fold1   \n",
       "3 100.3377 101 Fold1   \n",
       "4 111.2892 111 Fold1   \n",
       "5 107.8730 108 Fold1   \n",
       "6 100.0112 101 Fold1   "
      ]
     },
     "metadata": {},
     "output_type": "display_data"
    }
   ],
   "source": [
    "head(data_frame)"
   ]
  },
  {
   "cell_type": "code",
   "execution_count": 72,
   "id": "4c67fd87",
   "metadata": {},
   "outputs": [],
   "source": [
    "#write.csv(data_frame,\"D:/STUDIA/ROK_II/Projekt/Predykcje_i błędy/Okres Między Ciążowy/OMC_R_model_b_odst_w_istotny.csv\", row.names = FALSE)"
   ]
  },
  {
   "cell_type": "code",
   "execution_count": 73,
   "id": "ade926fb",
   "metadata": {},
   "outputs": [
    {
     "name": "stderr",
     "output_type": "stream",
     "text": [
      "Warning message:\n",
      "\"package 'ggfortify' was built under R version 4.0.5\"\n"
     ]
    }
   ],
   "source": [
    "library(ggfortify)"
   ]
  },
  {
   "cell_type": "code",
   "execution_count": 74,
   "id": "00e22b3b",
   "metadata": {
    "scrolled": true
   },
   "outputs": [
    {
     "name": "stdout",
     "output_type": "stream",
     "text": [
      "\n",
      "Call:\n",
      "lm(formula = OMC ~ Województwo + `Data urodzenia` + Prc + Psm + \n",
      "    Pnr + `PI-PLOD` + CRj + CRk + PP + `WH-KSOM` + IP + `kg ml` + \n",
      "    `kg tł` + `kg bi` + sm + nr + w + og, data = cale_bez_odst_w)\n",
      "\n",
      "Coefficients:\n",
      "                    (Intercept)    WojewództwoKUJAWSKO-POMORSKIE  \n",
      "                      75.804448                         0.002178  \n",
      "           WojewództwoĹ\\201Ă“DZKIE             WojewództwoĹšLÄ„SKIE  \n",
      "                       0.773666                        -0.667665  \n",
      "    WojewództwoĹšWIÄ\\230TOKRZYSKIE              WojewództwoLUBUSKIE  \n",
      "                      -0.090452                         0.318839  \n",
      "        WojewództwoMAĹ\\201OPOLSKIE           WojewództwoMAZOWIECKIE  \n",
      "                       0.401207                        -0.056502  \n",
      "            WojewództwoOPOLSKIE             WojewództwoPODLASKIE  \n",
      "                       0.170100                         0.018850  \n",
      "           WojewództwoPOMORSKIE  WojewództwoWARMIĹ\\203SKO-MAZURSKIE  \n",
      "                       0.104832                        -0.543104  \n",
      "       WojewództwoWIELKOPOLSKIE    WojewództwoZACHODNIOPOMORSKIE  \n",
      "                      -0.051942                         0.001984  \n",
      "           `Data urodzenia`2017             `Data urodzenia`2018  \n",
      "                       0.755316                         0.415918  \n",
      "           `Data urodzenia`2019             `Data urodzenia`2020  \n",
      "                       0.811771                         0.859124  \n",
      "           `Data urodzenia`2021                              Prc  \n",
      "                       0.250222                         0.011630  \n",
      "                            Psm                              Pnr  \n",
      "                      -0.080995                         0.015546  \n",
      "                      `PI-PLOD`                              CRj  \n",
      "                       1.572000                        -1.578291  \n",
      "                            CRk                               PP  \n",
      "                       0.044231                         0.320348  \n",
      "                      `WH-KSOM`                               IP  \n",
      "                      -0.020474                        -0.641480  \n",
      "                        `kg ml`                          `kg tł`  \n",
      "                      -0.001260                         0.640698  \n",
      "                        `kg bi`                               sm  \n",
      "                       1.282969                         0.017700  \n",
      "                             nr                                w  \n",
      "                      -0.028130                        -0.070050  \n",
      "                             og  \n",
      "                       0.072616  \n",
      "\n"
     ]
    }
   ],
   "source": [
    "model_odst_w_istotny2 <- lm(OMC ~ Województwo + `Data urodzenia` + Prc + \n",
    "     Psm + Pnr + `PI-PLOD` + CRj + CRk + PP  + `WH-KSOM` +\n",
    "     IP + `kg ml` + `kg tł` + `kg bi` +  sm +\n",
    "    nr + w + og, data=cale_bez_odst_w)\n",
    "# Summarize the results\n",
    "print(model_odst_w_istotny2)\n"
   ]
  },
  {
   "cell_type": "code",
   "execution_count": 75,
   "id": "66cae6f0",
   "metadata": {},
   "outputs": [],
   "source": [
    "residua = resid(model_odst_w_istotny2)"
   ]
  },
  {
   "cell_type": "code",
   "execution_count": 92,
   "id": "500b23d3",
   "metadata": {},
   "outputs": [
    {
     "data": {
      "image/png": "[encoded data removed]",
      "text/plain": [
       "plot without title"
      ]
     },
     "metadata": {
      "image/png": {
       "height": 420,
       "width": 420
      }
     },
     "output_type": "display_data"
    }
   ],
   "source": [
    "autoplot(model_odst_w_istotny2)"
   ]
  },
  {
   "cell_type": "code",
   "execution_count": null,
   "id": "4e34b652",
   "metadata": {},
   "outputs": [],
   "source": [
    "aarange_("
   ]
  },
  {
   "cell_type": "code",
   "execution_count": 77,
   "id": "757ff8d1",
   "metadata": {},
   "outputs": [
    {
     "data": {
      "text/plain": [
       "\n",
       "\tShapiro-Wilk normality test\n",
       "\n",
       "data:  residua\n",
       "W = 0.99851, p-value = 0.1201\n"
      ]
     },
     "metadata": {},
     "output_type": "display_data"
    }
   ],
   "source": [
    "# Sprawdzam rozkład reszt modelu liniowego\n",
    "shapiro.test(residua)"
   ]
  },
  {
   "cell_type": "code",
   "execution_count": 78,
   "id": "ee15a21b",
   "metadata": {},
   "outputs": [
    {
     "data": {
      "image/png": "[encoded data removed]",
      "text/plain": [
       "Plot with title \"Histogram of residuas from Linear regresion of Interpregnancy Period \""
      ]
     },
     "metadata": {
      "image/png": {
       "height": 420,
       "width": 420
      }
     },
     "output_type": "display_data"
    }
   ],
   "source": [
    "hist(residua,\n",
    "main=\"Histogram of residuas from Linear regresion of Interpregnancy Period \",)"
   ]
  },
  {
   "cell_type": "code",
   "execution_count": 80,
   "id": "950279e1",
   "metadata": {},
   "outputs": [
    {
     "data": {
      "text/plain": [
       "\n",
       "Call:\n",
       "lm(formula = OMC ~ Województwo + `Data urodzenia` + Prc + Psm + \n",
       "    Pnr + `PI-PLOD` + CRj + CRk + PP + `WH-KSOM` + IP + `kg ml` + \n",
       "    `kg tł` + `kg bi` + sm + nr + w + og, data = cale_bez_odst_w)\n",
       "\n",
       "Residuals:\n",
       "    Min      1Q  Median      3Q     Max \n",
       "-4.1985 -0.9602 -0.0110  0.9422  4.4746 \n",
       "\n",
       "Coefficients:\n",
       "                                  Estimate Std. Error t value Pr(>|t|)    \n",
       "(Intercept)                     75.8044479  3.4551421  21.940  < 2e-16 ***\n",
       "WojewództwoKUJAWSKO-POMORSKIE    0.0021778  0.2645933   0.008 0.993434    \n",
       "WojewództwoĹ\\201Ă“DZKIE             0.7736658  0.3348100   2.311 0.020962 *  \n",
       "WojewództwoĹšLÄ„SKIE            -0.6676649  0.4450290  -1.500 0.133725    \n",
       "WojewództwoĹšWIÄ\\230TOKRZYSKIE     -0.0904522  0.4729612  -0.191 0.848355    \n",
       "WojewództwoLUBUSKIE              0.3188394  0.3261392   0.978 0.328399    \n",
       "WojewództwoMAĹ\\201OPOLSKIE          0.4012067  0.4864606   0.825 0.409628    \n",
       "WojewództwoMAZOWIECKIE          -0.0565024  0.2866421  -0.197 0.843758    \n",
       "WojewództwoOPOLSKIE              0.1700999  0.2685365   0.633 0.526534    \n",
       "WojewództwoPODLASKIE             0.0188499  0.2741794   0.069 0.945196    \n",
       "WojewództwoPOMORSKIE             0.1048320  0.2928976   0.358 0.720451    \n",
       "WojewództwoWARMIĹ\\203SKO-MAZURSKIE -0.5431036  0.3932105  -1.381 0.167394    \n",
       "WojewództwoWIELKOPOLSKIE        -0.0519418  0.2585397  -0.201 0.840797    \n",
       "WojewództwoZACHODNIOPOMORSKIE    0.0019842  0.2703537   0.007 0.994145    \n",
       "`Data urodzenia`2017             0.7553159  0.3507005   2.154 0.031398 *  \n",
       "`Data urodzenia`2018             0.4159182  0.3158068   1.317 0.188011    \n",
       "`Data urodzenia`2019             0.8117713  0.3143433   2.582 0.009892 ** \n",
       "`Data urodzenia`2020             0.8591243  0.3117554   2.756 0.005917 ** \n",
       "`Data urodzenia`2021             0.2502218  0.3726813   0.671 0.502049    \n",
       "Prc                              0.0116303  0.0057710   2.015 0.044027 *  \n",
       "Psm                             -0.0809948  0.0157582  -5.140 3.06e-07 ***\n",
       "Pnr                              0.0155463  0.0099228   1.567 0.117362    \n",
       "`PI-PLOD`                        1.5720004  0.0704918  22.300  < 2e-16 ***\n",
       "CRj                             -1.5782912  0.0694055 -22.740  < 2e-16 ***\n",
       "CRk                              0.0442308  0.0149485   2.959 0.003129 ** \n",
       "PP                               0.3203476  0.0178480  17.949  < 2e-16 ***\n",
       "`WH-KSOM`                       -0.0204740  0.0078288  -2.615 0.008994 ** \n",
       "IP                              -0.6414799  0.3673874  -1.746 0.080977 .  \n",
       "`kg ml`                         -0.0012598  0.0001985  -6.347 2.79e-10 ***\n",
       "`kg tł`                          0.6406978  0.3673971   1.744 0.081356 .  \n",
       "`kg bi`                          1.2829691  0.7347546   1.746 0.080967 .  \n",
       "sm                               0.0177001  0.0134097   1.320 0.187026    \n",
       "nr                              -0.0281300  0.0086067  -3.268 0.001103 ** \n",
       "w                               -0.0700504  0.0119476  -5.863 5.42e-09 ***\n",
       "og                               0.0726165  0.0195963   3.706 0.000217 ***\n",
       "---\n",
       "Signif. codes:  0 '***' 0.001 '**' 0.01 '*' 0.05 '.' 0.1 ' ' 1\n",
       "\n",
       "Residual standard error: 1.361 on 1740 degrees of freedom\n",
       "Multiple R-squared:  0.9668,\tAdjusted R-squared:  0.9662 \n",
       "F-statistic:  1492 on 34 and 1740 DF,  p-value: < 2.2e-16\n"
      ]
     },
     "metadata": {},
     "output_type": "display_data"
    }
   ],
   "source": [
    "summary(model_odst_w_istotny2)"
   ]
  },
  {
   "cell_type": "code",
   "execution_count": 93,
   "id": "955d91e2",
   "metadata": {},
   "outputs": [
    {
     "data": {
      "image/png": "[encoded data removed]",
      "text/plain": [
       "Plot with title \"\""
      ]
     },
     "metadata": {
      "image/png": {
       "height": 420,
       "width": 420
      }
     },
     "output_type": "display_data"
    }
   ],
   "source": [
    "plot(model_odst_w_istotny2,1)"
   ]
  },
  {
   "cell_type": "code",
   "execution_count": 94,
   "id": "6f8437ca",
   "metadata": {},
   "outputs": [
    {
     "data": {
      "image/png": "[encoded data removed]",
      "text/plain": [
       "Plot with title \"\""
      ]
     },
     "metadata": {
      "image/png": {
       "height": 420,
       "width": 420
      }
     },
     "output_type": "display_data"
    }
   ],
   "source": [
    "plot(model_odst_w_istotny2,2)"
   ]
  },
  {
   "cell_type": "code",
   "execution_count": 95,
   "id": "f7344116",
   "metadata": {},
   "outputs": [
    {
     "data": {
      "image/png": "[encoded data removed]",
      "text/plain": [
       "Plot with title \"\""
      ]
     },
     "metadata": {
      "image/png": {
       "height": 420,
       "width": 420
      }
     },
     "output_type": "display_data"
    }
   ],
   "source": [
    "plot(model_odst_w_istotny2,3)"
   ]
  },
  {
   "cell_type": "code",
   "execution_count": 97,
   "id": "5a18c941",
   "metadata": {},
   "outputs": [
    {
     "data": {
      "image/png": "[encoded data removed]",
      "text/plain": [
       "Plot with title \"\""
      ]
     },
     "metadata": {
      "image/png": {
       "height": 420,
       "width": 420
      }
     },
     "output_type": "display_data"
    }
   ],
   "source": [
    "plot(model_odst_w_istotny2,5)"
   ]
  },
  {
   "cell_type": "code",
   "execution_count": null,
   "id": "b5648d5d",
   "metadata": {},
   "outputs": [],
   "source": []
  }
 ],
 "metadata": {
  "kernelspec": {
   "display_name": "R",
   "language": "R",
   "name": "ir"
  },
  "language_info": {
   "codemirror_mode": "r",
   "file_extension": ".r",
   "mimetype": "text/x-r-source",
   "name": "R",
   "pygments_lexer": "r",
   "version": "4.0.3"
  }
 },
 "nbformat": 4,
 "nbformat_minor": 5
}
