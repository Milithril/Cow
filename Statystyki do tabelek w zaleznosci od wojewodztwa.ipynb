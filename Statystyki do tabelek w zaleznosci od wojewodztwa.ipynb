{
 "cells": [
  {
   "cell_type": "markdown",
   "id": "hairy-iraqi",
   "metadata": {},
   "source": [
    "## 1. Biblioteki"
   ]
  },
  {
   "cell_type": "code",
   "execution_count": 2,
   "id": "compressed-russell",
   "metadata": {},
   "outputs": [
    {
     "name": "stderr",
     "output_type": "stream",
     "text": [
      "Using TensorFlow backend.\n"
     ]
    }
   ],
   "source": [
    "import pandas as pd\n",
    "import numpy as np\n",
    "import csv\n",
    "import matplotlib.pyplot as plt\n",
    "%matplotlib inline\n",
    "import os\n",
    "import talos as ta\n",
    "from talos.model.early_stopper import early_stopper\n",
    "\n",
    "from sklearn.preprocessing import StandardScaler\n",
    "\n",
    "from sklearn.metrics import mean_absolute_error\n",
    "%load_ext tensorboard\n",
    "\n",
    "\n",
    "from tensorflow.keras import optimizers\n",
    "from tensorflow.keras.models import Sequential\n",
    "from tensorflow.keras.layers import Activation, Dense, Dropout\n",
    "from tensorflow.keras.layers import BatchNormalization\n",
    "from tensorflow.keras.callbacks import TensorBoard\n",
    "from sklearn.ensemble import RandomForestRegressor\n",
    "from sklearn.preprocessing import MinMaxScaler\n",
    "\n",
    "import seaborn as sns\n",
    "\n",
    "from sklearn.model_selection import train_test_split\n"
   ]
  },
  {
   "cell_type": "markdown",
   "id": "presidential-upset",
   "metadata": {},
   "source": [
    "\n",
    "## 2. Dane"
   ]
  },
  {
   "cell_type": "code",
   "execution_count": 3,
   "id": "humanitarian-desperate",
   "metadata": {
    "scrolled": true
   },
   "outputs": [
    {
     "data": {
      "text/plain": [
       "(1881, 27)"
      ]
     },
     "execution_count": 3,
     "metadata": {},
     "output_type": "execute_result"
    }
   ],
   "source": [
    "train_df=pd.read_csv('D:/STUDIA/ROK_II/Projekt/Dane_jalowka_i_krowa_train.csv')\n",
    "test_df=pd.read_csv('D:/STUDIA/ROK_II/Projekt/Dane_jalowka_i_krowa_test.csv')\n",
    "val_df=pd.read_csv('D:/STUDIA/ROK_II/Projekt/Dane_jalowka_i_krowa_val.csv')\n",
    "\n",
    "train_df.columns = ['id','Województwo', 'Data urodzenia', 'IE', 'Dokł. IE', 'PF', 'PI-PROD', 'PI-POKR', 'Prc', 'Psm', 'Pnr', 'Pw','PI-PLOD', 'CRj', 'CRk', 'PP', 'OMC', 'WH-KSOM', 'WH-DLUG', 'IP', 'kg ml', 'kg tł', '% tł', 'kg bi', '% bi', 'rc', 'sm', 'nr', 'w', 'og','kategoria']\n",
    "test_df.columns = ['id','Województwo', 'Data urodzenia', 'IE', 'Dokł. IE', 'PF', 'PI-PROD', 'PI-POKR', 'Prc', 'Psm', 'Pnr', 'Pw','PI-PLOD', 'CRj', 'CRk', 'PP', 'OMC', 'WH-KSOM', 'WH-DLUG', 'IP', 'kg ml', 'kg tł', '% tł', 'kg bi', '% bi', 'rc', 'sm', 'nr', 'w', 'og','kategoria']\n",
    "val_df.columns = ['id','Województwo', 'Data urodzenia', 'IE', 'Dokł. IE', 'PF', 'PI-PROD', 'PI-POKR', 'Prc', 'Psm', 'Pnr', 'Pw','PI-PLOD', 'CRj', 'CRk', 'PP', 'OMC', 'WH-KSOM', 'WH-DLUG', 'IP', 'kg ml', 'kg tł', '% tł', 'kg bi', '% bi', 'rc', 'sm', 'nr', 'w', 'og','kategoria']\n",
    "\n",
    "caly_df = pd.concat([train_df, test_df, val_df])\n",
    "caly_df['Województwo']=caly_df['Województwo'].astype('category')\n",
    "caly_df['Data urodzenia']=caly_df['Data urodzenia'].astype('category')\n",
    "\n",
    "del caly_df[\"id\"]\n",
    "del caly_df[\"PF\"]\n",
    "del caly_df[\"Dokł. IE\"]\n",
    "del caly_df['kategoria']\n",
    "\n",
    "caly_df.shape"
   ]
  },
  {
   "cell_type": "code",
   "execution_count": 4,
   "id": "22b3fcd3",
   "metadata": {},
   "outputs": [
    {
     "data": {
      "text/html": [
       "<div>\n",
       "<style scoped>\n",
       "    .dataframe tbody tr th:only-of-type {\n",
       "        vertical-align: middle;\n",
       "    }\n",
       "\n",
       "    .dataframe tbody tr th {\n",
       "        vertical-align: top;\n",
       "    }\n",
       "\n",
       "    .dataframe thead th {\n",
       "        text-align: right;\n",
       "    }\n",
       "</style>\n",
       "<table border=\"1\" class=\"dataframe\">\n",
       "  <thead>\n",
       "    <tr style=\"text-align: right;\">\n",
       "      <th></th>\n",
       "      <th>Województwo</th>\n",
       "      <th>Data urodzenia</th>\n",
       "      <th>IE</th>\n",
       "      <th>PI-PROD</th>\n",
       "      <th>PI-POKR</th>\n",
       "      <th>Prc</th>\n",
       "      <th>Psm</th>\n",
       "      <th>Pnr</th>\n",
       "      <th>Pw</th>\n",
       "      <th>PI-PLOD</th>\n",
       "      <th>...</th>\n",
       "      <th>kg ml</th>\n",
       "      <th>kg tł</th>\n",
       "      <th>% tł</th>\n",
       "      <th>kg bi</th>\n",
       "      <th>% bi</th>\n",
       "      <th>rc</th>\n",
       "      <th>sm</th>\n",
       "      <th>nr</th>\n",
       "      <th>w</th>\n",
       "      <th>og</th>\n",
       "    </tr>\n",
       "  </thead>\n",
       "  <tbody>\n",
       "    <tr>\n",
       "      <th>0</th>\n",
       "      <td>WIELKOPOLSKIE</td>\n",
       "      <td>2020</td>\n",
       "      <td>2120</td>\n",
       "      <td>137</td>\n",
       "      <td>127</td>\n",
       "      <td>121</td>\n",
       "      <td>113</td>\n",
       "      <td>106</td>\n",
       "      <td>128</td>\n",
       "      <td>109</td>\n",
       "      <td>...</td>\n",
       "      <td>1370</td>\n",
       "      <td>577</td>\n",
       "      <td>2</td>\n",
       "      <td>452</td>\n",
       "      <td>1</td>\n",
       "      <td>115.0</td>\n",
       "      <td>114.0</td>\n",
       "      <td>109.0</td>\n",
       "      <td>127.0</td>\n",
       "      <td>123.0</td>\n",
       "    </tr>\n",
       "    <tr>\n",
       "      <th>1</th>\n",
       "      <td>KUJAWSKO-POMORSKIE</td>\n",
       "      <td>2018</td>\n",
       "      <td>1912</td>\n",
       "      <td>126</td>\n",
       "      <td>123</td>\n",
       "      <td>109</td>\n",
       "      <td>113</td>\n",
       "      <td>103</td>\n",
       "      <td>128</td>\n",
       "      <td>114</td>\n",
       "      <td>...</td>\n",
       "      <td>1209</td>\n",
       "      <td>358</td>\n",
       "      <td>-16</td>\n",
       "      <td>354</td>\n",
       "      <td>-4</td>\n",
       "      <td>115.0</td>\n",
       "      <td>113.0</td>\n",
       "      <td>104.0</td>\n",
       "      <td>123.0</td>\n",
       "      <td>123.0</td>\n",
       "    </tr>\n",
       "    <tr>\n",
       "      <th>2</th>\n",
       "      <td>POMORSKIE</td>\n",
       "      <td>2020</td>\n",
       "      <td>2126</td>\n",
       "      <td>126</td>\n",
       "      <td>120</td>\n",
       "      <td>110</td>\n",
       "      <td>107</td>\n",
       "      <td>102</td>\n",
       "      <td>124</td>\n",
       "      <td>113</td>\n",
       "      <td>...</td>\n",
       "      <td>982</td>\n",
       "      <td>368</td>\n",
       "      <td>-4</td>\n",
       "      <td>350</td>\n",
       "      <td>4</td>\n",
       "      <td>104.0</td>\n",
       "      <td>103.0</td>\n",
       "      <td>102.0</td>\n",
       "      <td>122.0</td>\n",
       "      <td>117.0</td>\n",
       "    </tr>\n",
       "    <tr>\n",
       "      <th>3</th>\n",
       "      <td>KUJAWSKO-POMORSKIE</td>\n",
       "      <td>2020</td>\n",
       "      <td>2089</td>\n",
       "      <td>133</td>\n",
       "      <td>111</td>\n",
       "      <td>104</td>\n",
       "      <td>110</td>\n",
       "      <td>99</td>\n",
       "      <td>114</td>\n",
       "      <td>114</td>\n",
       "      <td>...</td>\n",
       "      <td>1080</td>\n",
       "      <td>546</td>\n",
       "      <td>12</td>\n",
       "      <td>410</td>\n",
       "      <td>7</td>\n",
       "      <td>106.0</td>\n",
       "      <td>106.0</td>\n",
       "      <td>101.0</td>\n",
       "      <td>112.0</td>\n",
       "      <td>112.0</td>\n",
       "    </tr>\n",
       "    <tr>\n",
       "      <th>4</th>\n",
       "      <td>ZACHODNIOPOMORSKIE</td>\n",
       "      <td>2020</td>\n",
       "      <td>2853</td>\n",
       "      <td>125</td>\n",
       "      <td>115</td>\n",
       "      <td>91</td>\n",
       "      <td>95</td>\n",
       "      <td>101</td>\n",
       "      <td>124</td>\n",
       "      <td>134</td>\n",
       "      <td>...</td>\n",
       "      <td>516</td>\n",
       "      <td>501</td>\n",
       "      <td>36</td>\n",
       "      <td>289</td>\n",
       "      <td>15</td>\n",
       "      <td>102.0</td>\n",
       "      <td>102.0</td>\n",
       "      <td>118.0</td>\n",
       "      <td>123.0</td>\n",
       "      <td>109.0</td>\n",
       "    </tr>\n",
       "  </tbody>\n",
       "</table>\n",
       "<p>5 rows × 27 columns</p>\n",
       "</div>"
      ],
      "text/plain": [
       "          Województwo Data urodzenia    IE  PI-PROD  PI-POKR  Prc  Psm  Pnr  \\\n",
       "0       WIELKOPOLSKIE           2020  2120      137      127  121  113  106   \n",
       "1  KUJAWSKO-POMORSKIE           2018  1912      126      123  109  113  103   \n",
       "2           POMORSKIE           2020  2126      126      120  110  107  102   \n",
       "3  KUJAWSKO-POMORSKIE           2020  2089      133      111  104  110   99   \n",
       "4  ZACHODNIOPOMORSKIE           2020  2853      125      115   91   95  101   \n",
       "\n",
       "    Pw  PI-PLOD  ...  kg ml  kg tł  % tł  kg bi  % bi     rc     sm     nr  \\\n",
       "0  128      109  ...   1370    577     2    452     1  115.0  114.0  109.0   \n",
       "1  128      114  ...   1209    358   -16    354    -4  115.0  113.0  104.0   \n",
       "2  124      113  ...    982    368    -4    350     4  104.0  103.0  102.0   \n",
       "3  114      114  ...   1080    546    12    410     7  106.0  106.0  101.0   \n",
       "4  124      134  ...    516    501    36    289    15  102.0  102.0  118.0   \n",
       "\n",
       "       w     og  \n",
       "0  127.0  123.0  \n",
       "1  123.0  123.0  \n",
       "2  122.0  117.0  \n",
       "3  112.0  112.0  \n",
       "4  123.0  109.0  \n",
       "\n",
       "[5 rows x 27 columns]"
      ]
     },
     "execution_count": 4,
     "metadata": {},
     "output_type": "execute_result"
    }
   ],
   "source": [
    "caly_df.head()"
   ]
  },
  {
   "cell_type": "code",
   "execution_count": 5,
   "id": "1db4b939",
   "metadata": {},
   "outputs": [
    {
     "name": "stdout",
     "output_type": "stream",
     "text": [
      "<class 'pandas.core.frame.DataFrame'>\n",
      "Int64Index: 1881 entries, 0 to 188\n",
      "Data columns (total 27 columns):\n",
      " #   Column          Non-Null Count  Dtype   \n",
      "---  ------          --------------  -----   \n",
      " 0   Województwo     1881 non-null   category\n",
      " 1   Data urodzenia  1881 non-null   category\n",
      " 2   IE              1881 non-null   int64   \n",
      " 3   PI-PROD         1881 non-null   int64   \n",
      " 4   PI-POKR         1881 non-null   int64   \n",
      " 5   Prc             1881 non-null   int64   \n",
      " 6   Psm             1881 non-null   int64   \n",
      " 7   Pnr             1881 non-null   int64   \n",
      " 8   Pw              1881 non-null   int64   \n",
      " 9   PI-PLOD         1881 non-null   int64   \n",
      " 10  CRj             1881 non-null   int64   \n",
      " 11  CRk             1881 non-null   int64   \n",
      " 12  PP              1881 non-null   int64   \n",
      " 13  OMC             1881 non-null   int64   \n",
      " 14  WH-KSOM         1881 non-null   int64   \n",
      " 15  WH-DLUG         1881 non-null   int64   \n",
      " 16  IP              1881 non-null   int64   \n",
      " 17  kg ml           1881 non-null   int64   \n",
      " 18  kg tł           1881 non-null   int64   \n",
      " 19  % tł            1881 non-null   int64   \n",
      " 20  kg bi           1881 non-null   int64   \n",
      " 21  % bi            1881 non-null   int64   \n",
      " 22  rc              1881 non-null   float64 \n",
      " 23  sm              1881 non-null   float64 \n",
      " 24  nr              1881 non-null   float64 \n",
      " 25  w               1881 non-null   float64 \n",
      " 26  og              1881 non-null   float64 \n",
      "dtypes: category(2), float64(5), int64(20)\n",
      "memory usage: 386.8 KB\n"
     ]
    }
   ],
   "source": [
    "caly_df.info()"
   ]
  },
  {
   "cell_type": "markdown",
   "id": "26512094",
   "metadata": {},
   "source": [
    "## 3. Usuwam mniejszości zmiennych kategorycznych"
   ]
  },
  {
   "cell_type": "code",
   "execution_count": 6,
   "id": "e9e25cdc",
   "metadata": {},
   "outputs": [
    {
     "data": {
      "text/plain": [
       "WIELKOPOLSKIE          579\n",
       "KUJAWSKO-POMORSKIE     298\n",
       "OPOLSKIE               227\n",
       "ZACHODNIOPOMORSKIE     212\n",
       "PODLASKIE              175\n",
       "MAZOWIECKIE            106\n",
       "POMORSKIE               94\n",
       "LUBUSKIE                47\n",
       "ŁÓDZKIE                 41\n",
       "DOLNOŚLĄSKIE            32\n",
       "WARMIŃSKO-MAZURSKIE     23\n",
       "ŚLĄSKIE                 17\n",
       "ŚWIĘTOKRZYSKIE          13\n",
       "MAŁOPOLSKIE             12\n",
       "LUBELSKIE                4\n",
       "PODKARPACKIE             1\n",
       "Name: Województwo, dtype: int64"
      ]
     },
     "execution_count": 6,
     "metadata": {},
     "output_type": "execute_result"
    }
   ],
   "source": [
    "caly_df['Województwo'].value_counts()"
   ]
  },
  {
   "cell_type": "code",
   "execution_count": 7,
   "id": "bab61a85",
   "metadata": {},
   "outputs": [],
   "source": [
    "caly_df=caly_df[caly_df['Województwo']!='PODKARPACKIE']\n",
    "caly_df=caly_df[caly_df['Województwo']!='LUBELSKIE']"
   ]
  },
  {
   "cell_type": "code",
   "execution_count": 8,
   "id": "8facbffe",
   "metadata": {},
   "outputs": [
    {
     "data": {
      "text/plain": [
       "WIELKOPOLSKIE          579\n",
       "KUJAWSKO-POMORSKIE     298\n",
       "OPOLSKIE               227\n",
       "ZACHODNIOPOMORSKIE     212\n",
       "PODLASKIE              175\n",
       "MAZOWIECKIE            106\n",
       "POMORSKIE               94\n",
       "LUBUSKIE                47\n",
       "ŁÓDZKIE                 41\n",
       "DOLNOŚLĄSKIE            32\n",
       "WARMIŃSKO-MAZURSKIE     23\n",
       "ŚLĄSKIE                 17\n",
       "ŚWIĘTOKRZYSKIE          13\n",
       "MAŁOPOLSKIE             12\n",
       "LUBELSKIE                0\n",
       "PODKARPACKIE             0\n",
       "Name: Województwo, dtype: int64"
      ]
     },
     "execution_count": 8,
     "metadata": {},
     "output_type": "execute_result"
    }
   ],
   "source": [
    "caly_df['Województwo'].value_counts()"
   ]
  },
  {
   "cell_type": "code",
   "execution_count": null,
   "id": "11bac9ad",
   "metadata": {},
   "outputs": [],
   "source": []
  },
  {
   "cell_type": "code",
   "execution_count": 9,
   "id": "f618a743",
   "metadata": {},
   "outputs": [
    {
     "data": {
      "text/plain": [
       "count    1876.000000\n",
       "mean     2186.273454\n",
       "std       166.944364\n",
       "min      1903.000000\n",
       "25%      2096.000000\n",
       "50%      2155.500000\n",
       "75%      2243.000000\n",
       "max      3165.000000\n",
       "Name: IE, dtype: float64"
      ]
     },
     "execution_count": 9,
     "metadata": {},
     "output_type": "execute_result"
    }
   ],
   "source": [
    "caly_df[\"IE\"].describe()"
   ]
  },
  {
   "cell_type": "code",
   "execution_count": 10,
   "id": "f06fb71f",
   "metadata": {},
   "outputs": [
    {
     "data": {
      "text/plain": [
       "count    1876.000000\n",
       "mean      107.656183\n",
       "std         7.421239\n",
       "min        82.000000\n",
       "25%       103.000000\n",
       "50%       107.000000\n",
       "75%       112.000000\n",
       "max       132.000000\n",
       "Name: OMC, dtype: float64"
      ]
     },
     "execution_count": 10,
     "metadata": {},
     "output_type": "execute_result"
    }
   ],
   "source": [
    "caly_df[\"OMC\"].describe()"
   ]
  },
  {
   "cell_type": "code",
   "execution_count": 9,
   "id": "8a89ee5e",
   "metadata": {},
   "outputs": [
    {
     "data": {
      "text/plain": [
       "count     579.000000\n",
       "mean     2191.430052\n",
       "std       164.271833\n",
       "min      1905.000000\n",
       "25%      2098.000000\n",
       "50%      2158.000000\n",
       "75%      2248.000000\n",
       "max      2814.000000\n",
       "Name: IE, dtype: float64"
      ]
     },
     "execution_count": 9,
     "metadata": {},
     "output_type": "execute_result"
    }
   ],
   "source": [
    "caly_df[caly_df['Województwo']=='WIELKOPOLSKIE']['IE'].describe()"
   ]
  },
  {
   "cell_type": "code",
   "execution_count": 10,
   "id": "cb4cb88a",
   "metadata": {},
   "outputs": [
    {
     "data": {
      "text/plain": [
       "count     298.000000\n",
       "mean     2204.234899\n",
       "std       185.627080\n",
       "min      1908.000000\n",
       "25%      2094.000000\n",
       "50%      2157.000000\n",
       "75%      2279.000000\n",
       "max      2981.000000\n",
       "Name: IE, dtype: float64"
      ]
     },
     "execution_count": 10,
     "metadata": {},
     "output_type": "execute_result"
    }
   ],
   "source": [
    "caly_df[caly_df['Województwo']=='KUJAWSKO-POMORSKIE']['IE'].describe()"
   ]
  },
  {
   "cell_type": "code",
   "execution_count": 11,
   "id": "3f7fb1de",
   "metadata": {},
   "outputs": [
    {
     "data": {
      "text/plain": [
       "count      94.000000\n",
       "mean     2148.553191\n",
       "std       130.931946\n",
       "min      1903.000000\n",
       "25%      2093.000000\n",
       "50%      2126.000000\n",
       "75%      2213.000000\n",
       "max      2566.000000\n",
       "Name: IE, dtype: float64"
      ]
     },
     "execution_count": 11,
     "metadata": {},
     "output_type": "execute_result"
    }
   ],
   "source": [
    "caly_df[caly_df['Województwo']=='POMORSKIE']['IE'].describe()"
   ]
  },
  {
   "cell_type": "code",
   "execution_count": 12,
   "id": "37995e84",
   "metadata": {},
   "outputs": [
    {
     "data": {
      "text/plain": [
       "count     175.000000\n",
       "mean     2172.045714\n",
       "std       177.272529\n",
       "min      1903.000000\n",
       "25%      2094.000000\n",
       "50%      2139.000000\n",
       "75%      2217.000000\n",
       "max      3165.000000\n",
       "Name: IE, dtype: float64"
      ]
     },
     "execution_count": 12,
     "metadata": {},
     "output_type": "execute_result"
    }
   ],
   "source": [
    "caly_df[caly_df['Województwo']=='PODLASKIE']['IE'].describe()"
   ]
  },
  {
   "cell_type": "code",
   "execution_count": 24,
   "id": "cd0788cb",
   "metadata": {},
   "outputs": [
    {
     "data": {
      "text/plain": [
       "count     41.000000\n",
       "mean     108.121951\n",
       "std        8.594170\n",
       "min       96.000000\n",
       "25%      101.000000\n",
       "50%      108.000000\n",
       "75%      114.000000\n",
       "max      128.000000\n",
       "Name: OMC, dtype: float64"
      ]
     },
     "execution_count": 24,
     "metadata": {},
     "output_type": "execute_result"
    }
   ],
   "source": [
    "caly_df[caly_df['Województwo']=='ŁÓDZKIE']['OMC'].describe()"
   ]
  },
  {
   "cell_type": "code",
   "execution_count": 14,
   "id": "fcb3aef4",
   "metadata": {},
   "outputs": [
    {
     "data": {
      "text/plain": [
       "count     227.000000\n",
       "mean     2175.352423\n",
       "std       164.975431\n",
       "min      1909.000000\n",
       "25%      2089.500000\n",
       "50%      2160.000000\n",
       "75%      2230.000000\n",
       "max      2939.000000\n",
       "Name: IE, dtype: float64"
      ]
     },
     "execution_count": 14,
     "metadata": {},
     "output_type": "execute_result"
    }
   ],
   "source": [
    "caly_df[caly_df['Województwo']=='OPOLSKIE']['IE'].describe()"
   ]
  },
  {
   "cell_type": "code",
   "execution_count": 15,
   "id": "355df556",
   "metadata": {},
   "outputs": [
    {
     "data": {
      "text/plain": [
       "count      47.000000\n",
       "mean     2188.659574\n",
       "std       140.108231\n",
       "min      1941.000000\n",
       "25%      2108.500000\n",
       "50%      2152.000000\n",
       "75%      2252.000000\n",
       "max      2580.000000\n",
       "Name: IE, dtype: float64"
      ]
     },
     "execution_count": 15,
     "metadata": {},
     "output_type": "execute_result"
    }
   ],
   "source": [
    "caly_df[caly_df['Województwo']=='LUBUSKIE']['IE'].describe()"
   ]
  },
  {
   "cell_type": "code",
   "execution_count": 16,
   "id": "a40140aa",
   "metadata": {},
   "outputs": [
    {
     "data": {
      "text/plain": [
       "count      32.000000\n",
       "mean     2193.281250\n",
       "std       181.702208\n",
       "min      1903.000000\n",
       "25%      2085.000000\n",
       "50%      2164.000000\n",
       "75%      2291.000000\n",
       "max      2706.000000\n",
       "Name: IE, dtype: float64"
      ]
     },
     "execution_count": 16,
     "metadata": {},
     "output_type": "execute_result"
    }
   ],
   "source": [
    "caly_df[caly_df['Województwo']=='DOLNOŚLĄSKIE']['IE'].describe()"
   ]
  },
  {
   "cell_type": "code",
   "execution_count": 17,
   "id": "4234cf70",
   "metadata": {},
   "outputs": [
    {
     "data": {
      "text/plain": [
       "count     106.000000\n",
       "mean     2167.801887\n",
       "std       161.987385\n",
       "min      1905.000000\n",
       "25%      2087.500000\n",
       "50%      2137.000000\n",
       "75%      2216.500000\n",
       "max      2718.000000\n",
       "Name: IE, dtype: float64"
      ]
     },
     "execution_count": 17,
     "metadata": {},
     "output_type": "execute_result"
    }
   ],
   "source": [
    "caly_df[caly_df['Województwo']=='MAZOWIECKIE']['IE'].describe()"
   ]
  },
  {
   "cell_type": "code",
   "execution_count": 18,
   "id": "4db8e3c6",
   "metadata": {},
   "outputs": [
    {
     "data": {
      "text/plain": [
       "count      23.000000\n",
       "mean     2121.956522\n",
       "std       105.500745\n",
       "min      1904.000000\n",
       "25%      2085.000000\n",
       "50%      2125.000000\n",
       "75%      2178.000000\n",
       "max      2341.000000\n",
       "Name: IE, dtype: float64"
      ]
     },
     "execution_count": 18,
     "metadata": {},
     "output_type": "execute_result"
    }
   ],
   "source": [
    "caly_df[caly_df['Województwo']=='WARMIŃSKO-MAZURSKIE']['IE'].describe()"
   ]
  },
  {
   "cell_type": "code",
   "execution_count": 22,
   "id": "6c054d43",
   "metadata": {},
   "outputs": [
    {
     "data": {
      "text/plain": [
       "count     17.000000\n",
       "mean     109.647059\n",
       "std        7.607079\n",
       "min      100.000000\n",
       "25%      103.000000\n",
       "50%      109.000000\n",
       "75%      116.000000\n",
       "max      125.000000\n",
       "Name: OMC, dtype: float64"
      ]
     },
     "execution_count": 22,
     "metadata": {},
     "output_type": "execute_result"
    }
   ],
   "source": [
    "caly_df[caly_df['Województwo']=='ŚLĄSKIE']['OMC'].describe()"
   ]
  },
  {
   "cell_type": "code",
   "execution_count": 23,
   "id": "a6cae6db",
   "metadata": {},
   "outputs": [
    {
     "data": {
      "text/plain": [
       "count     13.000000\n",
       "mean     112.230769\n",
       "std        6.365975\n",
       "min      102.000000\n",
       "25%      107.000000\n",
       "50%      112.000000\n",
       "75%      118.000000\n",
       "max      121.000000\n",
       "Name: OMC, dtype: float64"
      ]
     },
     "execution_count": 23,
     "metadata": {},
     "output_type": "execute_result"
    }
   ],
   "source": [
    "caly_df[caly_df['Województwo']=='ŚWIĘTOKRZYSKIE']['OMC'].describe()"
   ]
  },
  {
   "cell_type": "code",
   "execution_count": 21,
   "id": "54f51b7a",
   "metadata": {},
   "outputs": [
    {
     "data": {
      "text/plain": [
       "count      12.000000\n",
       "mean     2165.583333\n",
       "std       136.253413\n",
       "min      1903.000000\n",
       "25%      2122.500000\n",
       "50%      2177.000000\n",
       "75%      2259.250000\n",
       "max      2345.000000\n",
       "Name: IE, dtype: float64"
      ]
     },
     "execution_count": 21,
     "metadata": {},
     "output_type": "execute_result"
    }
   ],
   "source": [
    "caly_df[caly_df['Województwo']=='MAŁOPOLSKIE']['IE'].describe()"
   ]
  },
  {
   "cell_type": "code",
   "execution_count": 1,
   "id": "a09523c8",
   "metadata": {},
   "outputs": [
    
   ],
   "source": [
    "caly_df['IE'].describe()"
   ]
  },
  {
   "cell_type": "code",
   "execution_count": null,
   "id": "da759a2b",
   "metadata": {},
   "outputs": [],
   "source": [
    "caly_df['OMC'].describe()"
   ]
  },
  {
   "cell_type": "code",
   "execution_count": null,
   "id": "be152f14",
   "metadata": {},
   "outputs": [],
   "source": []
  },
  {
   "cell_type": "code",
   "execution_count": null,
   "id": "2aa9e8e4",
   "metadata": {},
   "outputs": [],
   "source": []
  },
  {
   "cell_type": "code",
   "execution_count": null,
   "id": "a4349bbe",
   "metadata": {},
   "outputs": [],
   "source": []
  },
  {
   "cell_type": "code",
   "execution_count": null,
   "id": "d64b59dd",
   "metadata": {},
   "outputs": [],
   "source": []
  },
  {
   "cell_type": "code",
   "execution_count": null,
   "id": "6ce6f102",
   "metadata": {},
   "outputs": [],
   "source": []
  },
  {
   "cell_type": "code",
   "execution_count": null,
   "id": "48cfc00a",
   "metadata": {},
   "outputs": [],
   "source": []
  },
  {
   "cell_type": "code",
   "execution_count": null,
   "id": "2c2a9b3e",
   "metadata": {},
   "outputs": [],
   "source": []
  },
  {
   "cell_type": "code",
   "execution_count": null,
   "id": "0c0bd0b0",
   "metadata": {},
   "outputs": [],
   "source": []
  },
  {
   "cell_type": "code",
   "execution_count": null,
   "id": "3d3cd8d7",
   "metadata": {},
   "outputs": [],
   "source": []
  },
  {
   "cell_type": "code",
   "execution_count": null,
   "id": "ea582685",
   "metadata": {},
   "outputs": [],
   "source": []
  },
  {
   "cell_type": "code",
   "execution_count": null,
   "id": "16ddaed1",
   "metadata": {},
   "outputs": [],
   "source": []
  },
  {
   "cell_type": "code",
   "execution_count": null,
   "id": "ccd06c4e",
   "metadata": {},
   "outputs": [],
   "source": []
  }
 ],
 "metadata": {
  "kernelspec": {
   "display_name": "Python 3",
   "language": "python",
   "name": "python3"
  },
  "language_info": {
   "codemirror_mode": {
    "name": "ipython",
    "version": 3
   },
   "file_extension": ".py",
   "mimetype": "text/x-python",
   "name": "python",
   "nbconvert_exporter": "python",
   "pygments_lexer": "ipython3",
   "version": "3.7.10"
  }
 },
 "nbformat": 4,
 "nbformat_minor": 5
}
