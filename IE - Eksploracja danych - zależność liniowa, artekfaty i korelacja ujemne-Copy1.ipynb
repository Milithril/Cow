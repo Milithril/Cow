{
 "cells": [
  {
   "cell_type": "code",
   "execution_count": 1,
   "id": "armed-philosophy",
   "metadata": {},
   "outputs": [],
   "source": [
    "import pandas as pd\n",
    "import numpy as np\n",
    "import csv\n",
    "import matplotlib.pyplot as plt\n",
    "from sklearn.model_selection import train_test_split\n",
    "%matplotlib inline"
   ]
  },
  {
   "cell_type": "code",
   "execution_count": 6,
   "id": "0a6408e8",
   "metadata": {},
   "outputs": [],
   "source": [
    "dane = pd.read_csv(\"D:/STUDIA/ROK_II/Projekt/Dane_jalowka_i_krowa.csv\")\n"
   ]
  },
  {
   "cell_type": "code",
   "execution_count": 7,
   "id": "c43dadce",
   "metadata": {},
   "outputs": [
    {
     "data": {
      "text/plain": [
       "['Pozycja',\n",
       " 'ID',\n",
       " 'Nazwa ojca',\n",
       " 'ID ojca',\n",
       " 'Obora',\n",
       " 'Hodowca',\n",
       " 'Województwo',\n",
       " 'Data urodzenia',\n",
       " 'IE',\n",
       " 'Dokł. IE',\n",
       " 'PF',\n",
       " 'PI-PROD',\n",
       " 'PI-POKR',\n",
       " 'Prc',\n",
       " 'Psm',\n",
       " 'Pnr',\n",
       " 'Pw',\n",
       " 'PI-PLOD',\n",
       " 'CRj',\n",
       " 'CRk',\n",
       " 'PP',\n",
       " 'OMC',\n",
       " 'WH-KSOM',\n",
       " 'WH-DLUG',\n",
       " 'IP',\n",
       " 'kg ml',\n",
       " 'kg tł',\n",
       " '% tł',\n",
       " 'kg bi',\n",
       " '% bi',\n",
       " 'rc',\n",
       " 'sm',\n",
       " 'nr',\n",
       " 'w',\n",
       " 'og']"
      ]
     },
     "execution_count": 7,
     "metadata": {},
     "output_type": "execute_result"
    }
   ],
   "source": [
    "list(dane)"
   ]
  },
  {
   "cell_type": "code",
   "execution_count": 8,
   "id": "7c929fec",
   "metadata": {},
   "outputs": [
    {
     "data": {
      "text/html": [
       "<div>\n",
       "<style scoped>\n",
       "    .dataframe tbody tr th:only-of-type {\n",
       "        vertical-align: middle;\n",
       "    }\n",
       "\n",
       "    .dataframe tbody tr th {\n",
       "        vertical-align: top;\n",
       "    }\n",
       "\n",
       "    .dataframe thead th {\n",
       "        text-align: right;\n",
       "    }\n",
       "</style>\n",
       "<table border=\"1\" class=\"dataframe\">\n",
       "  <thead>\n",
       "    <tr style=\"text-align: right;\">\n",
       "      <th></th>\n",
       "      <th>index</th>\n",
       "      <th>IE</th>\n",
       "    </tr>\n",
       "  </thead>\n",
       "  <tbody>\n",
       "    <tr>\n",
       "      <th>0</th>\n",
       "      <td>IE</td>\n",
       "      <td>1.000000</td>\n",
       "    </tr>\n",
       "    <tr>\n",
       "      <th>1</th>\n",
       "      <td>PF</td>\n",
       "      <td>0.565410</td>\n",
       "    </tr>\n",
       "    <tr>\n",
       "      <th>2</th>\n",
       "      <td>Data urodzenia</td>\n",
       "      <td>0.451144</td>\n",
       "    </tr>\n",
       "    <tr>\n",
       "      <th>3</th>\n",
       "      <td>WH-KSOM</td>\n",
       "      <td>0.445011</td>\n",
       "    </tr>\n",
       "    <tr>\n",
       "      <th>4</th>\n",
       "      <td>WH-DLUG</td>\n",
       "      <td>0.299438</td>\n",
       "    </tr>\n",
       "    <tr>\n",
       "      <th>5</th>\n",
       "      <td>Pw</td>\n",
       "      <td>0.267009</td>\n",
       "    </tr>\n",
       "    <tr>\n",
       "      <th>6</th>\n",
       "      <td>w</td>\n",
       "      <td>0.243454</td>\n",
       "    </tr>\n",
       "    <tr>\n",
       "      <th>7</th>\n",
       "      <td>IP</td>\n",
       "      <td>0.242050</td>\n",
       "    </tr>\n",
       "    <tr>\n",
       "      <th>8</th>\n",
       "      <td>PI-PROD</td>\n",
       "      <td>0.237663</td>\n",
       "    </tr>\n",
       "    <tr>\n",
       "      <th>9</th>\n",
       "      <td>CRk</td>\n",
       "      <td>0.235873</td>\n",
       "    </tr>\n",
       "    <tr>\n",
       "      <th>10</th>\n",
       "      <td>PI-POKR</td>\n",
       "      <td>0.232538</td>\n",
       "    </tr>\n",
       "    <tr>\n",
       "      <th>11</th>\n",
       "      <td>PI-PLOD</td>\n",
       "      <td>0.220683</td>\n",
       "    </tr>\n",
       "    <tr>\n",
       "      <th>12</th>\n",
       "      <td>kg tł</td>\n",
       "      <td>0.209811</td>\n",
       "    </tr>\n",
       "    <tr>\n",
       "      <th>13</th>\n",
       "      <td>CRj</td>\n",
       "      <td>0.208516</td>\n",
       "    </tr>\n",
       "    <tr>\n",
       "      <th>14</th>\n",
       "      <td>kg bi</td>\n",
       "      <td>0.204626</td>\n",
       "    </tr>\n",
       "    <tr>\n",
       "      <th>15</th>\n",
       "      <td>OMC</td>\n",
       "      <td>0.146242</td>\n",
       "    </tr>\n",
       "    <tr>\n",
       "      <th>16</th>\n",
       "      <td>og</td>\n",
       "      <td>0.130050</td>\n",
       "    </tr>\n",
       "    <tr>\n",
       "      <th>17</th>\n",
       "      <td>Dokł. IE</td>\n",
       "      <td>0.128864</td>\n",
       "    </tr>\n",
       "    <tr>\n",
       "      <th>18</th>\n",
       "      <td>% bi</td>\n",
       "      <td>0.124876</td>\n",
       "    </tr>\n",
       "    <tr>\n",
       "      <th>19</th>\n",
       "      <td>% tł</td>\n",
       "      <td>0.102404</td>\n",
       "    </tr>\n",
       "    <tr>\n",
       "      <th>20</th>\n",
       "      <td>nr</td>\n",
       "      <td>0.083964</td>\n",
       "    </tr>\n",
       "    <tr>\n",
       "      <th>21</th>\n",
       "      <td>kg ml</td>\n",
       "      <td>0.068726</td>\n",
       "    </tr>\n",
       "    <tr>\n",
       "      <th>22</th>\n",
       "      <td>Prc</td>\n",
       "      <td>0.062992</td>\n",
       "    </tr>\n",
       "    <tr>\n",
       "      <th>23</th>\n",
       "      <td>rc</td>\n",
       "      <td>0.042362</td>\n",
       "    </tr>\n",
       "    <tr>\n",
       "      <th>24</th>\n",
       "      <td>Pnr</td>\n",
       "      <td>0.037298</td>\n",
       "    </tr>\n",
       "    <tr>\n",
       "      <th>25</th>\n",
       "      <td>PP</td>\n",
       "      <td>0.035800</td>\n",
       "    </tr>\n",
       "    <tr>\n",
       "      <th>26</th>\n",
       "      <td>Psm</td>\n",
       "      <td>0.031506</td>\n",
       "    </tr>\n",
       "    <tr>\n",
       "      <th>27</th>\n",
       "      <td>sm</td>\n",
       "      <td>0.007184</td>\n",
       "    </tr>\n",
       "    <tr>\n",
       "      <th>28</th>\n",
       "      <td>Obora</td>\n",
       "      <td>-0.035457</td>\n",
       "    </tr>\n",
       "    <tr>\n",
       "      <th>29</th>\n",
       "      <td>Pozycja</td>\n",
       "      <td>-0.443434</td>\n",
       "    </tr>\n",
       "  </tbody>\n",
       "</table>\n",
       "</div>"
      ],
      "text/plain": [
       "             index        IE\n",
       "0               IE  1.000000\n",
       "1               PF  0.565410\n",
       "2   Data urodzenia  0.451144\n",
       "3          WH-KSOM  0.445011\n",
       "4          WH-DLUG  0.299438\n",
       "5               Pw  0.267009\n",
       "6                w  0.243454\n",
       "7               IP  0.242050\n",
       "8          PI-PROD  0.237663\n",
       "9              CRk  0.235873\n",
       "10         PI-POKR  0.232538\n",
       "11         PI-PLOD  0.220683\n",
       "12           kg tł  0.209811\n",
       "13             CRj  0.208516\n",
       "14           kg bi  0.204626\n",
       "15             OMC  0.146242\n",
       "16              og  0.130050\n",
       "17        Dokł. IE  0.128864\n",
       "18            % bi  0.124876\n",
       "19            % tł  0.102404\n",
       "20              nr  0.083964\n",
       "21           kg ml  0.068726\n",
       "22             Prc  0.062992\n",
       "23              rc  0.042362\n",
       "24             Pnr  0.037298\n",
       "25              PP  0.035800\n",
       "26             Psm  0.031506\n",
       "27              sm  0.007184\n",
       "28           Obora -0.035457\n",
       "29         Pozycja -0.443434"
      ]
     },
     "execution_count": 8,
     "metadata": {},
     "output_type": "execute_result"
    }
   ],
   "source": [
    "corr_matrix= dane.corr()\n",
    "korelacje=corr_matrix[\"IE\"].sort_values(ascending=False)\n",
    "korelacje=korelacje.to_frame()\n",
    "korelacje=korelacje.reset_index()\n",
    "korelacje"
   ]
  },
  {
   "cell_type": "markdown",
   "id": "enclosed-anniversary",
   "metadata": {},
   "source": [
    "### Wczytywanie danych"
   ]
  },
  {
   "cell_type": "markdown",
   "id": "6d03ac31",
   "metadata": {},
   "source": [
    "#### EI"
   ]
  },
  {
   "cell_type": "code",
   "execution_count": 9,
   "id": "8ab084e2",
   "metadata": {},
   "outputs": [
    {
     "data": {
      "text/plain": [
       "<AxesSubplot:>"
      ]
     },
     "execution_count": 9,
     "metadata": {},
     "output_type": "execute_result"
    },
    {
     "data": {
      "image/png": "[encoded data removed]",
      "text/plain": [
       "<Figure size 432x288 with 1 Axes>"
      ]
     },
     "metadata": {
      "needs_background": "light"
     },
     "output_type": "display_data"
    }
   ],
   "source": [
    "dane['IE'].hist()"
   ]
  },
  {
   "cell_type": "code",
   "execution_count": 13,
   "id": "5be60667",
   "metadata": {},
   "outputs": [
    {
     "data": {
      "text/plain": [
       "(2000, 35)"
      ]
     },
     "execution_count": 13,
     "metadata": {},
     "output_type": "execute_result"
    }
   ],
   "source": [
    "dane.shape"
   ]
  },
  {
   "cell_type": "code",
   "execution_count": null,
   "id": "424f7e6f",
   "metadata": {},
   "outputs": [],
   "source": [
    "### Sprawdzam metryke QTL"
   ]
  },
  {
   "cell_type": "code",
   "execution_count": 10,
   "id": "afa858dc",
   "metadata": {},
   "outputs": [
    {
     "data": {
      "text/plain": [
       "count    2000.000000\n",
       "mean     2183.283500\n",
       "std       167.284866\n",
       "min      1903.000000\n",
       "25%      2094.000000\n",
       "50%      2155.000000\n",
       "75%      2240.000000\n",
       "max      3165.000000\n",
       "Name: IE, dtype: float64"
      ]
     },
     "execution_count": 10,
     "metadata": {},
     "output_type": "execute_result"
    }
   ],
   "source": [
    "dane['IE'].describe()"
   ]
  },
  {
   "cell_type": "code",
   "execution_count": 17,
   "id": "1b00c239",
   "metadata": {},
   "outputs": [
    {
     "data": {
      "text/plain": [
       "146"
      ]
     },
     "execution_count": 17,
     "metadata": {},
     "output_type": "execute_result"
    }
   ],
   "source": [
    "2240-2094 # IQR"
   ]
  },
  {
   "cell_type": "code",
   "execution_count": 18,
   "id": "5eb73fc5",
   "metadata": {},
   "outputs": [
    {
     "data": {
      "text/plain": [
       "219.0"
      ]
     },
     "execution_count": 18,
     "metadata": {},
     "output_type": "execute_result"
    }
   ],
   "source": [
    "146*1.5 # QTL"
   ]
  },
  {
   "cell_type": "code",
   "execution_count": 19,
   "id": "35361a3c",
   "metadata": {},
   "outputs": [
    {
     "data": {
      "text/plain": [
       "1875"
      ]
     },
     "execution_count": 19,
     "metadata": {},
     "output_type": "execute_result"
    }
   ],
   "source": [
    "2094-219 "
   ]
  },
  {
   "cell_type": "code",
   "execution_count": 20,
   "id": "e061b87a",
   "metadata": {},
   "outputs": [
    {
     "data": {
      "text/plain": [
       "2313"
      ]
     },
     "execution_count": 20,
     "metadata": {},
     "output_type": "execute_result"
    }
   ],
   "source": [
    "2094+219"
   ]
  },
  {
   "cell_type": "code",
   "execution_count": 21,
   "id": "fdaa00e7",
   "metadata": {},
   "outputs": [
    {
     "data": {
      "text/plain": [
       "(337, 35)"
      ]
     },
     "execution_count": 21,
     "metadata": {},
     "output_type": "execute_result"
    }
   ],
   "source": [
    "dane[dane['IE']>2313].shape"
   ]
  },
  {
   "cell_type": "code",
   "execution_count": 22,
   "id": "6bcbb884",
   "metadata": {},
   "outputs": [
    {
     "data": {
      "text/plain": [
       "(0, 35)"
      ]
     },
     "execution_count": 22,
     "metadata": {},
     "output_type": "execute_result"
    }
   ],
   "source": [
    "dane[dane['IE']<1875].shape"
   ]
  },
  {
   "cell_type": "code",
   "execution_count": 23,
   "id": "b2596af5",
   "metadata": {},
   "outputs": [
    {
     "data": {
      "text/plain": [
       "0.1685"
      ]
     },
     "execution_count": 23,
     "metadata": {},
     "output_type": "execute_result"
    }
   ],
   "source": [
    "337/2000"
   ]
  },
  {
   "cell_type": "markdown",
   "id": "e31a232d",
   "metadata": {},
   "source": [
    "### CI"
   ]
  },
  {
   "cell_type": "code",
   "execution_count": 14,
   "id": "13dbb3f7",
   "metadata": {},
   "outputs": [
    {
     "data": {
      "text/plain": [
       "<AxesSubplot:>"
      ]
     },
     "execution_count": 14,
     "metadata": {},
     "output_type": "execute_result"
    },
    {
     "data": {
      "image/png": "[encoded data removed]",
      "text/plain": [
       "<Figure size 432x288 with 1 Axes>"
      ]
     },
     "metadata": {
      "needs_background": "light"
     },
     "output_type": "display_data"
    }
   ],
   "source": [
    "dane['OMC'].hist()"
   ]
  },
  {
   "cell_type": "code",
   "execution_count": 15,
   "id": "e7b2eeed",
   "metadata": {},
   "outputs": [
    {
     "data": {
      "text/plain": [
       "count    2000.000000\n",
       "mean      107.552000\n",
       "std         7.341474\n",
       "min        82.000000\n",
       "25%       103.000000\n",
       "50%       107.000000\n",
       "75%       112.000000\n",
       "max       132.000000\n",
       "Name: OMC, dtype: float64"
      ]
     },
     "execution_count": 15,
     "metadata": {},
     "output_type": "execute_result"
    }
   ],
   "source": [
    "dane['OMC'].describe()"
   ]
  },
  {
   "cell_type": "markdown",
   "id": "average-feeling",
   "metadata": {},
   "source": [
    "### Histogramy rozkładu zmiennych"
   ]
  },
  {
   "cell_type": "code",
   "execution_count": 9,
   "id": "unauthorized-cameroon",
   "metadata": {},
   "outputs": [
    {
     "data": {
      "text/plain": [
       "array([[<AxesSubplot:title={'center':'IE'}>,\n",
       "        <AxesSubplot:title={'center':'PI-PROD'}>,\n",
       "        <AxesSubplot:title={'center':'PI-POKR'}>,\n",
       "        <AxesSubplot:title={'center':'Prc'}>,\n",
       "        <AxesSubplot:title={'center':'Psm'}>],\n",
       "       [<AxesSubplot:title={'center':'Pnr'}>,\n",
       "        <AxesSubplot:title={'center':'Pw'}>,\n",
       "        <AxesSubplot:title={'center':'PI-PLOD'}>,\n",
       "        <AxesSubplot:title={'center':'CRj'}>,\n",
       "        <AxesSubplot:title={'center':'CRk'}>],\n",
       "       [<AxesSubplot:title={'center':'PP'}>,\n",
       "        <AxesSubplot:title={'center':'OMC'}>,\n",
       "        <AxesSubplot:title={'center':'WH-KSOM'}>,\n",
       "        <AxesSubplot:title={'center':'WH-DLUG'}>,\n",
       "        <AxesSubplot:title={'center':'IP'}>],\n",
       "       [<AxesSubplot:title={'center':'kg ml'}>,\n",
       "        <AxesSubplot:title={'center':'kg tł'}>,\n",
       "        <AxesSubplot:title={'center':'% tł'}>,\n",
       "        <AxesSubplot:title={'center':'kg bi'}>,\n",
       "        <AxesSubplot:title={'center':'% bi'}>],\n",
       "       [<AxesSubplot:title={'center':'rc'}>,\n",
       "        <AxesSubplot:title={'center':'sm'}>,\n",
       "        <AxesSubplot:title={'center':'nr'}>,\n",
       "        <AxesSubplot:title={'center':'w'}>,\n",
       "        <AxesSubplot:title={'center':'og'}>]], dtype=object)"
      ]
     },
     "execution_count": 9,
     "metadata": {},
     "output_type": "execute_result"
    },
    {
     "data": {
      "image/png": "[encoded data removed]",
      "text/plain": [
       "<Figure size 1440x1080 with 25 Axes>"
      ]
     },
     "metadata": {
      "needs_background": "light"
     },
     "output_type": "display_data"
    }
   ],
   "source": [
    "dane.hist(bins=100,figsize=(20,15))"
   ]
  },
  {
   "cell_type": "markdown",
   "id": "herbal-situation",
   "metadata": {},
   "source": [
    "Przed jakimikolwiek dalszymi oględzianmi, rozdzielam dane na zbiór treningowy i testowy w celu uniknięcia\n",
    " obciążenia związanego z podglądaniem danych."
   ]
  },
  {
   "cell_type": "markdown",
   "id": "dramatic-native",
   "metadata": {},
   "source": [
    "### Sprawdzam korelacje liniową zmiennych"
   ]
  },
  {
   "cell_type": "code",
   "execution_count": 10,
   "id": "placed-occasion",
   "metadata": {},
   "outputs": [
    {
     "data": {
      "text/html": [
       "<div>\n",
       "<style scoped>\n",
       "    .dataframe tbody tr th:only-of-type {\n",
       "        vertical-align: middle;\n",
       "    }\n",
       "\n",
       "    .dataframe tbody tr th {\n",
       "        vertical-align: top;\n",
       "    }\n",
       "\n",
       "    .dataframe thead th {\n",
       "        text-align: right;\n",
       "    }\n",
       "</style>\n",
       "<table border=\"1\" class=\"dataframe\">\n",
       "  <thead>\n",
       "    <tr style=\"text-align: right;\">\n",
       "      <th></th>\n",
       "      <th>index</th>\n",
       "      <th>IE</th>\n",
       "    </tr>\n",
       "  </thead>\n",
       "  <tbody>\n",
       "    <tr>\n",
       "      <th>0</th>\n",
       "      <td>IE</td>\n",
       "      <td>1.000000</td>\n",
       "    </tr>\n",
       "    <tr>\n",
       "      <th>1</th>\n",
       "      <td>WH-KSOM</td>\n",
       "      <td>0.417513</td>\n",
       "    </tr>\n",
       "    <tr>\n",
       "      <th>2</th>\n",
       "      <td>WH-DLUG</td>\n",
       "      <td>0.330746</td>\n",
       "    </tr>\n",
       "    <tr>\n",
       "      <th>3</th>\n",
       "      <td>IP</td>\n",
       "      <td>0.239824</td>\n",
       "    </tr>\n",
       "    <tr>\n",
       "      <th>4</th>\n",
       "      <td>PI-PROD</td>\n",
       "      <td>0.236858</td>\n",
       "    </tr>\n",
       "    <tr>\n",
       "      <th>5</th>\n",
       "      <td>w</td>\n",
       "      <td>0.235788</td>\n",
       "    </tr>\n",
       "    <tr>\n",
       "      <th>6</th>\n",
       "      <td>CRk</td>\n",
       "      <td>0.235184</td>\n",
       "    </tr>\n",
       "    <tr>\n",
       "      <th>7</th>\n",
       "      <td>Pw</td>\n",
       "      <td>0.222095</td>\n",
       "    </tr>\n",
       "    <tr>\n",
       "      <th>8</th>\n",
       "      <td>PI-PLOD</td>\n",
       "      <td>0.220918</td>\n",
       "    </tr>\n",
       "    <tr>\n",
       "      <th>9</th>\n",
       "      <td>CRj</td>\n",
       "      <td>0.208279</td>\n",
       "    </tr>\n",
       "    <tr>\n",
       "      <th>10</th>\n",
       "      <td>kg bi</td>\n",
       "      <td>0.207598</td>\n",
       "    </tr>\n",
       "    <tr>\n",
       "      <th>11</th>\n",
       "      <td>kg tł</td>\n",
       "      <td>0.201232</td>\n",
       "    </tr>\n",
       "    <tr>\n",
       "      <th>12</th>\n",
       "      <td>PI-POKR</td>\n",
       "      <td>0.186291</td>\n",
       "    </tr>\n",
       "    <tr>\n",
       "      <th>13</th>\n",
       "      <td>OMC</td>\n",
       "      <td>0.146792</td>\n",
       "    </tr>\n",
       "    <tr>\n",
       "      <th>14</th>\n",
       "      <td>og</td>\n",
       "      <td>0.121015</td>\n",
       "    </tr>\n",
       "    <tr>\n",
       "      <th>15</th>\n",
       "      <td>% bi</td>\n",
       "      <td>0.103872</td>\n",
       "    </tr>\n",
       "    <tr>\n",
       "      <th>16</th>\n",
       "      <td>nr</td>\n",
       "      <td>0.095009</td>\n",
       "    </tr>\n",
       "    <tr>\n",
       "      <th>17</th>\n",
       "      <td>kg ml</td>\n",
       "      <td>0.090118</td>\n",
       "    </tr>\n",
       "    <tr>\n",
       "      <th>18</th>\n",
       "      <td>% tł</td>\n",
       "      <td>0.081941</td>\n",
       "    </tr>\n",
       "    <tr>\n",
       "      <th>19</th>\n",
       "      <td>PP</td>\n",
       "      <td>0.046453</td>\n",
       "    </tr>\n",
       "    <tr>\n",
       "      <th>20</th>\n",
       "      <td>Prc</td>\n",
       "      <td>0.039511</td>\n",
       "    </tr>\n",
       "    <tr>\n",
       "      <th>21</th>\n",
       "      <td>rc</td>\n",
       "      <td>0.033348</td>\n",
       "    </tr>\n",
       "    <tr>\n",
       "      <th>22</th>\n",
       "      <td>Pnr</td>\n",
       "      <td>0.018273</td>\n",
       "    </tr>\n",
       "    <tr>\n",
       "      <th>23</th>\n",
       "      <td>Psm</td>\n",
       "      <td>0.013767</td>\n",
       "    </tr>\n",
       "    <tr>\n",
       "      <th>24</th>\n",
       "      <td>sm</td>\n",
       "      <td>0.009417</td>\n",
       "    </tr>\n",
       "  </tbody>\n",
       "</table>\n",
       "</div>"
      ],
      "text/plain": [
       "      index        IE\n",
       "0        IE  1.000000\n",
       "1   WH-KSOM  0.417513\n",
       "2   WH-DLUG  0.330746\n",
       "3        IP  0.239824\n",
       "4   PI-PROD  0.236858\n",
       "5         w  0.235788\n",
       "6       CRk  0.235184\n",
       "7        Pw  0.222095\n",
       "8   PI-PLOD  0.220918\n",
       "9       CRj  0.208279\n",
       "10    kg bi  0.207598\n",
       "11    kg tł  0.201232\n",
       "12  PI-POKR  0.186291\n",
       "13      OMC  0.146792\n",
       "14       og  0.121015\n",
       "15     % bi  0.103872\n",
       "16       nr  0.095009\n",
       "17    kg ml  0.090118\n",
       "18     % tł  0.081941\n",
       "19       PP  0.046453\n",
       "20      Prc  0.039511\n",
       "21       rc  0.033348\n",
       "22      Pnr  0.018273\n",
       "23      Psm  0.013767\n",
       "24       sm  0.009417"
      ]
     },
     "execution_count": 10,
     "metadata": {},
     "output_type": "execute_result"
    }
   ],
   "source": [
    "corr_matrix= dane.corr()\n",
    "korelacje=corr_matrix[\"IE\"].sort_values(ascending=False)\n",
    "korelacje=korelacje.to_frame()\n",
    "korelacje=korelacje.reset_index()\n",
    "korelacje"
   ]
  },
  {
   "cell_type": "markdown",
   "id": "focal-soviet",
   "metadata": {},
   "source": [
    "### Tworzę wszystkie możliwe kombinacjii zmiennych"
   ]
  },
  {
   "cell_type": "code",
   "execution_count": 11,
   "id": "royal-egyptian",
   "metadata": {},
   "outputs": [],
   "source": [
    "dane_2=dane.copy()"
   ]
  },
  {
   "cell_type": "code",
   "execution_count": 12,
   "id": "rapid-captain",
   "metadata": {},
   "outputs": [],
   "source": [
    "zmienne=list(dane_2)\n",
    "zmienne.remove(\"IE\")\n",
    "zmienne.remove(\"Województwo\")\n",
    "zmienne.remove(\"Data urodzenia\")\n"
   ]
  },
  {
   "cell_type": "code",
   "execution_count": 13,
   "id": "documentary-washer",
   "metadata": {},
   "outputs": [],
   "source": [
    "for x in zmienne:\n",
    "    for y in zmienne:\n",
    "        if x!=y:\n",
    "            zmienna_2=x+\"|\"+y\n",
    "            dane_2[zmienna_2]=dane_2[x]/dane_2[y]"
   ]
  },
  {
   "cell_type": "code",
   "execution_count": 14,
   "id": "varying-former",
   "metadata": {},
   "outputs": [
    {
     "data": {
      "text/html": [
       "<div>\n",
       "<style scoped>\n",
       "    .dataframe tbody tr th:only-of-type {\n",
       "        vertical-align: middle;\n",
       "    }\n",
       "\n",
       "    .dataframe tbody tr th {\n",
       "        vertical-align: top;\n",
       "    }\n",
       "\n",
       "    .dataframe thead th {\n",
       "        text-align: right;\n",
       "    }\n",
       "</style>\n",
       "<table border=\"1\" class=\"dataframe\">\n",
       "  <thead>\n",
       "    <tr style=\"text-align: right;\">\n",
       "      <th></th>\n",
       "      <th>index</th>\n",
       "      <th>IE</th>\n",
       "    </tr>\n",
       "  </thead>\n",
       "  <tbody>\n",
       "    <tr>\n",
       "      <th>0</th>\n",
       "      <td>IE</td>\n",
       "      <td>1.000000</td>\n",
       "    </tr>\n",
       "    <tr>\n",
       "      <th>1</th>\n",
       "      <td>WH-KSOM</td>\n",
       "      <td>0.417513</td>\n",
       "    </tr>\n",
       "    <tr>\n",
       "      <th>2</th>\n",
       "      <td>WH-DLUG</td>\n",
       "      <td>0.330746</td>\n",
       "    </tr>\n",
       "    <tr>\n",
       "      <th>3</th>\n",
       "      <td>WH-KSOM|sm</td>\n",
       "      <td>0.292574</td>\n",
       "    </tr>\n",
       "    <tr>\n",
       "      <th>4</th>\n",
       "      <td>WH-KSOM|rc</td>\n",
       "      <td>0.266520</td>\n",
       "    </tr>\n",
       "  </tbody>\n",
       "</table>\n",
       "</div>"
      ],
      "text/plain": [
       "        index        IE\n",
       "0          IE  1.000000\n",
       "1     WH-KSOM  0.417513\n",
       "2     WH-DLUG  0.330746\n",
       "3  WH-KSOM|sm  0.292574\n",
       "4  WH-KSOM|rc  0.266520"
      ]
     },
     "execution_count": 14,
     "metadata": {},
     "output_type": "execute_result"
    }
   ],
   "source": [
    "corr_matrix_2= dane_2.corr()\n",
    "t=corr_matrix_2[\"IE\"].sort_values(ascending=False)\n",
    "wyniki=t.to_frame()\n",
    "wyniki=wyniki.reset_index()\n",
    "wyniki.head() #626 pozycji to za dużo do ręcznego sprawdzania - tworzę niżej skrypt"
   ]
  },
  {
   "cell_type": "code",
   "execution_count": 15,
   "id": "f00759a3",
   "metadata": {},
   "outputs": [],
   "source": [
    "wszystkie_stw=list(wyniki['index'])"
   ]
  },
  {
   "cell_type": "code",
   "execution_count": 16,
   "id": "f426a458",
   "metadata": {},
   "outputs": [
    {
     "data": {
      "text/plain": [
       "['IE',\n",
       " 'WH-KSOM',\n",
       " 'WH-DLUG',\n",
       " 'WH-KSOM|sm',\n",
       " 'WH-KSOM|rc',\n",
       " 'WH-KSOM|Pnr',\n",
       " 'IP|Psm',\n",
       " 'IP|sm',\n",
       " 'WH-KSOM|Psm',\n",
       " 'IP|PI-PROD',\n",
       " 'IP',\n",
       " 'IP|rc',\n",
       " 'PI-PROD',\n",
       " 'w',\n",
       " 'CRk',\n",
       " 'IP|Prc',\n",
       " 'IP|Pnr',\n",
       " 'Pw',\n",
       " 'kg bi|Psm',\n",
       " 'PI-PLOD',\n",
       " 'kg bi|sm',\n",
       " 'kg tł|Psm',\n",
       " 'IP|og',\n",
       " 'CRj',\n",
       " 'w|sm',\n",
       " 'kg bi',\n",
       " 'kg tł|sm',\n",
       " 'WH-DLUG|Pnr',\n",
       " 'WH-DLUG|sm',\n",
       " 'kg bi|rc',\n",
       " 'Pw|sm',\n",
       " 'kg tł',\n",
       " 'kg bi|Prc',\n",
       " 'kg tł|rc',\n",
       " 'PI-PROD|sm',\n",
       " 'kg bi|Pnr',\n",
       " 'kg bi|PI-PROD',\n",
       " 'WH-KSOM|Prc',\n",
       " 'IP|nr',\n",
       " 'kg tł|Prc',\n",
       " 'kg tł|Pnr',\n",
       " 'PI-POKR|sm',\n",
       " 'CRk|sm',\n",
       " 'PI-PROD|Psm',\n",
       " 'w|Pnr',\n",
       " 'Pw|rc',\n",
       " 'PI-POKR',\n",
       " 'PI-POKR|Pnr',\n",
       " 'w|rc',\n",
       " 'WH-DLUG|rc',\n",
       " 'CRk|Pnr',\n",
       " 'WH-KSOM|PP',\n",
       " 'CRk|rc',\n",
       " 'kg tł|PI-PROD',\n",
       " 'Pw|Pnr',\n",
       " 'PI-PLOD|Pnr',\n",
       " 'PI-PLOD|sm',\n",
       " 'kg tł|og',\n",
       " 'IP|PI-POKR',\n",
       " 'PI-PLOD|rc',\n",
       " 'kg bi|og',\n",
       " 'IP|PP',\n",
       " 'Pw|Psm',\n",
       " 'w|Psm',\n",
       " 'kg tł|nr',\n",
       " 'OMC|PP',\n",
       " 'WH-DLUG|Psm',\n",
       " 'PI-PLOD|CRj',\n",
       " 'WH-KSOM|og',\n",
       " 'PI-POKR|rc',\n",
       " 'CRk|Psm',\n",
       " 'WH-KSOM|nr',\n",
       " 'kg bi|nr',\n",
       " 'CRk|PP',\n",
       " 'PI-PLOD|PP',\n",
       " 'CRj|sm',\n",
       " 'PI-PLOD|Psm',\n",
       " 'PI-PROD|rc',\n",
       " 'Pw|og',\n",
       " 'og|sm',\n",
       " 'kg tł|PP',\n",
       " 'PI-POKR|Psm',\n",
       " 'w|og',\n",
       " 'kg tł|PI-POKR',\n",
       " 'IP|w',\n",
       " 'CRj|Pnr',\n",
       " 'CRj|rc',\n",
       " 'kg bi|PP',\n",
       " 'WH-DLUG|PP',\n",
       " 'IP|Pw',\n",
       " 'CRk|Prc',\n",
       " 'CRk|OMC',\n",
       " 'IP|WH-DLUG',\n",
       " 'kg bi|PI-POKR',\n",
       " 'og|Psm',\n",
       " 'OMC',\n",
       " 'CRj|Psm',\n",
       " 'IP|OMC',\n",
       " 'kg tł|w',\n",
       " 'PI-PLOD|Prc',\n",
       " 'PI-PROD|Pnr',\n",
       " 'kg tł|Pw',\n",
       " 'PI-PLOD|OMC',\n",
       " 'CRk|nr',\n",
       " 'kg tł|OMC',\n",
       " 'kg tł|WH-DLUG',\n",
       " 'Pw|Prc',\n",
       " 'PI-PLOD|nr',\n",
       " 'kg bi|w',\n",
       " 'nr|Pnr',\n",
       " 'WH-DLUG|nr',\n",
       " 'w|Prc',\n",
       " 'IP|CRj',\n",
       " 'Pw|PI-POKR',\n",
       " 'kg bi|OMC',\n",
       " 'WH-DLUG|Prc',\n",
       " 'kg bi|WH-DLUG',\n",
       " 'kg bi|Pw',\n",
       " 'IP|WH-KSOM',\n",
       " 'CRj|Prc',\n",
       " 'kg tł|CRj',\n",
       " 'og',\n",
       " 'PI-POKR|og',\n",
       " 'CRj|PP',\n",
       " 'CRk|og',\n",
       " 'Pw|PP',\n",
       " 'kg tł|WH-KSOM',\n",
       " 'PI-PLOD|og',\n",
       " 'w|PP',\n",
       " 'w|nr',\n",
       " 'Pw|nr',\n",
       " 'WH-KSOM|PI-POKR',\n",
       " 'og|rc',\n",
       " 'PI-PROD|Prc',\n",
       " 'PI-POKR|Prc',\n",
       " 'WH-KSOM|OMC',\n",
       " 'OMC|Pnr',\n",
       " 'kg bi|CRj',\n",
       " '% bi',\n",
       " '% bi|Psm',\n",
       " 'kg bi|WH-KSOM',\n",
       " '% bi|sm',\n",
       " '% bi|Pnr',\n",
       " 'CRj|nr',\n",
       " 'IP|CRk',\n",
       " 'OMC|sm',\n",
       " '% bi|Prc',\n",
       " '% bi|rc',\n",
       " 'kg tł|CRk',\n",
       " '% bi|PP',\n",
       " 'kg tł|PI-PLOD',\n",
       " 'IP|PI-PLOD',\n",
       " '% bi|PI-PROD',\n",
       " 'WH-DLUG|og',\n",
       " '% bi|nr',\n",
       " '% bi|og',\n",
       " '% bi|PI-POKR',\n",
       " '% bi|OMC',\n",
       " '% bi|w',\n",
       " 'nr',\n",
       " '% bi|Pw',\n",
       " 'kg ml|Psm',\n",
       " 'w|PI-POKR',\n",
       " '% bi|WH-KSOM',\n",
       " 'OMC|rc',\n",
       " 'kg ml|sm',\n",
       " 'og|Pnr',\n",
       " '% bi|WH-DLUG',\n",
       " '% tł|kg tł',\n",
       " 'CRj|og',\n",
       " 'kg ml',\n",
       " '% bi|CRj',\n",
       " 'WH-KSOM|PI-PROD',\n",
       " 'CRk|PI-POKR',\n",
       " '% bi|kg tł',\n",
       " '% bi|CRk',\n",
       " 'kg bi|CRk',\n",
       " 'PI-POKR|nr',\n",
       " 'kg ml|rc',\n",
       " 'OMC|Psm',\n",
       " 'PI-PLOD|PI-POKR',\n",
       " '% bi|PI-PLOD',\n",
       " '% tł|Psm',\n",
       " '% tł|sm',\n",
       " '% tł|Pnr',\n",
       " 'kg ml|Prc',\n",
       " 'kg ml|Pnr',\n",
       " '% tł|rc',\n",
       " '% tł',\n",
       " '% tł|Prc',\n",
       " 'PI-POKR|PP',\n",
       " '% tł|og',\n",
       " '% tł|PI-POKR',\n",
       " 'kg bi|PI-PLOD',\n",
       " '% tł|nr',\n",
       " '% tł|PP',\n",
       " '% tł|Pw',\n",
       " '% tł|w',\n",
       " '% bi|IP',\n",
       " 'CRk|CRj',\n",
       " '% tł|PI-PROD',\n",
       " '% tł|OMC',\n",
       " '% tł|WH-KSOM',\n",
       " 'CRj|OMC',\n",
       " '% tł|WH-DLUG',\n",
       " 'CRk|WH-DLUG',\n",
       " 'nr|sm',\n",
       " 'WH-KSOM|WH-DLUG',\n",
       " '% tł|CRj',\n",
       " 'WH-KSOM|w',\n",
       " '% tł|PI-PLOD',\n",
       " '% bi|kg bi',\n",
       " '% tł|CRk',\n",
       " 'PI-PLOD|WH-DLUG',\n",
       " 'PI-PROD|PP',\n",
       " 'CRk|PI-PROD',\n",
       " 'WH-DLUG|OMC',\n",
       " 'kg ml|og',\n",
       " 'PI-PLOD|PI-PROD',\n",
       " 'kg ml|nr',\n",
       " 'PI-PROD|nr',\n",
       " '% tł|IP',\n",
       " 'OMC|Prc',\n",
       " 'kg ml|PP',\n",
       " 'PI-PROD|og',\n",
       " 'og|Prc',\n",
       " 'nr|Psm',\n",
       " 'CRk|w',\n",
       " 'PI-PLOD|w',\n",
       " 'kg ml|PI-PROD',\n",
       " 'WH-KSOM|Pw',\n",
       " 'nr|rc',\n",
       " 'CRj|PI-POKR',\n",
       " 'CRk|Pw',\n",
       " 'PI-PLOD|Pw',\n",
       " 'Pw|OMC',\n",
       " 'OMC|nr',\n",
       " 'kg ml|PI-POKR',\n",
       " 'PP',\n",
       " 'kg ml|OMC',\n",
       " 'w|OMC',\n",
       " 'WH-DLUG|PI-POKR',\n",
       " '% tł|kg bi',\n",
       " 'Prc',\n",
       " 'Pw|w',\n",
       " 'CRj|PI-PROD',\n",
       " 'kg ml|WH-DLUG',\n",
       " 'kg ml|w',\n",
       " 'Prc|sm',\n",
       " 'kg ml|Pw',\n",
       " 'Prc|Psm',\n",
       " 'rc',\n",
       " 'rc|sm',\n",
       " 'Pw|PI-PROD',\n",
       " 'nr|Prc',\n",
       " 'og|PP',\n",
       " 'kg ml|CRj',\n",
       " 'kg tł|IP',\n",
       " 'kg bi|kg ml',\n",
       " 'WH-DLUG|PI-PROD',\n",
       " 'PP|Pnr',\n",
       " 'nr|PP',\n",
       " 'WH-KSOM|CRj',\n",
       " 'PP|sm',\n",
       " 'w|PI-PROD',\n",
       " 'OMC|og',\n",
       " '% bi|kg ml',\n",
       " '% bi|% tł',\n",
       " 'CRj|WH-DLUG',\n",
       " 'CRj|w',\n",
       " 'Prc|rc',\n",
       " 'PP|Psm',\n",
       " 'Prc|Pnr',\n",
       " 'kg ml|WH-KSOM',\n",
       " 'IP|kg ml',\n",
       " 'Pnr',\n",
       " 'kg ml|CRk',\n",
       " 'rc|Psm',\n",
       " 'PP|rc',\n",
       " 'PI-PLOD|WH-KSOM',\n",
       " 'Psm',\n",
       " 'kg ml|PI-PLOD',\n",
       " 'CRk|WH-KSOM',\n",
       " 'PI-PLOD|% bi',\n",
       " 'og|nr',\n",
       " 'CRj|% bi',\n",
       " 'CRk|% bi',\n",
       " 'CRj|Pw',\n",
       " 'kg bi|% bi',\n",
       " 'kg ml|% bi',\n",
       " 'nr|% bi',\n",
       " 'WH-KSOM|% bi',\n",
       " 'WH-DLUG|% bi',\n",
       " 'IP|% bi',\n",
       " 'Psm|sm',\n",
       " 'kg tł|% bi',\n",
       " 'sm',\n",
       " 'PI-PROD|% bi',\n",
       " 'w|% bi',\n",
       " 'kg tł|kg ml',\n",
       " 'PI-PROD|OMC',\n",
       " 'Pnr|% bi',\n",
       " 'Pw|% bi',\n",
       " 'OMC|% bi',\n",
       " 'og|% bi',\n",
       " 'PI-POKR|% bi',\n",
       " 'sm|% bi',\n",
       " 'PI-POKR|OMC',\n",
       " 'Psm|% bi',\n",
       " 'rc|% bi',\n",
       " 'Prc|% bi',\n",
       " 'kg tł|kg bi',\n",
       " 'IP|kg bi',\n",
       " 'PP|% bi',\n",
       " 'rc|Pnr',\n",
       " '% tł|kg ml',\n",
       " 'Pnr|sm',\n",
       " 'PI-PROD|PI-POKR',\n",
       " 'PI-PLOD|CRk',\n",
       " 'Pw|WH-DLUG',\n",
       " 'PP|Prc',\n",
       " 'WH-DLUG|w',\n",
       " 'Pnr|Psm',\n",
       " 'CRk|PI-PLOD',\n",
       " 'Psm|Pnr',\n",
       " '% tł|% bi',\n",
       " 'sm|Psm',\n",
       " 'w|WH-DLUG',\n",
       " 'PI-POKR|PI-PROD',\n",
       " 'sm|Pnr',\n",
       " 'Prc|PP',\n",
       " 'WH-DLUG|Pw',\n",
       " 'WH-KSOM|CRk',\n",
       " 'WH-KSOM|PI-PLOD',\n",
       " 'Pnr|rc',\n",
       " 'Pw|% tł',\n",
       " 'kg bi|% tł',\n",
       " 'OMC|PI-POKR',\n",
       " 'nr|og',\n",
       " 'w|% tł',\n",
       " 'Pw|CRj',\n",
       " 'WH-DLUG|% tł',\n",
       " 'PI-POKR|% tł',\n",
       " 'PP|% tł',\n",
       " 'WH-KSOM|% tł',\n",
       " 'CRk|% tł',\n",
       " 'OMC|% tł',\n",
       " 'PI-PROD|% tł',\n",
       " 'nr|% tł',\n",
       " 'IP|% tł',\n",
       " 'og|% tł',\n",
       " 'PI-PLOD|% tł',\n",
       " 'Prc|% tł',\n",
       " 'CRj|% tł',\n",
       " 'Pnr|% tł',\n",
       " 'rc|% tł',\n",
       " 'sm|% tł',\n",
       " 'Psm|% tł',\n",
       " 'OMC|PI-PROD',\n",
       " 'Psm|rc',\n",
       " 'rc|Prc',\n",
       " 'kg tł|% tł',\n",
       " 'kg ml|% tł',\n",
       " 'Pnr|Prc',\n",
       " 'rc|PP',\n",
       " 'CRk|kg ml',\n",
       " 'PI-PLOD|kg ml',\n",
       " 'w|CRj',\n",
       " 'kg bi|IP',\n",
       " 'CRj|WH-KSOM',\n",
       " 'WH-DLUG|CRj',\n",
       " 'Psm|PP',\n",
       " 'PI-PROD|w',\n",
       " 'Prc|nr',\n",
       " 'CRj|kg ml',\n",
       " 'WH-KSOM|kg ml',\n",
       " 'Pnr|PP',\n",
       " 'PP|nr',\n",
       " 'WH-DLUG|kg ml',\n",
       " 'Pw|kg ml',\n",
       " 'Psm|Prc',\n",
       " 'og|OMC',\n",
       " 'w|kg ml',\n",
       " 'sm|PP',\n",
       " 'PI-PROD|WH-DLUG',\n",
       " 'OMC|kg ml',\n",
       " 'sm|Prc',\n",
       " 'PI-PROD|Pw',\n",
       " 'PI-POKR|kg ml',\n",
       " 'PI-PROD|kg ml',\n",
       " 'w|Pw',\n",
       " 'PP|og',\n",
       " 'sm|rc',\n",
       " 'og|kg ml',\n",
       " 'nr|kg ml',\n",
       " 'PP|kg ml',\n",
       " 'PI-PROD|CRj',\n",
       " 'Prc|kg ml',\n",
       " 'rc|kg ml',\n",
       " 'OMC|w',\n",
       " 'Pnr|kg ml',\n",
       " 'nr|OMC',\n",
       " 'PI-POKR|WH-DLUG',\n",
       " 'PI-POKR|CRj',\n",
       " 'sm|kg ml',\n",
       " 'Psm|kg ml',\n",
       " 'kg bi|kg tł',\n",
       " 'IP|kg tł',\n",
       " 'Pw|PI-PLOD',\n",
       " 'Pw|CRk',\n",
       " 'Pw|WH-KSOM',\n",
       " 'OMC|Pw',\n",
       " 'rc|nr',\n",
       " 'Psm|nr',\n",
       " 'w|PI-PLOD',\n",
       " 'Prc|og',\n",
       " 'w|CRk',\n",
       " 'nr|PI-PROD',\n",
       " 'og|PI-PROD',\n",
       " 'Prc|OMC',\n",
       " 'w|WH-KSOM',\n",
       " 'OMC|WH-DLUG',\n",
       " 'WH-DLUG|PI-PLOD',\n",
       " 'kg ml|kg bi',\n",
       " 'PI-PROD|PI-PLOD',\n",
       " 'WH-DLUG|CRk',\n",
       " 'PI-PROD|CRk',\n",
       " 'WH-DLUG|WH-KSOM',\n",
       " 'sm|nr',\n",
       " 'PI-PLOD|kg tł',\n",
       " 'CRj|CRk',\n",
       " 'PP|PI-PROD',\n",
       " 'OMC|CRj',\n",
       " 'CRk|kg tł',\n",
       " 'kg ml|IP',\n",
       " 'WH-KSOM|kg tł',\n",
       " 'PI-POKR|PI-PLOD',\n",
       " 'PI-POKR|CRk',\n",
       " 'CRj|kg tł',\n",
       " 'nr|PI-POKR',\n",
       " 'Psm|OMC',\n",
       " 'og|CRj',\n",
       " 'Pw|kg tł',\n",
       " 'PP|PI-POKR',\n",
       " 'PI-PROD|WH-KSOM',\n",
       " 'PI-POKR|w',\n",
       " 'w|kg tł',\n",
       " 'kg ml|kg tł',\n",
       " 'Pnr|og',\n",
       " 'WH-DLUG|kg tł',\n",
       " 'PI-POKR|kg tł',\n",
       " 'OMC|kg tł',\n",
       " 'nr|CRj',\n",
       " 'rc|OMC',\n",
       " 'og|WH-DLUG',\n",
       " 'og|kg tł',\n",
       " 'nr|kg tł',\n",
       " 'PP|kg tł',\n",
       " 'OMC|WH-KSOM',\n",
       " 'Pnr|OMC',\n",
       " 'sm|OMC',\n",
       " 'PI-POKR|WH-KSOM',\n",
       " 'Prc|PI-POKR',\n",
       " 'Prc|PI-PROD',\n",
       " 'PI-PLOD|kg bi',\n",
       " 'og|PI-PLOD',\n",
       " 'Prc|CRj',\n",
       " 'CRk|kg bi',\n",
       " 'nr|w',\n",
       " 'og|CRk',\n",
       " 'PI-PROD|kg tł',\n",
       " 'Pnr|kg tł',\n",
       " 'nr|Pw',\n",
       " 'rc|kg tł',\n",
       " 'Prc|kg tł',\n",
       " 'Psm|kg tł',\n",
       " 'og|PI-POKR',\n",
       " 'sm|kg tł',\n",
       " 'rc|og',\n",
       " 'PP|CRj',\n",
       " 'PI-POKR|Pw',\n",
       " 'Prc|w',\n",
       " 'PP|w',\n",
       " 'WH-KSOM|kg bi',\n",
       " 'Pnr|nr',\n",
       " 'PI-PLOD|IP',\n",
       " 'Prc|WH-DLUG',\n",
       " 'CRk|IP',\n",
       " 'nr|PI-PLOD',\n",
       " 'PP|Pw',\n",
       " 'CRj|kg bi',\n",
       " 'nr|WH-DLUG',\n",
       " 'Prc|Pw',\n",
       " 'nr|CRk',\n",
       " 'Prc|PI-PLOD',\n",
       " 'OMC|PI-PLOD',\n",
       " 'Psm|CRj',\n",
       " 'WH-KSOM|IP',\n",
       " 'Pw|kg bi',\n",
       " 'WH-DLUG|kg bi',\n",
       " 'Pnr|PI-PROD',\n",
       " 'Prc|CRk',\n",
       " 'w|kg bi',\n",
       " 'CRj|IP',\n",
       " 'OMC|kg bi',\n",
       " 'Psm|og',\n",
       " 'OMC|CRk',\n",
       " 'Pnr|CRj',\n",
       " 'og|w',\n",
       " 'Psm|PI-PLOD',\n",
       " 'PI-POKR|kg bi',\n",
       " 'PP|WH-DLUG',\n",
       " 'rc|CRj',\n",
       " 'Psm|PI-POKR',\n",
       " 'Psm|CRk',\n",
       " 'Pw|IP',\n",
       " 'OMC|IP',\n",
       " 'sm|og',\n",
       " 'og|Pw',\n",
       " 'WH-DLUG|IP',\n",
       " 'sm|CRj',\n",
       " 'nr|WH-KSOM',\n",
       " 'PP|kg bi',\n",
       " 'w|IP',\n",
       " 'PP|PI-PLOD',\n",
       " 'CRj|PI-PLOD',\n",
       " 'PP|CRk',\n",
       " 'og|WH-KSOM',\n",
       " 'Psm|WH-DLUG',\n",
       " 'nr|kg bi',\n",
       " 'Psm|w',\n",
       " 'PP|OMC',\n",
       " 'Psm|Pw',\n",
       " 'Pnr|PI-PLOD',\n",
       " 'rc|PI-PROD',\n",
       " 'og|kg bi',\n",
       " 'rc|PI-PLOD',\n",
       " 'rc|PI-POKR',\n",
       " 'Pnr|CRk',\n",
       " 'PI-POKR|IP',\n",
       " 'sm|PI-PLOD',\n",
       " 'PP|WH-KSOM',\n",
       " 'rc|CRk',\n",
       " 'PP|IP',\n",
       " 'Pnr|Pw',\n",
       " 'sm|CRk',\n",
       " 'Psm|PI-PROD',\n",
       " 'PI-PROD|kg bi',\n",
       " 'Pnr|kg bi',\n",
       " 'Pnr|w',\n",
       " 'Pnr|PI-POKR',\n",
       " 'sm|PI-POKR',\n",
       " 'nr|IP',\n",
       " 'Prc|WH-KSOM',\n",
       " 'Prc|kg bi',\n",
       " 'rc|w',\n",
       " 'rc|kg bi',\n",
       " 'rc|Pw',\n",
       " 'sm|kg bi',\n",
       " 'rc|WH-DLUG',\n",
       " 'og|IP',\n",
       " 'Psm|kg bi',\n",
       " 'sm|PI-PROD',\n",
       " 'sm|Pw',\n",
       " 'Pnr|WH-DLUG',\n",
       " 'sm|WH-DLUG',\n",
       " 'sm|w',\n",
       " 'Pnr|IP',\n",
       " 'Prc|IP',\n",
       " 'rc|IP',\n",
       " 'PI-PROD|IP',\n",
       " 'sm|IP',\n",
       " 'Psm|IP',\n",
       " 'Psm|WH-KSOM',\n",
       " 'Pnr|WH-KSOM',\n",
       " 'rc|WH-KSOM',\n",
       " 'sm|WH-KSOM']"
      ]
     },
     "execution_count": 16,
     "metadata": {},
     "output_type": "execute_result"
    }
   ],
   "source": [
    "wszystkie_stw"
   ]
  },
  {
   "cell_type": "code",
   "execution_count": 17,
   "id": "0dc25eec",
   "metadata": {},
   "outputs": [
    {
     "data": {
      "text/plain": [
       "0      1.000000\n",
       "1      0.417513\n",
       "2      0.330746\n",
       "3      0.292574\n",
       "4      0.266520\n",
       "         ...   \n",
       "572   -0.236547\n",
       "573   -0.242505\n",
       "574   -0.258694\n",
       "575   -0.272700\n",
       "576   -0.291876\n",
       "Name: IE, Length: 577, dtype: float64"
      ]
     },
     "execution_count": 17,
     "metadata": {},
     "output_type": "execute_result"
    }
   ],
   "source": [
    "wyniki['IE']"
   ]
  },
  {
   "cell_type": "markdown",
   "id": "structural-theta",
   "metadata": {},
   "source": [
    "### Spradzam czy ten zabieg wytworzył nową, lepszą niż składowe zmienną"
   ]
  },
  {
   "cell_type": "code",
   "execution_count": 18,
   "id": "8244675a",
   "metadata": {},
   "outputs": [
    {
     "data": {
      "text/plain": [
       "['PI-PROD',\n",
       " 'PI-POKR',\n",
       " 'Prc',\n",
       " 'Psm',\n",
       " 'Pnr',\n",
       " 'Pw',\n",
       " 'PI-PLOD',\n",
       " 'CRj',\n",
       " 'CRk',\n",
       " 'PP',\n",
       " 'OMC',\n",
       " 'WH-KSOM',\n",
       " 'WH-DLUG',\n",
       " 'IP',\n",
       " 'kg ml',\n",
       " 'kg tł',\n",
       " '% tł',\n",
       " 'kg bi',\n",
       " '% bi',\n",
       " 'rc',\n",
       " 'sm',\n",
       " 'nr',\n",
       " 'w',\n",
       " 'og']"
      ]
     },
     "execution_count": 18,
     "metadata": {},
     "output_type": "execute_result"
    }
   ],
   "source": [
    "zmienne"
   ]
  },
  {
   "cell_type": "code",
   "execution_count": 55,
   "id": "c65cdbc9",
   "metadata": {},
   "outputs": [],
   "source": [
    "do_ex=pd.DataFrame()\n",
    "l_wyn=[]\n",
    "for x in zmienne:\n",
    "    akt_kom,akt_wart='',0\n",
    "    m_val= abs(list(wyniki[(wyniki['index']==x)]['IE'])[0]) # wart pods zmiennej\n",
    "    for index, row in wyniki.iterrows():\n",
    "        if '|' in row['index']: # jezeli to kombinacja\n",
    "            if x in row['index']: #jezeli zawiera zmienna\n",
    "                qqq=row['index'].split('|')[0]\n",
    "                qqq2=row['index'].split('|')[1]\n",
    "                if qqq==x:\n",
    "                    if abs(row['IE']) > m_val: #dana komb > podst zmienna 1\n",
    "                        if abs(row['IE']) > abs(list(wyniki[(wyniki['index']==qqq2)]['IE'])[0]): #dana komb > podst zmienna 2\n",
    "                            #print(abs(list(wyniki[(wyniki['index']==qqq2)]['IE'])[0]), m_val)\n",
    "                            akt_kom,akt_wart=row['index'],row['IE']\n",
    "                            row=[x,abs(round(m_val,2)),qqq2,round(abs(list(wyniki[(wyniki['index']==qqq2)]['IE'])[0]),2),akt_kom,abs(round(akt_wart,2))]\n",
    "                            w=pd.Series(row)\n",
    "                            do_ex=do_ex.append(w,ignore_index=True)\n",
    "do_ex.columns=['Zmienna 1', 'Kor 1','Zmienna 2','Kor 2','Zmienna komb','kor komb']"
   ]
  },
  {
   "cell_type": "code",
   "execution_count": 56,
   "id": "9f6d80a9",
   "metadata": {},
   "outputs": [
    {
     "data": {
      "text/html": [
       "<div>\n",
       "<style scoped>\n",
       "    .dataframe tbody tr th:only-of-type {\n",
       "        vertical-align: middle;\n",
       "    }\n",
       "\n",
       "    .dataframe tbody tr th {\n",
       "        vertical-align: top;\n",
       "    }\n",
       "\n",
       "    .dataframe thead th {\n",
       "        text-align: right;\n",
       "    }\n",
       "</style>\n",
       "<table border=\"1\" class=\"dataframe\">\n",
       "  <thead>\n",
       "    <tr style=\"text-align: right;\">\n",
       "      <th></th>\n",
       "      <th>Zmienna 1</th>\n",
       "      <th>Kor 1</th>\n",
       "      <th>Zmienna 2</th>\n",
       "      <th>Kor 2</th>\n",
       "      <th>Zmienna komb</th>\n",
       "      <th>kor komb</th>\n",
       "    </tr>\n",
       "  </thead>\n",
       "  <tbody>\n",
       "    <tr>\n",
       "      <th>0</th>\n",
       "      <td>PI-POKR</td>\n",
       "      <td>0.19</td>\n",
       "      <td>sm</td>\n",
       "      <td>0.01</td>\n",
       "      <td>PI-POKR|sm</td>\n",
       "      <td>0.19</td>\n",
       "    </tr>\n",
       "    <tr>\n",
       "      <th>1</th>\n",
       "      <td>Psm</td>\n",
       "      <td>0.01</td>\n",
       "      <td>og</td>\n",
       "      <td>0.12</td>\n",
       "      <td>Psm|og</td>\n",
       "      <td>0.15</td>\n",
       "    </tr>\n",
       "    <tr>\n",
       "      <th>2</th>\n",
       "      <td>Pnr</td>\n",
       "      <td>0.02</td>\n",
       "      <td>nr</td>\n",
       "      <td>0.10</td>\n",
       "      <td>Pnr|nr</td>\n",
       "      <td>0.13</td>\n",
       "    </tr>\n",
       "    <tr>\n",
       "      <th>3</th>\n",
       "      <td>Pnr</td>\n",
       "      <td>0.02</td>\n",
       "      <td>PI-POKR</td>\n",
       "      <td>0.19</td>\n",
       "      <td>Pnr|PI-POKR</td>\n",
       "      <td>0.19</td>\n",
       "    </tr>\n",
       "    <tr>\n",
       "      <th>4</th>\n",
       "      <td>PP</td>\n",
       "      <td>0.05</td>\n",
       "      <td>OMC</td>\n",
       "      <td>0.15</td>\n",
       "      <td>PP|OMC</td>\n",
       "      <td>0.17</td>\n",
       "    </tr>\n",
       "    <tr>\n",
       "      <th>5</th>\n",
       "      <td>OMC</td>\n",
       "      <td>0.15</td>\n",
       "      <td>PP</td>\n",
       "      <td>0.05</td>\n",
       "      <td>OMC|PP</td>\n",
       "      <td>0.17</td>\n",
       "    </tr>\n",
       "    <tr>\n",
       "      <th>6</th>\n",
       "      <td>IP</td>\n",
       "      <td>0.24</td>\n",
       "      <td>Psm</td>\n",
       "      <td>0.01</td>\n",
       "      <td>IP|Psm</td>\n",
       "      <td>0.26</td>\n",
       "    </tr>\n",
       "    <tr>\n",
       "      <th>7</th>\n",
       "      <td>IP</td>\n",
       "      <td>0.24</td>\n",
       "      <td>sm</td>\n",
       "      <td>0.01</td>\n",
       "      <td>IP|sm</td>\n",
       "      <td>0.25</td>\n",
       "    </tr>\n",
       "    <tr>\n",
       "      <th>8</th>\n",
       "      <td>IP</td>\n",
       "      <td>0.24</td>\n",
       "      <td>PI-PROD</td>\n",
       "      <td>0.24</td>\n",
       "      <td>IP|PI-PROD</td>\n",
       "      <td>0.24</td>\n",
       "    </tr>\n",
       "    <tr>\n",
       "      <th>9</th>\n",
       "      <td>kg ml</td>\n",
       "      <td>0.09</td>\n",
       "      <td>Psm</td>\n",
       "      <td>0.01</td>\n",
       "      <td>kg ml|Psm</td>\n",
       "      <td>0.09</td>\n",
       "    </tr>\n",
       "    <tr>\n",
       "      <th>10</th>\n",
       "      <td>kg ml</td>\n",
       "      <td>0.09</td>\n",
       "      <td>sm</td>\n",
       "      <td>0.01</td>\n",
       "      <td>kg ml|sm</td>\n",
       "      <td>0.09</td>\n",
       "    </tr>\n",
       "    <tr>\n",
       "      <th>11</th>\n",
       "      <td>kg tł</td>\n",
       "      <td>0.20</td>\n",
       "      <td>Psm</td>\n",
       "      <td>0.01</td>\n",
       "      <td>kg tł|Psm</td>\n",
       "      <td>0.21</td>\n",
       "    </tr>\n",
       "    <tr>\n",
       "      <th>12</th>\n",
       "      <td>kg tł</td>\n",
       "      <td>0.20</td>\n",
       "      <td>sm</td>\n",
       "      <td>0.01</td>\n",
       "      <td>kg tł|sm</td>\n",
       "      <td>0.21</td>\n",
       "    </tr>\n",
       "    <tr>\n",
       "      <th>13</th>\n",
       "      <td>% tł</td>\n",
       "      <td>0.08</td>\n",
       "      <td>Psm</td>\n",
       "      <td>0.01</td>\n",
       "      <td>% tł|Psm</td>\n",
       "      <td>0.08</td>\n",
       "    </tr>\n",
       "    <tr>\n",
       "      <th>14</th>\n",
       "      <td>% tł</td>\n",
       "      <td>0.08</td>\n",
       "      <td>sm</td>\n",
       "      <td>0.01</td>\n",
       "      <td>% tł|sm</td>\n",
       "      <td>0.08</td>\n",
       "    </tr>\n",
       "    <tr>\n",
       "      <th>15</th>\n",
       "      <td>% tł</td>\n",
       "      <td>0.08</td>\n",
       "      <td>Pnr</td>\n",
       "      <td>0.02</td>\n",
       "      <td>% tł|Pnr</td>\n",
       "      <td>0.08</td>\n",
       "    </tr>\n",
       "    <tr>\n",
       "      <th>16</th>\n",
       "      <td>% tł</td>\n",
       "      <td>0.08</td>\n",
       "      <td>rc</td>\n",
       "      <td>0.03</td>\n",
       "      <td>% tł|rc</td>\n",
       "      <td>0.08</td>\n",
       "    </tr>\n",
       "    <tr>\n",
       "      <th>17</th>\n",
       "      <td>kg bi</td>\n",
       "      <td>0.21</td>\n",
       "      <td>Psm</td>\n",
       "      <td>0.01</td>\n",
       "      <td>kg bi|Psm</td>\n",
       "      <td>0.22</td>\n",
       "    </tr>\n",
       "    <tr>\n",
       "      <th>18</th>\n",
       "      <td>kg bi</td>\n",
       "      <td>0.21</td>\n",
       "      <td>sm</td>\n",
       "      <td>0.01</td>\n",
       "      <td>kg bi|sm</td>\n",
       "      <td>0.21</td>\n",
       "    </tr>\n",
       "    <tr>\n",
       "      <th>19</th>\n",
       "      <td>rc</td>\n",
       "      <td>0.03</td>\n",
       "      <td>og</td>\n",
       "      <td>0.12</td>\n",
       "      <td>rc|og</td>\n",
       "      <td>0.12</td>\n",
       "    </tr>\n",
       "    <tr>\n",
       "      <th>20</th>\n",
       "      <td>sm</td>\n",
       "      <td>0.01</td>\n",
       "      <td>Prc</td>\n",
       "      <td>0.04</td>\n",
       "      <td>sm|Prc</td>\n",
       "      <td>0.04</td>\n",
       "    </tr>\n",
       "    <tr>\n",
       "      <th>21</th>\n",
       "      <td>sm</td>\n",
       "      <td>0.01</td>\n",
       "      <td>rc</td>\n",
       "      <td>0.03</td>\n",
       "      <td>sm|rc</td>\n",
       "      <td>0.05</td>\n",
       "    </tr>\n",
       "    <tr>\n",
       "      <th>22</th>\n",
       "      <td>sm</td>\n",
       "      <td>0.01</td>\n",
       "      <td>og</td>\n",
       "      <td>0.12</td>\n",
       "      <td>sm|og</td>\n",
       "      <td>0.16</td>\n",
       "    </tr>\n",
       "    <tr>\n",
       "      <th>23</th>\n",
       "      <td>sm</td>\n",
       "      <td>0.01</td>\n",
       "      <td>PI-POKR</td>\n",
       "      <td>0.19</td>\n",
       "      <td>sm|PI-POKR</td>\n",
       "      <td>0.19</td>\n",
       "    </tr>\n",
       "    <tr>\n",
       "      <th>24</th>\n",
       "      <td>nr</td>\n",
       "      <td>0.10</td>\n",
       "      <td>Pnr</td>\n",
       "      <td>0.02</td>\n",
       "      <td>nr|Pnr</td>\n",
       "      <td>0.13</td>\n",
       "    </tr>\n",
       "    <tr>\n",
       "      <th>25</th>\n",
       "      <td>og</td>\n",
       "      <td>0.12</td>\n",
       "      <td>sm</td>\n",
       "      <td>0.01</td>\n",
       "      <td>og|sm</td>\n",
       "      <td>0.16</td>\n",
       "    </tr>\n",
       "    <tr>\n",
       "      <th>26</th>\n",
       "      <td>og</td>\n",
       "      <td>0.12</td>\n",
       "      <td>Psm</td>\n",
       "      <td>0.01</td>\n",
       "      <td>og|Psm</td>\n",
       "      <td>0.15</td>\n",
       "    </tr>\n",
       "  </tbody>\n",
       "</table>\n",
       "</div>"
      ],
      "text/plain": [
       "   Zmienna 1  Kor 1 Zmienna 2  Kor 2 Zmienna komb  kor komb\n",
       "0    PI-POKR   0.19        sm   0.01   PI-POKR|sm      0.19\n",
       "1        Psm   0.01        og   0.12       Psm|og      0.15\n",
       "2        Pnr   0.02        nr   0.10       Pnr|nr      0.13\n",
       "3        Pnr   0.02   PI-POKR   0.19  Pnr|PI-POKR      0.19\n",
       "4         PP   0.05       OMC   0.15       PP|OMC      0.17\n",
       "5        OMC   0.15        PP   0.05       OMC|PP      0.17\n",
       "6         IP   0.24       Psm   0.01       IP|Psm      0.26\n",
       "7         IP   0.24        sm   0.01        IP|sm      0.25\n",
       "8         IP   0.24   PI-PROD   0.24   IP|PI-PROD      0.24\n",
       "9      kg ml   0.09       Psm   0.01    kg ml|Psm      0.09\n",
       "10     kg ml   0.09        sm   0.01     kg ml|sm      0.09\n",
       "11     kg tł   0.20       Psm   0.01    kg tł|Psm      0.21\n",
       "12     kg tł   0.20        sm   0.01     kg tł|sm      0.21\n",
       "13      % tł   0.08       Psm   0.01     % tł|Psm      0.08\n",
       "14      % tł   0.08        sm   0.01      % tł|sm      0.08\n",
       "15      % tł   0.08       Pnr   0.02     % tł|Pnr      0.08\n",
       "16      % tł   0.08        rc   0.03      % tł|rc      0.08\n",
       "17     kg bi   0.21       Psm   0.01    kg bi|Psm      0.22\n",
       "18     kg bi   0.21        sm   0.01     kg bi|sm      0.21\n",
       "19        rc   0.03        og   0.12        rc|og      0.12\n",
       "20        sm   0.01       Prc   0.04       sm|Prc      0.04\n",
       "21        sm   0.01        rc   0.03        sm|rc      0.05\n",
       "22        sm   0.01        og   0.12        sm|og      0.16\n",
       "23        sm   0.01   PI-POKR   0.19   sm|PI-POKR      0.19\n",
       "24        nr   0.10       Pnr   0.02       nr|Pnr      0.13\n",
       "25        og   0.12        sm   0.01        og|sm      0.16\n",
       "26        og   0.12       Psm   0.01       og|Psm      0.15"
      ]
     },
     "execution_count": 56,
     "metadata": {},
     "output_type": "execute_result"
    }
   ],
   "source": [
    "do_ex"
   ]
  },
  {
   "cell_type": "code",
   "execution_count": 59,
   "id": "5c911ecd",
   "metadata": {},
   "outputs": [],
   "source": [
    "do_ex.to_csv('Kor IE.csv')"
   ]
  },
  {
   "cell_type": "code",
   "execution_count": 51,
   "id": "caed2cdf",
   "metadata": {},
   "outputs": [
    {
     "data": {
      "text/plain": [
       "[('IP|PI-PROD', 0.2412098149307539),\n",
       " ('sm|PI-POKR', -0.19140380082684796),\n",
       " ('Prc|IP', -0.2207632557945951),\n",
       " ('Psm|WH-KSOM', -0.24250532872591662),\n",
       " ('Pnr|WH-KSOM', -0.25869440152692186),\n",
       " ('', 0),\n",
       " ('', 0),\n",
       " ('', 0),\n",
       " ('', 0),\n",
       " ('PP|IP', -0.18408992941827876),\n",
       " ('PP|OMC', -0.1722699212406056),\n",
       " ('', 0),\n",
       " ('', 0),\n",
       " ('IP|PI-PROD', 0.2412098149307539),\n",
       " ('kg ml|kg tł', -0.09583006287795688),\n",
       " ('kg tł|sm', 0.2070925859180161),\n",
       " ('% tł|rc', 0.08219763948687653),\n",
       " ('kg bi|sm', 0.21331173925643918),\n",
       " ('', 0),\n",
       " ('rc|WH-KSOM', -0.2726998529674157),\n",
       " ('sm|WH-KSOM', -0.29187614067370643),\n",
       " ('Pnr|WH-KSOM', -0.25869440152692186),\n",
       " ('', 0),\n",
       " ('og|IP', -0.2017769824598957)]"
      ]
     },
     "execution_count": 51,
     "metadata": {},
     "output_type": "execute_result"
    }
   ],
   "source": [
    "l_wyn"
   ]
  },
  {
   "cell_type": "code",
   "execution_count": 35,
   "id": "4dcafa1e",
   "metadata": {},
   "outputs": [
    {
     "ename": "KeyError",
     "evalue": "False",
     "output_type": "error",
     "traceback": [
      "\u001b[1;31m---------------------------------------------------------------------------\u001b[0m",
      "\u001b[1;31mKeyError\u001b[0m                                  Traceback (most recent call last)",
      "\u001b[1;32mD:\\anaconda\\lib\\site-packages\\pandas\\core\\indexes\\base.py\u001b[0m in \u001b[0;36mget_loc\u001b[1;34m(self, key, method, tolerance)\u001b[0m\n\u001b[0;32m   3079\u001b[0m             \u001b[1;32mtry\u001b[0m\u001b[1;33m:\u001b[0m\u001b[1;33m\u001b[0m\u001b[1;33m\u001b[0m\u001b[0m\n\u001b[1;32m-> 3080\u001b[1;33m                 \u001b[1;32mreturn\u001b[0m \u001b[0mself\u001b[0m\u001b[1;33m.\u001b[0m\u001b[0m_engine\u001b[0m\u001b[1;33m.\u001b[0m\u001b[0mget_loc\u001b[0m\u001b[1;33m(\u001b[0m\u001b[0mcasted_key\u001b[0m\u001b[1;33m)\u001b[0m\u001b[1;33m\u001b[0m\u001b[1;33m\u001b[0m\u001b[0m\n\u001b[0m\u001b[0;32m   3081\u001b[0m             \u001b[1;32mexcept\u001b[0m \u001b[0mKeyError\u001b[0m \u001b[1;32mas\u001b[0m \u001b[0merr\u001b[0m\u001b[1;33m:\u001b[0m\u001b[1;33m\u001b[0m\u001b[1;33m\u001b[0m\u001b[0m\n",
      "\u001b[1;32mpandas\\_libs\\index.pyx\u001b[0m in \u001b[0;36mpandas._libs.index.IndexEngine.get_loc\u001b[1;34m()\u001b[0m\n",
      "\u001b[1;32mpandas\\_libs\\index.pyx\u001b[0m in \u001b[0;36mpandas._libs.index.IndexEngine.get_loc\u001b[1;34m()\u001b[0m\n",
      "\u001b[1;32mpandas\\_libs\\hashtable_class_helper.pxi\u001b[0m in \u001b[0;36mpandas._libs.hashtable.PyObjectHashTable.get_item\u001b[1;34m()\u001b[0m\n",
      "\u001b[1;32mpandas\\_libs\\hashtable_class_helper.pxi\u001b[0m in \u001b[0;36mpandas._libs.hashtable.PyObjectHashTable.get_item\u001b[1;34m()\u001b[0m\n",
      "\u001b[1;31mKeyError\u001b[0m: False",
      "\nThe above exception was the direct cause of the following exception:\n",
      "\u001b[1;31mKeyError\u001b[0m                                  Traceback (most recent call last)",
      "\u001b[1;32m<ipython-input-35-99f34c4b7a0f>\u001b[0m in \u001b[0;36m<module>\u001b[1;34m\u001b[0m\n\u001b[1;32m----> 1\u001b[1;33m \u001b[0mwyniki\u001b[0m\u001b[1;33m[\u001b[0m\u001b[1;34m'OMC'\u001b[0m \u001b[1;32min\u001b[0m \u001b[0mwyniki\u001b[0m\u001b[1;33m[\u001b[0m\u001b[1;34m'index'\u001b[0m\u001b[1;33m]\u001b[0m\u001b[1;33m]\u001b[0m\u001b[1;33m\u001b[0m\u001b[1;33m\u001b[0m\u001b[0m\n\u001b[0m",
      "\u001b[1;32mD:\\anaconda\\lib\\site-packages\\pandas\\core\\frame.py\u001b[0m in \u001b[0;36m__getitem__\u001b[1;34m(self, key)\u001b[0m\n\u001b[0;32m   3022\u001b[0m             \u001b[1;32mif\u001b[0m \u001b[0mself\u001b[0m\u001b[1;33m.\u001b[0m\u001b[0mcolumns\u001b[0m\u001b[1;33m.\u001b[0m\u001b[0mnlevels\u001b[0m \u001b[1;33m>\u001b[0m \u001b[1;36m1\u001b[0m\u001b[1;33m:\u001b[0m\u001b[1;33m\u001b[0m\u001b[1;33m\u001b[0m\u001b[0m\n\u001b[0;32m   3023\u001b[0m                 \u001b[1;32mreturn\u001b[0m \u001b[0mself\u001b[0m\u001b[1;33m.\u001b[0m\u001b[0m_getitem_multilevel\u001b[0m\u001b[1;33m(\u001b[0m\u001b[0mkey\u001b[0m\u001b[1;33m)\u001b[0m\u001b[1;33m\u001b[0m\u001b[1;33m\u001b[0m\u001b[0m\n\u001b[1;32m-> 3024\u001b[1;33m             \u001b[0mindexer\u001b[0m \u001b[1;33m=\u001b[0m \u001b[0mself\u001b[0m\u001b[1;33m.\u001b[0m\u001b[0mcolumns\u001b[0m\u001b[1;33m.\u001b[0m\u001b[0mget_loc\u001b[0m\u001b[1;33m(\u001b[0m\u001b[0mkey\u001b[0m\u001b[1;33m)\u001b[0m\u001b[1;33m\u001b[0m\u001b[1;33m\u001b[0m\u001b[0m\n\u001b[0m\u001b[0;32m   3025\u001b[0m             \u001b[1;32mif\u001b[0m \u001b[0mis_integer\u001b[0m\u001b[1;33m(\u001b[0m\u001b[0mindexer\u001b[0m\u001b[1;33m)\u001b[0m\u001b[1;33m:\u001b[0m\u001b[1;33m\u001b[0m\u001b[1;33m\u001b[0m\u001b[0m\n\u001b[0;32m   3026\u001b[0m                 \u001b[0mindexer\u001b[0m \u001b[1;33m=\u001b[0m \u001b[1;33m[\u001b[0m\u001b[0mindexer\u001b[0m\u001b[1;33m]\u001b[0m\u001b[1;33m\u001b[0m\u001b[1;33m\u001b[0m\u001b[0m\n",
      "\u001b[1;32mD:\\anaconda\\lib\\site-packages\\pandas\\core\\indexes\\base.py\u001b[0m in \u001b[0;36mget_loc\u001b[1;34m(self, key, method, tolerance)\u001b[0m\n\u001b[0;32m   3080\u001b[0m                 \u001b[1;32mreturn\u001b[0m \u001b[0mself\u001b[0m\u001b[1;33m.\u001b[0m\u001b[0m_engine\u001b[0m\u001b[1;33m.\u001b[0m\u001b[0mget_loc\u001b[0m\u001b[1;33m(\u001b[0m\u001b[0mcasted_key\u001b[0m\u001b[1;33m)\u001b[0m\u001b[1;33m\u001b[0m\u001b[1;33m\u001b[0m\u001b[0m\n\u001b[0;32m   3081\u001b[0m             \u001b[1;32mexcept\u001b[0m \u001b[0mKeyError\u001b[0m \u001b[1;32mas\u001b[0m \u001b[0merr\u001b[0m\u001b[1;33m:\u001b[0m\u001b[1;33m\u001b[0m\u001b[1;33m\u001b[0m\u001b[0m\n\u001b[1;32m-> 3082\u001b[1;33m                 \u001b[1;32mraise\u001b[0m \u001b[0mKeyError\u001b[0m\u001b[1;33m(\u001b[0m\u001b[0mkey\u001b[0m\u001b[1;33m)\u001b[0m \u001b[1;32mfrom\u001b[0m \u001b[0merr\u001b[0m\u001b[1;33m\u001b[0m\u001b[1;33m\u001b[0m\u001b[0m\n\u001b[0m\u001b[0;32m   3083\u001b[0m \u001b[1;33m\u001b[0m\u001b[0m\n\u001b[0;32m   3084\u001b[0m         \u001b[1;32mif\u001b[0m \u001b[0mtolerance\u001b[0m \u001b[1;32mis\u001b[0m \u001b[1;32mnot\u001b[0m \u001b[1;32mNone\u001b[0m\u001b[1;33m:\u001b[0m\u001b[1;33m\u001b[0m\u001b[1;33m\u001b[0m\u001b[0m\n",
      "\u001b[1;31mKeyError\u001b[0m: False"
     ]
    }
   ],
   "source": [
    "for x in range(wyniki.shape[0]):\n",
    "    if wyniki['OMC' in wyniki['index']]"
   ]
  },
  {
   "cell_type": "code",
   "execution_count": 22,
   "id": "harmful-basic",
   "metadata": {},
   "outputs": [
    {
     "ename": "IndexError",
     "evalue": "list index out of range",
     "output_type": "error",
     "traceback": [
      "\u001b[1;31m---------------------------------------------------------------------------\u001b[0m",
      "\u001b[1;31mIndexError\u001b[0m                                Traceback (most recent call last)",
      "\u001b[1;32m<ipython-input-22-fbc2f00860b3>\u001b[0m in \u001b[0;36m<module>\u001b[1;34m\u001b[0m\n\u001b[0;32m      3\u001b[0m \u001b[0mna_wyniki\u001b[0m\u001b[1;33m=\u001b[0m\u001b[1;33m[\u001b[0m\u001b[1;33m]\u001b[0m\u001b[1;33m\u001b[0m\u001b[1;33m\u001b[0m\u001b[0m\n\u001b[0;32m      4\u001b[0m \u001b[1;32mfor\u001b[0m \u001b[0mq\u001b[0m \u001b[1;32min\u001b[0m \u001b[0mwszystkie_stw\u001b[0m\u001b[1;33m:\u001b[0m\u001b[1;33m\u001b[0m\u001b[1;33m\u001b[0m\u001b[0m\n\u001b[1;32m----> 5\u001b[1;33m     \u001b[0ma\u001b[0m\u001b[1;33m=\u001b[0m\u001b[0mstr\u001b[0m\u001b[1;33m(\u001b[0m\u001b[0mwyniki\u001b[0m\u001b[1;33m[\u001b[0m\u001b[1;34m\"IE\"\u001b[0m\u001b[1;33m]\u001b[0m\u001b[1;33m.\u001b[0m\u001b[0mloc\u001b[0m\u001b[1;33m[\u001b[0m\u001b[0mwyniki\u001b[0m\u001b[1;33m[\u001b[0m\u001b[1;34m'index'\u001b[0m\u001b[1;33m]\u001b[0m \u001b[1;33m==\u001b[0m \u001b[0mq\u001b[0m\u001b[1;33m]\u001b[0m\u001b[1;33m)\u001b[0m\u001b[1;33m.\u001b[0m\u001b[0msplit\u001b[0m\u001b[1;33m(\u001b[0m\u001b[1;34m\"    \"\u001b[0m\u001b[1;33m)\u001b[0m\u001b[1;33m[\u001b[0m\u001b[1;36m1\u001b[0m\u001b[1;33m]\u001b[0m\u001b[1;33m.\u001b[0m\u001b[0msplit\u001b[0m\u001b[1;33m(\u001b[0m\u001b[1;34m\"\\n\"\u001b[0m\u001b[1;33m)\u001b[0m\u001b[1;33m[\u001b[0m\u001b[1;36m0\u001b[0m\u001b[1;33m]\u001b[0m\u001b[1;33m\u001b[0m\u001b[1;33m\u001b[0m\u001b[0m\n\u001b[0m\u001b[0;32m      6\u001b[0m     \u001b[0mb\u001b[0m\u001b[1;33m=\u001b[0m\u001b[0mq\u001b[0m\u001b[1;33m\u001b[0m\u001b[1;33m\u001b[0m\u001b[0m\n\u001b[0;32m      7\u001b[0m     \u001b[0mtulpa\u001b[0m\u001b[1;33m=\u001b[0m\u001b[1;33m(\u001b[0m\u001b[0mb\u001b[0m\u001b[1;33m,\u001b[0m\u001b[0ma\u001b[0m\u001b[1;33m)\u001b[0m\u001b[1;33m\u001b[0m\u001b[1;33m\u001b[0m\u001b[0m\n",
      "\u001b[1;31mIndexError\u001b[0m: list index out of range"
     ]
    }
   ],
   "source": [
    "#Wybieram pierwsze wpisy, ponieważ korealcja w data framie wyniki jest spadkowa - im niżej tym gorsza # a nie nizsza tylko gorsza\n",
    "na_tulpy=[]\n",
    "na_wyniki=[]\n",
    "for q in wszystkie_stw:\n",
    "    a=str(wyniki[\"IE\"].loc[wyniki['index'] == q]).split(\"    \")[1].split(\"\\n\")[0]\n",
    "    b=q\n",
    "    tulpa=(b,a)\n",
    "    na_tulpy.append(tulpa)\n",
    "na_tulpy"
   ]
  },
  {
   "cell_type": "code",
   "execution_count": 17,
   "id": "graduate-willow",
   "metadata": {},
   "outputs": [
    {
     "name": "stdout",
     "output_type": "stream",
     "text": [
      "IP 0.239824 \t oraz \t Psm 0.013767 -> \t IP | Psm 0.260667\n",
      "OMC 0.146792 \t oraz \t PP 0.046453 -> \t OMC | PP 0.170628\n"
     ]
    }
   ],
   "source": [
    "obiecujace=[]\n",
    "for tulpa in na_tulpy:\n",
    "    x=tulpa[0]\n",
    "    wynik=float(tulpa[1])\n",
    "    nazwy_dwie=x.split(\"|\")\n",
    "    w_1=float(str(korelacje[\"IE\"].loc[korelacje[\"index\"]==nazwy_dwie[0]]).split(\"\\n\")[0].split(\"   \")[1])\n",
    "    w_2=float(str(korelacje[\"IE\"].loc[korelacje[\"index\"]==nazwy_dwie[1]]).split(\"\\n\")[0].split(\"   \")[1])\n",
    "    if abs(w_1) <= abs(wynik) :\n",
    "        if abs(w_2)<=abs(wynik):   \n",
    "            print(nazwy_dwie[0], w_1,\"\\t\", \"oraz\",\"\\t\",nazwy_dwie[1], w_2, \"->\",\"\\t\", nazwy_dwie[0],\"|\",nazwy_dwie[1], wynik)\n",
    "            obiecujace.append(x)"
   ]
  },
  {
   "cell_type": "markdown",
   "id": "aggressive-columbia",
   "metadata": {},
   "source": [
    "### Kombinacje zmiennych, o korelacji lepszej niż z osobna"
   ]
  },
  {
   "cell_type": "code",
   "execution_count": 18,
   "id": "absolute-costume",
   "metadata": {},
   "outputs": [
    {
     "data": {
      "text/plain": [
       "['IP|Psm', 'OMC|PP']"
      ]
     },
     "execution_count": 18,
     "metadata": {},
     "output_type": "execute_result"
    }
   ],
   "source": [
    "obiecujace"
   ]
  },
  {
   "cell_type": "markdown",
   "id": "1c68ee78",
   "metadata": {},
   "source": [
    "## IE według województwa"
   ]
  },
  {
   "cell_type": "code",
   "execution_count": 19,
   "id": "19b9fde6",
   "metadata": {},
   "outputs": [
    {
     "data": {
      "text/plain": [
       "WIELKOPOLSKIE          524\n",
       "KUJAWSKO-POMORSKIE     261\n",
       "OPOLSKIE               210\n",
       "ZACHODNIOPOMORSKIE     183\n",
       "PODLASKIE              161\n",
       "MAZOWIECKIE             97\n",
       "POMORSKIE               85\n",
       "LUBUSKIE                40\n",
       "ŁÓDZKIE                 37\n",
       "DOLNOŚLĄSKIE            29\n",
       "WARMIŃSKO-MAZURSKIE     21\n",
       "ŚLĄSKIE                 16\n",
       "ŚWIĘTOKRZYSKIE          13\n",
       "MAŁOPOLSKIE             12\n",
       "LUBELSKIE                3\n",
       "PODKARPACKIE             1\n",
       "Name: Województwo, dtype: int64"
      ]
     },
     "execution_count": 19,
     "metadata": {},
     "output_type": "execute_result"
    }
   ],
   "source": [
    "dane['Województwo'].value_counts()"
   ]
  },
  {
   "cell_type": "code",
   "execution_count": 20,
   "id": "e28103ee",
   "metadata": {},
   "outputs": [],
   "source": [
    "woj=[\"WIELKOPOLSKIE\",          \n",
    "\"KUJAWSKO-POMORSKIE\",     \n",
    "\"OPOLSKIE\",               \n",
    "\"ZACHODNIOPOMORSKIE\",     \n",
    "\"PODLASKIE\",              \n",
    "\"MAZOWIECKIE\",             \n",
    "\"POMORSKIE\",               \n",
    "\"LUBUSKIE\",                \n",
    "\"ŁÓDZKIE\",                 \n",
    "\"DOLNOŚLĄSKIE\",            \n",
    "\"WARMIŃSKO-MAZURSKIE\",     \n",
    "\"ŚLĄSKIE\",                 \n",
    "\"ŚWIĘTOKRZYSKIE\",          \n",
    "\"MAŁOPOLSKIE\",            \n",
    "]             \n",
    "woj_dict={}\n",
    "for x in woj:\n",
    "    woj_dict[x]=dane['IE'][dane['Województwo']==x].mean()"
   ]
  },
  {
   "cell_type": "code",
   "execution_count": 21,
   "id": "7b6ef1e8",
   "metadata": {},
   "outputs": [
    {
     "data": {
      "text/plain": [
       "{'WIELKOPOLSKIE': 2191.0419847328244,\n",
       " 'KUJAWSKO-POMORSKIE': 2200.76245210728,\n",
       " 'OPOLSKIE': 2171.109523809524,\n",
       " 'ZACHODNIOPOMORSKIE': 2207.256830601093,\n",
       " 'PODLASKIE': 2173.8571428571427,\n",
       " 'MAZOWIECKIE': 2173.577319587629,\n",
       " 'POMORSKIE': 2143.0941176470587,\n",
       " 'LUBUSKIE': 2180.35,\n",
       " 'ŁÓDZKIE': 2144.0810810810813,\n",
       " 'DOLNOŚLĄSKIE': 2177.7586206896553,\n",
       " 'WARMIŃSKO-MAZURSKIE': 2120.809523809524,\n",
       " 'ŚLĄSKIE': 2237.625,\n",
       " 'ŚWIĘTOKRZYSKIE': 2194.230769230769,\n",
       " 'MAŁOPOLSKIE': 2165.5833333333335}"
      ]
     },
     "execution_count": 21,
     "metadata": {},
     "output_type": "execute_result"
    }
   ],
   "source": [
    "woj_dict"
   ]
  },
  {
   "cell_type": "code",
   "execution_count": 22,
   "id": "98d8e315",
   "metadata": {},
   "outputs": [],
   "source": [
    "keys = woj_dict.keys()\n",
    "values = woj_dict.values()\n",
    "\n",
    "dane_wojewodztwa = pd.DataFrame({'IE': values,\n",
    "                 'Województwa': keys})"
   ]
  },
  {
   "cell_type": "code",
   "execution_count": 23,
   "id": "e3a50248",
   "metadata": {},
   "outputs": [
    {
     "data": {
      "text/html": [
       "<div>\n",
       "<style scoped>\n",
       "    .dataframe tbody tr th:only-of-type {\n",
       "        vertical-align: middle;\n",
       "    }\n",
       "\n",
       "    .dataframe tbody tr th {\n",
       "        vertical-align: top;\n",
       "    }\n",
       "\n",
       "    .dataframe thead th {\n",
       "        text-align: right;\n",
       "    }\n",
       "</style>\n",
       "<table border=\"1\" class=\"dataframe\">\n",
       "  <thead>\n",
       "    <tr style=\"text-align: right;\">\n",
       "      <th></th>\n",
       "      <th>IE</th>\n",
       "      <th>Województwa</th>\n",
       "    </tr>\n",
       "  </thead>\n",
       "  <tbody>\n",
       "    <tr>\n",
       "      <th>0</th>\n",
       "      <td>2191.041985</td>\n",
       "      <td>WIELKOPOLSKIE</td>\n",
       "    </tr>\n",
       "    <tr>\n",
       "      <th>1</th>\n",
       "      <td>2200.762452</td>\n",
       "      <td>KUJAWSKO-POMORSKIE</td>\n",
       "    </tr>\n",
       "    <tr>\n",
       "      <th>2</th>\n",
       "      <td>2171.109524</td>\n",
       "      <td>OPOLSKIE</td>\n",
       "    </tr>\n",
       "    <tr>\n",
       "      <th>3</th>\n",
       "      <td>2207.256831</td>\n",
       "      <td>ZACHODNIOPOMORSKIE</td>\n",
       "    </tr>\n",
       "    <tr>\n",
       "      <th>4</th>\n",
       "      <td>2173.857143</td>\n",
       "      <td>PODLASKIE</td>\n",
       "    </tr>\n",
       "    <tr>\n",
       "      <th>5</th>\n",
       "      <td>2173.577320</td>\n",
       "      <td>MAZOWIECKIE</td>\n",
       "    </tr>\n",
       "    <tr>\n",
       "      <th>6</th>\n",
       "      <td>2143.094118</td>\n",
       "      <td>POMORSKIE</td>\n",
       "    </tr>\n",
       "    <tr>\n",
       "      <th>7</th>\n",
       "      <td>2180.350000</td>\n",
       "      <td>LUBUSKIE</td>\n",
       "    </tr>\n",
       "    <tr>\n",
       "      <th>8</th>\n",
       "      <td>2144.081081</td>\n",
       "      <td>ŁÓDZKIE</td>\n",
       "    </tr>\n",
       "    <tr>\n",
       "      <th>9</th>\n",
       "      <td>2177.758621</td>\n",
       "      <td>DOLNOŚLĄSKIE</td>\n",
       "    </tr>\n",
       "    <tr>\n",
       "      <th>10</th>\n",
       "      <td>2120.809524</td>\n",
       "      <td>WARMIŃSKO-MAZURSKIE</td>\n",
       "    </tr>\n",
       "    <tr>\n",
       "      <th>11</th>\n",
       "      <td>2237.625000</td>\n",
       "      <td>ŚLĄSKIE</td>\n",
       "    </tr>\n",
       "    <tr>\n",
       "      <th>12</th>\n",
       "      <td>2194.230769</td>\n",
       "      <td>ŚWIĘTOKRZYSKIE</td>\n",
       "    </tr>\n",
       "    <tr>\n",
       "      <th>13</th>\n",
       "      <td>2165.583333</td>\n",
       "      <td>MAŁOPOLSKIE</td>\n",
       "    </tr>\n",
       "  </tbody>\n",
       "</table>\n",
       "</div>"
      ],
      "text/plain": [
       "             IE          Województwa\n",
       "0   2191.041985        WIELKOPOLSKIE\n",
       "1   2200.762452   KUJAWSKO-POMORSKIE\n",
       "2   2171.109524             OPOLSKIE\n",
       "3   2207.256831   ZACHODNIOPOMORSKIE\n",
       "4   2173.857143            PODLASKIE\n",
       "5   2173.577320          MAZOWIECKIE\n",
       "6   2143.094118            POMORSKIE\n",
       "7   2180.350000             LUBUSKIE\n",
       "8   2144.081081              ŁÓDZKIE\n",
       "9   2177.758621         DOLNOŚLĄSKIE\n",
       "10  2120.809524  WARMIŃSKO-MAZURSKIE\n",
       "11  2237.625000              ŚLĄSKIE\n",
       "12  2194.230769       ŚWIĘTOKRZYSKIE\n",
       "13  2165.583333          MAŁOPOLSKIE"
      ]
     },
     "execution_count": 23,
     "metadata": {},
     "output_type": "execute_result"
    }
   ],
   "source": [
    "dane_wojewodztwa"
   ]
  },
  {
   "cell_type": "code",
   "execution_count": 24,
   "id": "a320bda1",
   "metadata": {},
   "outputs": [],
   "source": [
    "dane_wojewodztwa=dane_wojewodztwa.sort_values(by=['IE'])\n"
   ]
  },
  {
   "cell_type": "code",
   "execution_count": 32,
   "id": "719c5f2f",
   "metadata": {},
   "outputs": [],
   "source": [
    "dane_wojewodztwa=dane_wojewodztwa.rename(columns={\"IE\": \"Economic Index\", \"Województwa\": \"Voivodeships\"})"
   ]
  },
  {
   "cell_type": "code",
   "execution_count": 35,
   "id": "c59314ba",
   "metadata": {},
   "outputs": [
    {
     "data": {
      "text/plain": [
       "<AxesSubplot:title={'center':'Economic Index ~ voivodeship'}, ylabel='Voivodeships'>"
      ]
     },
     "execution_count": 35,
     "metadata": {},
     "output_type": "execute_result"
    },
    {
     "data": {
      "image/png": "[encoded data removed]",
      "text/plain": [
       "<Figure size 720x864 with 1 Axes>"
      ]
     },
     "metadata": {
      "needs_background": "light"
     },
     "output_type": "display_data"
    }
   ],
   "source": [
    "# Draw a vertical bar chart\n",
    "my_colors=['slategray','royalblue','tan','cyan','brown','teal','violet','m','navy','goldenrod','olive','silver','salmon','cadetblue']  #red, green, blue, black, etc.\n",
    "dane_wojewodztwa.plot.barh(x=\"Voivodeships\",\n",
    "                           y=\"Economic Index\", rot=0,\n",
    "                           title= \"Economic Index ~ voivodeship\",figsize=(10,12),color=my_colors)\n"
   ]
  },
  {
   "cell_type": "code",
   "execution_count": null,
   "id": "6fc2bf88",
   "metadata": {},
   "outputs": [],
   "source": [
    "plotdata['pies'].plot(kind=\"barh\")\n",
    "plt.title(\"Mince Pie Consumption Study Results\")\n",
    "plt.ylabel(\"Family Member\")\n",
    "plt.xlabel(\"Pies Consumed\")"
   ]
  },
  {
   "cell_type": "markdown",
   "id": "73f0ef79",
   "metadata": {},
   "source": [
    "## IE według roku urodzenia"
   ]
  },
  {
   "cell_type": "code",
   "execution_count": 26,
   "id": "db50c884",
   "metadata": {},
   "outputs": [
    {
     "data": {
      "text/plain": [
       "2020    953\n",
       "2019    365\n",
       "2018    255\n",
       "2017     60\n",
       "2021     38\n",
       "2016     21\n",
       "2015      1\n",
       "Name: Data urodzenia, dtype: int64"
      ]
     },
     "execution_count": 26,
     "metadata": {},
     "output_type": "execute_result"
    }
   ],
   "source": [
    "dane['Data urodzenia'].value_counts()"
   ]
  },
  {
   "cell_type": "code",
   "execution_count": 27,
   "id": "d217f627",
   "metadata": {},
   "outputs": [],
   "source": [
    "uro=[2021,2020,2019,2018,2017,2016]             \n",
    "uro_dict={}\n",
    "for x in uro:\n",
    "    uro_dict[x]=dane['IE'][dane['Data urodzenia']==x].mean()"
   ]
  },
  {
   "cell_type": "code",
   "execution_count": 28,
   "id": "b9799adc",
   "metadata": {},
   "outputs": [],
   "source": [
    "keys = uro_dict.keys()\n",
    "values = uro_dict.values()\n",
    "\n",
    "dane_uro = pd.DataFrame({'IE': values,\n",
    "                 'Data urodzenia': keys})"
   ]
  },
  {
   "cell_type": "code",
   "execution_count": 29,
   "id": "3f1d0942",
   "metadata": {},
   "outputs": [
    {
     "data": {
      "text/html": [
       "<div>\n",
       "<style scoped>\n",
       "    .dataframe tbody tr th:only-of-type {\n",
       "        vertical-align: middle;\n",
       "    }\n",
       "\n",
       "    .dataframe tbody tr th {\n",
       "        vertical-align: top;\n",
       "    }\n",
       "\n",
       "    .dataframe thead th {\n",
       "        text-align: right;\n",
       "    }\n",
       "</style>\n",
       "<table border=\"1\" class=\"dataframe\">\n",
       "  <thead>\n",
       "    <tr style=\"text-align: right;\">\n",
       "      <th></th>\n",
       "      <th>IE</th>\n",
       "      <th>Data urodzenia</th>\n",
       "    </tr>\n",
       "  </thead>\n",
       "  <tbody>\n",
       "    <tr>\n",
       "      <th>0</th>\n",
       "      <td>2256.842105</td>\n",
       "      <td>2021</td>\n",
       "    </tr>\n",
       "    <tr>\n",
       "      <th>1</th>\n",
       "      <td>2235.836306</td>\n",
       "      <td>2020</td>\n",
       "    </tr>\n",
       "    <tr>\n",
       "      <th>2</th>\n",
       "      <td>2170.575342</td>\n",
       "      <td>2019</td>\n",
       "    </tr>\n",
       "    <tr>\n",
       "      <th>3</th>\n",
       "      <td>2057.486275</td>\n",
       "      <td>2018</td>\n",
       "    </tr>\n",
       "    <tr>\n",
       "      <th>4</th>\n",
       "      <td>2009.200000</td>\n",
       "      <td>2017</td>\n",
       "    </tr>\n",
       "    <tr>\n",
       "      <th>5</th>\n",
       "      <td>2029.571429</td>\n",
       "      <td>2016</td>\n",
       "    </tr>\n",
       "  </tbody>\n",
       "</table>\n",
       "</div>"
      ],
      "text/plain": [
       "            IE  Data urodzenia\n",
       "0  2256.842105            2021\n",
       "1  2235.836306            2020\n",
       "2  2170.575342            2019\n",
       "3  2057.486275            2018\n",
       "4  2009.200000            2017\n",
       "5  2029.571429            2016"
      ]
     },
     "execution_count": 29,
     "metadata": {},
     "output_type": "execute_result"
    }
   ],
   "source": [
    "dane_uro"
   ]
  },
  {
   "cell_type": "code",
   "execution_count": 30,
   "id": "0d22738e",
   "metadata": {},
   "outputs": [],
   "source": [
    "dane_uro=dane_uro.sort_values(by=['IE'])\n"
   ]
  },
  {
   "cell_type": "code",
   "execution_count": 31,
   "id": "18992a98",
   "metadata": {
    "scrolled": false
   },
   "outputs": [
    {
     "data": {
      "text/plain": [
       "<AxesSubplot:title={'center':'IE ~ Data urodzenia'}, ylabel='Data urodzenia'>"
      ]
     },
     "execution_count": 31,
     "metadata": {},
     "output_type": "execute_result"
    },
    {
     "data": {
      "image/png": "[encoded data removed]",
      "text/plain": [
       "<Figure size 720x864 with 1 Axes>"
      ]
     },
     "metadata": {
      "needs_background": "light"
     },
     "output_type": "display_data"
    }
   ],
   "source": [
    "# Draw a vertical bar chart\n",
    "my_colors=['slategray','tan','cyan','teal','violet','salmon','cadetblue']  #red, green, blue, black, etc.\n",
    "dane_uro.plot.barh(x=\"Data urodzenia\",\n",
    "                           y=\"IE\", rot=0,\n",
    "                           title= \"IE ~ Data urodzenia\",figsize=(10,12),color=my_colors)\n"
   ]
  },
  {
   "cell_type": "code",
   "execution_count": null,
   "id": "12a41601",
   "metadata": {},
   "outputs": [],
   "source": []
  }
 ],
 "metadata": {
  "kernelspec": {
   "display_name": "Python 3",
   "language": "python",
   "name": "python3"
  },
  "language_info": {
   "codemirror_mode": {
    "name": "ipython",
    "version": 3
   },
   "file_extension": ".py",
   "mimetype": "text/x-python",
   "name": "python",
   "nbconvert_exporter": "python",
   "pygments_lexer": "ipython3",
   "version": "3.7.10"
  }
 },
 "nbformat": 4,
 "nbformat_minor": 5
}
