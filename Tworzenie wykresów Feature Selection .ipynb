{
 "cells": [
  {
   "cell_type": "markdown",
   "id": "a6ef2770",
   "metadata": {},
   "source": [
    "## 1. Load libraries"
   ]
  },
  {
   "cell_type": "code",
   "execution_count": 1,
   "id": "f340eb5b",
   "metadata": {},
   "outputs": [],
   "source": [
    "import pandas as pd\n",
    "import matplotlib.pyplot as plt"
   ]
  },
  {
   "cell_type": "markdown",
   "id": "9748434e",
   "metadata": {},
   "source": [
    "### 2. Load data"
   ]
  },
  {
   "cell_type": "code",
   "execution_count": 2,
   "id": "49b0e7e6",
   "metadata": {},
   "outputs": [],
   "source": [
    "reg_ie=pd.read_csv('Wyniki REFCV Regresja liniowa IE.csv')\n",
    "las_ie=pd.read_csv('Wyniki REFCV las losowy IE.csv')\n",
    "knn_ie=pd.read_csv('Wyniki REFCV KNN IE.csv')\n",
    "gradient_ie=pd.read_csv('Wyniki REFCV GradientBoosting IE.csv')\n",
    "xgbr_ie=pd.read_csv('Wyniki REFCV XGBR IE.csv')\n",
    "drzewo_ie=pd.read_csv('Wyniki REFCV Drzewa losowe IE.csv')\n",
    "\n",
    "\n",
    "\n",
    "xgbr_omc=pd.read_csv('Wyniki REFCV XGBR OMC.csv')\n",
    "reg_omc=pd.read_csv('Wyniki REFCV Regresja liniowa OMC.csv')\n",
    "knn_omc=pd.read_csv('Wyniki REFCV KNN OMC.csv')\n",
    "gradient_omc=pd.read_csv('Wyniki REFCV GradientBoosting OMC.csv')\n",
    "las_omc=pd.read_csv('Wyniki REFCV las losowy OMC.csv')\n",
    "drzewo_omc=pd.read_csv('Wyniki REFCV Drzewo losowe OMC.csv')\n",
    "\n",
    "\n",
    "\n",
    "\n",
    "\n",
    "\n"
   ]
  },
  {
   "cell_type": "markdown",
   "id": "6749199a",
   "metadata": {},
   "source": [
    "## 3. IE"
   ]
  },
  {
   "cell_type": "code",
   "execution_count": 3,
   "id": "0b4505c0",
   "metadata": {
    "scrolled": true
   },
   "outputs": [
    {
     "data": {
      "text/html": [
       "<div>\n",
       "<style scoped>\n",
       "    .dataframe tbody tr th:only-of-type {\n",
       "        vertical-align: middle;\n",
       "    }\n",
       "\n",
       "    .dataframe tbody tr th {\n",
       "        vertical-align: top;\n",
       "    }\n",
       "\n",
       "    .dataframe thead th {\n",
       "        text-align: right;\n",
       "    }\n",
       "</style>\n",
       "<table border=\"1\" class=\"dataframe\">\n",
       "  <thead>\n",
       "    <tr style=\"text-align: right;\">\n",
       "      <th></th>\n",
       "      <th>Liczba zmiennych</th>\n",
       "      <th>Błąd</th>\n",
       "    </tr>\n",
       "  </thead>\n",
       "  <tbody>\n",
       "    <tr>\n",
       "      <th>0</th>\n",
       "      <td>0</td>\n",
       "      <td>110.908161</td>\n",
       "    </tr>\n",
       "    <tr>\n",
       "      <th>1</th>\n",
       "      <td>1</td>\n",
       "      <td>97.416444</td>\n",
       "    </tr>\n",
       "    <tr>\n",
       "      <th>2</th>\n",
       "      <td>2</td>\n",
       "      <td>76.237780</td>\n",
       "    </tr>\n",
       "    <tr>\n",
       "      <th>3</th>\n",
       "      <td>3</td>\n",
       "      <td>67.860504</td>\n",
       "    </tr>\n",
       "    <tr>\n",
       "      <th>4</th>\n",
       "      <td>4</td>\n",
       "      <td>66.289788</td>\n",
       "    </tr>\n",
       "    <tr>\n",
       "      <th>5</th>\n",
       "      <td>5</td>\n",
       "      <td>63.948277</td>\n",
       "    </tr>\n",
       "    <tr>\n",
       "      <th>6</th>\n",
       "      <td>6</td>\n",
       "      <td>53.287663</td>\n",
       "    </tr>\n",
       "    <tr>\n",
       "      <th>7</th>\n",
       "      <td>7</td>\n",
       "      <td>53.327486</td>\n",
       "    </tr>\n",
       "    <tr>\n",
       "      <th>8</th>\n",
       "      <td>8</td>\n",
       "      <td>54.291508</td>\n",
       "    </tr>\n",
       "    <tr>\n",
       "      <th>9</th>\n",
       "      <td>9</td>\n",
       "      <td>54.119247</td>\n",
       "    </tr>\n",
       "    <tr>\n",
       "      <th>10</th>\n",
       "      <td>10</td>\n",
       "      <td>52.786460</td>\n",
       "    </tr>\n",
       "    <tr>\n",
       "      <th>11</th>\n",
       "      <td>11</td>\n",
       "      <td>53.525279</td>\n",
       "    </tr>\n",
       "    <tr>\n",
       "      <th>12</th>\n",
       "      <td>12</td>\n",
       "      <td>50.937097</td>\n",
       "    </tr>\n",
       "    <tr>\n",
       "      <th>13</th>\n",
       "      <td>13</td>\n",
       "      <td>50.858429</td>\n",
       "    </tr>\n",
       "    <tr>\n",
       "      <th>14</th>\n",
       "      <td>14</td>\n",
       "      <td>50.914733</td>\n",
       "    </tr>\n",
       "    <tr>\n",
       "      <th>15</th>\n",
       "      <td>15</td>\n",
       "      <td>50.750463</td>\n",
       "    </tr>\n",
       "    <tr>\n",
       "      <th>16</th>\n",
       "      <td>16</td>\n",
       "      <td>50.740384</td>\n",
       "    </tr>\n",
       "    <tr>\n",
       "      <th>17</th>\n",
       "      <td>17</td>\n",
       "      <td>50.707121</td>\n",
       "    </tr>\n",
       "    <tr>\n",
       "      <th>18</th>\n",
       "      <td>18</td>\n",
       "      <td>50.304274</td>\n",
       "    </tr>\n",
       "    <tr>\n",
       "      <th>19</th>\n",
       "      <td>19</td>\n",
       "      <td>50.126988</td>\n",
       "    </tr>\n",
       "    <tr>\n",
       "      <th>20</th>\n",
       "      <td>20</td>\n",
       "      <td>49.978722</td>\n",
       "    </tr>\n",
       "    <tr>\n",
       "      <th>21</th>\n",
       "      <td>21</td>\n",
       "      <td>49.975957</td>\n",
       "    </tr>\n",
       "    <tr>\n",
       "      <th>22</th>\n",
       "      <td>22</td>\n",
       "      <td>49.945533</td>\n",
       "    </tr>\n",
       "    <tr>\n",
       "      <th>23</th>\n",
       "      <td>23</td>\n",
       "      <td>50.128485</td>\n",
       "    </tr>\n",
       "    <tr>\n",
       "      <th>24</th>\n",
       "      <td>24</td>\n",
       "      <td>50.180945</td>\n",
       "    </tr>\n",
       "    <tr>\n",
       "      <th>25</th>\n",
       "      <td>25</td>\n",
       "      <td>50.145447</td>\n",
       "    </tr>\n",
       "    <tr>\n",
       "      <th>26</th>\n",
       "      <td>26</td>\n",
       "      <td>50.247031</td>\n",
       "    </tr>\n",
       "    <tr>\n",
       "      <th>27</th>\n",
       "      <td>27</td>\n",
       "      <td>50.078307</td>\n",
       "    </tr>\n",
       "    <tr>\n",
       "      <th>28</th>\n",
       "      <td>28</td>\n",
       "      <td>50.000644</td>\n",
       "    </tr>\n",
       "    <tr>\n",
       "      <th>29</th>\n",
       "      <td>29</td>\n",
       "      <td>50.282686</td>\n",
       "    </tr>\n",
       "    <tr>\n",
       "      <th>30</th>\n",
       "      <td>30</td>\n",
       "      <td>50.323827</td>\n",
       "    </tr>\n",
       "    <tr>\n",
       "      <th>31</th>\n",
       "      <td>31</td>\n",
       "      <td>50.360566</td>\n",
       "    </tr>\n",
       "    <tr>\n",
       "      <th>32</th>\n",
       "      <td>32</td>\n",
       "      <td>50.331972</td>\n",
       "    </tr>\n",
       "    <tr>\n",
       "      <th>33</th>\n",
       "      <td>33</td>\n",
       "      <td>50.315566</td>\n",
       "    </tr>\n",
       "    <tr>\n",
       "      <th>34</th>\n",
       "      <td>34</td>\n",
       "      <td>50.381990</td>\n",
       "    </tr>\n",
       "    <tr>\n",
       "      <th>35</th>\n",
       "      <td>35</td>\n",
       "      <td>50.416703</td>\n",
       "    </tr>\n",
       "    <tr>\n",
       "      <th>36</th>\n",
       "      <td>36</td>\n",
       "      <td>50.337591</td>\n",
       "    </tr>\n",
       "    <tr>\n",
       "      <th>37</th>\n",
       "      <td>37</td>\n",
       "      <td>50.350272</td>\n",
       "    </tr>\n",
       "    <tr>\n",
       "      <th>38</th>\n",
       "      <td>38</td>\n",
       "      <td>50.378314</td>\n",
       "    </tr>\n",
       "    <tr>\n",
       "      <th>39</th>\n",
       "      <td>39</td>\n",
       "      <td>50.346737</td>\n",
       "    </tr>\n",
       "    <tr>\n",
       "      <th>40</th>\n",
       "      <td>40</td>\n",
       "      <td>50.355239</td>\n",
       "    </tr>\n",
       "    <tr>\n",
       "      <th>41</th>\n",
       "      <td>41</td>\n",
       "      <td>50.394453</td>\n",
       "    </tr>\n",
       "    <tr>\n",
       "      <th>42</th>\n",
       "      <td>42</td>\n",
       "      <td>50.322403</td>\n",
       "    </tr>\n",
       "    <tr>\n",
       "      <th>43</th>\n",
       "      <td>43</td>\n",
       "      <td>50.390650</td>\n",
       "    </tr>\n",
       "    <tr>\n",
       "      <th>44</th>\n",
       "      <td>44</td>\n",
       "      <td>50.227393</td>\n",
       "    </tr>\n",
       "    <tr>\n",
       "      <th>45</th>\n",
       "      <td>45</td>\n",
       "      <td>50.276814</td>\n",
       "    </tr>\n",
       "    <tr>\n",
       "      <th>46</th>\n",
       "      <td>46</td>\n",
       "      <td>50.213719</td>\n",
       "    </tr>\n",
       "  </tbody>\n",
       "</table>\n",
       "</div>"
      ],
      "text/plain": [
       "    Liczba zmiennych        Błąd\n",
       "0                  0  110.908161\n",
       "1                  1   97.416444\n",
       "2                  2   76.237780\n",
       "3                  3   67.860504\n",
       "4                  4   66.289788\n",
       "5                  5   63.948277\n",
       "6                  6   53.287663\n",
       "7                  7   53.327486\n",
       "8                  8   54.291508\n",
       "9                  9   54.119247\n",
       "10                10   52.786460\n",
       "11                11   53.525279\n",
       "12                12   50.937097\n",
       "13                13   50.858429\n",
       "14                14   50.914733\n",
       "15                15   50.750463\n",
       "16                16   50.740384\n",
       "17                17   50.707121\n",
       "18                18   50.304274\n",
       "19                19   50.126988\n",
       "20                20   49.978722\n",
       "21                21   49.975957\n",
       "22                22   49.945533\n",
       "23                23   50.128485\n",
       "24                24   50.180945\n",
       "25                25   50.145447\n",
       "26                26   50.247031\n",
       "27                27   50.078307\n",
       "28                28   50.000644\n",
       "29                29   50.282686\n",
       "30                30   50.323827\n",
       "31                31   50.360566\n",
       "32                32   50.331972\n",
       "33                33   50.315566\n",
       "34                34   50.381990\n",
       "35                35   50.416703\n",
       "36                36   50.337591\n",
       "37                37   50.350272\n",
       "38                38   50.378314\n",
       "39                39   50.346737\n",
       "40                40   50.355239\n",
       "41                41   50.394453\n",
       "42                42   50.322403\n",
       "43                43   50.390650\n",
       "44                44   50.227393\n",
       "45                45   50.276814\n",
       "46                46   50.213719"
      ]
     },
     "execution_count": 3,
     "metadata": {},
     "output_type": "execute_result"
    }
   ],
   "source": [
    "xgbr_ie"
   ]
  },
  {
   "cell_type": "code",
   "execution_count": 4,
   "id": "86712786",
   "metadata": {
    "scrolled": true
   },
   "outputs": [],
   "source": [
    "lista=[list(reg_ie['Błąd']),\n",
    "list(las_ie['Błąd']),\n",
    "list(knn_ie['Błąd']),\n",
    "list(gradient_ie['Błąd']),\n",
    "list(xgbr_ie['Błąd']),\n",
    "list(drzewo_ie['Błąd'])]"
   ]
  },
  {
   "cell_type": "code",
   "execution_count": 5,
   "id": "e16fb8a6",
   "metadata": {},
   "outputs": [
    {
     "name": "stdout",
     "output_type": "stream",
     "text": [
      "139.45684677248678\n"
     ]
    }
   ],
   "source": [
    "max_v=0\n",
    "for x in lista:\n",
    "    for y in x:\n",
    "        if y> max_v:\n",
    "            max_v=y\n",
    "print(max_v)"
   ]
  },
  {
   "cell_type": "code",
   "execution_count": 6,
   "id": "a619720e",
   "metadata": {},
   "outputs": [],
   "source": [
    "lista2=[list(reg_ie['Liczba zmiennych']),\n",
    "list(las_ie['Liczba zmiennych']),\n",
    "list(knn_ie['Liczba zmiennych']),\n",
    "list(gradient_ie['Liczba zmiennych']),\n",
    "list(xgbr_ie['Liczba zmiennych']),\n",
    "list(drzewo_ie['Liczba zmiennych'])]"
   ]
  },
  {
   "cell_type": "code",
   "execution_count": 7,
   "id": "db9b68f6",
   "metadata": {},
   "outputs": [
    {
     "name": "stdout",
     "output_type": "stream",
     "text": [
      "46\n"
     ]
    }
   ],
   "source": [
    "max_v2=0\n",
    "for x in lista2:\n",
    "    for y in x:\n",
    "        if y> max_v2:\n",
    "            max_v2=y\n",
    "print(max_v2)"
   ]
  },
  {
   "cell_type": "markdown",
   "id": "c13cca7c",
   "metadata": {},
   "source": [
    "140 = max oś y\n",
    "46 = max oś x"
   ]
  },
  {
   "cell_type": "code",
   "execution_count": 8,
   "id": "6068c557",
   "metadata": {},
   "outputs": [
    {
     "data": {
      "image/png": "[encoded data removed]",
      "text/plain": [
       "<Figure size 432x288 with 1 Axes>"
      ]
     },
     "metadata": {
      "needs_background": "light"
     },
     "output_type": "display_data"
    }
   ],
   "source": [
    "plt.plot(list(reg_ie[\"Błąd\"]))\n",
    "plt.xlabel('Number of features', fontsize=13)\n",
    "plt.ylabel('MAE', fontsize=13)\n",
    "plt.suptitle('Prediction of EI by LR', fontsize=16)\n",
    "plt.axvline(x=list(reg_ie[\"Błąd\"]).index(min(list(reg_ie[\"Błąd\"]))), color='r', linestyle='-')\n",
    "plt.axis([0, 46, 0, 140])\n",
    "plt.show()"
   ]
  },
  {
   "cell_type": "code",
   "execution_count": 9,
   "id": "6c362458",
   "metadata": {},
   "outputs": [
    {
     "data": {
      "image/png": "[encoded data removed]",
      "text/plain": [
       "<Figure size 432x288 with 1 Axes>"
      ]
     },
     "metadata": {
      "needs_background": "light"
     },
     "output_type": "display_data"
    }
   ],
   "source": [
    "plt.plot(list(las_ie[\"Błąd\"]))\n",
    "plt.xlabel('Number of features', fontsize=13)\n",
    "plt.ylabel('MAE', fontsize=13)\n",
    "plt.suptitle('Prediction of EI by RF', fontsize=16)\n",
    "plt.axvline(x=list(las_ie[\"Błąd\"]).index(min(list(las_ie[\"Błąd\"]))), color='r', linestyle='-')\n",
    "plt.axis([0, 46, 0, 140])\n",
    "plt.show()"
   ]
  },
  {
   "cell_type": "code",
   "execution_count": 10,
   "id": "b2d4248b",
   "metadata": {},
   "outputs": [
    {
     "data": {
      "image/png": "[encoded data removed]",
      "text/plain": [
       "<Figure size 432x288 with 1 Axes>"
      ]
     },
     "metadata": {
      "needs_background": "light"
     },
     "output_type": "display_data"
    }
   ],
   "source": [
    "plt.plot(list(knn_ie[\"Błąd\"]))\n",
    "plt.xlabel('Number of features', fontsize=13)\n",
    "plt.ylabel('MAE', fontsize=13)\n",
    "plt.suptitle('Prediction of EI by KNN', fontsize=16)\n",
    "plt.axvline(x=list(knn_ie[\"Błąd\"]).index(min(list(knn_ie[\"Błąd\"]))), color='r', linestyle='-')\n",
    "plt.axis([0, 46, 0, 140])\n",
    "plt.show()"
   ]
  },
  {
   "cell_type": "code",
   "execution_count": 11,
   "id": "f9a03649",
   "metadata": {},
   "outputs": [
    {
     "data": {
      "image/png": "[encoded data removed]",
      "text/plain": [
       "<Figure size 432x288 with 1 Axes>"
      ]
     },
     "metadata": {
      "needs_background": "light"
     },
     "output_type": "display_data"
    }
   ],
   "source": [
    "plt.plot(list(gradient_ie[\"Błąd\"]))\n",
    "plt.xlabel('Number of features', fontsize=13)\n",
    "plt.ylabel('MAE', fontsize=13)\n",
    "plt.suptitle('Prediction of EI by GB', fontsize=16)\n",
    "plt.axvline(x=list(gradient_ie[\"Błąd\"]).index(min(list(gradient_ie[\"Błąd\"]))), color='r', linestyle='-')\n",
    "plt.axis([0, 46, 0, 140])\n",
    "plt.show()"
   ]
  },
  {
   "cell_type": "code",
   "execution_count": 12,
   "id": "b212d3d9",
   "metadata": {},
   "outputs": [
    {
     "data": {
      "image/png": "[encoded data removed]",
      "text/plain": [
       "<Figure size 432x288 with 1 Axes>"
      ]
     },
     "metadata": {
      "needs_background": "light"
     },
     "output_type": "display_data"
    }
   ],
   "source": [
    "plt.plot(list(xgbr_ie[\"Błąd\"]))\n",
    "plt.xlabel('Number of features', fontsize=13)\n",
    "plt.ylabel('MAE', fontsize=13)\n",
    "plt.suptitle('Prediction of EI by XGB', fontsize=16)\n",
    "plt.axvline(x=list(xgbr_ie[\"Błąd\"]).index(min(list(xgbr_ie[\"Błąd\"]))), color='r', linestyle='-')\n",
    "plt.axis([0, 46, 0, 140])\n",
    "plt.show()"
   ]
  },
  {
   "cell_type": "code",
   "execution_count": 13,
   "id": "3f8cfadb",
   "metadata": {},
   "outputs": [
    {
     "data": {
      "text/plain": [
       "22"
      ]
     },
     "execution_count": 13,
     "metadata": {},
     "output_type": "execute_result"
    }
   ],
   "source": [
    "list(xgbr_ie[\"Błąd\"]).index(min(list(xgbr_ie[\"Błąd\"])))"
   ]
  },
  {
   "cell_type": "code",
   "execution_count": 14,
   "id": "6dab2f66",
   "metadata": {},
   "outputs": [
    {
     "data": {
      "image/png": "[encoded data removed]",
      "text/plain": [
       "<Figure size 432x288 with 1 Axes>"
      ]
     },
     "metadata": {
      "needs_background": "light"
     },
     "output_type": "display_data"
    }
   ],
   "source": [
    "plt.plot(list(drzewo_ie[\"Błąd\"]))\n",
    "plt.xlabel('Number of features', fontsize=13)\n",
    "plt.ylabel('MAE', fontsize=13)\n",
    "plt.suptitle('Prediction of EI by DT', fontsize=16)\n",
    "plt.axvline(x=list(drzewo_ie[\"Błąd\"]).index(min(list(drzewo_ie[\"Błąd\"]))), color='r', linestyle='-')\n",
    "plt.axis([0, 46, 0, 140])\n",
    "plt.show()"
   ]
  },
  {
   "cell_type": "code",
   "execution_count": 15,
   "id": "ef00f9f3",
   "metadata": {},
   "outputs": [
    {
     "data": {
      "text/plain": [
       "7"
      ]
     },
     "execution_count": 15,
     "metadata": {},
     "output_type": "execute_result"
    }
   ],
   "source": [
    "list(drzewo_ie[\"Błąd\"]).index(min(list(drzewo_ie[\"Błąd\"])))"
   ]
  },
  {
   "cell_type": "code",
   "execution_count": 16,
   "id": "e3b97786",
   "metadata": {},
   "outputs": [
    {
     "data": {
      "text/plain": [
       "66.96213333333334"
      ]
     },
     "execution_count": 16,
     "metadata": {},
     "output_type": "execute_result"
    }
   ],
   "source": [
    "min(list(drzewo_ie[\"Błąd\"]))"
   ]
  },
  {
   "cell_type": "code",
   "execution_count": 14,
   "id": "7ea8db7d",
   "metadata": {
    "scrolled": true
   },
   "outputs": [
    {
     "data": {
      "text/plain": [
       "[139.45684677248678,\n",
       " 115.30551111111112,\n",
       " 78.1472,\n",
       " 79.78880000000001,\n",
       " 71.71573333333333,\n",
       " 67.33333333333334,\n",
       " 69.99626666666667,\n",
       " 66.96213333333334,\n",
       " 70.0432,\n",
       " 70.01226666666666,\n",
       " 68.20266666666666,\n",
       " 69.66986666666666,\n",
       " 69.57013333333333,\n",
       " 68.384,\n",
       " 69.30080000000001,\n",
       " 69.5008,\n",
       " 71.89653333333334,\n",
       " 70.6208,\n",
       " 69.85066666666665,\n",
       " 69.43199999999999,\n",
       " 68.8368,\n",
       " 69.76320000000001,\n",
       " 68.83946666666667,\n",
       " 68.26026666666667,\n",
       " 69.79626666666665,\n",
       " 69.73973333333333,\n",
       " 71.1504,\n",
       " 69.8576,\n",
       " 70.09546666666668,\n",
       " 69.36533333333333,\n",
       " 71.34559999999999,\n",
       " 71.13706666666666,\n",
       " 71.20533333333333,\n",
       " 70.24266666666668,\n",
       " 70.68799999999999,\n",
       " 69.73866666666667,\n",
       " 70.46186666666668,\n",
       " 69.03786666666667,\n",
       " 70.8416,\n",
       " 70.23413333333333,\n",
       " 71.54773333333334,\n",
       " 71.85919999999999,\n",
       " 70.57066666666665,\n",
       " 70.44906666666665,\n",
       " 70.85333333333332,\n",
       " 72.22506666666666,\n",
       " 70.728]"
      ]
     },
     "execution_count": 14,
     "metadata": {},
     "output_type": "execute_result"
    }
   ],
   "source": [
    "list(drzewo_ie[\"Błąd\"])"
   ]
  },
  {
   "cell_type": "markdown",
   "id": "010d9e8c",
   "metadata": {},
   "source": [
    "### OMC"
   ]
  },
  {
   "cell_type": "code",
   "execution_count": 17,
   "id": "df5df4f1",
   "metadata": {},
   "outputs": [],
   "source": [
    "lista=[list(reg_omc['Błąd']),\n",
    "list(las_omc['Błąd']),\n",
    "list(knn_omc['Błąd']),\n",
    "list(gradient_omc['Błąd']),\n",
    "list(xgbr_omc['Błąd']),\n",
    "list(drzewo_omc['Błąd'])]"
   ]
  },
  {
   "cell_type": "code",
   "execution_count": 18,
   "id": "ff97c44f",
   "metadata": {},
   "outputs": [
    {
     "name": "stdout",
     "output_type": "stream",
     "text": [
      "5.34886466960482\n"
     ]
    }
   ],
   "source": [
    "max_v=0\n",
    "for x in lista:\n",
    "    for y in x:\n",
    "        if y> max_v:\n",
    "            max_v=y\n",
    "print(max_v)"
   ]
  },
  {
   "cell_type": "code",
   "execution_count": 19,
   "id": "a5fac29d",
   "metadata": {},
   "outputs": [],
   "source": [
    "lista2=[list(reg_omc['Liczba zmiennych']),\n",
    "list(las_omc['Liczba zmiennych']),\n",
    "list(knn_omc['Liczba zmiennych']),\n",
    "list(gradient_omc['Liczba zmiennych']),\n",
    "list(xgbr_omc['Liczba zmiennych']),\n",
    "list(drzewo_omc['Liczba zmiennych'])]"
   ]
  },
  {
   "cell_type": "code",
   "execution_count": 20,
   "id": "3c619dd0",
   "metadata": {},
   "outputs": [
    {
     "name": "stdout",
     "output_type": "stream",
     "text": [
      "45\n"
     ]
    }
   ],
   "source": [
    "max_v2=0\n",
    "for x in lista2:\n",
    "    for y in x:\n",
    "        if y> max_v2:\n",
    "            max_v2=y\n",
    "print(max_v2)"
   ]
  },
  {
   "cell_type": "markdown",
   "id": "f08df72e",
   "metadata": {},
   "source": [
    "5.35 = max oś y\n",
    "45 = max oś x"
   ]
  },
  {
   "cell_type": "code",
   "execution_count": 21,
   "id": "94fe4dfd",
   "metadata": {},
   "outputs": [
    {
     "data": {
      "image/png": "[encoded data removed]",
      "text/plain": [
       "<Figure size 432x288 with 1 Axes>"
      ]
     },
     "metadata": {
      "needs_background": "light"
     },
     "output_type": "display_data"
    }
   ],
   "source": [
    "plt.plot(list(reg_omc[\"Błąd\"]))\n",
    "plt.xlabel('Number of features', fontsize=13)\n",
    "plt.ylabel('MAE', fontsize=13)\n",
    "plt.suptitle('Prediction of CI by LR', fontsize=16)\n",
    "plt.axvline(x=list(reg_omc[\"Błąd\"]).index(min(list(reg_omc[\"Błąd\"]))), color='r', linestyle='-')\n",
    "plt.axis([0, 45, 0, 5.35])\n",
    "plt.show()"
   ]
  },
  {
   "cell_type": "code",
   "execution_count": 23,
   "id": "4f265ad6",
   "metadata": {},
   "outputs": [
    {
     "data": {
      "image/png": "[encoded data removed]",
      "text/plain": [
       "<Figure size 432x288 with 1 Axes>"
      ]
     },
     "metadata": {
      "needs_background": "light"
     },
     "output_type": "display_data"
    }
   ],
   "source": [
    "plt.plot(list(las_omc[\"Błąd\"]))\n",
    "plt.xlabel('Number of features', fontsize=13)\n",
    "plt.ylabel('MAE', fontsize=13)\n",
    "plt.suptitle('Prediction of CI by RF', fontsize=16)\n",
    "plt.axvline(x=list(las_omc[\"Błąd\"]).index(min(list(las_omc[\"Błąd\"]))), color='r', linestyle='-')\n",
    "plt.axis([0, 45, 0, 5.35])\n",
    "plt.show()"
   ]
  },
  {
   "cell_type": "code",
   "execution_count": 19,
   "id": "c20cde8a",
   "metadata": {},
   "outputs": [
    {
     "data": {
      "text/plain": [
       "32"
      ]
     },
     "execution_count": 19,
     "metadata": {},
     "output_type": "execute_result"
    }
   ],
   "source": [
    "list(las_omc[\"Błąd\"]).index(min(list(las_omc[\"Błąd\"])))"
   ]
  },
  {
   "cell_type": "code",
   "execution_count": 24,
   "id": "33282d69",
   "metadata": {},
   "outputs": [
    {
     "data": {
      "image/png": "[encoded data removed]",
      "text/plain": [
       "<Figure size 432x288 with 1 Axes>"
      ]
     },
     "metadata": {
      "needs_background": "light"
     },
     "output_type": "display_data"
    }
   ],
   "source": [
    "plt.plot(list(knn_omc[\"Błąd\"]))\n",
    "plt.xlabel('Number of features', fontsize=13)\n",
    "plt.ylabel('MAE', fontsize=13)\n",
    "plt.suptitle('Prediction of CI by KNN', fontsize=16)\n",
    "plt.axvline(x=list(knn_omc[\"Błąd\"]).index(min(list(knn_omc[\"Błąd\"]))), color='r', linestyle='-')\n",
    "plt.axis([0, 45, 0, 5.35])\n",
    "plt.show()"
   ]
  },
  {
   "cell_type": "code",
   "execution_count": 25,
   "id": "d4ef9aa8",
   "metadata": {},
   "outputs": [
    {
     "data": {
      "image/png": "[encoded data removed]",
      "text/plain": [
       "<Figure size 432x288 with 1 Axes>"
      ]
     },
     "metadata": {
      "needs_background": "light"
     },
     "output_type": "display_data"
    }
   ],
   "source": [
    "plt.plot(list(gradient_omc[\"Błąd\"]))\n",
    "plt.xlabel('Number of features', fontsize=13)\n",
    "plt.ylabel('MAE', fontsize=13)\n",
    "plt.suptitle('Prediction of CI by GB', fontsize=16)\n",
    "plt.axvline(x=list(gradient_omc[\"Błąd\"]).index(min(list(gradient_omc[\"Błąd\"]))), color='r', linestyle='-')\n",
    "plt.axis([0, 45, 0, 5.35])\n",
    "plt.show()"
   ]
  },
  {
   "cell_type": "code",
   "execution_count": 26,
   "id": "dd8a00e2",
   "metadata": {},
   "outputs": [
    {
     "data": {
      "image/png": "[encoded data removed]",
      "text/plain": [
       "<Figure size 432x288 with 1 Axes>"
      ]
     },
     "metadata": {
      "needs_background": "light"
     },
     "output_type": "display_data"
    }
   ],
   "source": [
    "plt.plot(list(xgbr_omc[\"Błąd\"]))\n",
    "plt.xlabel('Number of features', fontsize=13)\n",
    "plt.ylabel('MAE', fontsize=13)\n",
    "plt.suptitle('Prediction of CI by XGB', fontsize=16)\n",
    "plt.axvline(x=list(xgbr_omc[\"Błąd\"]).index(min(list(xgbr_omc[\"Błąd\"]))), color='r', linestyle='-')\n",
    "plt.axis([0, 45, 0, 5.35])\n",
    "plt.show()"
   ]
  },
  {
   "cell_type": "code",
   "execution_count": 27,
   "id": "40a73fa6",
   "metadata": {},
   "outputs": [
    {
     "data": {
      "image/png": "[encoded data removed]",
      "text/plain": [
       "<Figure size 432x288 with 1 Axes>"
      ]
     },
     "metadata": {
      "needs_background": "light"
     },
     "output_type": "display_data"
    }
   ],
   "source": [
    "plt.plot(list(drzewo_omc[\"Błąd\"]))\n",
    "plt.xlabel('Number of features', fontsize=13)\n",
    "plt.ylabel('MAE', fontsize=13)\n",
    "plt.suptitle('Prediction of CI by DT', fontsize=16)\n",
    "plt.axvline(x=list(drzewo_omc[\"Błąd\"]).index(min(list(drzewo_omc[\"Błąd\"]))), color='r', linestyle='-')\n",
    "plt.axis([0, 45, 0, 5.35])\n",
    "plt.show()"
   ]
  },
  {
   "cell_type": "code",
   "execution_count": 18,
   "id": "53657098",
   "metadata": {},
   "outputs": [
    {
     "data": {
      "text/plain": [
       "5"
      ]
     },
     "execution_count": 18,
     "metadata": {},
     "output_type": "execute_result"
    }
   ],
   "source": [
    "list(drzewo_omc[\"Błąd\"]).index(min(list(drzewo_omc[\"Błąd\"])))"
   ]
  },
  {
   "cell_type": "code",
   "execution_count": null,
   "id": "89779af2",
   "metadata": {},
   "outputs": [],
   "source": []
  },
  {
   "cell_type": "code",
   "execution_count": null,
   "id": "3855081a",
   "metadata": {},
   "outputs": [],
   "source": []
  }
 ],
 "metadata": {
  "kernelspec": {
   "display_name": "Python 3",
   "language": "python",
   "name": "python3"
  },
  "language_info": {
   "codemirror_mode": {
    "name": "ipython",
    "version": 3
   },
   "file_extension": ".py",
   "mimetype": "text/x-python",
   "name": "python",
   "nbconvert_exporter": "python",
   "pygments_lexer": "ipython3",
   "version": "3.7.10"
  }
 },
 "nbformat": 4,
 "nbformat_minor": 5
}
