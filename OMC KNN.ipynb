{
 "cells": [
  {
   "cell_type": "code",
   "execution_count": 1,
   "id": "e40023ea",
   "metadata": {},
   "outputs": [],
   "source": [
    "import pandas as pd\n",
    "import numpy as np\n",
    "\n",
    "from sklearn.model_selection import cross_val_score, KFold\n",
    "import matplotlib.pyplot as plt \n",
    "from sklearn.model_selection import train_test_split\n",
    "from sklearn.neighbors import KNeighborsRegressor\n",
    "from sklearn.metrics import mean_absolute_error, r2_score\n",
    "from sklearn.preprocessing import StandardScaler\n",
    "from sklearn.feature_selection import RFECV\n",
    "from sklearn.linear_model import LinearRegression\n",
    "from sklearn.metrics import make_scorer\n",
    "from sklearn.model_selection import GridSearchCV"
   ]
  },
  {
   "cell_type": "markdown",
   "id": "7bbb5de9",
   "metadata": {},
   "source": [
    "### 1. Wczytuje dane"
   ]
  },
  {
   "cell_type": "code",
   "execution_count": 2,
   "id": "7dfc27c7",
   "metadata": {},
   "outputs": [],
   "source": [
    "train_df=pd.read_csv(\"D:/STUDIA/ROK_II/Projekt/Dane_jalowka_i_krowa_train.csv\", encoding=\"utf-8\")\n",
    "test_df=pd.read_csv(\"D:/STUDIA/ROK_II/Projekt/Dane_jalowka_i_krowa_test.csv\", encoding=\"utf-8\")\n",
    "val_df=pd.read_csv(\"D:/STUDIA/ROK_II/Projekt/Dane_jalowka_i_krowa_val.csv\", encoding=\"utf-8\")\n",
    "\n",
    "train_df.columns = ['id','Województwo', 'Data urodzenia', 'IE', 'Dokł. IE', 'PF', 'PI-PROD', 'PI-POKR', 'Prc', 'Psm', 'Pnr', 'Pw','PI-PLOD', 'CRj', 'CRk', 'PP', 'OMC', 'WH-KSOM', 'WH-DLUG', 'IP', 'kg ml', 'kg tł', '% tł', 'kg bi', '% bi', 'rc', 'sm', 'nr', 'w', 'og','kategoria']\n",
    "test_df.columns = ['id','Województwo', 'Data urodzenia', 'IE', 'Dokł. IE', 'PF', 'PI-PROD', 'PI-POKR', 'Prc', 'Psm', 'Pnr', 'Pw','PI-PLOD', 'CRj', 'CRk', 'PP', 'OMC', 'WH-KSOM', 'WH-DLUG', 'IP', 'kg ml', 'kg tł', '% tł', 'kg bi', '% bi', 'rc', 'sm', 'nr', 'w', 'og','kategoria']\n",
    "val_df.columns = ['id','Województwo', 'Data urodzenia', 'IE', 'Dokł. IE', 'PF', 'PI-PROD', 'PI-POKR', 'Prc', 'Psm', 'Pnr', 'Pw','PI-PLOD', 'CRj', 'CRk', 'PP', 'OMC', 'WH-KSOM', 'WH-DLUG', 'IP', 'kg ml', 'kg tł', '% tł', 'kg bi', '% bi', 'rc', 'sm', 'nr', 'w', 'og','kategoria']\n",
    "\n",
    "\n",
    "caly_df = pd.concat([train_df, test_df, val_df])\n",
    "\n",
    "\n",
    "caly_label=caly_df[\"OMC\"]\n",
    "\n",
    "del caly_df[\"OMC\"]\n",
    "del caly_df[\"IE\"]\n",
    "del caly_df[\"id\"]\n",
    "del caly_df[\"PF\"]\n",
    "del caly_df[\"Dokł. IE\"]"
   ]
  },
  {
   "cell_type": "code",
   "execution_count": 3,
   "id": "c7b04280",
   "metadata": {},
   "outputs": [
    {
     "data": {
      "text/plain": [
       "1881"
      ]
     },
     "execution_count": 3,
     "metadata": {},
     "output_type": "execute_result"
    }
   ],
   "source": [
    "len(caly_label)"
   ]
  },
  {
   "cell_type": "code",
   "execution_count": 4,
   "id": "4b128c92",
   "metadata": {},
   "outputs": [
    {
     "name": "stdout",
     "output_type": "stream",
     "text": [
      "<class 'pandas.core.frame.DataFrame'>\n",
      "Int64Index: 1881 entries, 0 to 188\n",
      "Data columns (total 26 columns):\n",
      " #   Column          Non-Null Count  Dtype  \n",
      "---  ------          --------------  -----  \n",
      " 0   Województwo     1881 non-null   object \n",
      " 1   Data urodzenia  1881 non-null   int64  \n",
      " 2   PI-PROD         1881 non-null   int64  \n",
      " 3   PI-POKR         1881 non-null   int64  \n",
      " 4   Prc             1881 non-null   int64  \n",
      " 5   Psm             1881 non-null   int64  \n",
      " 6   Pnr             1881 non-null   int64  \n",
      " 7   Pw              1881 non-null   int64  \n",
      " 8   PI-PLOD         1881 non-null   int64  \n",
      " 9   CRj             1881 non-null   int64  \n",
      " 10  CRk             1881 non-null   int64  \n",
      " 11  PP              1881 non-null   int64  \n",
      " 12  WH-KSOM         1881 non-null   int64  \n",
      " 13  WH-DLUG         1881 non-null   int64  \n",
      " 14  IP              1881 non-null   int64  \n",
      " 15  kg ml           1881 non-null   int64  \n",
      " 16  kg tł           1881 non-null   int64  \n",
      " 17  % tł            1881 non-null   int64  \n",
      " 18  kg bi           1881 non-null   int64  \n",
      " 19  % bi            1881 non-null   int64  \n",
      " 20  rc              1881 non-null   float64\n",
      " 21  sm              1881 non-null   float64\n",
      " 22  nr              1881 non-null   float64\n",
      " 23  w               1881 non-null   float64\n",
      " 24  og              1881 non-null   float64\n",
      " 25  kategoria       1881 non-null   object \n",
      "dtypes: float64(5), int64(19), object(2)\n",
      "memory usage: 396.8+ KB\n"
     ]
    }
   ],
   "source": [
    "caly_df.info()"
   ]
  },
  {
   "cell_type": "markdown",
   "id": "fa9e8d12",
   "metadata": {},
   "source": [
    "### 2. Usuwam zmienne kategoryczne"
   ]
  },
  {
   "cell_type": "code",
   "execution_count": 5,
   "id": "6e1740dd",
   "metadata": {},
   "outputs": [],
   "source": [
    "del caly_df[\"kategoria\"]\n",
    "del caly_df[\"Data urodzenia\"]\n",
    "del caly_df[\"Województwo\"]"
   ]
  },
  {
   "cell_type": "code",
   "execution_count": 6,
   "id": "ac45cdee",
   "metadata": {},
   "outputs": [
    {
     "name": "stdout",
     "output_type": "stream",
     "text": [
      "<class 'pandas.core.frame.DataFrame'>\n",
      "Int64Index: 1881 entries, 0 to 188\n",
      "Data columns (total 23 columns):\n",
      " #   Column   Non-Null Count  Dtype  \n",
      "---  ------   --------------  -----  \n",
      " 0   PI-PROD  1881 non-null   int64  \n",
      " 1   PI-POKR  1881 non-null   int64  \n",
      " 2   Prc      1881 non-null   int64  \n",
      " 3   Psm      1881 non-null   int64  \n",
      " 4   Pnr      1881 non-null   int64  \n",
      " 5   Pw       1881 non-null   int64  \n",
      " 6   PI-PLOD  1881 non-null   int64  \n",
      " 7   CRj      1881 non-null   int64  \n",
      " 8   CRk      1881 non-null   int64  \n",
      " 9   PP       1881 non-null   int64  \n",
      " 10  WH-KSOM  1881 non-null   int64  \n",
      " 11  WH-DLUG  1881 non-null   int64  \n",
      " 12  IP       1881 non-null   int64  \n",
      " 13  kg ml    1881 non-null   int64  \n",
      " 14  kg tł    1881 non-null   int64  \n",
      " 15  % tł     1881 non-null   int64  \n",
      " 16  kg bi    1881 non-null   int64  \n",
      " 17  % bi     1881 non-null   int64  \n",
      " 18  rc       1881 non-null   float64\n",
      " 19  sm       1881 non-null   float64\n",
      " 20  nr       1881 non-null   float64\n",
      " 21  w        1881 non-null   float64\n",
      " 22  og       1881 non-null   float64\n",
      "dtypes: float64(5), int64(18)\n",
      "memory usage: 352.7 KB\n"
     ]
    }
   ],
   "source": [
    "caly_df.info()"
   ]
  },
  {
   "cell_type": "code",
   "execution_count": 7,
   "id": "2d8081cf",
   "metadata": {},
   "outputs": [],
   "source": [
    "nazwy_kolumn=caly_df.columns"
   ]
  },
  {
   "cell_type": "markdown",
   "id": "f6323081",
   "metadata": {},
   "source": [
    "### 3. Wybieram najlepsze zmienne według REFCV na regresji liniowej"
   ]
  },
  {
   "cell_type": "code",
   "execution_count": 8,
   "id": "70c1db8c",
   "metadata": {},
   "outputs": [],
   "source": [
    "mae_scorer = make_scorer(mean_absolute_error)"
   ]
  },
  {
   "cell_type": "code",
   "execution_count": 9,
   "id": "3f3d4eb5",
   "metadata": {},
   "outputs": [],
   "source": [
    "estimator=LinearRegression()\n",
    "selector = RFECV(estimator, step=1, cv=5,scoring=mae_scorer)\n",
    "scaler = StandardScaler()\n",
    "data_frame = scaler.fit_transform(caly_df)\n",
    "selector2 = selector.fit(data_frame, caly_label)\n"
   ]
  },
  {
   "cell_type": "code",
   "execution_count": 10,
   "id": "0c98f2ed",
   "metadata": {},
   "outputs": [
    {
     "data": {
      "text/plain": [
       "array([10, 15, 18, 14, 16, 17,  4,  5, 11,  6, 21, 23,  1,  7,  3,  8,  2,\n",
       "        9, 22, 20, 19, 12, 13])"
      ]
     },
     "execution_count": 10,
     "metadata": {},
     "output_type": "execute_result"
    }
   ],
   "source": [
    "selector2.ranking_"
   ]
  },
  {
   "cell_type": "code",
   "execution_count": 11,
   "id": "a299801b",
   "metadata": {},
   "outputs": [],
   "source": [
    "dictionary = dict(zip(nazwy_kolumn, selector2.ranking_))\n",
    "dictionary= dict(sorted(dictionary.items(), key=lambda item: item[1]))"
   ]
  },
  {
   "cell_type": "code",
   "execution_count": 12,
   "id": "570f4460",
   "metadata": {},
   "outputs": [
    {
     "data": {
      "text/plain": [
       "{'IP': 1,\n",
       " 'kg bi': 2,\n",
       " 'kg tł': 3,\n",
       " 'PI-PLOD': 4,\n",
       " 'CRj': 5,\n",
       " 'PP': 6,\n",
       " 'kg ml': 7,\n",
       " '% tł': 8,\n",
       " '% bi': 9,\n",
       " 'PI-PROD': 10,\n",
       " 'CRk': 11,\n",
       " 'w': 12,\n",
       " 'og': 13,\n",
       " 'Psm': 14,\n",
       " 'PI-POKR': 15,\n",
       " 'Pnr': 16,\n",
       " 'Pw': 17,\n",
       " 'Prc': 18,\n",
       " 'nr': 19,\n",
       " 'sm': 20,\n",
       " 'WH-KSOM': 21,\n",
       " 'rc': 22,\n",
       " 'WH-DLUG': 23}"
      ]
     },
     "execution_count": 12,
     "metadata": {},
     "output_type": "execute_result"
    }
   ],
   "source": [
    "dictionary"
   ]
  },
  {
   "cell_type": "code",
   "execution_count": 13,
   "id": "2ed672df",
   "metadata": {},
   "outputs": [],
   "source": [
    "nazwy_kolumn_2=[]\n",
    "for x in dictionary.keys():\n",
    "    nazwy_kolumn_2.append(x)"
   ]
  },
  {
   "cell_type": "code",
   "execution_count": 14,
   "id": "aeae1dcb",
   "metadata": {},
   "outputs": [],
   "source": [
    "caly_df_zapas=caly_df"
   ]
  },
  {
   "cell_type": "code",
   "execution_count": 15,
   "id": "baa6de11",
   "metadata": {},
   "outputs": [
    {
     "data": {
      "text/plain": [
       "['IP',\n",
       " 'kg bi',\n",
       " 'kg tł',\n",
       " 'PI-PLOD',\n",
       " 'CRj',\n",
       " 'PP',\n",
       " 'kg ml',\n",
       " '% tł',\n",
       " '% bi',\n",
       " 'PI-PROD',\n",
       " 'CRk',\n",
       " 'w',\n",
       " 'og',\n",
       " 'Psm',\n",
       " 'PI-POKR',\n",
       " 'Pnr',\n",
       " 'Pw',\n",
       " 'Prc',\n",
       " 'nr',\n",
       " 'sm',\n",
       " 'WH-KSOM',\n",
       " 'rc',\n",
       " 'WH-DLUG']"
      ]
     },
     "execution_count": 15,
     "metadata": {},
     "output_type": "execute_result"
    }
   ],
   "source": [
    "nazwy_kolumn_2"
   ]
  },
  {
   "cell_type": "code",
   "execution_count": 16,
   "id": "02374ca1",
   "metadata": {},
   "outputs": [],
   "source": [
    "dane_do_porownania=pd.DataFrame(columns=[\"Liczba zmiennych\",\n",
    "                                    \"Błąd\"])\n",
    "kombinacje=[]\n",
    "glowne_wyniki=[]\n",
    "glowne_zmienne=[]\n",
    "for i in range(0,len(nazwy_kolumn_2)):\n",
    "    zmienne=[]\n",
    "    for q in range(0,i+1):\n",
    "        zmienne.append(nazwy_kolumn_2[q])\n",
    "    kombinacje.append(zmienne)\n",
    "    data_frame=caly_df_zapas[zmienne]\n",
    "    kfold = KFold(n_splits=5, shuffle=False)\n",
    "    \n",
    "    scaler = StandardScaler()\n",
    "    data_frame = scaler.fit_transform(data_frame)\n",
    "    \n",
    "    data_frame = np.array(data_frame)\n",
    "    caly_label = np.array(caly_label)\n",
    "    \n",
    "    wyniki=[]\n",
    "    \n",
    "    for train, test in kfold.split(data_frame, caly_label):\n",
    "        reg = KNeighborsRegressor()\n",
    "        reg.fit(data_frame[train], caly_label[train])\n",
    "        predykcje=reg.predict(data_frame[test])\n",
    "        \n",
    "        dane_folda=pd.DataFrame({\"pred\": predykcje.ravel(),\n",
    "                                    \"obs\": caly_label[test]\n",
    "                                })\n",
    "        \n",
    "        dane_folda['blad']=abs(dane_folda['obs']-dane_folda['pred'])\n",
    "        mae=dane_folda['blad'].sum()/len(dane_folda['blad'])\n",
    "        wyniki.append(mae)\n",
    "        \n",
    "    wynik=sum(wyniki)/len(wyniki)\n",
    "    glowne_wyniki.append(wynik)\n",
    "    glowne_zmienne.append(i)\n",
    "\n",
    "                       "
   ]
  },
  {
   "cell_type": "code",
   "execution_count": 17,
   "id": "bd7042cb",
   "metadata": {
    "scrolled": true
   },
   "outputs": [],
   "source": [
    "dane_do_porownania[\"Liczba zmiennych\"]=glowne_zmienne\n",
    "dane_do_porownania[\"Błąd\"]=glowne_wyniki"
   ]
  },
  {
   "cell_type": "code",
   "execution_count": 18,
   "id": "c6bf03ec",
   "metadata": {},
   "outputs": [
    {
     "data": {
      "text/plain": [
       "[5.037822111857329,\n",
       " 5.069973756984028,\n",
       " 5.185551949884305,\n",
       " 4.324889666459732,\n",
       " 3.605900728032057,\n",
       " 2.201830520909758,\n",
       " 2.2273407077148826,\n",
       " 2.274521135504261,\n",
       " 2.3496754895874483,\n",
       " 2.4179502229245444,\n",
       " 2.110518087928213,\n",
       " 2.1715926406682096,\n",
       " 2.302607934985045,\n",
       " 2.4175379536091204,\n",
       " 2.4469148936170213,\n",
       " 2.5317348608837973,\n",
       " 2.5755172413793104,\n",
       " 2.594657429877533,\n",
       " 2.638095264969807,\n",
       " 2.6367963767706986,\n",
       " 2.690241830803093,\n",
       " 2.783290535583273,\n",
       " 2.7491751791861843]"
      ]
     },
     "execution_count": 18,
     "metadata": {},
     "output_type": "execute_result"
    }
   ],
   "source": [
    "list(dane_do_porownania[\"Błąd\"])"
   ]
  },
  {
   "cell_type": "code",
   "execution_count": 19,
   "id": "50f2ea9a",
   "metadata": {},
   "outputs": [
    {
     "data": {
      "text/plain": [
       "10"
      ]
     },
     "execution_count": 19,
     "metadata": {},
     "output_type": "execute_result"
    }
   ],
   "source": [
    "list(dane_do_porownania[\"Błąd\"]).index(min(list(dane_do_porownania[\"Błąd\"])))"
   ]
  },
  {
   "cell_type": "code",
   "execution_count": 20,
   "id": "ab6bf99f",
   "metadata": {},
   "outputs": [
    {
     "data": {
      "text/plain": [
       "2.110518087928213"
      ]
     },
     "execution_count": 20,
     "metadata": {},
     "output_type": "execute_result"
    }
   ],
   "source": [
    "min(list(dane_do_porownania[\"Błąd\"]))"
   ]
  },
  {
   "cell_type": "code",
   "execution_count": 21,
   "id": "08912615",
   "metadata": {},
   "outputs": [
    {
     "data": {
      "text/plain": [
       "2.110518087928213"
      ]
     },
     "execution_count": 21,
     "metadata": {},
     "output_type": "execute_result"
    }
   ],
   "source": [
    "dane_do_porownania[\"Błąd\"][10]"
   ]
  },
  {
   "cell_type": "code",
   "execution_count": 22,
   "id": "03686858",
   "metadata": {},
   "outputs": [
    {
     "data": {
      "text/plain": [
       "23"
      ]
     },
     "execution_count": 22,
     "metadata": {},
     "output_type": "execute_result"
    }
   ],
   "source": [
    "len(dane_do_porownania[\"Błąd\"])"
   ]
  },
  {
   "cell_type": "code",
   "execution_count": 22,
   "id": "19609a39",
   "metadata": {},
   "outputs": [],
   "source": [
    "dane_do_porownania.to_csv('Wyniki REFCV KNN OMC.csv',index=False)"
   ]
  },
  {
   "cell_type": "code",
   "execution_count": 23,
   "id": "f02b65c2",
   "metadata": {},
   "outputs": [
    {
     "data": {
      "text/plain": [
       "['IP',\n",
       " 'kg bi',\n",
       " 'kg tł',\n",
       " 'PI-PLOD',\n",
       " 'CRj',\n",
       " 'PP',\n",
       " 'kg ml',\n",
       " '% tł',\n",
       " '% bi',\n",
       " 'PI-PROD',\n",
       " 'CRk']"
      ]
     },
     "execution_count": 23,
     "metadata": {},
     "output_type": "execute_result"
    }
   ],
   "source": [
    "kombinacje[10]"
   ]
  },
  {
   "cell_type": "code",
   "execution_count": 24,
   "id": "b3d9b6a1",
   "metadata": {},
   "outputs": [
    {
     "data": {
      "text/plain": [
       "11"
      ]
     },
     "execution_count": 24,
     "metadata": {},
     "output_type": "execute_result"
    }
   ],
   "source": [
    "len(kombinacje[10])"
   ]
  },
  {
   "cell_type": "code",
   "execution_count": 25,
   "id": "acc7dea0",
   "metadata": {},
   "outputs": [
    {
     "data": {
      "image/png": "[encoded data removed]",
      "text/plain": [
       "<Figure size 432x288 with 1 Axes>"
      ]
     },
     "metadata": {
      "needs_background": "light"
     },
     "output_type": "display_data"
    }
   ],
   "source": [
    "plt.plot(list(dane_do_porownania[\"Błąd\"]))\n",
    "plt.axvline(x=list(dane_do_porownania[\"Błąd\"]).index(min(list(dane_do_porownania[\"Błąd\"]))), color='r', linestyle='-')\n",
    "plt.xlabel(\"Number of features\")\n",
    "plt.ylabel(\"MAE of OMC\")\n",
    "plt.title(\"KNN\")\n",
    "plt.show()"
   ]
  },
  {
   "cell_type": "markdown",
   "id": "ce833ec5",
   "metadata": {},
   "source": [
    "10 zmiennych włącznie daje najmniejszy bład"
   ]
  },
  {
   "cell_type": "code",
   "execution_count": 29,
   "id": "0e10e661",
   "metadata": {},
   "outputs": [],
   "source": [
    "zestaw_caly=caly_df_zapas\n",
    "zestaw_10=caly_df_zapas[kombinacje[10]]\n"
   ]
  },
  {
   "cell_type": "markdown",
   "id": "7a01c2fe",
   "metadata": {},
   "source": [
    "### 4. Wyszukuje hiper-parametry"
   ]
  },
  {
   "cell_type": "code",
   "execution_count": 30,
   "id": "b605bfea",
   "metadata": {},
   "outputs": [],
   "source": [
    "scaler = StandardScaler()"
   ]
  },
  {
   "cell_type": "code",
   "execution_count": 31,
   "id": "9f8f9515",
   "metadata": {},
   "outputs": [],
   "source": [
    "\n",
    "zestaw_caly = scaler.fit_transform(zestaw_caly)\n",
    "zestaw_10= scaler.fit_transform(zestaw_10)\n",
    "\n",
    "zestaw_caly = np.array(zestaw_caly)\n",
    "zestaw_10 = np.array(zestaw_10)\n",
    "\n",
    "caly_label = np.array(caly_label)\n"
   ]
  },
  {
   "cell_type": "markdown",
   "id": "3114a975",
   "metadata": {},
   "source": [
    "#### 4.1 Wszystkie dane"
   ]
  },
  {
   "cell_type": "code",
   "execution_count": 32,
   "id": "04ff533e",
   "metadata": {},
   "outputs": [],
   "source": [
    "param_grid = {\n",
    "    'n_neighbors':range(1,30,3),\n",
    "    'weights': ['uniform', 'distance'],\n",
    "    'algorithm': ['auto', 'ball_tree', 'kd_tree', 'brute'],\n",
    "    'leaf_size': range(1,30,3),\n",
    "    'p': [1,2],\n",
    "}\n"
   ]
  },
  {
   "cell_type": "code",
   "execution_count": 33,
   "id": "073b0cd7",
   "metadata": {},
   "outputs": [
    {
     "name": "stdout",
     "output_type": "stream",
     "text": [
      "Fitting 2 folds for each of 1600 candidates, totalling 3200 fits\n"
     ]
    },
    {
     "data": {
      "text/plain": [
       "GridSearchCV(cv=2, estimator=KNeighborsRegressor(), n_jobs=1,\n",
       "             param_grid={'algorithm': ['auto', 'ball_tree', 'kd_tree', 'brute'],\n",
       "                         'leaf_size': range(1, 30, 3),\n",
       "                         'n_neighbors': range(1, 30, 3), 'p': [1, 2],\n",
       "                         'weights': ['uniform', 'distance']},\n",
       "             scoring='neg_mean_absolute_error', verbose=1)"
      ]
     },
     "execution_count": 33,
     "metadata": {},
     "output_type": "execute_result"
    }
   ],
   "source": [
    "knn_1 = KNeighborsRegressor()\n",
    "grid_search_1 = GridSearchCV(estimator = knn_1, param_grid = param_grid, \n",
    "                          cv = 2, n_jobs = 1, verbose = 1,scoring='neg_mean_absolute_error')\n",
    "grid_search_1.fit(zestaw_caly, np.ravel(caly_label))"
   ]
  },
  {
   "cell_type": "code",
   "execution_count": 34,
   "id": "085bb1b6",
   "metadata": {},
   "outputs": [
    {
     "data": {
      "text/plain": [
       "KNeighborsRegressor(algorithm='ball_tree', leaf_size=1, n_neighbors=16,\n",
       "                    weights='distance')"
      ]
     },
     "execution_count": 34,
     "metadata": {},
     "output_type": "execute_result"
    }
   ],
   "source": [
    "grid_search_1.best_estimator_"
   ]
  },
  {
   "cell_type": "code",
   "execution_count": 35,
   "id": "1466b5ad",
   "metadata": {},
   "outputs": [
    {
     "data": {
      "text/plain": [
       "{'algorithm': 'ball_tree',\n",
       " 'leaf_size': 1,\n",
       " 'n_neighbors': 16,\n",
       " 'p': 2,\n",
       " 'weights': 'distance'}"
      ]
     },
     "execution_count": 35,
     "metadata": {},
     "output_type": "execute_result"
    }
   ],
   "source": [
    "grid_search_1.best_params_"
   ]
  },
  {
   "cell_type": "markdown",
   "id": "e13bf8fe",
   "metadata": {},
   "source": [
    "#### 4.2 Zestaw 10 zmiennych"
   ]
  },
  {
   "cell_type": "code",
   "execution_count": 36,
   "id": "71a7d91b",
   "metadata": {},
   "outputs": [
    {
     "name": "stdout",
     "output_type": "stream",
     "text": [
      "Fitting 2 folds for each of 1600 candidates, totalling 3200 fits\n"
     ]
    },
    {
     "data": {
      "text/plain": [
       "GridSearchCV(cv=2, estimator=KNeighborsRegressor(), n_jobs=1,\n",
       "             param_grid={'algorithm': ['auto', 'ball_tree', 'kd_tree', 'brute'],\n",
       "                         'leaf_size': range(1, 30, 3),\n",
       "                         'n_neighbors': range(1, 30, 3), 'p': [1, 2],\n",
       "                         'weights': ['uniform', 'distance']},\n",
       "             scoring='neg_mean_absolute_error', verbose=1)"
      ]
     },
     "execution_count": 36,
     "metadata": {},
     "output_type": "execute_result"
    }
   ],
   "source": [
    "knn_2 = KNeighborsRegressor()\n",
    "grid_search_2 = GridSearchCV(estimator = knn_2, param_grid = param_grid, \n",
    "                          cv = 2, n_jobs = 1, verbose = 1,scoring='neg_mean_absolute_error')\n",
    "grid_search_2.fit(zestaw_10, np.ravel(caly_label))"
   ]
  },
  {
   "cell_type": "code",
   "execution_count": 37,
   "id": "fef02f1f",
   "metadata": {},
   "outputs": [
    {
     "data": {
      "text/plain": [
       "KNeighborsRegressor(leaf_size=1, n_neighbors=10, weights='distance')"
      ]
     },
     "execution_count": 37,
     "metadata": {},
     "output_type": "execute_result"
    }
   ],
   "source": [
    "grid_search_2.best_estimator_"
   ]
  },
  {
   "cell_type": "code",
   "execution_count": 38,
   "id": "f5cd34d0",
   "metadata": {},
   "outputs": [
    {
     "data": {
      "text/plain": [
       "{'algorithm': 'auto',\n",
       " 'leaf_size': 1,\n",
       " 'n_neighbors': 10,\n",
       " 'p': 2,\n",
       " 'weights': 'distance'}"
      ]
     },
     "execution_count": 38,
     "metadata": {},
     "output_type": "execute_result"
    }
   ],
   "source": [
    "grid_search_2.best_params_"
   ]
  },
  {
   "cell_type": "markdown",
   "id": "23492c29",
   "metadata": {},
   "source": [
    "### 5. Przeprowadzam 5 krotną cross-validację"
   ]
  },
  {
   "cell_type": "markdown",
   "id": "857acc46",
   "metadata": {},
   "source": [
    "#### 5.1 Wszystkie dane"
   ]
  },
  {
   "cell_type": "code",
   "execution_count": 39,
   "id": "9ae8b7e9",
   "metadata": {},
   "outputs": [],
   "source": [
    "kfold = KFold(n_splits=5, shuffle=False)\n",
    "dane_do_zapisu_2=pd.DataFrame()\n",
    "licznik=1\n",
    "wart_2=[]\n",
    "for train, test in kfold.split(zestaw_caly, caly_label):\n",
    "    reg = KNeighborsRegressor(algorithm='ball_tree', leaf_size=1, n_neighbors=16,\n",
    "                    weights='distance')\n",
    "    reg.fit(zestaw_caly[train], caly_label[train])\n",
    "    predykcje=reg.predict(zestaw_caly[test])\n",
    "    dane_folda_2=pd.DataFrame({\"pred\": predykcje.ravel(),\n",
    "                                \"obs\": caly_label[test],\n",
    "                                \"Fold\":licznik})\n",
    "    dane_do_zapisu_2=pd.concat([dane_do_zapisu_2,dane_folda_2])\n",
    "    sredni_blad=mean_absolute_error(caly_label[test],predykcje) #y tre, y pred\n",
    "    wart_2.append(sredni_blad)\n",
    "    licznik+=1"
   ]
  },
  {
   "cell_type": "code",
   "execution_count": 40,
   "id": "d819b02b",
   "metadata": {},
   "outputs": [
    {
     "data": {
      "text/plain": [
       "[1.9685522052424687,\n",
       " 1.8202980420758421,\n",
       " 1.7590090871253488,\n",
       " 1.7030452039495,\n",
       " 1.787113128603223]"
      ]
     },
     "execution_count": 40,
     "metadata": {},
     "output_type": "execute_result"
    }
   ],
   "source": [
    "wart_2"
   ]
  },
  {
   "cell_type": "code",
   "execution_count": 41,
   "id": "45e21772",
   "metadata": {},
   "outputs": [
    {
     "data": {
      "text/plain": [
       "1.8076035333992764"
      ]
     },
     "execution_count": 41,
     "metadata": {},
     "output_type": "execute_result"
    }
   ],
   "source": [
    "sum(wart_2)/len(wart_2)"
   ]
  },
  {
   "cell_type": "markdown",
   "id": "81367323",
   "metadata": {},
   "source": [
    "#### 5.2 Zestaw 10"
   ]
  },
  {
   "cell_type": "code",
   "execution_count": 42,
   "id": "760de1c9",
   "metadata": {},
   "outputs": [],
   "source": [
    "kfold = KFold(n_splits=5, shuffle=False)\n",
    "dane_do_zapisu_1=pd.DataFrame()\n",
    "licznik=1\n",
    "wart_1=[]\n",
    "for train, test in kfold.split(zestaw_10, caly_label):\n",
    "    reg = KNeighborsRegressor(leaf_size=1, n_neighbors=10, weights='distance')\n",
    "    reg.fit(zestaw_10[train], caly_label[train])\n",
    "    predykcje=reg.predict(zestaw_10[test])\n",
    "    dane_folda_1=pd.DataFrame({\"pred\": predykcje.ravel(),\n",
    "                                \"obs\": caly_label[test],\n",
    "                                \"Fold\":licznik})\n",
    "    dane_do_zapisu_1=pd.concat([dane_do_zapisu_1,dane_folda_1])\n",
    "    sredni_blad=mean_absolute_error(caly_label[test],predykcje)\n",
    "    wart_1.append(sredni_blad)\n",
    "    licznik+=1"
   ]
  },
  {
   "cell_type": "code",
   "execution_count": 43,
   "id": "3166e843",
   "metadata": {},
   "outputs": [
    {
     "data": {
      "text/plain": [
       "[1.4376992582452244,\n",
       " 1.3435856390402257,\n",
       " 1.2605396394041668,\n",
       " 1.3055495928823313,\n",
       " 1.2285693234837411]"
      ]
     },
     "execution_count": 43,
     "metadata": {},
     "output_type": "execute_result"
    }
   ],
   "source": [
    "wart_1"
   ]
  },
  {
   "cell_type": "code",
   "execution_count": 44,
   "id": "f6cbb3cb",
   "metadata": {},
   "outputs": [
    {
     "data": {
      "text/plain": [
       "1.3151886906111379"
      ]
     },
     "execution_count": 44,
     "metadata": {},
     "output_type": "execute_result"
    }
   ],
   "source": [
    "sum(wart_1)/len(wart_1)"
   ]
  },
  {
   "cell_type": "markdown",
   "id": "ab565bda",
   "metadata": {},
   "source": [
    "Feature Selection pozwolił na zmniejszenie błedu z 1.81 na 1.31 \n",
    "\n",
    "zmienne:\n"
   ]
  },
  {
   "cell_type": "code",
   "execution_count": 45,
   "id": "31851225",
   "metadata": {},
   "outputs": [
    {
     "data": {
      "text/plain": [
       "['IP',\n",
       " 'kg bi',\n",
       " 'kg tł',\n",
       " 'PI-PLOD',\n",
       " 'CRj',\n",
       " 'PP',\n",
       " 'kg ml',\n",
       " '% tł',\n",
       " '% bi',\n",
       " 'PI-PROD',\n",
       " 'CRk']"
      ]
     },
     "execution_count": 45,
     "metadata": {},
     "output_type": "execute_result"
    }
   ],
   "source": [
    "kombinacje[10]"
   ]
  },
  {
   "cell_type": "code",
   "execution_count": 46,
   "id": "586c3d3e",
   "metadata": {},
   "outputs": [
    {
     "data": {
      "text/html": [
       "<div>\n",
       "<style scoped>\n",
       "    .dataframe tbody tr th:only-of-type {\n",
       "        vertical-align: middle;\n",
       "    }\n",
       "\n",
       "    .dataframe tbody tr th {\n",
       "        vertical-align: top;\n",
       "    }\n",
       "\n",
       "    .dataframe thead th {\n",
       "        text-align: right;\n",
       "    }\n",
       "</style>\n",
       "<table border=\"1\" class=\"dataframe\">\n",
       "  <thead>\n",
       "    <tr style=\"text-align: right;\">\n",
       "      <th></th>\n",
       "      <th>pred</th>\n",
       "      <th>obs</th>\n",
       "      <th>Fold</th>\n",
       "    </tr>\n",
       "  </thead>\n",
       "  <tbody>\n",
       "    <tr>\n",
       "      <th>0</th>\n",
       "      <td>105.000000</td>\n",
       "      <td>105</td>\n",
       "      <td>1</td>\n",
       "    </tr>\n",
       "    <tr>\n",
       "      <th>1</th>\n",
       "      <td>103.721587</td>\n",
       "      <td>98</td>\n",
       "      <td>1</td>\n",
       "    </tr>\n",
       "    <tr>\n",
       "      <th>2</th>\n",
       "      <td>105.394384</td>\n",
       "      <td>100</td>\n",
       "      <td>1</td>\n",
       "    </tr>\n",
       "    <tr>\n",
       "      <th>3</th>\n",
       "      <td>100.000000</td>\n",
       "      <td>100</td>\n",
       "      <td>1</td>\n",
       "    </tr>\n",
       "    <tr>\n",
       "      <th>4</th>\n",
       "      <td>110.330652</td>\n",
       "      <td>113</td>\n",
       "      <td>1</td>\n",
       "    </tr>\n",
       "  </tbody>\n",
       "</table>\n",
       "</div>"
      ],
      "text/plain": [
       "         pred  obs  Fold\n",
       "0  105.000000  105     1\n",
       "1  103.721587   98     1\n",
       "2  105.394384  100     1\n",
       "3  100.000000  100     1\n",
       "4  110.330652  113     1"
      ]
     },
     "execution_count": 46,
     "metadata": {},
     "output_type": "execute_result"
    }
   ],
   "source": [
    "dane_do_zapisu_1.head()"
   ]
  },
  {
   "cell_type": "code",
   "execution_count": 47,
   "id": "8232eb78",
   "metadata": {},
   "outputs": [],
   "source": [
    "#dane_do_zapisu_1.to_csv(\"D:/STUDIA/ROK_II/Projekt/Predykcje_i błędy/Okres Między Ciążowy/OMC_KNN_FS.csv\")"
   ]
  }
 ],
 "metadata": {
  "kernelspec": {
   "display_name": "Python 3",
   "language": "python",
   "name": "python3"
  },
  "language_info": {
   "codemirror_mode": {
    "name": "ipython",
    "version": 3
   },
   "file_extension": ".py",
   "mimetype": "text/x-python",
   "name": "python",
   "nbconvert_exporter": "python",
   "pygments_lexer": "ipython3",
   "version": "3.7.10"
  }
 },
 "nbformat": 4,
 "nbformat_minor": 5
}
