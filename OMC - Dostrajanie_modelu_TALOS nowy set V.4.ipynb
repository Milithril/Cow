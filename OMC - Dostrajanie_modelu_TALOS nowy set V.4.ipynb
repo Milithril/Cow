{
 "cells": [
  {
   "cell_type": "markdown",
   "id": "hairy-iraqi",
   "metadata": {},
   "source": [
    "## 1. Biblioteki"
   ]
  },
  {
   "cell_type": "code",
   "execution_count": 1,
   "id": "compressed-russell",
   "metadata": {},
   "outputs": [
    {
     "name": "stderr",
     "output_type": "stream",
     "text": [
      "Using TensorFlow backend.\n"
     ]
    }
   ],
   "source": [
    "import pandas as pd\n",
    "import numpy as np\n",
    "import csv\n",
    "import matplotlib.pyplot as plt\n",
    "%matplotlib inline\n",
    "import os\n",
    "import talos as ta\n",
    "from talos.model.early_stopper import early_stopper\n",
    "\n",
    "from sklearn.preprocessing import StandardScaler\n",
    "\n",
    "from sklearn.metrics import mean_absolute_error\n",
    "%load_ext tensorboard\n",
    "\n",
    "\n",
    "from tensorflow.keras import optimizers\n",
    "from tensorflow.keras.models import Sequential\n",
    "from tensorflow.keras.layers import Activation, Dense, Dropout\n",
    "from tensorflow.keras.layers import BatchNormalization\n",
    "from tensorflow.keras.callbacks import TensorBoard\n",
    "from sklearn.ensemble import RandomForestRegressor\n",
    "from sklearn.preprocessing import MinMaxScaler\n",
    "\n",
    "import seaborn as sns\n",
    "\n",
    "from sklearn.model_selection import train_test_split\n"
   ]
  },
  {
   "cell_type": "markdown",
   "id": "presidential-upset",
   "metadata": {},
   "source": [
    "\n",
    "## 2. Dane"
   ]
  },
  {
   "cell_type": "code",
   "execution_count": 2,
   "id": "humanitarian-desperate",
   "metadata": {
    "scrolled": true
   },
   "outputs": [
    {
     "data": {
      "text/plain": [
       "(1881, 26)"
      ]
     },
     "execution_count": 2,
     "metadata": {},
     "output_type": "execute_result"
    }
   ],
   "source": [
    "train_df=pd.read_csv('D:/STUDIA/ROK_II/Projekt/Dane_jalowka_i_krowa_train.csv')\n",
    "test_df=pd.read_csv('D:/STUDIA/ROK_II/Projekt/Dane_jalowka_i_krowa_test.csv')\n",
    "val_df=pd.read_csv('D:/STUDIA/ROK_II/Projekt/Dane_jalowka_i_krowa_val.csv')\n",
    "\n",
    "train_df.columns = ['id','Województwo', 'Data urodzenia', 'IE', 'Dokł. IE', 'PF', 'PI-PROD', 'PI-POKR', 'Prc', 'Psm', 'Pnr', 'Pw','PI-PLOD', 'CRj', 'CRk', 'PP', 'OMC', 'WH-KSOM', 'WH-DLUG', 'IP', 'kg ml', 'kg tł', '% tł', 'kg bi', '% bi', 'rc', 'sm', 'nr', 'w', 'og','kategoria']\n",
    "test_df.columns = ['id','Województwo', 'Data urodzenia', 'IE', 'Dokł. IE', 'PF', 'PI-PROD', 'PI-POKR', 'Prc', 'Psm', 'Pnr', 'Pw','PI-PLOD', 'CRj', 'CRk', 'PP', 'OMC', 'WH-KSOM', 'WH-DLUG', 'IP', 'kg ml', 'kg tł', '% tł', 'kg bi', '% bi', 'rc', 'sm', 'nr', 'w', 'og','kategoria']\n",
    "val_df.columns = ['id','Województwo', 'Data urodzenia', 'IE', 'Dokł. IE', 'PF', 'PI-PROD', 'PI-POKR', 'Prc', 'Psm', 'Pnr', 'Pw','PI-PLOD', 'CRj', 'CRk', 'PP', 'OMC', 'WH-KSOM', 'WH-DLUG', 'IP', 'kg ml', 'kg tł', '% tł', 'kg bi', '% bi', 'rc', 'sm', 'nr', 'w', 'og','kategoria']\n",
    "\n",
    "caly_df = pd.concat([train_df, test_df, val_df])\n",
    "caly_df['Województwo']=caly_df['Województwo'].astype('category')\n",
    "caly_df['Data urodzenia']=caly_df['Data urodzenia'].astype('category')\n",
    "\n",
    "del caly_df[\"id\"]\n",
    "del caly_df[\"PF\"]\n",
    "del caly_df[\"IE\"]\n",
    "del caly_df[\"Dokł. IE\"]\n",
    "del caly_df['kategoria']\n",
    "\n",
    "caly_df.shape"
   ]
  },
  {
   "cell_type": "code",
   "execution_count": 3,
   "id": "22b3fcd3",
   "metadata": {},
   "outputs": [
    {
     "data": {
      "text/html": [
       "<div>\n",
       "<style scoped>\n",
       "    .dataframe tbody tr th:only-of-type {\n",
       "        vertical-align: middle;\n",
       "    }\n",
       "\n",
       "    .dataframe tbody tr th {\n",
       "        vertical-align: top;\n",
       "    }\n",
       "\n",
       "    .dataframe thead th {\n",
       "        text-align: right;\n",
       "    }\n",
       "</style>\n",
       "<table border=\"1\" class=\"dataframe\">\n",
       "  <thead>\n",
       "    <tr style=\"text-align: right;\">\n",
       "      <th></th>\n",
       "      <th>Województwo</th>\n",
       "      <th>Data urodzenia</th>\n",
       "      <th>PI-PROD</th>\n",
       "      <th>PI-POKR</th>\n",
       "      <th>Prc</th>\n",
       "      <th>Psm</th>\n",
       "      <th>Pnr</th>\n",
       "      <th>Pw</th>\n",
       "      <th>PI-PLOD</th>\n",
       "      <th>CRj</th>\n",
       "      <th>...</th>\n",
       "      <th>kg ml</th>\n",
       "      <th>kg tł</th>\n",
       "      <th>% tł</th>\n",
       "      <th>kg bi</th>\n",
       "      <th>% bi</th>\n",
       "      <th>rc</th>\n",
       "      <th>sm</th>\n",
       "      <th>nr</th>\n",
       "      <th>w</th>\n",
       "      <th>og</th>\n",
       "    </tr>\n",
       "  </thead>\n",
       "  <tbody>\n",
       "    <tr>\n",
       "      <th>0</th>\n",
       "      <td>WIELKOPOLSKIE</td>\n",
       "      <td>2020</td>\n",
       "      <td>137</td>\n",
       "      <td>127</td>\n",
       "      <td>121</td>\n",
       "      <td>113</td>\n",
       "      <td>106</td>\n",
       "      <td>128</td>\n",
       "      <td>109</td>\n",
       "      <td>107</td>\n",
       "      <td>...</td>\n",
       "      <td>1370</td>\n",
       "      <td>577</td>\n",
       "      <td>2</td>\n",
       "      <td>452</td>\n",
       "      <td>1</td>\n",
       "      <td>115.0</td>\n",
       "      <td>114.0</td>\n",
       "      <td>109.0</td>\n",
       "      <td>127.0</td>\n",
       "      <td>123.0</td>\n",
       "    </tr>\n",
       "    <tr>\n",
       "      <th>1</th>\n",
       "      <td>KUJAWSKO-POMORSKIE</td>\n",
       "      <td>2018</td>\n",
       "      <td>126</td>\n",
       "      <td>123</td>\n",
       "      <td>109</td>\n",
       "      <td>113</td>\n",
       "      <td>103</td>\n",
       "      <td>128</td>\n",
       "      <td>114</td>\n",
       "      <td>114</td>\n",
       "      <td>...</td>\n",
       "      <td>1209</td>\n",
       "      <td>358</td>\n",
       "      <td>-16</td>\n",
       "      <td>354</td>\n",
       "      <td>-4</td>\n",
       "      <td>115.0</td>\n",
       "      <td>113.0</td>\n",
       "      <td>104.0</td>\n",
       "      <td>123.0</td>\n",
       "      <td>123.0</td>\n",
       "    </tr>\n",
       "    <tr>\n",
       "      <th>2</th>\n",
       "      <td>POMORSKIE</td>\n",
       "      <td>2020</td>\n",
       "      <td>126</td>\n",
       "      <td>120</td>\n",
       "      <td>110</td>\n",
       "      <td>107</td>\n",
       "      <td>102</td>\n",
       "      <td>124</td>\n",
       "      <td>113</td>\n",
       "      <td>112</td>\n",
       "      <td>...</td>\n",
       "      <td>982</td>\n",
       "      <td>368</td>\n",
       "      <td>-4</td>\n",
       "      <td>350</td>\n",
       "      <td>4</td>\n",
       "      <td>104.0</td>\n",
       "      <td>103.0</td>\n",
       "      <td>102.0</td>\n",
       "      <td>122.0</td>\n",
       "      <td>117.0</td>\n",
       "    </tr>\n",
       "    <tr>\n",
       "      <th>3</th>\n",
       "      <td>KUJAWSKO-POMORSKIE</td>\n",
       "      <td>2020</td>\n",
       "      <td>133</td>\n",
       "      <td>111</td>\n",
       "      <td>104</td>\n",
       "      <td>110</td>\n",
       "      <td>99</td>\n",
       "      <td>114</td>\n",
       "      <td>114</td>\n",
       "      <td>113</td>\n",
       "      <td>...</td>\n",
       "      <td>1080</td>\n",
       "      <td>546</td>\n",
       "      <td>12</td>\n",
       "      <td>410</td>\n",
       "      <td>7</td>\n",
       "      <td>106.0</td>\n",
       "      <td>106.0</td>\n",
       "      <td>101.0</td>\n",
       "      <td>112.0</td>\n",
       "      <td>112.0</td>\n",
       "    </tr>\n",
       "    <tr>\n",
       "      <th>4</th>\n",
       "      <td>ZACHODNIOPOMORSKIE</td>\n",
       "      <td>2020</td>\n",
       "      <td>125</td>\n",
       "      <td>115</td>\n",
       "      <td>91</td>\n",
       "      <td>95</td>\n",
       "      <td>101</td>\n",
       "      <td>124</td>\n",
       "      <td>134</td>\n",
       "      <td>129</td>\n",
       "      <td>...</td>\n",
       "      <td>516</td>\n",
       "      <td>501</td>\n",
       "      <td>36</td>\n",
       "      <td>289</td>\n",
       "      <td>15</td>\n",
       "      <td>102.0</td>\n",
       "      <td>102.0</td>\n",
       "      <td>118.0</td>\n",
       "      <td>123.0</td>\n",
       "      <td>109.0</td>\n",
       "    </tr>\n",
       "  </tbody>\n",
       "</table>\n",
       "<p>5 rows × 26 columns</p>\n",
       "</div>"
      ],
      "text/plain": [
       "          Województwo Data urodzenia  PI-PROD  PI-POKR  Prc  Psm  Pnr   Pw  \\\n",
       "0       WIELKOPOLSKIE           2020      137      127  121  113  106  128   \n",
       "1  KUJAWSKO-POMORSKIE           2018      126      123  109  113  103  128   \n",
       "2           POMORSKIE           2020      126      120  110  107  102  124   \n",
       "3  KUJAWSKO-POMORSKIE           2020      133      111  104  110   99  114   \n",
       "4  ZACHODNIOPOMORSKIE           2020      125      115   91   95  101  124   \n",
       "\n",
       "   PI-PLOD  CRj  ...  kg ml  kg tł  % tł  kg bi  % bi     rc     sm     nr  \\\n",
       "0      109  107  ...   1370    577     2    452     1  115.0  114.0  109.0   \n",
       "1      114  114  ...   1209    358   -16    354    -4  115.0  113.0  104.0   \n",
       "2      113  112  ...    982    368    -4    350     4  104.0  103.0  102.0   \n",
       "3      114  113  ...   1080    546    12    410     7  106.0  106.0  101.0   \n",
       "4      134  129  ...    516    501    36    289    15  102.0  102.0  118.0   \n",
       "\n",
       "       w     og  \n",
       "0  127.0  123.0  \n",
       "1  123.0  123.0  \n",
       "2  122.0  117.0  \n",
       "3  112.0  112.0  \n",
       "4  123.0  109.0  \n",
       "\n",
       "[5 rows x 26 columns]"
      ]
     },
     "execution_count": 3,
     "metadata": {},
     "output_type": "execute_result"
    }
   ],
   "source": [
    "caly_df.head()"
   ]
  },
  {
   "cell_type": "code",
   "execution_count": 4,
   "id": "1db4b939",
   "metadata": {},
   "outputs": [
    {
     "name": "stdout",
     "output_type": "stream",
     "text": [
      "<class 'pandas.core.frame.DataFrame'>\n",
      "Int64Index: 1881 entries, 0 to 188\n",
      "Data columns (total 26 columns):\n",
      " #   Column          Non-Null Count  Dtype   \n",
      "---  ------          --------------  -----   \n",
      " 0   Województwo     1881 non-null   category\n",
      " 1   Data urodzenia  1881 non-null   category\n",
      " 2   PI-PROD         1881 non-null   int64   \n",
      " 3   PI-POKR         1881 non-null   int64   \n",
      " 4   Prc             1881 non-null   int64   \n",
      " 5   Psm             1881 non-null   int64   \n",
      " 6   Pnr             1881 non-null   int64   \n",
      " 7   Pw              1881 non-null   int64   \n",
      " 8   PI-PLOD         1881 non-null   int64   \n",
      " 9   CRj             1881 non-null   int64   \n",
      " 10  CRk             1881 non-null   int64   \n",
      " 11  PP              1881 non-null   int64   \n",
      " 12  OMC             1881 non-null   int64   \n",
      " 13  WH-KSOM         1881 non-null   int64   \n",
      " 14  WH-DLUG         1881 non-null   int64   \n",
      " 15  IP              1881 non-null   int64   \n",
      " 16  kg ml           1881 non-null   int64   \n",
      " 17  kg tł           1881 non-null   int64   \n",
      " 18  % tł            1881 non-null   int64   \n",
      " 19  kg bi           1881 non-null   int64   \n",
      " 20  % bi            1881 non-null   int64   \n",
      " 21  rc              1881 non-null   float64 \n",
      " 22  sm              1881 non-null   float64 \n",
      " 23  nr              1881 non-null   float64 \n",
      " 24  w               1881 non-null   float64 \n",
      " 25  og              1881 non-null   float64 \n",
      "dtypes: category(2), float64(5), int64(19)\n",
      "memory usage: 372.1 KB\n"
     ]
    }
   ],
   "source": [
    "caly_df.info()"
   ]
  },
  {
   "cell_type": "markdown",
   "id": "26512094",
   "metadata": {},
   "source": [
    "## 3. Usuwam mniejszości zmiennych kategorycznych"
   ]
  },
  {
   "cell_type": "code",
   "execution_count": 5,
   "id": "e9e25cdc",
   "metadata": {},
   "outputs": [
    {
     "data": {
      "text/plain": [
       "WIELKOPOLSKIE          579\n",
       "KUJAWSKO-POMORSKIE     298\n",
       "OPOLSKIE               227\n",
       "ZACHODNIOPOMORSKIE     212\n",
       "PODLASKIE              175\n",
       "MAZOWIECKIE            106\n",
       "POMORSKIE               94\n",
       "LUBUSKIE                47\n",
       "ŁÓDZKIE                 41\n",
       "DOLNOŚLĄSKIE            32\n",
       "WARMIŃSKO-MAZURSKIE     23\n",
       "ŚLĄSKIE                 17\n",
       "ŚWIĘTOKRZYSKIE          13\n",
       "MAŁOPOLSKIE             12\n",
       "LUBELSKIE                4\n",
       "PODKARPACKIE             1\n",
       "Name: Województwo, dtype: int64"
      ]
     },
     "execution_count": 5,
     "metadata": {},
     "output_type": "execute_result"
    }
   ],
   "source": [
    "caly_df['Województwo'].value_counts()"
   ]
  },
  {
   "cell_type": "code",
   "execution_count": 6,
   "id": "bab61a85",
   "metadata": {},
   "outputs": [],
   "source": [
    "caly_df=caly_df[caly_df['Województwo']!='PODKARPACKIE']\n",
    "caly_df=caly_df[caly_df['Województwo']!='LUBELSKIE']"
   ]
  },
  {
   "cell_type": "code",
   "execution_count": 7,
   "id": "8facbffe",
   "metadata": {},
   "outputs": [
    {
     "data": {
      "text/plain": [
       "WIELKOPOLSKIE          579\n",
       "KUJAWSKO-POMORSKIE     298\n",
       "OPOLSKIE               227\n",
       "ZACHODNIOPOMORSKIE     212\n",
       "PODLASKIE              175\n",
       "MAZOWIECKIE            106\n",
       "POMORSKIE               94\n",
       "LUBUSKIE                47\n",
       "ŁÓDZKIE                 41\n",
       "DOLNOŚLĄSKIE            32\n",
       "WARMIŃSKO-MAZURSKIE     23\n",
       "ŚLĄSKIE                 17\n",
       "ŚWIĘTOKRZYSKIE          13\n",
       "MAŁOPOLSKIE             12\n",
       "LUBELSKIE                0\n",
       "PODKARPACKIE             0\n",
       "Name: Województwo, dtype: int64"
      ]
     },
     "execution_count": 7,
     "metadata": {},
     "output_type": "execute_result"
    }
   ],
   "source": [
    "caly_df['Województwo'].value_counts()"
   ]
  },
  {
   "cell_type": "code",
   "execution_count": 8,
   "id": "db8d9702",
   "metadata": {},
   "outputs": [
    {
     "data": {
      "text/plain": [
       "2020    1066\n",
       "2019     396\n",
       "2018     275\n",
       "2017      68\n",
       "2021      47\n",
       "2016      23\n",
       "2015       1\n",
       "Name: Data urodzenia, dtype: int64"
      ]
     },
     "execution_count": 8,
     "metadata": {},
     "output_type": "execute_result"
    }
   ],
   "source": [
    "caly_df['Data urodzenia'].value_counts()"
   ]
  },
  {
   "cell_type": "code",
   "execution_count": 9,
   "id": "e3248c61",
   "metadata": {},
   "outputs": [],
   "source": [
    "caly_df=caly_df[caly_df['Data urodzenia']!=2015]"
   ]
  },
  {
   "cell_type": "code",
   "execution_count": 10,
   "id": "3340ad27",
   "metadata": {},
   "outputs": [
    {
     "data": {
      "text/plain": [
       "2020    1066\n",
       "2019     396\n",
       "2018     275\n",
       "2017      68\n",
       "2021      47\n",
       "2016      23\n",
       "2015       0\n",
       "Name: Data urodzenia, dtype: int64"
      ]
     },
     "execution_count": 10,
     "metadata": {},
     "output_type": "execute_result"
    }
   ],
   "source": [
    "caly_df['Data urodzenia'].value_counts()"
   ]
  },
  {
   "cell_type": "code",
   "execution_count": 11,
   "id": "fcb3aef4",
   "metadata": {},
   "outputs": [
    {
     "data": {
      "text/plain": [
       "(1875, 26)"
      ]
     },
     "execution_count": 11,
     "metadata": {},
     "output_type": "execute_result"
    }
   ],
   "source": [
    "caly_df.shape"
   ]
  },
  {
   "cell_type": "markdown",
   "id": "755c159c",
   "metadata": {},
   "source": [
    "## 4. Zakodowuje zmienne kategoryczne"
   ]
  },
  {
   "cell_type": "code",
   "execution_count": 12,
   "id": "c1643a60",
   "metadata": {},
   "outputs": [],
   "source": [
    "a=pd.get_dummies(caly_df['Województwo'])\n",
    "b=pd.get_dummies(caly_df['Data urodzenia'])\n",
    "caly_df= pd.concat([caly_df,a,b], axis=1)\n",
    "del caly_df['Województwo']\n",
    "del caly_df['Data urodzenia']"
   ]
  },
  {
   "cell_type": "markdown",
   "id": "f756e767",
   "metadata": {},
   "source": [
    "## 5. Klasyfikuje wartosci IE"
   ]
  },
  {
   "cell_type": "code",
   "execution_count": 13,
   "id": "513abdeb",
   "metadata": {},
   "outputs": [
    {
     "data": {
      "text/plain": [
       "(array([  2.,   0.,   2.,   9.,  11.,  12.,  29.,  25.,  22.,  71., 121.,\n",
       "         61., 166., 174., 106., 234., 190.,  98., 148., 122.,  53.,  78.,\n",
       "         58.,  20.,  33.,  13.,   9.,   5.,   1.,   2.]),\n",
       " array([ 82.        ,  83.66666667,  85.33333333,  87.        ,\n",
       "         88.66666667,  90.33333333,  92.        ,  93.66666667,\n",
       "         95.33333333,  97.        ,  98.66666667, 100.33333333,\n",
       "        102.        , 103.66666667, 105.33333333, 107.        ,\n",
       "        108.66666667, 110.33333333, 112.        , 113.66666667,\n",
       "        115.33333333, 117.        , 118.66666667, 120.33333333,\n",
       "        122.        , 123.66666667, 125.33333333, 127.        ,\n",
       "        128.66666667, 130.33333333, 132.        ]),\n",
       " <BarContainer object of 30 artists>)"
      ]
     },
     "execution_count": 13,
     "metadata": {},
     "output_type": "execute_result"
    },
    {
     "data": {
      "image/png": "[encoded data removed]",
      "text/plain": [
       "<Figure size 432x288 with 1 Axes>"
      ]
     },
     "metadata": {
      "needs_background": "light"
     },
     "output_type": "display_data"
    }
   ],
   "source": [
    "plt.hist(caly_df[\"OMC\"],bins=30)"
   ]
  },
  {
   "cell_type": "code",
   "execution_count": 14,
   "id": "f618a743",
   "metadata": {},
   "outputs": [
    {
     "data": {
      "text/plain": [
       "count    1875.000000\n",
       "mean      107.665067\n",
       "std         7.413236\n",
       "min        82.000000\n",
       "25%       103.000000\n",
       "50%       107.000000\n",
       "75%       112.000000\n",
       "max       132.000000\n",
       "Name: OMC, dtype: float64"
      ]
     },
     "execution_count": 14,
     "metadata": {},
     "output_type": "execute_result"
    }
   ],
   "source": [
    "caly_df[\"OMC\"].describe()"
   ]
  },
  {
   "cell_type": "code",
   "execution_count": 15,
   "id": "0761d130",
   "metadata": {},
   "outputs": [],
   "source": [
    "caly_df.loc[(caly_df[\"OMC\"]<=103), \"Klasa\"] = \"Małe\"\n",
    "caly_df.loc[(103<caly_df[\"OMC\"]) & (caly_df[\"OMC\"]<=107), \"Klasa\"] = \"Średnie\"\n",
    "caly_df.loc[(107<caly_df[\"OMC\"]) & (caly_df[\"OMC\"]<=112), \"Klasa\"] = \"Wysokie\"\n",
    "caly_df.loc[caly_df[\"OMC\"]>112, \"Klasa\"] = \"Ekstrimum\""
   ]
  },
  {
   "cell_type": "code",
   "execution_count": 16,
   "id": "910d75b3",
   "metadata": {},
   "outputs": [
    {
     "data": {
      "text/plain": [
       "(array([415.,   0.,   0., 531.,   0.,   0., 465.,   0.,   0., 464.]),\n",
       " array([0. , 0.3, 0.6, 0.9, 1.2, 1.5, 1.8, 2.1, 2.4, 2.7, 3. ]),\n",
       " <BarContainer object of 10 artists>)"
      ]
     },
     "execution_count": 16,
     "metadata": {},
     "output_type": "execute_result"
    },
    {
     "data": {
      "image/png": "[encoded data removed]",
      "text/plain": [
       "<Figure size 432x288 with 1 Axes>"
      ]
     },
     "metadata": {
      "needs_background": "light"
     },
     "output_type": "display_data"
    }
   ],
   "source": [
    "plt.hist(caly_df[\"Klasa\"])"
   ]
  },
  {
   "cell_type": "code",
   "execution_count": 17,
   "id": "958a64f5",
   "metadata": {},
   "outputs": [
    {
     "data": {
      "text/plain": [
       "Małe         531\n",
       "Ekstrimum    465\n",
       "Wysokie      464\n",
       "Średnie      415\n",
       "Name: Klasa, dtype: int64"
      ]
     },
     "execution_count": 17,
     "metadata": {},
     "output_type": "execute_result"
    }
   ],
   "source": [
    "caly_df[\"Klasa\"].value_counts()"
   ]
  },
  {
   "cell_type": "code",
   "execution_count": 18,
   "id": "268437e4",
   "metadata": {
    "scrolled": true
   },
   "outputs": [
    {
     "data": {
      "text/plain": [
       "['PI-PROD',\n",
       " 'PI-POKR',\n",
       " 'Prc',\n",
       " 'Psm',\n",
       " 'Pnr',\n",
       " 'Pw',\n",
       " 'PI-PLOD',\n",
       " 'CRj',\n",
       " 'CRk',\n",
       " 'PP',\n",
       " 'OMC',\n",
       " 'WH-KSOM',\n",
       " 'WH-DLUG',\n",
       " 'IP',\n",
       " 'kg ml',\n",
       " 'kg tł',\n",
       " '% tł',\n",
       " 'kg bi',\n",
       " '% bi',\n",
       " 'rc',\n",
       " 'sm',\n",
       " 'nr',\n",
       " 'w',\n",
       " 'og',\n",
       " 'DOLNOŚLĄSKIE',\n",
       " 'KUJAWSKO-POMORSKIE',\n",
       " 'LUBELSKIE',\n",
       " 'LUBUSKIE',\n",
       " 'MAZOWIECKIE',\n",
       " 'MAŁOPOLSKIE',\n",
       " 'OPOLSKIE',\n",
       " 'PODKARPACKIE',\n",
       " 'PODLASKIE',\n",
       " 'POMORSKIE',\n",
       " 'WARMIŃSKO-MAZURSKIE',\n",
       " 'WIELKOPOLSKIE',\n",
       " 'ZACHODNIOPOMORSKIE',\n",
       " 'ŁÓDZKIE',\n",
       " 'ŚLĄSKIE',\n",
       " 'ŚWIĘTOKRZYSKIE',\n",
       " 2015,\n",
       " 2016,\n",
       " 2017,\n",
       " 2018,\n",
       " 2019,\n",
       " 2020,\n",
       " 2021,\n",
       " 'Klasa']"
      ]
     },
     "execution_count": 18,
     "metadata": {},
     "output_type": "execute_result"
    }
   ],
   "source": [
    "list(caly_df)"
   ]
  },
  {
   "cell_type": "code",
   "execution_count": 19,
   "id": "33410b6b",
   "metadata": {},
   "outputs": [],
   "source": [
    "train_df, test_df = train_test_split(caly_df, test_size=0.2, random_state=42,stratify=caly_df['Klasa'])\n",
    "#test_df, val_df = train_test_split(test_df, test_size=0.5, random_state=42,stratify=test_df['Klasa'])\n",
    "\n",
    "del train_df['Klasa']\n",
    "del test_df['Klasa']\n",
    "#del val_df['Klasa']\n",
    "\n",
    "\n",
    "train_label=train_df['OMC']\n",
    "test_label=test_df['OMC']\n",
    "#val_label=val_df['IE']\n",
    "\n",
    "del train_df['OMC']\n",
    "del test_df['OMC']\n",
    "#del val_df['IE']\n"
   ]
  },
  {
   "cell_type": "code",
   "execution_count": 20,
   "id": "9cb06bd8",
   "metadata": {
    "scrolled": true
   },
   "outputs": [
    {
     "data": {
      "text/plain": [
       "['PI-PROD',\n",
       " 'PI-POKR',\n",
       " 'Prc',\n",
       " 'Psm',\n",
       " 'Pnr',\n",
       " 'Pw',\n",
       " 'PI-PLOD',\n",
       " 'CRj',\n",
       " 'CRk',\n",
       " 'PP',\n",
       " 'WH-KSOM',\n",
       " 'WH-DLUG',\n",
       " 'IP',\n",
       " 'kg ml',\n",
       " 'kg tł',\n",
       " '% tł',\n",
       " 'kg bi',\n",
       " '% bi',\n",
       " 'rc',\n",
       " 'sm',\n",
       " 'nr',\n",
       " 'w',\n",
       " 'og',\n",
       " 'DOLNOŚLĄSKIE',\n",
       " 'KUJAWSKO-POMORSKIE',\n",
       " 'LUBELSKIE',\n",
       " 'LUBUSKIE',\n",
       " 'MAZOWIECKIE',\n",
       " 'MAŁOPOLSKIE',\n",
       " 'OPOLSKIE',\n",
       " 'PODKARPACKIE',\n",
       " 'PODLASKIE',\n",
       " 'POMORSKIE',\n",
       " 'WARMIŃSKO-MAZURSKIE',\n",
       " 'WIELKOPOLSKIE',\n",
       " 'ZACHODNIOPOMORSKIE',\n",
       " 'ŁÓDZKIE',\n",
       " 'ŚLĄSKIE',\n",
       " 'ŚWIĘTOKRZYSKIE',\n",
       " 2015,\n",
       " 2016,\n",
       " 2017,\n",
       " 2018,\n",
       " 2019,\n",
       " 2020,\n",
       " 2021]"
      ]
     },
     "execution_count": 20,
     "metadata": {},
     "output_type": "execute_result"
    }
   ],
   "source": [
    "list(train_df)"
   ]
  },
  {
   "cell_type": "code",
   "execution_count": 21,
   "id": "8ef6a0b1",
   "metadata": {},
   "outputs": [
    {
     "data": {
      "text/plain": [
       "46"
      ]
     },
     "execution_count": 21,
     "metadata": {},
     "output_type": "execute_result"
    }
   ],
   "source": [
    "len(list(train_df))"
   ]
  },
  {
   "cell_type": "markdown",
   "id": "knowing-precipitation",
   "metadata": {},
   "source": [
    "## 1.2 Standaryzacja"
   ]
  },
  {
   "cell_type": "code",
   "execution_count": 22,
   "id": "4bd3a3fe",
   "metadata": {},
   "outputs": [
    {
     "data": {
      "text/html": [
       "<div>\n",
       "<style scoped>\n",
       "    .dataframe tbody tr th:only-of-type {\n",
       "        vertical-align: middle;\n",
       "    }\n",
       "\n",
       "    .dataframe tbody tr th {\n",
       "        vertical-align: top;\n",
       "    }\n",
       "\n",
       "    .dataframe thead th {\n",
       "        text-align: right;\n",
       "    }\n",
       "</style>\n",
       "<table border=\"1\" class=\"dataframe\">\n",
       "  <thead>\n",
       "    <tr style=\"text-align: right;\">\n",
       "      <th></th>\n",
       "      <th>PI-PROD</th>\n",
       "      <th>PI-POKR</th>\n",
       "      <th>Prc</th>\n",
       "      <th>Psm</th>\n",
       "      <th>Pnr</th>\n",
       "      <th>Pw</th>\n",
       "      <th>PI-PLOD</th>\n",
       "      <th>CRj</th>\n",
       "      <th>CRk</th>\n",
       "      <th>PP</th>\n",
       "      <th>...</th>\n",
       "      <th>kg ml</th>\n",
       "      <th>kg tł</th>\n",
       "      <th>% tł</th>\n",
       "      <th>kg bi</th>\n",
       "      <th>% bi</th>\n",
       "      <th>rc</th>\n",
       "      <th>sm</th>\n",
       "      <th>nr</th>\n",
       "      <th>w</th>\n",
       "      <th>og</th>\n",
       "    </tr>\n",
       "  </thead>\n",
       "  <tbody>\n",
       "    <tr>\n",
       "      <th>1119</th>\n",
       "      <td>133</td>\n",
       "      <td>115</td>\n",
       "      <td>105</td>\n",
       "      <td>107</td>\n",
       "      <td>111</td>\n",
       "      <td>113</td>\n",
       "      <td>104</td>\n",
       "      <td>105</td>\n",
       "      <td>103</td>\n",
       "      <td>96</td>\n",
       "      <td>...</td>\n",
       "      <td>1325</td>\n",
       "      <td>474</td>\n",
       "      <td>-8</td>\n",
       "      <td>429</td>\n",
       "      <td>0</td>\n",
       "      <td>107.0</td>\n",
       "      <td>109.0</td>\n",
       "      <td>117.0</td>\n",
       "      <td>111.0</td>\n",
       "      <td>114.0</td>\n",
       "    </tr>\n",
       "    <tr>\n",
       "      <th>1093</th>\n",
       "      <td>125</td>\n",
       "      <td>117</td>\n",
       "      <td>115</td>\n",
       "      <td>104</td>\n",
       "      <td>98</td>\n",
       "      <td>123</td>\n",
       "      <td>120</td>\n",
       "      <td>118</td>\n",
       "      <td>120</td>\n",
       "      <td>99</td>\n",
       "      <td>...</td>\n",
       "      <td>478</td>\n",
       "      <td>523</td>\n",
       "      <td>41</td>\n",
       "      <td>288</td>\n",
       "      <td>16</td>\n",
       "      <td>106.0</td>\n",
       "      <td>101.0</td>\n",
       "      <td>106.0</td>\n",
       "      <td>120.0</td>\n",
       "      <td>111.0</td>\n",
       "    </tr>\n",
       "    <tr>\n",
       "      <th>613</th>\n",
       "      <td>123</td>\n",
       "      <td>119</td>\n",
       "      <td>101</td>\n",
       "      <td>108</td>\n",
       "      <td>103</td>\n",
       "      <td>124</td>\n",
       "      <td>116</td>\n",
       "      <td>114</td>\n",
       "      <td>116</td>\n",
       "      <td>102</td>\n",
       "      <td>...</td>\n",
       "      <td>1091</td>\n",
       "      <td>418</td>\n",
       "      <td>-3</td>\n",
       "      <td>287</td>\n",
       "      <td>-8</td>\n",
       "      <td>107.0</td>\n",
       "      <td>107.0</td>\n",
       "      <td>112.0</td>\n",
       "      <td>125.0</td>\n",
       "      <td>118.0</td>\n",
       "    </tr>\n",
       "    <tr>\n",
       "      <th>3</th>\n",
       "      <td>131</td>\n",
       "      <td>113</td>\n",
       "      <td>98</td>\n",
       "      <td>100</td>\n",
       "      <td>103</td>\n",
       "      <td>117</td>\n",
       "      <td>115</td>\n",
       "      <td>113</td>\n",
       "      <td>116</td>\n",
       "      <td>102</td>\n",
       "      <td>...</td>\n",
       "      <td>902</td>\n",
       "      <td>516</td>\n",
       "      <td>17</td>\n",
       "      <td>378</td>\n",
       "      <td>10</td>\n",
       "      <td>105.0</td>\n",
       "      <td>103.0</td>\n",
       "      <td>110.0</td>\n",
       "      <td>118.0</td>\n",
       "      <td>109.0</td>\n",
       "    </tr>\n",
       "    <tr>\n",
       "      <th>816</th>\n",
       "      <td>121</td>\n",
       "      <td>112</td>\n",
       "      <td>105</td>\n",
       "      <td>94</td>\n",
       "      <td>103</td>\n",
       "      <td>116</td>\n",
       "      <td>120</td>\n",
       "      <td>117</td>\n",
       "      <td>122</td>\n",
       "      <td>99</td>\n",
       "      <td>...</td>\n",
       "      <td>1040</td>\n",
       "      <td>379</td>\n",
       "      <td>-5</td>\n",
       "      <td>270</td>\n",
       "      <td>-8</td>\n",
       "      <td>90.0</td>\n",
       "      <td>93.0</td>\n",
       "      <td>100.0</td>\n",
       "      <td>117.0</td>\n",
       "      <td>107.0</td>\n",
       "    </tr>\n",
       "    <tr>\n",
       "      <th>...</th>\n",
       "      <td>...</td>\n",
       "      <td>...</td>\n",
       "      <td>...</td>\n",
       "      <td>...</td>\n",
       "      <td>...</td>\n",
       "      <td>...</td>\n",
       "      <td>...</td>\n",
       "      <td>...</td>\n",
       "      <td>...</td>\n",
       "      <td>...</td>\n",
       "      <td>...</td>\n",
       "      <td>...</td>\n",
       "      <td>...</td>\n",
       "      <td>...</td>\n",
       "      <td>...</td>\n",
       "      <td>...</td>\n",
       "      <td>...</td>\n",
       "      <td>...</td>\n",
       "      <td>...</td>\n",
       "      <td>...</td>\n",
       "      <td>...</td>\n",
       "    </tr>\n",
       "    <tr>\n",
       "      <th>110</th>\n",
       "      <td>129</td>\n",
       "      <td>113</td>\n",
       "      <td>90</td>\n",
       "      <td>100</td>\n",
       "      <td>100</td>\n",
       "      <td>121</td>\n",
       "      <td>120</td>\n",
       "      <td>116</td>\n",
       "      <td>121</td>\n",
       "      <td>105</td>\n",
       "      <td>...</td>\n",
       "      <td>843</td>\n",
       "      <td>602</td>\n",
       "      <td>30</td>\n",
       "      <td>316</td>\n",
       "      <td>5</td>\n",
       "      <td>101.0</td>\n",
       "      <td>100.0</td>\n",
       "      <td>114.0</td>\n",
       "      <td>121.0</td>\n",
       "      <td>111.0</td>\n",
       "    </tr>\n",
       "    <tr>\n",
       "      <th>608</th>\n",
       "      <td>126</td>\n",
       "      <td>118</td>\n",
       "      <td>108</td>\n",
       "      <td>108</td>\n",
       "      <td>110</td>\n",
       "      <td>116</td>\n",
       "      <td>113</td>\n",
       "      <td>107</td>\n",
       "      <td>113</td>\n",
       "      <td>117</td>\n",
       "      <td>...</td>\n",
       "      <td>783</td>\n",
       "      <td>374</td>\n",
       "      <td>6</td>\n",
       "      <td>348</td>\n",
       "      <td>11</td>\n",
       "      <td>108.0</td>\n",
       "      <td>107.0</td>\n",
       "      <td>117.0</td>\n",
       "      <td>115.0</td>\n",
       "      <td>113.0</td>\n",
       "    </tr>\n",
       "    <tr>\n",
       "      <th>273</th>\n",
       "      <td>125</td>\n",
       "      <td>111</td>\n",
       "      <td>96</td>\n",
       "      <td>108</td>\n",
       "      <td>107</td>\n",
       "      <td>111</td>\n",
       "      <td>109</td>\n",
       "      <td>108</td>\n",
       "      <td>107</td>\n",
       "      <td>104</td>\n",
       "      <td>...</td>\n",
       "      <td>983</td>\n",
       "      <td>398</td>\n",
       "      <td>0</td>\n",
       "      <td>321</td>\n",
       "      <td>0</td>\n",
       "      <td>107.0</td>\n",
       "      <td>106.0</td>\n",
       "      <td>116.0</td>\n",
       "      <td>115.0</td>\n",
       "      <td>111.0</td>\n",
       "    </tr>\n",
       "    <tr>\n",
       "      <th>1478</th>\n",
       "      <td>128</td>\n",
       "      <td>109</td>\n",
       "      <td>108</td>\n",
       "      <td>111</td>\n",
       "      <td>104</td>\n",
       "      <td>106</td>\n",
       "      <td>115</td>\n",
       "      <td>114</td>\n",
       "      <td>119</td>\n",
       "      <td>93</td>\n",
       "      <td>...</td>\n",
       "      <td>888</td>\n",
       "      <td>491</td>\n",
       "      <td>15</td>\n",
       "      <td>339</td>\n",
       "      <td>6</td>\n",
       "      <td>108.0</td>\n",
       "      <td>108.0</td>\n",
       "      <td>105.0</td>\n",
       "      <td>108.0</td>\n",
       "      <td>111.0</td>\n",
       "    </tr>\n",
       "    <tr>\n",
       "      <th>1250</th>\n",
       "      <td>126</td>\n",
       "      <td>109</td>\n",
       "      <td>88</td>\n",
       "      <td>98</td>\n",
       "      <td>102</td>\n",
       "      <td>114</td>\n",
       "      <td>111</td>\n",
       "      <td>111</td>\n",
       "      <td>111</td>\n",
       "      <td>99</td>\n",
       "      <td>...</td>\n",
       "      <td>1369</td>\n",
       "      <td>314</td>\n",
       "      <td>-28</td>\n",
       "      <td>380</td>\n",
       "      <td>-7</td>\n",
       "      <td>99.0</td>\n",
       "      <td>98.0</td>\n",
       "      <td>113.0</td>\n",
       "      <td>115.0</td>\n",
       "      <td>105.0</td>\n",
       "    </tr>\n",
       "  </tbody>\n",
       "</table>\n",
       "<p>1500 rows × 23 columns</p>\n",
       "</div>"
      ],
      "text/plain": [
       "      PI-PROD  PI-POKR  Prc  Psm  Pnr   Pw  PI-PLOD  CRj  CRk   PP  ...  \\\n",
       "1119      133      115  105  107  111  113      104  105  103   96  ...   \n",
       "1093      125      117  115  104   98  123      120  118  120   99  ...   \n",
       "613       123      119  101  108  103  124      116  114  116  102  ...   \n",
       "3         131      113   98  100  103  117      115  113  116  102  ...   \n",
       "816       121      112  105   94  103  116      120  117  122   99  ...   \n",
       "...       ...      ...  ...  ...  ...  ...      ...  ...  ...  ...  ...   \n",
       "110       129      113   90  100  100  121      120  116  121  105  ...   \n",
       "608       126      118  108  108  110  116      113  107  113  117  ...   \n",
       "273       125      111   96  108  107  111      109  108  107  104  ...   \n",
       "1478      128      109  108  111  104  106      115  114  119   93  ...   \n",
       "1250      126      109   88   98  102  114      111  111  111   99  ...   \n",
       "\n",
       "      kg ml  kg tł  % tł  kg bi  % bi     rc     sm     nr      w     og  \n",
       "1119   1325    474    -8    429     0  107.0  109.0  117.0  111.0  114.0  \n",
       "1093    478    523    41    288    16  106.0  101.0  106.0  120.0  111.0  \n",
       "613    1091    418    -3    287    -8  107.0  107.0  112.0  125.0  118.0  \n",
       "3       902    516    17    378    10  105.0  103.0  110.0  118.0  109.0  \n",
       "816    1040    379    -5    270    -8   90.0   93.0  100.0  117.0  107.0  \n",
       "...     ...    ...   ...    ...   ...    ...    ...    ...    ...    ...  \n",
       "110     843    602    30    316     5  101.0  100.0  114.0  121.0  111.0  \n",
       "608     783    374     6    348    11  108.0  107.0  117.0  115.0  113.0  \n",
       "273     983    398     0    321     0  107.0  106.0  116.0  115.0  111.0  \n",
       "1478    888    491    15    339     6  108.0  108.0  105.0  108.0  111.0  \n",
       "1250   1369    314   -28    380    -7   99.0   98.0  113.0  115.0  105.0  \n",
       "\n",
       "[1500 rows x 23 columns]"
      ]
     },
     "execution_count": 22,
     "metadata": {},
     "output_type": "execute_result"
    }
   ],
   "source": [
    "train_df.iloc[:,:23]"
   ]
  },
  {
   "cell_type": "code",
   "execution_count": 23,
   "id": "indonesian-majority",
   "metadata": {},
   "outputs": [],
   "source": [
    "scaler = StandardScaler()\n",
    "train_df.iloc[:,:23]=scaler.fit_transform(train_df.iloc[:,:23])\n",
    "test_df.iloc[:,:23]=scaler.fit_transform(test_df.iloc[:,:23])\n",
    "#val_df.iloc[:,14:]=scaler.fit_transform(val_df.iloc[:,14:])"
   ]
  },
  {
   "cell_type": "code",
   "execution_count": 24,
   "id": "dcc66d81",
   "metadata": {},
   "outputs": [
    {
     "data": {
      "text/html": [
       "<div>\n",
       "<style scoped>\n",
       "    .dataframe tbody tr th:only-of-type {\n",
       "        vertical-align: middle;\n",
       "    }\n",
       "\n",
       "    .dataframe tbody tr th {\n",
       "        vertical-align: top;\n",
       "    }\n",
       "\n",
       "    .dataframe thead th {\n",
       "        text-align: right;\n",
       "    }\n",
       "</style>\n",
       "<table border=\"1\" class=\"dataframe\">\n",
       "  <thead>\n",
       "    <tr style=\"text-align: right;\">\n",
       "      <th></th>\n",
       "      <th>nr</th>\n",
       "      <th>w</th>\n",
       "      <th>og</th>\n",
       "    </tr>\n",
       "  </thead>\n",
       "  <tbody>\n",
       "    <tr>\n",
       "      <th>1119</th>\n",
       "      <td>0.680709</td>\n",
       "      <td>-1.138843</td>\n",
       "      <td>-0.140075</td>\n",
       "    </tr>\n",
       "    <tr>\n",
       "      <th>1093</th>\n",
       "      <td>-0.819652</td>\n",
       "      <td>0.104636</td>\n",
       "      <td>-0.584915</td>\n",
       "    </tr>\n",
       "    <tr>\n",
       "      <th>613</th>\n",
       "      <td>-0.001273</td>\n",
       "      <td>0.795458</td>\n",
       "      <td>0.453044</td>\n",
       "    </tr>\n",
       "    <tr>\n",
       "      <th>3</th>\n",
       "      <td>-0.274066</td>\n",
       "      <td>-0.171692</td>\n",
       "      <td>-0.881474</td>\n",
       "    </tr>\n",
       "    <tr>\n",
       "      <th>816</th>\n",
       "      <td>-1.638030</td>\n",
       "      <td>-0.309857</td>\n",
       "      <td>-1.178034</td>\n",
       "    </tr>\n",
       "    <tr>\n",
       "      <th>...</th>\n",
       "      <td>...</td>\n",
       "      <td>...</td>\n",
       "      <td>...</td>\n",
       "    </tr>\n",
       "    <tr>\n",
       "      <th>110</th>\n",
       "      <td>0.271520</td>\n",
       "      <td>0.242801</td>\n",
       "      <td>-0.584915</td>\n",
       "    </tr>\n",
       "    <tr>\n",
       "      <th>608</th>\n",
       "      <td>0.680709</td>\n",
       "      <td>-0.586185</td>\n",
       "      <td>-0.288355</td>\n",
       "    </tr>\n",
       "    <tr>\n",
       "      <th>273</th>\n",
       "      <td>0.544313</td>\n",
       "      <td>-0.586185</td>\n",
       "      <td>-0.584915</td>\n",
       "    </tr>\n",
       "    <tr>\n",
       "      <th>1478</th>\n",
       "      <td>-0.956048</td>\n",
       "      <td>-1.553336</td>\n",
       "      <td>-0.584915</td>\n",
       "    </tr>\n",
       "    <tr>\n",
       "      <th>1250</th>\n",
       "      <td>0.135123</td>\n",
       "      <td>-0.586185</td>\n",
       "      <td>-1.474594</td>\n",
       "    </tr>\n",
       "  </tbody>\n",
       "</table>\n",
       "<p>1500 rows × 3 columns</p>\n",
       "</div>"
      ],
      "text/plain": [
       "            nr         w        og\n",
       "1119  0.680709 -1.138843 -0.140075\n",
       "1093 -0.819652  0.104636 -0.584915\n",
       "613  -0.001273  0.795458  0.453044\n",
       "3    -0.274066 -0.171692 -0.881474\n",
       "816  -1.638030 -0.309857 -1.178034\n",
       "...        ...       ...       ...\n",
       "110   0.271520  0.242801 -0.584915\n",
       "608   0.680709 -0.586185 -0.288355\n",
       "273   0.544313 -0.586185 -0.584915\n",
       "1478 -0.956048 -1.553336 -0.584915\n",
       "1250  0.135123 -0.586185 -1.474594\n",
       "\n",
       "[1500 rows x 3 columns]"
      ]
     },
     "execution_count": 24,
     "metadata": {},
     "output_type": "execute_result"
    }
   ],
   "source": [
    "train_df.iloc[:,20:23]"
   ]
  },
  {
   "cell_type": "code",
   "execution_count": 25,
   "id": "humanitarian-sperm",
   "metadata": {},
   "outputs": [
    {
     "data": {
      "text/plain": [
       "(1500, 46)"
      ]
     },
     "execution_count": 25,
     "metadata": {},
     "output_type": "execute_result"
    }
   ],
   "source": [
    "train_df.shape"
   ]
  },
  {
   "cell_type": "code",
   "execution_count": 26,
   "id": "83dd9a2b",
   "metadata": {},
   "outputs": [
    {
     "data": {
      "text/plain": [
       "(375, 46)"
      ]
     },
     "execution_count": 26,
     "metadata": {},
     "output_type": "execute_result"
    }
   ],
   "source": [
    "test_df.shape"
   ]
  },
  {
   "cell_type": "code",
   "execution_count": 27,
   "id": "d360ef87",
   "metadata": {},
   "outputs": [],
   "source": [
    "train_df = np.array(train_df)\n",
    "test_df = np.array(test_df)"
   ]
  },
  {
   "cell_type": "code",
   "execution_count": 28,
   "id": "e8ff5748",
   "metadata": {},
   "outputs": [
    {
     "data": {
      "text/plain": [
       "array([[ 0.93447873, -0.3516274 , -0.26760885, ...,  1.        ,\n",
       "         0.        ,  0.        ],\n",
       "       [-0.31999546, -0.07017537,  0.99231982, ...,  1.        ,\n",
       "         0.        ,  0.        ],\n",
       "       [-0.63361401,  0.21127666, -0.77158032, ...,  0.        ,\n",
       "         1.        ,  0.        ],\n",
       "       ...,\n",
       "       [-0.31999546, -0.91453145, -1.40154465, ...,  0.        ,\n",
       "         0.        ,  0.        ],\n",
       "       [ 0.15043236, -1.19598348,  0.11036975, ...,  1.        ,\n",
       "         0.        ,  0.        ],\n",
       "       [-0.16318618, -1.19598348, -2.40948759, ...,  0.        ,\n",
       "         1.        ,  0.        ]])"
      ]
     },
     "execution_count": 28,
     "metadata": {},
     "output_type": "execute_result"
    }
   ],
   "source": [
    "train_df"
   ]
  },
  {
   "cell_type": "code",
   "execution_count": 29,
   "id": "b312464b",
   "metadata": {},
   "outputs": [],
   "source": [
    "train_label = np.array(train_label)\n",
    "test_label = np.array(test_label)"
   ]
  },
  {
   "cell_type": "code",
   "execution_count": 30,
   "id": "b23fc815",
   "metadata": {
    "scrolled": true
   },
   "outputs": [
    {
     "data": {
      "text/plain": [
       "array([ 97, 104, 103, ..., 104, 101, 102], dtype=int64)"
      ]
     },
     "execution_count": 30,
     "metadata": {},
     "output_type": "execute_result"
    }
   ],
   "source": [
    "train_label"
   ]
  },
  {
   "cell_type": "code",
   "execution_count": 31,
   "id": "perfect-atlas",
   "metadata": {},
   "outputs": [],
   "source": [
    "METRICS=['mae']"
   ]
  },
  {
   "cell_type": "markdown",
   "id": "twelve-proportion",
   "metadata": {},
   "source": [
    "# 2 Moduł TALOS"
   ]
  },
  {
   "cell_type": "markdown",
   "id": "55fbc6dd",
   "metadata": {},
   "source": [
    "Zamiast dobierać wszystkie hiperparametry na nowo, sprawdzę czy siec preferuje inne w waskim zakresie"
   ]
  },
  {
   "cell_type": "markdown",
   "id": "powered-stick",
   "metadata": {},
   "source": [
    "## 2.1 Słownik parametrów do wypróbowania"
   ]
  },
  {
   "cell_type": "code",
   "execution_count": 40,
   "id": "experimental-ladder",
   "metadata": {},
   "outputs": [],
   "source": [
    "p = {'first_neuron':[40,80,160], #\n",
    "     'hidden_neuron':[25,50,100],#\n",
    "     'hidden_layers':[1],  #1 must\n",
    "     'batch_size': [64], # 64\n",
    "     'optimizer': ['adam'],# do zrobienia potem\n",
    "     'kernel_initializer': ['ones'], # ones \n",
    "     'epochs': [20000], # never touch it\n",
    "     'dropout': [0],  # po dopasowaniu znowu nie bedzie potrzebne\n",
    "     'activation_layer':['selu'], # selu\n",
    "     'batc_normalization':[False], # do zrobienia potem\n",
    "     'last_activation': ['linear']} #never touch it\n",
    "#     'optimizer': ['rmsprop','adam','adadelta','adamax','nadam','adagrad'],\n",
    "#     \n",
    "#    "
   ]
  },
  {
   "cell_type": "markdown",
   "id": "fitting-thanksgiving",
   "metadata": {},
   "source": [
    "## 2.2 Tworzę funkcję do tworzenia instancji modelu keras"
   ]
  },
  {
   "cell_type": "code",
   "execution_count": 41,
   "id": "rapid-humanity",
   "metadata": {},
   "outputs": [],
   "source": [
    "def numerai_model(x_train, y_train, x_val, y_val, params):\n",
    "    print(params)\n",
    "\n",
    "    model = Sequential()\n",
    "    \n",
    "    ## initial layer\n",
    "    model.add(Dense(params['first_neuron'], input_dim=x_train.shape[1],\n",
    "                    activation='relu',\n",
    "                    kernel_initializer = params['kernel_initializer'] ))\n",
    "    if params['batc_normalization']==True:\n",
    "        model.add(BatchNormalization())\n",
    "    model.add(Dropout(params['dropout']))\n",
    "    \n",
    "    ## hidden layers\n",
    "    for i in range(params['hidden_layers']):\n",
    "        print (f\"adding layer {i+1}\")\n",
    "        model.add(Dense(params['hidden_neuron'], activation='relu',\n",
    "                    kernel_initializer=params['kernel_initializer']))\n",
    "        if params['batc_normalization']==True:\n",
    "            model.add(BatchNormalization())\n",
    "        model.add(Dropout(params['dropout']))\n",
    "    \n",
    "    \n",
    "    ## final layer\n",
    "    model.add(Dense(1, activation=params['last_activation'],\n",
    "                    kernel_initializer=params['kernel_initializer']))\n",
    "    \n",
    "    model.compile(loss='mean_absolute_error', \n",
    "                  optimizer=params['optimizer'])\n",
    "    \n",
    "    history = model.fit(x_train, y_train, \n",
    "                        validation_data=[x_val, y_val],\n",
    "                        batch_size=params['batch_size'],\n",
    "                        epochs=params['epochs'],\n",
    "                        callbacks = [early_stopper(params['epochs'], patience=5,monitor='val_loss')] #,ta.live(),\n",
    "                        )\n",
    "\n",
    "    return history, model"
   ]
  },
  {
   "cell_type": "markdown",
   "id": "desirable-married",
   "metadata": {},
   "source": [
    "## 2.3 Przeprowadzam skan, używając parametrów i funkcji wyżej\n"
   ]
  },
  {
   "cell_type": "code",
   "execution_count": null,
   "id": "muslim-picnic",
   "metadata": {
    "scrolled": true
   },
   "outputs": [],
   "source": [
    "t = ta.Scan(x=train_df, y=train_label,\n",
    "            x_val=test_df, y_val=test_label,\n",
    "            model=numerai_model,\n",
    "            params=p,\n",
    "            experiment_name='Predykcja OMC')"
   ]
  },
  {
   "cell_type": "markdown",
   "id": "infrared-material",
   "metadata": {},
   "source": [
    "# 3. Wczytuje wyniki"
   ]
  },
  {
   "cell_type": "code",
   "execution_count": 2,
   "id": "buried-korean",
   "metadata": {},
   "outputs": [],
   "source": [
    "df = pd.read_csv('D:/STUDIA/ROK_II/Projekt/Okres Między Ciążowy/Sieci neuro/Zestaw jalowka + krowa/Predykcja OMC/052121155759.csv')"
   ]
  },
  {
   "cell_type": "markdown",
   "id": "alien-ultimate",
   "metadata": {},
   "source": [
    "## 3.1 Wyliczam ilość neuronów i połączeń"
   ]
  },
  {
   "cell_type": "code",
   "execution_count": 44,
   "id": "advance-producer",
   "metadata": {},
   "outputs": [
    {
     "name": "stdout",
     "output_type": "stream",
     "text": [
      "   round_epochs      loss  val_loss activation_layer  batc_normalization  \\\n",
      "6          7486  1.125173  1.143319             selu               False   \n",
      "3          4886  1.165362  1.163945             selu               False   \n",
      "7          6071  1.189359  1.170052             selu               False   \n",
      "2          4071  1.142596  1.180995             selu               False   \n",
      "0          3223  1.127859  1.217863             selu               False   \n",
      "\n",
      "   batch_size  dropout  epochs  first_neuron  hidden_layers  hidden_neuron  \\\n",
      "6          64        0   20000           160              1             25   \n",
      "3          64        0   20000            80              1             25   \n",
      "7          64        0   20000           160              1             50   \n",
      "2          64        0   20000            40              1            100   \n",
      "0          64        0   20000            40              1             25   \n",
      "\n",
      "  kernel_initializer last_activation optimizer  nodes    links  \\\n",
      "6               ones          linear      adam    185  17020.0   \n",
      "3               ones          linear      adam    105   5460.0   \n",
      "7               ones          linear      adam    210  21945.0   \n",
      "2               ones          linear      adam    140   9730.0   \n",
      "0               ones          linear      adam     65   2080.0   \n",
      "\n",
      "   val_loss_improvement  \n",
      "6             -0.018146  \n",
      "3              0.001416  \n",
      "7              0.019307  \n",
      "2             -0.038399  \n",
      "0             -0.090004  \n"
     ]
    }
   ],
   "source": [
    "df['nodes'] = df.first_neuron + df.hidden_neuron*df.hidden_layers\n",
    "df['links'] =  df.nodes * (df.nodes-1) / 2\n",
    "df['val_loss_improvement'] = df.loss - df.val_loss \n",
    "#compare to baseline log-loss (higher is better)\n",
    "print(df.sort_values('val_loss').head())"
   ]
  },
  {
   "cell_type": "code",
   "execution_count": 45,
   "id": "086e68cd",
   "metadata": {},
   "outputs": [
    {
     "data": {
      "text/html": [
       "<div>\n",
       "<style scoped>\n",
       "    .dataframe tbody tr th:only-of-type {\n",
       "        vertical-align: middle;\n",
       "    }\n",
       "\n",
       "    .dataframe tbody tr th {\n",
       "        vertical-align: top;\n",
       "    }\n",
       "\n",
       "    .dataframe thead th {\n",
       "        text-align: right;\n",
       "    }\n",
       "</style>\n",
       "<table border=\"1\" class=\"dataframe\">\n",
       "  <thead>\n",
       "    <tr style=\"text-align: right;\">\n",
       "      <th></th>\n",
       "      <th>round_epochs</th>\n",
       "      <th>loss</th>\n",
       "      <th>val_loss</th>\n",
       "      <th>activation_layer</th>\n",
       "      <th>batc_normalization</th>\n",
       "      <th>batch_size</th>\n",
       "      <th>dropout</th>\n",
       "      <th>epochs</th>\n",
       "      <th>first_neuron</th>\n",
       "      <th>hidden_layers</th>\n",
       "      <th>hidden_neuron</th>\n",
       "      <th>kernel_initializer</th>\n",
       "      <th>last_activation</th>\n",
       "      <th>optimizer</th>\n",
       "      <th>nodes</th>\n",
       "      <th>links</th>\n",
       "      <th>val_loss_improvement</th>\n",
       "    </tr>\n",
       "  </thead>\n",
       "  <tbody>\n",
       "    <tr>\n",
       "      <th>6</th>\n",
       "      <td>7486</td>\n",
       "      <td>1.125173</td>\n",
       "      <td>1.143319</td>\n",
       "      <td>selu</td>\n",
       "      <td>False</td>\n",
       "      <td>64</td>\n",
       "      <td>0</td>\n",
       "      <td>20000</td>\n",
       "      <td>160</td>\n",
       "      <td>1</td>\n",
       "      <td>25</td>\n",
       "      <td>ones</td>\n",
       "      <td>linear</td>\n",
       "      <td>adam</td>\n",
       "      <td>185</td>\n",
       "      <td>17020.0</td>\n",
       "      <td>-0.018146</td>\n",
       "    </tr>\n",
       "    <tr>\n",
       "      <th>3</th>\n",
       "      <td>4886</td>\n",
       "      <td>1.165362</td>\n",
       "      <td>1.163945</td>\n",
       "      <td>selu</td>\n",
       "      <td>False</td>\n",
       "      <td>64</td>\n",
       "      <td>0</td>\n",
       "      <td>20000</td>\n",
       "      <td>80</td>\n",
       "      <td>1</td>\n",
       "      <td>25</td>\n",
       "      <td>ones</td>\n",
       "      <td>linear</td>\n",
       "      <td>adam</td>\n",
       "      <td>105</td>\n",
       "      <td>5460.0</td>\n",
       "      <td>0.001416</td>\n",
       "    </tr>\n",
       "    <tr>\n",
       "      <th>7</th>\n",
       "      <td>6071</td>\n",
       "      <td>1.189359</td>\n",
       "      <td>1.170052</td>\n",
       "      <td>selu</td>\n",
       "      <td>False</td>\n",
       "      <td>64</td>\n",
       "      <td>0</td>\n",
       "      <td>20000</td>\n",
       "      <td>160</td>\n",
       "      <td>1</td>\n",
       "      <td>50</td>\n",
       "      <td>ones</td>\n",
       "      <td>linear</td>\n",
       "      <td>adam</td>\n",
       "      <td>210</td>\n",
       "      <td>21945.0</td>\n",
       "      <td>0.019307</td>\n",
       "    </tr>\n",
       "    <tr>\n",
       "      <th>2</th>\n",
       "      <td>4071</td>\n",
       "      <td>1.142596</td>\n",
       "      <td>1.180995</td>\n",
       "      <td>selu</td>\n",
       "      <td>False</td>\n",
       "      <td>64</td>\n",
       "      <td>0</td>\n",
       "      <td>20000</td>\n",
       "      <td>40</td>\n",
       "      <td>1</td>\n",
       "      <td>100</td>\n",
       "      <td>ones</td>\n",
       "      <td>linear</td>\n",
       "      <td>adam</td>\n",
       "      <td>140</td>\n",
       "      <td>9730.0</td>\n",
       "      <td>-0.038399</td>\n",
       "    </tr>\n",
       "    <tr>\n",
       "      <th>0</th>\n",
       "      <td>3223</td>\n",
       "      <td>1.127859</td>\n",
       "      <td>1.217863</td>\n",
       "      <td>selu</td>\n",
       "      <td>False</td>\n",
       "      <td>64</td>\n",
       "      <td>0</td>\n",
       "      <td>20000</td>\n",
       "      <td>40</td>\n",
       "      <td>1</td>\n",
       "      <td>25</td>\n",
       "      <td>ones</td>\n",
       "      <td>linear</td>\n",
       "      <td>adam</td>\n",
       "      <td>65</td>\n",
       "      <td>2080.0</td>\n",
       "      <td>-0.090004</td>\n",
       "    </tr>\n",
       "    <tr>\n",
       "      <th>4</th>\n",
       "      <td>3198</td>\n",
       "      <td>1.156004</td>\n",
       "      <td>1.226312</td>\n",
       "      <td>selu</td>\n",
       "      <td>False</td>\n",
       "      <td>64</td>\n",
       "      <td>0</td>\n",
       "      <td>20000</td>\n",
       "      <td>80</td>\n",
       "      <td>1</td>\n",
       "      <td>50</td>\n",
       "      <td>ones</td>\n",
       "      <td>linear</td>\n",
       "      <td>adam</td>\n",
       "      <td>130</td>\n",
       "      <td>8385.0</td>\n",
       "      <td>-0.070308</td>\n",
       "    </tr>\n",
       "    <tr>\n",
       "      <th>1</th>\n",
       "      <td>6315</td>\n",
       "      <td>1.107630</td>\n",
       "      <td>1.252535</td>\n",
       "      <td>selu</td>\n",
       "      <td>False</td>\n",
       "      <td>64</td>\n",
       "      <td>0</td>\n",
       "      <td>20000</td>\n",
       "      <td>40</td>\n",
       "      <td>1</td>\n",
       "      <td>50</td>\n",
       "      <td>ones</td>\n",
       "      <td>linear</td>\n",
       "      <td>adam</td>\n",
       "      <td>90</td>\n",
       "      <td>4005.0</td>\n",
       "      <td>-0.144905</td>\n",
       "    </tr>\n",
       "    <tr>\n",
       "      <th>5</th>\n",
       "      <td>3114</td>\n",
       "      <td>1.121929</td>\n",
       "      <td>1.252955</td>\n",
       "      <td>selu</td>\n",
       "      <td>False</td>\n",
       "      <td>64</td>\n",
       "      <td>0</td>\n",
       "      <td>20000</td>\n",
       "      <td>80</td>\n",
       "      <td>1</td>\n",
       "      <td>100</td>\n",
       "      <td>ones</td>\n",
       "      <td>linear</td>\n",
       "      <td>adam</td>\n",
       "      <td>180</td>\n",
       "      <td>16110.0</td>\n",
       "      <td>-0.131026</td>\n",
       "    </tr>\n",
       "    <tr>\n",
       "      <th>8</th>\n",
       "      <td>4314</td>\n",
       "      <td>1.114458</td>\n",
       "      <td>1.279211</td>\n",
       "      <td>selu</td>\n",
       "      <td>False</td>\n",
       "      <td>64</td>\n",
       "      <td>0</td>\n",
       "      <td>20000</td>\n",
       "      <td>160</td>\n",
       "      <td>1</td>\n",
       "      <td>100</td>\n",
       "      <td>ones</td>\n",
       "      <td>linear</td>\n",
       "      <td>adam</td>\n",
       "      <td>260</td>\n",
       "      <td>33670.0</td>\n",
       "      <td>-0.164752</td>\n",
       "    </tr>\n",
       "  </tbody>\n",
       "</table>\n",
       "</div>"
      ],
      "text/plain": [
       "   round_epochs      loss  val_loss activation_layer  batc_normalization  \\\n",
       "6          7486  1.125173  1.143319             selu               False   \n",
       "3          4886  1.165362  1.163945             selu               False   \n",
       "7          6071  1.189359  1.170052             selu               False   \n",
       "2          4071  1.142596  1.180995             selu               False   \n",
       "0          3223  1.127859  1.217863             selu               False   \n",
       "4          3198  1.156004  1.226312             selu               False   \n",
       "1          6315  1.107630  1.252535             selu               False   \n",
       "5          3114  1.121929  1.252955             selu               False   \n",
       "8          4314  1.114458  1.279211             selu               False   \n",
       "\n",
       "   batch_size  dropout  epochs  first_neuron  hidden_layers  hidden_neuron  \\\n",
       "6          64        0   20000           160              1             25   \n",
       "3          64        0   20000            80              1             25   \n",
       "7          64        0   20000           160              1             50   \n",
       "2          64        0   20000            40              1            100   \n",
       "0          64        0   20000            40              1             25   \n",
       "4          64        0   20000            80              1             50   \n",
       "1          64        0   20000            40              1             50   \n",
       "5          64        0   20000            80              1            100   \n",
       "8          64        0   20000           160              1            100   \n",
       "\n",
       "  kernel_initializer last_activation optimizer  nodes    links  \\\n",
       "6               ones          linear      adam    185  17020.0   \n",
       "3               ones          linear      adam    105   5460.0   \n",
       "7               ones          linear      adam    210  21945.0   \n",
       "2               ones          linear      adam    140   9730.0   \n",
       "0               ones          linear      adam     65   2080.0   \n",
       "4               ones          linear      adam    130   8385.0   \n",
       "1               ones          linear      adam     90   4005.0   \n",
       "5               ones          linear      adam    180  16110.0   \n",
       "8               ones          linear      adam    260  33670.0   \n",
       "\n",
       "   val_loss_improvement  \n",
       "6             -0.018146  \n",
       "3              0.001416  \n",
       "7              0.019307  \n",
       "2             -0.038399  \n",
       "0             -0.090004  \n",
       "4             -0.070308  \n",
       "1             -0.144905  \n",
       "5             -0.131026  \n",
       "8             -0.164752  "
      ]
     },
     "execution_count": 45,
     "metadata": {},
     "output_type": "execute_result"
    }
   ],
   "source": [
    "df.sort_values('val_loss')"
   ]
  },
  {
   "cell_type": "markdown",
   "id": "conditional-plenty",
   "metadata": {},
   "source": [
    "## 3.2 Najlepszy wynik walidacji"
   ]
  },
  {
   "cell_type": "code",
   "execution_count": 46,
   "id": "superb-membership",
   "metadata": {},
   "outputs": [
    {
     "data": {
      "text/plain": [
       "1.1433185888926187"
      ]
     },
     "execution_count": 46,
     "metadata": {},
     "output_type": "execute_result"
    }
   ],
   "source": [
    "min(df[\"val_loss\"])"
   ]
  },
  {
   "cell_type": "code",
   "execution_count": 47,
   "id": "sorted-death",
   "metadata": {},
   "outputs": [
    {
     "data": {
      "text/plain": [
       "(array([1., 2., 1., 0., 0., 1., 1., 0., 2., 1.]),\n",
       " array([1.14331859, 1.15690778, 1.17049698, 1.18408617, 1.19767536,\n",
       "        1.21126456, 1.22485375, 1.23844294, 1.25203214, 1.26562133,\n",
       "        1.27921052]),\n",
       " <BarContainer object of 10 artists>)"
      ]
     },
     "execution_count": 47,
     "metadata": {},
     "output_type": "execute_result"
    },
    {
     "data": {
      "image/png": "[encoded data removed]",
      "text/plain": [
       "<Figure size 432x288 with 1 Axes>"
      ]
     },
     "metadata": {
      "needs_background": "light"
     },
     "output_type": "display_data"
    }
   ],
   "source": [
    "plt.hist(df[\"val_loss\"])"
   ]
  },
  {
   "cell_type": "markdown",
   "id": "reported-mumbai",
   "metadata": {},
   "source": [
    "## 3.3 Jednowymairowe zależności\n"
   ]
  },
  {
   "cell_type": "markdown",
   "id": "intensive-football",
   "metadata": {},
   "source": [
    "### 3.3.1 Pierwsza warstwa neurony"
   ]
  },
  {
   "cell_type": "code",
   "execution_count": 48,
   "id": "intimate-clearance",
   "metadata": {},
   "outputs": [
    {
     "data": {
      "text/plain": [
       "Text(0.5, 1.0, 'Log-Loss  as function of first_neuron')"
      ]
     },
     "execution_count": 48,
     "metadata": {},
     "output_type": "execute_result"
    },
    {
     "data": {
      "image/png": "[encoded data removed]",
      "text/plain": [
       "<Figure size 432x288 with 1 Axes>"
      ]
     },
     "metadata": {
      "needs_background": "light"
     },
     "output_type": "display_data"
    }
   ],
   "source": [
    "metric = 'first_neuron'\n",
    "ax = sns.boxplot(x=metric, y=\"val_loss\", data=df.reset_index(),color='salmon')\n",
    "ax.set_title(f'Log-Loss  as function of {metric}')"
   ]
  },
  {
   "cell_type": "markdown",
   "id": "worst-engineering",
   "metadata": {},
   "source": [
    "### 3.3.2 Liczba ukrytych neuronów"
   ]
  },
  {
   "cell_type": "code",
   "execution_count": 49,
   "id": "about-address",
   "metadata": {},
   "outputs": [
    {
     "data": {
      "text/plain": [
       "Text(0.5, 1.0, 'Log-Loss as function of hidden_neuron')"
      ]
     },
     "execution_count": 49,
     "metadata": {},
     "output_type": "execute_result"
    },
    {
     "data": {
      "image/png": "[encoded data removed]",
      "text/plain": [
       "<Figure size 432x288 with 1 Axes>"
      ]
     },
     "metadata": {
      "needs_background": "light"
     },
     "output_type": "display_data"
    }
   ],
   "source": [
    "metric = 'hidden_neuron'\n",
    "ax = sns.boxplot(x=metric, y=\"val_loss\", data=df.reset_index(),color='salmon')\n",
    "ax.set_title(f'Log-Loss as function of {metric}')"
   ]
  },
  {
   "cell_type": "code",
   "execution_count": 4,
   "id": "49acb812",
   "metadata": {},
   "outputs": [
    {
     "data": {
      "text/plain": [
       "Text(0.5, 1.0, 'CI Validation Loss as function of hidden neuron')"
      ]
     },
     "execution_count": 4,
     "metadata": {},
     "output_type": "execute_result"
    },
    {
     "data": {
      "image/png": "[encoded data removed]",
      "text/plain": [
       "<Figure size 432x288 with 1 Axes>"
      ]
     },
     "metadata": {
      "needs_background": "light"
     },
     "output_type": "display_data"
    }
   ],
   "source": [
    "metric = 'hidden_neuron'\n",
    "ax = sns.boxplot(x=metric, y=\"val_loss\", data=df.reset_index(),color='salmon')\n",
    "ax.set_ylim([1.1, 1.6]) \n",
    "ax.set_ylabel('Absolute Error of validation loss')\n",
    "ax.set_xlabel('Hidden neuron')\n",
    "ax.set_title('CI Validation Loss as function of hidden neuron') #ta\n"
   ]
  },
  {
   "cell_type": "markdown",
   "id": "thrown-thing",
   "metadata": {},
   "source": [
    "### 3.3.3 Liczba ukrytych warstw"
   ]
  },
  {
   "cell_type": "code",
   "execution_count": 50,
   "id": "1759a313",
   "metadata": {},
   "outputs": [
    {
     "data": {
      "text/plain": [
       "Text(0.5, 1.0, 'Validation Loss as function of hidden_layers')"
      ]
     },
     "execution_count": 50,
     "metadata": {},
     "output_type": "execute_result"
    },
    {
     "data": {
      "image/png": "[encoded data removed]",
      "text/plain": [
       "<Figure size 432x288 with 1 Axes>"
      ]
     },
     "metadata": {
      "needs_background": "light"
     },
     "output_type": "display_data"
    }
   ],
   "source": [
    "metric = 'hidden_layers'\n",
    "ax = sns.boxplot(x=metric, y=\"val_loss\", data=df.reset_index(),color='salmon')\n",
    "ax.set_title(f'Validation Loss as function of {metric}')\n"
   ]
  },
  {
   "cell_type": "markdown",
   "id": "a42e3bf4",
   "metadata": {},
   "source": [
    "### 3.3.4 Batch Size"
   ]
  },
  {
   "cell_type": "code",
   "execution_count": 51,
   "id": "033d0ce0",
   "metadata": {},
   "outputs": [
    {
     "data": {
      "text/plain": [
       "Text(0.5, 1.0, 'Validation Loss as function of batch_size')"
      ]
     },
     "execution_count": 51,
     "metadata": {},
     "output_type": "execute_result"
    },
    {
     "data": {
      "image/png": "[encoded data removed]",
      "text/plain": [
       "<Figure size 432x288 with 1 Axes>"
      ]
     },
     "metadata": {
      "needs_background": "light"
     },
     "output_type": "display_data"
    }
   ],
   "source": [
    "metric = 'batch_size'\n",
    "ax = sns.boxplot(x=metric, y=\"val_loss\", data=df.reset_index(),color='salmon')\n",
    "ax.set_title(f'Validation Loss as function of {metric}')\n"
   ]
  },
  {
   "cell_type": "markdown",
   "id": "9da7c87c",
   "metadata": {},
   "source": [
    "### 3.3.5 kernel_initializer"
   ]
  },
  {
   "cell_type": "code",
   "execution_count": 52,
   "id": "e46dab39",
   "metadata": {},
   "outputs": [
    {
     "data": {
      "text/plain": [
       "Text(0.5, 1.0, 'Validation Loss as function of kernel_initializer')"
      ]
     },
     "execution_count": 52,
     "metadata": {},
     "output_type": "execute_result"
    },
    {
     "data": {
      "image/png": "[encoded data removed]",
      "text/plain": [
       "<Figure size 432x288 with 1 Axes>"
      ]
     },
     "metadata": {
      "needs_background": "light"
     },
     "output_type": "display_data"
    }
   ],
   "source": [
    "metric = 'kernel_initializer'\n",
    "ax = sns.boxplot(x=metric, y=\"val_loss\", data=df.reset_index(),color='salmon')\n",
    "ax.set_title(f'Validation Loss as function of {metric}')"
   ]
  },
  {
   "cell_type": "markdown",
   "id": "051af8d3",
   "metadata": {},
   "source": [
    "### 3.3.6 activation_layer"
   ]
  },
  {
   "cell_type": "code",
   "execution_count": 53,
   "id": "d43df1fc",
   "metadata": {},
   "outputs": [
    {
     "data": {
      "text/plain": [
       "Text(0.5, 1.0, 'Validation Loss as function of activation_layer')"
      ]
     },
     "execution_count": 53,
     "metadata": {},
     "output_type": "execute_result"
    },
    {
     "data": {
      "image/png": "[encoded data removed]",
      "text/plain": [
       "<Figure size 432x288 with 1 Axes>"
      ]
     },
     "metadata": {
      "needs_background": "light"
     },
     "output_type": "display_data"
    }
   ],
   "source": [
    "metric = 'activation_layer'\n",
    "ax = sns.boxplot(x=metric, y=\"val_loss\", data=df.reset_index(),color='salmon')\n",
    "ax.set_title(f'Validation Loss as function of {metric}')"
   ]
  },
  {
   "cell_type": "code",
   "execution_count": null,
   "id": "b4065e0a",
   "metadata": {},
   "outputs": [],
   "source": []
  },
  {
   "cell_type": "code",
   "execution_count": null,
   "id": "db81141c",
   "metadata": {},
   "outputs": [],
   "source": []
  }
 ],
 "metadata": {
  "kernelspec": {
   "display_name": "Python 3",
   "language": "python",
   "name": "python3"
  },
  "language_info": {
   "codemirror_mode": {
    "name": "ipython",
    "version": 3
   },
   "file_extension": ".py",
   "mimetype": "text/x-python",
   "name": "python",
   "nbconvert_exporter": "python",
   "pygments_lexer": "ipython3",
   "version": "3.7.10"
  }
 },
 "nbformat": 4,
 "nbformat_minor": 5
}
