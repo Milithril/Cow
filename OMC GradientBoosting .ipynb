{
 "cells": [
  {
   "cell_type": "markdown",
   "metadata": {
    "id": "bPV-6xysFeQ1"
   },
   "source": [
    "# Zastosowanie drzew decyzyjnych oraz lasów losowych przy, gdzie y reprezentowany jest przez dane typu ciągłego**\n"
   ]
  },
  {
   "cell_type": "markdown",
   "metadata": {},
   "source": [
    "## 1. Biblioteki"
   ]
  },
  {
   "cell_type": "code",
   "execution_count": 1,
   "metadata": {
    "id": "JJMNYhNp0ejg"
   },
   "outputs": [],
   "source": [
    "import pandas as pd\n",
    "import sklearn.tree\n",
    "import numpy as np\n",
    "from sklearn.tree import DecisionTreeRegressor  #ładowanie fukcji do tworzenia instacji drzew dla Y ciaglego\n",
    "from sklearn.metrics import mean_absolute_error, r2_score #funkcje do badania dopasowania modelu\n",
    "from sklearn.ensemble import RandomForestRegressor #ladowanie funkcji RandomForestRegressor do tworzenia instancji algorytmu\n",
    "from sklearn.ensemble import GradientBoostingRegressor \n",
    "import dtreeviz.trees as dtv # importowanie dtreeviz\n",
    "from sklearn.model_selection import GridSearchCV\n",
    "from sklearn.metrics import mean_absolute_error\n",
    "from dtreeviz.trees import *\n",
    "\n",
    "\n",
    "import xgboost as xgb\n",
    "from sklearn.model_selection import train_test_split\n",
    "from sklearn.model_selection import cross_val_score, KFold\n",
    "from sklearn.metrics import mean_absolute_error\n",
    "import matplotlib.pyplot as plt \n",
    "\n",
    "from sklearn.feature_selection import RFECV\n",
    "from sklearn.metrics import make_scorer\n",
    "\n",
    "import graphviz"
   ]
  },
  {
   "cell_type": "markdown",
   "metadata": {},
   "source": [
    "## 2. Wczytuje  i sprawdzam typ danych"
   ]
  },
  {
   "cell_type": "code",
   "execution_count": 2,
   "metadata": {},
   "outputs": [],
   "source": [
    "train_df=pd.read_csv('D:/STUDIA/ROK_II/Projekt/Dane_jalowka_i_krowa_train.csv')\n",
    "test_df=pd.read_csv('D:/STUDIA/ROK_II/Projekt/Dane_jalowka_i_krowa_test.csv')\n",
    "val_df=pd.read_csv('D:/STUDIA/ROK_II/Projekt/Dane_jalowka_i_krowa_val.csv')\n",
    "\n",
    "train_df.columns = ['id','Województwo', 'Data urodzenia', 'IE', 'Dokł. IE', 'PF', 'PI-PROD', 'PI-POKR', 'Prc', 'Psm', 'Pnr', 'Pw','PI-PLOD', 'CRj', 'CRk', 'PP', 'OMC', 'WH-KSOM', 'WH-DLUG', 'IP', 'kg ml', 'kg tł', '% tł', 'kg bi', '% bi', 'rc', 'sm', 'nr', 'w', 'og','kategoria']\n",
    "test_df.columns = ['id','Województwo', 'Data urodzenia', 'IE', 'Dokł. IE', 'PF', 'PI-PROD', 'PI-POKR', 'Prc', 'Psm', 'Pnr', 'Pw','PI-PLOD', 'CRj', 'CRk', 'PP', 'OMC', 'WH-KSOM', 'WH-DLUG', 'IP', 'kg ml', 'kg tł', '% tł', 'kg bi', '% bi', 'rc', 'sm', 'nr', 'w', 'og','kategoria']\n",
    "val_df.columns = ['id','Województwo', 'Data urodzenia', 'IE', 'Dokł. IE', 'PF', 'PI-PROD', 'PI-POKR', 'Prc', 'Psm', 'Pnr', 'Pw','PI-PLOD', 'CRj', 'CRk', 'PP', 'OMC', 'WH-KSOM', 'WH-DLUG', 'IP', 'kg ml', 'kg tł', '% tł', 'kg bi', '% bi', 'rc', 'sm', 'nr', 'w', 'og','kategoria']\n",
    "\n",
    "caly_df = pd.concat([train_df, test_df, val_df])\n",
    "caly_df['Województwo']=caly_df['Województwo'].astype('category')\n",
    "caly_df['Data urodzenia']=caly_df['Data urodzenia'].astype('category')\n",
    "\n",
    "del caly_df[\"id\"]\n",
    "del caly_df[\"PF\"]\n",
    "del caly_df[\"IE\"]\n",
    "del caly_df[\"Dokł. IE\"]\n",
    "del caly_df['kategoria']"
   ]
  },
  {
   "cell_type": "code",
   "execution_count": 3,
   "metadata": {},
   "outputs": [
    {
     "name": "stdout",
     "output_type": "stream",
     "text": [
      "<class 'pandas.core.frame.DataFrame'>\n",
      "Int64Index: 1881 entries, 0 to 188\n",
      "Data columns (total 26 columns):\n",
      " #   Column          Non-Null Count  Dtype   \n",
      "---  ------          --------------  -----   \n",
      " 0   Województwo     1881 non-null   category\n",
      " 1   Data urodzenia  1881 non-null   category\n",
      " 2   PI-PROD         1881 non-null   int64   \n",
      " 3   PI-POKR         1881 non-null   int64   \n",
      " 4   Prc             1881 non-null   int64   \n",
      " 5   Psm             1881 non-null   int64   \n",
      " 6   Pnr             1881 non-null   int64   \n",
      " 7   Pw              1881 non-null   int64   \n",
      " 8   PI-PLOD         1881 non-null   int64   \n",
      " 9   CRj             1881 non-null   int64   \n",
      " 10  CRk             1881 non-null   int64   \n",
      " 11  PP              1881 non-null   int64   \n",
      " 12  OMC             1881 non-null   int64   \n",
      " 13  WH-KSOM         1881 non-null   int64   \n",
      " 14  WH-DLUG         1881 non-null   int64   \n",
      " 15  IP              1881 non-null   int64   \n",
      " 16  kg ml           1881 non-null   int64   \n",
      " 17  kg tł           1881 non-null   int64   \n",
      " 18  % tł            1881 non-null   int64   \n",
      " 19  kg bi           1881 non-null   int64   \n",
      " 20  % bi            1881 non-null   int64   \n",
      " 21  rc              1881 non-null   float64 \n",
      " 22  sm              1881 non-null   float64 \n",
      " 23  nr              1881 non-null   float64 \n",
      " 24  w               1881 non-null   float64 \n",
      " 25  og              1881 non-null   float64 \n",
      "dtypes: category(2), float64(5), int64(19)\n",
      "memory usage: 372.1 KB\n"
     ]
    }
   ],
   "source": [
    "caly_df.info()"
   ]
  },
  {
   "cell_type": "markdown",
   "metadata": {},
   "source": [
    "### 3. Usuwam mniejszości zmiennych kategorycznych "
   ]
  },
  {
   "cell_type": "code",
   "execution_count": 4,
   "metadata": {},
   "outputs": [
    {
     "data": {
      "text/plain": [
       "WIELKOPOLSKIE          579\n",
       "KUJAWSKO-POMORSKIE     298\n",
       "OPOLSKIE               227\n",
       "ZACHODNIOPOMORSKIE     212\n",
       "PODLASKIE              175\n",
       "MAZOWIECKIE            106\n",
       "POMORSKIE               94\n",
       "LUBUSKIE                47\n",
       "ŁÓDZKIE                 41\n",
       "DOLNOŚLĄSKIE            32\n",
       "WARMIŃSKO-MAZURSKIE     23\n",
       "ŚLĄSKIE                 17\n",
       "ŚWIĘTOKRZYSKIE          13\n",
       "MAŁOPOLSKIE             12\n",
       "LUBELSKIE                4\n",
       "PODKARPACKIE             1\n",
       "Name: Województwo, dtype: int64"
      ]
     },
     "execution_count": 4,
     "metadata": {},
     "output_type": "execute_result"
    }
   ],
   "source": [
    "caly_df['Województwo'].value_counts()"
   ]
  },
  {
   "cell_type": "code",
   "execution_count": 5,
   "metadata": {},
   "outputs": [],
   "source": [
    "caly_df=caly_df[caly_df['Województwo']!='PODKARPACKIE']\n",
    "caly_df=caly_df[caly_df['Województwo']!='LUBELSKIE']"
   ]
  },
  {
   "cell_type": "code",
   "execution_count": 6,
   "metadata": {},
   "outputs": [
    {
     "data": {
      "text/plain": [
       "WIELKOPOLSKIE          579\n",
       "KUJAWSKO-POMORSKIE     298\n",
       "OPOLSKIE               227\n",
       "ZACHODNIOPOMORSKIE     212\n",
       "PODLASKIE              175\n",
       "MAZOWIECKIE            106\n",
       "POMORSKIE               94\n",
       "LUBUSKIE                47\n",
       "ŁÓDZKIE                 41\n",
       "DOLNOŚLĄSKIE            32\n",
       "WARMIŃSKO-MAZURSKIE     23\n",
       "ŚLĄSKIE                 17\n",
       "ŚWIĘTOKRZYSKIE          13\n",
       "MAŁOPOLSKIE             12\n",
       "LUBELSKIE                0\n",
       "PODKARPACKIE             0\n",
       "Name: Województwo, dtype: int64"
      ]
     },
     "execution_count": 6,
     "metadata": {},
     "output_type": "execute_result"
    }
   ],
   "source": [
    "caly_df['Województwo'].value_counts()"
   ]
  },
  {
   "cell_type": "code",
   "execution_count": 7,
   "metadata": {},
   "outputs": [
    {
     "data": {
      "text/plain": [
       "2020    1066\n",
       "2019     396\n",
       "2018     275\n",
       "2017      68\n",
       "2021      47\n",
       "2016      23\n",
       "2015       1\n",
       "Name: Data urodzenia, dtype: int64"
      ]
     },
     "execution_count": 7,
     "metadata": {},
     "output_type": "execute_result"
    }
   ],
   "source": [
    "caly_df['Data urodzenia'].value_counts()"
   ]
  },
  {
   "cell_type": "code",
   "execution_count": 8,
   "metadata": {},
   "outputs": [],
   "source": [
    "caly_df=caly_df[caly_df['Data urodzenia']!=2015]"
   ]
  },
  {
   "cell_type": "code",
   "execution_count": 9,
   "metadata": {},
   "outputs": [
    {
     "data": {
      "text/plain": [
       "2020    1066\n",
       "2019     396\n",
       "2018     275\n",
       "2017      68\n",
       "2021      47\n",
       "2016      23\n",
       "2015       0\n",
       "Name: Data urodzenia, dtype: int64"
      ]
     },
     "execution_count": 9,
     "metadata": {},
     "output_type": "execute_result"
    }
   ],
   "source": [
    "caly_df['Data urodzenia'].value_counts()"
   ]
  },
  {
   "cell_type": "code",
   "execution_count": 10,
   "metadata": {},
   "outputs": [],
   "source": [
    "caly_label=caly_df[\"OMC\"]\n",
    "del caly_df[\"OMC\"]"
   ]
  },
  {
   "cell_type": "markdown",
   "metadata": {},
   "source": [
    "### 4. Zakodowuje zmienne kategoryczne "
   ]
  },
  {
   "cell_type": "code",
   "execution_count": 11,
   "metadata": {},
   "outputs": [],
   "source": [
    "a=pd.get_dummies(caly_df['Województwo'])\n",
    "b=pd.get_dummies(caly_df['Data urodzenia'])\n",
    "caly_df= pd.concat([caly_df,a,b], axis=1)\n",
    "del caly_df['Województwo']\n",
    "del caly_df['Data urodzenia']"
   ]
  },
  {
   "cell_type": "code",
   "execution_count": 12,
   "metadata": {},
   "outputs": [
    {
     "data": {
      "text/html": [
       "<div>\n",
       "<style scoped>\n",
       "    .dataframe tbody tr th:only-of-type {\n",
       "        vertical-align: middle;\n",
       "    }\n",
       "\n",
       "    .dataframe tbody tr th {\n",
       "        vertical-align: top;\n",
       "    }\n",
       "\n",
       "    .dataframe thead th {\n",
       "        text-align: right;\n",
       "    }\n",
       "</style>\n",
       "<table border=\"1\" class=\"dataframe\">\n",
       "  <thead>\n",
       "    <tr style=\"text-align: right;\">\n",
       "      <th></th>\n",
       "      <th>PI-PROD</th>\n",
       "      <th>PI-POKR</th>\n",
       "      <th>Prc</th>\n",
       "      <th>Psm</th>\n",
       "      <th>Pnr</th>\n",
       "      <th>Pw</th>\n",
       "      <th>PI-PLOD</th>\n",
       "      <th>CRj</th>\n",
       "      <th>CRk</th>\n",
       "      <th>PP</th>\n",
       "      <th>...</th>\n",
       "      <th>ŁÓDZKIE</th>\n",
       "      <th>ŚLĄSKIE</th>\n",
       "      <th>ŚWIĘTOKRZYSKIE</th>\n",
       "      <th>2015</th>\n",
       "      <th>2016</th>\n",
       "      <th>2017</th>\n",
       "      <th>2018</th>\n",
       "      <th>2019</th>\n",
       "      <th>2020</th>\n",
       "      <th>2021</th>\n",
       "    </tr>\n",
       "  </thead>\n",
       "  <tbody>\n",
       "    <tr>\n",
       "      <th>0</th>\n",
       "      <td>137</td>\n",
       "      <td>127</td>\n",
       "      <td>121</td>\n",
       "      <td>113</td>\n",
       "      <td>106</td>\n",
       "      <td>128</td>\n",
       "      <td>109</td>\n",
       "      <td>107</td>\n",
       "      <td>110</td>\n",
       "      <td>101</td>\n",
       "      <td>...</td>\n",
       "      <td>0</td>\n",
       "      <td>0</td>\n",
       "      <td>0</td>\n",
       "      <td>0</td>\n",
       "      <td>0</td>\n",
       "      <td>0</td>\n",
       "      <td>0</td>\n",
       "      <td>0</td>\n",
       "      <td>1</td>\n",
       "      <td>0</td>\n",
       "    </tr>\n",
       "    <tr>\n",
       "      <th>1</th>\n",
       "      <td>126</td>\n",
       "      <td>123</td>\n",
       "      <td>109</td>\n",
       "      <td>113</td>\n",
       "      <td>103</td>\n",
       "      <td>128</td>\n",
       "      <td>114</td>\n",
       "      <td>114</td>\n",
       "      <td>113</td>\n",
       "      <td>94</td>\n",
       "      <td>...</td>\n",
       "      <td>0</td>\n",
       "      <td>0</td>\n",
       "      <td>0</td>\n",
       "      <td>0</td>\n",
       "      <td>0</td>\n",
       "      <td>0</td>\n",
       "      <td>1</td>\n",
       "      <td>0</td>\n",
       "      <td>0</td>\n",
       "      <td>0</td>\n",
       "    </tr>\n",
       "    <tr>\n",
       "      <th>2</th>\n",
       "      <td>126</td>\n",
       "      <td>120</td>\n",
       "      <td>110</td>\n",
       "      <td>107</td>\n",
       "      <td>102</td>\n",
       "      <td>124</td>\n",
       "      <td>113</td>\n",
       "      <td>112</td>\n",
       "      <td>117</td>\n",
       "      <td>94</td>\n",
       "      <td>...</td>\n",
       "      <td>0</td>\n",
       "      <td>0</td>\n",
       "      <td>0</td>\n",
       "      <td>0</td>\n",
       "      <td>0</td>\n",
       "      <td>0</td>\n",
       "      <td>0</td>\n",
       "      <td>0</td>\n",
       "      <td>1</td>\n",
       "      <td>0</td>\n",
       "    </tr>\n",
       "    <tr>\n",
       "      <th>3</th>\n",
       "      <td>133</td>\n",
       "      <td>111</td>\n",
       "      <td>104</td>\n",
       "      <td>110</td>\n",
       "      <td>99</td>\n",
       "      <td>114</td>\n",
       "      <td>114</td>\n",
       "      <td>113</td>\n",
       "      <td>126</td>\n",
       "      <td>89</td>\n",
       "      <td>...</td>\n",
       "      <td>0</td>\n",
       "      <td>0</td>\n",
       "      <td>0</td>\n",
       "      <td>0</td>\n",
       "      <td>0</td>\n",
       "      <td>0</td>\n",
       "      <td>0</td>\n",
       "      <td>0</td>\n",
       "      <td>1</td>\n",
       "      <td>0</td>\n",
       "    </tr>\n",
       "    <tr>\n",
       "      <th>4</th>\n",
       "      <td>125</td>\n",
       "      <td>115</td>\n",
       "      <td>91</td>\n",
       "      <td>95</td>\n",
       "      <td>101</td>\n",
       "      <td>124</td>\n",
       "      <td>134</td>\n",
       "      <td>129</td>\n",
       "      <td>133</td>\n",
       "      <td>102</td>\n",
       "      <td>...</td>\n",
       "      <td>0</td>\n",
       "      <td>0</td>\n",
       "      <td>0</td>\n",
       "      <td>0</td>\n",
       "      <td>0</td>\n",
       "      <td>0</td>\n",
       "      <td>0</td>\n",
       "      <td>0</td>\n",
       "      <td>1</td>\n",
       "      <td>0</td>\n",
       "    </tr>\n",
       "    <tr>\n",
       "      <th>...</th>\n",
       "      <td>...</td>\n",
       "      <td>...</td>\n",
       "      <td>...</td>\n",
       "      <td>...</td>\n",
       "      <td>...</td>\n",
       "      <td>...</td>\n",
       "      <td>...</td>\n",
       "      <td>...</td>\n",
       "      <td>...</td>\n",
       "      <td>...</td>\n",
       "      <td>...</td>\n",
       "      <td>...</td>\n",
       "      <td>...</td>\n",
       "      <td>...</td>\n",
       "      <td>...</td>\n",
       "      <td>...</td>\n",
       "      <td>...</td>\n",
       "      <td>...</td>\n",
       "      <td>...</td>\n",
       "      <td>...</td>\n",
       "      <td>...</td>\n",
       "    </tr>\n",
       "    <tr>\n",
       "      <th>184</th>\n",
       "      <td>134</td>\n",
       "      <td>119</td>\n",
       "      <td>112</td>\n",
       "      <td>115</td>\n",
       "      <td>106</td>\n",
       "      <td>118</td>\n",
       "      <td>102</td>\n",
       "      <td>103</td>\n",
       "      <td>108</td>\n",
       "      <td>92</td>\n",
       "      <td>...</td>\n",
       "      <td>0</td>\n",
       "      <td>0</td>\n",
       "      <td>0</td>\n",
       "      <td>0</td>\n",
       "      <td>0</td>\n",
       "      <td>0</td>\n",
       "      <td>0</td>\n",
       "      <td>0</td>\n",
       "      <td>1</td>\n",
       "      <td>0</td>\n",
       "    </tr>\n",
       "    <tr>\n",
       "      <th>185</th>\n",
       "      <td>132</td>\n",
       "      <td>117</td>\n",
       "      <td>103</td>\n",
       "      <td>103</td>\n",
       "      <td>107</td>\n",
       "      <td>119</td>\n",
       "      <td>93</td>\n",
       "      <td>94</td>\n",
       "      <td>102</td>\n",
       "      <td>96</td>\n",
       "      <td>...</td>\n",
       "      <td>0</td>\n",
       "      <td>0</td>\n",
       "      <td>0</td>\n",
       "      <td>0</td>\n",
       "      <td>0</td>\n",
       "      <td>0</td>\n",
       "      <td>1</td>\n",
       "      <td>0</td>\n",
       "      <td>0</td>\n",
       "      <td>0</td>\n",
       "    </tr>\n",
       "    <tr>\n",
       "      <th>186</th>\n",
       "      <td>120</td>\n",
       "      <td>109</td>\n",
       "      <td>106</td>\n",
       "      <td>97</td>\n",
       "      <td>96</td>\n",
       "      <td>115</td>\n",
       "      <td>120</td>\n",
       "      <td>114</td>\n",
       "      <td>134</td>\n",
       "      <td>100</td>\n",
       "      <td>...</td>\n",
       "      <td>0</td>\n",
       "      <td>0</td>\n",
       "      <td>0</td>\n",
       "      <td>0</td>\n",
       "      <td>0</td>\n",
       "      <td>0</td>\n",
       "      <td>0</td>\n",
       "      <td>1</td>\n",
       "      <td>0</td>\n",
       "      <td>0</td>\n",
       "    </tr>\n",
       "    <tr>\n",
       "      <th>187</th>\n",
       "      <td>113</td>\n",
       "      <td>114</td>\n",
       "      <td>97</td>\n",
       "      <td>94</td>\n",
       "      <td>103</td>\n",
       "      <td>120</td>\n",
       "      <td>114</td>\n",
       "      <td>104</td>\n",
       "      <td>115</td>\n",
       "      <td>132</td>\n",
       "      <td>...</td>\n",
       "      <td>1</td>\n",
       "      <td>0</td>\n",
       "      <td>0</td>\n",
       "      <td>0</td>\n",
       "      <td>0</td>\n",
       "      <td>0</td>\n",
       "      <td>1</td>\n",
       "      <td>0</td>\n",
       "      <td>0</td>\n",
       "      <td>0</td>\n",
       "    </tr>\n",
       "    <tr>\n",
       "      <th>188</th>\n",
       "      <td>126</td>\n",
       "      <td>117</td>\n",
       "      <td>107</td>\n",
       "      <td>100</td>\n",
       "      <td>104</td>\n",
       "      <td>121</td>\n",
       "      <td>110</td>\n",
       "      <td>107</td>\n",
       "      <td>119</td>\n",
       "      <td>101</td>\n",
       "      <td>...</td>\n",
       "      <td>0</td>\n",
       "      <td>0</td>\n",
       "      <td>0</td>\n",
       "      <td>0</td>\n",
       "      <td>0</td>\n",
       "      <td>0</td>\n",
       "      <td>0</td>\n",
       "      <td>0</td>\n",
       "      <td>1</td>\n",
       "      <td>0</td>\n",
       "    </tr>\n",
       "  </tbody>\n",
       "</table>\n",
       "<p>1875 rows × 46 columns</p>\n",
       "</div>"
      ],
      "text/plain": [
       "     PI-PROD  PI-POKR  Prc  Psm  Pnr   Pw  PI-PLOD  CRj  CRk   PP  ...  \\\n",
       "0        137      127  121  113  106  128      109  107  110  101  ...   \n",
       "1        126      123  109  113  103  128      114  114  113   94  ...   \n",
       "2        126      120  110  107  102  124      113  112  117   94  ...   \n",
       "3        133      111  104  110   99  114      114  113  126   89  ...   \n",
       "4        125      115   91   95  101  124      134  129  133  102  ...   \n",
       "..       ...      ...  ...  ...  ...  ...      ...  ...  ...  ...  ...   \n",
       "184      134      119  112  115  106  118      102  103  108   92  ...   \n",
       "185      132      117  103  103  107  119       93   94  102   96  ...   \n",
       "186      120      109  106   97   96  115      120  114  134  100  ...   \n",
       "187      113      114   97   94  103  120      114  104  115  132  ...   \n",
       "188      126      117  107  100  104  121      110  107  119  101  ...   \n",
       "\n",
       "     ŁÓDZKIE  ŚLĄSKIE  ŚWIĘTOKRZYSKIE  2015  2016  2017  2018  2019  2020  \\\n",
       "0          0        0               0     0     0     0     0     0     1   \n",
       "1          0        0               0     0     0     0     1     0     0   \n",
       "2          0        0               0     0     0     0     0     0     1   \n",
       "3          0        0               0     0     0     0     0     0     1   \n",
       "4          0        0               0     0     0     0     0     0     1   \n",
       "..       ...      ...             ...   ...   ...   ...   ...   ...   ...   \n",
       "184        0        0               0     0     0     0     0     0     1   \n",
       "185        0        0               0     0     0     0     1     0     0   \n",
       "186        0        0               0     0     0     0     0     1     0   \n",
       "187        1        0               0     0     0     0     1     0     0   \n",
       "188        0        0               0     0     0     0     0     0     1   \n",
       "\n",
       "     2021  \n",
       "0       0  \n",
       "1       0  \n",
       "2       0  \n",
       "3       0  \n",
       "4       0  \n",
       "..    ...  \n",
       "184     0  \n",
       "185     0  \n",
       "186     0  \n",
       "187     0  \n",
       "188     0  \n",
       "\n",
       "[1875 rows x 46 columns]"
      ]
     },
     "execution_count": 12,
     "metadata": {},
     "output_type": "execute_result"
    }
   ],
   "source": [
    "caly_df"
   ]
  },
  {
   "cell_type": "code",
   "execution_count": 13,
   "metadata": {},
   "outputs": [
    {
     "name": "stdout",
     "output_type": "stream",
     "text": [
      "<class 'pandas.core.frame.DataFrame'>\n",
      "Int64Index: 1875 entries, 0 to 188\n",
      "Data columns (total 46 columns):\n",
      " #   Column               Non-Null Count  Dtype  \n",
      "---  ------               --------------  -----  \n",
      " 0   PI-PROD              1875 non-null   int64  \n",
      " 1   PI-POKR              1875 non-null   int64  \n",
      " 2   Prc                  1875 non-null   int64  \n",
      " 3   Psm                  1875 non-null   int64  \n",
      " 4   Pnr                  1875 non-null   int64  \n",
      " 5   Pw                   1875 non-null   int64  \n",
      " 6   PI-PLOD              1875 non-null   int64  \n",
      " 7   CRj                  1875 non-null   int64  \n",
      " 8   CRk                  1875 non-null   int64  \n",
      " 9   PP                   1875 non-null   int64  \n",
      " 10  WH-KSOM              1875 non-null   int64  \n",
      " 11  WH-DLUG              1875 non-null   int64  \n",
      " 12  IP                   1875 non-null   int64  \n",
      " 13  kg ml                1875 non-null   int64  \n",
      " 14  kg tł                1875 non-null   int64  \n",
      " 15  % tł                 1875 non-null   int64  \n",
      " 16  kg bi                1875 non-null   int64  \n",
      " 17  % bi                 1875 non-null   int64  \n",
      " 18  rc                   1875 non-null   float64\n",
      " 19  sm                   1875 non-null   float64\n",
      " 20  nr                   1875 non-null   float64\n",
      " 21  w                    1875 non-null   float64\n",
      " 22  og                   1875 non-null   float64\n",
      " 23  DOLNOŚLĄSKIE         1875 non-null   uint8  \n",
      " 24  KUJAWSKO-POMORSKIE   1875 non-null   uint8  \n",
      " 25  LUBELSKIE            1875 non-null   uint8  \n",
      " 26  LUBUSKIE             1875 non-null   uint8  \n",
      " 27  MAZOWIECKIE          1875 non-null   uint8  \n",
      " 28  MAŁOPOLSKIE          1875 non-null   uint8  \n",
      " 29  OPOLSKIE             1875 non-null   uint8  \n",
      " 30  PODKARPACKIE         1875 non-null   uint8  \n",
      " 31  PODLASKIE            1875 non-null   uint8  \n",
      " 32  POMORSKIE            1875 non-null   uint8  \n",
      " 33  WARMIŃSKO-MAZURSKIE  1875 non-null   uint8  \n",
      " 34  WIELKOPOLSKIE        1875 non-null   uint8  \n",
      " 35  ZACHODNIOPOMORSKIE   1875 non-null   uint8  \n",
      " 36  ŁÓDZKIE              1875 non-null   uint8  \n",
      " 37  ŚLĄSKIE              1875 non-null   uint8  \n",
      " 38  ŚWIĘTOKRZYSKIE       1875 non-null   uint8  \n",
      " 39  2015                 1875 non-null   uint8  \n",
      " 40  2016                 1875 non-null   uint8  \n",
      " 41  2017                 1875 non-null   uint8  \n",
      " 42  2018                 1875 non-null   uint8  \n",
      " 43  2019                 1875 non-null   uint8  \n",
      " 44  2020                 1875 non-null   uint8  \n",
      " 45  2021                 1875 non-null   uint8  \n",
      "dtypes: float64(5), int64(18), uint8(23)\n",
      "memory usage: 393.7 KB\n"
     ]
    }
   ],
   "source": [
    "caly_df.info()"
   ]
  },
  {
   "cell_type": "markdown",
   "metadata": {},
   "source": [
    "### 5. Tworzę metrykę do oceny dobierania parametrów\n"
   ]
  },
  {
   "cell_type": "code",
   "execution_count": 14,
   "metadata": {},
   "outputs": [],
   "source": [
    "mae_scorer = make_scorer(mean_absolute_error)"
   ]
  },
  {
   "cell_type": "markdown",
   "metadata": {},
   "source": [
    "## 6 Modele"
   ]
  },
  {
   "cell_type": "markdown",
   "metadata": {},
   "source": [
    "gradient boosting i XGBR nie wymagają standaryzacji"
   ]
  },
  {
   "cell_type": "markdown",
   "metadata": {},
   "source": [
    "## 8.1 GradientBoosting - regresje"
   ]
  },
  {
   "cell_type": "markdown",
   "metadata": {},
   "source": [
    "## 8.1.1 GradientBoosting - dobieram zmienne"
   ]
  },
  {
   "cell_type": "code",
   "execution_count": 15,
   "metadata": {},
   "outputs": [],
   "source": [
    "estimator=GradientBoostingRegressor()\n",
    "selector = RFECV(estimator, step=1, cv=2,scoring=mae_scorer)\n",
    "selector2 = selector.fit(caly_df, caly_label)                   "
   ]
  },
  {
   "cell_type": "code",
   "execution_count": 16,
   "metadata": {},
   "outputs": [],
   "source": [
    "kombinacje=[]\n",
    "nazwy_kolumn=caly_df.columns\n",
    "dictionary = dict(zip(nazwy_kolumn, selector2.ranking_))\n",
    "dictionary= dict(sorted(dictionary.items(), key=lambda item: item[1]))"
   ]
  },
  {
   "cell_type": "code",
   "execution_count": 17,
   "metadata": {},
   "outputs": [],
   "source": [
    "caly_df_zapas=caly_df"
   ]
  },
  {
   "cell_type": "code",
   "execution_count": 18,
   "metadata": {},
   "outputs": [],
   "source": [
    "nazwy_kolumn_2=[]\n",
    "for x in dictionary.keys():\n",
    "    nazwy_kolumn_2.append(x)"
   ]
  },
  {
   "cell_type": "code",
   "execution_count": 19,
   "metadata": {},
   "outputs": [
    {
     "name": "stdout",
     "output_type": "stream",
     "text": [
      "17 \n",
      " ['PP', 'CRk', 'kg ml', 'PI-PLOD', 'IP', 'w', 'kg tł', 'CRj', 'nr', '% bi', 'PI-POKR', 'Prc', 'Psm', 'Pnr', 'WH-KSOM', 'rc', 'WH-DLUG', '% tł']\n"
     ]
    }
   ],
   "source": [
    "\n",
    "    \n",
    "dane_do_porownania=pd.DataFrame(columns=[\"Liczba zmiennych\",\n",
    "                                    \"Błąd\"]\n",
    "                                )\n",
    "glowne_wyniki=[]\n",
    "glowne_zmienne=[]\n",
    "for i in range(0,len(nazwy_kolumn_2)):\n",
    "    zmienne=[]\n",
    "    for q in range(0,i+1):\n",
    "        zmienne.append(nazwy_kolumn_2[q])\n",
    "    kombinacje.append(zmienne)\n",
    "    data_frame=caly_df_zapas[zmienne]\n",
    "    kfold = KFold(n_splits=5, shuffle=False)\n",
    "\n",
    "    data_frame = np.array(data_frame)\n",
    "    caly_label = np.array(caly_label)\n",
    "    \n",
    "    wyniki=[]\n",
    "    \n",
    "    for train, test in kfold.split(data_frame, caly_label):\n",
    "        reg = GradientBoostingRegressor()\n",
    "        reg.fit(data_frame[train], caly_label[train])\n",
    "        predykcje=reg.predict(data_frame[test])\n",
    "        \n",
    "        dane_folda=pd.DataFrame({\"pred\": predykcje.ravel(),\n",
    "                                    \"obs\": caly_label[test]\n",
    "                                })\n",
    "        \n",
    "        dane_folda['blad']=abs(dane_folda['obs']-dane_folda['pred'])\n",
    "        mae=dane_folda['blad'].sum()/len(dane_folda['blad'])\n",
    "        wyniki.append(mae)\n",
    "        \n",
    "    wynik=sum(wyniki)/len(wyniki)\n",
    "    glowne_wyniki.append(wynik)\n",
    "    glowne_zmienne.append(i)\n",
    "    \n",
    "dane_do_porownania[\"Liczba zmiennych\"]=glowne_zmienne\n",
    "dane_do_porownania[\"Błąd\"]=glowne_wyniki\n",
    "\n",
    "index=list(dane_do_porownania[\"Błąd\"]).index(min(list(dane_do_porownania[\"Błąd\"])))\n",
    "\n",
    "print(index,\"\\n\",kombinacje[index])"
   ]
  },
  {
   "cell_type": "code",
   "execution_count": 20,
   "metadata": {},
   "outputs": [
    {
     "data": {
      "text/plain": [
       "18"
      ]
     },
     "execution_count": 20,
     "metadata": {},
     "output_type": "execute_result"
    }
   ],
   "source": [
    "len(kombinacje[index])"
   ]
  },
  {
   "cell_type": "code",
   "execution_count": 21,
   "metadata": {},
   "outputs": [
    {
     "data": {
      "image/png": "[encoded data removed]",
      "text/plain": [
       "<Figure size 432x288 with 1 Axes>"
      ]
     },
     "metadata": {
      "needs_background": "light"
     },
     "output_type": "display_data"
    }
   ],
   "source": [
    "plt.plot(list(dane_do_porownania[\"Błąd\"]))\n",
    "plt.axvline(x=list(dane_do_porownania[\"Błąd\"]).index(min(list(dane_do_porownania[\"Błąd\"]))), color='r', linestyle='-')\n",
    "plt.xlabel(\"Number of features\")\n",
    "plt.ylabel(\"MAE of OMC\")\n",
    "plt.title(\"Gradient Boosting\")\n",
    "plt.show()"
   ]
  },
  {
   "cell_type": "code",
   "execution_count": 22,
   "metadata": {},
   "outputs": [],
   "source": [
    "dane_do_porownania.to_csv('Wyniki REFCV GradientBoosting OMC.csv',index=False)"
   ]
  },
  {
   "cell_type": "code",
   "execution_count": 38,
   "metadata": {
    "scrolled": true
   },
   "outputs": [
    {
     "data": {
      "text/plain": [
       "['PP',\n",
       " 'CRk',\n",
       " 'kg ml',\n",
       " 'PI-PLOD',\n",
       " 'IP',\n",
       " 'w',\n",
       " 'kg tł',\n",
       " 'CRj',\n",
       " 'nr',\n",
       " '% bi',\n",
       " 'PI-POKR',\n",
       " 'Prc',\n",
       " 'Psm',\n",
       " 'Pnr',\n",
       " 'WH-KSOM',\n",
       " 'rc',\n",
       " 'WH-DLUG',\n",
       " '% tł']"
      ]
     },
     "execution_count": 38,
     "metadata": {},
     "output_type": "execute_result"
    }
   ],
   "source": [
    "kombinacje[index]"
   ]
  },
  {
   "cell_type": "code",
   "execution_count": 39,
   "metadata": {},
   "outputs": [],
   "source": [
    "zestaw_caly=caly_df_zapas\n",
    "zestaw_17=caly_df_zapas[kombinacje[17]]\n",
    "\n",
    "zestaw_caly = np.array(zestaw_caly)\n",
    "zestaw_17 = np.array(zestaw_17)\n",
    "\n",
    "caly_label = np.array(caly_label)"
   ]
  },
  {
   "cell_type": "markdown",
   "metadata": {},
   "source": [
    "## 8.2 GradientBoosting - hiperparametry Wszystkie"
   ]
  },
  {
   "cell_type": "markdown",
   "metadata": {},
   "source": [
    "## 8.2.1 GradientBoosting - hiperparametry Wszystkie part 1"
   ]
  },
  {
   "cell_type": "code",
   "execution_count": 40,
   "metadata": {},
   "outputs": [],
   "source": [
    "param_grid = {\n",
    "    'criterion':['friedman_mse'],#\n",
    "    'min_samples_split':range(5,21,5), #\n",
    "    'min_samples_leaf': range(5,21,5),     #\n",
    "    'max_leaf_nodes':range(5,21,5), #\n",
    "    'max_depth':list(range(5, 21,5)), #\n",
    "    'n_estimators':[100] #\n",
    "}"
   ]
  },
  {
   "cell_type": "code",
   "execution_count": 41,
   "metadata": {},
   "outputs": [
    {
     "name": "stdout",
     "output_type": "stream",
     "text": [
      "Fitting 2 folds for each of 256 candidates, totalling 512 fits\n"
     ]
    },
    {
     "data": {
      "text/plain": [
       "GridSearchCV(cv=2, estimator=GradientBoostingRegressor(), n_jobs=1,\n",
       "             param_grid={'criterion': ['friedman_mse'],\n",
       "                         'max_depth': [5, 10, 15, 20],\n",
       "                         'max_leaf_nodes': range(5, 21, 5),\n",
       "                         'min_samples_leaf': range(5, 21, 5),\n",
       "                         'min_samples_split': range(5, 21, 5),\n",
       "                         'n_estimators': [100]},\n",
       "             scoring='neg_mean_absolute_error', verbose=1)"
      ]
     },
     "execution_count": 41,
     "metadata": {},
     "output_type": "execute_result"
    }
   ],
   "source": [
    "Grb_1 = GradientBoostingRegressor()\n",
    "grid_search_2 = GridSearchCV(estimator = Grb_1, param_grid = param_grid, \n",
    "                          cv = 2, n_jobs = 1, verbose = 1,scoring='neg_mean_absolute_error')\n",
    "grid_search_2.fit(zestaw_caly, np.ravel(caly_label))"
   ]
  },
  {
   "cell_type": "code",
   "execution_count": 42,
   "metadata": {},
   "outputs": [
    {
     "data": {
      "text/plain": [
       "GradientBoostingRegressor(max_depth=20, max_leaf_nodes=20, min_samples_leaf=10,\n",
       "                          min_samples_split=15)"
      ]
     },
     "execution_count": 42,
     "metadata": {},
     "output_type": "execute_result"
    }
   ],
   "source": [
    "grid_search_2.best_estimator_"
   ]
  },
  {
   "cell_type": "code",
   "execution_count": 43,
   "metadata": {},
   "outputs": [
    {
     "data": {
      "text/plain": [
       "-1.2233186066899198"
      ]
     },
     "execution_count": 43,
     "metadata": {},
     "output_type": "execute_result"
    }
   ],
   "source": [
    "grid_search_2.best_score_"
   ]
  },
  {
   "cell_type": "markdown",
   "metadata": {},
   "source": [
    "## 8.2.2 GradientBoosting - hiperparametry Wszystkie part 2"
   ]
  },
  {
   "cell_type": "code",
   "execution_count": 49,
   "metadata": {},
   "outputs": [],
   "source": [
    "param_grid = {\n",
    "    'criterion':['friedman_mse'],#\n",
    "    'min_samples_split':range(14,18,1), #\n",
    "    'min_samples_leaf': range(19,32,4),     #\n",
    "    'max_leaf_nodes':range(19,32,4), #\n",
    "    'max_depth':range(20, 26,1), #\n",
    "    'n_estimators':[100] #\n",
    "}"
   ]
  },
  {
   "cell_type": "code",
   "execution_count": 50,
   "metadata": {
    "scrolled": true
   },
   "outputs": [
    {
     "name": "stdout",
     "output_type": "stream",
     "text": [
      "Fitting 2 folds for each of 384 candidates, totalling 768 fits\n",
      "[CV] END criterion=friedman_mse, max_depth=20, max_leaf_nodes=19, min_samples_leaf=19, min_samples_split=14, n_estimators=100; total time=   0.6s\n",
      "[CV] END criterion=friedman_mse, max_depth=20, max_leaf_nodes=19, min_samples_leaf=19, min_samples_split=14, n_estimators=100; total time=   0.6s\n",
      "[CV] END criterion=friedman_mse, max_depth=20, max_leaf_nodes=19, min_samples_leaf=19, min_samples_split=15, n_estimators=100; total time=   0.6s\n",
      "[CV] END criterion=friedman_mse, max_depth=20, max_leaf_nodes=19, min_samples_leaf=19, min_samples_split=15, n_estimators=100; total time=   0.5s\n",
      "[CV] END criterion=friedman_mse, max_depth=20, max_leaf_nodes=19, min_samples_leaf=19, min_samples_split=16, n_estimators=100; total time=   0.6s\n",
      "[CV] END criterion=friedman_mse, max_depth=20, max_leaf_nodes=19, min_samples_leaf=19, min_samples_split=16, n_estimators=100; total time=   0.5s\n",
      "[CV] END criterion=friedman_mse, max_depth=20, max_leaf_nodes=19, min_samples_leaf=19, min_samples_split=17, n_estimators=100; total time=   0.6s\n",
      "[CV] END criterion=friedman_mse, max_depth=20, max_leaf_nodes=19, min_samples_leaf=19, min_samples_split=17, n_estimators=100; total time=   0.6s\n",
      "[CV] END criterion=friedman_mse, max_depth=20, max_leaf_nodes=19, min_samples_leaf=23, min_samples_split=14, n_estimators=100; total time=   0.6s\n",
      "[CV] END criterion=friedman_mse, max_depth=20, max_leaf_nodes=19, min_samples_leaf=23, min_samples_split=14, n_estimators=100; total time=   0.5s\n",
      "[CV] END criterion=friedman_mse, max_depth=20, max_leaf_nodes=19, min_samples_leaf=23, min_samples_split=15, n_estimators=100; total time=   0.6s\n",
      "[CV] END criterion=friedman_mse, max_depth=20, max_leaf_nodes=19, min_samples_leaf=23, min_samples_split=15, n_estimators=100; total time=   0.5s\n",
      "[CV] END criterion=friedman_mse, max_depth=20, max_leaf_nodes=19, min_samples_leaf=23, min_samples_split=16, n_estimators=100; total time=   0.6s\n",
      "[CV] END criterion=friedman_mse, max_depth=20, max_leaf_nodes=19, min_samples_leaf=23, min_samples_split=16, n_estimators=100; total time=   0.5s\n",
      "[CV] END criterion=friedman_mse, max_depth=20, max_leaf_nodes=19, min_samples_leaf=23, min_samples_split=17, n_estimators=100; total time=   0.6s\n",
      "[CV] END criterion=friedman_mse, max_depth=20, max_leaf_nodes=19, min_samples_leaf=23, min_samples_split=17, n_estimators=100; total time=   0.5s\n",
      "[CV] END criterion=friedman_mse, max_depth=20, max_leaf_nodes=19, min_samples_leaf=27, min_samples_split=14, n_estimators=100; total time=   0.5s\n",
      "[CV] END criterion=friedman_mse, max_depth=20, max_leaf_nodes=19, min_samples_leaf=27, min_samples_split=14, n_estimators=100; total time=   0.5s\n",
      "[CV] END criterion=friedman_mse, max_depth=20, max_leaf_nodes=19, min_samples_leaf=27, min_samples_split=15, n_estimators=100; total time=   0.5s\n",
      "[CV] END criterion=friedman_mse, max_depth=20, max_leaf_nodes=19, min_samples_leaf=27, min_samples_split=15, n_estimators=100; total time=   0.5s\n",
      "[CV] END criterion=friedman_mse, max_depth=20, max_leaf_nodes=19, min_samples_leaf=27, min_samples_split=16, n_estimators=100; total time=   0.5s\n",
      "[CV] END criterion=friedman_mse, max_depth=20, max_leaf_nodes=19, min_samples_leaf=27, min_samples_split=16, n_estimators=100; total time=   0.6s\n",
      "[CV] END criterion=friedman_mse, max_depth=20, max_leaf_nodes=19, min_samples_leaf=27, min_samples_split=17, n_estimators=100; total time=   0.5s\n",
      "[CV] END criterion=friedman_mse, max_depth=20, max_leaf_nodes=19, min_samples_leaf=27, min_samples_split=17, n_estimators=100; total time=   0.5s\n",
      "[CV] END criterion=friedman_mse, max_depth=20, max_leaf_nodes=19, min_samples_leaf=31, min_samples_split=14, n_estimators=100; total time=   0.5s\n",
      "[CV] END criterion=friedman_mse, max_depth=20, max_leaf_nodes=19, min_samples_leaf=31, min_samples_split=14, n_estimators=100; total time=   0.5s\n",
      "[CV] END criterion=friedman_mse, max_depth=20, max_leaf_nodes=19, min_samples_leaf=31, min_samples_split=15, n_estimators=100; total time=   0.5s\n",
      "[CV] END criterion=friedman_mse, max_depth=20, max_leaf_nodes=19, min_samples_leaf=31, min_samples_split=15, n_estimators=100; total time=   0.5s\n",
      "[CV] END criterion=friedman_mse, max_depth=20, max_leaf_nodes=19, min_samples_leaf=31, min_samples_split=16, n_estimators=100; total time=   0.5s\n",
      "[CV] END criterion=friedman_mse, max_depth=20, max_leaf_nodes=19, min_samples_leaf=31, min_samples_split=16, n_estimators=100; total time=   0.5s\n",
      "[CV] END criterion=friedman_mse, max_depth=20, max_leaf_nodes=19, min_samples_leaf=31, min_samples_split=17, n_estimators=100; total time=   0.5s\n",
      "[CV] END criterion=friedman_mse, max_depth=20, max_leaf_nodes=19, min_samples_leaf=31, min_samples_split=17, n_estimators=100; total time=   0.5s\n",
      "[CV] END criterion=friedman_mse, max_depth=20, max_leaf_nodes=23, min_samples_leaf=19, min_samples_split=14, n_estimators=100; total time=   0.6s\n",
      "[CV] END criterion=friedman_mse, max_depth=20, max_leaf_nodes=23, min_samples_leaf=19, min_samples_split=14, n_estimators=100; total time=   0.6s\n",
      "[CV] END criterion=friedman_mse, max_depth=20, max_leaf_nodes=23, min_samples_leaf=19, min_samples_split=15, n_estimators=100; total time=   0.6s\n",
      "[CV] END criterion=friedman_mse, max_depth=20, max_leaf_nodes=23, min_samples_leaf=19, min_samples_split=15, n_estimators=100; total time=   0.6s\n",
      "[CV] END criterion=friedman_mse, max_depth=20, max_leaf_nodes=23, min_samples_leaf=19, min_samples_split=16, n_estimators=100; total time=   0.6s\n",
      "[CV] END criterion=friedman_mse, max_depth=20, max_leaf_nodes=23, min_samples_leaf=19, min_samples_split=16, n_estimators=100; total time=   0.6s\n",
      "[CV] END criterion=friedman_mse, max_depth=20, max_leaf_nodes=23, min_samples_leaf=19, min_samples_split=17, n_estimators=100; total time=   0.6s\n",
      "[CV] END criterion=friedman_mse, max_depth=20, max_leaf_nodes=23, min_samples_leaf=19, min_samples_split=17, n_estimators=100; total time=   0.6s\n",
      "[CV] END criterion=friedman_mse, max_depth=20, max_leaf_nodes=23, min_samples_leaf=23, min_samples_split=14, n_estimators=100; total time=   0.6s\n",
      "[CV] END criterion=friedman_mse, max_depth=20, max_leaf_nodes=23, min_samples_leaf=23, min_samples_split=14, n_estimators=100; total time=   0.6s\n",
      "[CV] END criterion=friedman_mse, max_depth=20, max_leaf_nodes=23, min_samples_leaf=23, min_samples_split=15, n_estimators=100; total time=   0.6s\n",
      "[CV] END criterion=friedman_mse, max_depth=20, max_leaf_nodes=23, min_samples_leaf=23, min_samples_split=15, n_estimators=100; total time=   0.6s\n",
      "[CV] END criterion=friedman_mse, max_depth=20, max_leaf_nodes=23, min_samples_leaf=23, min_samples_split=16, n_estimators=100; total time=   0.6s\n",
      "[CV] END criterion=friedman_mse, max_depth=20, max_leaf_nodes=23, min_samples_leaf=23, min_samples_split=16, n_estimators=100; total time=   0.6s\n",
      "[CV] END criterion=friedman_mse, max_depth=20, max_leaf_nodes=23, min_samples_leaf=23, min_samples_split=17, n_estimators=100; total time=   0.6s\n",
      "[CV] END criterion=friedman_mse, max_depth=20, max_leaf_nodes=23, min_samples_leaf=23, min_samples_split=17, n_estimators=100; total time=   0.6s\n",
      "[CV] END criterion=friedman_mse, max_depth=20, max_leaf_nodes=23, min_samples_leaf=27, min_samples_split=14, n_estimators=100; total time=   0.6s\n",
      "[CV] END criterion=friedman_mse, max_depth=20, max_leaf_nodes=23, min_samples_leaf=27, min_samples_split=14, n_estimators=100; total time=   0.6s\n",
      "[CV] END criterion=friedman_mse, max_depth=20, max_leaf_nodes=23, min_samples_leaf=27, min_samples_split=15, n_estimators=100; total time=   0.6s\n",
      "[CV] END criterion=friedman_mse, max_depth=20, max_leaf_nodes=23, min_samples_leaf=27, min_samples_split=15, n_estimators=100; total time=   0.6s\n",
      "[CV] END criterion=friedman_mse, max_depth=20, max_leaf_nodes=23, min_samples_leaf=27, min_samples_split=16, n_estimators=100; total time=   0.6s\n",
      "[CV] END criterion=friedman_mse, max_depth=20, max_leaf_nodes=23, min_samples_leaf=27, min_samples_split=16, n_estimators=100; total time=   0.6s\n",
      "[CV] END criterion=friedman_mse, max_depth=20, max_leaf_nodes=23, min_samples_leaf=27, min_samples_split=17, n_estimators=100; total time=   0.6s\n",
      "[CV] END criterion=friedman_mse, max_depth=20, max_leaf_nodes=23, min_samples_leaf=27, min_samples_split=17, n_estimators=100; total time=   0.6s\n"
     ]
    },
    {
     "name": "stdout",
     "output_type": "stream",
     "text": [
      "[CV] END criterion=friedman_mse, max_depth=20, max_leaf_nodes=23, min_samples_leaf=31, min_samples_split=14, n_estimators=100; total time=   0.6s\n",
      "[CV] END criterion=friedman_mse, max_depth=20, max_leaf_nodes=23, min_samples_leaf=31, min_samples_split=14, n_estimators=100; total time=   0.6s\n",
      "[CV] END criterion=friedman_mse, max_depth=20, max_leaf_nodes=23, min_samples_leaf=31, min_samples_split=15, n_estimators=100; total time=   0.6s\n",
      "[CV] END criterion=friedman_mse, max_depth=20, max_leaf_nodes=23, min_samples_leaf=31, min_samples_split=15, n_estimators=100; total time=   0.5s\n",
      "[CV] END criterion=friedman_mse, max_depth=20, max_leaf_nodes=23, min_samples_leaf=31, min_samples_split=16, n_estimators=100; total time=   0.6s\n",
      "[CV] END criterion=friedman_mse, max_depth=20, max_leaf_nodes=23, min_samples_leaf=31, min_samples_split=16, n_estimators=100; total time=   0.5s\n",
      "[CV] END criterion=friedman_mse, max_depth=20, max_leaf_nodes=23, min_samples_leaf=31, min_samples_split=17, n_estimators=100; total time=   0.6s\n",
      "[CV] END criterion=friedman_mse, max_depth=20, max_leaf_nodes=23, min_samples_leaf=31, min_samples_split=17, n_estimators=100; total time=   0.5s\n",
      "[CV] END criterion=friedman_mse, max_depth=20, max_leaf_nodes=27, min_samples_leaf=19, min_samples_split=14, n_estimators=100; total time=   0.7s\n",
      "[CV] END criterion=friedman_mse, max_depth=20, max_leaf_nodes=27, min_samples_leaf=19, min_samples_split=14, n_estimators=100; total time=   0.7s\n",
      "[CV] END criterion=friedman_mse, max_depth=20, max_leaf_nodes=27, min_samples_leaf=19, min_samples_split=15, n_estimators=100; total time=   0.7s\n",
      "[CV] END criterion=friedman_mse, max_depth=20, max_leaf_nodes=27, min_samples_leaf=19, min_samples_split=15, n_estimators=100; total time=   0.7s\n",
      "[CV] END criterion=friedman_mse, max_depth=20, max_leaf_nodes=27, min_samples_leaf=19, min_samples_split=16, n_estimators=100; total time=   0.7s\n",
      "[CV] END criterion=friedman_mse, max_depth=20, max_leaf_nodes=27, min_samples_leaf=19, min_samples_split=16, n_estimators=100; total time=   0.7s\n",
      "[CV] END criterion=friedman_mse, max_depth=20, max_leaf_nodes=27, min_samples_leaf=19, min_samples_split=17, n_estimators=100; total time=   0.7s\n",
      "[CV] END criterion=friedman_mse, max_depth=20, max_leaf_nodes=27, min_samples_leaf=19, min_samples_split=17, n_estimators=100; total time=   0.7s\n",
      "[CV] END criterion=friedman_mse, max_depth=20, max_leaf_nodes=27, min_samples_leaf=23, min_samples_split=14, n_estimators=100; total time=   0.6s\n",
      "[CV] END criterion=friedman_mse, max_depth=20, max_leaf_nodes=27, min_samples_leaf=23, min_samples_split=14, n_estimators=100; total time=   0.6s\n",
      "[CV] END criterion=friedman_mse, max_depth=20, max_leaf_nodes=27, min_samples_leaf=23, min_samples_split=15, n_estimators=100; total time=   0.6s\n",
      "[CV] END criterion=friedman_mse, max_depth=20, max_leaf_nodes=27, min_samples_leaf=23, min_samples_split=15, n_estimators=100; total time=   0.7s\n",
      "[CV] END criterion=friedman_mse, max_depth=20, max_leaf_nodes=27, min_samples_leaf=23, min_samples_split=16, n_estimators=100; total time=   0.6s\n",
      "[CV] END criterion=friedman_mse, max_depth=20, max_leaf_nodes=27, min_samples_leaf=23, min_samples_split=16, n_estimators=100; total time=   0.7s\n",
      "[CV] END criterion=friedman_mse, max_depth=20, max_leaf_nodes=27, min_samples_leaf=23, min_samples_split=17, n_estimators=100; total time=   0.6s\n",
      "[CV] END criterion=friedman_mse, max_depth=20, max_leaf_nodes=27, min_samples_leaf=23, min_samples_split=17, n_estimators=100; total time=   0.6s\n",
      "[CV] END criterion=friedman_mse, max_depth=20, max_leaf_nodes=27, min_samples_leaf=27, min_samples_split=14, n_estimators=100; total time=   0.6s\n",
      "[CV] END criterion=friedman_mse, max_depth=20, max_leaf_nodes=27, min_samples_leaf=27, min_samples_split=14, n_estimators=100; total time=   0.6s\n",
      "[CV] END criterion=friedman_mse, max_depth=20, max_leaf_nodes=27, min_samples_leaf=27, min_samples_split=15, n_estimators=100; total time=   0.6s\n",
      "[CV] END criterion=friedman_mse, max_depth=20, max_leaf_nodes=27, min_samples_leaf=27, min_samples_split=15, n_estimators=100; total time=   0.6s\n",
      "[CV] END criterion=friedman_mse, max_depth=20, max_leaf_nodes=27, min_samples_leaf=27, min_samples_split=16, n_estimators=100; total time=   0.6s\n",
      "[CV] END criterion=friedman_mse, max_depth=20, max_leaf_nodes=27, min_samples_leaf=27, min_samples_split=16, n_estimators=100; total time=   0.6s\n",
      "[CV] END criterion=friedman_mse, max_depth=20, max_leaf_nodes=27, min_samples_leaf=27, min_samples_split=17, n_estimators=100; total time=   0.6s\n",
      "[CV] END criterion=friedman_mse, max_depth=20, max_leaf_nodes=27, min_samples_leaf=27, min_samples_split=17, n_estimators=100; total time=   0.6s\n",
      "[CV] END criterion=friedman_mse, max_depth=20, max_leaf_nodes=27, min_samples_leaf=31, min_samples_split=14, n_estimators=100; total time=   0.6s\n",
      "[CV] END criterion=friedman_mse, max_depth=20, max_leaf_nodes=27, min_samples_leaf=31, min_samples_split=14, n_estimators=100; total time=   0.5s\n",
      "[CV] END criterion=friedman_mse, max_depth=20, max_leaf_nodes=27, min_samples_leaf=31, min_samples_split=15, n_estimators=100; total time=   0.6s\n",
      "[CV] END criterion=friedman_mse, max_depth=20, max_leaf_nodes=27, min_samples_leaf=31, min_samples_split=15, n_estimators=100; total time=   0.5s\n",
      "[CV] END criterion=friedman_mse, max_depth=20, max_leaf_nodes=27, min_samples_leaf=31, min_samples_split=16, n_estimators=100; total time=   0.6s\n",
      "[CV] END criterion=friedman_mse, max_depth=20, max_leaf_nodes=27, min_samples_leaf=31, min_samples_split=16, n_estimators=100; total time=   0.5s\n",
      "[CV] END criterion=friedman_mse, max_depth=20, max_leaf_nodes=27, min_samples_leaf=31, min_samples_split=17, n_estimators=100; total time=   0.6s\n",
      "[CV] END criterion=friedman_mse, max_depth=20, max_leaf_nodes=27, min_samples_leaf=31, min_samples_split=17, n_estimators=100; total time=   0.5s\n",
      "[CV] END criterion=friedman_mse, max_depth=20, max_leaf_nodes=31, min_samples_leaf=19, min_samples_split=14, n_estimators=100; total time=   0.7s\n",
      "[CV] END criterion=friedman_mse, max_depth=20, max_leaf_nodes=31, min_samples_leaf=19, min_samples_split=14, n_estimators=100; total time=   0.7s\n",
      "[CV] END criterion=friedman_mse, max_depth=20, max_leaf_nodes=31, min_samples_leaf=19, min_samples_split=15, n_estimators=100; total time=   0.7s\n",
      "[CV] END criterion=friedman_mse, max_depth=20, max_leaf_nodes=31, min_samples_leaf=19, min_samples_split=15, n_estimators=100; total time=   0.7s\n",
      "[CV] END criterion=friedman_mse, max_depth=20, max_leaf_nodes=31, min_samples_leaf=19, min_samples_split=16, n_estimators=100; total time=   0.7s\n",
      "[CV] END criterion=friedman_mse, max_depth=20, max_leaf_nodes=31, min_samples_leaf=19, min_samples_split=16, n_estimators=100; total time=   0.7s\n",
      "[CV] END criterion=friedman_mse, max_depth=20, max_leaf_nodes=31, min_samples_leaf=19, min_samples_split=17, n_estimators=100; total time=   0.7s\n",
      "[CV] END criterion=friedman_mse, max_depth=20, max_leaf_nodes=31, min_samples_leaf=19, min_samples_split=17, n_estimators=100; total time=   0.7s\n",
      "[CV] END criterion=friedman_mse, max_depth=20, max_leaf_nodes=31, min_samples_leaf=23, min_samples_split=14, n_estimators=100; total time=   0.7s\n",
      "[CV] END criterion=friedman_mse, max_depth=20, max_leaf_nodes=31, min_samples_leaf=23, min_samples_split=14, n_estimators=100; total time=   0.7s\n",
      "[CV] END criterion=friedman_mse, max_depth=20, max_leaf_nodes=31, min_samples_leaf=23, min_samples_split=15, n_estimators=100; total time=   0.6s\n",
      "[CV] END criterion=friedman_mse, max_depth=20, max_leaf_nodes=31, min_samples_leaf=23, min_samples_split=15, n_estimators=100; total time=   0.7s\n",
      "[CV] END criterion=friedman_mse, max_depth=20, max_leaf_nodes=31, min_samples_leaf=23, min_samples_split=16, n_estimators=100; total time=   0.7s\n",
      "[CV] END criterion=friedman_mse, max_depth=20, max_leaf_nodes=31, min_samples_leaf=23, min_samples_split=16, n_estimators=100; total time=   0.7s\n",
      "[CV] END criterion=friedman_mse, max_depth=20, max_leaf_nodes=31, min_samples_leaf=23, min_samples_split=17, n_estimators=100; total time=   0.6s\n",
      "[CV] END criterion=friedman_mse, max_depth=20, max_leaf_nodes=31, min_samples_leaf=23, min_samples_split=17, n_estimators=100; total time=   0.7s\n",
      "[CV] END criterion=friedman_mse, max_depth=20, max_leaf_nodes=31, min_samples_leaf=27, min_samples_split=14, n_estimators=100; total time=   0.6s\n"
     ]
    },
    {
     "name": "stdout",
     "output_type": "stream",
     "text": [
      "[CV] END criterion=friedman_mse, max_depth=20, max_leaf_nodes=31, min_samples_leaf=27, min_samples_split=14, n_estimators=100; total time=   0.6s\n",
      "[CV] END criterion=friedman_mse, max_depth=20, max_leaf_nodes=31, min_samples_leaf=27, min_samples_split=15, n_estimators=100; total time=   0.6s\n",
      "[CV] END criterion=friedman_mse, max_depth=20, max_leaf_nodes=31, min_samples_leaf=27, min_samples_split=15, n_estimators=100; total time=   0.6s\n",
      "[CV] END criterion=friedman_mse, max_depth=20, max_leaf_nodes=31, min_samples_leaf=27, min_samples_split=16, n_estimators=100; total time=   0.6s\n",
      "[CV] END criterion=friedman_mse, max_depth=20, max_leaf_nodes=31, min_samples_leaf=27, min_samples_split=16, n_estimators=100; total time=   0.6s\n",
      "[CV] END criterion=friedman_mse, max_depth=20, max_leaf_nodes=31, min_samples_leaf=27, min_samples_split=17, n_estimators=100; total time=   0.6s\n",
      "[CV] END criterion=friedman_mse, max_depth=20, max_leaf_nodes=31, min_samples_leaf=27, min_samples_split=17, n_estimators=100; total time=   0.6s\n",
      "[CV] END criterion=friedman_mse, max_depth=20, max_leaf_nodes=31, min_samples_leaf=31, min_samples_split=14, n_estimators=100; total time=   0.6s\n",
      "[CV] END criterion=friedman_mse, max_depth=20, max_leaf_nodes=31, min_samples_leaf=31, min_samples_split=14, n_estimators=100; total time=   0.5s\n",
      "[CV] END criterion=friedman_mse, max_depth=20, max_leaf_nodes=31, min_samples_leaf=31, min_samples_split=15, n_estimators=100; total time=   0.6s\n",
      "[CV] END criterion=friedman_mse, max_depth=20, max_leaf_nodes=31, min_samples_leaf=31, min_samples_split=15, n_estimators=100; total time=   0.5s\n",
      "[CV] END criterion=friedman_mse, max_depth=20, max_leaf_nodes=31, min_samples_leaf=31, min_samples_split=16, n_estimators=100; total time=   0.6s\n",
      "[CV] END criterion=friedman_mse, max_depth=20, max_leaf_nodes=31, min_samples_leaf=31, min_samples_split=16, n_estimators=100; total time=   0.5s\n",
      "[CV] END criterion=friedman_mse, max_depth=20, max_leaf_nodes=31, min_samples_leaf=31, min_samples_split=17, n_estimators=100; total time=   0.6s\n",
      "[CV] END criterion=friedman_mse, max_depth=20, max_leaf_nodes=31, min_samples_leaf=31, min_samples_split=17, n_estimators=100; total time=   0.5s\n",
      "[CV] END criterion=friedman_mse, max_depth=21, max_leaf_nodes=19, min_samples_leaf=19, min_samples_split=14, n_estimators=100; total time=   0.6s\n",
      "[CV] END criterion=friedman_mse, max_depth=21, max_leaf_nodes=19, min_samples_leaf=19, min_samples_split=14, n_estimators=100; total time=   0.5s\n",
      "[CV] END criterion=friedman_mse, max_depth=21, max_leaf_nodes=19, min_samples_leaf=19, min_samples_split=15, n_estimators=100; total time=   0.6s\n",
      "[CV] END criterion=friedman_mse, max_depth=21, max_leaf_nodes=19, min_samples_leaf=19, min_samples_split=15, n_estimators=100; total time=   0.5s\n",
      "[CV] END criterion=friedman_mse, max_depth=21, max_leaf_nodes=19, min_samples_leaf=19, min_samples_split=16, n_estimators=100; total time=   0.6s\n",
      "[CV] END criterion=friedman_mse, max_depth=21, max_leaf_nodes=19, min_samples_leaf=19, min_samples_split=16, n_estimators=100; total time=   0.6s\n",
      "[CV] END criterion=friedman_mse, max_depth=21, max_leaf_nodes=19, min_samples_leaf=19, min_samples_split=17, n_estimators=100; total time=   0.6s\n",
      "[CV] END criterion=friedman_mse, max_depth=21, max_leaf_nodes=19, min_samples_leaf=19, min_samples_split=17, n_estimators=100; total time=   0.6s\n",
      "[CV] END criterion=friedman_mse, max_depth=21, max_leaf_nodes=19, min_samples_leaf=23, min_samples_split=14, n_estimators=100; total time=   0.6s\n",
      "[CV] END criterion=friedman_mse, max_depth=21, max_leaf_nodes=19, min_samples_leaf=23, min_samples_split=14, n_estimators=100; total time=   0.5s\n",
      "[CV] END criterion=friedman_mse, max_depth=21, max_leaf_nodes=19, min_samples_leaf=23, min_samples_split=15, n_estimators=100; total time=   0.6s\n",
      "[CV] END criterion=friedman_mse, max_depth=21, max_leaf_nodes=19, min_samples_leaf=23, min_samples_split=15, n_estimators=100; total time=   0.6s\n",
      "[CV] END criterion=friedman_mse, max_depth=21, max_leaf_nodes=19, min_samples_leaf=23, min_samples_split=16, n_estimators=100; total time=   0.6s\n",
      "[CV] END criterion=friedman_mse, max_depth=21, max_leaf_nodes=19, min_samples_leaf=23, min_samples_split=16, n_estimators=100; total time=   0.5s\n",
      "[CV] END criterion=friedman_mse, max_depth=21, max_leaf_nodes=19, min_samples_leaf=23, min_samples_split=17, n_estimators=100; total time=   0.6s\n",
      "[CV] END criterion=friedman_mse, max_depth=21, max_leaf_nodes=19, min_samples_leaf=23, min_samples_split=17, n_estimators=100; total time=   0.5s\n",
      "[CV] END criterion=friedman_mse, max_depth=21, max_leaf_nodes=19, min_samples_leaf=27, min_samples_split=14, n_estimators=100; total time=   0.5s\n",
      "[CV] END criterion=friedman_mse, max_depth=21, max_leaf_nodes=19, min_samples_leaf=27, min_samples_split=14, n_estimators=100; total time=   0.5s\n",
      "[CV] END criterion=friedman_mse, max_depth=21, max_leaf_nodes=19, min_samples_leaf=27, min_samples_split=15, n_estimators=100; total time=   0.5s\n",
      "[CV] END criterion=friedman_mse, max_depth=21, max_leaf_nodes=19, min_samples_leaf=27, min_samples_split=15, n_estimators=100; total time=   0.5s\n",
      "[CV] END criterion=friedman_mse, max_depth=21, max_leaf_nodes=19, min_samples_leaf=27, min_samples_split=16, n_estimators=100; total time=   0.5s\n",
      "[CV] END criterion=friedman_mse, max_depth=21, max_leaf_nodes=19, min_samples_leaf=27, min_samples_split=16, n_estimators=100; total time=   0.5s\n",
      "[CV] END criterion=friedman_mse, max_depth=21, max_leaf_nodes=19, min_samples_leaf=27, min_samples_split=17, n_estimators=100; total time=   0.5s\n",
      "[CV] END criterion=friedman_mse, max_depth=21, max_leaf_nodes=19, min_samples_leaf=27, min_samples_split=17, n_estimators=100; total time=   0.5s\n",
      "[CV] END criterion=friedman_mse, max_depth=21, max_leaf_nodes=19, min_samples_leaf=31, min_samples_split=14, n_estimators=100; total time=   0.5s\n",
      "[CV] END criterion=friedman_mse, max_depth=21, max_leaf_nodes=19, min_samples_leaf=31, min_samples_split=14, n_estimators=100; total time=   0.5s\n",
      "[CV] END criterion=friedman_mse, max_depth=21, max_leaf_nodes=19, min_samples_leaf=31, min_samples_split=15, n_estimators=100; total time=   0.5s\n",
      "[CV] END criterion=friedman_mse, max_depth=21, max_leaf_nodes=19, min_samples_leaf=31, min_samples_split=15, n_estimators=100; total time=   0.5s\n",
      "[CV] END criterion=friedman_mse, max_depth=21, max_leaf_nodes=19, min_samples_leaf=31, min_samples_split=16, n_estimators=100; total time=   0.5s\n",
      "[CV] END criterion=friedman_mse, max_depth=21, max_leaf_nodes=19, min_samples_leaf=31, min_samples_split=16, n_estimators=100; total time=   0.5s\n",
      "[CV] END criterion=friedman_mse, max_depth=21, max_leaf_nodes=19, min_samples_leaf=31, min_samples_split=17, n_estimators=100; total time=   0.5s\n",
      "[CV] END criterion=friedman_mse, max_depth=21, max_leaf_nodes=19, min_samples_leaf=31, min_samples_split=17, n_estimators=100; total time=   0.5s\n",
      "[CV] END criterion=friedman_mse, max_depth=21, max_leaf_nodes=23, min_samples_leaf=19, min_samples_split=14, n_estimators=100; total time=   0.6s\n",
      "[CV] END criterion=friedman_mse, max_depth=21, max_leaf_nodes=23, min_samples_leaf=19, min_samples_split=14, n_estimators=100; total time=   0.6s\n",
      "[CV] END criterion=friedman_mse, max_depth=21, max_leaf_nodes=23, min_samples_leaf=19, min_samples_split=15, n_estimators=100; total time=   0.6s\n",
      "[CV] END criterion=friedman_mse, max_depth=21, max_leaf_nodes=23, min_samples_leaf=19, min_samples_split=15, n_estimators=100; total time=   0.6s\n",
      "[CV] END criterion=friedman_mse, max_depth=21, max_leaf_nodes=23, min_samples_leaf=19, min_samples_split=16, n_estimators=100; total time=   0.6s\n",
      "[CV] END criterion=friedman_mse, max_depth=21, max_leaf_nodes=23, min_samples_leaf=19, min_samples_split=16, n_estimators=100; total time=   0.6s\n",
      "[CV] END criterion=friedman_mse, max_depth=21, max_leaf_nodes=23, min_samples_leaf=19, min_samples_split=17, n_estimators=100; total time=   0.6s\n",
      "[CV] END criterion=friedman_mse, max_depth=21, max_leaf_nodes=23, min_samples_leaf=19, min_samples_split=17, n_estimators=100; total time=   0.6s\n",
      "[CV] END criterion=friedman_mse, max_depth=21, max_leaf_nodes=23, min_samples_leaf=23, min_samples_split=14, n_estimators=100; total time=   0.6s\n",
      "[CV] END criterion=friedman_mse, max_depth=21, max_leaf_nodes=23, min_samples_leaf=23, min_samples_split=14, n_estimators=100; total time=   0.6s\n"
     ]
    },
    {
     "name": "stdout",
     "output_type": "stream",
     "text": [
      "[CV] END criterion=friedman_mse, max_depth=21, max_leaf_nodes=23, min_samples_leaf=23, min_samples_split=15, n_estimators=100; total time=   0.6s\n",
      "[CV] END criterion=friedman_mse, max_depth=21, max_leaf_nodes=23, min_samples_leaf=23, min_samples_split=15, n_estimators=100; total time=   0.6s\n",
      "[CV] END criterion=friedman_mse, max_depth=21, max_leaf_nodes=23, min_samples_leaf=23, min_samples_split=16, n_estimators=100; total time=   0.6s\n",
      "[CV] END criterion=friedman_mse, max_depth=21, max_leaf_nodes=23, min_samples_leaf=23, min_samples_split=16, n_estimators=100; total time=   0.6s\n",
      "[CV] END criterion=friedman_mse, max_depth=21, max_leaf_nodes=23, min_samples_leaf=23, min_samples_split=17, n_estimators=100; total time=   0.6s\n",
      "[CV] END criterion=friedman_mse, max_depth=21, max_leaf_nodes=23, min_samples_leaf=23, min_samples_split=17, n_estimators=100; total time=   0.6s\n",
      "[CV] END criterion=friedman_mse, max_depth=21, max_leaf_nodes=23, min_samples_leaf=27, min_samples_split=14, n_estimators=100; total time=   0.6s\n",
      "[CV] END criterion=friedman_mse, max_depth=21, max_leaf_nodes=23, min_samples_leaf=27, min_samples_split=14, n_estimators=100; total time=   0.6s\n",
      "[CV] END criterion=friedman_mse, max_depth=21, max_leaf_nodes=23, min_samples_leaf=27, min_samples_split=15, n_estimators=100; total time=   0.6s\n",
      "[CV] END criterion=friedman_mse, max_depth=21, max_leaf_nodes=23, min_samples_leaf=27, min_samples_split=15, n_estimators=100; total time=   0.6s\n",
      "[CV] END criterion=friedman_mse, max_depth=21, max_leaf_nodes=23, min_samples_leaf=27, min_samples_split=16, n_estimators=100; total time=   0.6s\n",
      "[CV] END criterion=friedman_mse, max_depth=21, max_leaf_nodes=23, min_samples_leaf=27, min_samples_split=16, n_estimators=100; total time=   0.6s\n",
      "[CV] END criterion=friedman_mse, max_depth=21, max_leaf_nodes=23, min_samples_leaf=27, min_samples_split=17, n_estimators=100; total time=   0.6s\n",
      "[CV] END criterion=friedman_mse, max_depth=21, max_leaf_nodes=23, min_samples_leaf=27, min_samples_split=17, n_estimators=100; total time=   0.6s\n",
      "[CV] END criterion=friedman_mse, max_depth=21, max_leaf_nodes=23, min_samples_leaf=31, min_samples_split=14, n_estimators=100; total time=   0.6s\n",
      "[CV] END criterion=friedman_mse, max_depth=21, max_leaf_nodes=23, min_samples_leaf=31, min_samples_split=14, n_estimators=100; total time=   0.5s\n",
      "[CV] END criterion=friedman_mse, max_depth=21, max_leaf_nodes=23, min_samples_leaf=31, min_samples_split=15, n_estimators=100; total time=   0.6s\n",
      "[CV] END criterion=friedman_mse, max_depth=21, max_leaf_nodes=23, min_samples_leaf=31, min_samples_split=15, n_estimators=100; total time=   0.6s\n",
      "[CV] END criterion=friedman_mse, max_depth=21, max_leaf_nodes=23, min_samples_leaf=31, min_samples_split=16, n_estimators=100; total time=   0.6s\n",
      "[CV] END criterion=friedman_mse, max_depth=21, max_leaf_nodes=23, min_samples_leaf=31, min_samples_split=16, n_estimators=100; total time=   0.5s\n",
      "[CV] END criterion=friedman_mse, max_depth=21, max_leaf_nodes=23, min_samples_leaf=31, min_samples_split=17, n_estimators=100; total time=   0.6s\n",
      "[CV] END criterion=friedman_mse, max_depth=21, max_leaf_nodes=23, min_samples_leaf=31, min_samples_split=17, n_estimators=100; total time=   0.5s\n",
      "[CV] END criterion=friedman_mse, max_depth=21, max_leaf_nodes=27, min_samples_leaf=19, min_samples_split=14, n_estimators=100; total time=   0.7s\n",
      "[CV] END criterion=friedman_mse, max_depth=21, max_leaf_nodes=27, min_samples_leaf=19, min_samples_split=14, n_estimators=100; total time=   0.7s\n",
      "[CV] END criterion=friedman_mse, max_depth=21, max_leaf_nodes=27, min_samples_leaf=19, min_samples_split=15, n_estimators=100; total time=   0.7s\n",
      "[CV] END criterion=friedman_mse, max_depth=21, max_leaf_nodes=27, min_samples_leaf=19, min_samples_split=15, n_estimators=100; total time=   0.7s\n",
      "[CV] END criterion=friedman_mse, max_depth=21, max_leaf_nodes=27, min_samples_leaf=19, min_samples_split=16, n_estimators=100; total time=   0.7s\n",
      "[CV] END criterion=friedman_mse, max_depth=21, max_leaf_nodes=27, min_samples_leaf=19, min_samples_split=16, n_estimators=100; total time=   0.7s\n",
      "[CV] END criterion=friedman_mse, max_depth=21, max_leaf_nodes=27, min_samples_leaf=19, min_samples_split=17, n_estimators=100; total time=   0.7s\n",
      "[CV] END criterion=friedman_mse, max_depth=21, max_leaf_nodes=27, min_samples_leaf=19, min_samples_split=17, n_estimators=100; total time=   0.7s\n",
      "[CV] END criterion=friedman_mse, max_depth=21, max_leaf_nodes=27, min_samples_leaf=23, min_samples_split=14, n_estimators=100; total time=   0.6s\n",
      "[CV] END criterion=friedman_mse, max_depth=21, max_leaf_nodes=27, min_samples_leaf=23, min_samples_split=14, n_estimators=100; total time=   0.6s\n",
      "[CV] END criterion=friedman_mse, max_depth=21, max_leaf_nodes=27, min_samples_leaf=23, min_samples_split=15, n_estimators=100; total time=   0.6s\n",
      "[CV] END criterion=friedman_mse, max_depth=21, max_leaf_nodes=27, min_samples_leaf=23, min_samples_split=15, n_estimators=100; total time=   0.6s\n",
      "[CV] END criterion=friedman_mse, max_depth=21, max_leaf_nodes=27, min_samples_leaf=23, min_samples_split=16, n_estimators=100; total time=   0.6s\n",
      "[CV] END criterion=friedman_mse, max_depth=21, max_leaf_nodes=27, min_samples_leaf=23, min_samples_split=16, n_estimators=100; total time=   0.7s\n",
      "[CV] END criterion=friedman_mse, max_depth=21, max_leaf_nodes=27, min_samples_leaf=23, min_samples_split=17, n_estimators=100; total time=   0.6s\n",
      "[CV] END criterion=friedman_mse, max_depth=21, max_leaf_nodes=27, min_samples_leaf=23, min_samples_split=17, n_estimators=100; total time=   0.6s\n",
      "[CV] END criterion=friedman_mse, max_depth=21, max_leaf_nodes=27, min_samples_leaf=27, min_samples_split=14, n_estimators=100; total time=   0.6s\n",
      "[CV] END criterion=friedman_mse, max_depth=21, max_leaf_nodes=27, min_samples_leaf=27, min_samples_split=14, n_estimators=100; total time=   0.6s\n",
      "[CV] END criterion=friedman_mse, max_depth=21, max_leaf_nodes=27, min_samples_leaf=27, min_samples_split=15, n_estimators=100; total time=   0.6s\n",
      "[CV] END criterion=friedman_mse, max_depth=21, max_leaf_nodes=27, min_samples_leaf=27, min_samples_split=15, n_estimators=100; total time=   0.6s\n",
      "[CV] END criterion=friedman_mse, max_depth=21, max_leaf_nodes=27, min_samples_leaf=27, min_samples_split=16, n_estimators=100; total time=   0.6s\n",
      "[CV] END criterion=friedman_mse, max_depth=21, max_leaf_nodes=27, min_samples_leaf=27, min_samples_split=16, n_estimators=100; total time=   0.6s\n",
      "[CV] END criterion=friedman_mse, max_depth=21, max_leaf_nodes=27, min_samples_leaf=27, min_samples_split=17, n_estimators=100; total time=   0.6s\n",
      "[CV] END criterion=friedman_mse, max_depth=21, max_leaf_nodes=27, min_samples_leaf=27, min_samples_split=17, n_estimators=100; total time=   0.6s\n",
      "[CV] END criterion=friedman_mse, max_depth=21, max_leaf_nodes=27, min_samples_leaf=31, min_samples_split=14, n_estimators=100; total time=   0.6s\n",
      "[CV] END criterion=friedman_mse, max_depth=21, max_leaf_nodes=27, min_samples_leaf=31, min_samples_split=14, n_estimators=100; total time=   0.5s\n",
      "[CV] END criterion=friedman_mse, max_depth=21, max_leaf_nodes=27, min_samples_leaf=31, min_samples_split=15, n_estimators=100; total time=   0.6s\n",
      "[CV] END criterion=friedman_mse, max_depth=21, max_leaf_nodes=27, min_samples_leaf=31, min_samples_split=15, n_estimators=100; total time=   0.5s\n",
      "[CV] END criterion=friedman_mse, max_depth=21, max_leaf_nodes=27, min_samples_leaf=31, min_samples_split=16, n_estimators=100; total time=   0.6s\n",
      "[CV] END criterion=friedman_mse, max_depth=21, max_leaf_nodes=27, min_samples_leaf=31, min_samples_split=16, n_estimators=100; total time=   0.5s\n",
      "[CV] END criterion=friedman_mse, max_depth=21, max_leaf_nodes=27, min_samples_leaf=31, min_samples_split=17, n_estimators=100; total time=   0.6s\n",
      "[CV] END criterion=friedman_mse, max_depth=21, max_leaf_nodes=27, min_samples_leaf=31, min_samples_split=17, n_estimators=100; total time=   0.5s\n",
      "[CV] END criterion=friedman_mse, max_depth=21, max_leaf_nodes=31, min_samples_leaf=19, min_samples_split=14, n_estimators=100; total time=   0.7s\n",
      "[CV] END criterion=friedman_mse, max_depth=21, max_leaf_nodes=31, min_samples_leaf=19, min_samples_split=14, n_estimators=100; total time=   0.7s\n",
      "[CV] END criterion=friedman_mse, max_depth=21, max_leaf_nodes=31, min_samples_leaf=19, min_samples_split=15, n_estimators=100; total time=   0.7s\n"
     ]
    },
    {
     "name": "stdout",
     "output_type": "stream",
     "text": [
      "[CV] END criterion=friedman_mse, max_depth=21, max_leaf_nodes=31, min_samples_leaf=19, min_samples_split=15, n_estimators=100; total time=   0.7s\n",
      "[CV] END criterion=friedman_mse, max_depth=21, max_leaf_nodes=31, min_samples_leaf=19, min_samples_split=16, n_estimators=100; total time=   0.7s\n",
      "[CV] END criterion=friedman_mse, max_depth=21, max_leaf_nodes=31, min_samples_leaf=19, min_samples_split=16, n_estimators=100; total time=   0.7s\n",
      "[CV] END criterion=friedman_mse, max_depth=21, max_leaf_nodes=31, min_samples_leaf=19, min_samples_split=17, n_estimators=100; total time=   0.7s\n",
      "[CV] END criterion=friedman_mse, max_depth=21, max_leaf_nodes=31, min_samples_leaf=19, min_samples_split=17, n_estimators=100; total time=   0.7s\n",
      "[CV] END criterion=friedman_mse, max_depth=21, max_leaf_nodes=31, min_samples_leaf=23, min_samples_split=14, n_estimators=100; total time=   0.7s\n",
      "[CV] END criterion=friedman_mse, max_depth=21, max_leaf_nodes=31, min_samples_leaf=23, min_samples_split=14, n_estimators=100; total time=   0.7s\n",
      "[CV] END criterion=friedman_mse, max_depth=21, max_leaf_nodes=31, min_samples_leaf=23, min_samples_split=15, n_estimators=100; total time=   0.7s\n",
      "[CV] END criterion=friedman_mse, max_depth=21, max_leaf_nodes=31, min_samples_leaf=23, min_samples_split=15, n_estimators=100; total time=   0.7s\n",
      "[CV] END criterion=friedman_mse, max_depth=21, max_leaf_nodes=31, min_samples_leaf=23, min_samples_split=16, n_estimators=100; total time=   0.7s\n",
      "[CV] END criterion=friedman_mse, max_depth=21, max_leaf_nodes=31, min_samples_leaf=23, min_samples_split=16, n_estimators=100; total time=   0.7s\n",
      "[CV] END criterion=friedman_mse, max_depth=21, max_leaf_nodes=31, min_samples_leaf=23, min_samples_split=17, n_estimators=100; total time=   0.7s\n",
      "[CV] END criterion=friedman_mse, max_depth=21, max_leaf_nodes=31, min_samples_leaf=23, min_samples_split=17, n_estimators=100; total time=   0.7s\n",
      "[CV] END criterion=friedman_mse, max_depth=21, max_leaf_nodes=31, min_samples_leaf=27, min_samples_split=14, n_estimators=100; total time=   0.6s\n",
      "[CV] END criterion=friedman_mse, max_depth=21, max_leaf_nodes=31, min_samples_leaf=27, min_samples_split=14, n_estimators=100; total time=   0.6s\n",
      "[CV] END criterion=friedman_mse, max_depth=21, max_leaf_nodes=31, min_samples_leaf=27, min_samples_split=15, n_estimators=100; total time=   0.6s\n",
      "[CV] END criterion=friedman_mse, max_depth=21, max_leaf_nodes=31, min_samples_leaf=27, min_samples_split=15, n_estimators=100; total time=   0.6s\n",
      "[CV] END criterion=friedman_mse, max_depth=21, max_leaf_nodes=31, min_samples_leaf=27, min_samples_split=16, n_estimators=100; total time=   0.6s\n",
      "[CV] END criterion=friedman_mse, max_depth=21, max_leaf_nodes=31, min_samples_leaf=27, min_samples_split=16, n_estimators=100; total time=   0.6s\n",
      "[CV] END criterion=friedman_mse, max_depth=21, max_leaf_nodes=31, min_samples_leaf=27, min_samples_split=17, n_estimators=100; total time=   0.6s\n",
      "[CV] END criterion=friedman_mse, max_depth=21, max_leaf_nodes=31, min_samples_leaf=27, min_samples_split=17, n_estimators=100; total time=   0.6s\n",
      "[CV] END criterion=friedman_mse, max_depth=21, max_leaf_nodes=31, min_samples_leaf=31, min_samples_split=14, n_estimators=100; total time=   0.6s\n",
      "[CV] END criterion=friedman_mse, max_depth=21, max_leaf_nodes=31, min_samples_leaf=31, min_samples_split=14, n_estimators=100; total time=   0.5s\n",
      "[CV] END criterion=friedman_mse, max_depth=21, max_leaf_nodes=31, min_samples_leaf=31, min_samples_split=15, n_estimators=100; total time=   0.6s\n",
      "[CV] END criterion=friedman_mse, max_depth=21, max_leaf_nodes=31, min_samples_leaf=31, min_samples_split=15, n_estimators=100; total time=   0.5s\n",
      "[CV] END criterion=friedman_mse, max_depth=21, max_leaf_nodes=31, min_samples_leaf=31, min_samples_split=16, n_estimators=100; total time=   0.6s\n",
      "[CV] END criterion=friedman_mse, max_depth=21, max_leaf_nodes=31, min_samples_leaf=31, min_samples_split=16, n_estimators=100; total time=   0.5s\n",
      "[CV] END criterion=friedman_mse, max_depth=21, max_leaf_nodes=31, min_samples_leaf=31, min_samples_split=17, n_estimators=100; total time=   0.6s\n",
      "[CV] END criterion=friedman_mse, max_depth=21, max_leaf_nodes=31, min_samples_leaf=31, min_samples_split=17, n_estimators=100; total time=   0.5s\n",
      "[CV] END criterion=friedman_mse, max_depth=22, max_leaf_nodes=19, min_samples_leaf=19, min_samples_split=14, n_estimators=100; total time=   0.6s\n",
      "[CV] END criterion=friedman_mse, max_depth=22, max_leaf_nodes=19, min_samples_leaf=19, min_samples_split=14, n_estimators=100; total time=   0.6s\n",
      "[CV] END criterion=friedman_mse, max_depth=22, max_leaf_nodes=19, min_samples_leaf=19, min_samples_split=15, n_estimators=100; total time=   0.6s\n",
      "[CV] END criterion=friedman_mse, max_depth=22, max_leaf_nodes=19, min_samples_leaf=19, min_samples_split=15, n_estimators=100; total time=   0.5s\n",
      "[CV] END criterion=friedman_mse, max_depth=22, max_leaf_nodes=19, min_samples_leaf=19, min_samples_split=16, n_estimators=100; total time=   0.6s\n",
      "[CV] END criterion=friedman_mse, max_depth=22, max_leaf_nodes=19, min_samples_leaf=19, min_samples_split=16, n_estimators=100; total time=   0.5s\n",
      "[CV] END criterion=friedman_mse, max_depth=22, max_leaf_nodes=19, min_samples_leaf=19, min_samples_split=17, n_estimators=100; total time=   0.6s\n",
      "[CV] END criterion=friedman_mse, max_depth=22, max_leaf_nodes=19, min_samples_leaf=19, min_samples_split=17, n_estimators=100; total time=   0.6s\n",
      "[CV] END criterion=friedman_mse, max_depth=22, max_leaf_nodes=19, min_samples_leaf=23, min_samples_split=14, n_estimators=100; total time=   0.6s\n",
      "[CV] END criterion=friedman_mse, max_depth=22, max_leaf_nodes=19, min_samples_leaf=23, min_samples_split=14, n_estimators=100; total time=   0.6s\n",
      "[CV] END criterion=friedman_mse, max_depth=22, max_leaf_nodes=19, min_samples_leaf=23, min_samples_split=15, n_estimators=100; total time=   0.6s\n",
      "[CV] END criterion=friedman_mse, max_depth=22, max_leaf_nodes=19, min_samples_leaf=23, min_samples_split=15, n_estimators=100; total time=   0.5s\n",
      "[CV] END criterion=friedman_mse, max_depth=22, max_leaf_nodes=19, min_samples_leaf=23, min_samples_split=16, n_estimators=100; total time=   0.6s\n",
      "[CV] END criterion=friedman_mse, max_depth=22, max_leaf_nodes=19, min_samples_leaf=23, min_samples_split=16, n_estimators=100; total time=   0.5s\n",
      "[CV] END criterion=friedman_mse, max_depth=22, max_leaf_nodes=19, min_samples_leaf=23, min_samples_split=17, n_estimators=100; total time=   0.6s\n",
      "[CV] END criterion=friedman_mse, max_depth=22, max_leaf_nodes=19, min_samples_leaf=23, min_samples_split=17, n_estimators=100; total time=   0.5s\n",
      "[CV] END criterion=friedman_mse, max_depth=22, max_leaf_nodes=19, min_samples_leaf=27, min_samples_split=14, n_estimators=100; total time=   0.5s\n",
      "[CV] END criterion=friedman_mse, max_depth=22, max_leaf_nodes=19, min_samples_leaf=27, min_samples_split=14, n_estimators=100; total time=   0.5s\n",
      "[CV] END criterion=friedman_mse, max_depth=22, max_leaf_nodes=19, min_samples_leaf=27, min_samples_split=15, n_estimators=100; total time=   0.5s\n",
      "[CV] END criterion=friedman_mse, max_depth=22, max_leaf_nodes=19, min_samples_leaf=27, min_samples_split=15, n_estimators=100; total time=   0.5s\n",
      "[CV] END criterion=friedman_mse, max_depth=22, max_leaf_nodes=19, min_samples_leaf=27, min_samples_split=16, n_estimators=100; total time=   0.5s\n",
      "[CV] END criterion=friedman_mse, max_depth=22, max_leaf_nodes=19, min_samples_leaf=27, min_samples_split=16, n_estimators=100; total time=   0.5s\n",
      "[CV] END criterion=friedman_mse, max_depth=22, max_leaf_nodes=19, min_samples_leaf=27, min_samples_split=17, n_estimators=100; total time=   0.5s\n",
      "[CV] END criterion=friedman_mse, max_depth=22, max_leaf_nodes=19, min_samples_leaf=27, min_samples_split=17, n_estimators=100; total time=   0.5s\n",
      "[CV] END criterion=friedman_mse, max_depth=22, max_leaf_nodes=19, min_samples_leaf=31, min_samples_split=14, n_estimators=100; total time=   0.5s\n",
      "[CV] END criterion=friedman_mse, max_depth=22, max_leaf_nodes=19, min_samples_leaf=31, min_samples_split=14, n_estimators=100; total time=   0.5s\n",
      "[CV] END criterion=friedman_mse, max_depth=22, max_leaf_nodes=19, min_samples_leaf=31, min_samples_split=15, n_estimators=100; total time=   0.5s\n",
      "[CV] END criterion=friedman_mse, max_depth=22, max_leaf_nodes=19, min_samples_leaf=31, min_samples_split=15, n_estimators=100; total time=   0.5s\n"
     ]
    },
    {
     "name": "stdout",
     "output_type": "stream",
     "text": [
      "[CV] END criterion=friedman_mse, max_depth=22, max_leaf_nodes=19, min_samples_leaf=31, min_samples_split=16, n_estimators=100; total time=   0.5s\n",
      "[CV] END criterion=friedman_mse, max_depth=22, max_leaf_nodes=19, min_samples_leaf=31, min_samples_split=16, n_estimators=100; total time=   0.5s\n",
      "[CV] END criterion=friedman_mse, max_depth=22, max_leaf_nodes=19, min_samples_leaf=31, min_samples_split=17, n_estimators=100; total time=   0.5s\n",
      "[CV] END criterion=friedman_mse, max_depth=22, max_leaf_nodes=19, min_samples_leaf=31, min_samples_split=17, n_estimators=100; total time=   0.5s\n",
      "[CV] END criterion=friedman_mse, max_depth=22, max_leaf_nodes=23, min_samples_leaf=19, min_samples_split=14, n_estimators=100; total time=   0.6s\n",
      "[CV] END criterion=friedman_mse, max_depth=22, max_leaf_nodes=23, min_samples_leaf=19, min_samples_split=14, n_estimators=100; total time=   0.6s\n",
      "[CV] END criterion=friedman_mse, max_depth=22, max_leaf_nodes=23, min_samples_leaf=19, min_samples_split=15, n_estimators=100; total time=   0.6s\n",
      "[CV] END criterion=friedman_mse, max_depth=22, max_leaf_nodes=23, min_samples_leaf=19, min_samples_split=15, n_estimators=100; total time=   0.6s\n",
      "[CV] END criterion=friedman_mse, max_depth=22, max_leaf_nodes=23, min_samples_leaf=19, min_samples_split=16, n_estimators=100; total time=   0.6s\n",
      "[CV] END criterion=friedman_mse, max_depth=22, max_leaf_nodes=23, min_samples_leaf=19, min_samples_split=16, n_estimators=100; total time=   0.6s\n",
      "[CV] END criterion=friedman_mse, max_depth=22, max_leaf_nodes=23, min_samples_leaf=19, min_samples_split=17, n_estimators=100; total time=   0.6s\n",
      "[CV] END criterion=friedman_mse, max_depth=22, max_leaf_nodes=23, min_samples_leaf=19, min_samples_split=17, n_estimators=100; total time=   0.6s\n",
      "[CV] END criterion=friedman_mse, max_depth=22, max_leaf_nodes=23, min_samples_leaf=23, min_samples_split=14, n_estimators=100; total time=   0.6s\n",
      "[CV] END criterion=friedman_mse, max_depth=22, max_leaf_nodes=23, min_samples_leaf=23, min_samples_split=14, n_estimators=100; total time=   0.6s\n",
      "[CV] END criterion=friedman_mse, max_depth=22, max_leaf_nodes=23, min_samples_leaf=23, min_samples_split=15, n_estimators=100; total time=   0.6s\n",
      "[CV] END criterion=friedman_mse, max_depth=22, max_leaf_nodes=23, min_samples_leaf=23, min_samples_split=15, n_estimators=100; total time=   0.6s\n",
      "[CV] END criterion=friedman_mse, max_depth=22, max_leaf_nodes=23, min_samples_leaf=23, min_samples_split=16, n_estimators=100; total time=   0.6s\n",
      "[CV] END criterion=friedman_mse, max_depth=22, max_leaf_nodes=23, min_samples_leaf=23, min_samples_split=16, n_estimators=100; total time=   0.6s\n",
      "[CV] END criterion=friedman_mse, max_depth=22, max_leaf_nodes=23, min_samples_leaf=23, min_samples_split=17, n_estimators=100; total time=   0.6s\n",
      "[CV] END criterion=friedman_mse, max_depth=22, max_leaf_nodes=23, min_samples_leaf=23, min_samples_split=17, n_estimators=100; total time=   0.6s\n",
      "[CV] END criterion=friedman_mse, max_depth=22, max_leaf_nodes=23, min_samples_leaf=27, min_samples_split=14, n_estimators=100; total time=   0.6s\n",
      "[CV] END criterion=friedman_mse, max_depth=22, max_leaf_nodes=23, min_samples_leaf=27, min_samples_split=14, n_estimators=100; total time=   0.6s\n",
      "[CV] END criterion=friedman_mse, max_depth=22, max_leaf_nodes=23, min_samples_leaf=27, min_samples_split=15, n_estimators=100; total time=   0.6s\n",
      "[CV] END criterion=friedman_mse, max_depth=22, max_leaf_nodes=23, min_samples_leaf=27, min_samples_split=15, n_estimators=100; total time=   0.6s\n",
      "[CV] END criterion=friedman_mse, max_depth=22, max_leaf_nodes=23, min_samples_leaf=27, min_samples_split=16, n_estimators=100; total time=   0.6s\n",
      "[CV] END criterion=friedman_mse, max_depth=22, max_leaf_nodes=23, min_samples_leaf=27, min_samples_split=16, n_estimators=100; total time=   0.6s\n",
      "[CV] END criterion=friedman_mse, max_depth=22, max_leaf_nodes=23, min_samples_leaf=27, min_samples_split=17, n_estimators=100; total time=   0.6s\n",
      "[CV] END criterion=friedman_mse, max_depth=22, max_leaf_nodes=23, min_samples_leaf=27, min_samples_split=17, n_estimators=100; total time=   0.6s\n",
      "[CV] END criterion=friedman_mse, max_depth=22, max_leaf_nodes=23, min_samples_leaf=31, min_samples_split=14, n_estimators=100; total time=   0.6s\n",
      "[CV] END criterion=friedman_mse, max_depth=22, max_leaf_nodes=23, min_samples_leaf=31, min_samples_split=14, n_estimators=100; total time=   0.5s\n",
      "[CV] END criterion=friedman_mse, max_depth=22, max_leaf_nodes=23, min_samples_leaf=31, min_samples_split=15, n_estimators=100; total time=   0.6s\n",
      "[CV] END criterion=friedman_mse, max_depth=22, max_leaf_nodes=23, min_samples_leaf=31, min_samples_split=15, n_estimators=100; total time=   0.5s\n",
      "[CV] END criterion=friedman_mse, max_depth=22, max_leaf_nodes=23, min_samples_leaf=31, min_samples_split=16, n_estimators=100; total time=   0.6s\n",
      "[CV] END criterion=friedman_mse, max_depth=22, max_leaf_nodes=23, min_samples_leaf=31, min_samples_split=16, n_estimators=100; total time=   0.5s\n",
      "[CV] END criterion=friedman_mse, max_depth=22, max_leaf_nodes=23, min_samples_leaf=31, min_samples_split=17, n_estimators=100; total time=   0.6s\n",
      "[CV] END criterion=friedman_mse, max_depth=22, max_leaf_nodes=23, min_samples_leaf=31, min_samples_split=17, n_estimators=100; total time=   0.5s\n",
      "[CV] END criterion=friedman_mse, max_depth=22, max_leaf_nodes=27, min_samples_leaf=19, min_samples_split=14, n_estimators=100; total time=   0.7s\n",
      "[CV] END criterion=friedman_mse, max_depth=22, max_leaf_nodes=27, min_samples_leaf=19, min_samples_split=14, n_estimators=100; total time=   0.7s\n",
      "[CV] END criterion=friedman_mse, max_depth=22, max_leaf_nodes=27, min_samples_leaf=19, min_samples_split=15, n_estimators=100; total time=   0.7s\n",
      "[CV] END criterion=friedman_mse, max_depth=22, max_leaf_nodes=27, min_samples_leaf=19, min_samples_split=15, n_estimators=100; total time=   0.7s\n",
      "[CV] END criterion=friedman_mse, max_depth=22, max_leaf_nodes=27, min_samples_leaf=19, min_samples_split=16, n_estimators=100; total time=   0.7s\n",
      "[CV] END criterion=friedman_mse, max_depth=22, max_leaf_nodes=27, min_samples_leaf=19, min_samples_split=16, n_estimators=100; total time=   0.7s\n",
      "[CV] END criterion=friedman_mse, max_depth=22, max_leaf_nodes=27, min_samples_leaf=19, min_samples_split=17, n_estimators=100; total time=   0.7s\n",
      "[CV] END criterion=friedman_mse, max_depth=22, max_leaf_nodes=27, min_samples_leaf=19, min_samples_split=17, n_estimators=100; total time=   0.7s\n",
      "[CV] END criterion=friedman_mse, max_depth=22, max_leaf_nodes=27, min_samples_leaf=23, min_samples_split=14, n_estimators=100; total time=   0.6s\n",
      "[CV] END criterion=friedman_mse, max_depth=22, max_leaf_nodes=27, min_samples_leaf=23, min_samples_split=14, n_estimators=100; total time=   0.6s\n",
      "[CV] END criterion=friedman_mse, max_depth=22, max_leaf_nodes=27, min_samples_leaf=23, min_samples_split=15, n_estimators=100; total time=   0.6s\n",
      "[CV] END criterion=friedman_mse, max_depth=22, max_leaf_nodes=27, min_samples_leaf=23, min_samples_split=15, n_estimators=100; total time=   0.6s\n",
      "[CV] END criterion=friedman_mse, max_depth=22, max_leaf_nodes=27, min_samples_leaf=23, min_samples_split=16, n_estimators=100; total time=   0.6s\n",
      "[CV] END criterion=friedman_mse, max_depth=22, max_leaf_nodes=27, min_samples_leaf=23, min_samples_split=16, n_estimators=100; total time=   0.7s\n",
      "[CV] END criterion=friedman_mse, max_depth=22, max_leaf_nodes=27, min_samples_leaf=23, min_samples_split=17, n_estimators=100; total time=   0.6s\n",
      "[CV] END criterion=friedman_mse, max_depth=22, max_leaf_nodes=27, min_samples_leaf=23, min_samples_split=17, n_estimators=100; total time=   0.6s\n",
      "[CV] END criterion=friedman_mse, max_depth=22, max_leaf_nodes=27, min_samples_leaf=27, min_samples_split=14, n_estimators=100; total time=   0.6s\n",
      "[CV] END criterion=friedman_mse, max_depth=22, max_leaf_nodes=27, min_samples_leaf=27, min_samples_split=14, n_estimators=100; total time=   0.6s\n",
      "[CV] END criterion=friedman_mse, max_depth=22, max_leaf_nodes=27, min_samples_leaf=27, min_samples_split=15, n_estimators=100; total time=   0.6s\n",
      "[CV] END criterion=friedman_mse, max_depth=22, max_leaf_nodes=27, min_samples_leaf=27, min_samples_split=15, n_estimators=100; total time=   0.6s\n",
      "[CV] END criterion=friedman_mse, max_depth=22, max_leaf_nodes=27, min_samples_leaf=27, min_samples_split=16, n_estimators=100; total time=   0.6s\n"
     ]
    },
    {
     "name": "stdout",
     "output_type": "stream",
     "text": [
      "[CV] END criterion=friedman_mse, max_depth=22, max_leaf_nodes=27, min_samples_leaf=27, min_samples_split=16, n_estimators=100; total time=   0.6s\n",
      "[CV] END criterion=friedman_mse, max_depth=22, max_leaf_nodes=27, min_samples_leaf=27, min_samples_split=17, n_estimators=100; total time=   0.6s\n",
      "[CV] END criterion=friedman_mse, max_depth=22, max_leaf_nodes=27, min_samples_leaf=27, min_samples_split=17, n_estimators=100; total time=   0.6s\n",
      "[CV] END criterion=friedman_mse, max_depth=22, max_leaf_nodes=27, min_samples_leaf=31, min_samples_split=14, n_estimators=100; total time=   0.6s\n",
      "[CV] END criterion=friedman_mse, max_depth=22, max_leaf_nodes=27, min_samples_leaf=31, min_samples_split=14, n_estimators=100; total time=   0.5s\n",
      "[CV] END criterion=friedman_mse, max_depth=22, max_leaf_nodes=27, min_samples_leaf=31, min_samples_split=15, n_estimators=100; total time=   0.6s\n",
      "[CV] END criterion=friedman_mse, max_depth=22, max_leaf_nodes=27, min_samples_leaf=31, min_samples_split=15, n_estimators=100; total time=   0.5s\n",
      "[CV] END criterion=friedman_mse, max_depth=22, max_leaf_nodes=27, min_samples_leaf=31, min_samples_split=16, n_estimators=100; total time=   0.6s\n",
      "[CV] END criterion=friedman_mse, max_depth=22, max_leaf_nodes=27, min_samples_leaf=31, min_samples_split=16, n_estimators=100; total time=   0.5s\n",
      "[CV] END criterion=friedman_mse, max_depth=22, max_leaf_nodes=27, min_samples_leaf=31, min_samples_split=17, n_estimators=100; total time=   0.6s\n",
      "[CV] END criterion=friedman_mse, max_depth=22, max_leaf_nodes=27, min_samples_leaf=31, min_samples_split=17, n_estimators=100; total time=   0.5s\n",
      "[CV] END criterion=friedman_mse, max_depth=22, max_leaf_nodes=31, min_samples_leaf=19, min_samples_split=14, n_estimators=100; total time=   0.7s\n",
      "[CV] END criterion=friedman_mse, max_depth=22, max_leaf_nodes=31, min_samples_leaf=19, min_samples_split=14, n_estimators=100; total time=   0.7s\n",
      "[CV] END criterion=friedman_mse, max_depth=22, max_leaf_nodes=31, min_samples_leaf=19, min_samples_split=15, n_estimators=100; total time=   0.7s\n",
      "[CV] END criterion=friedman_mse, max_depth=22, max_leaf_nodes=31, min_samples_leaf=19, min_samples_split=15, n_estimators=100; total time=   0.7s\n",
      "[CV] END criterion=friedman_mse, max_depth=22, max_leaf_nodes=31, min_samples_leaf=19, min_samples_split=16, n_estimators=100; total time=   0.7s\n",
      "[CV] END criterion=friedman_mse, max_depth=22, max_leaf_nodes=31, min_samples_leaf=19, min_samples_split=16, n_estimators=100; total time=   0.7s\n",
      "[CV] END criterion=friedman_mse, max_depth=22, max_leaf_nodes=31, min_samples_leaf=19, min_samples_split=17, n_estimators=100; total time=   0.7s\n",
      "[CV] END criterion=friedman_mse, max_depth=22, max_leaf_nodes=31, min_samples_leaf=19, min_samples_split=17, n_estimators=100; total time=   0.7s\n",
      "[CV] END criterion=friedman_mse, max_depth=22, max_leaf_nodes=31, min_samples_leaf=23, min_samples_split=14, n_estimators=100; total time=   0.7s\n",
      "[CV] END criterion=friedman_mse, max_depth=22, max_leaf_nodes=31, min_samples_leaf=23, min_samples_split=14, n_estimators=100; total time=   0.7s\n",
      "[CV] END criterion=friedman_mse, max_depth=22, max_leaf_nodes=31, min_samples_leaf=23, min_samples_split=15, n_estimators=100; total time=   0.7s\n",
      "[CV] END criterion=friedman_mse, max_depth=22, max_leaf_nodes=31, min_samples_leaf=23, min_samples_split=15, n_estimators=100; total time=   0.7s\n",
      "[CV] END criterion=friedman_mse, max_depth=22, max_leaf_nodes=31, min_samples_leaf=23, min_samples_split=16, n_estimators=100; total time=   0.7s\n",
      "[CV] END criterion=friedman_mse, max_depth=22, max_leaf_nodes=31, min_samples_leaf=23, min_samples_split=16, n_estimators=100; total time=   0.7s\n",
      "[CV] END criterion=friedman_mse, max_depth=22, max_leaf_nodes=31, min_samples_leaf=23, min_samples_split=17, n_estimators=100; total time=   0.7s\n",
      "[CV] END criterion=friedman_mse, max_depth=22, max_leaf_nodes=31, min_samples_leaf=23, min_samples_split=17, n_estimators=100; total time=   0.7s\n",
      "[CV] END criterion=friedman_mse, max_depth=22, max_leaf_nodes=31, min_samples_leaf=27, min_samples_split=14, n_estimators=100; total time=   0.6s\n",
      "[CV] END criterion=friedman_mse, max_depth=22, max_leaf_nodes=31, min_samples_leaf=27, min_samples_split=14, n_estimators=100; total time=   0.6s\n",
      "[CV] END criterion=friedman_mse, max_depth=22, max_leaf_nodes=31, min_samples_leaf=27, min_samples_split=15, n_estimators=100; total time=   0.6s\n",
      "[CV] END criterion=friedman_mse, max_depth=22, max_leaf_nodes=31, min_samples_leaf=27, min_samples_split=15, n_estimators=100; total time=   0.6s\n",
      "[CV] END criterion=friedman_mse, max_depth=22, max_leaf_nodes=31, min_samples_leaf=27, min_samples_split=16, n_estimators=100; total time=   0.6s\n",
      "[CV] END criterion=friedman_mse, max_depth=22, max_leaf_nodes=31, min_samples_leaf=27, min_samples_split=16, n_estimators=100; total time=   0.6s\n",
      "[CV] END criterion=friedman_mse, max_depth=22, max_leaf_nodes=31, min_samples_leaf=27, min_samples_split=17, n_estimators=100; total time=   0.6s\n",
      "[CV] END criterion=friedman_mse, max_depth=22, max_leaf_nodes=31, min_samples_leaf=27, min_samples_split=17, n_estimators=100; total time=   0.6s\n",
      "[CV] END criterion=friedman_mse, max_depth=22, max_leaf_nodes=31, min_samples_leaf=31, min_samples_split=14, n_estimators=100; total time=   0.6s\n",
      "[CV] END criterion=friedman_mse, max_depth=22, max_leaf_nodes=31, min_samples_leaf=31, min_samples_split=14, n_estimators=100; total time=   0.5s\n",
      "[CV] END criterion=friedman_mse, max_depth=22, max_leaf_nodes=31, min_samples_leaf=31, min_samples_split=15, n_estimators=100; total time=   0.6s\n",
      "[CV] END criterion=friedman_mse, max_depth=22, max_leaf_nodes=31, min_samples_leaf=31, min_samples_split=15, n_estimators=100; total time=   0.5s\n",
      "[CV] END criterion=friedman_mse, max_depth=22, max_leaf_nodes=31, min_samples_leaf=31, min_samples_split=16, n_estimators=100; total time=   0.6s\n",
      "[CV] END criterion=friedman_mse, max_depth=22, max_leaf_nodes=31, min_samples_leaf=31, min_samples_split=16, n_estimators=100; total time=   0.5s\n",
      "[CV] END criterion=friedman_mse, max_depth=22, max_leaf_nodes=31, min_samples_leaf=31, min_samples_split=17, n_estimators=100; total time=   0.6s\n",
      "[CV] END criterion=friedman_mse, max_depth=22, max_leaf_nodes=31, min_samples_leaf=31, min_samples_split=17, n_estimators=100; total time=   0.5s\n",
      "[CV] END criterion=friedman_mse, max_depth=23, max_leaf_nodes=19, min_samples_leaf=19, min_samples_split=14, n_estimators=100; total time=   0.6s\n",
      "[CV] END criterion=friedman_mse, max_depth=23, max_leaf_nodes=19, min_samples_leaf=19, min_samples_split=14, n_estimators=100; total time=   0.5s\n",
      "[CV] END criterion=friedman_mse, max_depth=23, max_leaf_nodes=19, min_samples_leaf=19, min_samples_split=15, n_estimators=100; total time=   0.6s\n",
      "[CV] END criterion=friedman_mse, max_depth=23, max_leaf_nodes=19, min_samples_leaf=19, min_samples_split=15, n_estimators=100; total time=   0.5s\n",
      "[CV] END criterion=friedman_mse, max_depth=23, max_leaf_nodes=19, min_samples_leaf=19, min_samples_split=16, n_estimators=100; total time=   0.6s\n",
      "[CV] END criterion=friedman_mse, max_depth=23, max_leaf_nodes=19, min_samples_leaf=19, min_samples_split=16, n_estimators=100; total time=   0.5s\n",
      "[CV] END criterion=friedman_mse, max_depth=23, max_leaf_nodes=19, min_samples_leaf=19, min_samples_split=17, n_estimators=100; total time=   0.6s\n",
      "[CV] END criterion=friedman_mse, max_depth=23, max_leaf_nodes=19, min_samples_leaf=19, min_samples_split=17, n_estimators=100; total time=   0.5s\n",
      "[CV] END criterion=friedman_mse, max_depth=23, max_leaf_nodes=19, min_samples_leaf=23, min_samples_split=14, n_estimators=100; total time=   0.6s\n",
      "[CV] END criterion=friedman_mse, max_depth=23, max_leaf_nodes=19, min_samples_leaf=23, min_samples_split=14, n_estimators=100; total time=   0.5s\n",
      "[CV] END criterion=friedman_mse, max_depth=23, max_leaf_nodes=19, min_samples_leaf=23, min_samples_split=15, n_estimators=100; total time=   0.6s\n",
      "[CV] END criterion=friedman_mse, max_depth=23, max_leaf_nodes=19, min_samples_leaf=23, min_samples_split=15, n_estimators=100; total time=   0.5s\n",
      "[CV] END criterion=friedman_mse, max_depth=23, max_leaf_nodes=19, min_samples_leaf=23, min_samples_split=16, n_estimators=100; total time=   0.6s\n",
      "[CV] END criterion=friedman_mse, max_depth=23, max_leaf_nodes=19, min_samples_leaf=23, min_samples_split=16, n_estimators=100; total time=   0.5s\n"
     ]
    },
    {
     "name": "stdout",
     "output_type": "stream",
     "text": [
      "[CV] END criterion=friedman_mse, max_depth=23, max_leaf_nodes=19, min_samples_leaf=23, min_samples_split=17, n_estimators=100; total time=   0.6s\n",
      "[CV] END criterion=friedman_mse, max_depth=23, max_leaf_nodes=19, min_samples_leaf=23, min_samples_split=17, n_estimators=100; total time=   0.5s\n",
      "[CV] END criterion=friedman_mse, max_depth=23, max_leaf_nodes=19, min_samples_leaf=27, min_samples_split=14, n_estimators=100; total time=   0.5s\n",
      "[CV] END criterion=friedman_mse, max_depth=23, max_leaf_nodes=19, min_samples_leaf=27, min_samples_split=14, n_estimators=100; total time=   0.5s\n",
      "[CV] END criterion=friedman_mse, max_depth=23, max_leaf_nodes=19, min_samples_leaf=27, min_samples_split=15, n_estimators=100; total time=   0.6s\n",
      "[CV] END criterion=friedman_mse, max_depth=23, max_leaf_nodes=19, min_samples_leaf=27, min_samples_split=15, n_estimators=100; total time=   0.5s\n",
      "[CV] END criterion=friedman_mse, max_depth=23, max_leaf_nodes=19, min_samples_leaf=27, min_samples_split=16, n_estimators=100; total time=   0.5s\n",
      "[CV] END criterion=friedman_mse, max_depth=23, max_leaf_nodes=19, min_samples_leaf=27, min_samples_split=16, n_estimators=100; total time=   0.5s\n",
      "[CV] END criterion=friedman_mse, max_depth=23, max_leaf_nodes=19, min_samples_leaf=27, min_samples_split=17, n_estimators=100; total time=   0.5s\n",
      "[CV] END criterion=friedman_mse, max_depth=23, max_leaf_nodes=19, min_samples_leaf=27, min_samples_split=17, n_estimators=100; total time=   0.5s\n",
      "[CV] END criterion=friedman_mse, max_depth=23, max_leaf_nodes=19, min_samples_leaf=31, min_samples_split=14, n_estimators=100; total time=   0.5s\n",
      "[CV] END criterion=friedman_mse, max_depth=23, max_leaf_nodes=19, min_samples_leaf=31, min_samples_split=14, n_estimators=100; total time=   0.5s\n",
      "[CV] END criterion=friedman_mse, max_depth=23, max_leaf_nodes=19, min_samples_leaf=31, min_samples_split=15, n_estimators=100; total time=   0.5s\n",
      "[CV] END criterion=friedman_mse, max_depth=23, max_leaf_nodes=19, min_samples_leaf=31, min_samples_split=15, n_estimators=100; total time=   0.5s\n",
      "[CV] END criterion=friedman_mse, max_depth=23, max_leaf_nodes=19, min_samples_leaf=31, min_samples_split=16, n_estimators=100; total time=   0.5s\n",
      "[CV] END criterion=friedman_mse, max_depth=23, max_leaf_nodes=19, min_samples_leaf=31, min_samples_split=16, n_estimators=100; total time=   0.5s\n",
      "[CV] END criterion=friedman_mse, max_depth=23, max_leaf_nodes=19, min_samples_leaf=31, min_samples_split=17, n_estimators=100; total time=   0.5s\n",
      "[CV] END criterion=friedman_mse, max_depth=23, max_leaf_nodes=19, min_samples_leaf=31, min_samples_split=17, n_estimators=100; total time=   0.5s\n",
      "[CV] END criterion=friedman_mse, max_depth=23, max_leaf_nodes=23, min_samples_leaf=19, min_samples_split=14, n_estimators=100; total time=   0.6s\n",
      "[CV] END criterion=friedman_mse, max_depth=23, max_leaf_nodes=23, min_samples_leaf=19, min_samples_split=14, n_estimators=100; total time=   0.6s\n",
      "[CV] END criterion=friedman_mse, max_depth=23, max_leaf_nodes=23, min_samples_leaf=19, min_samples_split=15, n_estimators=100; total time=   0.6s\n",
      "[CV] END criterion=friedman_mse, max_depth=23, max_leaf_nodes=23, min_samples_leaf=19, min_samples_split=15, n_estimators=100; total time=   0.6s\n",
      "[CV] END criterion=friedman_mse, max_depth=23, max_leaf_nodes=23, min_samples_leaf=19, min_samples_split=16, n_estimators=100; total time=   0.6s\n",
      "[CV] END criterion=friedman_mse, max_depth=23, max_leaf_nodes=23, min_samples_leaf=19, min_samples_split=16, n_estimators=100; total time=   0.6s\n",
      "[CV] END criterion=friedman_mse, max_depth=23, max_leaf_nodes=23, min_samples_leaf=19, min_samples_split=17, n_estimators=100; total time=   0.6s\n",
      "[CV] END criterion=friedman_mse, max_depth=23, max_leaf_nodes=23, min_samples_leaf=19, min_samples_split=17, n_estimators=100; total time=   0.6s\n",
      "[CV] END criterion=friedman_mse, max_depth=23, max_leaf_nodes=23, min_samples_leaf=23, min_samples_split=14, n_estimators=100; total time=   0.6s\n",
      "[CV] END criterion=friedman_mse, max_depth=23, max_leaf_nodes=23, min_samples_leaf=23, min_samples_split=14, n_estimators=100; total time=   0.6s\n",
      "[CV] END criterion=friedman_mse, max_depth=23, max_leaf_nodes=23, min_samples_leaf=23, min_samples_split=15, n_estimators=100; total time=   0.6s\n",
      "[CV] END criterion=friedman_mse, max_depth=23, max_leaf_nodes=23, min_samples_leaf=23, min_samples_split=15, n_estimators=100; total time=   0.6s\n",
      "[CV] END criterion=friedman_mse, max_depth=23, max_leaf_nodes=23, min_samples_leaf=23, min_samples_split=16, n_estimators=100; total time=   0.6s\n",
      "[CV] END criterion=friedman_mse, max_depth=23, max_leaf_nodes=23, min_samples_leaf=23, min_samples_split=16, n_estimators=100; total time=   0.6s\n",
      "[CV] END criterion=friedman_mse, max_depth=23, max_leaf_nodes=23, min_samples_leaf=23, min_samples_split=17, n_estimators=100; total time=   0.6s\n",
      "[CV] END criterion=friedman_mse, max_depth=23, max_leaf_nodes=23, min_samples_leaf=23, min_samples_split=17, n_estimators=100; total time=   0.6s\n",
      "[CV] END criterion=friedman_mse, max_depth=23, max_leaf_nodes=23, min_samples_leaf=27, min_samples_split=14, n_estimators=100; total time=   0.6s\n",
      "[CV] END criterion=friedman_mse, max_depth=23, max_leaf_nodes=23, min_samples_leaf=27, min_samples_split=14, n_estimators=100; total time=   0.6s\n",
      "[CV] END criterion=friedman_mse, max_depth=23, max_leaf_nodes=23, min_samples_leaf=27, min_samples_split=15, n_estimators=100; total time=   0.6s\n",
      "[CV] END criterion=friedman_mse, max_depth=23, max_leaf_nodes=23, min_samples_leaf=27, min_samples_split=15, n_estimators=100; total time=   0.6s\n",
      "[CV] END criterion=friedman_mse, max_depth=23, max_leaf_nodes=23, min_samples_leaf=27, min_samples_split=16, n_estimators=100; total time=   0.6s\n",
      "[CV] END criterion=friedman_mse, max_depth=23, max_leaf_nodes=23, min_samples_leaf=27, min_samples_split=16, n_estimators=100; total time=   0.6s\n",
      "[CV] END criterion=friedman_mse, max_depth=23, max_leaf_nodes=23, min_samples_leaf=27, min_samples_split=17, n_estimators=100; total time=   0.6s\n",
      "[CV] END criterion=friedman_mse, max_depth=23, max_leaf_nodes=23, min_samples_leaf=27, min_samples_split=17, n_estimators=100; total time=   0.6s\n",
      "[CV] END criterion=friedman_mse, max_depth=23, max_leaf_nodes=23, min_samples_leaf=31, min_samples_split=14, n_estimators=100; total time=   0.6s\n",
      "[CV] END criterion=friedman_mse, max_depth=23, max_leaf_nodes=23, min_samples_leaf=31, min_samples_split=14, n_estimators=100; total time=   0.6s\n",
      "[CV] END criterion=friedman_mse, max_depth=23, max_leaf_nodes=23, min_samples_leaf=31, min_samples_split=15, n_estimators=100; total time=   0.6s\n",
      "[CV] END criterion=friedman_mse, max_depth=23, max_leaf_nodes=23, min_samples_leaf=31, min_samples_split=15, n_estimators=100; total time=   0.5s\n",
      "[CV] END criterion=friedman_mse, max_depth=23, max_leaf_nodes=23, min_samples_leaf=31, min_samples_split=16, n_estimators=100; total time=   0.6s\n",
      "[CV] END criterion=friedman_mse, max_depth=23, max_leaf_nodes=23, min_samples_leaf=31, min_samples_split=16, n_estimators=100; total time=   0.5s\n",
      "[CV] END criterion=friedman_mse, max_depth=23, max_leaf_nodes=23, min_samples_leaf=31, min_samples_split=17, n_estimators=100; total time=   0.6s\n",
      "[CV] END criterion=friedman_mse, max_depth=23, max_leaf_nodes=23, min_samples_leaf=31, min_samples_split=17, n_estimators=100; total time=   0.6s\n",
      "[CV] END criterion=friedman_mse, max_depth=23, max_leaf_nodes=27, min_samples_leaf=19, min_samples_split=14, n_estimators=100; total time=   0.7s\n",
      "[CV] END criterion=friedman_mse, max_depth=23, max_leaf_nodes=27, min_samples_leaf=19, min_samples_split=14, n_estimators=100; total time=   0.7s\n",
      "[CV] END criterion=friedman_mse, max_depth=23, max_leaf_nodes=27, min_samples_leaf=19, min_samples_split=15, n_estimators=100; total time=   0.7s\n",
      "[CV] END criterion=friedman_mse, max_depth=23, max_leaf_nodes=27, min_samples_leaf=19, min_samples_split=15, n_estimators=100; total time=   0.7s\n",
      "[CV] END criterion=friedman_mse, max_depth=23, max_leaf_nodes=27, min_samples_leaf=19, min_samples_split=16, n_estimators=100; total time=   0.7s\n",
      "[CV] END criterion=friedman_mse, max_depth=23, max_leaf_nodes=27, min_samples_leaf=19, min_samples_split=16, n_estimators=100; total time=   0.7s\n",
      "[CV] END criterion=friedman_mse, max_depth=23, max_leaf_nodes=27, min_samples_leaf=19, min_samples_split=17, n_estimators=100; total time=   0.7s\n"
     ]
    },
    {
     "name": "stdout",
     "output_type": "stream",
     "text": [
      "[CV] END criterion=friedman_mse, max_depth=23, max_leaf_nodes=27, min_samples_leaf=19, min_samples_split=17, n_estimators=100; total time=   0.7s\n",
      "[CV] END criterion=friedman_mse, max_depth=23, max_leaf_nodes=27, min_samples_leaf=23, min_samples_split=14, n_estimators=100; total time=   0.6s\n",
      "[CV] END criterion=friedman_mse, max_depth=23, max_leaf_nodes=27, min_samples_leaf=23, min_samples_split=14, n_estimators=100; total time=   0.6s\n",
      "[CV] END criterion=friedman_mse, max_depth=23, max_leaf_nodes=27, min_samples_leaf=23, min_samples_split=15, n_estimators=100; total time=   0.6s\n",
      "[CV] END criterion=friedman_mse, max_depth=23, max_leaf_nodes=27, min_samples_leaf=23, min_samples_split=15, n_estimators=100; total time=   0.6s\n",
      "[CV] END criterion=friedman_mse, max_depth=23, max_leaf_nodes=27, min_samples_leaf=23, min_samples_split=16, n_estimators=100; total time=   0.6s\n",
      "[CV] END criterion=friedman_mse, max_depth=23, max_leaf_nodes=27, min_samples_leaf=23, min_samples_split=16, n_estimators=100; total time=   0.6s\n",
      "[CV] END criterion=friedman_mse, max_depth=23, max_leaf_nodes=27, min_samples_leaf=23, min_samples_split=17, n_estimators=100; total time=   0.6s\n",
      "[CV] END criterion=friedman_mse, max_depth=23, max_leaf_nodes=27, min_samples_leaf=23, min_samples_split=17, n_estimators=100; total time=   0.6s\n",
      "[CV] END criterion=friedman_mse, max_depth=23, max_leaf_nodes=27, min_samples_leaf=27, min_samples_split=14, n_estimators=100; total time=   0.6s\n",
      "[CV] END criterion=friedman_mse, max_depth=23, max_leaf_nodes=27, min_samples_leaf=27, min_samples_split=14, n_estimators=100; total time=   0.6s\n",
      "[CV] END criterion=friedman_mse, max_depth=23, max_leaf_nodes=27, min_samples_leaf=27, min_samples_split=15, n_estimators=100; total time=   0.6s\n",
      "[CV] END criterion=friedman_mse, max_depth=23, max_leaf_nodes=27, min_samples_leaf=27, min_samples_split=15, n_estimators=100; total time=   0.6s\n",
      "[CV] END criterion=friedman_mse, max_depth=23, max_leaf_nodes=27, min_samples_leaf=27, min_samples_split=16, n_estimators=100; total time=   0.6s\n",
      "[CV] END criterion=friedman_mse, max_depth=23, max_leaf_nodes=27, min_samples_leaf=27, min_samples_split=16, n_estimators=100; total time=   0.6s\n",
      "[CV] END criterion=friedman_mse, max_depth=23, max_leaf_nodes=27, min_samples_leaf=27, min_samples_split=17, n_estimators=100; total time=   0.6s\n",
      "[CV] END criterion=friedman_mse, max_depth=23, max_leaf_nodes=27, min_samples_leaf=27, min_samples_split=17, n_estimators=100; total time=   0.6s\n",
      "[CV] END criterion=friedman_mse, max_depth=23, max_leaf_nodes=27, min_samples_leaf=31, min_samples_split=14, n_estimators=100; total time=   0.6s\n",
      "[CV] END criterion=friedman_mse, max_depth=23, max_leaf_nodes=27, min_samples_leaf=31, min_samples_split=14, n_estimators=100; total time=   0.5s\n",
      "[CV] END criterion=friedman_mse, max_depth=23, max_leaf_nodes=27, min_samples_leaf=31, min_samples_split=15, n_estimators=100; total time=   0.6s\n",
      "[CV] END criterion=friedman_mse, max_depth=23, max_leaf_nodes=27, min_samples_leaf=31, min_samples_split=15, n_estimators=100; total time=   0.5s\n",
      "[CV] END criterion=friedman_mse, max_depth=23, max_leaf_nodes=27, min_samples_leaf=31, min_samples_split=16, n_estimators=100; total time=   0.6s\n",
      "[CV] END criterion=friedman_mse, max_depth=23, max_leaf_nodes=27, min_samples_leaf=31, min_samples_split=16, n_estimators=100; total time=   0.5s\n",
      "[CV] END criterion=friedman_mse, max_depth=23, max_leaf_nodes=27, min_samples_leaf=31, min_samples_split=17, n_estimators=100; total time=   0.6s\n",
      "[CV] END criterion=friedman_mse, max_depth=23, max_leaf_nodes=27, min_samples_leaf=31, min_samples_split=17, n_estimators=100; total time=   0.5s\n",
      "[CV] END criterion=friedman_mse, max_depth=23, max_leaf_nodes=31, min_samples_leaf=19, min_samples_split=14, n_estimators=100; total time=   0.7s\n",
      "[CV] END criterion=friedman_mse, max_depth=23, max_leaf_nodes=31, min_samples_leaf=19, min_samples_split=14, n_estimators=100; total time=   0.7s\n",
      "[CV] END criterion=friedman_mse, max_depth=23, max_leaf_nodes=31, min_samples_leaf=19, min_samples_split=15, n_estimators=100; total time=   0.7s\n",
      "[CV] END criterion=friedman_mse, max_depth=23, max_leaf_nodes=31, min_samples_leaf=19, min_samples_split=15, n_estimators=100; total time=   0.7s\n",
      "[CV] END criterion=friedman_mse, max_depth=23, max_leaf_nodes=31, min_samples_leaf=19, min_samples_split=16, n_estimators=100; total time=   0.7s\n",
      "[CV] END criterion=friedman_mse, max_depth=23, max_leaf_nodes=31, min_samples_leaf=19, min_samples_split=16, n_estimators=100; total time=   0.7s\n",
      "[CV] END criterion=friedman_mse, max_depth=23, max_leaf_nodes=31, min_samples_leaf=19, min_samples_split=17, n_estimators=100; total time=   0.7s\n",
      "[CV] END criterion=friedman_mse, max_depth=23, max_leaf_nodes=31, min_samples_leaf=19, min_samples_split=17, n_estimators=100; total time=   0.7s\n",
      "[CV] END criterion=friedman_mse, max_depth=23, max_leaf_nodes=31, min_samples_leaf=23, min_samples_split=14, n_estimators=100; total time=   0.7s\n",
      "[CV] END criterion=friedman_mse, max_depth=23, max_leaf_nodes=31, min_samples_leaf=23, min_samples_split=14, n_estimators=100; total time=   0.7s\n",
      "[CV] END criterion=friedman_mse, max_depth=23, max_leaf_nodes=31, min_samples_leaf=23, min_samples_split=15, n_estimators=100; total time=   0.7s\n",
      "[CV] END criterion=friedman_mse, max_depth=23, max_leaf_nodes=31, min_samples_leaf=23, min_samples_split=15, n_estimators=100; total time=   0.7s\n",
      "[CV] END criterion=friedman_mse, max_depth=23, max_leaf_nodes=31, min_samples_leaf=23, min_samples_split=16, n_estimators=100; total time=   0.7s\n",
      "[CV] END criterion=friedman_mse, max_depth=23, max_leaf_nodes=31, min_samples_leaf=23, min_samples_split=16, n_estimators=100; total time=   0.7s\n",
      "[CV] END criterion=friedman_mse, max_depth=23, max_leaf_nodes=31, min_samples_leaf=23, min_samples_split=17, n_estimators=100; total time=   0.7s\n",
      "[CV] END criterion=friedman_mse, max_depth=23, max_leaf_nodes=31, min_samples_leaf=23, min_samples_split=17, n_estimators=100; total time=   0.7s\n",
      "[CV] END criterion=friedman_mse, max_depth=23, max_leaf_nodes=31, min_samples_leaf=27, min_samples_split=14, n_estimators=100; total time=   0.6s\n",
      "[CV] END criterion=friedman_mse, max_depth=23, max_leaf_nodes=31, min_samples_leaf=27, min_samples_split=14, n_estimators=100; total time=   0.6s\n",
      "[CV] END criterion=friedman_mse, max_depth=23, max_leaf_nodes=31, min_samples_leaf=27, min_samples_split=15, n_estimators=100; total time=   0.6s\n",
      "[CV] END criterion=friedman_mse, max_depth=23, max_leaf_nodes=31, min_samples_leaf=27, min_samples_split=15, n_estimators=100; total time=   0.6s\n",
      "[CV] END criterion=friedman_mse, max_depth=23, max_leaf_nodes=31, min_samples_leaf=27, min_samples_split=16, n_estimators=100; total time=   0.6s\n",
      "[CV] END criterion=friedman_mse, max_depth=23, max_leaf_nodes=31, min_samples_leaf=27, min_samples_split=16, n_estimators=100; total time=   0.6s\n",
      "[CV] END criterion=friedman_mse, max_depth=23, max_leaf_nodes=31, min_samples_leaf=27, min_samples_split=17, n_estimators=100; total time=   0.6s\n",
      "[CV] END criterion=friedman_mse, max_depth=23, max_leaf_nodes=31, min_samples_leaf=27, min_samples_split=17, n_estimators=100; total time=   0.6s\n",
      "[CV] END criterion=friedman_mse, max_depth=23, max_leaf_nodes=31, min_samples_leaf=31, min_samples_split=14, n_estimators=100; total time=   0.6s\n",
      "[CV] END criterion=friedman_mse, max_depth=23, max_leaf_nodes=31, min_samples_leaf=31, min_samples_split=14, n_estimators=100; total time=   0.5s\n",
      "[CV] END criterion=friedman_mse, max_depth=23, max_leaf_nodes=31, min_samples_leaf=31, min_samples_split=15, n_estimators=100; total time=   0.6s\n",
      "[CV] END criterion=friedman_mse, max_depth=23, max_leaf_nodes=31, min_samples_leaf=31, min_samples_split=15, n_estimators=100; total time=   0.5s\n",
      "[CV] END criterion=friedman_mse, max_depth=23, max_leaf_nodes=31, min_samples_leaf=31, min_samples_split=16, n_estimators=100; total time=   0.6s\n",
      "[CV] END criterion=friedman_mse, max_depth=23, max_leaf_nodes=31, min_samples_leaf=31, min_samples_split=16, n_estimators=100; total time=   0.5s\n",
      "[CV] END criterion=friedman_mse, max_depth=23, max_leaf_nodes=31, min_samples_leaf=31, min_samples_split=17, n_estimators=100; total time=   0.6s\n",
      "[CV] END criterion=friedman_mse, max_depth=23, max_leaf_nodes=31, min_samples_leaf=31, min_samples_split=17, n_estimators=100; total time=   0.5s\n"
     ]
    },
    {
     "name": "stdout",
     "output_type": "stream",
     "text": [
      "[CV] END criterion=friedman_mse, max_depth=24, max_leaf_nodes=19, min_samples_leaf=19, min_samples_split=14, n_estimators=100; total time=   0.6s\n",
      "[CV] END criterion=friedman_mse, max_depth=24, max_leaf_nodes=19, min_samples_leaf=19, min_samples_split=14, n_estimators=100; total time=   0.5s\n",
      "[CV] END criterion=friedman_mse, max_depth=24, max_leaf_nodes=19, min_samples_leaf=19, min_samples_split=15, n_estimators=100; total time=   0.6s\n",
      "[CV] END criterion=friedman_mse, max_depth=24, max_leaf_nodes=19, min_samples_leaf=19, min_samples_split=15, n_estimators=100; total time=   0.6s\n",
      "[CV] END criterion=friedman_mse, max_depth=24, max_leaf_nodes=19, min_samples_leaf=19, min_samples_split=16, n_estimators=100; total time=   0.6s\n",
      "[CV] END criterion=friedman_mse, max_depth=24, max_leaf_nodes=19, min_samples_leaf=19, min_samples_split=16, n_estimators=100; total time=   0.5s\n",
      "[CV] END criterion=friedman_mse, max_depth=24, max_leaf_nodes=19, min_samples_leaf=19, min_samples_split=17, n_estimators=100; total time=   0.6s\n",
      "[CV] END criterion=friedman_mse, max_depth=24, max_leaf_nodes=19, min_samples_leaf=19, min_samples_split=17, n_estimators=100; total time=   0.5s\n",
      "[CV] END criterion=friedman_mse, max_depth=24, max_leaf_nodes=19, min_samples_leaf=23, min_samples_split=14, n_estimators=100; total time=   0.6s\n",
      "[CV] END criterion=friedman_mse, max_depth=24, max_leaf_nodes=19, min_samples_leaf=23, min_samples_split=14, n_estimators=100; total time=   0.5s\n",
      "[CV] END criterion=friedman_mse, max_depth=24, max_leaf_nodes=19, min_samples_leaf=23, min_samples_split=15, n_estimators=100; total time=   0.6s\n",
      "[CV] END criterion=friedman_mse, max_depth=24, max_leaf_nodes=19, min_samples_leaf=23, min_samples_split=15, n_estimators=100; total time=   0.5s\n",
      "[CV] END criterion=friedman_mse, max_depth=24, max_leaf_nodes=19, min_samples_leaf=23, min_samples_split=16, n_estimators=100; total time=   0.6s\n",
      "[CV] END criterion=friedman_mse, max_depth=24, max_leaf_nodes=19, min_samples_leaf=23, min_samples_split=16, n_estimators=100; total time=   0.5s\n",
      "[CV] END criterion=friedman_mse, max_depth=24, max_leaf_nodes=19, min_samples_leaf=23, min_samples_split=17, n_estimators=100; total time=   0.6s\n",
      "[CV] END criterion=friedman_mse, max_depth=24, max_leaf_nodes=19, min_samples_leaf=23, min_samples_split=17, n_estimators=100; total time=   0.5s\n",
      "[CV] END criterion=friedman_mse, max_depth=24, max_leaf_nodes=19, min_samples_leaf=27, min_samples_split=14, n_estimators=100; total time=   0.5s\n",
      "[CV] END criterion=friedman_mse, max_depth=24, max_leaf_nodes=19, min_samples_leaf=27, min_samples_split=14, n_estimators=100; total time=   0.5s\n",
      "[CV] END criterion=friedman_mse, max_depth=24, max_leaf_nodes=19, min_samples_leaf=27, min_samples_split=15, n_estimators=100; total time=   0.5s\n",
      "[CV] END criterion=friedman_mse, max_depth=24, max_leaf_nodes=19, min_samples_leaf=27, min_samples_split=15, n_estimators=100; total time=   0.5s\n",
      "[CV] END criterion=friedman_mse, max_depth=24, max_leaf_nodes=19, min_samples_leaf=27, min_samples_split=16, n_estimators=100; total time=   0.5s\n",
      "[CV] END criterion=friedman_mse, max_depth=24, max_leaf_nodes=19, min_samples_leaf=27, min_samples_split=16, n_estimators=100; total time=   0.5s\n",
      "[CV] END criterion=friedman_mse, max_depth=24, max_leaf_nodes=19, min_samples_leaf=27, min_samples_split=17, n_estimators=100; total time=   0.5s\n",
      "[CV] END criterion=friedman_mse, max_depth=24, max_leaf_nodes=19, min_samples_leaf=27, min_samples_split=17, n_estimators=100; total time=   0.5s\n",
      "[CV] END criterion=friedman_mse, max_depth=24, max_leaf_nodes=19, min_samples_leaf=31, min_samples_split=14, n_estimators=100; total time=   0.5s\n",
      "[CV] END criterion=friedman_mse, max_depth=24, max_leaf_nodes=19, min_samples_leaf=31, min_samples_split=14, n_estimators=100; total time=   0.5s\n",
      "[CV] END criterion=friedman_mse, max_depth=24, max_leaf_nodes=19, min_samples_leaf=31, min_samples_split=15, n_estimators=100; total time=   0.5s\n",
      "[CV] END criterion=friedman_mse, max_depth=24, max_leaf_nodes=19, min_samples_leaf=31, min_samples_split=15, n_estimators=100; total time=   0.5s\n",
      "[CV] END criterion=friedman_mse, max_depth=24, max_leaf_nodes=19, min_samples_leaf=31, min_samples_split=16, n_estimators=100; total time=   0.5s\n",
      "[CV] END criterion=friedman_mse, max_depth=24, max_leaf_nodes=19, min_samples_leaf=31, min_samples_split=16, n_estimators=100; total time=   0.5s\n",
      "[CV] END criterion=friedman_mse, max_depth=24, max_leaf_nodes=19, min_samples_leaf=31, min_samples_split=17, n_estimators=100; total time=   0.5s\n",
      "[CV] END criterion=friedman_mse, max_depth=24, max_leaf_nodes=19, min_samples_leaf=31, min_samples_split=17, n_estimators=100; total time=   0.5s\n",
      "[CV] END criterion=friedman_mse, max_depth=24, max_leaf_nodes=23, min_samples_leaf=19, min_samples_split=14, n_estimators=100; total time=   0.6s\n",
      "[CV] END criterion=friedman_mse, max_depth=24, max_leaf_nodes=23, min_samples_leaf=19, min_samples_split=14, n_estimators=100; total time=   0.6s\n",
      "[CV] END criterion=friedman_mse, max_depth=24, max_leaf_nodes=23, min_samples_leaf=19, min_samples_split=15, n_estimators=100; total time=   0.6s\n",
      "[CV] END criterion=friedman_mse, max_depth=24, max_leaf_nodes=23, min_samples_leaf=19, min_samples_split=15, n_estimators=100; total time=   0.6s\n",
      "[CV] END criterion=friedman_mse, max_depth=24, max_leaf_nodes=23, min_samples_leaf=19, min_samples_split=16, n_estimators=100; total time=   0.6s\n",
      "[CV] END criterion=friedman_mse, max_depth=24, max_leaf_nodes=23, min_samples_leaf=19, min_samples_split=16, n_estimators=100; total time=   0.6s\n",
      "[CV] END criterion=friedman_mse, max_depth=24, max_leaf_nodes=23, min_samples_leaf=19, min_samples_split=17, n_estimators=100; total time=   0.6s\n",
      "[CV] END criterion=friedman_mse, max_depth=24, max_leaf_nodes=23, min_samples_leaf=19, min_samples_split=17, n_estimators=100; total time=   0.6s\n",
      "[CV] END criterion=friedman_mse, max_depth=24, max_leaf_nodes=23, min_samples_leaf=23, min_samples_split=14, n_estimators=100; total time=   0.6s\n",
      "[CV] END criterion=friedman_mse, max_depth=24, max_leaf_nodes=23, min_samples_leaf=23, min_samples_split=14, n_estimators=100; total time=   0.6s\n",
      "[CV] END criterion=friedman_mse, max_depth=24, max_leaf_nodes=23, min_samples_leaf=23, min_samples_split=15, n_estimators=100; total time=   0.6s\n",
      "[CV] END criterion=friedman_mse, max_depth=24, max_leaf_nodes=23, min_samples_leaf=23, min_samples_split=15, n_estimators=100; total time=   0.6s\n",
      "[CV] END criterion=friedman_mse, max_depth=24, max_leaf_nodes=23, min_samples_leaf=23, min_samples_split=16, n_estimators=100; total time=   0.6s\n",
      "[CV] END criterion=friedman_mse, max_depth=24, max_leaf_nodes=23, min_samples_leaf=23, min_samples_split=16, n_estimators=100; total time=   0.6s\n",
      "[CV] END criterion=friedman_mse, max_depth=24, max_leaf_nodes=23, min_samples_leaf=23, min_samples_split=17, n_estimators=100; total time=   0.6s\n",
      "[CV] END criterion=friedman_mse, max_depth=24, max_leaf_nodes=23, min_samples_leaf=23, min_samples_split=17, n_estimators=100; total time=   0.6s\n",
      "[CV] END criterion=friedman_mse, max_depth=24, max_leaf_nodes=23, min_samples_leaf=27, min_samples_split=14, n_estimators=100; total time=   0.6s\n",
      "[CV] END criterion=friedman_mse, max_depth=24, max_leaf_nodes=23, min_samples_leaf=27, min_samples_split=14, n_estimators=100; total time=   0.6s\n",
      "[CV] END criterion=friedman_mse, max_depth=24, max_leaf_nodes=23, min_samples_leaf=27, min_samples_split=15, n_estimators=100; total time=   0.6s\n",
      "[CV] END criterion=friedman_mse, max_depth=24, max_leaf_nodes=23, min_samples_leaf=27, min_samples_split=15, n_estimators=100; total time=   0.6s\n",
      "[CV] END criterion=friedman_mse, max_depth=24, max_leaf_nodes=23, min_samples_leaf=27, min_samples_split=16, n_estimators=100; total time=   0.6s\n",
      "[CV] END criterion=friedman_mse, max_depth=24, max_leaf_nodes=23, min_samples_leaf=27, min_samples_split=16, n_estimators=100; total time=   0.6s\n",
      "[CV] END criterion=friedman_mse, max_depth=24, max_leaf_nodes=23, min_samples_leaf=27, min_samples_split=17, n_estimators=100; total time=   0.6s\n",
      "[CV] END criterion=friedman_mse, max_depth=24, max_leaf_nodes=23, min_samples_leaf=27, min_samples_split=17, n_estimators=100; total time=   0.6s\n",
      "[CV] END criterion=friedman_mse, max_depth=24, max_leaf_nodes=23, min_samples_leaf=31, min_samples_split=14, n_estimators=100; total time=   0.6s\n"
     ]
    },
    {
     "name": "stdout",
     "output_type": "stream",
     "text": [
      "[CV] END criterion=friedman_mse, max_depth=24, max_leaf_nodes=23, min_samples_leaf=31, min_samples_split=14, n_estimators=100; total time=   0.6s\n",
      "[CV] END criterion=friedman_mse, max_depth=24, max_leaf_nodes=23, min_samples_leaf=31, min_samples_split=15, n_estimators=100; total time=   0.6s\n",
      "[CV] END criterion=friedman_mse, max_depth=24, max_leaf_nodes=23, min_samples_leaf=31, min_samples_split=15, n_estimators=100; total time=   0.5s\n",
      "[CV] END criterion=friedman_mse, max_depth=24, max_leaf_nodes=23, min_samples_leaf=31, min_samples_split=16, n_estimators=100; total time=   0.6s\n",
      "[CV] END criterion=friedman_mse, max_depth=24, max_leaf_nodes=23, min_samples_leaf=31, min_samples_split=16, n_estimators=100; total time=   0.5s\n",
      "[CV] END criterion=friedman_mse, max_depth=24, max_leaf_nodes=23, min_samples_leaf=31, min_samples_split=17, n_estimators=100; total time=   0.6s\n",
      "[CV] END criterion=friedman_mse, max_depth=24, max_leaf_nodes=23, min_samples_leaf=31, min_samples_split=17, n_estimators=100; total time=   0.5s\n",
      "[CV] END criterion=friedman_mse, max_depth=24, max_leaf_nodes=27, min_samples_leaf=19, min_samples_split=14, n_estimators=100; total time=   0.7s\n",
      "[CV] END criterion=friedman_mse, max_depth=24, max_leaf_nodes=27, min_samples_leaf=19, min_samples_split=14, n_estimators=100; total time=   0.7s\n",
      "[CV] END criterion=friedman_mse, max_depth=24, max_leaf_nodes=27, min_samples_leaf=19, min_samples_split=15, n_estimators=100; total time=   0.7s\n",
      "[CV] END criterion=friedman_mse, max_depth=24, max_leaf_nodes=27, min_samples_leaf=19, min_samples_split=15, n_estimators=100; total time=   0.7s\n",
      "[CV] END criterion=friedman_mse, max_depth=24, max_leaf_nodes=27, min_samples_leaf=19, min_samples_split=16, n_estimators=100; total time=   0.7s\n",
      "[CV] END criterion=friedman_mse, max_depth=24, max_leaf_nodes=27, min_samples_leaf=19, min_samples_split=16, n_estimators=100; total time=   0.7s\n",
      "[CV] END criterion=friedman_mse, max_depth=24, max_leaf_nodes=27, min_samples_leaf=19, min_samples_split=17, n_estimators=100; total time=   0.7s\n",
      "[CV] END criterion=friedman_mse, max_depth=24, max_leaf_nodes=27, min_samples_leaf=19, min_samples_split=17, n_estimators=100; total time=   0.7s\n",
      "[CV] END criterion=friedman_mse, max_depth=24, max_leaf_nodes=27, min_samples_leaf=23, min_samples_split=14, n_estimators=100; total time=   0.6s\n",
      "[CV] END criterion=friedman_mse, max_depth=24, max_leaf_nodes=27, min_samples_leaf=23, min_samples_split=14, n_estimators=100; total time=   0.6s\n",
      "[CV] END criterion=friedman_mse, max_depth=24, max_leaf_nodes=27, min_samples_leaf=23, min_samples_split=15, n_estimators=100; total time=   0.6s\n",
      "[CV] END criterion=friedman_mse, max_depth=24, max_leaf_nodes=27, min_samples_leaf=23, min_samples_split=15, n_estimators=100; total time=   0.6s\n",
      "[CV] END criterion=friedman_mse, max_depth=24, max_leaf_nodes=27, min_samples_leaf=23, min_samples_split=16, n_estimators=100; total time=   0.6s\n",
      "[CV] END criterion=friedman_mse, max_depth=24, max_leaf_nodes=27, min_samples_leaf=23, min_samples_split=16, n_estimators=100; total time=   0.6s\n",
      "[CV] END criterion=friedman_mse, max_depth=24, max_leaf_nodes=27, min_samples_leaf=23, min_samples_split=17, n_estimators=100; total time=   0.6s\n",
      "[CV] END criterion=friedman_mse, max_depth=24, max_leaf_nodes=27, min_samples_leaf=23, min_samples_split=17, n_estimators=100; total time=   0.6s\n",
      "[CV] END criterion=friedman_mse, max_depth=24, max_leaf_nodes=27, min_samples_leaf=27, min_samples_split=14, n_estimators=100; total time=   0.6s\n",
      "[CV] END criterion=friedman_mse, max_depth=24, max_leaf_nodes=27, min_samples_leaf=27, min_samples_split=14, n_estimators=100; total time=   0.6s\n",
      "[CV] END criterion=friedman_mse, max_depth=24, max_leaf_nodes=27, min_samples_leaf=27, min_samples_split=15, n_estimators=100; total time=   0.6s\n",
      "[CV] END criterion=friedman_mse, max_depth=24, max_leaf_nodes=27, min_samples_leaf=27, min_samples_split=15, n_estimators=100; total time=   0.6s\n",
      "[CV] END criterion=friedman_mse, max_depth=24, max_leaf_nodes=27, min_samples_leaf=27, min_samples_split=16, n_estimators=100; total time=   0.6s\n",
      "[CV] END criterion=friedman_mse, max_depth=24, max_leaf_nodes=27, min_samples_leaf=27, min_samples_split=16, n_estimators=100; total time=   0.6s\n",
      "[CV] END criterion=friedman_mse, max_depth=24, max_leaf_nodes=27, min_samples_leaf=27, min_samples_split=17, n_estimators=100; total time=   0.6s\n",
      "[CV] END criterion=friedman_mse, max_depth=24, max_leaf_nodes=27, min_samples_leaf=27, min_samples_split=17, n_estimators=100; total time=   0.6s\n",
      "[CV] END criterion=friedman_mse, max_depth=24, max_leaf_nodes=27, min_samples_leaf=31, min_samples_split=14, n_estimators=100; total time=   0.6s\n",
      "[CV] END criterion=friedman_mse, max_depth=24, max_leaf_nodes=27, min_samples_leaf=31, min_samples_split=14, n_estimators=100; total time=   0.5s\n",
      "[CV] END criterion=friedman_mse, max_depth=24, max_leaf_nodes=27, min_samples_leaf=31, min_samples_split=15, n_estimators=100; total time=   0.6s\n",
      "[CV] END criterion=friedman_mse, max_depth=24, max_leaf_nodes=27, min_samples_leaf=31, min_samples_split=15, n_estimators=100; total time=   0.5s\n",
      "[CV] END criterion=friedman_mse, max_depth=24, max_leaf_nodes=27, min_samples_leaf=31, min_samples_split=16, n_estimators=100; total time=   0.6s\n",
      "[CV] END criterion=friedman_mse, max_depth=24, max_leaf_nodes=27, min_samples_leaf=31, min_samples_split=16, n_estimators=100; total time=   0.5s\n",
      "[CV] END criterion=friedman_mse, max_depth=24, max_leaf_nodes=27, min_samples_leaf=31, min_samples_split=17, n_estimators=100; total time=   0.6s\n",
      "[CV] END criterion=friedman_mse, max_depth=24, max_leaf_nodes=27, min_samples_leaf=31, min_samples_split=17, n_estimators=100; total time=   0.5s\n",
      "[CV] END criterion=friedman_mse, max_depth=24, max_leaf_nodes=31, min_samples_leaf=19, min_samples_split=14, n_estimators=100; total time=   0.7s\n",
      "[CV] END criterion=friedman_mse, max_depth=24, max_leaf_nodes=31, min_samples_leaf=19, min_samples_split=14, n_estimators=100; total time=   0.7s\n",
      "[CV] END criterion=friedman_mse, max_depth=24, max_leaf_nodes=31, min_samples_leaf=19, min_samples_split=15, n_estimators=100; total time=   0.7s\n",
      "[CV] END criterion=friedman_mse, max_depth=24, max_leaf_nodes=31, min_samples_leaf=19, min_samples_split=15, n_estimators=100; total time=   0.7s\n",
      "[CV] END criterion=friedman_mse, max_depth=24, max_leaf_nodes=31, min_samples_leaf=19, min_samples_split=16, n_estimators=100; total time=   0.7s\n",
      "[CV] END criterion=friedman_mse, max_depth=24, max_leaf_nodes=31, min_samples_leaf=19, min_samples_split=16, n_estimators=100; total time=   0.7s\n",
      "[CV] END criterion=friedman_mse, max_depth=24, max_leaf_nodes=31, min_samples_leaf=19, min_samples_split=17, n_estimators=100; total time=   0.7s\n",
      "[CV] END criterion=friedman_mse, max_depth=24, max_leaf_nodes=31, min_samples_leaf=19, min_samples_split=17, n_estimators=100; total time=   0.7s\n",
      "[CV] END criterion=friedman_mse, max_depth=24, max_leaf_nodes=31, min_samples_leaf=23, min_samples_split=14, n_estimators=100; total time=   0.7s\n",
      "[CV] END criterion=friedman_mse, max_depth=24, max_leaf_nodes=31, min_samples_leaf=23, min_samples_split=14, n_estimators=100; total time=   0.7s\n",
      "[CV] END criterion=friedman_mse, max_depth=24, max_leaf_nodes=31, min_samples_leaf=23, min_samples_split=15, n_estimators=100; total time=   0.7s\n",
      "[CV] END criterion=friedman_mse, max_depth=24, max_leaf_nodes=31, min_samples_leaf=23, min_samples_split=15, n_estimators=100; total time=   0.7s\n",
      "[CV] END criterion=friedman_mse, max_depth=24, max_leaf_nodes=31, min_samples_leaf=23, min_samples_split=16, n_estimators=100; total time=   0.7s\n",
      "[CV] END criterion=friedman_mse, max_depth=24, max_leaf_nodes=31, min_samples_leaf=23, min_samples_split=16, n_estimators=100; total time=   0.7s\n",
      "[CV] END criterion=friedman_mse, max_depth=24, max_leaf_nodes=31, min_samples_leaf=23, min_samples_split=17, n_estimators=100; total time=   0.7s\n",
      "[CV] END criterion=friedman_mse, max_depth=24, max_leaf_nodes=31, min_samples_leaf=23, min_samples_split=17, n_estimators=100; total time=   0.7s\n",
      "[CV] END criterion=friedman_mse, max_depth=24, max_leaf_nodes=31, min_samples_leaf=27, min_samples_split=14, n_estimators=100; total time=   0.6s\n",
      "[CV] END criterion=friedman_mse, max_depth=24, max_leaf_nodes=31, min_samples_leaf=27, min_samples_split=14, n_estimators=100; total time=   0.6s\n"
     ]
    },
    {
     "name": "stdout",
     "output_type": "stream",
     "text": [
      "[CV] END criterion=friedman_mse, max_depth=24, max_leaf_nodes=31, min_samples_leaf=27, min_samples_split=15, n_estimators=100; total time=   0.6s\n",
      "[CV] END criterion=friedman_mse, max_depth=24, max_leaf_nodes=31, min_samples_leaf=27, min_samples_split=15, n_estimators=100; total time=   0.6s\n",
      "[CV] END criterion=friedman_mse, max_depth=24, max_leaf_nodes=31, min_samples_leaf=27, min_samples_split=16, n_estimators=100; total time=   0.6s\n",
      "[CV] END criterion=friedman_mse, max_depth=24, max_leaf_nodes=31, min_samples_leaf=27, min_samples_split=16, n_estimators=100; total time=   0.6s\n",
      "[CV] END criterion=friedman_mse, max_depth=24, max_leaf_nodes=31, min_samples_leaf=27, min_samples_split=17, n_estimators=100; total time=   0.6s\n",
      "[CV] END criterion=friedman_mse, max_depth=24, max_leaf_nodes=31, min_samples_leaf=27, min_samples_split=17, n_estimators=100; total time=   0.6s\n",
      "[CV] END criterion=friedman_mse, max_depth=24, max_leaf_nodes=31, min_samples_leaf=31, min_samples_split=14, n_estimators=100; total time=   0.6s\n",
      "[CV] END criterion=friedman_mse, max_depth=24, max_leaf_nodes=31, min_samples_leaf=31, min_samples_split=14, n_estimators=100; total time=   0.5s\n",
      "[CV] END criterion=friedman_mse, max_depth=24, max_leaf_nodes=31, min_samples_leaf=31, min_samples_split=15, n_estimators=100; total time=   0.6s\n",
      "[CV] END criterion=friedman_mse, max_depth=24, max_leaf_nodes=31, min_samples_leaf=31, min_samples_split=15, n_estimators=100; total time=   0.5s\n",
      "[CV] END criterion=friedman_mse, max_depth=24, max_leaf_nodes=31, min_samples_leaf=31, min_samples_split=16, n_estimators=100; total time=   0.6s\n",
      "[CV] END criterion=friedman_mse, max_depth=24, max_leaf_nodes=31, min_samples_leaf=31, min_samples_split=16, n_estimators=100; total time=   0.5s\n",
      "[CV] END criterion=friedman_mse, max_depth=24, max_leaf_nodes=31, min_samples_leaf=31, min_samples_split=17, n_estimators=100; total time=   0.6s\n",
      "[CV] END criterion=friedman_mse, max_depth=24, max_leaf_nodes=31, min_samples_leaf=31, min_samples_split=17, n_estimators=100; total time=   0.5s\n",
      "[CV] END criterion=friedman_mse, max_depth=25, max_leaf_nodes=19, min_samples_leaf=19, min_samples_split=14, n_estimators=100; total time=   0.6s\n",
      "[CV] END criterion=friedman_mse, max_depth=25, max_leaf_nodes=19, min_samples_leaf=19, min_samples_split=14, n_estimators=100; total time=   0.6s\n",
      "[CV] END criterion=friedman_mse, max_depth=25, max_leaf_nodes=19, min_samples_leaf=19, min_samples_split=15, n_estimators=100; total time=   0.6s\n",
      "[CV] END criterion=friedman_mse, max_depth=25, max_leaf_nodes=19, min_samples_leaf=19, min_samples_split=15, n_estimators=100; total time=   0.6s\n",
      "[CV] END criterion=friedman_mse, max_depth=25, max_leaf_nodes=19, min_samples_leaf=19, min_samples_split=16, n_estimators=100; total time=   0.6s\n",
      "[CV] END criterion=friedman_mse, max_depth=25, max_leaf_nodes=19, min_samples_leaf=19, min_samples_split=16, n_estimators=100; total time=   0.5s\n",
      "[CV] END criterion=friedman_mse, max_depth=25, max_leaf_nodes=19, min_samples_leaf=19, min_samples_split=17, n_estimators=100; total time=   0.6s\n",
      "[CV] END criterion=friedman_mse, max_depth=25, max_leaf_nodes=19, min_samples_leaf=19, min_samples_split=17, n_estimators=100; total time=   0.6s\n",
      "[CV] END criterion=friedman_mse, max_depth=25, max_leaf_nodes=19, min_samples_leaf=23, min_samples_split=14, n_estimators=100; total time=   0.6s\n",
      "[CV] END criterion=friedman_mse, max_depth=25, max_leaf_nodes=19, min_samples_leaf=23, min_samples_split=14, n_estimators=100; total time=   0.5s\n",
      "[CV] END criterion=friedman_mse, max_depth=25, max_leaf_nodes=19, min_samples_leaf=23, min_samples_split=15, n_estimators=100; total time=   0.6s\n",
      "[CV] END criterion=friedman_mse, max_depth=25, max_leaf_nodes=19, min_samples_leaf=23, min_samples_split=15, n_estimators=100; total time=   0.5s\n",
      "[CV] END criterion=friedman_mse, max_depth=25, max_leaf_nodes=19, min_samples_leaf=23, min_samples_split=16, n_estimators=100; total time=   0.6s\n",
      "[CV] END criterion=friedman_mse, max_depth=25, max_leaf_nodes=19, min_samples_leaf=23, min_samples_split=16, n_estimators=100; total time=   0.5s\n",
      "[CV] END criterion=friedman_mse, max_depth=25, max_leaf_nodes=19, min_samples_leaf=23, min_samples_split=17, n_estimators=100; total time=   0.6s\n",
      "[CV] END criterion=friedman_mse, max_depth=25, max_leaf_nodes=19, min_samples_leaf=23, min_samples_split=17, n_estimators=100; total time=   0.5s\n",
      "[CV] END criterion=friedman_mse, max_depth=25, max_leaf_nodes=19, min_samples_leaf=27, min_samples_split=14, n_estimators=100; total time=   0.5s\n",
      "[CV] END criterion=friedman_mse, max_depth=25, max_leaf_nodes=19, min_samples_leaf=27, min_samples_split=14, n_estimators=100; total time=   0.5s\n",
      "[CV] END criterion=friedman_mse, max_depth=25, max_leaf_nodes=19, min_samples_leaf=27, min_samples_split=15, n_estimators=100; total time=   0.5s\n",
      "[CV] END criterion=friedman_mse, max_depth=25, max_leaf_nodes=19, min_samples_leaf=27, min_samples_split=15, n_estimators=100; total time=   0.5s\n",
      "[CV] END criterion=friedman_mse, max_depth=25, max_leaf_nodes=19, min_samples_leaf=27, min_samples_split=16, n_estimators=100; total time=   0.5s\n",
      "[CV] END criterion=friedman_mse, max_depth=25, max_leaf_nodes=19, min_samples_leaf=27, min_samples_split=16, n_estimators=100; total time=   0.5s\n",
      "[CV] END criterion=friedman_mse, max_depth=25, max_leaf_nodes=19, min_samples_leaf=27, min_samples_split=17, n_estimators=100; total time=   0.5s\n",
      "[CV] END criterion=friedman_mse, max_depth=25, max_leaf_nodes=19, min_samples_leaf=27, min_samples_split=17, n_estimators=100; total time=   0.5s\n",
      "[CV] END criterion=friedman_mse, max_depth=25, max_leaf_nodes=19, min_samples_leaf=31, min_samples_split=14, n_estimators=100; total time=   0.5s\n",
      "[CV] END criterion=friedman_mse, max_depth=25, max_leaf_nodes=19, min_samples_leaf=31, min_samples_split=14, n_estimators=100; total time=   0.5s\n",
      "[CV] END criterion=friedman_mse, max_depth=25, max_leaf_nodes=19, min_samples_leaf=31, min_samples_split=15, n_estimators=100; total time=   0.5s\n",
      "[CV] END criterion=friedman_mse, max_depth=25, max_leaf_nodes=19, min_samples_leaf=31, min_samples_split=15, n_estimators=100; total time=   0.5s\n",
      "[CV] END criterion=friedman_mse, max_depth=25, max_leaf_nodes=19, min_samples_leaf=31, min_samples_split=16, n_estimators=100; total time=   0.5s\n",
      "[CV] END criterion=friedman_mse, max_depth=25, max_leaf_nodes=19, min_samples_leaf=31, min_samples_split=16, n_estimators=100; total time=   0.5s\n",
      "[CV] END criterion=friedman_mse, max_depth=25, max_leaf_nodes=19, min_samples_leaf=31, min_samples_split=17, n_estimators=100; total time=   0.5s\n",
      "[CV] END criterion=friedman_mse, max_depth=25, max_leaf_nodes=19, min_samples_leaf=31, min_samples_split=17, n_estimators=100; total time=   0.5s\n",
      "[CV] END criterion=friedman_mse, max_depth=25, max_leaf_nodes=23, min_samples_leaf=19, min_samples_split=14, n_estimators=100; total time=   0.6s\n",
      "[CV] END criterion=friedman_mse, max_depth=25, max_leaf_nodes=23, min_samples_leaf=19, min_samples_split=14, n_estimators=100; total time=   0.6s\n",
      "[CV] END criterion=friedman_mse, max_depth=25, max_leaf_nodes=23, min_samples_leaf=19, min_samples_split=15, n_estimators=100; total time=   0.6s\n",
      "[CV] END criterion=friedman_mse, max_depth=25, max_leaf_nodes=23, min_samples_leaf=19, min_samples_split=15, n_estimators=100; total time=   0.6s\n",
      "[CV] END criterion=friedman_mse, max_depth=25, max_leaf_nodes=23, min_samples_leaf=19, min_samples_split=16, n_estimators=100; total time=   0.6s\n",
      "[CV] END criterion=friedman_mse, max_depth=25, max_leaf_nodes=23, min_samples_leaf=19, min_samples_split=16, n_estimators=100; total time=   0.6s\n",
      "[CV] END criterion=friedman_mse, max_depth=25, max_leaf_nodes=23, min_samples_leaf=19, min_samples_split=17, n_estimators=100; total time=   0.6s\n",
      "[CV] END criterion=friedman_mse, max_depth=25, max_leaf_nodes=23, min_samples_leaf=19, min_samples_split=17, n_estimators=100; total time=   0.6s\n",
      "[CV] END criterion=friedman_mse, max_depth=25, max_leaf_nodes=23, min_samples_leaf=23, min_samples_split=14, n_estimators=100; total time=   0.6s\n",
      "[CV] END criterion=friedman_mse, max_depth=25, max_leaf_nodes=23, min_samples_leaf=23, min_samples_split=14, n_estimators=100; total time=   0.6s\n",
      "[CV] END criterion=friedman_mse, max_depth=25, max_leaf_nodes=23, min_samples_leaf=23, min_samples_split=15, n_estimators=100; total time=   0.6s\n"
     ]
    },
    {
     "name": "stdout",
     "output_type": "stream",
     "text": [
      "[CV] END criterion=friedman_mse, max_depth=25, max_leaf_nodes=23, min_samples_leaf=23, min_samples_split=15, n_estimators=100; total time=   0.6s\n",
      "[CV] END criterion=friedman_mse, max_depth=25, max_leaf_nodes=23, min_samples_leaf=23, min_samples_split=16, n_estimators=100; total time=   0.6s\n",
      "[CV] END criterion=friedman_mse, max_depth=25, max_leaf_nodes=23, min_samples_leaf=23, min_samples_split=16, n_estimators=100; total time=   0.6s\n",
      "[CV] END criterion=friedman_mse, max_depth=25, max_leaf_nodes=23, min_samples_leaf=23, min_samples_split=17, n_estimators=100; total time=   0.6s\n",
      "[CV] END criterion=friedman_mse, max_depth=25, max_leaf_nodes=23, min_samples_leaf=23, min_samples_split=17, n_estimators=100; total time=   0.6s\n",
      "[CV] END criterion=friedman_mse, max_depth=25, max_leaf_nodes=23, min_samples_leaf=27, min_samples_split=14, n_estimators=100; total time=   0.6s\n",
      "[CV] END criterion=friedman_mse, max_depth=25, max_leaf_nodes=23, min_samples_leaf=27, min_samples_split=14, n_estimators=100; total time=   0.6s\n",
      "[CV] END criterion=friedman_mse, max_depth=25, max_leaf_nodes=23, min_samples_leaf=27, min_samples_split=15, n_estimators=100; total time=   0.6s\n",
      "[CV] END criterion=friedman_mse, max_depth=25, max_leaf_nodes=23, min_samples_leaf=27, min_samples_split=15, n_estimators=100; total time=   0.6s\n",
      "[CV] END criterion=friedman_mse, max_depth=25, max_leaf_nodes=23, min_samples_leaf=27, min_samples_split=16, n_estimators=100; total time=   0.6s\n",
      "[CV] END criterion=friedman_mse, max_depth=25, max_leaf_nodes=23, min_samples_leaf=27, min_samples_split=16, n_estimators=100; total time=   0.6s\n",
      "[CV] END criterion=friedman_mse, max_depth=25, max_leaf_nodes=23, min_samples_leaf=27, min_samples_split=17, n_estimators=100; total time=   0.6s\n",
      "[CV] END criterion=friedman_mse, max_depth=25, max_leaf_nodes=23, min_samples_leaf=27, min_samples_split=17, n_estimators=100; total time=   0.6s\n",
      "[CV] END criterion=friedman_mse, max_depth=25, max_leaf_nodes=23, min_samples_leaf=31, min_samples_split=14, n_estimators=100; total time=   0.6s\n",
      "[CV] END criterion=friedman_mse, max_depth=25, max_leaf_nodes=23, min_samples_leaf=31, min_samples_split=14, n_estimators=100; total time=   0.5s\n",
      "[CV] END criterion=friedman_mse, max_depth=25, max_leaf_nodes=23, min_samples_leaf=31, min_samples_split=15, n_estimators=100; total time=   0.6s\n",
      "[CV] END criterion=friedman_mse, max_depth=25, max_leaf_nodes=23, min_samples_leaf=31, min_samples_split=15, n_estimators=100; total time=   0.6s\n",
      "[CV] END criterion=friedman_mse, max_depth=25, max_leaf_nodes=23, min_samples_leaf=31, min_samples_split=16, n_estimators=100; total time=   0.6s\n",
      "[CV] END criterion=friedman_mse, max_depth=25, max_leaf_nodes=23, min_samples_leaf=31, min_samples_split=16, n_estimators=100; total time=   0.6s\n",
      "[CV] END criterion=friedman_mse, max_depth=25, max_leaf_nodes=23, min_samples_leaf=31, min_samples_split=17, n_estimators=100; total time=   0.6s\n",
      "[CV] END criterion=friedman_mse, max_depth=25, max_leaf_nodes=23, min_samples_leaf=31, min_samples_split=17, n_estimators=100; total time=   0.5s\n",
      "[CV] END criterion=friedman_mse, max_depth=25, max_leaf_nodes=27, min_samples_leaf=19, min_samples_split=14, n_estimators=100; total time=   0.7s\n",
      "[CV] END criterion=friedman_mse, max_depth=25, max_leaf_nodes=27, min_samples_leaf=19, min_samples_split=14, n_estimators=100; total time=   0.7s\n",
      "[CV] END criterion=friedman_mse, max_depth=25, max_leaf_nodes=27, min_samples_leaf=19, min_samples_split=15, n_estimators=100; total time=   0.7s\n",
      "[CV] END criterion=friedman_mse, max_depth=25, max_leaf_nodes=27, min_samples_leaf=19, min_samples_split=15, n_estimators=100; total time=   0.7s\n",
      "[CV] END criterion=friedman_mse, max_depth=25, max_leaf_nodes=27, min_samples_leaf=19, min_samples_split=16, n_estimators=100; total time=   0.7s\n",
      "[CV] END criterion=friedman_mse, max_depth=25, max_leaf_nodes=27, min_samples_leaf=19, min_samples_split=16, n_estimators=100; total time=   0.7s\n",
      "[CV] END criterion=friedman_mse, max_depth=25, max_leaf_nodes=27, min_samples_leaf=19, min_samples_split=17, n_estimators=100; total time=   0.7s\n",
      "[CV] END criterion=friedman_mse, max_depth=25, max_leaf_nodes=27, min_samples_leaf=19, min_samples_split=17, n_estimators=100; total time=   0.7s\n",
      "[CV] END criterion=friedman_mse, max_depth=25, max_leaf_nodes=27, min_samples_leaf=23, min_samples_split=14, n_estimators=100; total time=   0.6s\n",
      "[CV] END criterion=friedman_mse, max_depth=25, max_leaf_nodes=27, min_samples_leaf=23, min_samples_split=14, n_estimators=100; total time=   0.6s\n",
      "[CV] END criterion=friedman_mse, max_depth=25, max_leaf_nodes=27, min_samples_leaf=23, min_samples_split=15, n_estimators=100; total time=   0.6s\n",
      "[CV] END criterion=friedman_mse, max_depth=25, max_leaf_nodes=27, min_samples_leaf=23, min_samples_split=15, n_estimators=100; total time=   0.6s\n",
      "[CV] END criterion=friedman_mse, max_depth=25, max_leaf_nodes=27, min_samples_leaf=23, min_samples_split=16, n_estimators=100; total time=   0.6s\n",
      "[CV] END criterion=friedman_mse, max_depth=25, max_leaf_nodes=27, min_samples_leaf=23, min_samples_split=16, n_estimators=100; total time=   0.6s\n",
      "[CV] END criterion=friedman_mse, max_depth=25, max_leaf_nodes=27, min_samples_leaf=23, min_samples_split=17, n_estimators=100; total time=   0.6s\n",
      "[CV] END criterion=friedman_mse, max_depth=25, max_leaf_nodes=27, min_samples_leaf=23, min_samples_split=17, n_estimators=100; total time=   0.6s\n",
      "[CV] END criterion=friedman_mse, max_depth=25, max_leaf_nodes=27, min_samples_leaf=27, min_samples_split=14, n_estimators=100; total time=   0.6s\n",
      "[CV] END criterion=friedman_mse, max_depth=25, max_leaf_nodes=27, min_samples_leaf=27, min_samples_split=14, n_estimators=100; total time=   0.6s\n",
      "[CV] END criterion=friedman_mse, max_depth=25, max_leaf_nodes=27, min_samples_leaf=27, min_samples_split=15, n_estimators=100; total time=   0.6s\n",
      "[CV] END criterion=friedman_mse, max_depth=25, max_leaf_nodes=27, min_samples_leaf=27, min_samples_split=15, n_estimators=100; total time=   0.6s\n",
      "[CV] END criterion=friedman_mse, max_depth=25, max_leaf_nodes=27, min_samples_leaf=27, min_samples_split=16, n_estimators=100; total time=   0.6s\n",
      "[CV] END criterion=friedman_mse, max_depth=25, max_leaf_nodes=27, min_samples_leaf=27, min_samples_split=16, n_estimators=100; total time=   0.6s\n",
      "[CV] END criterion=friedman_mse, max_depth=25, max_leaf_nodes=27, min_samples_leaf=27, min_samples_split=17, n_estimators=100; total time=   0.6s\n",
      "[CV] END criterion=friedman_mse, max_depth=25, max_leaf_nodes=27, min_samples_leaf=27, min_samples_split=17, n_estimators=100; total time=   0.6s\n",
      "[CV] END criterion=friedman_mse, max_depth=25, max_leaf_nodes=27, min_samples_leaf=31, min_samples_split=14, n_estimators=100; total time=   0.6s\n",
      "[CV] END criterion=friedman_mse, max_depth=25, max_leaf_nodes=27, min_samples_leaf=31, min_samples_split=14, n_estimators=100; total time=   0.5s\n",
      "[CV] END criterion=friedman_mse, max_depth=25, max_leaf_nodes=27, min_samples_leaf=31, min_samples_split=15, n_estimators=100; total time=   0.6s\n",
      "[CV] END criterion=friedman_mse, max_depth=25, max_leaf_nodes=27, min_samples_leaf=31, min_samples_split=15, n_estimators=100; total time=   0.5s\n",
      "[CV] END criterion=friedman_mse, max_depth=25, max_leaf_nodes=27, min_samples_leaf=31, min_samples_split=16, n_estimators=100; total time=   0.6s\n",
      "[CV] END criterion=friedman_mse, max_depth=25, max_leaf_nodes=27, min_samples_leaf=31, min_samples_split=16, n_estimators=100; total time=   0.5s\n",
      "[CV] END criterion=friedman_mse, max_depth=25, max_leaf_nodes=27, min_samples_leaf=31, min_samples_split=17, n_estimators=100; total time=   0.6s\n",
      "[CV] END criterion=friedman_mse, max_depth=25, max_leaf_nodes=27, min_samples_leaf=31, min_samples_split=17, n_estimators=100; total time=   0.5s\n",
      "[CV] END criterion=friedman_mse, max_depth=25, max_leaf_nodes=31, min_samples_leaf=19, min_samples_split=14, n_estimators=100; total time=   0.7s\n",
      "[CV] END criterion=friedman_mse, max_depth=25, max_leaf_nodes=31, min_samples_leaf=19, min_samples_split=14, n_estimators=100; total time=   0.7s\n",
      "[CV] END criterion=friedman_mse, max_depth=25, max_leaf_nodes=31, min_samples_leaf=19, min_samples_split=15, n_estimators=100; total time=   0.7s\n",
      "[CV] END criterion=friedman_mse, max_depth=25, max_leaf_nodes=31, min_samples_leaf=19, min_samples_split=15, n_estimators=100; total time=   0.7s\n"
     ]
    },
    {
     "name": "stdout",
     "output_type": "stream",
     "text": [
      "[CV] END criterion=friedman_mse, max_depth=25, max_leaf_nodes=31, min_samples_leaf=19, min_samples_split=16, n_estimators=100; total time=   0.7s\n",
      "[CV] END criterion=friedman_mse, max_depth=25, max_leaf_nodes=31, min_samples_leaf=19, min_samples_split=16, n_estimators=100; total time=   0.7s\n",
      "[CV] END criterion=friedman_mse, max_depth=25, max_leaf_nodes=31, min_samples_leaf=19, min_samples_split=17, n_estimators=100; total time=   0.7s\n",
      "[CV] END criterion=friedman_mse, max_depth=25, max_leaf_nodes=31, min_samples_leaf=19, min_samples_split=17, n_estimators=100; total time=   0.7s\n",
      "[CV] END criterion=friedman_mse, max_depth=25, max_leaf_nodes=31, min_samples_leaf=23, min_samples_split=14, n_estimators=100; total time=   0.7s\n",
      "[CV] END criterion=friedman_mse, max_depth=25, max_leaf_nodes=31, min_samples_leaf=23, min_samples_split=14, n_estimators=100; total time=   0.7s\n",
      "[CV] END criterion=friedman_mse, max_depth=25, max_leaf_nodes=31, min_samples_leaf=23, min_samples_split=15, n_estimators=100; total time=   0.7s\n",
      "[CV] END criterion=friedman_mse, max_depth=25, max_leaf_nodes=31, min_samples_leaf=23, min_samples_split=15, n_estimators=100; total time=   0.7s\n",
      "[CV] END criterion=friedman_mse, max_depth=25, max_leaf_nodes=31, min_samples_leaf=23, min_samples_split=16, n_estimators=100; total time=   0.7s\n",
      "[CV] END criterion=friedman_mse, max_depth=25, max_leaf_nodes=31, min_samples_leaf=23, min_samples_split=16, n_estimators=100; total time=   0.7s\n",
      "[CV] END criterion=friedman_mse, max_depth=25, max_leaf_nodes=31, min_samples_leaf=23, min_samples_split=17, n_estimators=100; total time=   0.7s\n",
      "[CV] END criterion=friedman_mse, max_depth=25, max_leaf_nodes=31, min_samples_leaf=23, min_samples_split=17, n_estimators=100; total time=   0.7s\n",
      "[CV] END criterion=friedman_mse, max_depth=25, max_leaf_nodes=31, min_samples_leaf=27, min_samples_split=14, n_estimators=100; total time=   0.6s\n",
      "[CV] END criterion=friedman_mse, max_depth=25, max_leaf_nodes=31, min_samples_leaf=27, min_samples_split=14, n_estimators=100; total time=   0.6s\n",
      "[CV] END criterion=friedman_mse, max_depth=25, max_leaf_nodes=31, min_samples_leaf=27, min_samples_split=15, n_estimators=100; total time=   0.6s\n",
      "[CV] END criterion=friedman_mse, max_depth=25, max_leaf_nodes=31, min_samples_leaf=27, min_samples_split=15, n_estimators=100; total time=   0.6s\n",
      "[CV] END criterion=friedman_mse, max_depth=25, max_leaf_nodes=31, min_samples_leaf=27, min_samples_split=16, n_estimators=100; total time=   0.6s\n",
      "[CV] END criterion=friedman_mse, max_depth=25, max_leaf_nodes=31, min_samples_leaf=27, min_samples_split=16, n_estimators=100; total time=   0.6s\n",
      "[CV] END criterion=friedman_mse, max_depth=25, max_leaf_nodes=31, min_samples_leaf=27, min_samples_split=17, n_estimators=100; total time=   0.6s\n",
      "[CV] END criterion=friedman_mse, max_depth=25, max_leaf_nodes=31, min_samples_leaf=27, min_samples_split=17, n_estimators=100; total time=   0.6s\n",
      "[CV] END criterion=friedman_mse, max_depth=25, max_leaf_nodes=31, min_samples_leaf=31, min_samples_split=14, n_estimators=100; total time=   0.6s\n",
      "[CV] END criterion=friedman_mse, max_depth=25, max_leaf_nodes=31, min_samples_leaf=31, min_samples_split=14, n_estimators=100; total time=   0.5s\n",
      "[CV] END criterion=friedman_mse, max_depth=25, max_leaf_nodes=31, min_samples_leaf=31, min_samples_split=15, n_estimators=100; total time=   0.6s\n",
      "[CV] END criterion=friedman_mse, max_depth=25, max_leaf_nodes=31, min_samples_leaf=31, min_samples_split=15, n_estimators=100; total time=   0.5s\n",
      "[CV] END criterion=friedman_mse, max_depth=25, max_leaf_nodes=31, min_samples_leaf=31, min_samples_split=16, n_estimators=100; total time=   0.6s\n",
      "[CV] END criterion=friedman_mse, max_depth=25, max_leaf_nodes=31, min_samples_leaf=31, min_samples_split=16, n_estimators=100; total time=   0.5s\n",
      "[CV] END criterion=friedman_mse, max_depth=25, max_leaf_nodes=31, min_samples_leaf=31, min_samples_split=17, n_estimators=100; total time=   0.6s\n",
      "[CV] END criterion=friedman_mse, max_depth=25, max_leaf_nodes=31, min_samples_leaf=31, min_samples_split=17, n_estimators=100; total time=   0.5s\n"
     ]
    },
    {
     "data": {
      "text/plain": [
       "GridSearchCV(cv=2, estimator=GradientBoostingRegressor(), n_jobs=1,\n",
       "             param_grid={'criterion': ['friedman_mse'],\n",
       "                         'max_depth': range(20, 26),\n",
       "                         'max_leaf_nodes': range(19, 32, 4),\n",
       "                         'min_samples_leaf': range(19, 32, 4),\n",
       "                         'min_samples_split': range(14, 18),\n",
       "                         'n_estimators': [100]},\n",
       "             scoring='neg_mean_absolute_error', verbose=2)"
      ]
     },
     "execution_count": 50,
     "metadata": {},
     "output_type": "execute_result"
    }
   ],
   "source": [
    "Grb_1 = GradientBoostingRegressor()\n",
    "grid_search_2 = GridSearchCV(estimator = Grb_1, param_grid = param_grid, \n",
    "                          cv = 2, n_jobs = 1, verbose = 2,scoring='neg_mean_absolute_error')\n",
    "grid_search_2.fit(zestaw_caly, np.ravel(caly_label))"
   ]
  },
  {
   "cell_type": "code",
   "execution_count": 51,
   "metadata": {},
   "outputs": [
    {
     "data": {
      "text/plain": [
       "GradientBoostingRegressor(max_depth=20, max_leaf_nodes=31, min_samples_leaf=19,\n",
       "                          min_samples_split=15)"
      ]
     },
     "execution_count": 51,
     "metadata": {},
     "output_type": "execute_result"
    }
   ],
   "source": [
    "grid_search_2.best_estimator_"
   ]
  },
  {
   "cell_type": "code",
   "execution_count": 52,
   "metadata": {},
   "outputs": [
    {
     "data": {
      "text/plain": [
       "-1.2153044473842385"
      ]
     },
     "execution_count": 52,
     "metadata": {},
     "output_type": "execute_result"
    }
   ],
   "source": [
    "grid_search_2.best_score_"
   ]
  },
  {
   "cell_type": "markdown",
   "metadata": {},
   "source": [
    "### 8.2.3 GradientBoosting - hiperparametry Wszystkie part 3"
   ]
  },
  {
   "cell_type": "code",
   "execution_count": 70,
   "metadata": {},
   "outputs": [],
   "source": [
    "param_grid = {\n",
    "    'criterion':['friedman_mse'],#\n",
    "    'min_samples_split':[15], #19\n",
    "    'min_samples_leaf':[19], #21\n",
    "    'max_leaf_nodes':[31], #33\n",
    "    'max_depth':[20], #23\n",
    "    'n_estimators':[100,1000] #\n",
    "}"
   ]
  },
  {
   "cell_type": "code",
   "execution_count": 71,
   "metadata": {},
   "outputs": [
    {
     "name": "stdout",
     "output_type": "stream",
     "text": [
      "Fitting 2 folds for each of 2 candidates, totalling 4 fits\n",
      "[CV] END criterion=friedman_mse, max_depth=20, max_leaf_nodes=31, min_samples_leaf=19, min_samples_split=15, n_estimators=100; total time=   0.7s\n",
      "[CV] END criterion=friedman_mse, max_depth=20, max_leaf_nodes=31, min_samples_leaf=19, min_samples_split=15, n_estimators=100; total time=   0.7s\n",
      "[CV] END criterion=friedman_mse, max_depth=20, max_leaf_nodes=31, min_samples_leaf=19, min_samples_split=15, n_estimators=1000; total time=  10.6s\n",
      "[CV] END criterion=friedman_mse, max_depth=20, max_leaf_nodes=31, min_samples_leaf=19, min_samples_split=15, n_estimators=1000; total time=  10.5s\n"
     ]
    },
    {
     "data": {
      "text/plain": [
       "GridSearchCV(cv=2, estimator=GradientBoostingRegressor(), n_jobs=1,\n",
       "             param_grid={'criterion': ['friedman_mse'], 'max_depth': [20],\n",
       "                         'max_leaf_nodes': [31], 'min_samples_leaf': [19],\n",
       "                         'min_samples_split': [15],\n",
       "                         'n_estimators': [100, 1000]},\n",
       "             scoring='neg_mean_absolute_error', verbose=2)"
      ]
     },
     "execution_count": 71,
     "metadata": {},
     "output_type": "execute_result"
    }
   ],
   "source": [
    "Grb_1 = GradientBoostingRegressor()\n",
    "grid_search_3 = GridSearchCV(estimator = Grb_1, param_grid = param_grid, \n",
    "                          cv = 2, n_jobs = 1, verbose = 2,scoring='neg_mean_absolute_error')\n",
    "grid_search_3.fit(zestaw_caly, np.ravel(caly_label))"
   ]
  },
  {
   "cell_type": "code",
   "execution_count": 72,
   "metadata": {},
   "outputs": [
    {
     "data": {
      "text/plain": [
       "GradientBoostingRegressor(max_depth=20, max_leaf_nodes=31, min_samples_leaf=19,\n",
       "                          min_samples_split=15, n_estimators=1000)"
      ]
     },
     "execution_count": 72,
     "metadata": {},
     "output_type": "execute_result"
    }
   ],
   "source": [
    "grid_search_3.best_estimator_"
   ]
  },
  {
   "cell_type": "code",
   "execution_count": 73,
   "metadata": {},
   "outputs": [
    {
     "data": {
      "text/plain": [
       "-1.143004971578165"
      ]
     },
     "execution_count": 73,
     "metadata": {},
     "output_type": "execute_result"
    }
   ],
   "source": [
    "grid_search_3.best_score_"
   ]
  },
  {
   "cell_type": "markdown",
   "metadata": {},
   "source": [
    "## 8.3 GradientBoosting - hiperparametry zmienne 17"
   ]
  },
  {
   "cell_type": "markdown",
   "metadata": {},
   "source": [
    "### 8.3.1 GradientBoosting - hiperparametry zmienne 17 part1"
   ]
  },
  {
   "cell_type": "code",
   "execution_count": 44,
   "metadata": {},
   "outputs": [],
   "source": [
    "param_grid = {\n",
    "    'criterion':['friedman_mse'],#\n",
    "    'min_samples_split':range(19,27,2), #\n",
    "    'min_samples_leaf': range(19,27,2),     #\n",
    "    'max_leaf_nodes':range(27,36,2), #\n",
    "    'max_depth':range(19, 26,2), #\n",
    "    'n_estimators':[100] #\n",
    "}"
   ]
  },
  {
   "cell_type": "code",
   "execution_count": 46,
   "metadata": {},
   "outputs": [
    {
     "name": "stdout",
     "output_type": "stream",
     "text": [
      "Fitting 2 folds for each of 320 candidates, totalling 640 fits\n"
     ]
    },
    {
     "data": {
      "text/plain": [
       "GridSearchCV(cv=2, estimator=GradientBoostingRegressor(), n_jobs=1,\n",
       "             param_grid={'criterion': ['friedman_mse'],\n",
       "                         'max_depth': range(19, 26, 2),\n",
       "                         'max_leaf_nodes': range(27, 36, 2),\n",
       "                         'min_samples_leaf': range(19, 27, 2),\n",
       "                         'min_samples_split': range(19, 27, 2),\n",
       "                         'n_estimators': [100]},\n",
       "             scoring='neg_mean_absolute_error', verbose=1)"
      ]
     },
     "execution_count": 46,
     "metadata": {},
     "output_type": "execute_result"
    }
   ],
   "source": [
    "Grb_1 = GradientBoostingRegressor()\n",
    "grid_search_2 = GridSearchCV(estimator = Grb_1, param_grid = param_grid, \n",
    "                          cv = 2, n_jobs = 1, verbose = 1,scoring='neg_mean_absolute_error')\n",
    "grid_search_2.fit(zestaw_17, np.ravel(caly_label))"
   ]
  },
  {
   "cell_type": "code",
   "execution_count": 47,
   "metadata": {},
   "outputs": [
    {
     "data": {
      "text/plain": [
       "GradientBoostingRegressor(max_depth=23, max_leaf_nodes=33, min_samples_leaf=21,\n",
       "                          min_samples_split=19)"
      ]
     },
     "execution_count": 47,
     "metadata": {},
     "output_type": "execute_result"
    }
   ],
   "source": [
    "grid_search_2.best_estimator_"
   ]
  },
  {
   "cell_type": "code",
   "execution_count": 48,
   "metadata": {},
   "outputs": [
    {
     "data": {
      "text/plain": [
       "-1.2107272712375114"
      ]
     },
     "execution_count": 48,
     "metadata": {},
     "output_type": "execute_result"
    }
   ],
   "source": [
    "grid_search_2.best_score_"
   ]
  },
  {
   "cell_type": "markdown",
   "metadata": {},
   "source": [
    "### 8.3.2 GradientBoosting - hiperparametry zmienne 17 part2"
   ]
  },
  {
   "cell_type": "code",
   "execution_count": 59,
   "metadata": {},
   "outputs": [],
   "source": [
    "param_grid = {\n",
    "    'criterion':['friedman_mse'],#\n",
    "    'min_samples_split':range(17, 21,1), #19\n",
    "    'min_samples_leaf':range(19, 23,1), #21\n",
    "    'max_leaf_nodes':range(30,36,1), #33\n",
    "    'max_depth':range(20, 23,1), #23\n",
    "    'n_estimators':[100] #\n",
    "}"
   ]
  },
  {
   "cell_type": "code",
   "execution_count": 60,
   "metadata": {
    "scrolled": true
   },
   "outputs": [
    {
     "name": "stdout",
     "output_type": "stream",
     "text": [
      "Fitting 2 folds for each of 288 candidates, totalling 576 fits\n"
     ]
    },
    {
     "data": {
      "text/plain": [
       "GridSearchCV(cv=2, estimator=GradientBoostingRegressor(), n_jobs=1,\n",
       "             param_grid={'criterion': ['friedman_mse'],\n",
       "                         'max_depth': range(20, 23),\n",
       "                         'max_leaf_nodes': range(30, 36),\n",
       "                         'min_samples_leaf': range(19, 23),\n",
       "                         'min_samples_split': range(17, 21),\n",
       "                         'n_estimators': [100]},\n",
       "             scoring='neg_mean_absolute_error', verbose=1)"
      ]
     },
     "execution_count": 60,
     "metadata": {},
     "output_type": "execute_result"
    }
   ],
   "source": [
    "Grb_1 = GradientBoostingRegressor()\n",
    "grid_search_2 = GridSearchCV(estimator = Grb_1, param_grid = param_grid, \n",
    "                          cv = 2, n_jobs = 1, verbose = 1,scoring='neg_mean_absolute_error')\n",
    "grid_search_2.fit(zestaw_17, np.ravel(caly_label))"
   ]
  },
  {
   "cell_type": "code",
   "execution_count": 61,
   "metadata": {},
   "outputs": [
    {
     "data": {
      "text/plain": [
       "GradientBoostingRegressor(max_depth=20, max_leaf_nodes=32, min_samples_leaf=19,\n",
       "                          min_samples_split=20)"
      ]
     },
     "execution_count": 61,
     "metadata": {},
     "output_type": "execute_result"
    }
   ],
   "source": [
    "grid_search_2.best_estimator_"
   ]
  },
  {
   "cell_type": "code",
   "execution_count": 62,
   "metadata": {},
   "outputs": [
    {
     "data": {
      "text/plain": [
       "-1.2083610280383281"
      ]
     },
     "execution_count": 62,
     "metadata": {},
     "output_type": "execute_result"
    }
   ],
   "source": [
    "grid_search_2.best_score_"
   ]
  },
  {
   "cell_type": "markdown",
   "metadata": {},
   "source": [
    "### 8.3.3 GradientBoosting - hiperparametry zmienne 17 part 3"
   ]
  },
  {
   "cell_type": "code",
   "execution_count": 65,
   "metadata": {},
   "outputs": [],
   "source": [
    "param_grid = {\n",
    "    'criterion':['friedman_mse'],#\n",
    "    'min_samples_split':[29], #19\n",
    "    'min_samples_leaf':[19], #21\n",
    "    'max_leaf_nodes':[32], #33\n",
    "    'max_depth':[20], #23\n",
    "    'n_estimators':[100,1000] #\n",
    "}"
   ]
  },
  {
   "cell_type": "code",
   "execution_count": 67,
   "metadata": {},
   "outputs": [
    {
     "name": "stdout",
     "output_type": "stream",
     "text": [
      "Fitting 2 folds for each of 2 candidates, totalling 4 fits\n",
      "[CV] END criterion=friedman_mse, max_depth=20, max_leaf_nodes=32, min_samples_leaf=19, min_samples_split=29, n_estimators=100; total time=   0.5s\n",
      "[CV] END criterion=friedman_mse, max_depth=20, max_leaf_nodes=32, min_samples_leaf=19, min_samples_split=29, n_estimators=100; total time=   0.5s\n",
      "[CV] END criterion=friedman_mse, max_depth=20, max_leaf_nodes=32, min_samples_leaf=19, min_samples_split=29, n_estimators=1000; total time=   7.5s\n",
      "[CV] END criterion=friedman_mse, max_depth=20, max_leaf_nodes=32, min_samples_leaf=19, min_samples_split=29, n_estimators=1000; total time=   7.6s\n"
     ]
    },
    {
     "data": {
      "text/plain": [
       "GridSearchCV(cv=2, estimator=GradientBoostingRegressor(), n_jobs=1,\n",
       "             param_grid={'criterion': ['friedman_mse'], 'max_depth': [20],\n",
       "                         'max_leaf_nodes': [32], 'min_samples_leaf': [19],\n",
       "                         'min_samples_split': [29],\n",
       "                         'n_estimators': [100, 1000]},\n",
       "             scoring='neg_mean_absolute_error', verbose=2)"
      ]
     },
     "execution_count": 67,
     "metadata": {},
     "output_type": "execute_result"
    }
   ],
   "source": [
    "Grb_1 = GradientBoostingRegressor()\n",
    "grid_search_3 = GridSearchCV(estimator = Grb_1, param_grid = param_grid, \n",
    "                          cv = 2, n_jobs = 1, verbose =2,scoring='neg_mean_absolute_error')\n",
    "grid_search_3.fit(zestaw_17, np.ravel(caly_label))"
   ]
  },
  {
   "cell_type": "code",
   "execution_count": 68,
   "metadata": {},
   "outputs": [
    {
     "data": {
      "text/plain": [
       "GradientBoostingRegressor(max_depth=20, max_leaf_nodes=32, min_samples_leaf=19,\n",
       "                          min_samples_split=29, n_estimators=1000)"
      ]
     },
     "execution_count": 68,
     "metadata": {},
     "output_type": "execute_result"
    }
   ],
   "source": [
    "grid_search_3.best_estimator_"
   ]
  },
  {
   "cell_type": "code",
   "execution_count": 69,
   "metadata": {},
   "outputs": [
    {
     "data": {
      "text/plain": [
       "-1.1344111507906218"
      ]
     },
     "execution_count": 69,
     "metadata": {},
     "output_type": "execute_result"
    }
   ],
   "source": [
    "grid_search_3.best_score_"
   ]
  },
  {
   "cell_type": "code",
   "execution_count": null,
   "metadata": {},
   "outputs": [],
   "source": [
    "# zrobic cross-validacje"
   ]
  },
  {
   "cell_type": "markdown",
   "metadata": {},
   "source": [
    "## 8.4 Cross validacja k=5"
   ]
  },
  {
   "cell_type": "markdown",
   "metadata": {},
   "source": [
    "### 8.4.1 Wszystkie"
   ]
  },
  {
   "cell_type": "code",
   "execution_count": 74,
   "metadata": {},
   "outputs": [],
   "source": [
    "kfold = KFold(n_splits=5, shuffle=False)\n",
    "dane_do_zapisu_1=pd.DataFrame()\n",
    "licznik=1\n",
    "wart_1=[]\n",
    "\n",
    "for train, test in kfold.split(zestaw_caly, caly_label):\n",
    "    GB_1 = GradientBoostingRegressor(max_depth=20, max_leaf_nodes=31, min_samples_leaf=19,\n",
    "                          min_samples_split=15, n_estimators=1000)\n",
    "    \n",
    "    GB_1.fit(zestaw_caly[train], caly_label[train])\n",
    "    predykcje=GB_1.predict(zestaw_caly[test])\n",
    "    dane_folda_1=pd.DataFrame({\"pred\": predykcje.ravel(),\n",
    "                                \"obs\": caly_label[test],\n",
    "                                \"Fold\":licznik})\n",
    "    dane_do_zapisu_1=pd.concat([dane_do_zapisu_1,dane_folda_1])\n",
    "    sredni_blad=mean_absolute_error(caly_label[test],predykcje)\n",
    "    wart_1.append(sredni_blad)\n",
    "    licznik+=1"
   ]
  },
  {
   "cell_type": "code",
   "execution_count": 75,
   "metadata": {},
   "outputs": [
    {
     "data": {
      "text/plain": [
       "[0.8834543669616371,\n",
       " 0.8628622427505104,\n",
       " 0.8483504863330908,\n",
       " 0.8511577908990812,\n",
       " 0.7715472117804612]"
      ]
     },
     "execution_count": 75,
     "metadata": {},
     "output_type": "execute_result"
    }
   ],
   "source": [
    "wart_1"
   ]
  },
  {
   "cell_type": "code",
   "execution_count": 76,
   "metadata": {},
   "outputs": [
    {
     "data": {
      "text/plain": [
       "0.8434744197449561"
      ]
     },
     "execution_count": 76,
     "metadata": {},
     "output_type": "execute_result"
    }
   ],
   "source": [
    "sum(wart_1)/len(wart_1)"
   ]
  },
  {
   "cell_type": "markdown",
   "metadata": {},
   "source": [
    "### 8.4.2 zestaw 17"
   ]
  },
  {
   "cell_type": "code",
   "execution_count": 78,
   "metadata": {},
   "outputs": [],
   "source": [
    "kfold = KFold(n_splits=5, shuffle=False)\n",
    "dane_do_zapisu_2=pd.DataFrame()\n",
    "licznik=1\n",
    "wart_2=[]\n",
    "\n",
    "for train, test in kfold.split(zestaw_17, caly_label):\n",
    "    GB_2 = GradientBoostingRegressor(max_depth=20, max_leaf_nodes=32, min_samples_leaf=19,\n",
    "                          min_samples_split=29, n_estimators=1000)\n",
    "    \n",
    "    GB_2.fit(zestaw_17[train], caly_label[train])\n",
    "    predykcje=GB_2.predict(zestaw_17[test])\n",
    "    dane_folda_2=pd.DataFrame({\"pred\": predykcje.ravel(),\n",
    "                                \"obs\": caly_label[test],\n",
    "                                \"Fold\":licznik})\n",
    "    dane_do_zapisu_2=pd.concat([dane_do_zapisu_2,dane_folda_2])\n",
    "    sredni_blad=mean_absolute_error(caly_label[test],predykcje)\n",
    "    wart_2.append(sredni_blad)\n",
    "    licznik+=1"
   ]
  },
  {
   "cell_type": "code",
   "execution_count": 79,
   "metadata": {},
   "outputs": [
    {
     "data": {
      "text/plain": [
       "[0.8627852655605773,\n",
       " 0.8862948390897877,\n",
       " 0.8593840346182198,\n",
       " 0.8564910294381828,\n",
       " 0.7892991781459535]"
      ]
     },
     "execution_count": 79,
     "metadata": {},
     "output_type": "execute_result"
    }
   ],
   "source": [
    "wart_2"
   ]
  },
  {
   "cell_type": "code",
   "execution_count": 80,
   "metadata": {},
   "outputs": [
    {
     "data": {
      "text/plain": [
       "0.8508508693705442"
      ]
     },
     "execution_count": 80,
     "metadata": {},
     "output_type": "execute_result"
    }
   ],
   "source": [
    "sum(wart_2)/len(wart_2)"
   ]
  },
  {
   "cell_type": "markdown",
   "metadata": {},
   "source": [
    "### 8.5 Zapisuje predykcje Zestaw 22"
   ]
  },
  {
   "cell_type": "code",
   "execution_count": 81,
   "metadata": {},
   "outputs": [],
   "source": [
    "dane_do_zapisu_1.to_csv(\"D:/STUDIA/ROK_II/Projekt/Predykcje_i błędy/Okres Między Ciążowy/OMC_GradientBoostingRegresor_FS.csv\")"
   ]
  },
  {
   "cell_type": "code",
   "execution_count": null,
   "metadata": {},
   "outputs": [],
   "source": []
  }
 ],
 "metadata": {
  "colab": {
   "collapsed_sections": [],
   "name": "continues_variable_modelling_basic_regression.ipynb",
   "provenance": []
  },
  "kernelspec": {
   "display_name": "Python 3",
   "language": "python",
   "name": "python3"
  },
  "language_info": {
   "codemirror_mode": {
    "name": "ipython",
    "version": 3
   },
   "file_extension": ".py",
   "mimetype": "text/x-python",
   "name": "python",
   "nbconvert_exporter": "python",
   "pygments_lexer": "ipython3",
   "version": "3.7.10"
  }
 },
 "nbformat": 4,
 "nbformat_minor": 1
}
