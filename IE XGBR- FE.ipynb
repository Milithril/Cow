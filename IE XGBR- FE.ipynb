{
 "cells": [
  {
   "cell_type": "markdown",
   "metadata": {
    "id": "bPV-6xysFeQ1"
   },
   "source": [
    "# Zastosowanie drzew decyzyjnych oraz lasów losowych przy, gdzie y reprezentowany jest przez dane typu ciągłego**\n"
   ]
  },
  {
   "cell_type": "markdown",
   "metadata": {},
   "source": [
    "## 1. Biblioteki"
   ]
  },
  {
   "cell_type": "code",
   "execution_count": 1,
   "metadata": {
    "id": "JJMNYhNp0ejg"
   },
   "outputs": [],
   "source": [
    "import pandas as pd\n",
    "import sklearn.tree\n",
    "import numpy as np\n",
    "from sklearn.tree import DecisionTreeRegressor  #ładowanie fukcji do tworzenia instacji drzew dla Y ciaglego\n",
    "from sklearn.metrics import mean_absolute_error, r2_score #funkcje do badania dopasowania modelu\n",
    "from sklearn.ensemble import RandomForestRegressor #ladowanie funkcji RandomForestRegressor do tworzenia instancji algorytmu\n",
    "from sklearn.ensemble import GradientBoostingRegressor \n",
    "import dtreeviz.trees as dtv # importowanie dtreeviz\n",
    "from sklearn.model_selection import GridSearchCV\n",
    "from sklearn.metrics import mean_absolute_error\n",
    "from dtreeviz.trees import *\n",
    "\n",
    "\n",
    "import xgboost as xgb\n",
    "from sklearn.model_selection import train_test_split\n",
    "from sklearn.model_selection import cross_val_score, KFold\n",
    "from sklearn.metrics import mean_absolute_error\n",
    "import matplotlib.pyplot as plt \n",
    "\n",
    "from sklearn.feature_selection import RFECV\n",
    "from sklearn.metrics import make_scorer\n",
    "\n",
    "import graphviz"
   ]
  },
  {
   "cell_type": "markdown",
   "metadata": {},
   "source": [
    "## 2. Wczytuje  i sprawdzam typ danych"
   ]
  },
  {
   "cell_type": "code",
   "execution_count": 2,
   "metadata": {},
   "outputs": [],
   "source": [
    "train_df=pd.read_csv('D:/STUDIA/ROK_II/Projekt/Dane_jalowka_i_krowa_train.csv')\n",
    "test_df=pd.read_csv('D:/STUDIA/ROK_II/Projekt/Dane_jalowka_i_krowa_test.csv')\n",
    "val_df=pd.read_csv('D:/STUDIA/ROK_II/Projekt/Dane_jalowka_i_krowa_val.csv')\n",
    "\n",
    "train_df.columns = ['id','Województwo', 'Data urodzenia', 'IE', 'Dokł. IE', 'PF', 'PI-PROD', 'PI-POKR', 'Prc', 'Psm', 'Pnr', 'Pw','PI-PLOD', 'CRj', 'CRk', 'PP', 'OMC', 'WH-KSOM', 'WH-DLUG', 'IP', 'kg ml', 'kg tł', '% tł', 'kg bi', '% bi', 'rc', 'sm', 'nr', 'w', 'og','kategoria']\n",
    "test_df.columns = ['id','Województwo', 'Data urodzenia', 'IE', 'Dokł. IE', 'PF', 'PI-PROD', 'PI-POKR', 'Prc', 'Psm', 'Pnr', 'Pw','PI-PLOD', 'CRj', 'CRk', 'PP', 'OMC', 'WH-KSOM', 'WH-DLUG', 'IP', 'kg ml', 'kg tł', '% tł', 'kg bi', '% bi', 'rc', 'sm', 'nr', 'w', 'og','kategoria']\n",
    "val_df.columns = ['id','Województwo', 'Data urodzenia', 'IE', 'Dokł. IE', 'PF', 'PI-PROD', 'PI-POKR', 'Prc', 'Psm', 'Pnr', 'Pw','PI-PLOD', 'CRj', 'CRk', 'PP', 'OMC', 'WH-KSOM', 'WH-DLUG', 'IP', 'kg ml', 'kg tł', '% tł', 'kg bi', '% bi', 'rc', 'sm', 'nr', 'w', 'og','kategoria']\n",
    "\n",
    "caly_df = pd.concat([train_df, test_df, val_df])\n",
    "caly_df['Województwo']=caly_df['Województwo'].astype('category')\n",
    "caly_df['Data urodzenia']=caly_df['Data urodzenia'].astype('category')\n",
    "\n",
    "del caly_df[\"id\"]\n",
    "del caly_df[\"PF\"]\n",
    "del caly_df[\"Dokł. IE\"]\n",
    "del caly_df['kategoria']"
   ]
  },
  {
   "cell_type": "code",
   "execution_count": 3,
   "metadata": {},
   "outputs": [
    {
     "name": "stdout",
     "output_type": "stream",
     "text": [
      "<class 'pandas.core.frame.DataFrame'>\n",
      "Int64Index: 1881 entries, 0 to 188\n",
      "Data columns (total 27 columns):\n",
      " #   Column          Non-Null Count  Dtype   \n",
      "---  ------          --------------  -----   \n",
      " 0   Województwo     1881 non-null   category\n",
      " 1   Data urodzenia  1881 non-null   category\n",
      " 2   IE              1881 non-null   int64   \n",
      " 3   PI-PROD         1881 non-null   int64   \n",
      " 4   PI-POKR         1881 non-null   int64   \n",
      " 5   Prc             1881 non-null   int64   \n",
      " 6   Psm             1881 non-null   int64   \n",
      " 7   Pnr             1881 non-null   int64   \n",
      " 8   Pw              1881 non-null   int64   \n",
      " 9   PI-PLOD         1881 non-null   int64   \n",
      " 10  CRj             1881 non-null   int64   \n",
      " 11  CRk             1881 non-null   int64   \n",
      " 12  PP              1881 non-null   int64   \n",
      " 13  OMC             1881 non-null   int64   \n",
      " 14  WH-KSOM         1881 non-null   int64   \n",
      " 15  WH-DLUG         1881 non-null   int64   \n",
      " 16  IP              1881 non-null   int64   \n",
      " 17  kg ml           1881 non-null   int64   \n",
      " 18  kg tł           1881 non-null   int64   \n",
      " 19  % tł            1881 non-null   int64   \n",
      " 20  kg bi           1881 non-null   int64   \n",
      " 21  % bi            1881 non-null   int64   \n",
      " 22  rc              1881 non-null   float64 \n",
      " 23  sm              1881 non-null   float64 \n",
      " 24  nr              1881 non-null   float64 \n",
      " 25  w               1881 non-null   float64 \n",
      " 26  og              1881 non-null   float64 \n",
      "dtypes: category(2), float64(5), int64(20)\n",
      "memory usage: 386.8 KB\n"
     ]
    }
   ],
   "source": [
    "caly_df.info()"
   ]
  },
  {
   "cell_type": "markdown",
   "metadata": {},
   "source": [
    "### 3. Usuwam mniejszości zmiennych kategorycznych "
   ]
  },
  {
   "cell_type": "code",
   "execution_count": 4,
   "metadata": {},
   "outputs": [
    {
     "data": {
      "text/plain": [
       "WIELKOPOLSKIE          579\n",
       "KUJAWSKO-POMORSKIE     298\n",
       "OPOLSKIE               227\n",
       "ZACHODNIOPOMORSKIE     212\n",
       "PODLASKIE              175\n",
       "MAZOWIECKIE            106\n",
       "POMORSKIE               94\n",
       "LUBUSKIE                47\n",
       "ŁÓDZKIE                 41\n",
       "DOLNOŚLĄSKIE            32\n",
       "WARMIŃSKO-MAZURSKIE     23\n",
       "ŚLĄSKIE                 17\n",
       "ŚWIĘTOKRZYSKIE          13\n",
       "MAŁOPOLSKIE             12\n",
       "LUBELSKIE                4\n",
       "PODKARPACKIE             1\n",
       "Name: Województwo, dtype: int64"
      ]
     },
     "execution_count": 4,
     "metadata": {},
     "output_type": "execute_result"
    }
   ],
   "source": [
    "caly_df['Województwo'].value_counts()"
   ]
  },
  {
   "cell_type": "code",
   "execution_count": 5,
   "metadata": {},
   "outputs": [],
   "source": [
    "caly_df=caly_df[caly_df['Województwo']!='PODKARPACKIE']\n",
    "caly_df=caly_df[caly_df['Województwo']!='LUBELSKIE']"
   ]
  },
  {
   "cell_type": "code",
   "execution_count": 6,
   "metadata": {},
   "outputs": [
    {
     "data": {
      "text/plain": [
       "WIELKOPOLSKIE          579\n",
       "KUJAWSKO-POMORSKIE     298\n",
       "OPOLSKIE               227\n",
       "ZACHODNIOPOMORSKIE     212\n",
       "PODLASKIE              175\n",
       "MAZOWIECKIE            106\n",
       "POMORSKIE               94\n",
       "LUBUSKIE                47\n",
       "ŁÓDZKIE                 41\n",
       "DOLNOŚLĄSKIE            32\n",
       "WARMIŃSKO-MAZURSKIE     23\n",
       "ŚLĄSKIE                 17\n",
       "ŚWIĘTOKRZYSKIE          13\n",
       "MAŁOPOLSKIE             12\n",
       "LUBELSKIE                0\n",
       "PODKARPACKIE             0\n",
       "Name: Województwo, dtype: int64"
      ]
     },
     "execution_count": 6,
     "metadata": {},
     "output_type": "execute_result"
    }
   ],
   "source": [
    "caly_df['Województwo'].value_counts()"
   ]
  },
  {
   "cell_type": "code",
   "execution_count": 7,
   "metadata": {},
   "outputs": [
    {
     "data": {
      "text/plain": [
       "2020    1066\n",
       "2019     396\n",
       "2018     275\n",
       "2017      68\n",
       "2021      47\n",
       "2016      23\n",
       "2015       1\n",
       "Name: Data urodzenia, dtype: int64"
      ]
     },
     "execution_count": 7,
     "metadata": {},
     "output_type": "execute_result"
    }
   ],
   "source": [
    "caly_df['Data urodzenia'].value_counts()"
   ]
  },
  {
   "cell_type": "code",
   "execution_count": 8,
   "metadata": {},
   "outputs": [],
   "source": [
    "caly_df=caly_df[caly_df['Data urodzenia']!=2015]"
   ]
  },
  {
   "cell_type": "code",
   "execution_count": 9,
   "metadata": {},
   "outputs": [
    {
     "data": {
      "text/plain": [
       "2020    1066\n",
       "2019     396\n",
       "2018     275\n",
       "2017      68\n",
       "2021      47\n",
       "2016      23\n",
       "2015       0\n",
       "Name: Data urodzenia, dtype: int64"
      ]
     },
     "execution_count": 9,
     "metadata": {},
     "output_type": "execute_result"
    }
   ],
   "source": [
    "caly_df['Data urodzenia'].value_counts()"
   ]
  },
  {
   "cell_type": "code",
   "execution_count": 10,
   "metadata": {},
   "outputs": [],
   "source": [
    "caly_label=caly_df[\"IE\"]\n",
    "del caly_df[\"IE\"]"
   ]
  },
  {
   "cell_type": "markdown",
   "metadata": {},
   "source": [
    "### 4. Zakodowuje zmienne kategoryczne "
   ]
  },
  {
   "cell_type": "code",
   "execution_count": 11,
   "metadata": {},
   "outputs": [],
   "source": [
    "a=pd.get_dummies(caly_df['Województwo'])\n",
    "b=pd.get_dummies(caly_df['Data urodzenia'])\n",
    "caly_df= pd.concat([caly_df,a,b], axis=1)\n",
    "del caly_df['Województwo']\n",
    "del caly_df['Data urodzenia']"
   ]
  },
  {
   "cell_type": "code",
   "execution_count": 12,
   "metadata": {},
   "outputs": [
    {
     "data": {
      "text/html": [
       "<div>\n",
       "<style scoped>\n",
       "    .dataframe tbody tr th:only-of-type {\n",
       "        vertical-align: middle;\n",
       "    }\n",
       "\n",
       "    .dataframe tbody tr th {\n",
       "        vertical-align: top;\n",
       "    }\n",
       "\n",
       "    .dataframe thead th {\n",
       "        text-align: right;\n",
       "    }\n",
       "</style>\n",
       "<table border=\"1\" class=\"dataframe\">\n",
       "  <thead>\n",
       "    <tr style=\"text-align: right;\">\n",
       "      <th></th>\n",
       "      <th>PI-PROD</th>\n",
       "      <th>PI-POKR</th>\n",
       "      <th>Prc</th>\n",
       "      <th>Psm</th>\n",
       "      <th>Pnr</th>\n",
       "      <th>Pw</th>\n",
       "      <th>PI-PLOD</th>\n",
       "      <th>CRj</th>\n",
       "      <th>CRk</th>\n",
       "      <th>PP</th>\n",
       "      <th>...</th>\n",
       "      <th>ŁÓDZKIE</th>\n",
       "      <th>ŚLĄSKIE</th>\n",
       "      <th>ŚWIĘTOKRZYSKIE</th>\n",
       "      <th>2015</th>\n",
       "      <th>2016</th>\n",
       "      <th>2017</th>\n",
       "      <th>2018</th>\n",
       "      <th>2019</th>\n",
       "      <th>2020</th>\n",
       "      <th>2021</th>\n",
       "    </tr>\n",
       "  </thead>\n",
       "  <tbody>\n",
       "    <tr>\n",
       "      <th>0</th>\n",
       "      <td>137</td>\n",
       "      <td>127</td>\n",
       "      <td>121</td>\n",
       "      <td>113</td>\n",
       "      <td>106</td>\n",
       "      <td>128</td>\n",
       "      <td>109</td>\n",
       "      <td>107</td>\n",
       "      <td>110</td>\n",
       "      <td>101</td>\n",
       "      <td>...</td>\n",
       "      <td>0</td>\n",
       "      <td>0</td>\n",
       "      <td>0</td>\n",
       "      <td>0</td>\n",
       "      <td>0</td>\n",
       "      <td>0</td>\n",
       "      <td>0</td>\n",
       "      <td>0</td>\n",
       "      <td>1</td>\n",
       "      <td>0</td>\n",
       "    </tr>\n",
       "    <tr>\n",
       "      <th>1</th>\n",
       "      <td>126</td>\n",
       "      <td>123</td>\n",
       "      <td>109</td>\n",
       "      <td>113</td>\n",
       "      <td>103</td>\n",
       "      <td>128</td>\n",
       "      <td>114</td>\n",
       "      <td>114</td>\n",
       "      <td>113</td>\n",
       "      <td>94</td>\n",
       "      <td>...</td>\n",
       "      <td>0</td>\n",
       "      <td>0</td>\n",
       "      <td>0</td>\n",
       "      <td>0</td>\n",
       "      <td>0</td>\n",
       "      <td>0</td>\n",
       "      <td>1</td>\n",
       "      <td>0</td>\n",
       "      <td>0</td>\n",
       "      <td>0</td>\n",
       "    </tr>\n",
       "    <tr>\n",
       "      <th>2</th>\n",
       "      <td>126</td>\n",
       "      <td>120</td>\n",
       "      <td>110</td>\n",
       "      <td>107</td>\n",
       "      <td>102</td>\n",
       "      <td>124</td>\n",
       "      <td>113</td>\n",
       "      <td>112</td>\n",
       "      <td>117</td>\n",
       "      <td>94</td>\n",
       "      <td>...</td>\n",
       "      <td>0</td>\n",
       "      <td>0</td>\n",
       "      <td>0</td>\n",
       "      <td>0</td>\n",
       "      <td>0</td>\n",
       "      <td>0</td>\n",
       "      <td>0</td>\n",
       "      <td>0</td>\n",
       "      <td>1</td>\n",
       "      <td>0</td>\n",
       "    </tr>\n",
       "    <tr>\n",
       "      <th>3</th>\n",
       "      <td>133</td>\n",
       "      <td>111</td>\n",
       "      <td>104</td>\n",
       "      <td>110</td>\n",
       "      <td>99</td>\n",
       "      <td>114</td>\n",
       "      <td>114</td>\n",
       "      <td>113</td>\n",
       "      <td>126</td>\n",
       "      <td>89</td>\n",
       "      <td>...</td>\n",
       "      <td>0</td>\n",
       "      <td>0</td>\n",
       "      <td>0</td>\n",
       "      <td>0</td>\n",
       "      <td>0</td>\n",
       "      <td>0</td>\n",
       "      <td>0</td>\n",
       "      <td>0</td>\n",
       "      <td>1</td>\n",
       "      <td>0</td>\n",
       "    </tr>\n",
       "    <tr>\n",
       "      <th>4</th>\n",
       "      <td>125</td>\n",
       "      <td>115</td>\n",
       "      <td>91</td>\n",
       "      <td>95</td>\n",
       "      <td>101</td>\n",
       "      <td>124</td>\n",
       "      <td>134</td>\n",
       "      <td>129</td>\n",
       "      <td>133</td>\n",
       "      <td>102</td>\n",
       "      <td>...</td>\n",
       "      <td>0</td>\n",
       "      <td>0</td>\n",
       "      <td>0</td>\n",
       "      <td>0</td>\n",
       "      <td>0</td>\n",
       "      <td>0</td>\n",
       "      <td>0</td>\n",
       "      <td>0</td>\n",
       "      <td>1</td>\n",
       "      <td>0</td>\n",
       "    </tr>\n",
       "    <tr>\n",
       "      <th>...</th>\n",
       "      <td>...</td>\n",
       "      <td>...</td>\n",
       "      <td>...</td>\n",
       "      <td>...</td>\n",
       "      <td>...</td>\n",
       "      <td>...</td>\n",
       "      <td>...</td>\n",
       "      <td>...</td>\n",
       "      <td>...</td>\n",
       "      <td>...</td>\n",
       "      <td>...</td>\n",
       "      <td>...</td>\n",
       "      <td>...</td>\n",
       "      <td>...</td>\n",
       "      <td>...</td>\n",
       "      <td>...</td>\n",
       "      <td>...</td>\n",
       "      <td>...</td>\n",
       "      <td>...</td>\n",
       "      <td>...</td>\n",
       "      <td>...</td>\n",
       "    </tr>\n",
       "    <tr>\n",
       "      <th>184</th>\n",
       "      <td>134</td>\n",
       "      <td>119</td>\n",
       "      <td>112</td>\n",
       "      <td>115</td>\n",
       "      <td>106</td>\n",
       "      <td>118</td>\n",
       "      <td>102</td>\n",
       "      <td>103</td>\n",
       "      <td>108</td>\n",
       "      <td>92</td>\n",
       "      <td>...</td>\n",
       "      <td>0</td>\n",
       "      <td>0</td>\n",
       "      <td>0</td>\n",
       "      <td>0</td>\n",
       "      <td>0</td>\n",
       "      <td>0</td>\n",
       "      <td>0</td>\n",
       "      <td>0</td>\n",
       "      <td>1</td>\n",
       "      <td>0</td>\n",
       "    </tr>\n",
       "    <tr>\n",
       "      <th>185</th>\n",
       "      <td>132</td>\n",
       "      <td>117</td>\n",
       "      <td>103</td>\n",
       "      <td>103</td>\n",
       "      <td>107</td>\n",
       "      <td>119</td>\n",
       "      <td>93</td>\n",
       "      <td>94</td>\n",
       "      <td>102</td>\n",
       "      <td>96</td>\n",
       "      <td>...</td>\n",
       "      <td>0</td>\n",
       "      <td>0</td>\n",
       "      <td>0</td>\n",
       "      <td>0</td>\n",
       "      <td>0</td>\n",
       "      <td>0</td>\n",
       "      <td>1</td>\n",
       "      <td>0</td>\n",
       "      <td>0</td>\n",
       "      <td>0</td>\n",
       "    </tr>\n",
       "    <tr>\n",
       "      <th>186</th>\n",
       "      <td>120</td>\n",
       "      <td>109</td>\n",
       "      <td>106</td>\n",
       "      <td>97</td>\n",
       "      <td>96</td>\n",
       "      <td>115</td>\n",
       "      <td>120</td>\n",
       "      <td>114</td>\n",
       "      <td>134</td>\n",
       "      <td>100</td>\n",
       "      <td>...</td>\n",
       "      <td>0</td>\n",
       "      <td>0</td>\n",
       "      <td>0</td>\n",
       "      <td>0</td>\n",
       "      <td>0</td>\n",
       "      <td>0</td>\n",
       "      <td>0</td>\n",
       "      <td>1</td>\n",
       "      <td>0</td>\n",
       "      <td>0</td>\n",
       "    </tr>\n",
       "    <tr>\n",
       "      <th>187</th>\n",
       "      <td>113</td>\n",
       "      <td>114</td>\n",
       "      <td>97</td>\n",
       "      <td>94</td>\n",
       "      <td>103</td>\n",
       "      <td>120</td>\n",
       "      <td>114</td>\n",
       "      <td>104</td>\n",
       "      <td>115</td>\n",
       "      <td>132</td>\n",
       "      <td>...</td>\n",
       "      <td>1</td>\n",
       "      <td>0</td>\n",
       "      <td>0</td>\n",
       "      <td>0</td>\n",
       "      <td>0</td>\n",
       "      <td>0</td>\n",
       "      <td>1</td>\n",
       "      <td>0</td>\n",
       "      <td>0</td>\n",
       "      <td>0</td>\n",
       "    </tr>\n",
       "    <tr>\n",
       "      <th>188</th>\n",
       "      <td>126</td>\n",
       "      <td>117</td>\n",
       "      <td>107</td>\n",
       "      <td>100</td>\n",
       "      <td>104</td>\n",
       "      <td>121</td>\n",
       "      <td>110</td>\n",
       "      <td>107</td>\n",
       "      <td>119</td>\n",
       "      <td>101</td>\n",
       "      <td>...</td>\n",
       "      <td>0</td>\n",
       "      <td>0</td>\n",
       "      <td>0</td>\n",
       "      <td>0</td>\n",
       "      <td>0</td>\n",
       "      <td>0</td>\n",
       "      <td>0</td>\n",
       "      <td>0</td>\n",
       "      <td>1</td>\n",
       "      <td>0</td>\n",
       "    </tr>\n",
       "  </tbody>\n",
       "</table>\n",
       "<p>1875 rows × 47 columns</p>\n",
       "</div>"
      ],
      "text/plain": [
       "     PI-PROD  PI-POKR  Prc  Psm  Pnr   Pw  PI-PLOD  CRj  CRk   PP  ...  \\\n",
       "0        137      127  121  113  106  128      109  107  110  101  ...   \n",
       "1        126      123  109  113  103  128      114  114  113   94  ...   \n",
       "2        126      120  110  107  102  124      113  112  117   94  ...   \n",
       "3        133      111  104  110   99  114      114  113  126   89  ...   \n",
       "4        125      115   91   95  101  124      134  129  133  102  ...   \n",
       "..       ...      ...  ...  ...  ...  ...      ...  ...  ...  ...  ...   \n",
       "184      134      119  112  115  106  118      102  103  108   92  ...   \n",
       "185      132      117  103  103  107  119       93   94  102   96  ...   \n",
       "186      120      109  106   97   96  115      120  114  134  100  ...   \n",
       "187      113      114   97   94  103  120      114  104  115  132  ...   \n",
       "188      126      117  107  100  104  121      110  107  119  101  ...   \n",
       "\n",
       "     ŁÓDZKIE  ŚLĄSKIE  ŚWIĘTOKRZYSKIE  2015  2016  2017  2018  2019  2020  \\\n",
       "0          0        0               0     0     0     0     0     0     1   \n",
       "1          0        0               0     0     0     0     1     0     0   \n",
       "2          0        0               0     0     0     0     0     0     1   \n",
       "3          0        0               0     0     0     0     0     0     1   \n",
       "4          0        0               0     0     0     0     0     0     1   \n",
       "..       ...      ...             ...   ...   ...   ...   ...   ...   ...   \n",
       "184        0        0               0     0     0     0     0     0     1   \n",
       "185        0        0               0     0     0     0     1     0     0   \n",
       "186        0        0               0     0     0     0     0     1     0   \n",
       "187        1        0               0     0     0     0     1     0     0   \n",
       "188        0        0               0     0     0     0     0     0     1   \n",
       "\n",
       "     2021  \n",
       "0       0  \n",
       "1       0  \n",
       "2       0  \n",
       "3       0  \n",
       "4       0  \n",
       "..    ...  \n",
       "184     0  \n",
       "185     0  \n",
       "186     0  \n",
       "187     0  \n",
       "188     0  \n",
       "\n",
       "[1875 rows x 47 columns]"
      ]
     },
     "execution_count": 12,
     "metadata": {},
     "output_type": "execute_result"
    }
   ],
   "source": [
    "caly_df"
   ]
  },
  {
   "cell_type": "code",
   "execution_count": 13,
   "metadata": {},
   "outputs": [
    {
     "name": "stdout",
     "output_type": "stream",
     "text": [
      "<class 'pandas.core.frame.DataFrame'>\n",
      "Int64Index: 1875 entries, 0 to 188\n",
      "Data columns (total 47 columns):\n",
      " #   Column               Non-Null Count  Dtype  \n",
      "---  ------               --------------  -----  \n",
      " 0   PI-PROD              1875 non-null   int64  \n",
      " 1   PI-POKR              1875 non-null   int64  \n",
      " 2   Prc                  1875 non-null   int64  \n",
      " 3   Psm                  1875 non-null   int64  \n",
      " 4   Pnr                  1875 non-null   int64  \n",
      " 5   Pw                   1875 non-null   int64  \n",
      " 6   PI-PLOD              1875 non-null   int64  \n",
      " 7   CRj                  1875 non-null   int64  \n",
      " 8   CRk                  1875 non-null   int64  \n",
      " 9   PP                   1875 non-null   int64  \n",
      " 10  OMC                  1875 non-null   int64  \n",
      " 11  WH-KSOM              1875 non-null   int64  \n",
      " 12  WH-DLUG              1875 non-null   int64  \n",
      " 13  IP                   1875 non-null   int64  \n",
      " 14  kg ml                1875 non-null   int64  \n",
      " 15  kg tł                1875 non-null   int64  \n",
      " 16  % tł                 1875 non-null   int64  \n",
      " 17  kg bi                1875 non-null   int64  \n",
      " 18  % bi                 1875 non-null   int64  \n",
      " 19  rc                   1875 non-null   float64\n",
      " 20  sm                   1875 non-null   float64\n",
      " 21  nr                   1875 non-null   float64\n",
      " 22  w                    1875 non-null   float64\n",
      " 23  og                   1875 non-null   float64\n",
      " 24  DOLNOŚLĄSKIE         1875 non-null   uint8  \n",
      " 25  KUJAWSKO-POMORSKIE   1875 non-null   uint8  \n",
      " 26  LUBELSKIE            1875 non-null   uint8  \n",
      " 27  LUBUSKIE             1875 non-null   uint8  \n",
      " 28  MAZOWIECKIE          1875 non-null   uint8  \n",
      " 29  MAŁOPOLSKIE          1875 non-null   uint8  \n",
      " 30  OPOLSKIE             1875 non-null   uint8  \n",
      " 31  PODKARPACKIE         1875 non-null   uint8  \n",
      " 32  PODLASKIE            1875 non-null   uint8  \n",
      " 33  POMORSKIE            1875 non-null   uint8  \n",
      " 34  WARMIŃSKO-MAZURSKIE  1875 non-null   uint8  \n",
      " 35  WIELKOPOLSKIE        1875 non-null   uint8  \n",
      " 36  ZACHODNIOPOMORSKIE   1875 non-null   uint8  \n",
      " 37  ŁÓDZKIE              1875 non-null   uint8  \n",
      " 38  ŚLĄSKIE              1875 non-null   uint8  \n",
      " 39  ŚWIĘTOKRZYSKIE       1875 non-null   uint8  \n",
      " 40  2015                 1875 non-null   uint8  \n",
      " 41  2016                 1875 non-null   uint8  \n",
      " 42  2017                 1875 non-null   uint8  \n",
      " 43  2018                 1875 non-null   uint8  \n",
      " 44  2019                 1875 non-null   uint8  \n",
      " 45  2020                 1875 non-null   uint8  \n",
      " 46  2021                 1875 non-null   uint8  \n",
      "dtypes: float64(5), int64(19), uint8(23)\n",
      "memory usage: 408.3 KB\n"
     ]
    }
   ],
   "source": [
    "caly_df.info()"
   ]
  },
  {
   "cell_type": "markdown",
   "metadata": {},
   "source": [
    "## 4.5 Tworze zestaw FE"
   ]
  },
  {
   "cell_type": "code",
   "execution_count": 14,
   "metadata": {},
   "outputs": [],
   "source": [
    "fe_df = caly_df.copy()\n",
    "\n",
    "fe_df['IP|Psm']=fe_df['IP']/fe_df['Psm']\n",
    "fe_df['kg tł|sm']=fe_df['kg tł']/fe_df['sm']\n",
    "fe_df['PP|OMC']=fe_df['PP']/fe_df['OMC']\n",
    "fe_df['Pnr|nr']=fe_df['Pnr']/fe_df['nr']\n",
    "\n",
    "\n",
    "del fe_df['IP']\n",
    "del fe_df['Psm']\n",
    "del fe_df['kg tł']\n",
    "del fe_df['sm']\n",
    "del fe_df['PP']\n",
    "del fe_df['OMC']\n",
    "del fe_df['Pnr']\n",
    "del fe_df['nr']\n",
    "\n",
    "fe_df = np.array(fe_df)\n",
    "\n",
    "caly_label = np.array(caly_label)"
   ]
  },
  {
   "cell_type": "markdown",
   "metadata": {},
   "source": [
    "### 5. Tworzę metrykę do oceny dobierania parametrów\n"
   ]
  },
  {
   "cell_type": "code",
   "execution_count": 15,
   "metadata": {},
   "outputs": [],
   "source": [
    "mae_scorer = make_scorer(mean_absolute_error)"
   ]
  },
  {
   "cell_type": "markdown",
   "metadata": {},
   "source": [
    "## 6 Modele"
   ]
  },
  {
   "cell_type": "markdown",
   "metadata": {},
   "source": [
    "gradient boosting i XGBR nie wymagają standaryzacji"
   ]
  },
  {
   "cell_type": "markdown",
   "metadata": {},
   "source": [
    "caly_df_zapas=caly_df"
   ]
  },
  {
   "cell_type": "markdown",
   "metadata": {},
   "source": [
    "# 9. XGBR-Regressor"
   ]
  },
  {
   "cell_type": "markdown",
   "metadata": {},
   "source": [
    "## 9.1 XGBR-Regressor dobieram zmienne"
   ]
  },
  {
   "cell_type": "code",
   "execution_count": 16,
   "metadata": {},
   "outputs": [],
   "source": [
    "estimator=xgb.XGBRegressor()\n",
    "selector = RFECV(estimator, step=1, cv=2,scoring=mae_scorer)\n",
    "selector2 = selector.fit(caly_df, caly_label)                   "
   ]
  },
  {
   "cell_type": "code",
   "execution_count": 27,
   "metadata": {
    "scrolled": true
   },
   "outputs": [
    {
     "name": "stdout",
     "output_type": "stream",
     "text": [
      "WH-KSOM\n",
      "2020\n",
      "2018\n",
      "2017\n",
      "WH-DLUG\n",
      "PI-PROD\n",
      "IP\n",
      "CRk\n",
      "OMC\n",
      "kg ml\n",
      "PI-PLOD\n",
      "2021\n",
      "rc\n",
      "kg tł\n",
      "kg bi\n",
      "Psm\n",
      "CRj\n",
      "% bi\n",
      "Prc\n",
      "2019\n",
      "PP\n",
      "% tł\n",
      "nr\n",
      "og\n",
      "w\n",
      "Pw\n",
      "sm\n",
      "ZACHODNIOPOMORSKIE\n",
      "PODLASKIE\n",
      "WIELKOPOLSKIE\n",
      "LUBUSKIE\n",
      "2016\n",
      "PI-POKR\n",
      "OPOLSKIE\n",
      "KUJAWSKO-POMORSKIE\n",
      "ŚLĄSKIE\n",
      "MAZOWIECKIE\n",
      "ŁÓDZKIE\n",
      "POMORSKIE\n",
      "Pnr\n",
      "WARMIŃSKO-MAZURSKIE\n",
      "ŚWIĘTOKRZYSKIE\n",
      "MAŁOPOLSKIE\n",
      "DOLNOŚLĄSKIE\n",
      "2015\n",
      "LUBELSKIE\n",
      "PODKARPACKIE\n"
     ]
    }
   ],
   "source": [
    "kombinacje=[]\n",
    "nazwy_kolumn=caly_df.columns\n",
    "dictionary = dict(zip(nazwy_kolumn, selector2.ranking_))\n",
    "dictionary= dict(sorted(dictionary.items(), key=lambda item: item[1]))\n",
    "for x in dictionary.keys():\n",
    "    print(x)"
   ]
  },
  {
   "cell_type": "code",
   "execution_count": 28,
   "metadata": {},
   "outputs": [],
   "source": [
    "nazwy_kolumn_2=[]\n",
    "for x in dictionary.keys():\n",
    "    nazwy_kolumn_2.append(x)"
   ]
  },
  {
   "cell_type": "code",
   "execution_count": 29,
   "metadata": {},
   "outputs": [],
   "source": [
    "dane_do_porownania=pd.DataFrame(columns=[\"Liczba zmiennych\",\n",
    "                                    \"Błąd\"])\n",
    "glowne_wyniki=[]\n",
    "glowne_zmienne=[]\n",
    "for i in range(0,len(nazwy_kolumn_2)):\n",
    "    zmienne=[]\n",
    "    for q in range(0,i+1):\n",
    "        zmienne.append(nazwy_kolumn_2[q])\n",
    "    kombinacje.append(zmienne)\n",
    "    data_frame=caly_df_zapas[zmienne]\n",
    "    kfold = KFold(n_splits=5, shuffle=False)\n",
    "\n",
    "    data_frame = np.array(data_frame)\n",
    "    caly_label = np.array(caly_label)\n",
    "    \n",
    "    wyniki=[]\n",
    "    \n",
    "    for train, test in kfold.split(data_frame, caly_label):\n",
    "        reg = xgb.XGBRegressor()\n",
    "        reg.fit(data_frame[train], caly_label[train])\n",
    "        predykcje=reg.predict(data_frame[test])\n",
    "        \n",
    "        dane_folda=pd.DataFrame({\"pred\": predykcje.ravel(),\n",
    "                                    \"obs\": caly_label[test]\n",
    "                                })\n",
    "        \n",
    "        dane_folda['blad']=abs(dane_folda['obs']-dane_folda['pred'])\n",
    "        mae=dane_folda['blad'].sum()/len(dane_folda['blad'])\n",
    "        wyniki.append(mae)\n",
    "        \n",
    "    wynik=sum(wyniki)/len(wyniki)\n",
    "    glowne_wyniki.append(wynik)\n",
    "    glowne_zmienne.append(i)\n",
    "    \n",
    "dane_do_porownania[\"Liczba zmiennych\"]=glowne_zmienne\n",
    "dane_do_porownania[\"Błąd\"]=glowne_wyniki    \n",
    "\n",
    "\n"
   ]
  },
  {
   "cell_type": "code",
   "execution_count": 30,
   "metadata": {},
   "outputs": [
    {
     "name": "stdout",
     "output_type": "stream",
     "text": [
      "['WH-KSOM', 2020, 2018, 2017, 'WH-DLUG', 'PI-PROD', 'IP', 'CRk', 'OMC', 'kg ml', 'PI-PLOD', 2021, 'rc', 'kg tł']\n"
     ]
    }
   ],
   "source": [
    "index=list(dane_do_porownania[\"Błąd\"]).index(min(list(dane_do_porownania[\"Błąd\"])))\n",
    "\n",
    "print(index,\"\\n\",kombinacje[index])"
   ]
  },
  {
   "cell_type": "code",
   "execution_count": null,
   "metadata": {},
   "outputs": [],
   "source": []
  },
  {
   "cell_type": "code",
   "execution_count": 31,
   "metadata": {},
   "outputs": [
    {
     "name": "stdout",
     "output_type": "stream",
     "text": [
      "14\n"
     ]
    }
   ],
   "source": [
    "print(len(kombinacje[index]))"
   ]
  },
  {
   "cell_type": "code",
   "execution_count": 32,
   "metadata": {},
   "outputs": [
    {
     "data": {
      "image/png": "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\n",
      "text/plain": [
       "<Figure size 432x288 with 1 Axes>"
      ]
     },
     "metadata": {
      "needs_background": "light"
     },
     "output_type": "display_data"
    }
   ],
   "source": [
    "plt.plot(list(dane_do_porownania[\"Błąd\"]))\n",
    "plt.axvline(x=list(dane_do_porownania[\"Błąd\"]).index(min(list(dane_do_porownania[\"Błąd\"]))), color='r', linestyle='-')\n",
    "plt.show()"
   ]
  },
  {
   "cell_type": "code",
   "execution_count": 49,
   "metadata": {},
   "outputs": [],
   "source": [
    "caly_df_zapas=caly_df"
   ]
  },
  {
   "cell_type": "code",
   "execution_count": 50,
   "metadata": {},
   "outputs": [],
   "source": [
    "zestaw_caly=caly_df_zapas\n",
    "zestaw_14=caly_df_zapas[['WH-KSOM', 2020, 2018, 2017, 'WH-DLUG', 'PI-PROD', 'IP', 'CRk', 'OMC', 'kg ml', 'PI-PLOD', 2021, 'rc', 'kg tł']]\n",
    "\n",
    "zestaw_caly = np.array(zestaw_caly)\n",
    "zestaw_14 = np.array(zestaw_14)\n",
    "\n",
    "caly_label = np.array(caly_label)"
   ]
  },
  {
   "cell_type": "markdown",
   "metadata": {},
   "source": [
    "## 9.2 XGBR - hiperparametry"
   ]
  },
  {
   "cell_type": "markdown",
   "metadata": {},
   "source": [
    "### 9.2.1 XGBR - hiperparametry Wszystkie part1"
   ]
  },
  {
   "cell_type": "code",
   "execution_count": 34,
   "metadata": {},
   "outputs": [],
   "source": [
    "param_grid = {\n",
    "    'min_child_weight':range(0, 3,1), #\n",
    "    'max_delta_step':[0,1,2],\n",
    "    'subsample':[0.5,0.7,1],\n",
    "    'colsample_bytree':[0.5,0.7,1],\n",
    "    'n_estimators':[10,100,500]\n",
    "}"
   ]
  },
  {
   "cell_type": "code",
   "execution_count": 37,
   "metadata": {},
   "outputs": [
    {
     "name": "stdout",
     "output_type": "stream",
     "text": [
      "Fitting 2 folds for each of 243 candidates, totalling 486 fits\n"
     ]
    },
    {
     "data": {
      "text/plain": [
       "GridSearchCV(cv=2,\n",
       "             estimator=XGBRegressor(base_score=None, booster=None,\n",
       "                                    colsample_bylevel=None,\n",
       "                                    colsample_bynode=None,\n",
       "                                    colsample_bytree=None, gamma=None,\n",
       "                                    gpu_id=None, importance_type='gain',\n",
       "                                    interaction_constraints=None,\n",
       "                                    learning_rate=None, max_delta_step=None,\n",
       "                                    max_depth=None, min_child_weight=None,\n",
       "                                    missing=nan, monotone_constraints=None,\n",
       "                                    n_estimators=100, n_jobs=...\n",
       "                                    num_parallel_tree=None, random_state=None,\n",
       "                                    reg_alpha=None, reg_lambda=None,\n",
       "                                    scale_pos_weight=None, subsample=None,\n",
       "                                    tree_method=None, validate_parameters=None,\n",
       "                                    verbosity=None),\n",
       "             n_jobs=1,\n",
       "             param_grid={'colsample_bytree': [0.5, 0.7, 1],\n",
       "                         'max_delta_step': [0, 1, 2],\n",
       "                         'min_child_weight': range(0, 3),\n",
       "                         'n_estimators': [10, 100, 500],\n",
       "                         'subsample': [0.5, 0.7, 1]},\n",
       "             scoring='neg_mean_absolute_error', verbose=1)"
      ]
     },
     "execution_count": 37,
     "metadata": {},
     "output_type": "execute_result"
    }
   ],
   "source": [
    "XGB_1 = xgb.XGBRegressor()\n",
    "grid_search_2 = GridSearchCV(estimator = XGB_1, param_grid = param_grid, \n",
    "                          cv = 2, n_jobs = 1, verbose = 1,scoring='neg_mean_absolute_error')\n",
    "grid_search_2.fit(zestaw_caly, np.ravel(caly_label))"
   ]
  },
  {
   "cell_type": "code",
   "execution_count": 38,
   "metadata": {},
   "outputs": [
    {
     "data": {
      "text/plain": [
       "XGBRegressor(base_score=0.5, booster='gbtree', colsample_bylevel=1,\n",
       "             colsample_bynode=1, colsample_bytree=1, gamma=0, gpu_id=-1,\n",
       "             importance_type='gain', interaction_constraints='',\n",
       "             learning_rate=0.300000012, max_delta_step=0, max_depth=6,\n",
       "             min_child_weight=2, missing=nan, monotone_constraints='()',\n",
       "             n_estimators=500, n_jobs=12, num_parallel_tree=1, random_state=0,\n",
       "             reg_alpha=0, reg_lambda=1, scale_pos_weight=1, subsample=1,\n",
       "             tree_method='exact', validate_parameters=1, verbosity=None)"
      ]
     },
     "execution_count": 38,
     "metadata": {},
     "output_type": "execute_result"
    }
   ],
   "source": [
    "grid_search_2.best_estimator_"
   ]
  },
  {
   "cell_type": "code",
   "execution_count": 39,
   "metadata": {},
   "outputs": [
    {
     "data": {
      "text/plain": [
       "-44.865270260357434"
      ]
     },
     "execution_count": 39,
     "metadata": {},
     "output_type": "execute_result"
    }
   ],
   "source": [
    "grid_search_2.best_score_"
   ]
  },
  {
   "cell_type": "markdown",
   "metadata": {},
   "source": [
    "## 9.3 XGBR - hiperparametry zestaw 14"
   ]
  },
  {
   "cell_type": "markdown",
   "metadata": {},
   "source": [
    "### 9.3.1 XGBR - hiperparametry zestaw 14 part1"
   ]
  },
  {
   "cell_type": "code",
   "execution_count": 16,
   "metadata": {},
   "outputs": [],
   "source": [
    "param_grid = {\n",
    "    'min_child_weight':range(0, 3,1), #\n",
    "    'max_delta_step':[0,1,2],\n",
    "    'subsample':[0.5,0.7,1],\n",
    "    'colsample_bytree':[0.5,0.7,1],\n",
    "    'n_estimators':[10,100,500]\n",
    "}"
   ]
  },
  {
   "cell_type": "code",
   "execution_count": 17,
   "metadata": {},
   "outputs": [
    {
     "ename": "NameError",
     "evalue": "name 'zestaw_14' is not defined",
     "output_type": "error",
     "traceback": [
      "\u001b[1;31m---------------------------------------------------------------------------\u001b[0m",
      "\u001b[1;31mNameError\u001b[0m                                 Traceback (most recent call last)",
      "\u001b[1;32m<ipython-input-17-8145ee89ac88>\u001b[0m in \u001b[0;36m<module>\u001b[1;34m\u001b[0m\n\u001b[0;32m      2\u001b[0m grid_search_2 = GridSearchCV(estimator = XGB_1, param_grid = param_grid, \n\u001b[0;32m      3\u001b[0m                           cv = 2, n_jobs = 1, verbose = 1,scoring='neg_mean_absolute_error')\n\u001b[1;32m----> 4\u001b[1;33m \u001b[0mgrid_search_2\u001b[0m\u001b[1;33m.\u001b[0m\u001b[0mfit\u001b[0m\u001b[1;33m(\u001b[0m\u001b[0mzestaw_14\u001b[0m\u001b[1;33m,\u001b[0m \u001b[0mnp\u001b[0m\u001b[1;33m.\u001b[0m\u001b[0mravel\u001b[0m\u001b[1;33m(\u001b[0m\u001b[0mcaly_label\u001b[0m\u001b[1;33m)\u001b[0m\u001b[1;33m)\u001b[0m\u001b[1;33m\u001b[0m\u001b[1;33m\u001b[0m\u001b[0m\n\u001b[0m",
      "\u001b[1;31mNameError\u001b[0m: name 'zestaw_14' is not defined"
     ]
    }
   ],
   "source": [
    "XGB_1 = xgb.XGBRegressor()\n",
    "grid_search_2 = GridSearchCV(estimator = XGB_1, param_grid = param_grid, \n",
    "                          cv = 2, n_jobs = 1, verbose = 1,scoring='neg_mean_absolute_error')\n",
    "grid_search_2.fit(zestaw_14, np.ravel(caly_label))"
   ]
  },
  {
   "cell_type": "code",
   "execution_count": 42,
   "metadata": {},
   "outputs": [
    {
     "data": {
      "text/plain": [
       "XGBRegressor(base_score=0.5, booster='gbtree', colsample_bylevel=1,\n",
       "             colsample_bynode=1, colsample_bytree=1, gamma=0, gpu_id=-1,\n",
       "             importance_type='gain', interaction_constraints='',\n",
       "             learning_rate=0.300000012, max_delta_step=0, max_depth=6,\n",
       "             min_child_weight=2, missing=nan, monotone_constraints='()',\n",
       "             n_estimators=500, n_jobs=12, num_parallel_tree=1, random_state=0,\n",
       "             reg_alpha=0, reg_lambda=1, scale_pos_weight=1, subsample=1,\n",
       "             tree_method='exact', validate_parameters=1, verbosity=None)"
      ]
     },
     "execution_count": 42,
     "metadata": {},
     "output_type": "execute_result"
    }
   ],
   "source": [
    "grid_search_2.best_estimator_"
   ]
  },
  {
   "cell_type": "code",
   "execution_count": 43,
   "metadata": {},
   "outputs": [
    {
     "data": {
      "text/plain": [
       "-43.444217258299574"
      ]
     },
     "execution_count": 43,
     "metadata": {},
     "output_type": "execute_result"
    }
   ],
   "source": [
    "grid_search_2.best_score_"
   ]
  },
  {
   "cell_type": "markdown",
   "metadata": {},
   "source": [
    "## 9.4 XGBR - hiperparametry Feature Extraction"
   ]
  },
  {
   "cell_type": "code",
   "execution_count": 26,
   "metadata": {},
   "outputs": [],
   "source": [
    "param_grid = {\n",
    "    'min_child_weight':range(0, 3,1), #\n",
    "    'max_delta_step':[0,1,2],\n",
    "    'subsample':[0.5,0.7,1],\n",
    "    'colsample_bytree':[0.5,0.7,1],\n",
    "    'n_estimators':[10,100,500]\n",
    "}"
   ]
  },
  {
   "cell_type": "code",
   "execution_count": 27,
   "metadata": {},
   "outputs": [
    {
     "name": "stdout",
     "output_type": "stream",
     "text": [
      "Fitting 2 folds for each of 243 candidates, totalling 486 fits\n"
     ]
    },
   
   ],
   "source": [
    "XGB_1 = xgb.XGBRegressor()\n",
    "grid_search_2 = GridSearchCV(estimator = XGB_1, param_grid = param_grid, \n",
    "                          cv = 2, n_jobs = 1, verbose = 1,scoring='neg_mean_absolute_error')\n",
    "grid_search_2.fit(fe_df, np.ravel(caly_label))"
   ]
  },
  {
   "cell_type": "code",
   "execution_count": 20,
   "metadata": {},
   "outputs": [
    {
     "data": {
      "text/plain": [
       "XGBRegressor(base_score=0.5, booster='gbtree', colsample_bylevel=1,\n",
       "             colsample_bynode=1, colsample_bytree=0.7, gamma=0, gpu_id=-1,\n",
       "             importance_type='gain', interaction_constraints='',\n",
       "             learning_rate=0.300000012, max_delta_step=0, max_depth=6,\n",
       "             min_child_weight=2, missing=nan, monotone_constraints='()',\n",
       "             n_estimators=500, n_jobs=12, num_parallel_tree=1, random_state=0,\n",
       "             reg_alpha=0, reg_lambda=1, scale_pos_weight=1, subsample=1,\n",
       "             tree_method='exact', validate_parameters=1, verbosity=None)"
      ]
     },
     "execution_count": 20,
     "metadata": {},
     "output_type": "execute_result"
    }
   ],
   "source": [
    "grid_search_2.best_estimator_"
   ]
  },
  {
   "cell_type": "code",
   "execution_count": 21,
   "metadata": {},
   "outputs": [
    {
     "data": {
      "text/plain": [
       "-50.22845800658084"
      ]
     },
     "execution_count": 21,
     "metadata": {},
     "output_type": "execute_result"
    }
   ],
   "source": [
    "grid_search_2.best_score_"
   ]
  },
  {
   "cell_type": "markdown",
   "metadata": {},
   "source": [
    "### 8.4 Cross validacje"
   ]
  },
  {
   "cell_type": "markdown",
   "metadata": {},
   "source": [
    "### 8.4.1 całe dane"
   ]
  },
  {
   "cell_type": "code",
   "execution_count": 45,
   "metadata": {},
   "outputs": [],
   "source": [
    "kfold = KFold(n_splits=5, shuffle=False)\n",
    "dane_do_zapisu_1=pd.DataFrame()\n",
    "licznik=1\n",
    "wart_1=[]\n",
    "\n",
    "for train, test in kfold.split(zestaw_caly, caly_label):\n",
    "    GB_1 = xgb.XGBRegressor(base_score=None, booster=None,\n",
    "                                    colsample_bylevel=None,\n",
    "                                    colsample_bynode=None,\n",
    "                                    colsample_bytree=None, gamma=None,\n",
    "                                    gpu_id=None, importance_type='gain',\n",
    "                                    interaction_constraints=None,\n",
    "                                    learning_rate=None, max_delta_step=None,\n",
    "                                    max_depth=None, min_child_weight=None,\n",
    "                                    monotone_constraints=None,\n",
    "                                    n_estimators=100, \n",
    "                                    num_parallel_tree=None, random_state=None,\n",
    "                                    reg_alpha=None, reg_lambda=None,\n",
    "                                    scale_pos_weight=None, subsample=None,\n",
    "                                    tree_method=None, validate_parameters=None,\n",
    "                                    verbosity=None)\n",
    "    \n",
    "    GB_1.fit(zestaw_caly[train], caly_label[train])\n",
    "    predykcje=GB_1.predict(zestaw_caly[test])\n",
    "    dane_folda_1=pd.DataFrame({\"pred\": predykcje.ravel(),\n",
    "                                \"obs\": caly_label[test],\n",
    "                                \"Fold\":licznik})\n",
    "    dane_do_zapisu_1=pd.concat([dane_do_zapisu_1,dane_folda_1])\n",
    "    sredni_blad=mean_absolute_error(caly_label[test],predykcje)\n",
    "    wart_1.append(sredni_blad)\n",
    "    licznik+=1"
   ]
  },
  {
   "cell_type": "code",
   "execution_count": 46,
   "metadata": {},
   "outputs": [
    {
     "data": {
      "text/plain": [
       "[42.7408876953125,\n",
       " 39.306590494791664,\n",
       " 36.16114322916667,\n",
       " 34.29687760416667,\n",
       " 33.02861783854166]"
      ]
     },
     "execution_count": 46,
     "metadata": {},
     "output_type": "execute_result"
    }
   ],
   "source": [
    "wart_1"
   ]
  },
  {
   "cell_type": "code",
   "execution_count": 47,
   "metadata": {},
   "outputs": [
    {
     "data": {
      "text/plain": [
       "37.10682337239583"
      ]
     },
     "execution_count": 47,
     "metadata": {},
     "output_type": "execute_result"
    }
   ],
   "source": [
    "sum(wart_1)/len(wart_1)"
   ]
  },
  {
   "cell_type": "markdown",
   "metadata": {},
   "source": [
    "### 8.4.2 zestaw 14"
   ]
  },
  {
   "cell_type": "code",
   "execution_count": 51,
   "metadata": {},
   "outputs": [],
   "source": [
    "kfold = KFold(n_splits=5, shuffle=False)\n",
    "dane_do_zapisu_2=pd.DataFrame()\n",
    "licznik=1\n",
    "wart_2=[]\n",
    "\n",
    "for train, test in kfold.split(zestaw_14, caly_label):\n",
    "    GB_2 = xgb.XGBRegressor(base_score=0.5, booster='gbtree', colsample_bylevel=1,\n",
    "             colsample_bynode=1, colsample_bytree=1, gamma=0, gpu_id=-1,\n",
    "             importance_type='gain', interaction_constraints='',\n",
    "             learning_rate=0.300000012, max_delta_step=0, max_depth=6,\n",
    "             min_child_weight=2, monotone_constraints='()',\n",
    "             n_estimators=500, n_jobs=12, num_parallel_tree=1, random_state=0,\n",
    "             reg_alpha=0, reg_lambda=1, scale_pos_weight=1, subsample=1,\n",
    "             tree_method='exact', validate_parameters=1, verbosity=None)\n",
    "    \n",
    "    GB_2.fit(zestaw_14[train], caly_label[train])\n",
    "    predykcje=GB_2.predict(zestaw_14[test])\n",
    "    dane_folda_2=pd.DataFrame({\"pred\": predykcje.ravel(),\n",
    "                                \"obs\": caly_label[test],\n",
    "                                \"Fold\":licznik})\n",
    "    dane_do_zapisu_2=pd.concat([dane_do_zapisu_2,dane_folda_2])\n",
    "    sredni_blad=mean_absolute_error(caly_label[test],predykcje)\n",
    "    wart_2.append(sredni_blad)\n",
    "    licznik+=1"
   ]
  },
  {
   "cell_type": "code",
   "execution_count": 52,
   "metadata": {},
   "outputs": [
    {
     "data": {
      "text/plain": [
       "[37.77664485677084,\n",
       " 34.58326953125,\n",
       " 34.08535970052083,\n",
       " 30.0929990234375,\n",
       " 35.174046549479165]"
      ]
     },
     "execution_count": 52,
     "metadata": {},
     "output_type": "execute_result"
    }
   ],
   "source": [
    "wart_2"
   ]
  },
  {
   "cell_type": "code",
   "execution_count": 53,
   "metadata": {},
   "outputs": [
    {
     "data": {
      "text/plain": [
       "34.342463932291665"
      ]
     },
     "execution_count": 53,
     "metadata": {},
     "output_type": "execute_result"
    }
   ],
   "source": [
    "sum(wart_2)/len(wart_2)"
   ]
  },
  {
   "cell_type": "markdown",
   "metadata": {},
   "source": [
    "### 8.4.3 Feature Extraction"
   ]
  },
  {
   "cell_type": "code",
   "execution_count": 28,
   "metadata": {},
   "outputs": [],
   "source": [
    "kfold = KFold(n_splits=5, shuffle=False)\n",
    "dane_do_zapisu_2=pd.DataFrame()\n",
    "licznik=1\n",
    "wart_2=[]\n",
    "\n",
    "for train, test in kfold.split(fe_df, caly_label):\n",
    "    GB_2 = xgb.XGBRegressor(base_score=0.5, booster='gbtree', colsample_bylevel=1,\n",
    "             colsample_bynode=1, colsample_bytree=0.7, gamma=0, gpu_id=-1,\n",
    "             importance_type='gain', interaction_constraints='',\n",
    "             learning_rate=0.300000012, max_delta_step=0, max_depth=6,\n",
    "             min_child_weight=2, monotone_constraints='()',\n",
    "             n_estimators=500, n_jobs=12, num_parallel_tree=1, random_state=0,\n",
    "             reg_alpha=0, reg_lambda=1, scale_pos_weight=1, subsample=1,\n",
    "             tree_method='exact', validate_parameters=1, verbosity=None)\n",
    "    \n",
    "    GB_2.fit(fe_df[train], caly_label[train])\n",
    "    predykcje=GB_2.predict(fe_df[test])\n",
    "    dane_folda_2=pd.DataFrame({\"pred\": predykcje.ravel(),\n",
    "                                \"obs\": caly_label[test],\n",
    "                                \"Fold\":licznik})\n",
    "    dane_do_zapisu_2=pd.concat([dane_do_zapisu_2,dane_folda_2])\n",
    "    sredni_blad=mean_absolute_error(caly_label[test],predykcje)\n",
    "    wart_2.append(sredni_blad)\n",
    "    licznik+=1"
   ]
  },
  {
   "cell_type": "code",
   "execution_count": 29,
   "metadata": {},
   "outputs": [
    {
     "data": {
      "text/plain": [
       "[45.113127604166664,\n",
       " 40.36754557291667,\n",
       " 39.86549772135417,\n",
       " 39.634375,\n",
       " 40.86258203125]"
      ]
     },
     "execution_count": 29,
     "metadata": {},
     "output_type": "execute_result"
    }
   ],
   "source": [
    "wart_2"
   ]
  },
  {
   "cell_type": "code",
   "execution_count": 30,
   "metadata": {},
   "outputs": [
    {
     "data": {
      "text/plain": [
       "41.168625585937505"
      ]
     },
     "execution_count": 30,
     "metadata": {},
     "output_type": "execute_result"
    }
   ],
   "source": [
    "sum(wart_2)/len(wart_2)"
   ]
  },
  {
   "cell_type": "code",
   "execution_count": null,
   "metadata": {},
   "outputs": [],
   "source": []
  },
  {
   "cell_type": "markdown",
   "metadata": {},
   "source": [
    "## 8.3 Zapisuje predykcje XGBR zestaw 15"
   ]
  },
  {
   "cell_type": "code",
   "execution_count": 54,
   "metadata": {},
   "outputs": [],
   "source": [
    "dane_do_zapisu_2.to_csv(\"D:/STUDIA/ROK_II/Projekt/Predykcje_i błędy/Okres Między Ciążowy/06 09/IE_XGB_FS 06 09.csv\")"
   ]
  },
  {
   "cell_type": "code",
   "execution_count": null,
   "metadata": {},
   "outputs": [],
   "source": []
  }
 ],
 "metadata": {
  "colab": {
   "collapsed_sections": [],
   "name": "continues_variable_modelling_basic_regression.ipynb",
   "provenance": []
  },
  "kernelspec": {
   "display_name": "Python 3",
   "language": "python",
   "name": "python3"
  },
  "language_info": {
   "codemirror_mode": {
    "name": "ipython",
    "version": 3
   },
   "file_extension": ".py",
   "mimetype": "text/x-python",
   "name": "python",
   "nbconvert_exporter": "python",
   "pygments_lexer": "ipython3",
   "version": "3.7.10"
  }
 },
 "nbformat": 4,
 "nbformat_minor": 1
}
